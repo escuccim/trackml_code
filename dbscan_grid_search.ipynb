{
 "cells": [
  {
   "cell_type": "code",
   "execution_count": 1,
   "metadata": {
    "_cell_guid": "e081740e-8169-4481-b1df-f5dd5488314f",
    "_uuid": "0bee86255243664f24e4bcf48af2228a3100a8b7"
   },
   "outputs": [],
   "source": [
    "%matplotlib inline\n",
    "import matplotlib.pyplot as plt\n",
    "import numpy as np\n",
    "import pandas as pd\n",
    "import os\n",
    "import math\n",
    "\n",
    "from trackml.dataset import load_event, load_dataset\n",
    "from trackml.score import score_event\n",
    "\n",
    "from multiprocessing import Pool\n",
    "\n",
    "from itertools import product\n",
    "\n",
    "def create_one_event_submission(event_id, hits, labels):\n",
    "    sub_data = np.column_stack(([event_id]*len(hits), hits.hit_id.values, labels))\n",
    "    submission = pd.DataFrame(data=sub_data, columns=[\"event_id\", \"hit_id\", \"track_id\"]).astype(int)\n",
    "    return submission"
   ]
  },
  {
   "cell_type": "code",
   "execution_count": 2,
   "metadata": {
    "_cell_guid": "572fcbb6-8c7b-4a09-8916-8ec76689130f",
    "_uuid": "63414de98667e95f60407c9155899a25a321cffc"
   },
   "outputs": [],
   "source": [
    "# Change this according to your directory preferred setting\n",
    "path_to_train = \"./data/train_1\"\n",
    "\n",
    "# This event is in Train_1\n",
    "event_prefix = \"event000001000\""
   ]
  },
  {
   "cell_type": "code",
   "execution_count": 3,
   "metadata": {},
   "outputs": [],
   "source": [
    "weights_0 = np.array([1.1, 1.1, .375, .25, 0.05, 0.05, 0])\n",
    "weights_2 = np.array([1.05, 1.05, .37, .25, .01, .045, 0])\n",
    "weights_3 = np.array([1.08, 1.08, .38,.25, 0.009, 0.0001, 0])\n",
    "weights_4 = np.array([1.1, 1.1, .5, .25, 0.008, 0.001, 0])\n",
    "weights_5 = np.array([1.01, 1.01, .4048, .2, 2e-16, 2e-16, 0])\n",
    "weights_9 = np.array([1.02, 1.02, .38, .25, 0.009, 0.02, 0])\n",
    "\n",
    "weights_1 = np.array([1.08, 1.08, .38,.25, 0.0001, 0.0001, 0])\n",
    "weights_6 = np.array([1.08, 1.08, .38, .25, 2e-4, 0, 0])\n",
    "weights_8 = np.array([1.07, 1.07, .37, .25, 0.0002, 0.0001, 0])\n",
    "weights_12 = np.array([1.01, 1.01, .42, .25, 0.0023, 0.001, 0])\n",
    "weights_13 = np.array([1.0, 1.0, .40, .20, 0.0023, 0.0001, 0])\n",
    "weights_14 = np.array([1.02, 1.02, .40, .24, 0.0002, 0, 0])\n",
    "weights_7 = np.array([1.08, 1.08, .40, .20, 0.0023, 0, 0])\n",
    "\n",
    "weights_10 = np.array([1.02, 1.02, .42, .24, 0.0002, 0, 0])\n",
    "weights_11 = np.array([1.08, 1.08, .40, .20, 0.0023, 0.0001, 0])\n",
    "weights_15 = np.array([1.01, 1.01, .42, .25, 0.0002, 0, 0])\n",
    "weights_16 = np.array([1.005, 1.005, .40, .25, 0.0002, 0, 0])\n",
    "weights_17 = np.array([1.02, 1.02, .42, .24, 0.02, 0, 0])\n",
    "weights_18 = np.array([1.033, 1.033, .376, .2, 0.0002, 0, 0])\n",
    "weights_19 = np.array([0.9734, 0.9734, .4072, .2217, 0.0, 0.0, 0])\n",
    "weights_20 = np.array([1.0, 1.0, .42, .24, 0.0, 0, 0])\n",
    "weights_21 = np.array([1.02, 1.02, .42, .24, 0.0, 0, 0])\n",
    "weights_22 = np.array([1.05, 1.05, .4, .25, 0.0, 0, 0])\n",
    "weights_23 = np.array([1.05, 1.05, .5, .25, 0.0, 0, 0])\n",
    "weights_24 = np.array([1.05, 1.05, .4, .20, 0.0, 0, 0])\n",
    "weights_26 = np.array([1.2, 1.2, .45, .15, 0.0, 0, 0])\n",
    "weights_27 = np.array([1.2, 1.2, .45, .20, 0.0, 0, 0])\n",
    "weights_28 = np.array([1.2, 1.2, .45, .25, 0.0, 0, 0])\n",
    "weights_29 = np.array([1.09, 1.09, .5, .20, 0.0, 0, 0])\n",
    "weights_25 = np.array([1.09, 1.09, .45, .20, 0.0, 0, 0])\n",
    "weights_30 = np.array([0.9, .9, .35, .15, 0.0, 0.007, 0.007])\n",
    "weights_31 = np.array([1.09, 1.09, .45, .20, 0.0, 0.005, 0.005])\n",
    "weights_34 = np.array([1.09, 1.09, .45, .20, 0.0, 0.01, 0.01])\n",
    "weights_36 = np.array([1.0, 1.0, .35, .2, 0.0, 0.02, 0.02])\n",
    "weights_32 = np.array([0.9, .9, .35, .2, 0.0, 0.01, 0.01])\n",
    "weights_33 = np.array([1.0, 1.0, .35, .2, 0.0, 0.01, 0.01])\n",
    "weights_37 = np.array([0.9, .9, .4, .2, 0.0, 0.015, 0.015]) # raise w4\n",
    "weights_38 = np.array([0.9, .9, .4, .25, 0.0, 0.01, 0.01])  # raise w3\n",
    "weights_39 = np.array([0.9, .9, .45, .2, 0.0, 0.01, 0.01])\n",
    "weights_40 = np.array([0.95, .95, .4, .2, 0.0, 0.01, 0.01])\n",
    "weights_41 = np.array([0.95, .95, .45, .2, 0.0, 0.01, 0.01])  # 38 + 40\n",
    "weights_42 = np.array([0.95, .95, .4, .2, 0.0, 0.008, 0.008]) # w4 lowered\n",
    "weights_43 = np.array([1.0, 1.0, .4, .2, 0.0, 0.01, 0.01])    # w1 raised\n",
    "weights_44 = np.array([0.95, .95, .4, .2, 0.0, 0.012, 0.012]) # w4 raised\n",
    "weights_45 = np.array([1.0, 1.0, .4, .2, 0.0, 0.01, 0.01])  # raise w1 from 35\n",
    "weights_46 = np.array([0.9, .9, .4, .2, 0.0, 0.009, 0.009]) # lower w4\n",
    "weights_47 = np.array([0.85, .85, .4, .2, 0.0, 0.01, 0.01]) # lower w1\n",
    "weights_49 = np.array([0.9, .9, .4, .2, 0.0, 0.007, 0.007]) # still lower w4\n",
    "weights_48 = np.array([0.9, .9, .4, .2, 0.0, 0.008, 0.008]) # lower w4\n",
    "weights_51 = np.array([0.9, .9, .4, .2, 0.0, 0.009, 0.009]) # lower w4\n",
    "weights_50 = np.array([0.9, .9, .4, .2, 0.0, 0.011, 0.011]) # higher w4\n",
    "weights_52 = np.array([0.9, .9, .4, .2, 0.0, 0.012, 0.012]) # higher w4\n",
    "weights_53 = np.array([0.9, .9, .4, .2, 0.0, 0.013, 0.013]) # higher w4\n",
    "weights_54 = np.array([0.9, .9, .4, .2, 0.0, 0.014, 0.014]) # higher w4\n",
    "weights_55 = np.array([0.9, .9, .4, .2, 0.0, 0.015, 0.015]) # higher w4\n",
    "weights_56 = np.array([0.9, .9, .5, .2, 0.0, 0.01, 0.01])     # raise w2\n",
    "weights_60 = np.array([0.7, .7, .5, .13, 0.0, 0.01, 0.01])     # raise w2, lower w1, w3\n",
    "weights_59 = np.array([0.9, .9, .55, .1, 0.0, 0.01, 0.01])     # raise w2, lower w3\n",
    "weights_35 = np.array([0.9, .9, .4, .2, 0.0, 0.01, 0.01])     \n",
    "weights_57 = np.array([0.9, .9, .5, .15, 0.0, 0.01, 0.01]) # second best\n",
    "weights_61 = np.array([0.9, .9, .4, .1, 0.0, 0.01, 0.01])  # lower w3 some more\n",
    "weights_62 = np.array([0.9, .9, .45, .1, 0.0, 0.01, 0.01])  # lower w3 and raise w2\n",
    "weights_63 = np.array([0.9, .9, .5, .1, 0.0, 0.01, 0.01])  # raise w2 some more\n",
    "weights_64 = np.array([0.9, .9, .5, .07, 0.0, 0.01, 0.01])  # raise w2 and lower w3 some more\n",
    "weights_65 = np.array([0.9, .9, .35, .15, 0.0, 0.01, 0.01])   # lower w2 a bit\n",
    "weights_66 = np.array([0.9, .9, .35, .2, 0.0, 0.01, 0.01])   # lower w2 a bit and raise w3\n",
    "weights_67 = np.array([0.95, .95, .3, .2, 0.0, 0.012, 0.012])# weights from r optimization\n",
    "weights_68 = np.array([0.96, .96, .35, .2, 0.0, 0.0085, 0.0085])# weights from r optimization\n",
    "weights_69 = np.array([0.9, .9, .4, .15, 0.0, 0.0085, 0.0085])   # w4 down\n",
    "\n",
    "weights_58 = np.array([0.9, .9, .4, .15, 0.0, 0.01, 0.01])   # best so far\n",
    "weights_70 = np.array([1.0, 1.0, .4, .1214, 0.0, 0.008, 0.008])   # w4 down\n",
    "weights_71 = np.array([0.9, 0.9, .5, .15, 0.0, 0.0085, 0.0085])   # w4 down\n",
    "\n",
    "weights_arr = np.vstack([weights_0, weights_1, weights_2, weights_3, weights_4, weights_5, weights_6, weights_7, weights_8, weights_9, weights_10, weights_11, weights_12, weights_13, weights_14,  weights_15,  weights_16,  weights_17,  weights_18,  weights_19,  weights_20,  weights_21,  weights_22,  weights_23,  weights_24,  weights_25,  weights_26,  weights_27,  weights_28,  weights_29,  weights_30,  weights_31,  weights_32,  weights_33,  weights_34,  weights_35,  weights_36,  weights_37,  weights_38,  weights_39,  weights_40,  weights_41,  weights_42,  weights_43,  weights_44,  weights_45,  weights_46,  weights_47,  weights_48,  weights_49,  weights_50,  weights_51,  weights_52,  weights_53,  weights_54,  weights_55,  weights_56,  weights_57,  weights_58,  weights_59,  weights_60,  weights_61,  weights_62,  weights_63,  weights_64,  weights_65,  weights_66,  weights_67,  weights_68,  weights_69,  weights_70,  weights_71])"
   ]
  },
  {
   "cell_type": "code",
   "execution_count": 4,
   "metadata": {
    "_cell_guid": "e06d1ed7-5091-4d67-abb4-5984b137e2e6",
    "_uuid": "c2f70ae63abffcc09a534bb17fb89df8ffddb722",
    "scrolled": true
   },
   "outputs": [],
   "source": [
    "from sklearn.preprocessing import StandardScaler\n",
    "import hdbscan\n",
    "from scipy import stats\n",
    "from tqdm import tqdm_notebook as tqdm\n",
    "from sklearn.cluster import DBSCAN\n",
    "\n",
    "class Clusterer(object):\n",
    "    def __init__(self,rz_scales=[0.65, 0.965, 1.5, 1.5], eps=0.0035, dz0 = -0.0007, stepdz = 1.5e-7, stepeps = 1.5e-09, num_loops=175, final_cluster=True, weight=58, weight_arr=weights_arr, max_size=20, step_z=0.000045, size_incr=0):\n",
    "        self.rz_scales=rz_scales\n",
    "        self.epsilon = eps\n",
    "        self.dz0 = dz0\n",
    "        self.stepdz = stepdz\n",
    "        self.stepeps = stepeps\n",
    "        self.num_loops = num_loops\n",
    "        self.final_cluster = final_cluster\n",
    "        self.weight_arr = weight_arr\n",
    "        self.weights = weight\n",
    "        self.max_size = max_size\n",
    "        self.step_z = step_z\n",
    "        self.size_incr = size_incr\n",
    "        self.min_points = 1\n",
    "        \n",
    "    # remove outliers\n",
    "    def _eliminate_outliers(self,labels,M):\n",
    "        norms=np.zeros((len(labels)),np.float32)\n",
    "        indices=np.zeros((len(labels)),np.float32)\n",
    "        for i, cluster in tqdm(enumerate(labels),total=len(labels)):\n",
    "            if cluster == 0:\n",
    "                continue\n",
    "            index = np.argwhere(self.clusters==cluster)\n",
    "            index = np.reshape(index,(index.shape[0]))\n",
    "            indices[i] = len(index)\n",
    "            x = M[index]\n",
    "            norms[i] = self._test_quadric(x)\n",
    "        threshold1 = np.percentile(norms,90)*5\n",
    "        threshold2 = 25\n",
    "        threshold3 = 5\n",
    "        for i, cluster in enumerate(labels):\n",
    "            if norms[i] > threshold1 or indices[i] > threshold2 or indices[i] < threshold3:\n",
    "                self.clusters[self.clusters==cluster]=0   \n",
    "    \n",
    "    # not sure what this function does?\n",
    "    def _test_quadric(self,x):\n",
    "        if x.size == 0 or len(x.shape)<2:\n",
    "            return 0\n",
    "        Z = np.zeros((x.shape[0],10), np.float32)\n",
    "        Z[:,0] = x[:,0]**2\n",
    "        Z[:,1] = 2*x[:,0]*x[:,1]\n",
    "        Z[:,2] = 2*x[:,0]*x[:,2]\n",
    "        Z[:,3] = 2*x[:,0]\n",
    "        Z[:,4] = x[:,1]**2\n",
    "        Z[:,5] = 2*x[:,1]*x[:,2]\n",
    "        Z[:,6] = 2*x[:,1]\n",
    "        Z[:,7] = x[:,2]**2\n",
    "        Z[:,8] = 2*x[:,2]\n",
    "        Z[:,9] = 1\n",
    "        v, s, t = np.linalg.svd(Z,full_matrices=False)        \n",
    "        smallest_index = np.argmin(np.array(s))\n",
    "        T = np.array(t)\n",
    "        T = T[smallest_index,:]        \n",
    "        norm = np.linalg.norm(np.dot(Z,T), ord=2)**2\n",
    "        return norm\n",
    "\n",
    "    # standard scale our data\n",
    "    def _preprocess(self, hits):\n",
    "        x = hits.x.values\n",
    "        y = hits.y.values\n",
    "        z = hits.z.values\n",
    "\n",
    "        r = np.sqrt(x**2 + y**2 + z**2)\n",
    "        rt = np.sqrt(x**2 + y**2)\n",
    "        \n",
    "        hits['a0'] = np.arctan2(hits['y'].values,hits['x'].values)\n",
    "        hits['a1'] = hits['a0']+1*(hits['rt']+1*hits['rt']**2)/1000*(1/2)/180*math.pi\n",
    "        \n",
    "        hits['x2'] = x/r\n",
    "        hits['y2'] = y/r\n",
    "        hits['z1'] = z/rt\n",
    "        hits['z2'] = z/r\n",
    "\n",
    "        ss = StandardScaler()\n",
    "        X = ss.fit_transform(hits[['sina1','cosa1','z1','z2', 'z3', 'x2', 'y2']].values)\n",
    "        X = np.multiply(X, self.weight_arr[self.weights])\n",
    "       \n",
    "        return X\n",
    "        \n",
    "        # original preprocess\n",
    "#         x = hits.x.values\n",
    "#         y = hits.y.values\n",
    "#         z = hits.z.values\n",
    "\n",
    "#         r = np.sqrt(x**2 + y**2 + z**2)\n",
    "#         hits['x2'] = x/r\n",
    "#         hits['y2'] = y/r\n",
    "\n",
    "#         rt = np.sqrt(x**2 + y**2)\n",
    "#         hits['z1'] = z/rt\n",
    "#         hits['z2'] = z/r\n",
    "\n",
    "#         ss = StandardScaler()\n",
    "#         X = ss.fit_transform(hits[['x2', 'y2', 'z1', 'z2']].values)\n",
    "#         for i, rz_scale in enumerate(self.rz_scales):\n",
    "#             X[:,i] = X[:,i] * rz_scale\n",
    "       \n",
    "#         return X\n",
    "    \n",
    "    def _init(self,dfh):\n",
    "        dfh['s1'] = dfh.hit_id\n",
    "        dfh['N1'] =1\n",
    "        dfh['stepped_z'] = dfh.z\n",
    "        mm = 1\n",
    "        dz0 = self.dz0\n",
    "        min_points = self.min_points\n",
    "        \n",
    "        for ii in range(self.num_loops):\n",
    "            max_size = self.max_size + (ii * self.size_incr)\n",
    "            \n",
    "            dfh['r'] = np.sqrt(dfh['x'].values**2+dfh['y'].values**2+dfh['stepped_z'].values**2)\n",
    "            dfh['rt'] = np.sqrt(dfh['x'].values**2+dfh['y'].values**2)\n",
    "            dfh['a0'] = np.arctan2(dfh['y'].values,dfh['x'].values)\n",
    "            dfh['z1'] = dfh['stepped_z'].values/dfh['rt'].values\n",
    "            \n",
    "            dfh['z2'] = dfh['stepped_z']/dfh['r']\n",
    "            dfh['x2'] = dfh['x'].values/dfh['r'].values\n",
    "            dfh['y2'] = dfh['y'].values/dfh['r'].values\n",
    "            \n",
    "            dfh['z3'] = 0 # 1/dfh['z1'].values - this feature didn't work, let's 0 it out\n",
    "            mm = mm*(-1)  \n",
    "            \n",
    "            z_step = mm * self.step_z * ii\n",
    "            dz = mm*(self.dz0+(ii*self.stepdz))\n",
    "            \n",
    "            dfh['stepped_z'] = dfh['z'] + z_step    \n",
    "            \n",
    "            dfh['a1'] = dfh['a0']+mm*(dfh['rt']+(dz)*dfh['rt']**2)/1000*(ii/2)/180*math.pi\n",
    "            dfh['sina1'] = np.sin(dfh['a1'].values)\n",
    "            dfh['cosa1'] = np.cos(dfh['a1'].values)\n",
    "            ss = StandardScaler()\n",
    "            dfs = ss.fit_transform(dfh[['sina1','cosa1','z1','z2', 'z3', 'x2', 'y2']].values)\n",
    "            cx = self.weight_arr[self.weights]\n",
    "            dfs = np.multiply(dfs, cx)\n",
    "\n",
    "            clusters=DBSCAN(eps=self.epsilon+(ii*self.stepeps),min_samples=min_points,metric='euclidean',n_jobs=1).fit(dfs).labels_ \n",
    "            \n",
    "            # optionally change min points\n",
    "            min_points = min_points + (ii + self.min_pts_change)\n",
    "            \n",
    "            if ii==0:\n",
    "                dfh['s1'] = clusters\n",
    "                dfh['N1'] = dfh.groupby('s1')['s1'].transform('count')\n",
    "\n",
    "            # else update our hits conditionally, if it's a better fit\n",
    "            else:\n",
    "                # put our new clusters to another feature\n",
    "                dfh['s2'] = clusters\n",
    "\n",
    "                # get the count of those clusters\n",
    "                dfh['N2'] = dfh.groupby('s2')['s2'].transform('count')\n",
    "                maxs1 = dfh['s1'].max()\n",
    "\n",
    "                # if our new clusters are bigger, but less than our max size, use the new ones instead\n",
    "                cond = np.where((dfh['N2'].values > dfh['N1'].values) & (dfh['N2'].values < max_size))\n",
    "                    \n",
    "                s1 = dfh['s1'].values\n",
    "                s1[cond] = dfh['s2'].values[cond]+maxs1\n",
    "\n",
    "                # write the new clusters back to our dataframe\n",
    "                dfh['s1'] = s1\n",
    "                dfh['s1'] = dfh['s1'].astype('int64')\n",
    "                dfh['N1'] = dfh.groupby('s1')['s1'].transform('count')\n",
    "        \n",
    "        # for debugging\n",
    "        # return dfh\n",
    "        \n",
    "        # return our clusters\n",
    "        return dfh['s1'].values    \n",
    "    \n",
    "    def predict(self, hits):    \n",
    "        # init our clusters\n",
    "        self.clusters = self._init(hits) \n",
    "        \n",
    "        mask = self.clusters == 0\n",
    "        \n",
    "        if self.final_cluster:\n",
    "            # preprocess our data\n",
    "            X = self._preprocess(hits) \n",
    "\n",
    "            # create our last clusterer\n",
    "            cl = hdbscan.HDBSCAN(min_samples=1, min_cluster_size=7, metric='braycurtis', cluster_selection_method='leaf', algorithm='best', leaf_size=50)\n",
    "\n",
    "            # labels = unique clusters\n",
    "            labels = np.unique(self.clusters)\n",
    "\n",
    "            # remove outliers\n",
    "            self._eliminate_outliers(labels,X)\n",
    "\n",
    "            # init n_labels\n",
    "            n_labels = 0\n",
    "\n",
    "            # now we loop through the points that haven't been assigned to a cluster and assign them with\n",
    "            # HDBSCAN\n",
    "            while n_labels < len(labels):\n",
    "                n_labels = len(labels)\n",
    "                max_len = np.max(self.clusters)\n",
    "                mask = self.clusters == 0\n",
    "            self.clusters[mask] = cl.fit_predict(X[mask])+max_len\n",
    "            \n",
    "        return self.clusters"
   ]
  },
  {
   "cell_type": "code",
   "execution_count": 5,
   "metadata": {},
   "outputs": [],
   "source": [
    "results_df = pd.read_pickle(\"gs_results.pkl\")\n",
    "# results_df"
   ]
  },
  {
   "cell_type": "code",
   "execution_count": 6,
   "metadata": {},
   "outputs": [
    {
     "name": "stdout",
     "output_type": "stream",
     "text": [
      "Length: 8\n"
     ]
    }
   ],
   "source": [
    "# defaults: \n",
    "# eps=0.0035, dz0 = -0.00070, stepdz = 0.00001, stepeps = 0.000005\n",
    "# 0.0035, 0.0005, 5e-05, 1e-09, 150, True, 10, True\n",
    "# create our params to iterate over\n",
    "eps_vals = [ 0.0035 ] # try lowering with increased step eps\n",
    "stepdz_vals = [ 1.5e-7] \n",
    "stepeps_vals = [ 5e-7, 7e-8 ] # 1.5e-9, \n",
    "loop_vals = [ 250 ]\n",
    "weight_vals = [ 70, 58 ]\n",
    "step_z_vals = [ 4.5e-5, 3.5e-5 ]\n",
    "\n",
    "size_vals = [ 20 ]\n",
    "\n",
    "dz0_vals = [ -0.00070 ] # unused\n",
    "final_cluster = [ True ] # unused\n",
    "dz_incr = [ True ] # unused\n",
    "size_inc_vals = [ 0 ]\n",
    "step = \"eps\"\n",
    "\n",
    "foo = product(eps_vals, dz0_vals, stepdz_vals, stepeps_vals, loop_vals, final_cluster, weight_vals, dz_incr, size_vals, step_z_vals, size_inc_vals)\n",
    "\n",
    "offset = np.max(results_df.index.values) + 1\n",
    "\n",
    "iter_list = []\n",
    "for i, item in enumerate(foo):\n",
    "    iter_list.append([i + offset, item])\n",
    "    \n",
    "print(\"Length:\", len(iter_list))    "
   ]
  },
  {
   "cell_type": "code",
   "execution_count": 7,
   "metadata": {},
   "outputs": [],
   "source": [
    "def grid_search_loop(params):\n",
    "    counter = params[0]\n",
    "    eps, dz0, stepdz, stepeps, loops, final_cluster, weights, dz_incr, max_size, step_z, size_incr = params[1]\n",
    "    step = \"eps\"\n",
    "    dataset_scores = []\n",
    "    print(\" - \", counter, \"Eps:\", eps, \"stepdz:\", stepdz, \"stepeps:\", stepeps, \"loops:\", loops, \"weight:\", weights, \"max size:\", max_size, \"step z:\", step_z)\n",
    "    \n",
    "    for event_id, hits, cells, particles, truth in load_dataset(\"./data/train_1\", skip=40, nevents=10):\n",
    "        # Track pattern recognition\n",
    "        model = Clusterer(eps=eps, dz0=dz0, stepdz=stepdz, stepeps=stepeps, num_loops=loops, final_cluster=final_cluster, weight=weights, weight_arr=weights_arr, max_size=max_size, step_z=step_z, size_incr=size_incr)\n",
    "        labels = model.predict(hits)\n",
    "\n",
    "        # Prepare submission for an event\n",
    "        one_submission = create_one_event_submission(event_id, hits, labels)\n",
    "\n",
    "        # Score for the event\n",
    "        score = score_event(truth, one_submission)\n",
    "        dataset_scores.append(score)\n",
    "        print(event_id, params[1], \"score:\", score)\n",
    "        \n",
    "    mean_score = np.mean(dataset_scores)\n",
    "    \n",
    "    # create and return our results\n",
    "    result = [counter, [eps, dz0, stepdz, stepeps, loops, step, weights, final_cluster, max_size, step_z, size_incr, mean_score]]\n",
    "    print(result)\n",
    "    \n",
    "    return result\n",
    "\n",
    "def grid_search(iter_list, results_df=None, start=0, end=5):\n",
    "    pool = Pool(processes=14)\n",
    "    results = pool.map(grid_search_loop, iter_list[start:end])\n",
    "    pool.close()\n",
    "    \n",
    "    return results"
   ]
  },
  {
   "cell_type": "code",
   "execution_count": 8,
   "metadata": {
    "scrolled": true
   },
   "outputs": [
    {
     "name": "stdout",
     "output_type": "stream",
     "text": [
      " -  1192 Eps: 0.0035 stepdz: 1.5e-07 stepeps: 5e-07 loops: 250 weight: 70 max size: 20 step z: 3.5e-05\n",
      " -  1191 Eps: 0.0035 stepdz: 1.5e-07 stepeps: 5e-07 loops: 250 weight: 70 max size: 20 step z: 4.5e-05\n",
      " -  1193 Eps: 0.0035 stepdz: 1.5e-07 stepeps: 5e-07 loops: 250 weight: 58 max size: 20 step z: 4.5e-05\n",
      " -  1195 Eps: 0.0035 stepdz: 1.5e-07 stepeps: 7e-08 loops: 250 weight: 70 max size: 20 step z: 4.5e-05\n",
      " -  1194 Eps: 0.0035 stepdz: 1.5e-07 stepeps: 5e-07 loops: 250 weight: 58 max size: 20 step z: 3.5e-05\n",
      " -  1196 Eps: 0.0035 stepdz: 1.5e-07 stepeps: 7e-08 loops: 250 weight: 70 max size: 20 step z: 3.5e-05\n",
      " -  1197 Eps: 0.0035 stepdz: 1.5e-07 stepeps: 7e-08 loops: 250 weight: 58 max size: 20 step z: 4.5e-05\n",
      " -  1198 Eps: 0.0035 stepdz: 1.5e-07 stepeps: 7e-08 loops: 250 weight: 58 max size: 20 step z: 3.5e-05\n"
     ]
    },
    {
     "data": {
      "application/vnd.jupyter.widget-view+json": {
       "model_id": "2c0876f2e32645f29c9315de13484b90",
       "version_major": 2,
       "version_minor": 0
      },
      "text/plain": [
       "HBox(children=(IntProgress(value=0, max=40878), HTML(value='')))"
      ]
     },
     "metadata": {},
     "output_type": "display_data"
    },
    {
     "data": {
      "application/vnd.jupyter.widget-view+json": {
       "model_id": "62967a8c0087425ea6d1ecf7aaa2f639",
       "version_major": 2,
       "version_minor": 0
      },
      "text/plain": [
       "HBox(children=(IntProgress(value=0, max=40879), HTML(value='')))"
      ]
     },
     "metadata": {},
     "output_type": "display_data"
    },
    {
     "data": {
      "application/vnd.jupyter.widget-view+json": {
       "model_id": "4e3dfec95ae64cc2bd1d726262f3fae0",
       "version_major": 2,
       "version_minor": 0
      },
      "text/plain": [
       "HBox(children=(IntProgress(value=0, max=40813), HTML(value='')))"
      ]
     },
     "metadata": {},
     "output_type": "display_data"
    },
    {
     "data": {
      "application/vnd.jupyter.widget-view+json": {
       "model_id": "d71ed0b2bbb249fb98fdd5f5ceaafbe6",
       "version_major": 2,
       "version_minor": 0
      },
      "text/plain": [
       "HBox(children=(IntProgress(value=0, max=40811), HTML(value='')))"
      ]
     },
     "metadata": {},
     "output_type": "display_data"
    },
    {
     "data": {
      "application/vnd.jupyter.widget-view+json": {
       "model_id": "061df0c5e82a4958bda8d677cc25bba5",
       "version_major": 2,
       "version_minor": 0
      },
      "text/plain": [
       "HBox(children=(IntProgress(value=0, max=40826), HTML(value='')))"
      ]
     },
     "metadata": {},
     "output_type": "display_data"
    },
    {
     "data": {
      "application/vnd.jupyter.widget-view+json": {
       "model_id": "0157b38e8ef0472db56d254f1fa88a8b",
       "version_major": 2,
       "version_minor": 0
      },
      "text/plain": [
       "HBox(children=(IntProgress(value=0, max=40894), HTML(value='')))"
      ]
     },
     "metadata": {},
     "output_type": "display_data"
    },
    {
     "data": {
      "application/vnd.jupyter.widget-view+json": {
       "model_id": "238bb6345a344a91a840dda87db3f1df",
       "version_major": 2,
       "version_minor": 0
      },
      "text/plain": [
       "HBox(children=(IntProgress(value=0, max=40827), HTML(value='')))"
      ]
     },
     "metadata": {},
     "output_type": "display_data"
    },
    {
     "data": {
      "application/vnd.jupyter.widget-view+json": {
       "model_id": "e5a08000049b4a3c864751f481c09015",
       "version_major": 2,
       "version_minor": 0
      },
      "text/plain": [
       "HBox(children=(IntProgress(value=0, max=40893), HTML(value='')))"
      ]
     },
     "metadata": {},
     "output_type": "display_data"
    },
    {
     "name": "stdout",
     "output_type": "stream",
     "text": [
      "\n",
      "\n",
      "\n",
      "\n"
     ]
    },
    {
     "name": "stderr",
     "output_type": "stream",
     "text": [
      "/home/skooch/.local/lib/python3.5/site-packages/sklearn/externals/joblib/parallel.py:547: UserWarning: Multiprocessing-backed parallel loops cannot be nested, setting n_jobs=1\n",
      "  **self._backend_args)\n",
      "/home/skooch/.local/lib/python3.5/site-packages/sklearn/externals/joblib/parallel.py:547: UserWarning: Multiprocessing-backed parallel loops cannot be nested, setting n_jobs=1\n",
      "  **self._backend_args)\n",
      "/home/skooch/.local/lib/python3.5/site-packages/sklearn/externals/joblib/parallel.py:547: UserWarning: Multiprocessing-backed parallel loops cannot be nested, setting n_jobs=1\n",
      "  **self._backend_args)\n",
      "/home/skooch/.local/lib/python3.5/site-packages/sklearn/externals/joblib/parallel.py:547: UserWarning: Multiprocessing-backed parallel loops cannot be nested, setting n_jobs=1\n",
      "  **self._backend_args)\n"
     ]
    },
    {
     "name": "stdout",
     "output_type": "stream",
     "text": [
      "\n",
      "\n",
      "\n",
      "\n"
     ]
    },
    {
     "name": "stderr",
     "output_type": "stream",
     "text": [
      "/home/skooch/.local/lib/python3.5/site-packages/sklearn/externals/joblib/parallel.py:547: UserWarning: Multiprocessing-backed parallel loops cannot be nested, setting n_jobs=1\n",
      "  **self._backend_args)\n",
      "/home/skooch/.local/lib/python3.5/site-packages/sklearn/externals/joblib/parallel.py:547: UserWarning: Multiprocessing-backed parallel loops cannot be nested, setting n_jobs=1\n",
      "  **self._backend_args)\n",
      "/home/skooch/.local/lib/python3.5/site-packages/sklearn/externals/joblib/parallel.py:547: UserWarning: Multiprocessing-backed parallel loops cannot be nested, setting n_jobs=1\n",
      "  **self._backend_args)\n",
      "/home/skooch/.local/lib/python3.5/site-packages/sklearn/externals/joblib/parallel.py:547: UserWarning: Multiprocessing-backed parallel loops cannot be nested, setting n_jobs=1\n",
      "  **self._backend_args)\n"
     ]
    },
    {
     "name": "stdout",
     "output_type": "stream",
     "text": [
      "1040 (0.0035, -0.0007, 1.5e-07, 7e-08, 250, True, 70, True, 20, 3.5e-05, 0) score: 0.5031343156056209\n",
      "1040 (0.0035, -0.0007, 1.5e-07, 7e-08, 250, True, 70, True, 20, 4.5e-05, 0) score: 0.5031343156056209\n",
      "1040 (0.0035, -0.0007, 1.5e-07, 7e-08, 250, True, 58, True, 20, 4.5e-05, 0) score: 0.5034504303273479\n",
      "1040 (0.0035, -0.0007, 1.5e-07, 7e-08, 250, True, 58, True, 20, 3.5e-05, 0) score: 0.5034504303273479\n",
      "1040 (0.0035, -0.0007, 1.5e-07, 5e-07, 250, True, 58, True, 20, 3.5e-05, 0) score: 0.5031772259505942\n",
      "1040 (0.0035, -0.0007, 1.5e-07, 5e-07, 250, True, 70, True, 20, 3.5e-05, 0) score: 0.5026417827932619\n",
      "1040 (0.0035, -0.0007, 1.5e-07, 5e-07, 250, True, 70, True, 20, 4.5e-05, 0) score: 0.5026329746935971\n",
      "1040 (0.0035, -0.0007, 1.5e-07, 5e-07, 250, True, 58, True, 20, 4.5e-05, 0) score: 0.5031772259505942\n"
     ]
    },
    {
     "data": {
      "application/vnd.jupyter.widget-view+json": {
       "model_id": "0a3200f262f14ffaa467556b4305337a",
       "version_major": 2,
       "version_minor": 0
      },
      "text/plain": [
       "HBox(children=(IntProgress(value=0, max=34005), HTML(value='')))"
      ]
     },
     "metadata": {},
     "output_type": "display_data"
    },
    {
     "data": {
      "application/vnd.jupyter.widget-view+json": {
       "model_id": "26a03658e7364f47842a6bdd8bcd3b07",
       "version_major": 2,
       "version_minor": 0
      },
      "text/plain": [
       "HBox(children=(IntProgress(value=0, max=34139), HTML(value='')))"
      ]
     },
     "metadata": {},
     "output_type": "display_data"
    },
    {
     "data": {
      "application/vnd.jupyter.widget-view+json": {
       "model_id": "0e8c391a937e42c68d05d8612da745cb",
       "version_major": 2,
       "version_minor": 0
      },
      "text/plain": [
       "HBox(children=(IntProgress(value=0, max=34043), HTML(value='')))"
      ]
     },
     "metadata": {},
     "output_type": "display_data"
    },
    {
     "data": {
      "application/vnd.jupyter.widget-view+json": {
       "model_id": "5bbea6566f234399a1cc66ab7f42219a",
       "version_major": 2,
       "version_minor": 0
      },
      "text/plain": [
       "HBox(children=(IntProgress(value=0, max=34141), HTML(value='')))"
      ]
     },
     "metadata": {},
     "output_type": "display_data"
    },
    {
     "data": {
      "application/vnd.jupyter.widget-view+json": {
       "model_id": "fb54a19c26e94813a6f59a66eedfed4d",
       "version_major": 2,
       "version_minor": 0
      },
      "text/plain": [
       "HBox(children=(IntProgress(value=0, max=34012), HTML(value='')))"
      ]
     },
     "metadata": {},
     "output_type": "display_data"
    },
    {
     "data": {
      "application/vnd.jupyter.widget-view+json": {
       "model_id": "3207e215089e489ca36a0623d965cc58",
       "version_major": 2,
       "version_minor": 0
      },
      "text/plain": [
       "HBox(children=(IntProgress(value=0, max=34094), HTML(value='')))"
      ]
     },
     "metadata": {},
     "output_type": "display_data"
    },
    {
     "data": {
      "application/vnd.jupyter.widget-view+json": {
       "model_id": "edbb847030ed44fa8466c16a81f9a304",
       "version_major": 2,
       "version_minor": 0
      },
      "text/plain": [
       "HBox(children=(IntProgress(value=0, max=34045), HTML(value='')))"
      ]
     },
     "metadata": {},
     "output_type": "display_data"
    },
    {
     "data": {
      "application/vnd.jupyter.widget-view+json": {
       "model_id": "aaf756c6e61b434c8a04910106820d92",
       "version_major": 2,
       "version_minor": 0
      },
      "text/plain": [
       "HBox(children=(IntProgress(value=0, max=34094), HTML(value='')))"
      ]
     },
     "metadata": {},
     "output_type": "display_data"
    },
    {
     "name": "stdout",
     "output_type": "stream",
     "text": [
      "\n",
      "\n",
      "\n",
      "\n"
     ]
    },
    {
     "name": "stderr",
     "output_type": "stream",
     "text": [
      "/home/skooch/.local/lib/python3.5/site-packages/sklearn/externals/joblib/parallel.py:547: UserWarning: Multiprocessing-backed parallel loops cannot be nested, setting n_jobs=1\n",
      "  **self._backend_args)\n",
      "/home/skooch/.local/lib/python3.5/site-packages/sklearn/externals/joblib/parallel.py:547: UserWarning: Multiprocessing-backed parallel loops cannot be nested, setting n_jobs=1\n",
      "  **self._backend_args)\n"
     ]
    },
    {
     "name": "stdout",
     "output_type": "stream",
     "text": [
      "\n"
     ]
    },
    {
     "name": "stderr",
     "output_type": "stream",
     "text": [
      "/home/skooch/.local/lib/python3.5/site-packages/sklearn/externals/joblib/parallel.py:547: UserWarning: Multiprocessing-backed parallel loops cannot be nested, setting n_jobs=1\n",
      "  **self._backend_args)\n",
      "/home/skooch/.local/lib/python3.5/site-packages/sklearn/externals/joblib/parallel.py:547: UserWarning: Multiprocessing-backed parallel loops cannot be nested, setting n_jobs=1\n",
      "  **self._backend_args)\n"
     ]
    },
    {
     "name": "stdout",
     "output_type": "stream",
     "text": [
      "\n",
      "\n"
     ]
    },
    {
     "name": "stderr",
     "output_type": "stream",
     "text": [
      "/home/skooch/.local/lib/python3.5/site-packages/sklearn/externals/joblib/parallel.py:547: UserWarning: Multiprocessing-backed parallel loops cannot be nested, setting n_jobs=1\n",
      "  **self._backend_args)\n"
     ]
    },
    {
     "name": "stdout",
     "output_type": "stream",
     "text": [
      "\n"
     ]
    },
    {
     "name": "stderr",
     "output_type": "stream",
     "text": [
      "/home/skooch/.local/lib/python3.5/site-packages/sklearn/externals/joblib/parallel.py:547: UserWarning: Multiprocessing-backed parallel loops cannot be nested, setting n_jobs=1\n",
      "  **self._backend_args)\n",
      "/home/skooch/.local/lib/python3.5/site-packages/sklearn/externals/joblib/parallel.py:547: UserWarning: Multiprocessing-backed parallel loops cannot be nested, setting n_jobs=1\n",
      "  **self._backend_args)\n",
      "/home/skooch/.local/lib/python3.5/site-packages/sklearn/externals/joblib/parallel.py:547: UserWarning: Multiprocessing-backed parallel loops cannot be nested, setting n_jobs=1\n",
      "  **self._backend_args)\n"
     ]
    },
    {
     "name": "stdout",
     "output_type": "stream",
     "text": [
      "1041 (0.0035, -0.0007, 1.5e-07, 7e-08, 250, True, 70, True, 20, 3.5e-05, 0) score: 0.5409577816578803\n",
      "1041 (0.0035, -0.0007, 1.5e-07, 7e-08, 250, True, 58, True, 20, 3.5e-05, 0) score: 0.5415955282765026\n",
      "1041 (0.0035, -0.0007, 1.5e-07, 5e-07, 250, True, 70, True, 20, 3.5e-05, 0) score: 0.5419628697898133\n",
      "1041 (0.0035, -0.0007, 1.5e-07, 7e-08, 250, True, 58, True, 20, 4.5e-05, 0) score: 0.5415955282765026\n",
      "1041 (0.0035, -0.0007, 1.5e-07, 7e-08, 250, True, 70, True, 20, 4.5e-05, 0) score: 0.5409577816578803\n",
      "1041 (0.0035, -0.0007, 1.5e-07, 5e-07, 250, True, 58, True, 20, 3.5e-05, 0) score: 0.5419230751488158\n",
      "1041 (0.0035, -0.0007, 1.5e-07, 5e-07, 250, True, 70, True, 20, 4.5e-05, 0) score: 0.5419628697898133\n",
      "1041 (0.0035, -0.0007, 1.5e-07, 5e-07, 250, True, 58, True, 20, 4.5e-05, 0) score: 0.5419184452487116\n"
     ]
    },
    {
     "data": {
      "application/vnd.jupyter.widget-view+json": {
       "model_id": "a5c58d173da54c15b13e8ab009b128a9",
       "version_major": 2,
       "version_minor": 0
      },
      "text/plain": [
       "HBox(children=(IntProgress(value=0, max=36102), HTML(value='')))"
      ]
     },
     "metadata": {},
     "output_type": "display_data"
    },
    {
     "data": {
      "application/vnd.jupyter.widget-view+json": {
       "model_id": "a70ce65bb43e4cb9890deb3b14f516c0",
       "version_major": 2,
       "version_minor": 0
      },
      "text/plain": [
       "HBox(children=(IntProgress(value=0, max=36103), HTML(value='')))"
      ]
     },
     "metadata": {},
     "output_type": "display_data"
    },
    {
     "data": {
      "application/vnd.jupyter.widget-view+json": {
       "model_id": "17b453245a454070a17f4f31bbf9d1ba",
       "version_major": 2,
       "version_minor": 0
      },
      "text/plain": [
       "HBox(children=(IntProgress(value=0, max=36050), HTML(value='')))"
      ]
     },
     "metadata": {},
     "output_type": "display_data"
    },
    {
     "data": {
      "application/vnd.jupyter.widget-view+json": {
       "model_id": "54943cb5ee274a60ad864ee58f296a08",
       "version_major": 2,
       "version_minor": 0
      },
      "text/plain": [
       "HBox(children=(IntProgress(value=0, max=36078), HTML(value='')))"
      ]
     },
     "metadata": {},
     "output_type": "display_data"
    },
    {
     "data": {
      "application/vnd.jupyter.widget-view+json": {
       "model_id": "e0829c4c3b5741be8855e0ad06950aec",
       "version_major": 2,
       "version_minor": 0
      },
      "text/plain": [
       "HBox(children=(IntProgress(value=0, max=36039), HTML(value='')))"
      ]
     },
     "metadata": {},
     "output_type": "display_data"
    },
    {
     "data": {
      "application/vnd.jupyter.widget-view+json": {
       "model_id": "546362acbc6e4d2f8aaa6fd599d17d7b",
       "version_major": 2,
       "version_minor": 0
      },
      "text/plain": [
       "HBox(children=(IntProgress(value=0, max=36071), HTML(value='')))"
      ]
     },
     "metadata": {},
     "output_type": "display_data"
    },
    {
     "name": "stdout",
     "output_type": "stream",
     "text": [
      "\n",
      "\n"
     ]
    },
    {
     "name": "stderr",
     "output_type": "stream",
     "text": [
      "/home/skooch/.local/lib/python3.5/site-packages/sklearn/externals/joblib/parallel.py:547: UserWarning: Multiprocessing-backed parallel loops cannot be nested, setting n_jobs=1\n",
      "  **self._backend_args)\n"
     ]
    },
    {
     "name": "stdout",
     "output_type": "stream",
     "text": [
      "\n"
     ]
    },
    {
     "data": {
      "application/vnd.jupyter.widget-view+json": {
       "model_id": "bbf67023b86e4748b5deaf5b7bbb227b",
       "version_major": 2,
       "version_minor": 0
      },
      "text/plain": [
       "HBox(children=(IntProgress(value=0, max=36049), HTML(value='')))"
      ]
     },
     "metadata": {},
     "output_type": "display_data"
    },
    {
     "name": "stderr",
     "output_type": "stream",
     "text": [
      "/home/skooch/.local/lib/python3.5/site-packages/sklearn/externals/joblib/parallel.py:547: UserWarning: Multiprocessing-backed parallel loops cannot be nested, setting n_jobs=1\n",
      "  **self._backend_args)\n"
     ]
    },
    {
     "name": "stdout",
     "output_type": "stream",
     "text": [
      "\n",
      "\n"
     ]
    },
    {
     "name": "stderr",
     "output_type": "stream",
     "text": [
      "/home/skooch/.local/lib/python3.5/site-packages/sklearn/externals/joblib/parallel.py:547: UserWarning: Multiprocessing-backed parallel loops cannot be nested, setting n_jobs=1\n",
      "  **self._backend_args)\n"
     ]
    },
    {
     "data": {
      "application/vnd.jupyter.widget-view+json": {
       "model_id": "f527b06c15194892ad77fe8c34147313",
       "version_major": 2,
       "version_minor": 0
      },
      "text/plain": [
       "HBox(children=(IntProgress(value=0, max=36040), HTML(value='')))"
      ]
     },
     "metadata": {},
     "output_type": "display_data"
    },
    {
     "name": "stdout",
     "output_type": "stream",
     "text": [
      "\n"
     ]
    },
    {
     "name": "stderr",
     "output_type": "stream",
     "text": [
      "/home/skooch/.local/lib/python3.5/site-packages/sklearn/externals/joblib/parallel.py:547: UserWarning: Multiprocessing-backed parallel loops cannot be nested, setting n_jobs=1\n",
      "  **self._backend_args)\n",
      "/home/skooch/.local/lib/python3.5/site-packages/sklearn/externals/joblib/parallel.py:547: UserWarning: Multiprocessing-backed parallel loops cannot be nested, setting n_jobs=1\n",
      "  **self._backend_args)\n",
      "/home/skooch/.local/lib/python3.5/site-packages/sklearn/externals/joblib/parallel.py:547: UserWarning: Multiprocessing-backed parallel loops cannot be nested, setting n_jobs=1\n",
      "  **self._backend_args)\n"
     ]
    },
    {
     "name": "stdout",
     "output_type": "stream",
     "text": [
      "1042 (0.0035, -0.0007, 1.5e-07, 7e-08, 250, True, 58, True, 20, 3.5e-05, 0) score: 0.5234283380561919\n",
      "\n",
      "1042 (0.0035, -0.0007, 1.5e-07, 7e-08, 250, True, 58, True, 20, 4.5e-05, 0) score: 0.5234346776862822\n",
      "1042 (0.0035, -0.0007, 1.5e-07, 7e-08, 250, True, 70, True, 20, 3.5e-05, 0) score: 0.5220118382783312\n",
      "\n"
     ]
    },
    {
     "name": "stderr",
     "output_type": "stream",
     "text": [
      "/home/skooch/.local/lib/python3.5/site-packages/sklearn/externals/joblib/parallel.py:547: UserWarning: Multiprocessing-backed parallel loops cannot be nested, setting n_jobs=1\n",
      "  **self._backend_args)\n"
     ]
    },
    {
     "name": "stdout",
     "output_type": "stream",
     "text": [
      "1042 (0.0035, -0.0007, 1.5e-07, 5e-07, 250, True, 70, True, 20, 3.5e-05, 0) score: 0.5235930094465857\n",
      "1042 (0.0035, -0.0007, 1.5e-07, 5e-07, 250, True, 58, True, 20, 4.5e-05, 0) score: 0.524024781865819\n"
     ]
    },
    {
     "name": "stderr",
     "output_type": "stream",
     "text": [
      "/home/skooch/.local/lib/python3.5/site-packages/sklearn/externals/joblib/parallel.py:547: UserWarning: Multiprocessing-backed parallel loops cannot be nested, setting n_jobs=1\n",
      "  **self._backend_args)\n"
     ]
    },
    {
     "name": "stdout",
     "output_type": "stream",
     "text": [
      "1042 (0.0035, -0.0007, 1.5e-07, 5e-07, 250, True, 58, True, 20, 3.5e-05, 0) score: 0.5241285455551861\n",
      "1042 (0.0035, -0.0007, 1.5e-07, 7e-08, 250, True, 70, True, 20, 4.5e-05, 0) score: 0.5220118382783312\n",
      "1042 (0.0035, -0.0007, 1.5e-07, 5e-07, 250, True, 70, True, 20, 4.5e-05, 0) score: 0.5237218640747869\n"
     ]
    },
    {
     "data": {
      "application/vnd.jupyter.widget-view+json": {
       "model_id": "f182908abd4742288c38b637fef88da2",
       "version_major": 2,
       "version_minor": 0
      },
      "text/plain": [
       "HBox(children=(IntProgress(value=0, max=36368), HTML(value='')))"
      ]
     },
     "metadata": {},
     "output_type": "display_data"
    },
    {
     "data": {
      "application/vnd.jupyter.widget-view+json": {
       "model_id": "b3fe7fad3b464db5a6a134c744d30732",
       "version_major": 2,
       "version_minor": 0
      },
      "text/plain": [
       "HBox(children=(IntProgress(value=0, max=36361), HTML(value='')))"
      ]
     },
     "metadata": {},
     "output_type": "display_data"
    },
    {
     "data": {
      "application/vnd.jupyter.widget-view+json": {
       "model_id": "5b10ed2a89af408cbdb376a6bafd1209",
       "version_major": 2,
       "version_minor": 0
      },
      "text/plain": [
       "HBox(children=(IntProgress(value=0, max=36313), HTML(value='')))"
      ]
     },
     "metadata": {},
     "output_type": "display_data"
    },
    {
     "data": {
      "application/vnd.jupyter.widget-view+json": {
       "model_id": "e538af97ea544be6bccbbf3f79c75822",
       "version_major": 2,
       "version_minor": 0
      },
      "text/plain": [
       "HBox(children=(IntProgress(value=0, max=36317), HTML(value='')))"
      ]
     },
     "metadata": {},
     "output_type": "display_data"
    },
    {
     "name": "stdout",
     "output_type": "stream",
     "text": [
      "\n"
     ]
    },
    {
     "data": {
      "application/vnd.jupyter.widget-view+json": {
       "model_id": "e76dd2b52cd047caaac6466cce8aa507",
       "version_major": 2,
       "version_minor": 0
      },
      "text/plain": [
       "HBox(children=(IntProgress(value=0, max=36236), HTML(value='')))"
      ]
     },
     "metadata": {},
     "output_type": "display_data"
    },
    {
     "name": "stdout",
     "output_type": "stream",
     "text": [
      "\n"
     ]
    },
    {
     "data": {
      "application/vnd.jupyter.widget-view+json": {
       "model_id": "c32d2919bb18453d9aa23f2b6edda1a6",
       "version_major": 2,
       "version_minor": 0
      },
      "text/plain": [
       "HBox(children=(IntProgress(value=0, max=36250), HTML(value='')))"
      ]
     },
     "metadata": {},
     "output_type": "display_data"
    },
    {
     "name": "stderr",
     "output_type": "stream",
     "text": [
      "/home/skooch/.local/lib/python3.5/site-packages/sklearn/externals/joblib/parallel.py:547: UserWarning: Multiprocessing-backed parallel loops cannot be nested, setting n_jobs=1\n",
      "  **self._backend_args)\n",
      "/home/skooch/.local/lib/python3.5/site-packages/sklearn/externals/joblib/parallel.py:547: UserWarning: Multiprocessing-backed parallel loops cannot be nested, setting n_jobs=1\n",
      "  **self._backend_args)\n"
     ]
    },
    {
     "name": "stdout",
     "output_type": "stream",
     "text": [
      "\n"
     ]
    },
    {
     "data": {
      "application/vnd.jupyter.widget-view+json": {
       "model_id": "6671b6afe7f34260908defdf0e9dc495",
       "version_major": 2,
       "version_minor": 0
      },
      "text/plain": [
       "HBox(children=(IntProgress(value=0, max=36239), HTML(value='')))"
      ]
     },
     "metadata": {},
     "output_type": "display_data"
    },
    {
     "name": "stderr",
     "output_type": "stream",
     "text": [
      "/home/skooch/.local/lib/python3.5/site-packages/sklearn/externals/joblib/parallel.py:547: UserWarning: Multiprocessing-backed parallel loops cannot be nested, setting n_jobs=1\n",
      "  **self._backend_args)\n"
     ]
    },
    {
     "name": "stdout",
     "output_type": "stream",
     "text": [
      "\n",
      "\n"
     ]
    },
    {
     "name": "stderr",
     "output_type": "stream",
     "text": [
      "/home/skooch/.local/lib/python3.5/site-packages/sklearn/externals/joblib/parallel.py:547: UserWarning: Multiprocessing-backed parallel loops cannot be nested, setting n_jobs=1\n",
      "  **self._backend_args)\n"
     ]
    },
    {
     "name": "stdout",
     "output_type": "stream",
     "text": [
      "\n",
      "1043 (0.0035, -0.0007, 1.5e-07, 7e-08, 250, True, 58, True, 20, 4.5e-05, 0) score: 0.5244250011242002\n"
     ]
    },
    {
     "name": "stderr",
     "output_type": "stream",
     "text": [
      "/home/skooch/.local/lib/python3.5/site-packages/sklearn/externals/joblib/parallel.py:547: UserWarning: Multiprocessing-backed parallel loops cannot be nested, setting n_jobs=1\n",
      "  **self._backend_args)\n"
     ]
    },
    {
     "name": "stdout",
     "output_type": "stream",
     "text": [
      "1043 (0.0035, -0.0007, 1.5e-07, 7e-08, 250, True, 58, True, 20, 3.5e-05, 0) score: 0.5245162974542836\n"
     ]
    },
    {
     "name": "stderr",
     "output_type": "stream",
     "text": [
      "/home/skooch/.local/lib/python3.5/site-packages/sklearn/externals/joblib/parallel.py:547: UserWarning: Multiprocessing-backed parallel loops cannot be nested, setting n_jobs=1\n",
      "  **self._backend_args)\n"
     ]
    },
    {
     "data": {
      "application/vnd.jupyter.widget-view+json": {
       "model_id": "1e7a6df7c1ec4b53825f5ccdfec7a574",
       "version_major": 2,
       "version_minor": 0
      },
      "text/plain": [
       "HBox(children=(IntProgress(value=0, max=36248), HTML(value='')))"
      ]
     },
     "metadata": {},
     "output_type": "display_data"
    },
    {
     "name": "stdout",
     "output_type": "stream",
     "text": [
      "\n",
      "1043 (0.0035, -0.0007, 1.5e-07, 5e-07, 250, True, 58, True, 20, 3.5e-05, 0) score: 0.525283719061008\n"
     ]
    },
    {
     "name": "stderr",
     "output_type": "stream",
     "text": [
      "/home/skooch/.local/lib/python3.5/site-packages/sklearn/externals/joblib/parallel.py:547: UserWarning: Multiprocessing-backed parallel loops cannot be nested, setting n_jobs=1\n",
      "  **self._backend_args)\n"
     ]
    },
    {
     "name": "stdout",
     "output_type": "stream",
     "text": [
      "1043 (0.0035, -0.0007, 1.5e-07, 5e-07, 250, True, 58, True, 20, 4.5e-05, 0) score: 0.5253433458810832\n",
      "1043 (0.0035, -0.0007, 1.5e-07, 7e-08, 250, True, 70, True, 20, 3.5e-05, 0) score: 0.5199110001460667\n",
      "1043 (0.0035, -0.0007, 1.5e-07, 5e-07, 250, True, 70, True, 20, 3.5e-05, 0) score: 0.5210243300143702\n",
      "\n",
      "1043 (0.0035, -0.0007, 1.5e-07, 7e-08, 250, True, 70, True, 20, 4.5e-05, 0) score: 0.5199110001460667\n"
     ]
    },
    {
     "name": "stderr",
     "output_type": "stream",
     "text": [
      "/home/skooch/.local/lib/python3.5/site-packages/sklearn/externals/joblib/parallel.py:547: UserWarning: Multiprocessing-backed parallel loops cannot be nested, setting n_jobs=1\n",
      "  **self._backend_args)\n"
     ]
    },
    {
     "name": "stdout",
     "output_type": "stream",
     "text": [
      "1043 (0.0035, -0.0007, 1.5e-07, 5e-07, 250, True, 70, True, 20, 4.5e-05, 0) score: 0.5210282806542637\n"
     ]
    },
    {
     "data": {
      "application/vnd.jupyter.widget-view+json": {
       "model_id": "50cd8450daeb4c87920f0cf86a980508",
       "version_major": 2,
       "version_minor": 0
      },
      "text/plain": [
       "HBox(children=(IntProgress(value=0, max=32317), HTML(value='')))"
      ]
     },
     "metadata": {},
     "output_type": "display_data"
    },
    {
     "data": {
      "application/vnd.jupyter.widget-view+json": {
       "model_id": "014ff5427c484520bdfd77ecb8105265",
       "version_major": 2,
       "version_minor": 0
      },
      "text/plain": [
       "HBox(children=(IntProgress(value=0, max=32318), HTML(value='')))"
      ]
     },
     "metadata": {},
     "output_type": "display_data"
    },
    {
     "data": {
      "application/vnd.jupyter.widget-view+json": {
       "model_id": "8be6cc4d8ea64c9ebe68100a9f063c53",
       "version_major": 2,
       "version_minor": 0
      },
      "text/plain": [
       "HBox(children=(IntProgress(value=0, max=32276), HTML(value='')))"
      ]
     },
     "metadata": {},
     "output_type": "display_data"
    },
    {
     "name": "stdout",
     "output_type": "stream",
     "text": [
      "\n"
     ]
    },
    {
     "data": {
      "application/vnd.jupyter.widget-view+json": {
       "model_id": "9ff300370c73415db05aad3a2308840e",
       "version_major": 2,
       "version_minor": 0
      },
      "text/plain": [
       "HBox(children=(IntProgress(value=0, max=32242), HTML(value='')))"
      ]
     },
     "metadata": {},
     "output_type": "display_data"
    },
    {
     "name": "stdout",
     "output_type": "stream",
     "text": [
      "\n"
     ]
    },
    {
     "name": "stderr",
     "output_type": "stream",
     "text": [
      "/home/skooch/.local/lib/python3.5/site-packages/sklearn/externals/joblib/parallel.py:547: UserWarning: Multiprocessing-backed parallel loops cannot be nested, setting n_jobs=1\n",
      "  **self._backend_args)\n"
     ]
    },
    {
     "data": {
      "application/vnd.jupyter.widget-view+json": {
       "model_id": "6bf79e8dc1664ce2b63f1fa2ade715fd",
       "version_major": 2,
       "version_minor": 0
      },
      "text/plain": [
       "HBox(children=(IntProgress(value=0, max=32278), HTML(value='')))"
      ]
     },
     "metadata": {},
     "output_type": "display_data"
    },
    {
     "name": "stderr",
     "output_type": "stream",
     "text": [
      "/home/skooch/.local/lib/python3.5/site-packages/sklearn/externals/joblib/parallel.py:547: UserWarning: Multiprocessing-backed parallel loops cannot be nested, setting n_jobs=1\n",
      "  **self._backend_args)\n"
     ]
    },
    {
     "name": "stdout",
     "output_type": "stream",
     "text": [
      "\n"
     ]
    },
    {
     "name": "stderr",
     "output_type": "stream",
     "text": [
      "/home/skooch/.local/lib/python3.5/site-packages/sklearn/externals/joblib/parallel.py:547: UserWarning: Multiprocessing-backed parallel loops cannot be nested, setting n_jobs=1\n",
      "  **self._backend_args)\n"
     ]
    },
    {
     "name": "stdout",
     "output_type": "stream",
     "text": [
      "\n",
      "1044 (0.0035, -0.0007, 1.5e-07, 7e-08, 250, True, 58, True, 20, 3.5e-05, 0) score: 0.526883506012689\n"
     ]
    },
    {
     "data": {
      "application/vnd.jupyter.widget-view+json": {
       "model_id": "35864a2ca3c74b01b45ac6380c5243a0",
       "version_major": 2,
       "version_minor": 0
      },
      "text/plain": [
       "HBox(children=(IntProgress(value=0, max=32248), HTML(value='')))"
      ]
     },
     "metadata": {},
     "output_type": "display_data"
    },
    {
     "name": "stdout",
     "output_type": "stream",
     "text": [
      "\n"
     ]
    },
    {
     "name": "stderr",
     "output_type": "stream",
     "text": [
      "/home/skooch/.local/lib/python3.5/site-packages/sklearn/externals/joblib/parallel.py:547: UserWarning: Multiprocessing-backed parallel loops cannot be nested, setting n_jobs=1\n",
      "  **self._backend_args)\n"
     ]
    },
    {
     "name": "stdout",
     "output_type": "stream",
     "text": [
      "1044 (0.0035, -0.0007, 1.5e-07, 7e-08, 250, True, 58, True, 20, 4.5e-05, 0) score: 0.526883506012689\n"
     ]
    },
    {
     "name": "stderr",
     "output_type": "stream",
     "text": [
      "/home/skooch/.local/lib/python3.5/site-packages/sklearn/externals/joblib/parallel.py:547: UserWarning: Multiprocessing-backed parallel loops cannot be nested, setting n_jobs=1\n",
      "  **self._backend_args)\n"
     ]
    },
    {
     "name": "stdout",
     "output_type": "stream",
     "text": [
      "1044 (0.0035, -0.0007, 1.5e-07, 5e-07, 250, True, 58, True, 20, 4.5e-05, 0) score: 0.5284005586656886\n",
      "1044 (0.0035, -0.0007, 1.5e-07, 7e-08, 250, True, 70, True, 20, 3.5e-05, 0) score: 0.5277561311438838\n",
      "\n"
     ]
    },
    {
     "data": {
      "application/vnd.jupyter.widget-view+json": {
       "model_id": "2f607074ddd34403b4db72b9072a11e4",
       "version_major": 2,
       "version_minor": 0
      },
      "text/plain": [
       "HBox(children=(IntProgress(value=0, max=32200), HTML(value='')))"
      ]
     },
     "metadata": {},
     "output_type": "display_data"
    },
    {
     "name": "stderr",
     "output_type": "stream",
     "text": [
      "/home/skooch/.local/lib/python3.5/site-packages/sklearn/externals/joblib/parallel.py:547: UserWarning: Multiprocessing-backed parallel loops cannot be nested, setting n_jobs=1\n",
      "  **self._backend_args)\n"
     ]
    },
    {
     "name": "stdout",
     "output_type": "stream",
     "text": [
      "1044 (0.0035, -0.0007, 1.5e-07, 5e-07, 250, True, 58, True, 20, 3.5e-05, 0) score: 0.5283193486602038\n"
     ]
    },
    {
     "data": {
      "application/vnd.jupyter.widget-view+json": {
       "model_id": "c1d10c426a684bbc951e9af2e9100254",
       "version_major": 2,
       "version_minor": 0
      },
      "text/plain": [
       "HBox(children=(IntProgress(value=0, max=32205), HTML(value='')))"
      ]
     },
     "metadata": {},
     "output_type": "display_data"
    },
    {
     "name": "stdout",
     "output_type": "stream",
     "text": [
      "\n",
      "1044 (0.0035, -0.0007, 1.5e-07, 7e-08, 250, True, 70, True, 20, 4.5e-05, 0) score: 0.5277561311438838\n"
     ]
    },
    {
     "name": "stderr",
     "output_type": "stream",
     "text": [
      "/home/skooch/.local/lib/python3.5/site-packages/sklearn/externals/joblib/parallel.py:547: UserWarning: Multiprocessing-backed parallel loops cannot be nested, setting n_jobs=1\n",
      "  **self._backend_args)\n"
     ]
    },
    {
     "name": "stdout",
     "output_type": "stream",
     "text": [
      "\n"
     ]
    },
    {
     "name": "stderr",
     "output_type": "stream",
     "text": [
      "/home/skooch/.local/lib/python3.5/site-packages/sklearn/externals/joblib/parallel.py:547: UserWarning: Multiprocessing-backed parallel loops cannot be nested, setting n_jobs=1\n",
      "  **self._backend_args)\n"
     ]
    },
    {
     "name": "stdout",
     "output_type": "stream",
     "text": [
      "1044 (0.0035, -0.0007, 1.5e-07, 5e-07, 250, True, 70, True, 20, 3.5e-05, 0) score: 0.5284413843589251\n",
      "1044 (0.0035, -0.0007, 1.5e-07, 5e-07, 250, True, 70, True, 20, 4.5e-05, 0) score: 0.5284508308598594\n"
     ]
    },
    {
     "data": {
      "application/vnd.jupyter.widget-view+json": {
       "model_id": "7b6d649f58d94585a4191fa30a96b3b1",
       "version_major": 2,
       "version_minor": 0
      },
      "text/plain": [
       "HBox(children=(IntProgress(value=0, max=37106), HTML(value='')))"
      ]
     },
     "metadata": {},
     "output_type": "display_data"
    },
    {
     "data": {
      "application/vnd.jupyter.widget-view+json": {
       "model_id": "4e857899ad604f8f880a92528940a7b1",
       "version_major": 2,
       "version_minor": 0
      },
      "text/plain": [
       "HBox(children=(IntProgress(value=0, max=37110), HTML(value='')))"
      ]
     },
     "metadata": {},
     "output_type": "display_data"
    },
    {
     "data": {
      "application/vnd.jupyter.widget-view+json": {
       "model_id": "e35a3ae19b85446a9ad296e49629eabe",
       "version_major": 2,
       "version_minor": 0
      },
      "text/plain": [
       "HBox(children=(IntProgress(value=0, max=37097), HTML(value='')))"
      ]
     },
     "metadata": {},
     "output_type": "display_data"
    },
    {
     "name": "stdout",
     "output_type": "stream",
     "text": [
      "\n"
     ]
    },
    {
     "data": {
      "application/vnd.jupyter.widget-view+json": {
       "model_id": "d165de67e29e4e038563d79ca73d620a",
       "version_major": 2,
       "version_minor": 0
      },
      "text/plain": [
       "HBox(children=(IntProgress(value=0, max=37051), HTML(value='')))"
      ]
     },
     "metadata": {},
     "output_type": "display_data"
    },
    {
     "name": "stderr",
     "output_type": "stream",
     "text": [
      "/home/skooch/.local/lib/python3.5/site-packages/sklearn/externals/joblib/parallel.py:547: UserWarning: Multiprocessing-backed parallel loops cannot be nested, setting n_jobs=1\n",
      "  **self._backend_args)\n"
     ]
    },
    {
     "data": {
      "application/vnd.jupyter.widget-view+json": {
       "model_id": "24ccc55b614a4e588844f07372fcdfcc",
       "version_major": 2,
       "version_minor": 0
      },
      "text/plain": [
       "HBox(children=(IntProgress(value=0, max=37095), HTML(value='')))"
      ]
     },
     "metadata": {},
     "output_type": "display_data"
    },
    {
     "name": "stdout",
     "output_type": "stream",
     "text": [
      "\n",
      "\n"
     ]
    },
    {
     "name": "stderr",
     "output_type": "stream",
     "text": [
      "/home/skooch/.local/lib/python3.5/site-packages/sklearn/externals/joblib/parallel.py:547: UserWarning: Multiprocessing-backed parallel loops cannot be nested, setting n_jobs=1\n",
      "  **self._backend_args)\n",
      "/home/skooch/.local/lib/python3.5/site-packages/sklearn/externals/joblib/parallel.py:547: UserWarning: Multiprocessing-backed parallel loops cannot be nested, setting n_jobs=1\n",
      "  **self._backend_args)\n"
     ]
    },
    {
     "data": {
      "application/vnd.jupyter.widget-view+json": {
       "model_id": "c2485a560d3f46d78a0fa189ede37905",
       "version_major": 2,
       "version_minor": 0
      },
      "text/plain": [
       "HBox(children=(IntProgress(value=0, max=37054), HTML(value='')))"
      ]
     },
     "metadata": {},
     "output_type": "display_data"
    },
    {
     "name": "stdout",
     "output_type": "stream",
     "text": [
      "\n",
      "1045 (0.0035, -0.0007, 1.5e-07, 7e-08, 250, True, 58, True, 20, 3.5e-05, 0) score: 0.5097386650374722\n",
      "\n"
     ]
    },
    {
     "name": "stderr",
     "output_type": "stream",
     "text": [
      "/home/skooch/.local/lib/python3.5/site-packages/sklearn/externals/joblib/parallel.py:547: UserWarning: Multiprocessing-backed parallel loops cannot be nested, setting n_jobs=1\n",
      "  **self._backend_args)\n",
      "/home/skooch/.local/lib/python3.5/site-packages/sklearn/externals/joblib/parallel.py:547: UserWarning: Multiprocessing-backed parallel loops cannot be nested, setting n_jobs=1\n",
      "  **self._backend_args)\n"
     ]
    },
    {
     "name": "stdout",
     "output_type": "stream",
     "text": [
      "1045 (0.0035, -0.0007, 1.5e-07, 7e-08, 250, True, 58, True, 20, 4.5e-05, 0) score: 0.5097263703270116\n",
      "1045 (0.0035, -0.0007, 1.5e-07, 5e-07, 250, True, 58, True, 20, 4.5e-05, 0) score: 0.510787076571554\n",
      "\n"
     ]
    },
    {
     "name": "stderr",
     "output_type": "stream",
     "text": [
      "/home/skooch/.local/lib/python3.5/site-packages/sklearn/externals/joblib/parallel.py:547: UserWarning: Multiprocessing-backed parallel loops cannot be nested, setting n_jobs=1\n",
      "  **self._backend_args)\n"
     ]
    },
    {
     "data": {
      "application/vnd.jupyter.widget-view+json": {
       "model_id": "908ed85a30f6485eb6c3e6a7b98d13f8",
       "version_major": 2,
       "version_minor": 0
      },
      "text/plain": [
       "HBox(children=(IntProgress(value=0, max=37050), HTML(value='')))"
      ]
     },
     "metadata": {},
     "output_type": "display_data"
    },
    {
     "name": "stdout",
     "output_type": "stream",
     "text": [
      "1045 (0.0035, -0.0007, 1.5e-07, 7e-08, 250, True, 70, True, 20, 3.5e-05, 0) score: 0.5090512597533841\n",
      "1045 (0.0035, -0.0007, 1.5e-07, 5e-07, 250, True, 58, True, 20, 3.5e-05, 0) score: 0.510787076571554\n",
      "1045 (0.0035, -0.0007, 1.5e-07, 7e-08, 250, True, 70, True, 20, 4.5e-05, 0) score: 0.5089557835629899\n",
      "\n"
     ]
    },
    {
     "name": "stderr",
     "output_type": "stream",
     "text": [
      "/home/skooch/.local/lib/python3.5/site-packages/sklearn/externals/joblib/parallel.py:547: UserWarning: Multiprocessing-backed parallel loops cannot be nested, setting n_jobs=1\n",
      "  **self._backend_args)\n"
     ]
    },
    {
     "data": {
      "application/vnd.jupyter.widget-view+json": {
       "model_id": "d3b97b45173c465cbef0dfc83c03f063",
       "version_major": 2,
       "version_minor": 0
      },
      "text/plain": [
       "HBox(children=(IntProgress(value=0, max=37046), HTML(value='')))"
      ]
     },
     "metadata": {},
     "output_type": "display_data"
    },
    {
     "name": "stdout",
     "output_type": "stream",
     "text": [
      "1045 (0.0035, -0.0007, 1.5e-07, 5e-07, 250, True, 70, True, 20, 3.5e-05, 0) score: 0.5087262739114251\n",
      "\n"
     ]
    },
    {
     "name": "stderr",
     "output_type": "stream",
     "text": [
      "/home/skooch/.local/lib/python3.5/site-packages/sklearn/externals/joblib/parallel.py:547: UserWarning: Multiprocessing-backed parallel loops cannot be nested, setting n_jobs=1\n",
      "  **self._backend_args)\n"
     ]
    },
    {
     "name": "stdout",
     "output_type": "stream",
     "text": [
      "1045 (0.0035, -0.0007, 1.5e-07, 5e-07, 250, True, 70, True, 20, 4.5e-05, 0) score: 0.5087262739114251\n"
     ]
    },
    {
     "data": {
      "application/vnd.jupyter.widget-view+json": {
       "model_id": "4dd72d5994d64314b3f1dde3dd82db52",
       "version_major": 2,
       "version_minor": 0
      },
      "text/plain": [
       "HBox(children=(IntProgress(value=0, max=35703), HTML(value='')))"
      ]
     },
     "metadata": {},
     "output_type": "display_data"
    },
    {
     "data": {
      "application/vnd.jupyter.widget-view+json": {
       "model_id": "42870f8988ec4aaaac92709d74afd7d0",
       "version_major": 2,
       "version_minor": 0
      },
      "text/plain": [
       "HBox(children=(IntProgress(value=0, max=35704), HTML(value='')))"
      ]
     },
     "metadata": {},
     "output_type": "display_data"
    },
    {
     "data": {
      "application/vnd.jupyter.widget-view+json": {
       "model_id": "196e8108c0404b3c9c6206c928efeb4f",
       "version_major": 2,
       "version_minor": 0
      },
      "text/plain": [
       "HBox(children=(IntProgress(value=0, max=35580), HTML(value='')))"
      ]
     },
     "metadata": {},
     "output_type": "display_data"
    },
    {
     "name": "stdout",
     "output_type": "stream",
     "text": [
      "\n"
     ]
    },
    {
     "name": "stderr",
     "output_type": "stream",
     "text": [
      "/home/skooch/.local/lib/python3.5/site-packages/sklearn/externals/joblib/parallel.py:547: UserWarning: Multiprocessing-backed parallel loops cannot be nested, setting n_jobs=1\n",
      "  **self._backend_args)\n"
     ]
    },
    {
     "data": {
      "application/vnd.jupyter.widget-view+json": {
       "model_id": "dacb0a42088c4e16b0f5173b7979c18d",
       "version_major": 2,
       "version_minor": 0
      },
      "text/plain": [
       "HBox(children=(IntProgress(value=0, max=35582), HTML(value='')))"
      ]
     },
     "metadata": {},
     "output_type": "display_data"
    },
    {
     "name": "stdout",
     "output_type": "stream",
     "text": [
      "\n",
      "\n"
     ]
    },
    {
     "name": "stderr",
     "output_type": "stream",
     "text": [
      "/home/skooch/.local/lib/python3.5/site-packages/sklearn/externals/joblib/parallel.py:547: UserWarning: Multiprocessing-backed parallel loops cannot be nested, setting n_jobs=1\n",
      "  **self._backend_args)\n",
      "/home/skooch/.local/lib/python3.5/site-packages/sklearn/externals/joblib/parallel.py:547: UserWarning: Multiprocessing-backed parallel loops cannot be nested, setting n_jobs=1\n",
      "  **self._backend_args)\n"
     ]
    },
    {
     "data": {
      "application/vnd.jupyter.widget-view+json": {
       "model_id": "d56766bc994546ea924502c39c511efa",
       "version_major": 2,
       "version_minor": 0
      },
      "text/plain": [
       "HBox(children=(IntProgress(value=0, max=35551), HTML(value='')))"
      ]
     },
     "metadata": {},
     "output_type": "display_data"
    },
    {
     "name": "stdout",
     "output_type": "stream",
     "text": [
      "1046 (0.0035, -0.0007, 1.5e-07, 7e-08, 250, True, 58, True, 20, 3.5e-05, 0) score: 0.5142438548880364\n",
      "\n"
     ]
    },
    {
     "data": {
      "application/vnd.jupyter.widget-view+json": {
       "model_id": "55f6ed16fa374e738e2d160167d088a1",
       "version_major": 2,
       "version_minor": 0
      },
      "text/plain": [
       "HBox(children=(IntProgress(value=0, max=35551), HTML(value='')))"
      ]
     },
     "metadata": {},
     "output_type": "display_data"
    },
    {
     "name": "stderr",
     "output_type": "stream",
     "text": [
      "/home/skooch/.local/lib/python3.5/site-packages/sklearn/externals/joblib/parallel.py:547: UserWarning: Multiprocessing-backed parallel loops cannot be nested, setting n_jobs=1\n",
      "  **self._backend_args)\n"
     ]
    },
    {
     "name": "stdout",
     "output_type": "stream",
     "text": [
      "1046 (0.0035, -0.0007, 1.5e-07, 7e-08, 250, True, 58, True, 20, 4.5e-05, 0) score: 0.5142005180985052\n",
      "1046 (0.0035, -0.0007, 1.5e-07, 5e-07, 250, True, 58, True, 20, 4.5e-05, 0) score: 0.5152297272545638\n",
      "\n"
     ]
    },
    {
     "name": "stderr",
     "output_type": "stream",
     "text": [
      "/home/skooch/.local/lib/python3.5/site-packages/sklearn/externals/joblib/parallel.py:547: UserWarning: Multiprocessing-backed parallel loops cannot be nested, setting n_jobs=1\n",
      "  **self._backend_args)\n"
     ]
    },
    {
     "name": "stdout",
     "output_type": "stream",
     "text": [
      "\n",
      "1046 (0.0035, -0.0007, 1.5e-07, 5e-07, 250, True, 58, True, 20, 3.5e-05, 0) score: 0.515203355755375\n"
     ]
    },
    {
     "data": {
      "application/vnd.jupyter.widget-view+json": {
       "model_id": "a188ec2c5be046a98e96a04ae16533c0",
       "version_major": 2,
       "version_minor": 0
      },
      "text/plain": [
       "HBox(children=(IntProgress(value=0, max=35451), HTML(value='')))"
      ]
     },
     "metadata": {},
     "output_type": "display_data"
    },
    {
     "name": "stderr",
     "output_type": "stream",
     "text": [
      "/home/skooch/.local/lib/python3.5/site-packages/sklearn/externals/joblib/parallel.py:547: UserWarning: Multiprocessing-backed parallel loops cannot be nested, setting n_jobs=1\n",
      "  **self._backend_args)\n"
     ]
    },
    {
     "name": "stdout",
     "output_type": "stream",
     "text": [
      "1046 (0.0035, -0.0007, 1.5e-07, 7e-08, 250, True, 70, True, 20, 3.5e-05, 0) score: 0.5118150130037975\n",
      "\n",
      "1046 (0.0035, -0.0007, 1.5e-07, 7e-08, 250, True, 70, True, 20, 4.5e-05, 0) score: 0.5117187566029315\n"
     ]
    },
    {
     "name": "stderr",
     "output_type": "stream",
     "text": [
      "/home/skooch/.local/lib/python3.5/site-packages/sklearn/externals/joblib/parallel.py:547: UserWarning: Multiprocessing-backed parallel loops cannot be nested, setting n_jobs=1\n",
      "  **self._backend_args)\n"
     ]
    },
    {
     "name": "stdout",
     "output_type": "stream",
     "text": [
      "1046 (0.0035, -0.0007, 1.5e-07, 5e-07, 250, True, 70, True, 20, 3.5e-05, 0) score: 0.5135590597672035\n"
     ]
    },
    {
     "data": {
      "application/vnd.jupyter.widget-view+json": {
       "model_id": "881449091d4d44e8bcea30a3a2366005",
       "version_major": 2,
       "version_minor": 0
      },
      "text/plain": [
       "HBox(children=(IntProgress(value=0, max=35450), HTML(value='')))"
      ]
     },
     "metadata": {},
     "output_type": "display_data"
    },
    {
     "name": "stdout",
     "output_type": "stream",
     "text": [
      "\n"
     ]
    },
    {
     "name": "stderr",
     "output_type": "stream",
     "text": [
      "/home/skooch/.local/lib/python3.5/site-packages/sklearn/externals/joblib/parallel.py:547: UserWarning: Multiprocessing-backed parallel loops cannot be nested, setting n_jobs=1\n",
      "  **self._backend_args)\n"
     ]
    },
    {
     "name": "stdout",
     "output_type": "stream",
     "text": [
      "1046 (0.0035, -0.0007, 1.5e-07, 5e-07, 250, True, 70, True, 20, 4.5e-05, 0) score: 0.5135676047473225\n"
     ]
    },
    {
     "data": {
      "application/vnd.jupyter.widget-view+json": {
       "model_id": "8d478e2b2cf84a3eb80eb8525d54288a",
       "version_major": 2,
       "version_minor": 0
      },
      "text/plain": [
       "HBox(children=(IntProgress(value=0, max=33202), HTML(value='')))"
      ]
     },
     "metadata": {},
     "output_type": "display_data"
    },
    {
     "data": {
      "application/vnd.jupyter.widget-view+json": {
       "model_id": "495a0e1e01c2430c99b1ba1dc37eba97",
       "version_major": 2,
       "version_minor": 0
      },
      "text/plain": [
       "HBox(children=(IntProgress(value=0, max=33102), HTML(value='')))"
      ]
     },
     "metadata": {},
     "output_type": "display_data"
    },
    {
     "name": "stdout",
     "output_type": "stream",
     "text": [
      "\n"
     ]
    },
    {
     "data": {
      "application/vnd.jupyter.widget-view+json": {
       "model_id": "5d1c2540179e4f358783ee57b65eeb8d",
       "version_major": 2,
       "version_minor": 0
      },
      "text/plain": [
       "HBox(children=(IntProgress(value=0, max=33199), HTML(value='')))"
      ]
     },
     "metadata": {},
     "output_type": "display_data"
    },
    {
     "name": "stderr",
     "output_type": "stream",
     "text": [
      "/home/skooch/.local/lib/python3.5/site-packages/sklearn/externals/joblib/parallel.py:547: UserWarning: Multiprocessing-backed parallel loops cannot be nested, setting n_jobs=1\n",
      "  **self._backend_args)\n"
     ]
    },
    {
     "name": "stdout",
     "output_type": "stream",
     "text": [
      "\n"
     ]
    },
    {
     "name": "stderr",
     "output_type": "stream",
     "text": [
      "/home/skooch/.local/lib/python3.5/site-packages/sklearn/externals/joblib/parallel.py:547: UserWarning: Multiprocessing-backed parallel loops cannot be nested, setting n_jobs=1\n",
      "  **self._backend_args)\n"
     ]
    },
    {
     "name": "stdout",
     "output_type": "stream",
     "text": [
      "\n",
      "1047 (0.0035, -0.0007, 1.5e-07, 7e-08, 250, True, 58, True, 20, 4.5e-05, 0) score: 0.5364850658240089\n"
     ]
    },
    {
     "data": {
      "application/vnd.jupyter.widget-view+json": {
       "model_id": "05ec8a8104984bbea1f207afe62cb8eb",
       "version_major": 2,
       "version_minor": 0
      },
      "text/plain": [
       "HBox(children=(IntProgress(value=0, max=33105), HTML(value='')))"
      ]
     },
     "metadata": {},
     "output_type": "display_data"
    },
    {
     "name": "stderr",
     "output_type": "stream",
     "text": [
      "/home/skooch/.local/lib/python3.5/site-packages/sklearn/externals/joblib/parallel.py:547: UserWarning: Multiprocessing-backed parallel loops cannot be nested, setting n_jobs=1\n",
      "  **self._backend_args)\n"
     ]
    },
    {
     "data": {
      "application/vnd.jupyter.widget-view+json": {
       "model_id": "4331b7dcd1c14582addd0e8cf79b45b1",
       "version_major": 2,
       "version_minor": 0
      },
      "text/plain": [
       "HBox(children=(IntProgress(value=0, max=32854), HTML(value='')))"
      ]
     },
     "metadata": {},
     "output_type": "display_data"
    },
    {
     "name": "stdout",
     "output_type": "stream",
     "text": [
      "1047 (0.0035, -0.0007, 1.5e-07, 5e-07, 250, True, 58, True, 20, 4.5e-05, 0) score: 0.5375182824714978\n",
      "1047 (0.0035, -0.0007, 1.5e-07, 7e-08, 250, True, 58, True, 20, 3.5e-05, 0) score: 0.536476109812608\n",
      "\n"
     ]
    },
    {
     "data": {
      "application/vnd.jupyter.widget-view+json": {
       "model_id": "8381f5525a9c4cc5ba42538da3fece43",
       "version_major": 2,
       "version_minor": 0
      },
      "text/plain": [
       "HBox(children=(IntProgress(value=0, max=32852), HTML(value='')))"
      ]
     },
     "metadata": {},
     "output_type": "display_data"
    },
    {
     "name": "stderr",
     "output_type": "stream",
     "text": [
      "/home/skooch/.local/lib/python3.5/site-packages/sklearn/externals/joblib/parallel.py:547: UserWarning: Multiprocessing-backed parallel loops cannot be nested, setting n_jobs=1\n",
      "  **self._backend_args)\n"
     ]
    },
    {
     "data": {
      "application/vnd.jupyter.widget-view+json": {
       "model_id": "c43c1801460e4ab4bcd5650b27e049be",
       "version_major": 2,
       "version_minor": 0
      },
      "text/plain": [
       "HBox(children=(IntProgress(value=0, max=32875), HTML(value='')))"
      ]
     },
     "metadata": {},
     "output_type": "display_data"
    },
    {
     "name": "stdout",
     "output_type": "stream",
     "text": [
      "\n"
     ]
    },
    {
     "name": "stderr",
     "output_type": "stream",
     "text": [
      "/home/skooch/.local/lib/python3.5/site-packages/sklearn/externals/joblib/parallel.py:547: UserWarning: Multiprocessing-backed parallel loops cannot be nested, setting n_jobs=1\n",
      "  **self._backend_args)\n"
     ]
    },
    {
     "name": "stdout",
     "output_type": "stream",
     "text": [
      "\n",
      "1047 (0.0035, -0.0007, 1.5e-07, 5e-07, 250, True, 58, True, 20, 3.5e-05, 0) score: 0.537445448682365\n"
     ]
    },
    {
     "name": "stderr",
     "output_type": "stream",
     "text": [
      "/home/skooch/.local/lib/python3.5/site-packages/sklearn/externals/joblib/parallel.py:547: UserWarning: Multiprocessing-backed parallel loops cannot be nested, setting n_jobs=1\n",
      "  **self._backend_args)\n"
     ]
    },
    {
     "name": "stdout",
     "output_type": "stream",
     "text": [
      "\n"
     ]
    },
    {
     "name": "stderr",
     "output_type": "stream",
     "text": [
      "/home/skooch/.local/lib/python3.5/site-packages/sklearn/externals/joblib/parallel.py:547: UserWarning: Multiprocessing-backed parallel loops cannot be nested, setting n_jobs=1\n",
      "  **self._backend_args)\n"
     ]
    },
    {
     "name": "stdout",
     "output_type": "stream",
     "text": [
      "1047 (0.0035, -0.0007, 1.5e-07, 7e-08, 250, True, 70, True, 20, 4.5e-05, 0) score: 0.5354776344923944\n",
      "1047 (0.0035, -0.0007, 1.5e-07, 7e-08, 250, True, 70, True, 20, 3.5e-05, 0) score: 0.5355857816053227\n",
      "1047 (0.0035, -0.0007, 1.5e-07, 5e-07, 250, True, 70, True, 20, 3.5e-05, 0) score: 0.5349229217210152\n"
     ]
    },
    {
     "data": {
      "application/vnd.jupyter.widget-view+json": {
       "model_id": "446e0028dc7d4c3fb4ae29a779bb0790",
       "version_major": 2,
       "version_minor": 0
      },
      "text/plain": [
       "HBox(children=(IntProgress(value=0, max=32875), HTML(value='')))"
      ]
     },
     "metadata": {},
     "output_type": "display_data"
    },
    {
     "name": "stdout",
     "output_type": "stream",
     "text": [
      "\n"
     ]
    },
    {
     "name": "stderr",
     "output_type": "stream",
     "text": [
      "/home/skooch/.local/lib/python3.5/site-packages/sklearn/externals/joblib/parallel.py:547: UserWarning: Multiprocessing-backed parallel loops cannot be nested, setting n_jobs=1\n",
      "  **self._backend_args)\n"
     ]
    },
    {
     "name": "stdout",
     "output_type": "stream",
     "text": [
      "1047 (0.0035, -0.0007, 1.5e-07, 5e-07, 250, True, 70, True, 20, 4.5e-05, 0) score: 0.534840480512104\n"
     ]
    },
    {
     "data": {
      "application/vnd.jupyter.widget-view+json": {
       "model_id": "f05e11afc03545e0bb62b446fb1364f2",
       "version_major": 2,
       "version_minor": 0
      },
      "text/plain": [
       "HBox(children=(IntProgress(value=0, max=34059), HTML(value='')))"
      ]
     },
     "metadata": {},
     "output_type": "display_data"
    },
    {
     "data": {
      "application/vnd.jupyter.widget-view+json": {
       "model_id": "3e2efa5f295647e19d5746a2fc1d1ae5",
       "version_major": 2,
       "version_minor": 0
      },
      "text/plain": [
       "HBox(children=(IntProgress(value=0, max=34058), HTML(value='')))"
      ]
     },
     "metadata": {},
     "output_type": "display_data"
    },
    {
     "name": "stdout",
     "output_type": "stream",
     "text": [
      "\n"
     ]
    },
    {
     "data": {
      "application/vnd.jupyter.widget-view+json": {
       "model_id": "9f28fee0a9044ae1a2fc700992ddf16c",
       "version_major": 2,
       "version_minor": 0
      },
      "text/plain": [
       "HBox(children=(IntProgress(value=0, max=33994), HTML(value='')))"
      ]
     },
     "metadata": {},
     "output_type": "display_data"
    },
    {
     "name": "stderr",
     "output_type": "stream",
     "text": [
      "/home/skooch/.local/lib/python3.5/site-packages/sklearn/externals/joblib/parallel.py:547: UserWarning: Multiprocessing-backed parallel loops cannot be nested, setting n_jobs=1\n",
      "  **self._backend_args)\n"
     ]
    },
    {
     "name": "stdout",
     "output_type": "stream",
     "text": [
      "\n"
     ]
    },
    {
     "name": "stderr",
     "output_type": "stream",
     "text": [
      "/home/skooch/.local/lib/python3.5/site-packages/sklearn/externals/joblib/parallel.py:547: UserWarning: Multiprocessing-backed parallel loops cannot be nested, setting n_jobs=1\n",
      "  **self._backend_args)\n"
     ]
    },
    {
     "name": "stdout",
     "output_type": "stream",
     "text": [
      "1048 (0.0035, -0.0007, 1.5e-07, 7e-08, 250, True, 58, True, 20, 4.5e-05, 0) score: 0.5309499983839032\n",
      "\n"
     ]
    },
    {
     "name": "stderr",
     "output_type": "stream",
     "text": [
      "/home/skooch/.local/lib/python3.5/site-packages/sklearn/externals/joblib/parallel.py:547: UserWarning: Multiprocessing-backed parallel loops cannot be nested, setting n_jobs=1\n",
      "  **self._backend_args)\n"
     ]
    },
    {
     "data": {
      "application/vnd.jupyter.widget-view+json": {
       "model_id": "84433bd31ce94f1db0effbc2f77bf4a2",
       "version_major": 2,
       "version_minor": 0
      },
      "text/plain": [
       "HBox(children=(IntProgress(value=0, max=33998), HTML(value='')))"
      ]
     },
     "metadata": {},
     "output_type": "display_data"
    },
    {
     "name": "stdout",
     "output_type": "stream",
     "text": [
      "1048 (0.0035, -0.0007, 1.5e-07, 7e-08, 250, True, 58, True, 20, 3.5e-05, 0) score: 0.5309499983839032\n"
     ]
    },
    {
     "data": {
      "application/vnd.jupyter.widget-view+json": {
       "model_id": "b77d1e948ff242e5b6a51bdfb31ff2d4",
       "version_major": 2,
       "version_minor": 0
      },
      "text/plain": [
       "HBox(children=(IntProgress(value=0, max=34012), HTML(value='')))"
      ]
     },
     "metadata": {},
     "output_type": "display_data"
    },
    {
     "data": {
      "application/vnd.jupyter.widget-view+json": {
       "model_id": "9204a49b12e943d5919d0932e69502f6",
       "version_major": 2,
       "version_minor": 0
      },
      "text/plain": [
       "HBox(children=(IntProgress(value=0, max=34013), HTML(value='')))"
      ]
     },
     "metadata": {},
     "output_type": "display_data"
    },
    {
     "name": "stdout",
     "output_type": "stream",
     "text": [
      "1048 (0.0035, -0.0007, 1.5e-07, 5e-07, 250, True, 58, True, 20, 4.5e-05, 0) score: 0.5319942150724728\n",
      "\n"
     ]
    },
    {
     "name": "stderr",
     "output_type": "stream",
     "text": [
      "/home/skooch/.local/lib/python3.5/site-packages/sklearn/externals/joblib/parallel.py:547: UserWarning: Multiprocessing-backed parallel loops cannot be nested, setting n_jobs=1\n",
      "  **self._backend_args)\n"
     ]
    },
    {
     "name": "stdout",
     "output_type": "stream",
     "text": [
      "\n",
      "\n"
     ]
    },
    {
     "name": "stderr",
     "output_type": "stream",
     "text": [
      "/home/skooch/.local/lib/python3.5/site-packages/sklearn/externals/joblib/parallel.py:547: UserWarning: Multiprocessing-backed parallel loops cannot be nested, setting n_jobs=1\n",
      "  **self._backend_args)\n",
      "/home/skooch/.local/lib/python3.5/site-packages/sklearn/externals/joblib/parallel.py:547: UserWarning: Multiprocessing-backed parallel loops cannot be nested, setting n_jobs=1\n",
      "  **self._backend_args)\n"
     ]
    },
    {
     "data": {
      "application/vnd.jupyter.widget-view+json": {
       "model_id": "c9509c542ad24540add57cde87ccc3e7",
       "version_major": 2,
       "version_minor": 0
      },
      "text/plain": [
       "HBox(children=(IntProgress(value=0, max=34016), HTML(value='')))"
      ]
     },
     "metadata": {},
     "output_type": "display_data"
    },
    {
     "name": "stdout",
     "output_type": "stream",
     "text": [
      "1048 (0.0035, -0.0007, 1.5e-07, 5e-07, 250, True, 58, True, 20, 3.5e-05, 0) score: 0.5319207851123338\n",
      "1048 (0.0035, -0.0007, 1.5e-07, 7e-08, 250, True, 70, True, 20, 3.5e-05, 0) score: 0.5296487168486692\n",
      "1048 (0.0035, -0.0007, 1.5e-07, 7e-08, 250, True, 70, True, 20, 4.5e-05, 0) score: 0.5296487168486692\n",
      "\n"
     ]
    },
    {
     "name": "stderr",
     "output_type": "stream",
     "text": [
      "/home/skooch/.local/lib/python3.5/site-packages/sklearn/externals/joblib/parallel.py:547: UserWarning: Multiprocessing-backed parallel loops cannot be nested, setting n_jobs=1\n",
      "  **self._backend_args)\n"
     ]
    },
    {
     "name": "stdout",
     "output_type": "stream",
     "text": [
      "1048 (0.0035, -0.0007, 1.5e-07, 5e-07, 250, True, 70, True, 20, 3.5e-05, 0) score: 0.5319737033989895\n"
     ]
    },
    {
     "data": {
      "application/vnd.jupyter.widget-view+json": {
       "model_id": "9dd8561f823545d99946d2e6b68ef774",
       "version_major": 2,
       "version_minor": 0
      },
      "text/plain": [
       "HBox(children=(IntProgress(value=0, max=34018), HTML(value='')))"
      ]
     },
     "metadata": {},
     "output_type": "display_data"
    },
    {
     "name": "stdout",
     "output_type": "stream",
     "text": [
      "\n"
     ]
    },
    {
     "name": "stderr",
     "output_type": "stream",
     "text": [
      "/home/skooch/.local/lib/python3.5/site-packages/sklearn/externals/joblib/parallel.py:547: UserWarning: Multiprocessing-backed parallel loops cannot be nested, setting n_jobs=1\n",
      "  **self._backend_args)\n"
     ]
    },
    {
     "name": "stdout",
     "output_type": "stream",
     "text": [
      "1048 (0.0035, -0.0007, 1.5e-07, 5e-07, 250, True, 70, True, 20, 4.5e-05, 0) score: 0.5320387880185535\n"
     ]
    },
    {
     "data": {
      "application/vnd.jupyter.widget-view+json": {
       "model_id": "e53d315e616d4fb5b06100c3f60d2d11",
       "version_major": 2,
       "version_minor": 0
      },
      "text/plain": [
       "HBox(children=(IntProgress(value=0, max=38466), HTML(value='')))"
      ]
     },
     "metadata": {},
     "output_type": "display_data"
    },
    {
     "data": {
      "application/vnd.jupyter.widget-view+json": {
       "model_id": "8b92f44d1adb49e1842674b6db0c9b32",
       "version_major": 2,
       "version_minor": 0
      },
      "text/plain": [
       "HBox(children=(IntProgress(value=0, max=38444), HTML(value='')))"
      ]
     },
     "metadata": {},
     "output_type": "display_data"
    },
    {
     "data": {
      "application/vnd.jupyter.widget-view+json": {
       "model_id": "9f80e30ba6ad4539aad29b825a3588e1",
       "version_major": 2,
       "version_minor": 0
      },
      "text/plain": [
       "HBox(children=(IntProgress(value=0, max=38466), HTML(value='')))"
      ]
     },
     "metadata": {},
     "output_type": "display_data"
    },
    {
     "name": "stdout",
     "output_type": "stream",
     "text": [
      "\n"
     ]
    },
    {
     "name": "stderr",
     "output_type": "stream",
     "text": [
      "/home/skooch/.local/lib/python3.5/site-packages/sklearn/externals/joblib/parallel.py:547: UserWarning: Multiprocessing-backed parallel loops cannot be nested, setting n_jobs=1\n",
      "  **self._backend_args)\n"
     ]
    },
    {
     "name": "stdout",
     "output_type": "stream",
     "text": [
      "\n"
     ]
    },
    {
     "name": "stderr",
     "output_type": "stream",
     "text": [
      "/home/skooch/.local/lib/python3.5/site-packages/sklearn/externals/joblib/parallel.py:547: UserWarning: Multiprocessing-backed parallel loops cannot be nested, setting n_jobs=1\n",
      "  **self._backend_args)\n"
     ]
    },
    {
     "name": "stdout",
     "output_type": "stream",
     "text": [
      "\n"
     ]
    },
    {
     "data": {
      "application/vnd.jupyter.widget-view+json": {
       "model_id": "db251963610d4d6791ba2558e79dc8fc",
       "version_major": 2,
       "version_minor": 0
      },
      "text/plain": [
       "HBox(children=(IntProgress(value=0, max=38306), HTML(value='')))"
      ]
     },
     "metadata": {},
     "output_type": "display_data"
    },
    {
     "data": {
      "application/vnd.jupyter.widget-view+json": {
       "model_id": "bbab3f2929624dd3a848033c8310c078",
       "version_major": 2,
       "version_minor": 0
      },
      "text/plain": [
       "HBox(children=(IntProgress(value=0, max=38448), HTML(value='')))"
      ]
     },
     "metadata": {},
     "output_type": "display_data"
    },
    {
     "name": "stderr",
     "output_type": "stream",
     "text": [
      "/home/skooch/.local/lib/python3.5/site-packages/sklearn/externals/joblib/parallel.py:547: UserWarning: Multiprocessing-backed parallel loops cannot be nested, setting n_jobs=1\n",
      "  **self._backend_args)\n"
     ]
    },
    {
     "name": "stdout",
     "output_type": "stream",
     "text": [
      "1049 (0.0035, -0.0007, 1.5e-07, 7e-08, 250, True, 58, True, 20, 4.5e-05, 0) score: 0.5157009997744808\n",
      "[1197, [0.0035, -0.0007, 1.5e-07, 7e-08, 250, 'eps', 58, True, 20, 4.5e-05, 0, 0.5226852095834932]]\n",
      "1049 (0.0035, -0.0007, 1.5e-07, 5e-07, 250, True, 58, True, 20, 4.5e-05, 0) score: 0.5154769548469176\n",
      "[1193, [0.0035, -0.0007, 1.5e-07, 5e-07, 250, 'eps', 58, True, 20, 4.5e-05, 0, 0.5233870613828902]]\n"
     ]
    },
    {
     "data": {
      "application/vnd.jupyter.widget-view+json": {
       "model_id": "6c63361d1946414b88a9e3ebed5e3b46",
       "version_major": 2,
       "version_minor": 0
      },
      "text/plain": [
       "HBox(children=(IntProgress(value=0, max=38307), HTML(value='')))"
      ]
     },
     "metadata": {},
     "output_type": "display_data"
    },
    {
     "name": "stdout",
     "output_type": "stream",
     "text": [
      "\n",
      "\n",
      "1049 (0.0035, -0.0007, 1.5e-07, 7e-08, 250, True, 58, True, 20, 3.5e-05, 0) score: 0.5157260423745811\n",
      "[1198, [0.0035, -0.0007, 1.5e-07, 7e-08, 250, 'eps', 58, True, 20, 3.5e-05, 0, 0.5227008770623616]]\n"
     ]
    },
    {
     "name": "stderr",
     "output_type": "stream",
     "text": [
      "/home/skooch/.local/lib/python3.5/site-packages/sklearn/externals/joblib/parallel.py:547: UserWarning: Multiprocessing-backed parallel loops cannot be nested, setting n_jobs=1\n",
      "  **self._backend_args)\n",
      "/home/skooch/.local/lib/python3.5/site-packages/sklearn/externals/joblib/parallel.py:547: UserWarning: Multiprocessing-backed parallel loops cannot be nested, setting n_jobs=1\n",
      "  **self._backend_args)\n"
     ]
    },
    {
     "data": {
      "application/vnd.jupyter.widget-view+json": {
       "model_id": "3d40861e877a4a3e953faa4c50d50fbb",
       "version_major": 2,
       "version_minor": 0
      },
      "text/plain": [
       "HBox(children=(IntProgress(value=0, max=38253), HTML(value='')))"
      ]
     },
     "metadata": {},
     "output_type": "display_data"
    },
    {
     "name": "stdout",
     "output_type": "stream",
     "text": [
      "\n"
     ]
    },
    {
     "name": "stderr",
     "output_type": "stream",
     "text": [
      "/home/skooch/.local/lib/python3.5/site-packages/sklearn/externals/joblib/parallel.py:547: UserWarning: Multiprocessing-backed parallel loops cannot be nested, setting n_jobs=1\n",
      "  **self._backend_args)\n"
     ]
    },
    {
     "name": "stdout",
     "output_type": "stream",
     "text": [
      "1049 (0.0035, -0.0007, 1.5e-07, 7e-08, 250, True, 70, True, 20, 4.5e-05, 0) score: 0.5145374599978823\n",
      "[1195, [0.0035, -0.0007, 1.5e-07, 7e-08, 250, 'eps', 70, True, 20, 4.5e-05, 0, 0.521410941833665]]\n",
      "1049 (0.0035, -0.0007, 1.5e-07, 5e-07, 250, True, 58, True, 20, 3.5e-05, 0) score: 0.5154769548469176\n",
      "[1194, [0.0035, -0.0007, 1.5e-07, 5e-07, 250, 'eps', 58, True, 20, 3.5e-05, 0, 0.5233665535344353]]\n",
      "\n"
     ]
    },
    {
     "name": "stderr",
     "output_type": "stream",
     "text": [
      "/home/skooch/.local/lib/python3.5/site-packages/sklearn/externals/joblib/parallel.py:547: UserWarning: Multiprocessing-backed parallel loops cannot be nested, setting n_jobs=1\n",
      "  **self._backend_args)\n"
     ]
    },
    {
     "name": "stdout",
     "output_type": "stream",
     "text": [
      "1049 (0.0035, -0.0007, 1.5e-07, 7e-08, 250, True, 70, True, 20, 3.5e-05, 0) score: 0.5145118571981584\n",
      "[1196, [0.0035, -0.0007, 1.5e-07, 7e-08, 250, 'eps', 70, True, 20, 3.5e-05, 0, 0.5214383695241115]]\n",
      "1049 (0.0035, -0.0007, 1.5e-07, 5e-07, 250, True, 70, True, 20, 3.5e-05, 0) score: 0.5144711861626092\n",
      "[1192, [0.0035, -0.0007, 1.5e-07, 5e-07, 250, 'eps', 70, True, 20, 3.5e-05, 0, 0.5221316521364199]]\n"
     ]
    },
    {
     "data": {
      "application/vnd.jupyter.widget-view+json": {
       "model_id": "71223da3907647098fd6222361fa3984",
       "version_major": 2,
       "version_minor": 0
      },
      "text/plain": [
       "HBox(children=(IntProgress(value=0, max=38252), HTML(value='')))"
      ]
     },
     "metadata": {},
     "output_type": "display_data"
    },
    {
     "name": "stdout",
     "output_type": "stream",
     "text": [
      "\n"
     ]
    },
    {
     "name": "stderr",
     "output_type": "stream",
     "text": [
      "/home/skooch/.local/lib/python3.5/site-packages/sklearn/externals/joblib/parallel.py:547: UserWarning: Multiprocessing-backed parallel loops cannot be nested, setting n_jobs=1\n",
      "  **self._backend_args)\n"
     ]
    },
    {
     "name": "stdout",
     "output_type": "stream",
     "text": [
      "1049 (0.0035, -0.0007, 1.5e-07, 5e-07, 250, True, 70, True, 20, 4.5e-05, 0) score: 0.5145517405594546\n",
      "[1191, [0.0035, -0.0007, 1.5e-07, 5e-07, 250, 'eps', 70, True, 20, 4.5e-05, 0, 0.5221521707821181]]\n"
     ]
    },
    {
     "data": {
      "text/html": [
       "<div>\n",
       "<style scoped>\n",
       "    .dataframe tbody tr th:only-of-type {\n",
       "        vertical-align: middle;\n",
       "    }\n",
       "\n",
       "    .dataframe tbody tr th {\n",
       "        vertical-align: top;\n",
       "    }\n",
       "\n",
       "    .dataframe thead th {\n",
       "        text-align: right;\n",
       "    }\n",
       "</style>\n",
       "<table border=\"1\" class=\"dataframe\">\n",
       "  <thead>\n",
       "    <tr style=\"text-align: right;\">\n",
       "      <th></th>\n",
       "      <th>eps</th>\n",
       "      <th>dz0</th>\n",
       "      <th>stepdz</th>\n",
       "      <th>stepeps</th>\n",
       "      <th>loops</th>\n",
       "      <th>step</th>\n",
       "      <th>weights</th>\n",
       "      <th>final_cluster</th>\n",
       "      <th>max_size</th>\n",
       "      <th>step_z</th>\n",
       "      <th>size_incr</th>\n",
       "      <th>acc</th>\n",
       "    </tr>\n",
       "  </thead>\n",
       "  <tbody>\n",
       "    <tr>\n",
       "      <th>1137</th>\n",
       "      <td>0.00350</td>\n",
       "      <td>-0.0007</td>\n",
       "      <td>1.500000e-07</td>\n",
       "      <td>7.000000e-08</td>\n",
       "      <td>250.0</td>\n",
       "      <td>eps</td>\n",
       "      <td>58</td>\n",
       "      <td>True</td>\n",
       "      <td>20</td>\n",
       "      <td>0.000045</td>\n",
       "      <td>0.00</td>\n",
       "      <td>0.530545</td>\n",
       "    </tr>\n",
       "    <tr>\n",
       "      <th>1143</th>\n",
       "      <td>0.00350</td>\n",
       "      <td>-0.0007</td>\n",
       "      <td>1.500000e-07</td>\n",
       "      <td>1.500000e-09</td>\n",
       "      <td>250.0</td>\n",
       "      <td>eps</td>\n",
       "      <td>58</td>\n",
       "      <td>True</td>\n",
       "      <td>20</td>\n",
       "      <td>0.000045</td>\n",
       "      <td>0.00</td>\n",
       "      <td>0.530490</td>\n",
       "    </tr>\n",
       "    <tr>\n",
       "      <th>1138</th>\n",
       "      <td>0.00350</td>\n",
       "      <td>-0.0007</td>\n",
       "      <td>1.500000e-07</td>\n",
       "      <td>7.000000e-08</td>\n",
       "      <td>250.0</td>\n",
       "      <td>eps</td>\n",
       "      <td>58</td>\n",
       "      <td>True</td>\n",
       "      <td>20</td>\n",
       "      <td>0.000002</td>\n",
       "      <td>0.00</td>\n",
       "      <td>0.530473</td>\n",
       "    </tr>\n",
       "    <tr>\n",
       "      <th>1128</th>\n",
       "      <td>0.00350</td>\n",
       "      <td>-0.0007</td>\n",
       "      <td>1.500000e-07</td>\n",
       "      <td>1.500000e-09</td>\n",
       "      <td>250.0</td>\n",
       "      <td>eps</td>\n",
       "      <td>58</td>\n",
       "      <td>True</td>\n",
       "      <td>20</td>\n",
       "      <td>0.000002</td>\n",
       "      <td>0.00</td>\n",
       "      <td>0.530456</td>\n",
       "    </tr>\n",
       "    <tr>\n",
       "      <th>1118</th>\n",
       "      <td>0.00350</td>\n",
       "      <td>-0.0007</td>\n",
       "      <td>1.500000e-07</td>\n",
       "      <td>1.500000e-09</td>\n",
       "      <td>200.0</td>\n",
       "      <td>eps</td>\n",
       "      <td>58</td>\n",
       "      <td>True</td>\n",
       "      <td>20</td>\n",
       "      <td>0.000002</td>\n",
       "      <td>0.00</td>\n",
       "      <td>0.530382</td>\n",
       "    </tr>\n",
       "    <tr>\n",
       "      <th>1117</th>\n",
       "      <td>0.00350</td>\n",
       "      <td>-0.0007</td>\n",
       "      <td>1.500000e-07</td>\n",
       "      <td>1.500000e-09</td>\n",
       "      <td>200.0</td>\n",
       "      <td>eps</td>\n",
       "      <td>58</td>\n",
       "      <td>True</td>\n",
       "      <td>20</td>\n",
       "      <td>0.000000</td>\n",
       "      <td>0.00</td>\n",
       "      <td>0.530377</td>\n",
       "    </tr>\n",
       "    <tr>\n",
       "      <th>1133</th>\n",
       "      <td>0.00350</td>\n",
       "      <td>-0.0007</td>\n",
       "      <td>1.500000e-07</td>\n",
       "      <td>1.500000e-09</td>\n",
       "      <td>275.0</td>\n",
       "      <td>eps</td>\n",
       "      <td>58</td>\n",
       "      <td>True</td>\n",
       "      <td>20</td>\n",
       "      <td>0.000002</td>\n",
       "      <td>0.00</td>\n",
       "      <td>0.530093</td>\n",
       "    </tr>\n",
       "    <tr>\n",
       "      <th>1123</th>\n",
       "      <td>0.00350</td>\n",
       "      <td>-0.0007</td>\n",
       "      <td>1.500000e-07</td>\n",
       "      <td>1.500000e-09</td>\n",
       "      <td>200.0</td>\n",
       "      <td>eps</td>\n",
       "      <td>58</td>\n",
       "      <td>True</td>\n",
       "      <td>20</td>\n",
       "      <td>0.000002</td>\n",
       "      <td>0.00</td>\n",
       "      <td>0.529915</td>\n",
       "    </tr>\n",
       "    <tr>\n",
       "      <th>1131</th>\n",
       "      <td>0.00350</td>\n",
       "      <td>-0.0007</td>\n",
       "      <td>1.500000e-07</td>\n",
       "      <td>1.500000e-09</td>\n",
       "      <td>250.0</td>\n",
       "      <td>eps</td>\n",
       "      <td>65</td>\n",
       "      <td>True</td>\n",
       "      <td>20</td>\n",
       "      <td>0.000002</td>\n",
       "      <td>0.00</td>\n",
       "      <td>0.529439</td>\n",
       "    </tr>\n",
       "    <tr>\n",
       "      <th>1121</th>\n",
       "      <td>0.00350</td>\n",
       "      <td>-0.0007</td>\n",
       "      <td>1.500000e-07</td>\n",
       "      <td>1.500000e-09</td>\n",
       "      <td>200.0</td>\n",
       "      <td>eps</td>\n",
       "      <td>62</td>\n",
       "      <td>True</td>\n",
       "      <td>20</td>\n",
       "      <td>0.000000</td>\n",
       "      <td>0.00</td>\n",
       "      <td>0.529137</td>\n",
       "    </tr>\n",
       "    <tr>\n",
       "      <th>1122</th>\n",
       "      <td>0.00350</td>\n",
       "      <td>-0.0007</td>\n",
       "      <td>1.500000e-07</td>\n",
       "      <td>1.500000e-09</td>\n",
       "      <td>200.0</td>\n",
       "      <td>eps</td>\n",
       "      <td>62</td>\n",
       "      <td>True</td>\n",
       "      <td>20</td>\n",
       "      <td>0.000002</td>\n",
       "      <td>0.00</td>\n",
       "      <td>0.529122</td>\n",
       "    </tr>\n",
       "    <tr>\n",
       "      <th>1136</th>\n",
       "      <td>0.00350</td>\n",
       "      <td>-0.0007</td>\n",
       "      <td>1.500000e-07</td>\n",
       "      <td>1.500000e-09</td>\n",
       "      <td>275.0</td>\n",
       "      <td>eps</td>\n",
       "      <td>65</td>\n",
       "      <td>True</td>\n",
       "      <td>20</td>\n",
       "      <td>0.000002</td>\n",
       "      <td>0.00</td>\n",
       "      <td>0.529003</td>\n",
       "    </tr>\n",
       "    <tr>\n",
       "      <th>1120</th>\n",
       "      <td>0.00350</td>\n",
       "      <td>-0.0007</td>\n",
       "      <td>1.500000e-07</td>\n",
       "      <td>1.500000e-09</td>\n",
       "      <td>200.0</td>\n",
       "      <td>eps</td>\n",
       "      <td>61</td>\n",
       "      <td>True</td>\n",
       "      <td>20</td>\n",
       "      <td>0.000002</td>\n",
       "      <td>0.00</td>\n",
       "      <td>0.528761</td>\n",
       "    </tr>\n",
       "    <tr>\n",
       "      <th>1119</th>\n",
       "      <td>0.00350</td>\n",
       "      <td>-0.0007</td>\n",
       "      <td>1.500000e-07</td>\n",
       "      <td>1.500000e-09</td>\n",
       "      <td>200.0</td>\n",
       "      <td>eps</td>\n",
       "      <td>61</td>\n",
       "      <td>True</td>\n",
       "      <td>20</td>\n",
       "      <td>0.000000</td>\n",
       "      <td>0.00</td>\n",
       "      <td>0.528761</td>\n",
       "    </tr>\n",
       "    <tr>\n",
       "      <th>1126</th>\n",
       "      <td>0.00350</td>\n",
       "      <td>-0.0007</td>\n",
       "      <td>1.500000e-07</td>\n",
       "      <td>1.500000e-09</td>\n",
       "      <td>200.0</td>\n",
       "      <td>eps</td>\n",
       "      <td>65</td>\n",
       "      <td>True</td>\n",
       "      <td>20</td>\n",
       "      <td>0.000002</td>\n",
       "      <td>0.00</td>\n",
       "      <td>0.528752</td>\n",
       "    </tr>\n",
       "    <tr>\n",
       "      <th>1129</th>\n",
       "      <td>0.00350</td>\n",
       "      <td>-0.0007</td>\n",
       "      <td>1.500000e-07</td>\n",
       "      <td>1.500000e-09</td>\n",
       "      <td>250.0</td>\n",
       "      <td>eps</td>\n",
       "      <td>63</td>\n",
       "      <td>True</td>\n",
       "      <td>20</td>\n",
       "      <td>0.000002</td>\n",
       "      <td>0.00</td>\n",
       "      <td>0.528513</td>\n",
       "    </tr>\n",
       "    <tr>\n",
       "      <th>1106</th>\n",
       "      <td>0.00350</td>\n",
       "      <td>-0.0007</td>\n",
       "      <td>1.500000e-07</td>\n",
       "      <td>1.500000e-09</td>\n",
       "      <td>175.0</td>\n",
       "      <td>eps</td>\n",
       "      <td>58</td>\n",
       "      <td>True</td>\n",
       "      <td>20</td>\n",
       "      <td>0.000002</td>\n",
       "      <td>0.00</td>\n",
       "      <td>0.528321</td>\n",
       "    </tr>\n",
       "    <tr>\n",
       "      <th>1105</th>\n",
       "      <td>0.00350</td>\n",
       "      <td>-0.0007</td>\n",
       "      <td>1.500000e-07</td>\n",
       "      <td>1.500000e-09</td>\n",
       "      <td>175.0</td>\n",
       "      <td>eps</td>\n",
       "      <td>58</td>\n",
       "      <td>True</td>\n",
       "      <td>20</td>\n",
       "      <td>0.000000</td>\n",
       "      <td>0.00</td>\n",
       "      <td>0.528316</td>\n",
       "    </tr>\n",
       "    <tr>\n",
       "      <th>1134</th>\n",
       "      <td>0.00350</td>\n",
       "      <td>-0.0007</td>\n",
       "      <td>1.500000e-07</td>\n",
       "      <td>1.500000e-09</td>\n",
       "      <td>275.0</td>\n",
       "      <td>eps</td>\n",
       "      <td>63</td>\n",
       "      <td>True</td>\n",
       "      <td>20</td>\n",
       "      <td>0.000002</td>\n",
       "      <td>0.00</td>\n",
       "      <td>0.528288</td>\n",
       "    </tr>\n",
       "    <tr>\n",
       "      <th>1124</th>\n",
       "      <td>0.00350</td>\n",
       "      <td>-0.0007</td>\n",
       "      <td>1.500000e-07</td>\n",
       "      <td>1.500000e-09</td>\n",
       "      <td>200.0</td>\n",
       "      <td>eps</td>\n",
       "      <td>63</td>\n",
       "      <td>True</td>\n",
       "      <td>20</td>\n",
       "      <td>0.000002</td>\n",
       "      <td>0.00</td>\n",
       "      <td>0.528052</td>\n",
       "    </tr>\n",
       "    <tr>\n",
       "      <th>1115</th>\n",
       "      <td>0.00350</td>\n",
       "      <td>-0.0007</td>\n",
       "      <td>1.500000e-07</td>\n",
       "      <td>1.500000e-09</td>\n",
       "      <td>175.0</td>\n",
       "      <td>eps</td>\n",
       "      <td>62</td>\n",
       "      <td>True</td>\n",
       "      <td>20</td>\n",
       "      <td>0.000000</td>\n",
       "      <td>0.00</td>\n",
       "      <td>0.527008</td>\n",
       "    </tr>\n",
       "    <tr>\n",
       "      <th>1116</th>\n",
       "      <td>0.00350</td>\n",
       "      <td>-0.0007</td>\n",
       "      <td>1.500000e-07</td>\n",
       "      <td>1.500000e-09</td>\n",
       "      <td>175.0</td>\n",
       "      <td>eps</td>\n",
       "      <td>62</td>\n",
       "      <td>True</td>\n",
       "      <td>20</td>\n",
       "      <td>0.000002</td>\n",
       "      <td>0.00</td>\n",
       "      <td>0.526993</td>\n",
       "    </tr>\n",
       "    <tr>\n",
       "      <th>1114</th>\n",
       "      <td>0.00350</td>\n",
       "      <td>-0.0007</td>\n",
       "      <td>1.500000e-07</td>\n",
       "      <td>1.500000e-09</td>\n",
       "      <td>175.0</td>\n",
       "      <td>eps</td>\n",
       "      <td>61</td>\n",
       "      <td>True</td>\n",
       "      <td>20</td>\n",
       "      <td>0.000002</td>\n",
       "      <td>0.00</td>\n",
       "      <td>0.526725</td>\n",
       "    </tr>\n",
       "    <tr>\n",
       "      <th>1113</th>\n",
       "      <td>0.00350</td>\n",
       "      <td>-0.0007</td>\n",
       "      <td>1.500000e-07</td>\n",
       "      <td>1.500000e-09</td>\n",
       "      <td>175.0</td>\n",
       "      <td>eps</td>\n",
       "      <td>61</td>\n",
       "      <td>True</td>\n",
       "      <td>20</td>\n",
       "      <td>0.000000</td>\n",
       "      <td>0.00</td>\n",
       "      <td>0.526724</td>\n",
       "    </tr>\n",
       "    <tr>\n",
       "      <th>1132</th>\n",
       "      <td>0.00350</td>\n",
       "      <td>-0.0007</td>\n",
       "      <td>1.500000e-07</td>\n",
       "      <td>1.500000e-09</td>\n",
       "      <td>250.0</td>\n",
       "      <td>eps</td>\n",
       "      <td>66</td>\n",
       "      <td>True</td>\n",
       "      <td>20</td>\n",
       "      <td>0.000002</td>\n",
       "      <td>0.00</td>\n",
       "      <td>0.526666</td>\n",
       "    </tr>\n",
       "    <tr>\n",
       "      <th>1127</th>\n",
       "      <td>0.00350</td>\n",
       "      <td>-0.0007</td>\n",
       "      <td>1.500000e-07</td>\n",
       "      <td>1.500000e-09</td>\n",
       "      <td>200.0</td>\n",
       "      <td>eps</td>\n",
       "      <td>66</td>\n",
       "      <td>True</td>\n",
       "      <td>20</td>\n",
       "      <td>0.000002</td>\n",
       "      <td>0.00</td>\n",
       "      <td>0.526032</td>\n",
       "    </tr>\n",
       "    <tr>\n",
       "      <th>1165</th>\n",
       "      <td>0.00350</td>\n",
       "      <td>-0.0007</td>\n",
       "      <td>7.000000e-07</td>\n",
       "      <td>2.000000e-09</td>\n",
       "      <td>250.0</td>\n",
       "      <td>eps</td>\n",
       "      <td>70</td>\n",
       "      <td>True</td>\n",
       "      <td>20</td>\n",
       "      <td>0.000045</td>\n",
       "      <td>0.00</td>\n",
       "      <td>0.525947</td>\n",
       "    </tr>\n",
       "    <tr>\n",
       "      <th>1161</th>\n",
       "      <td>0.00350</td>\n",
       "      <td>-0.0007</td>\n",
       "      <td>7.000000e-07</td>\n",
       "      <td>1.500000e-09</td>\n",
       "      <td>250.0</td>\n",
       "      <td>eps</td>\n",
       "      <td>70</td>\n",
       "      <td>True</td>\n",
       "      <td>20</td>\n",
       "      <td>0.000045</td>\n",
       "      <td>0.00</td>\n",
       "      <td>0.525947</td>\n",
       "    </tr>\n",
       "    <tr>\n",
       "      <th>1162</th>\n",
       "      <td>0.00350</td>\n",
       "      <td>-0.0007</td>\n",
       "      <td>7.000000e-07</td>\n",
       "      <td>1.500000e-09</td>\n",
       "      <td>250.0</td>\n",
       "      <td>eps</td>\n",
       "      <td>70</td>\n",
       "      <td>True</td>\n",
       "      <td>20</td>\n",
       "      <td>0.000040</td>\n",
       "      <td>0.00</td>\n",
       "      <td>0.525946</td>\n",
       "    </tr>\n",
       "    <tr>\n",
       "      <th>1166</th>\n",
       "      <td>0.00350</td>\n",
       "      <td>-0.0007</td>\n",
       "      <td>7.000000e-07</td>\n",
       "      <td>2.000000e-09</td>\n",
       "      <td>250.0</td>\n",
       "      <td>eps</td>\n",
       "      <td>70</td>\n",
       "      <td>True</td>\n",
       "      <td>20</td>\n",
       "      <td>0.000040</td>\n",
       "      <td>0.00</td>\n",
       "      <td>0.525946</td>\n",
       "    </tr>\n",
       "    <tr>\n",
       "      <th>...</th>\n",
       "      <td>...</td>\n",
       "      <td>...</td>\n",
       "      <td>...</td>\n",
       "      <td>...</td>\n",
       "      <td>...</td>\n",
       "      <td>...</td>\n",
       "      <td>...</td>\n",
       "      <td>...</td>\n",
       "      <td>...</td>\n",
       "      <td>...</td>\n",
       "      <td>...</td>\n",
       "      <td>...</td>\n",
       "    </tr>\n",
       "    <tr>\n",
       "      <th>486</th>\n",
       "      <td>0.00370</td>\n",
       "      <td>-0.0007</td>\n",
       "      <td>2.000000e-06</td>\n",
       "      <td>0.000000e+00</td>\n",
       "      <td>170.0</td>\n",
       "      <td>eps</td>\n",
       "      <td>7</td>\n",
       "      <td>True</td>\n",
       "      <td>20</td>\n",
       "      <td>0.000000</td>\n",
       "      <td>0.00</td>\n",
       "      <td>0.494419</td>\n",
       "    </tr>\n",
       "    <tr>\n",
       "      <th>500</th>\n",
       "      <td>0.00370</td>\n",
       "      <td>-0.0007</td>\n",
       "      <td>2.000000e-06</td>\n",
       "      <td>0.000000e+00</td>\n",
       "      <td>155.0</td>\n",
       "      <td>eps</td>\n",
       "      <td>4</td>\n",
       "      <td>True</td>\n",
       "      <td>20</td>\n",
       "      <td>0.000000</td>\n",
       "      <td>0.00</td>\n",
       "      <td>0.494307</td>\n",
       "    </tr>\n",
       "    <tr>\n",
       "      <th>472</th>\n",
       "      <td>0.00350</td>\n",
       "      <td>-0.0007</td>\n",
       "      <td>3.000000e-06</td>\n",
       "      <td>2.000000e-06</td>\n",
       "      <td>160.0</td>\n",
       "      <td>eps</td>\n",
       "      <td>7</td>\n",
       "      <td>True</td>\n",
       "      <td>20</td>\n",
       "      <td>0.000000</td>\n",
       "      <td>0.00</td>\n",
       "      <td>0.493401</td>\n",
       "    </tr>\n",
       "    <tr>\n",
       "      <th>477</th>\n",
       "      <td>0.00350</td>\n",
       "      <td>-0.0007</td>\n",
       "      <td>3.000000e-06</td>\n",
       "      <td>0.000000e+00</td>\n",
       "      <td>170.0</td>\n",
       "      <td>eps</td>\n",
       "      <td>7</td>\n",
       "      <td>False</td>\n",
       "      <td>20</td>\n",
       "      <td>0.000000</td>\n",
       "      <td>0.00</td>\n",
       "      <td>0.493394</td>\n",
       "    </tr>\n",
       "    <tr>\n",
       "      <th>469</th>\n",
       "      <td>0.00350</td>\n",
       "      <td>-0.0007</td>\n",
       "      <td>2.000000e-06</td>\n",
       "      <td>0.000000e+00</td>\n",
       "      <td>170.0</td>\n",
       "      <td>eps</td>\n",
       "      <td>7</td>\n",
       "      <td>False</td>\n",
       "      <td>20</td>\n",
       "      <td>0.000000</td>\n",
       "      <td>0.00</td>\n",
       "      <td>0.493325</td>\n",
       "    </tr>\n",
       "    <tr>\n",
       "      <th>462</th>\n",
       "      <td>0.00360</td>\n",
       "      <td>-0.0007</td>\n",
       "      <td>3.000000e-06</td>\n",
       "      <td>2.000000e-16</td>\n",
       "      <td>170.0</td>\n",
       "      <td>eps</td>\n",
       "      <td>6</td>\n",
       "      <td>True</td>\n",
       "      <td>20</td>\n",
       "      <td>0.000000</td>\n",
       "      <td>0.00</td>\n",
       "      <td>0.492377</td>\n",
       "    </tr>\n",
       "    <tr>\n",
       "      <th>502</th>\n",
       "      <td>0.00370</td>\n",
       "      <td>-0.0007</td>\n",
       "      <td>2.000000e-06</td>\n",
       "      <td>1.000000e-06</td>\n",
       "      <td>155.0</td>\n",
       "      <td>eps</td>\n",
       "      <td>4</td>\n",
       "      <td>True</td>\n",
       "      <td>20</td>\n",
       "      <td>0.000000</td>\n",
       "      <td>0.00</td>\n",
       "      <td>0.492239</td>\n",
       "    </tr>\n",
       "    <tr>\n",
       "      <th>464</th>\n",
       "      <td>0.00350</td>\n",
       "      <td>-0.0007</td>\n",
       "      <td>2.000000e-06</td>\n",
       "      <td>2.000000e-06</td>\n",
       "      <td>160.0</td>\n",
       "      <td>eps</td>\n",
       "      <td>7</td>\n",
       "      <td>True</td>\n",
       "      <td>20</td>\n",
       "      <td>0.000000</td>\n",
       "      <td>0.00</td>\n",
       "      <td>0.492153</td>\n",
       "    </tr>\n",
       "    <tr>\n",
       "      <th>474</th>\n",
       "      <td>0.00350</td>\n",
       "      <td>-0.0007</td>\n",
       "      <td>3.000000e-06</td>\n",
       "      <td>2.000000e-06</td>\n",
       "      <td>170.0</td>\n",
       "      <td>eps</td>\n",
       "      <td>7</td>\n",
       "      <td>True</td>\n",
       "      <td>20</td>\n",
       "      <td>0.000000</td>\n",
       "      <td>0.00</td>\n",
       "      <td>0.491889</td>\n",
       "    </tr>\n",
       "    <tr>\n",
       "      <th>475</th>\n",
       "      <td>0.00350</td>\n",
       "      <td>-0.0007</td>\n",
       "      <td>3.000000e-06</td>\n",
       "      <td>0.000000e+00</td>\n",
       "      <td>160.0</td>\n",
       "      <td>eps</td>\n",
       "      <td>7</td>\n",
       "      <td>False</td>\n",
       "      <td>20</td>\n",
       "      <td>0.000000</td>\n",
       "      <td>0.00</td>\n",
       "      <td>0.491885</td>\n",
       "    </tr>\n",
       "    <tr>\n",
       "      <th>467</th>\n",
       "      <td>0.00350</td>\n",
       "      <td>-0.0007</td>\n",
       "      <td>2.000000e-06</td>\n",
       "      <td>0.000000e+00</td>\n",
       "      <td>160.0</td>\n",
       "      <td>eps</td>\n",
       "      <td>7</td>\n",
       "      <td>False</td>\n",
       "      <td>20</td>\n",
       "      <td>0.000000</td>\n",
       "      <td>0.00</td>\n",
       "      <td>0.491866</td>\n",
       "    </tr>\n",
       "    <tr>\n",
       "      <th>506</th>\n",
       "      <td>0.00370</td>\n",
       "      <td>-0.0007</td>\n",
       "      <td>1.000000e-06</td>\n",
       "      <td>1.000000e-06</td>\n",
       "      <td>155.0</td>\n",
       "      <td>eps</td>\n",
       "      <td>4</td>\n",
       "      <td>True</td>\n",
       "      <td>20</td>\n",
       "      <td>0.000000</td>\n",
       "      <td>0.00</td>\n",
       "      <td>0.491750</td>\n",
       "    </tr>\n",
       "    <tr>\n",
       "      <th>501</th>\n",
       "      <td>0.00370</td>\n",
       "      <td>-0.0007</td>\n",
       "      <td>2.000000e-06</td>\n",
       "      <td>1.000000e-06</td>\n",
       "      <td>160.0</td>\n",
       "      <td>eps</td>\n",
       "      <td>4</td>\n",
       "      <td>True</td>\n",
       "      <td>20</td>\n",
       "      <td>0.000000</td>\n",
       "      <td>0.00</td>\n",
       "      <td>0.491691</td>\n",
       "    </tr>\n",
       "    <tr>\n",
       "      <th>1019</th>\n",
       "      <td>0.00350</td>\n",
       "      <td>-0.0007</td>\n",
       "      <td>1.500000e-07</td>\n",
       "      <td>0.000000e+00</td>\n",
       "      <td>155.0</td>\n",
       "      <td>eps</td>\n",
       "      <td>25</td>\n",
       "      <td>True</td>\n",
       "      <td>17</td>\n",
       "      <td>0.000002</td>\n",
       "      <td>-0.05</td>\n",
       "      <td>0.491469</td>\n",
       "    </tr>\n",
       "    <tr>\n",
       "      <th>1010</th>\n",
       "      <td>0.00350</td>\n",
       "      <td>-0.0007</td>\n",
       "      <td>1.500000e-07</td>\n",
       "      <td>1.500000e-09</td>\n",
       "      <td>155.0</td>\n",
       "      <td>eps</td>\n",
       "      <td>25</td>\n",
       "      <td>True</td>\n",
       "      <td>17</td>\n",
       "      <td>0.000002</td>\n",
       "      <td>-0.05</td>\n",
       "      <td>0.491463</td>\n",
       "    </tr>\n",
       "    <tr>\n",
       "      <th>505</th>\n",
       "      <td>0.00370</td>\n",
       "      <td>-0.0007</td>\n",
       "      <td>1.000000e-06</td>\n",
       "      <td>1.000000e-06</td>\n",
       "      <td>160.0</td>\n",
       "      <td>eps</td>\n",
       "      <td>4</td>\n",
       "      <td>True</td>\n",
       "      <td>20</td>\n",
       "      <td>0.000000</td>\n",
       "      <td>0.00</td>\n",
       "      <td>0.491284</td>\n",
       "    </tr>\n",
       "    <tr>\n",
       "      <th>438</th>\n",
       "      <td>0.00370</td>\n",
       "      <td>-0.0007</td>\n",
       "      <td>1.000000e-05</td>\n",
       "      <td>3.000000e-06</td>\n",
       "      <td>160.0</td>\n",
       "      <td>eps</td>\n",
       "      <td>-1</td>\n",
       "      <td>True</td>\n",
       "      <td>20</td>\n",
       "      <td>0.000000</td>\n",
       "      <td>0.00</td>\n",
       "      <td>0.491072</td>\n",
       "    </tr>\n",
       "    <tr>\n",
       "      <th>437</th>\n",
       "      <td>0.00370</td>\n",
       "      <td>-0.0007</td>\n",
       "      <td>1.000000e-05</td>\n",
       "      <td>3.000000e-06</td>\n",
       "      <td>150.0</td>\n",
       "      <td>eps</td>\n",
       "      <td>-1</td>\n",
       "      <td>True</td>\n",
       "      <td>20</td>\n",
       "      <td>0.000000</td>\n",
       "      <td>0.00</td>\n",
       "      <td>0.491066</td>\n",
       "    </tr>\n",
       "    <tr>\n",
       "      <th>466</th>\n",
       "      <td>0.00350</td>\n",
       "      <td>-0.0007</td>\n",
       "      <td>2.000000e-06</td>\n",
       "      <td>2.000000e-06</td>\n",
       "      <td>170.0</td>\n",
       "      <td>eps</td>\n",
       "      <td>7</td>\n",
       "      <td>True</td>\n",
       "      <td>20</td>\n",
       "      <td>0.000000</td>\n",
       "      <td>0.00</td>\n",
       "      <td>0.490752</td>\n",
       "    </tr>\n",
       "    <tr>\n",
       "      <th>435</th>\n",
       "      <td>0.00370</td>\n",
       "      <td>-0.0007</td>\n",
       "      <td>1.000000e-05</td>\n",
       "      <td>2.500000e-06</td>\n",
       "      <td>160.0</td>\n",
       "      <td>eps</td>\n",
       "      <td>-1</td>\n",
       "      <td>True</td>\n",
       "      <td>20</td>\n",
       "      <td>0.000000</td>\n",
       "      <td>0.00</td>\n",
       "      <td>0.490736</td>\n",
       "    </tr>\n",
       "    <tr>\n",
       "      <th>434</th>\n",
       "      <td>0.00370</td>\n",
       "      <td>-0.0007</td>\n",
       "      <td>1.000000e-05</td>\n",
       "      <td>2.500000e-06</td>\n",
       "      <td>150.0</td>\n",
       "      <td>eps</td>\n",
       "      <td>-1</td>\n",
       "      <td>True</td>\n",
       "      <td>20</td>\n",
       "      <td>0.000000</td>\n",
       "      <td>0.00</td>\n",
       "      <td>0.490604</td>\n",
       "    </tr>\n",
       "    <tr>\n",
       "      <th>428</th>\n",
       "      <td>0.00375</td>\n",
       "      <td>-0.0007</td>\n",
       "      <td>1.000000e-05</td>\n",
       "      <td>3.000000e-06</td>\n",
       "      <td>150.0</td>\n",
       "      <td>eps</td>\n",
       "      <td>-1</td>\n",
       "      <td>True</td>\n",
       "      <td>20</td>\n",
       "      <td>0.000000</td>\n",
       "      <td>0.00</td>\n",
       "      <td>0.490047</td>\n",
       "    </tr>\n",
       "    <tr>\n",
       "      <th>1191</th>\n",
       "      <td>0.00350</td>\n",
       "      <td>-0.0007</td>\n",
       "      <td>1.500000e-07</td>\n",
       "      <td>5.000000e-07</td>\n",
       "      <td>250.0</td>\n",
       "      <td>eps</td>\n",
       "      <td>70</td>\n",
       "      <td>True</td>\n",
       "      <td>20</td>\n",
       "      <td>0.000045</td>\n",
       "      <td>0.00</td>\n",
       "      <td>0.522152</td>\n",
       "    </tr>\n",
       "    <tr>\n",
       "      <th>1192</th>\n",
       "      <td>0.00350</td>\n",
       "      <td>-0.0007</td>\n",
       "      <td>1.500000e-07</td>\n",
       "      <td>5.000000e-07</td>\n",
       "      <td>250.0</td>\n",
       "      <td>eps</td>\n",
       "      <td>70</td>\n",
       "      <td>True</td>\n",
       "      <td>20</td>\n",
       "      <td>0.000035</td>\n",
       "      <td>0.00</td>\n",
       "      <td>0.522132</td>\n",
       "    </tr>\n",
       "    <tr>\n",
       "      <th>1193</th>\n",
       "      <td>0.00350</td>\n",
       "      <td>-0.0007</td>\n",
       "      <td>1.500000e-07</td>\n",
       "      <td>5.000000e-07</td>\n",
       "      <td>250.0</td>\n",
       "      <td>eps</td>\n",
       "      <td>58</td>\n",
       "      <td>True</td>\n",
       "      <td>20</td>\n",
       "      <td>0.000045</td>\n",
       "      <td>0.00</td>\n",
       "      <td>0.523387</td>\n",
       "    </tr>\n",
       "    <tr>\n",
       "      <th>1194</th>\n",
       "      <td>0.00350</td>\n",
       "      <td>-0.0007</td>\n",
       "      <td>1.500000e-07</td>\n",
       "      <td>5.000000e-07</td>\n",
       "      <td>250.0</td>\n",
       "      <td>eps</td>\n",
       "      <td>58</td>\n",
       "      <td>True</td>\n",
       "      <td>20</td>\n",
       "      <td>0.000035</td>\n",
       "      <td>0.00</td>\n",
       "      <td>0.523367</td>\n",
       "    </tr>\n",
       "    <tr>\n",
       "      <th>1195</th>\n",
       "      <td>0.00350</td>\n",
       "      <td>-0.0007</td>\n",
       "      <td>1.500000e-07</td>\n",
       "      <td>7.000000e-08</td>\n",
       "      <td>250.0</td>\n",
       "      <td>eps</td>\n",
       "      <td>70</td>\n",
       "      <td>True</td>\n",
       "      <td>20</td>\n",
       "      <td>0.000045</td>\n",
       "      <td>0.00</td>\n",
       "      <td>0.521411</td>\n",
       "    </tr>\n",
       "    <tr>\n",
       "      <th>1196</th>\n",
       "      <td>0.00350</td>\n",
       "      <td>-0.0007</td>\n",
       "      <td>1.500000e-07</td>\n",
       "      <td>7.000000e-08</td>\n",
       "      <td>250.0</td>\n",
       "      <td>eps</td>\n",
       "      <td>70</td>\n",
       "      <td>True</td>\n",
       "      <td>20</td>\n",
       "      <td>0.000035</td>\n",
       "      <td>0.00</td>\n",
       "      <td>0.521438</td>\n",
       "    </tr>\n",
       "    <tr>\n",
       "      <th>1197</th>\n",
       "      <td>0.00350</td>\n",
       "      <td>-0.0007</td>\n",
       "      <td>1.500000e-07</td>\n",
       "      <td>7.000000e-08</td>\n",
       "      <td>250.0</td>\n",
       "      <td>eps</td>\n",
       "      <td>58</td>\n",
       "      <td>True</td>\n",
       "      <td>20</td>\n",
       "      <td>0.000045</td>\n",
       "      <td>0.00</td>\n",
       "      <td>0.522685</td>\n",
       "    </tr>\n",
       "    <tr>\n",
       "      <th>1198</th>\n",
       "      <td>0.00350</td>\n",
       "      <td>-0.0007</td>\n",
       "      <td>1.500000e-07</td>\n",
       "      <td>7.000000e-08</td>\n",
       "      <td>250.0</td>\n",
       "      <td>eps</td>\n",
       "      <td>58</td>\n",
       "      <td>True</td>\n",
       "      <td>20</td>\n",
       "      <td>0.000035</td>\n",
       "      <td>0.00</td>\n",
       "      <td>0.522701</td>\n",
       "    </tr>\n",
       "  </tbody>\n",
       "</table>\n",
       "<p>629 rows × 12 columns</p>\n",
       "</div>"
      ],
      "text/plain": [
       "          eps     dz0        stepdz       stepeps  loops step  weights  \\\n",
       "1137  0.00350 -0.0007  1.500000e-07  7.000000e-08  250.0  eps       58   \n",
       "1143  0.00350 -0.0007  1.500000e-07  1.500000e-09  250.0  eps       58   \n",
       "1138  0.00350 -0.0007  1.500000e-07  7.000000e-08  250.0  eps       58   \n",
       "1128  0.00350 -0.0007  1.500000e-07  1.500000e-09  250.0  eps       58   \n",
       "1118  0.00350 -0.0007  1.500000e-07  1.500000e-09  200.0  eps       58   \n",
       "1117  0.00350 -0.0007  1.500000e-07  1.500000e-09  200.0  eps       58   \n",
       "1133  0.00350 -0.0007  1.500000e-07  1.500000e-09  275.0  eps       58   \n",
       "1123  0.00350 -0.0007  1.500000e-07  1.500000e-09  200.0  eps       58   \n",
       "1131  0.00350 -0.0007  1.500000e-07  1.500000e-09  250.0  eps       65   \n",
       "1121  0.00350 -0.0007  1.500000e-07  1.500000e-09  200.0  eps       62   \n",
       "1122  0.00350 -0.0007  1.500000e-07  1.500000e-09  200.0  eps       62   \n",
       "1136  0.00350 -0.0007  1.500000e-07  1.500000e-09  275.0  eps       65   \n",
       "1120  0.00350 -0.0007  1.500000e-07  1.500000e-09  200.0  eps       61   \n",
       "1119  0.00350 -0.0007  1.500000e-07  1.500000e-09  200.0  eps       61   \n",
       "1126  0.00350 -0.0007  1.500000e-07  1.500000e-09  200.0  eps       65   \n",
       "1129  0.00350 -0.0007  1.500000e-07  1.500000e-09  250.0  eps       63   \n",
       "1106  0.00350 -0.0007  1.500000e-07  1.500000e-09  175.0  eps       58   \n",
       "1105  0.00350 -0.0007  1.500000e-07  1.500000e-09  175.0  eps       58   \n",
       "1134  0.00350 -0.0007  1.500000e-07  1.500000e-09  275.0  eps       63   \n",
       "1124  0.00350 -0.0007  1.500000e-07  1.500000e-09  200.0  eps       63   \n",
       "1115  0.00350 -0.0007  1.500000e-07  1.500000e-09  175.0  eps       62   \n",
       "1116  0.00350 -0.0007  1.500000e-07  1.500000e-09  175.0  eps       62   \n",
       "1114  0.00350 -0.0007  1.500000e-07  1.500000e-09  175.0  eps       61   \n",
       "1113  0.00350 -0.0007  1.500000e-07  1.500000e-09  175.0  eps       61   \n",
       "1132  0.00350 -0.0007  1.500000e-07  1.500000e-09  250.0  eps       66   \n",
       "1127  0.00350 -0.0007  1.500000e-07  1.500000e-09  200.0  eps       66   \n",
       "1165  0.00350 -0.0007  7.000000e-07  2.000000e-09  250.0  eps       70   \n",
       "1161  0.00350 -0.0007  7.000000e-07  1.500000e-09  250.0  eps       70   \n",
       "1162  0.00350 -0.0007  7.000000e-07  1.500000e-09  250.0  eps       70   \n",
       "1166  0.00350 -0.0007  7.000000e-07  2.000000e-09  250.0  eps       70   \n",
       "...       ...     ...           ...           ...    ...  ...      ...   \n",
       "486   0.00370 -0.0007  2.000000e-06  0.000000e+00  170.0  eps        7   \n",
       "500   0.00370 -0.0007  2.000000e-06  0.000000e+00  155.0  eps        4   \n",
       "472   0.00350 -0.0007  3.000000e-06  2.000000e-06  160.0  eps        7   \n",
       "477   0.00350 -0.0007  3.000000e-06  0.000000e+00  170.0  eps        7   \n",
       "469   0.00350 -0.0007  2.000000e-06  0.000000e+00  170.0  eps        7   \n",
       "462   0.00360 -0.0007  3.000000e-06  2.000000e-16  170.0  eps        6   \n",
       "502   0.00370 -0.0007  2.000000e-06  1.000000e-06  155.0  eps        4   \n",
       "464   0.00350 -0.0007  2.000000e-06  2.000000e-06  160.0  eps        7   \n",
       "474   0.00350 -0.0007  3.000000e-06  2.000000e-06  170.0  eps        7   \n",
       "475   0.00350 -0.0007  3.000000e-06  0.000000e+00  160.0  eps        7   \n",
       "467   0.00350 -0.0007  2.000000e-06  0.000000e+00  160.0  eps        7   \n",
       "506   0.00370 -0.0007  1.000000e-06  1.000000e-06  155.0  eps        4   \n",
       "501   0.00370 -0.0007  2.000000e-06  1.000000e-06  160.0  eps        4   \n",
       "1019  0.00350 -0.0007  1.500000e-07  0.000000e+00  155.0  eps       25   \n",
       "1010  0.00350 -0.0007  1.500000e-07  1.500000e-09  155.0  eps       25   \n",
       "505   0.00370 -0.0007  1.000000e-06  1.000000e-06  160.0  eps        4   \n",
       "438   0.00370 -0.0007  1.000000e-05  3.000000e-06  160.0  eps       -1   \n",
       "437   0.00370 -0.0007  1.000000e-05  3.000000e-06  150.0  eps       -1   \n",
       "466   0.00350 -0.0007  2.000000e-06  2.000000e-06  170.0  eps        7   \n",
       "435   0.00370 -0.0007  1.000000e-05  2.500000e-06  160.0  eps       -1   \n",
       "434   0.00370 -0.0007  1.000000e-05  2.500000e-06  150.0  eps       -1   \n",
       "428   0.00375 -0.0007  1.000000e-05  3.000000e-06  150.0  eps       -1   \n",
       "1191  0.00350 -0.0007  1.500000e-07  5.000000e-07  250.0  eps       70   \n",
       "1192  0.00350 -0.0007  1.500000e-07  5.000000e-07  250.0  eps       70   \n",
       "1193  0.00350 -0.0007  1.500000e-07  5.000000e-07  250.0  eps       58   \n",
       "1194  0.00350 -0.0007  1.500000e-07  5.000000e-07  250.0  eps       58   \n",
       "1195  0.00350 -0.0007  1.500000e-07  7.000000e-08  250.0  eps       70   \n",
       "1196  0.00350 -0.0007  1.500000e-07  7.000000e-08  250.0  eps       70   \n",
       "1197  0.00350 -0.0007  1.500000e-07  7.000000e-08  250.0  eps       58   \n",
       "1198  0.00350 -0.0007  1.500000e-07  7.000000e-08  250.0  eps       58   \n",
       "\n",
       "      final_cluster  max_size    step_z  size_incr       acc  \n",
       "1137           True        20  0.000045       0.00  0.530545  \n",
       "1143           True        20  0.000045       0.00  0.530490  \n",
       "1138           True        20  0.000002       0.00  0.530473  \n",
       "1128           True        20  0.000002       0.00  0.530456  \n",
       "1118           True        20  0.000002       0.00  0.530382  \n",
       "1117           True        20  0.000000       0.00  0.530377  \n",
       "1133           True        20  0.000002       0.00  0.530093  \n",
       "1123           True        20  0.000002       0.00  0.529915  \n",
       "1131           True        20  0.000002       0.00  0.529439  \n",
       "1121           True        20  0.000000       0.00  0.529137  \n",
       "1122           True        20  0.000002       0.00  0.529122  \n",
       "1136           True        20  0.000002       0.00  0.529003  \n",
       "1120           True        20  0.000002       0.00  0.528761  \n",
       "1119           True        20  0.000000       0.00  0.528761  \n",
       "1126           True        20  0.000002       0.00  0.528752  \n",
       "1129           True        20  0.000002       0.00  0.528513  \n",
       "1106           True        20  0.000002       0.00  0.528321  \n",
       "1105           True        20  0.000000       0.00  0.528316  \n",
       "1134           True        20  0.000002       0.00  0.528288  \n",
       "1124           True        20  0.000002       0.00  0.528052  \n",
       "1115           True        20  0.000000       0.00  0.527008  \n",
       "1116           True        20  0.000002       0.00  0.526993  \n",
       "1114           True        20  0.000002       0.00  0.526725  \n",
       "1113           True        20  0.000000       0.00  0.526724  \n",
       "1132           True        20  0.000002       0.00  0.526666  \n",
       "1127           True        20  0.000002       0.00  0.526032  \n",
       "1165           True        20  0.000045       0.00  0.525947  \n",
       "1161           True        20  0.000045       0.00  0.525947  \n",
       "1162           True        20  0.000040       0.00  0.525946  \n",
       "1166           True        20  0.000040       0.00  0.525946  \n",
       "...             ...       ...       ...        ...       ...  \n",
       "486            True        20  0.000000       0.00  0.494419  \n",
       "500            True        20  0.000000       0.00  0.494307  \n",
       "472            True        20  0.000000       0.00  0.493401  \n",
       "477           False        20  0.000000       0.00  0.493394  \n",
       "469           False        20  0.000000       0.00  0.493325  \n",
       "462            True        20  0.000000       0.00  0.492377  \n",
       "502            True        20  0.000000       0.00  0.492239  \n",
       "464            True        20  0.000000       0.00  0.492153  \n",
       "474            True        20  0.000000       0.00  0.491889  \n",
       "475           False        20  0.000000       0.00  0.491885  \n",
       "467           False        20  0.000000       0.00  0.491866  \n",
       "506            True        20  0.000000       0.00  0.491750  \n",
       "501            True        20  0.000000       0.00  0.491691  \n",
       "1019           True        17  0.000002      -0.05  0.491469  \n",
       "1010           True        17  0.000002      -0.05  0.491463  \n",
       "505            True        20  0.000000       0.00  0.491284  \n",
       "438            True        20  0.000000       0.00  0.491072  \n",
       "437            True        20  0.000000       0.00  0.491066  \n",
       "466            True        20  0.000000       0.00  0.490752  \n",
       "435            True        20  0.000000       0.00  0.490736  \n",
       "434            True        20  0.000000       0.00  0.490604  \n",
       "428            True        20  0.000000       0.00  0.490047  \n",
       "1191           True        20  0.000045       0.00  0.522152  \n",
       "1192           True        20  0.000035       0.00  0.522132  \n",
       "1193           True        20  0.000045       0.00  0.523387  \n",
       "1194           True        20  0.000035       0.00  0.523367  \n",
       "1195           True        20  0.000045       0.00  0.521411  \n",
       "1196           True        20  0.000035       0.00  0.521438  \n",
       "1197           True        20  0.000045       0.00  0.522685  \n",
       "1198           True        20  0.000035       0.00  0.522701  \n",
       "\n",
       "[629 rows x 12 columns]"
      ]
     },
     "execution_count": 8,
     "metadata": {},
     "output_type": "execute_result"
    }
   ],
   "source": [
    "results = grid_search(iter_list, results_df, start=0, end=28)\n",
    "\n",
    "for item in results:\n",
    "    results_df.loc[item[0]] = item[1]\n",
    "    \n",
    "results_df.sort_values(\"acc\", ascending=False).to_pickle(\"gs_results.pkl\")\n",
    "results_df"
   ]
  },
  {
   "cell_type": "code",
   "execution_count": 9,
   "metadata": {},
   "outputs": [
    {
     "data": {
      "text/html": [
       "<div>\n",
       "<style scoped>\n",
       "    .dataframe tbody tr th:only-of-type {\n",
       "        vertical-align: middle;\n",
       "    }\n",
       "\n",
       "    .dataframe tbody tr th {\n",
       "        vertical-align: top;\n",
       "    }\n",
       "\n",
       "    .dataframe thead th {\n",
       "        text-align: right;\n",
       "    }\n",
       "</style>\n",
       "<table border=\"1\" class=\"dataframe\">\n",
       "  <thead>\n",
       "    <tr style=\"text-align: right;\">\n",
       "      <th></th>\n",
       "      <th>eps</th>\n",
       "      <th>dz0</th>\n",
       "      <th>stepdz</th>\n",
       "      <th>stepeps</th>\n",
       "      <th>loops</th>\n",
       "      <th>step</th>\n",
       "      <th>weights</th>\n",
       "      <th>final_cluster</th>\n",
       "      <th>max_size</th>\n",
       "      <th>step_z</th>\n",
       "      <th>size_incr</th>\n",
       "      <th>acc</th>\n",
       "    </tr>\n",
       "  </thead>\n",
       "  <tbody>\n",
       "    <tr>\n",
       "      <th>1099</th>\n",
       "      <td>0.00350</td>\n",
       "      <td>-0.0007</td>\n",
       "      <td>1.500000e-07</td>\n",
       "      <td>1.500000e-09</td>\n",
       "      <td>175.0</td>\n",
       "      <td>eps</td>\n",
       "      <td>35</td>\n",
       "      <td>True</td>\n",
       "      <td>20</td>\n",
       "      <td>0.000000</td>\n",
       "      <td>0.00</td>\n",
       "      <td>0.524089</td>\n",
       "    </tr>\n",
       "    <tr>\n",
       "      <th>1100</th>\n",
       "      <td>0.00350</td>\n",
       "      <td>-0.0007</td>\n",
       "      <td>1.500000e-07</td>\n",
       "      <td>1.500000e-09</td>\n",
       "      <td>175.0</td>\n",
       "      <td>eps</td>\n",
       "      <td>35</td>\n",
       "      <td>True</td>\n",
       "      <td>20</td>\n",
       "      <td>0.000002</td>\n",
       "      <td>0.00</td>\n",
       "      <td>0.524082</td>\n",
       "    </tr>\n",
       "    <tr>\n",
       "      <th>1088</th>\n",
       "      <td>0.00350</td>\n",
       "      <td>-0.0007</td>\n",
       "      <td>1.500000e-07</td>\n",
       "      <td>1.500000e-09</td>\n",
       "      <td>175.0</td>\n",
       "      <td>eps</td>\n",
       "      <td>50</td>\n",
       "      <td>True</td>\n",
       "      <td>20</td>\n",
       "      <td>0.000002</td>\n",
       "      <td>0.00</td>\n",
       "      <td>0.523875</td>\n",
       "    </tr>\n",
       "    <tr>\n",
       "      <th>1087</th>\n",
       "      <td>0.00350</td>\n",
       "      <td>-0.0007</td>\n",
       "      <td>1.500000e-07</td>\n",
       "      <td>1.500000e-09</td>\n",
       "      <td>175.0</td>\n",
       "      <td>eps</td>\n",
       "      <td>50</td>\n",
       "      <td>True</td>\n",
       "      <td>20</td>\n",
       "      <td>0.000000</td>\n",
       "      <td>0.00</td>\n",
       "      <td>0.523870</td>\n",
       "    </tr>\n",
       "    <tr>\n",
       "      <th>1089</th>\n",
       "      <td>0.00350</td>\n",
       "      <td>-0.0007</td>\n",
       "      <td>1.500000e-07</td>\n",
       "      <td>1.500000e-09</td>\n",
       "      <td>175.0</td>\n",
       "      <td>eps</td>\n",
       "      <td>51</td>\n",
       "      <td>True</td>\n",
       "      <td>20</td>\n",
       "      <td>0.000000</td>\n",
       "      <td>0.00</td>\n",
       "      <td>0.523767</td>\n",
       "    </tr>\n",
       "    <tr>\n",
       "      <th>1090</th>\n",
       "      <td>0.00350</td>\n",
       "      <td>-0.0007</td>\n",
       "      <td>1.500000e-07</td>\n",
       "      <td>1.500000e-09</td>\n",
       "      <td>175.0</td>\n",
       "      <td>eps</td>\n",
       "      <td>51</td>\n",
       "      <td>True</td>\n",
       "      <td>20</td>\n",
       "      <td>0.000002</td>\n",
       "      <td>0.00</td>\n",
       "      <td>0.523767</td>\n",
       "    </tr>\n",
       "    <tr>\n",
       "      <th>1092</th>\n",
       "      <td>0.00350</td>\n",
       "      <td>-0.0007</td>\n",
       "      <td>1.500000e-07</td>\n",
       "      <td>1.500000e-09</td>\n",
       "      <td>175.0</td>\n",
       "      <td>eps</td>\n",
       "      <td>52</td>\n",
       "      <td>True</td>\n",
       "      <td>20</td>\n",
       "      <td>0.000002</td>\n",
       "      <td>0.00</td>\n",
       "      <td>0.523473</td>\n",
       "    </tr>\n",
       "    <tr>\n",
       "      <th>1091</th>\n",
       "      <td>0.00350</td>\n",
       "      <td>-0.0007</td>\n",
       "      <td>1.500000e-07</td>\n",
       "      <td>1.500000e-09</td>\n",
       "      <td>175.0</td>\n",
       "      <td>eps</td>\n",
       "      <td>52</td>\n",
       "      <td>True</td>\n",
       "      <td>20</td>\n",
       "      <td>0.000000</td>\n",
       "      <td>0.00</td>\n",
       "      <td>0.523473</td>\n",
       "    </tr>\n",
       "    <tr>\n",
       "      <th>1085</th>\n",
       "      <td>0.00350</td>\n",
       "      <td>-0.0007</td>\n",
       "      <td>1.500000e-07</td>\n",
       "      <td>1.500000e-09</td>\n",
       "      <td>175.0</td>\n",
       "      <td>eps</td>\n",
       "      <td>35</td>\n",
       "      <td>True</td>\n",
       "      <td>20</td>\n",
       "      <td>0.000000</td>\n",
       "      <td>0.00</td>\n",
       "      <td>0.523135</td>\n",
       "    </tr>\n",
       "    <tr>\n",
       "      <th>1086</th>\n",
       "      <td>0.00350</td>\n",
       "      <td>-0.0007</td>\n",
       "      <td>1.500000e-07</td>\n",
       "      <td>1.500000e-09</td>\n",
       "      <td>175.0</td>\n",
       "      <td>eps</td>\n",
       "      <td>35</td>\n",
       "      <td>True</td>\n",
       "      <td>20</td>\n",
       "      <td>0.000002</td>\n",
       "      <td>0.00</td>\n",
       "      <td>0.523126</td>\n",
       "    </tr>\n",
       "    <tr>\n",
       "      <th>1083</th>\n",
       "      <td>0.00350</td>\n",
       "      <td>-0.0007</td>\n",
       "      <td>1.500000e-07</td>\n",
       "      <td>1.500000e-09</td>\n",
       "      <td>175.0</td>\n",
       "      <td>eps</td>\n",
       "      <td>47</td>\n",
       "      <td>True</td>\n",
       "      <td>20</td>\n",
       "      <td>0.000000</td>\n",
       "      <td>0.00</td>\n",
       "      <td>0.523054</td>\n",
       "    </tr>\n",
       "    <tr>\n",
       "      <th>1084</th>\n",
       "      <td>0.00350</td>\n",
       "      <td>-0.0007</td>\n",
       "      <td>1.500000e-07</td>\n",
       "      <td>1.500000e-09</td>\n",
       "      <td>175.0</td>\n",
       "      <td>eps</td>\n",
       "      <td>47</td>\n",
       "      <td>True</td>\n",
       "      <td>20</td>\n",
       "      <td>0.000002</td>\n",
       "      <td>0.00</td>\n",
       "      <td>0.523052</td>\n",
       "    </tr>\n",
       "    <tr>\n",
       "      <th>1081</th>\n",
       "      <td>0.00350</td>\n",
       "      <td>-0.0007</td>\n",
       "      <td>1.500000e-07</td>\n",
       "      <td>1.500000e-09</td>\n",
       "      <td>175.0</td>\n",
       "      <td>eps</td>\n",
       "      <td>46</td>\n",
       "      <td>True</td>\n",
       "      <td>20</td>\n",
       "      <td>0.000000</td>\n",
       "      <td>0.00</td>\n",
       "      <td>0.522960</td>\n",
       "    </tr>\n",
       "    <tr>\n",
       "      <th>1082</th>\n",
       "      <td>0.00350</td>\n",
       "      <td>-0.0007</td>\n",
       "      <td>1.500000e-07</td>\n",
       "      <td>1.500000e-09</td>\n",
       "      <td>175.0</td>\n",
       "      <td>eps</td>\n",
       "      <td>46</td>\n",
       "      <td>True</td>\n",
       "      <td>20</td>\n",
       "      <td>0.000002</td>\n",
       "      <td>0.00</td>\n",
       "      <td>0.522957</td>\n",
       "    </tr>\n",
       "    <tr>\n",
       "      <th>1093</th>\n",
       "      <td>0.00350</td>\n",
       "      <td>-0.0007</td>\n",
       "      <td>1.500000e-07</td>\n",
       "      <td>1.500000e-09</td>\n",
       "      <td>175.0</td>\n",
       "      <td>eps</td>\n",
       "      <td>53</td>\n",
       "      <td>True</td>\n",
       "      <td>20</td>\n",
       "      <td>0.000000</td>\n",
       "      <td>0.00</td>\n",
       "      <td>0.522810</td>\n",
       "    </tr>\n",
       "    <tr>\n",
       "      <th>1094</th>\n",
       "      <td>0.00350</td>\n",
       "      <td>-0.0007</td>\n",
       "      <td>1.500000e-07</td>\n",
       "      <td>1.500000e-09</td>\n",
       "      <td>175.0</td>\n",
       "      <td>eps</td>\n",
       "      <td>53</td>\n",
       "      <td>True</td>\n",
       "      <td>20</td>\n",
       "      <td>0.000002</td>\n",
       "      <td>0.00</td>\n",
       "      <td>0.522810</td>\n",
       "    </tr>\n",
       "    <tr>\n",
       "      <th>1096</th>\n",
       "      <td>0.00350</td>\n",
       "      <td>-0.0007</td>\n",
       "      <td>1.500000e-07</td>\n",
       "      <td>1.500000e-09</td>\n",
       "      <td>175.0</td>\n",
       "      <td>eps</td>\n",
       "      <td>54</td>\n",
       "      <td>True</td>\n",
       "      <td>20</td>\n",
       "      <td>0.000002</td>\n",
       "      <td>0.00</td>\n",
       "      <td>0.521541</td>\n",
       "    </tr>\n",
       "    <tr>\n",
       "      <th>1095</th>\n",
       "      <td>0.00350</td>\n",
       "      <td>-0.0007</td>\n",
       "      <td>1.500000e-07</td>\n",
       "      <td>1.500000e-09</td>\n",
       "      <td>175.0</td>\n",
       "      <td>eps</td>\n",
       "      <td>54</td>\n",
       "      <td>True</td>\n",
       "      <td>20</td>\n",
       "      <td>0.000000</td>\n",
       "      <td>0.00</td>\n",
       "      <td>0.521530</td>\n",
       "    </tr>\n",
       "    <tr>\n",
       "      <th>1054</th>\n",
       "      <td>0.00350</td>\n",
       "      <td>-0.0007</td>\n",
       "      <td>1.500000e-07</td>\n",
       "      <td>1.500000e-09</td>\n",
       "      <td>175.0</td>\n",
       "      <td>eps</td>\n",
       "      <td>35</td>\n",
       "      <td>True</td>\n",
       "      <td>20</td>\n",
       "      <td>0.000002</td>\n",
       "      <td>0.00</td>\n",
       "      <td>0.520792</td>\n",
       "    </tr>\n",
       "    <tr>\n",
       "      <th>1055</th>\n",
       "      <td>0.00350</td>\n",
       "      <td>-0.0007</td>\n",
       "      <td>1.500000e-07</td>\n",
       "      <td>1.500000e-09</td>\n",
       "      <td>175.0</td>\n",
       "      <td>eps</td>\n",
       "      <td>35</td>\n",
       "      <td>True</td>\n",
       "      <td>20</td>\n",
       "      <td>0.000001</td>\n",
       "      <td>0.00</td>\n",
       "      <td>0.520790</td>\n",
       "    </tr>\n",
       "    <tr>\n",
       "      <th>1053</th>\n",
       "      <td>0.00350</td>\n",
       "      <td>-0.0007</td>\n",
       "      <td>1.500000e-07</td>\n",
       "      <td>1.500000e-09</td>\n",
       "      <td>175.0</td>\n",
       "      <td>eps</td>\n",
       "      <td>35</td>\n",
       "      <td>True</td>\n",
       "      <td>20</td>\n",
       "      <td>0.000000</td>\n",
       "      <td>0.00</td>\n",
       "      <td>0.520790</td>\n",
       "    </tr>\n",
       "    <tr>\n",
       "      <th>1097</th>\n",
       "      <td>0.00350</td>\n",
       "      <td>-0.0007</td>\n",
       "      <td>1.500000e-07</td>\n",
       "      <td>1.500000e-09</td>\n",
       "      <td>175.0</td>\n",
       "      <td>eps</td>\n",
       "      <td>55</td>\n",
       "      <td>True</td>\n",
       "      <td>20</td>\n",
       "      <td>0.000000</td>\n",
       "      <td>0.00</td>\n",
       "      <td>0.520569</td>\n",
       "    </tr>\n",
       "    <tr>\n",
       "      <th>1098</th>\n",
       "      <td>0.00350</td>\n",
       "      <td>-0.0007</td>\n",
       "      <td>1.500000e-07</td>\n",
       "      <td>1.500000e-09</td>\n",
       "      <td>175.0</td>\n",
       "      <td>eps</td>\n",
       "      <td>55</td>\n",
       "      <td>True</td>\n",
       "      <td>20</td>\n",
       "      <td>0.000002</td>\n",
       "      <td>0.00</td>\n",
       "      <td>0.520569</td>\n",
       "    </tr>\n",
       "    <tr>\n",
       "      <th>1047</th>\n",
       "      <td>0.00350</td>\n",
       "      <td>-0.0007</td>\n",
       "      <td>1.500000e-07</td>\n",
       "      <td>1.500000e-09</td>\n",
       "      <td>175.0</td>\n",
       "      <td>eps</td>\n",
       "      <td>32</td>\n",
       "      <td>True</td>\n",
       "      <td>20</td>\n",
       "      <td>0.000000</td>\n",
       "      <td>0.00</td>\n",
       "      <td>0.520345</td>\n",
       "    </tr>\n",
       "    <tr>\n",
       "      <th>1049</th>\n",
       "      <td>0.00350</td>\n",
       "      <td>-0.0007</td>\n",
       "      <td>1.500000e-07</td>\n",
       "      <td>1.500000e-09</td>\n",
       "      <td>175.0</td>\n",
       "      <td>eps</td>\n",
       "      <td>32</td>\n",
       "      <td>True</td>\n",
       "      <td>20</td>\n",
       "      <td>0.000001</td>\n",
       "      <td>0.00</td>\n",
       "      <td>0.520333</td>\n",
       "    </tr>\n",
       "    <tr>\n",
       "      <th>1048</th>\n",
       "      <td>0.00350</td>\n",
       "      <td>-0.0007</td>\n",
       "      <td>1.500000e-07</td>\n",
       "      <td>1.500000e-09</td>\n",
       "      <td>175.0</td>\n",
       "      <td>eps</td>\n",
       "      <td>32</td>\n",
       "      <td>True</td>\n",
       "      <td>20</td>\n",
       "      <td>0.000002</td>\n",
       "      <td>0.00</td>\n",
       "      <td>0.520330</td>\n",
       "    </tr>\n",
       "    <tr>\n",
       "      <th>1068</th>\n",
       "      <td>0.00350</td>\n",
       "      <td>-0.0007</td>\n",
       "      <td>1.500000e-07</td>\n",
       "      <td>1.500000e-09</td>\n",
       "      <td>175.0</td>\n",
       "      <td>eps</td>\n",
       "      <td>40</td>\n",
       "      <td>True</td>\n",
       "      <td>20</td>\n",
       "      <td>0.000000</td>\n",
       "      <td>0.00</td>\n",
       "      <td>0.520101</td>\n",
       "    </tr>\n",
       "    <tr>\n",
       "      <th>1069</th>\n",
       "      <td>0.00350</td>\n",
       "      <td>-0.0007</td>\n",
       "      <td>1.500000e-07</td>\n",
       "      <td>1.500000e-09</td>\n",
       "      <td>175.0</td>\n",
       "      <td>eps</td>\n",
       "      <td>40</td>\n",
       "      <td>True</td>\n",
       "      <td>20</td>\n",
       "      <td>0.000002</td>\n",
       "      <td>0.00</td>\n",
       "      <td>0.520101</td>\n",
       "    </tr>\n",
       "    <tr>\n",
       "      <th>1070</th>\n",
       "      <td>0.00350</td>\n",
       "      <td>-0.0007</td>\n",
       "      <td>1.500000e-07</td>\n",
       "      <td>1.500000e-09</td>\n",
       "      <td>175.0</td>\n",
       "      <td>eps</td>\n",
       "      <td>40</td>\n",
       "      <td>True</td>\n",
       "      <td>20</td>\n",
       "      <td>0.000002</td>\n",
       "      <td>0.00</td>\n",
       "      <td>0.520101</td>\n",
       "    </tr>\n",
       "    <tr>\n",
       "      <th>1066</th>\n",
       "      <td>0.00350</td>\n",
       "      <td>-0.0007</td>\n",
       "      <td>1.500000e-07</td>\n",
       "      <td>1.500000e-09</td>\n",
       "      <td>175.0</td>\n",
       "      <td>eps</td>\n",
       "      <td>39</td>\n",
       "      <td>True</td>\n",
       "      <td>20</td>\n",
       "      <td>0.000002</td>\n",
       "      <td>0.00</td>\n",
       "      <td>0.519730</td>\n",
       "    </tr>\n",
       "    <tr>\n",
       "      <th>...</th>\n",
       "      <td>...</td>\n",
       "      <td>...</td>\n",
       "      <td>...</td>\n",
       "      <td>...</td>\n",
       "      <td>...</td>\n",
       "      <td>...</td>\n",
       "      <td>...</td>\n",
       "      <td>...</td>\n",
       "      <td>...</td>\n",
       "      <td>...</td>\n",
       "      <td>...</td>\n",
       "      <td>...</td>\n",
       "    </tr>\n",
       "    <tr>\n",
       "      <th>498</th>\n",
       "      <td>0.00350</td>\n",
       "      <td>-0.0007</td>\n",
       "      <td>1.000000e-06</td>\n",
       "      <td>1.000000e-06</td>\n",
       "      <td>155.0</td>\n",
       "      <td>eps</td>\n",
       "      <td>4</td>\n",
       "      <td>True</td>\n",
       "      <td>20</td>\n",
       "      <td>0.000000</td>\n",
       "      <td>0.00</td>\n",
       "      <td>0.495461</td>\n",
       "    </tr>\n",
       "    <tr>\n",
       "      <th>497</th>\n",
       "      <td>0.00350</td>\n",
       "      <td>-0.0007</td>\n",
       "      <td>1.000000e-06</td>\n",
       "      <td>1.000000e-06</td>\n",
       "      <td>160.0</td>\n",
       "      <td>eps</td>\n",
       "      <td>4</td>\n",
       "      <td>True</td>\n",
       "      <td>20</td>\n",
       "      <td>0.000000</td>\n",
       "      <td>0.00</td>\n",
       "      <td>0.495342</td>\n",
       "    </tr>\n",
       "    <tr>\n",
       "      <th>494</th>\n",
       "      <td>0.00350</td>\n",
       "      <td>-0.0007</td>\n",
       "      <td>2.000000e-06</td>\n",
       "      <td>1.000000e-06</td>\n",
       "      <td>155.0</td>\n",
       "      <td>eps</td>\n",
       "      <td>4</td>\n",
       "      <td>True</td>\n",
       "      <td>20</td>\n",
       "      <td>0.000000</td>\n",
       "      <td>0.00</td>\n",
       "      <td>0.495321</td>\n",
       "    </tr>\n",
       "    <tr>\n",
       "      <th>484</th>\n",
       "      <td>0.00370</td>\n",
       "      <td>-0.0007</td>\n",
       "      <td>2.000000e-06</td>\n",
       "      <td>0.000000e+00</td>\n",
       "      <td>160.0</td>\n",
       "      <td>eps</td>\n",
       "      <td>7</td>\n",
       "      <td>True</td>\n",
       "      <td>20</td>\n",
       "      <td>0.000000</td>\n",
       "      <td>0.00</td>\n",
       "      <td>0.495295</td>\n",
       "    </tr>\n",
       "    <tr>\n",
       "      <th>504</th>\n",
       "      <td>0.00370</td>\n",
       "      <td>-0.0007</td>\n",
       "      <td>1.000000e-06</td>\n",
       "      <td>0.000000e+00</td>\n",
       "      <td>155.0</td>\n",
       "      <td>eps</td>\n",
       "      <td>4</td>\n",
       "      <td>True</td>\n",
       "      <td>20</td>\n",
       "      <td>0.000000</td>\n",
       "      <td>0.00</td>\n",
       "      <td>0.495081</td>\n",
       "    </tr>\n",
       "    <tr>\n",
       "      <th>503</th>\n",
       "      <td>0.00370</td>\n",
       "      <td>-0.0007</td>\n",
       "      <td>1.000000e-06</td>\n",
       "      <td>0.000000e+00</td>\n",
       "      <td>160.0</td>\n",
       "      <td>eps</td>\n",
       "      <td>4</td>\n",
       "      <td>True</td>\n",
       "      <td>20</td>\n",
       "      <td>0.000000</td>\n",
       "      <td>0.00</td>\n",
       "      <td>0.495069</td>\n",
       "    </tr>\n",
       "    <tr>\n",
       "      <th>493</th>\n",
       "      <td>0.00350</td>\n",
       "      <td>-0.0007</td>\n",
       "      <td>2.000000e-06</td>\n",
       "      <td>1.000000e-06</td>\n",
       "      <td>160.0</td>\n",
       "      <td>eps</td>\n",
       "      <td>4</td>\n",
       "      <td>True</td>\n",
       "      <td>20</td>\n",
       "      <td>0.000000</td>\n",
       "      <td>0.00</td>\n",
       "      <td>0.495062</td>\n",
       "    </tr>\n",
       "    <tr>\n",
       "      <th>499</th>\n",
       "      <td>0.00370</td>\n",
       "      <td>-0.0007</td>\n",
       "      <td>2.000000e-06</td>\n",
       "      <td>0.000000e+00</td>\n",
       "      <td>160.0</td>\n",
       "      <td>eps</td>\n",
       "      <td>4</td>\n",
       "      <td>True</td>\n",
       "      <td>20</td>\n",
       "      <td>0.000000</td>\n",
       "      <td>0.00</td>\n",
       "      <td>0.494558</td>\n",
       "    </tr>\n",
       "    <tr>\n",
       "      <th>486</th>\n",
       "      <td>0.00370</td>\n",
       "      <td>-0.0007</td>\n",
       "      <td>2.000000e-06</td>\n",
       "      <td>0.000000e+00</td>\n",
       "      <td>170.0</td>\n",
       "      <td>eps</td>\n",
       "      <td>7</td>\n",
       "      <td>True</td>\n",
       "      <td>20</td>\n",
       "      <td>0.000000</td>\n",
       "      <td>0.00</td>\n",
       "      <td>0.494419</td>\n",
       "    </tr>\n",
       "    <tr>\n",
       "      <th>500</th>\n",
       "      <td>0.00370</td>\n",
       "      <td>-0.0007</td>\n",
       "      <td>2.000000e-06</td>\n",
       "      <td>0.000000e+00</td>\n",
       "      <td>155.0</td>\n",
       "      <td>eps</td>\n",
       "      <td>4</td>\n",
       "      <td>True</td>\n",
       "      <td>20</td>\n",
       "      <td>0.000000</td>\n",
       "      <td>0.00</td>\n",
       "      <td>0.494307</td>\n",
       "    </tr>\n",
       "    <tr>\n",
       "      <th>472</th>\n",
       "      <td>0.00350</td>\n",
       "      <td>-0.0007</td>\n",
       "      <td>3.000000e-06</td>\n",
       "      <td>2.000000e-06</td>\n",
       "      <td>160.0</td>\n",
       "      <td>eps</td>\n",
       "      <td>7</td>\n",
       "      <td>True</td>\n",
       "      <td>20</td>\n",
       "      <td>0.000000</td>\n",
       "      <td>0.00</td>\n",
       "      <td>0.493401</td>\n",
       "    </tr>\n",
       "    <tr>\n",
       "      <th>477</th>\n",
       "      <td>0.00350</td>\n",
       "      <td>-0.0007</td>\n",
       "      <td>3.000000e-06</td>\n",
       "      <td>0.000000e+00</td>\n",
       "      <td>170.0</td>\n",
       "      <td>eps</td>\n",
       "      <td>7</td>\n",
       "      <td>False</td>\n",
       "      <td>20</td>\n",
       "      <td>0.000000</td>\n",
       "      <td>0.00</td>\n",
       "      <td>0.493394</td>\n",
       "    </tr>\n",
       "    <tr>\n",
       "      <th>469</th>\n",
       "      <td>0.00350</td>\n",
       "      <td>-0.0007</td>\n",
       "      <td>2.000000e-06</td>\n",
       "      <td>0.000000e+00</td>\n",
       "      <td>170.0</td>\n",
       "      <td>eps</td>\n",
       "      <td>7</td>\n",
       "      <td>False</td>\n",
       "      <td>20</td>\n",
       "      <td>0.000000</td>\n",
       "      <td>0.00</td>\n",
       "      <td>0.493325</td>\n",
       "    </tr>\n",
       "    <tr>\n",
       "      <th>462</th>\n",
       "      <td>0.00360</td>\n",
       "      <td>-0.0007</td>\n",
       "      <td>3.000000e-06</td>\n",
       "      <td>2.000000e-16</td>\n",
       "      <td>170.0</td>\n",
       "      <td>eps</td>\n",
       "      <td>6</td>\n",
       "      <td>True</td>\n",
       "      <td>20</td>\n",
       "      <td>0.000000</td>\n",
       "      <td>0.00</td>\n",
       "      <td>0.492377</td>\n",
       "    </tr>\n",
       "    <tr>\n",
       "      <th>502</th>\n",
       "      <td>0.00370</td>\n",
       "      <td>-0.0007</td>\n",
       "      <td>2.000000e-06</td>\n",
       "      <td>1.000000e-06</td>\n",
       "      <td>155.0</td>\n",
       "      <td>eps</td>\n",
       "      <td>4</td>\n",
       "      <td>True</td>\n",
       "      <td>20</td>\n",
       "      <td>0.000000</td>\n",
       "      <td>0.00</td>\n",
       "      <td>0.492239</td>\n",
       "    </tr>\n",
       "    <tr>\n",
       "      <th>464</th>\n",
       "      <td>0.00350</td>\n",
       "      <td>-0.0007</td>\n",
       "      <td>2.000000e-06</td>\n",
       "      <td>2.000000e-06</td>\n",
       "      <td>160.0</td>\n",
       "      <td>eps</td>\n",
       "      <td>7</td>\n",
       "      <td>True</td>\n",
       "      <td>20</td>\n",
       "      <td>0.000000</td>\n",
       "      <td>0.00</td>\n",
       "      <td>0.492153</td>\n",
       "    </tr>\n",
       "    <tr>\n",
       "      <th>474</th>\n",
       "      <td>0.00350</td>\n",
       "      <td>-0.0007</td>\n",
       "      <td>3.000000e-06</td>\n",
       "      <td>2.000000e-06</td>\n",
       "      <td>170.0</td>\n",
       "      <td>eps</td>\n",
       "      <td>7</td>\n",
       "      <td>True</td>\n",
       "      <td>20</td>\n",
       "      <td>0.000000</td>\n",
       "      <td>0.00</td>\n",
       "      <td>0.491889</td>\n",
       "    </tr>\n",
       "    <tr>\n",
       "      <th>475</th>\n",
       "      <td>0.00350</td>\n",
       "      <td>-0.0007</td>\n",
       "      <td>3.000000e-06</td>\n",
       "      <td>0.000000e+00</td>\n",
       "      <td>160.0</td>\n",
       "      <td>eps</td>\n",
       "      <td>7</td>\n",
       "      <td>False</td>\n",
       "      <td>20</td>\n",
       "      <td>0.000000</td>\n",
       "      <td>0.00</td>\n",
       "      <td>0.491885</td>\n",
       "    </tr>\n",
       "    <tr>\n",
       "      <th>467</th>\n",
       "      <td>0.00350</td>\n",
       "      <td>-0.0007</td>\n",
       "      <td>2.000000e-06</td>\n",
       "      <td>0.000000e+00</td>\n",
       "      <td>160.0</td>\n",
       "      <td>eps</td>\n",
       "      <td>7</td>\n",
       "      <td>False</td>\n",
       "      <td>20</td>\n",
       "      <td>0.000000</td>\n",
       "      <td>0.00</td>\n",
       "      <td>0.491866</td>\n",
       "    </tr>\n",
       "    <tr>\n",
       "      <th>506</th>\n",
       "      <td>0.00370</td>\n",
       "      <td>-0.0007</td>\n",
       "      <td>1.000000e-06</td>\n",
       "      <td>1.000000e-06</td>\n",
       "      <td>155.0</td>\n",
       "      <td>eps</td>\n",
       "      <td>4</td>\n",
       "      <td>True</td>\n",
       "      <td>20</td>\n",
       "      <td>0.000000</td>\n",
       "      <td>0.00</td>\n",
       "      <td>0.491750</td>\n",
       "    </tr>\n",
       "    <tr>\n",
       "      <th>501</th>\n",
       "      <td>0.00370</td>\n",
       "      <td>-0.0007</td>\n",
       "      <td>2.000000e-06</td>\n",
       "      <td>1.000000e-06</td>\n",
       "      <td>160.0</td>\n",
       "      <td>eps</td>\n",
       "      <td>4</td>\n",
       "      <td>True</td>\n",
       "      <td>20</td>\n",
       "      <td>0.000000</td>\n",
       "      <td>0.00</td>\n",
       "      <td>0.491691</td>\n",
       "    </tr>\n",
       "    <tr>\n",
       "      <th>1019</th>\n",
       "      <td>0.00350</td>\n",
       "      <td>-0.0007</td>\n",
       "      <td>1.500000e-07</td>\n",
       "      <td>0.000000e+00</td>\n",
       "      <td>155.0</td>\n",
       "      <td>eps</td>\n",
       "      <td>25</td>\n",
       "      <td>True</td>\n",
       "      <td>17</td>\n",
       "      <td>0.000002</td>\n",
       "      <td>-0.05</td>\n",
       "      <td>0.491469</td>\n",
       "    </tr>\n",
       "    <tr>\n",
       "      <th>1010</th>\n",
       "      <td>0.00350</td>\n",
       "      <td>-0.0007</td>\n",
       "      <td>1.500000e-07</td>\n",
       "      <td>1.500000e-09</td>\n",
       "      <td>155.0</td>\n",
       "      <td>eps</td>\n",
       "      <td>25</td>\n",
       "      <td>True</td>\n",
       "      <td>17</td>\n",
       "      <td>0.000002</td>\n",
       "      <td>-0.05</td>\n",
       "      <td>0.491463</td>\n",
       "    </tr>\n",
       "    <tr>\n",
       "      <th>505</th>\n",
       "      <td>0.00370</td>\n",
       "      <td>-0.0007</td>\n",
       "      <td>1.000000e-06</td>\n",
       "      <td>1.000000e-06</td>\n",
       "      <td>160.0</td>\n",
       "      <td>eps</td>\n",
       "      <td>4</td>\n",
       "      <td>True</td>\n",
       "      <td>20</td>\n",
       "      <td>0.000000</td>\n",
       "      <td>0.00</td>\n",
       "      <td>0.491284</td>\n",
       "    </tr>\n",
       "    <tr>\n",
       "      <th>438</th>\n",
       "      <td>0.00370</td>\n",
       "      <td>-0.0007</td>\n",
       "      <td>1.000000e-05</td>\n",
       "      <td>3.000000e-06</td>\n",
       "      <td>160.0</td>\n",
       "      <td>eps</td>\n",
       "      <td>-1</td>\n",
       "      <td>True</td>\n",
       "      <td>20</td>\n",
       "      <td>0.000000</td>\n",
       "      <td>0.00</td>\n",
       "      <td>0.491072</td>\n",
       "    </tr>\n",
       "    <tr>\n",
       "      <th>437</th>\n",
       "      <td>0.00370</td>\n",
       "      <td>-0.0007</td>\n",
       "      <td>1.000000e-05</td>\n",
       "      <td>3.000000e-06</td>\n",
       "      <td>150.0</td>\n",
       "      <td>eps</td>\n",
       "      <td>-1</td>\n",
       "      <td>True</td>\n",
       "      <td>20</td>\n",
       "      <td>0.000000</td>\n",
       "      <td>0.00</td>\n",
       "      <td>0.491066</td>\n",
       "    </tr>\n",
       "    <tr>\n",
       "      <th>466</th>\n",
       "      <td>0.00350</td>\n",
       "      <td>-0.0007</td>\n",
       "      <td>2.000000e-06</td>\n",
       "      <td>2.000000e-06</td>\n",
       "      <td>170.0</td>\n",
       "      <td>eps</td>\n",
       "      <td>7</td>\n",
       "      <td>True</td>\n",
       "      <td>20</td>\n",
       "      <td>0.000000</td>\n",
       "      <td>0.00</td>\n",
       "      <td>0.490752</td>\n",
       "    </tr>\n",
       "    <tr>\n",
       "      <th>435</th>\n",
       "      <td>0.00370</td>\n",
       "      <td>-0.0007</td>\n",
       "      <td>1.000000e-05</td>\n",
       "      <td>2.500000e-06</td>\n",
       "      <td>160.0</td>\n",
       "      <td>eps</td>\n",
       "      <td>-1</td>\n",
       "      <td>True</td>\n",
       "      <td>20</td>\n",
       "      <td>0.000000</td>\n",
       "      <td>0.00</td>\n",
       "      <td>0.490736</td>\n",
       "    </tr>\n",
       "    <tr>\n",
       "      <th>434</th>\n",
       "      <td>0.00370</td>\n",
       "      <td>-0.0007</td>\n",
       "      <td>1.000000e-05</td>\n",
       "      <td>2.500000e-06</td>\n",
       "      <td>150.0</td>\n",
       "      <td>eps</td>\n",
       "      <td>-1</td>\n",
       "      <td>True</td>\n",
       "      <td>20</td>\n",
       "      <td>0.000000</td>\n",
       "      <td>0.00</td>\n",
       "      <td>0.490604</td>\n",
       "    </tr>\n",
       "    <tr>\n",
       "      <th>428</th>\n",
       "      <td>0.00375</td>\n",
       "      <td>-0.0007</td>\n",
       "      <td>1.000000e-05</td>\n",
       "      <td>3.000000e-06</td>\n",
       "      <td>150.0</td>\n",
       "      <td>eps</td>\n",
       "      <td>-1</td>\n",
       "      <td>True</td>\n",
       "      <td>20</td>\n",
       "      <td>0.000000</td>\n",
       "      <td>0.00</td>\n",
       "      <td>0.490047</td>\n",
       "    </tr>\n",
       "  </tbody>\n",
       "</table>\n",
       "<p>537 rows × 12 columns</p>\n",
       "</div>"
      ],
      "text/plain": [
       "          eps     dz0        stepdz       stepeps  loops step  weights  \\\n",
       "1099  0.00350 -0.0007  1.500000e-07  1.500000e-09  175.0  eps       35   \n",
       "1100  0.00350 -0.0007  1.500000e-07  1.500000e-09  175.0  eps       35   \n",
       "1088  0.00350 -0.0007  1.500000e-07  1.500000e-09  175.0  eps       50   \n",
       "1087  0.00350 -0.0007  1.500000e-07  1.500000e-09  175.0  eps       50   \n",
       "1089  0.00350 -0.0007  1.500000e-07  1.500000e-09  175.0  eps       51   \n",
       "1090  0.00350 -0.0007  1.500000e-07  1.500000e-09  175.0  eps       51   \n",
       "1092  0.00350 -0.0007  1.500000e-07  1.500000e-09  175.0  eps       52   \n",
       "1091  0.00350 -0.0007  1.500000e-07  1.500000e-09  175.0  eps       52   \n",
       "1085  0.00350 -0.0007  1.500000e-07  1.500000e-09  175.0  eps       35   \n",
       "1086  0.00350 -0.0007  1.500000e-07  1.500000e-09  175.0  eps       35   \n",
       "1083  0.00350 -0.0007  1.500000e-07  1.500000e-09  175.0  eps       47   \n",
       "1084  0.00350 -0.0007  1.500000e-07  1.500000e-09  175.0  eps       47   \n",
       "1081  0.00350 -0.0007  1.500000e-07  1.500000e-09  175.0  eps       46   \n",
       "1082  0.00350 -0.0007  1.500000e-07  1.500000e-09  175.0  eps       46   \n",
       "1093  0.00350 -0.0007  1.500000e-07  1.500000e-09  175.0  eps       53   \n",
       "1094  0.00350 -0.0007  1.500000e-07  1.500000e-09  175.0  eps       53   \n",
       "1096  0.00350 -0.0007  1.500000e-07  1.500000e-09  175.0  eps       54   \n",
       "1095  0.00350 -0.0007  1.500000e-07  1.500000e-09  175.0  eps       54   \n",
       "1054  0.00350 -0.0007  1.500000e-07  1.500000e-09  175.0  eps       35   \n",
       "1055  0.00350 -0.0007  1.500000e-07  1.500000e-09  175.0  eps       35   \n",
       "1053  0.00350 -0.0007  1.500000e-07  1.500000e-09  175.0  eps       35   \n",
       "1097  0.00350 -0.0007  1.500000e-07  1.500000e-09  175.0  eps       55   \n",
       "1098  0.00350 -0.0007  1.500000e-07  1.500000e-09  175.0  eps       55   \n",
       "1047  0.00350 -0.0007  1.500000e-07  1.500000e-09  175.0  eps       32   \n",
       "1049  0.00350 -0.0007  1.500000e-07  1.500000e-09  175.0  eps       32   \n",
       "1048  0.00350 -0.0007  1.500000e-07  1.500000e-09  175.0  eps       32   \n",
       "1068  0.00350 -0.0007  1.500000e-07  1.500000e-09  175.0  eps       40   \n",
       "1069  0.00350 -0.0007  1.500000e-07  1.500000e-09  175.0  eps       40   \n",
       "1070  0.00350 -0.0007  1.500000e-07  1.500000e-09  175.0  eps       40   \n",
       "1066  0.00350 -0.0007  1.500000e-07  1.500000e-09  175.0  eps       39   \n",
       "...       ...     ...           ...           ...    ...  ...      ...   \n",
       "498   0.00350 -0.0007  1.000000e-06  1.000000e-06  155.0  eps        4   \n",
       "497   0.00350 -0.0007  1.000000e-06  1.000000e-06  160.0  eps        4   \n",
       "494   0.00350 -0.0007  2.000000e-06  1.000000e-06  155.0  eps        4   \n",
       "484   0.00370 -0.0007  2.000000e-06  0.000000e+00  160.0  eps        7   \n",
       "504   0.00370 -0.0007  1.000000e-06  0.000000e+00  155.0  eps        4   \n",
       "503   0.00370 -0.0007  1.000000e-06  0.000000e+00  160.0  eps        4   \n",
       "493   0.00350 -0.0007  2.000000e-06  1.000000e-06  160.0  eps        4   \n",
       "499   0.00370 -0.0007  2.000000e-06  0.000000e+00  160.0  eps        4   \n",
       "486   0.00370 -0.0007  2.000000e-06  0.000000e+00  170.0  eps        7   \n",
       "500   0.00370 -0.0007  2.000000e-06  0.000000e+00  155.0  eps        4   \n",
       "472   0.00350 -0.0007  3.000000e-06  2.000000e-06  160.0  eps        7   \n",
       "477   0.00350 -0.0007  3.000000e-06  0.000000e+00  170.0  eps        7   \n",
       "469   0.00350 -0.0007  2.000000e-06  0.000000e+00  170.0  eps        7   \n",
       "462   0.00360 -0.0007  3.000000e-06  2.000000e-16  170.0  eps        6   \n",
       "502   0.00370 -0.0007  2.000000e-06  1.000000e-06  155.0  eps        4   \n",
       "464   0.00350 -0.0007  2.000000e-06  2.000000e-06  160.0  eps        7   \n",
       "474   0.00350 -0.0007  3.000000e-06  2.000000e-06  170.0  eps        7   \n",
       "475   0.00350 -0.0007  3.000000e-06  0.000000e+00  160.0  eps        7   \n",
       "467   0.00350 -0.0007  2.000000e-06  0.000000e+00  160.0  eps        7   \n",
       "506   0.00370 -0.0007  1.000000e-06  1.000000e-06  155.0  eps        4   \n",
       "501   0.00370 -0.0007  2.000000e-06  1.000000e-06  160.0  eps        4   \n",
       "1019  0.00350 -0.0007  1.500000e-07  0.000000e+00  155.0  eps       25   \n",
       "1010  0.00350 -0.0007  1.500000e-07  1.500000e-09  155.0  eps       25   \n",
       "505   0.00370 -0.0007  1.000000e-06  1.000000e-06  160.0  eps        4   \n",
       "438   0.00370 -0.0007  1.000000e-05  3.000000e-06  160.0  eps       -1   \n",
       "437   0.00370 -0.0007  1.000000e-05  3.000000e-06  150.0  eps       -1   \n",
       "466   0.00350 -0.0007  2.000000e-06  2.000000e-06  170.0  eps        7   \n",
       "435   0.00370 -0.0007  1.000000e-05  2.500000e-06  160.0  eps       -1   \n",
       "434   0.00370 -0.0007  1.000000e-05  2.500000e-06  150.0  eps       -1   \n",
       "428   0.00375 -0.0007  1.000000e-05  3.000000e-06  150.0  eps       -1   \n",
       "\n",
       "      final_cluster  max_size    step_z  size_incr       acc  \n",
       "1099           True        20  0.000000       0.00  0.524089  \n",
       "1100           True        20  0.000002       0.00  0.524082  \n",
       "1088           True        20  0.000002       0.00  0.523875  \n",
       "1087           True        20  0.000000       0.00  0.523870  \n",
       "1089           True        20  0.000000       0.00  0.523767  \n",
       "1090           True        20  0.000002       0.00  0.523767  \n",
       "1092           True        20  0.000002       0.00  0.523473  \n",
       "1091           True        20  0.000000       0.00  0.523473  \n",
       "1085           True        20  0.000000       0.00  0.523135  \n",
       "1086           True        20  0.000002       0.00  0.523126  \n",
       "1083           True        20  0.000000       0.00  0.523054  \n",
       "1084           True        20  0.000002       0.00  0.523052  \n",
       "1081           True        20  0.000000       0.00  0.522960  \n",
       "1082           True        20  0.000002       0.00  0.522957  \n",
       "1093           True        20  0.000000       0.00  0.522810  \n",
       "1094           True        20  0.000002       0.00  0.522810  \n",
       "1096           True        20  0.000002       0.00  0.521541  \n",
       "1095           True        20  0.000000       0.00  0.521530  \n",
       "1054           True        20  0.000002       0.00  0.520792  \n",
       "1055           True        20  0.000001       0.00  0.520790  \n",
       "1053           True        20  0.000000       0.00  0.520790  \n",
       "1097           True        20  0.000000       0.00  0.520569  \n",
       "1098           True        20  0.000002       0.00  0.520569  \n",
       "1047           True        20  0.000000       0.00  0.520345  \n",
       "1049           True        20  0.000001       0.00  0.520333  \n",
       "1048           True        20  0.000002       0.00  0.520330  \n",
       "1068           True        20  0.000000       0.00  0.520101  \n",
       "1069           True        20  0.000002       0.00  0.520101  \n",
       "1070           True        20  0.000002       0.00  0.520101  \n",
       "1066           True        20  0.000002       0.00  0.519730  \n",
       "...             ...       ...       ...        ...       ...  \n",
       "498            True        20  0.000000       0.00  0.495461  \n",
       "497            True        20  0.000000       0.00  0.495342  \n",
       "494            True        20  0.000000       0.00  0.495321  \n",
       "484            True        20  0.000000       0.00  0.495295  \n",
       "504            True        20  0.000000       0.00  0.495081  \n",
       "503            True        20  0.000000       0.00  0.495069  \n",
       "493            True        20  0.000000       0.00  0.495062  \n",
       "499            True        20  0.000000       0.00  0.494558  \n",
       "486            True        20  0.000000       0.00  0.494419  \n",
       "500            True        20  0.000000       0.00  0.494307  \n",
       "472            True        20  0.000000       0.00  0.493401  \n",
       "477           False        20  0.000000       0.00  0.493394  \n",
       "469           False        20  0.000000       0.00  0.493325  \n",
       "462            True        20  0.000000       0.00  0.492377  \n",
       "502            True        20  0.000000       0.00  0.492239  \n",
       "464            True        20  0.000000       0.00  0.492153  \n",
       "474            True        20  0.000000       0.00  0.491889  \n",
       "475           False        20  0.000000       0.00  0.491885  \n",
       "467           False        20  0.000000       0.00  0.491866  \n",
       "506            True        20  0.000000       0.00  0.491750  \n",
       "501            True        20  0.000000       0.00  0.491691  \n",
       "1019           True        17  0.000002      -0.05  0.491469  \n",
       "1010           True        17  0.000002      -0.05  0.491463  \n",
       "505            True        20  0.000000       0.00  0.491284  \n",
       "438            True        20  0.000000       0.00  0.491072  \n",
       "437            True        20  0.000000       0.00  0.491066  \n",
       "466            True        20  0.000000       0.00  0.490752  \n",
       "435            True        20  0.000000       0.00  0.490736  \n",
       "434            True        20  0.000000       0.00  0.490604  \n",
       "428            True        20  0.000000       0.00  0.490047  \n",
       "\n",
       "[537 rows x 12 columns]"
      ]
     },
     "execution_count": 9,
     "metadata": {},
     "output_type": "execute_result"
    }
   ],
   "source": [
    "results_df.sort_values(\"acc\", ascending=False)"
   ]
  },
  {
   "cell_type": "code",
   "execution_count": 12,
   "metadata": {},
   "outputs": [],
   "source": [
    "results_df.sort_values(\"acc\", ascending=False).to_pickle(\"gs_results.pkl\")"
   ]
  },
  {
   "cell_type": "code",
   "execution_count": null,
   "metadata": {},
   "outputs": [],
   "source": []
  }
 ],
 "metadata": {
  "anaconda-cloud": {},
  "kernelspec": {
   "display_name": "Python 3",
   "language": "python",
   "name": "python3"
  },
  "language_info": {
   "codemirror_mode": {
    "name": "ipython",
    "version": 3
   },
   "file_extension": ".py",
   "mimetype": "text/x-python",
   "name": "python",
   "nbconvert_exporter": "python",
   "pygments_lexer": "ipython3",
   "version": "3.5.2"
  }
 },
 "nbformat": 4,
 "nbformat_minor": 1
}
