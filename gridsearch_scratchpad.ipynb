{
 "cells": [
  {
   "cell_type": "code",
   "execution_count": 1,
   "metadata": {},
   "outputs": [],
   "source": [
    "import pandas as pd\n",
    "import numpy as np\n",
    "import matplotlib.pyplot as plt\n",
    "%matplotlib inline"
   ]
  },
  {
   "cell_type": "code",
   "execution_count": 2,
   "metadata": {},
   "outputs": [],
   "source": [
    "results_df = pd.read_pickle(\"gs_results.pkl\")"
   ]
  },
  {
   "cell_type": "code",
   "execution_count": 3,
   "metadata": {},
   "outputs": [],
   "source": [
    "# filter the results to remove useless rows\n",
    "# results_df = results_df[results_df.stepdz == 0.000010]\n",
    "# results_df = results_df[results_df.dz0 < 0]\n",
    "results_df = results_df[results_df.acc > 0.51]\n",
    "# results_df = results_df[results_df.loops >= 100]\n",
    "# results_df = results_df[results_df.stepeps != 0.000006]\n",
    "# results_df = results_df[results_df.dz0 < -0.00065]\n",
    "# results_df.sort_values(\"acc\", ascending=False, inplace=True)\n",
    "# results_df.drop_duplicates(inplace=True, keep=\"last\")\n",
    "results_df.to_pickle(\"gs_results.pkl\")"
   ]
  },
  {
   "cell_type": "code",
   "execution_count": 4,
   "metadata": {
    "scrolled": false
   },
   "outputs": [
    {
     "data": {
      "text/html": [
       "<div>\n",
       "<style scoped>\n",
       "    .dataframe tbody tr th:only-of-type {\n",
       "        vertical-align: middle;\n",
       "    }\n",
       "\n",
       "    .dataframe tbody tr th {\n",
       "        vertical-align: top;\n",
       "    }\n",
       "\n",
       "    .dataframe thead th {\n",
       "        text-align: right;\n",
       "    }\n",
       "</style>\n",
       "<table border=\"1\" class=\"dataframe\">\n",
       "  <thead>\n",
       "    <tr style=\"text-align: right;\">\n",
       "      <th></th>\n",
       "      <th>eps</th>\n",
       "      <th>dz0</th>\n",
       "      <th>stepdz</th>\n",
       "      <th>stepeps</th>\n",
       "      <th>loops</th>\n",
       "      <th>step</th>\n",
       "      <th>weights</th>\n",
       "      <th>fl_clust</th>\n",
       "      <th>max_size</th>\n",
       "      <th>step_z</th>\n",
       "      <th>size_incr</th>\n",
       "      <th>cluster_max</th>\n",
       "      <th>fl_cl_size</th>\n",
       "      <th>tr_ext_rnds</th>\n",
       "      <th>d_ext</th>\n",
       "      <th>z_rnds</th>\n",
       "      <th>loop_mod</th>\n",
       "      <th>st_lp_md</th>\n",
       "      <th>acc</th>\n",
       "    </tr>\n",
       "  </thead>\n",
       "  <tbody>\n",
       "    <tr>\n",
       "      <th>1739</th>\n",
       "      <td>0.0032</td>\n",
       "      <td>1.0</td>\n",
       "      <td>1.500000e-07</td>\n",
       "      <td>0.000500</td>\n",
       "      <td>355.0</td>\n",
       "      <td>eps</td>\n",
       "      <td>[98, 89, 101]</td>\n",
       "      <td>1</td>\n",
       "      <td>16</td>\n",
       "      <td>0.0</td>\n",
       "      <td>0.95</td>\n",
       "      <td>22</td>\n",
       "      <td>2</td>\n",
       "      <td>4</td>\n",
       "      <td>1.05</td>\n",
       "      <td>3</td>\n",
       "      <td>3</td>\n",
       "      <td>4</td>\n",
       "      <td>0.574820</td>\n",
       "    </tr>\n",
       "    <tr>\n",
       "      <th>1740</th>\n",
       "      <td>0.0032</td>\n",
       "      <td>1.0</td>\n",
       "      <td>1.500000e-07</td>\n",
       "      <td>0.000500</td>\n",
       "      <td>355.0</td>\n",
       "      <td>eps</td>\n",
       "      <td>[98, 89]</td>\n",
       "      <td>1</td>\n",
       "      <td>16</td>\n",
       "      <td>0.0</td>\n",
       "      <td>0.95</td>\n",
       "      <td>22</td>\n",
       "      <td>2</td>\n",
       "      <td>4</td>\n",
       "      <td>1.05</td>\n",
       "      <td>3</td>\n",
       "      <td>3</td>\n",
       "      <td>4</td>\n",
       "      <td>0.574148</td>\n",
       "    </tr>\n",
       "    <tr>\n",
       "      <th>1733</th>\n",
       "      <td>0.0035</td>\n",
       "      <td>1.0</td>\n",
       "      <td>1.500000e-07</td>\n",
       "      <td>0.000300</td>\n",
       "      <td>355.0</td>\n",
       "      <td>eps</td>\n",
       "      <td>[98, 89, 101]</td>\n",
       "      <td>1</td>\n",
       "      <td>16</td>\n",
       "      <td>0.0</td>\n",
       "      <td>0.95</td>\n",
       "      <td>22</td>\n",
       "      <td>2</td>\n",
       "      <td>4</td>\n",
       "      <td>1.05</td>\n",
       "      <td>3</td>\n",
       "      <td>3</td>\n",
       "      <td>4</td>\n",
       "      <td>0.573847</td>\n",
       "    </tr>\n",
       "    <tr>\n",
       "      <th>1741</th>\n",
       "      <td>0.0032</td>\n",
       "      <td>1.0</td>\n",
       "      <td>1.500000e-07</td>\n",
       "      <td>0.000300</td>\n",
       "      <td>355.0</td>\n",
       "      <td>eps</td>\n",
       "      <td>[98, 89, 101]</td>\n",
       "      <td>1</td>\n",
       "      <td>16</td>\n",
       "      <td>0.0</td>\n",
       "      <td>0.95</td>\n",
       "      <td>22</td>\n",
       "      <td>2</td>\n",
       "      <td>4</td>\n",
       "      <td>1.05</td>\n",
       "      <td>3</td>\n",
       "      <td>3</td>\n",
       "      <td>4</td>\n",
       "      <td>0.573812</td>\n",
       "    </tr>\n",
       "    <tr>\n",
       "      <th>1734</th>\n",
       "      <td>0.0035</td>\n",
       "      <td>1.0</td>\n",
       "      <td>1.500000e-07</td>\n",
       "      <td>0.000300</td>\n",
       "      <td>355.0</td>\n",
       "      <td>eps</td>\n",
       "      <td>[98, 89]</td>\n",
       "      <td>1</td>\n",
       "      <td>16</td>\n",
       "      <td>0.0</td>\n",
       "      <td>0.95</td>\n",
       "      <td>22</td>\n",
       "      <td>2</td>\n",
       "      <td>4</td>\n",
       "      <td>1.05</td>\n",
       "      <td>3</td>\n",
       "      <td>3</td>\n",
       "      <td>4</td>\n",
       "      <td>0.573673</td>\n",
       "    </tr>\n",
       "    <tr>\n",
       "      <th>1736</th>\n",
       "      <td>0.0035</td>\n",
       "      <td>1.0</td>\n",
       "      <td>1.500000e-07</td>\n",
       "      <td>0.001205</td>\n",
       "      <td>355.0</td>\n",
       "      <td>eps</td>\n",
       "      <td>[98, 89]</td>\n",
       "      <td>1</td>\n",
       "      <td>16</td>\n",
       "      <td>0.0</td>\n",
       "      <td>0.95</td>\n",
       "      <td>22</td>\n",
       "      <td>2</td>\n",
       "      <td>4</td>\n",
       "      <td>1.05</td>\n",
       "      <td>3</td>\n",
       "      <td>3</td>\n",
       "      <td>4</td>\n",
       "      <td>0.573511</td>\n",
       "    </tr>\n",
       "    <tr>\n",
       "      <th>1742</th>\n",
       "      <td>0.0032</td>\n",
       "      <td>1.0</td>\n",
       "      <td>1.500000e-07</td>\n",
       "      <td>0.000300</td>\n",
       "      <td>355.0</td>\n",
       "      <td>eps</td>\n",
       "      <td>[98, 89]</td>\n",
       "      <td>1</td>\n",
       "      <td>16</td>\n",
       "      <td>0.0</td>\n",
       "      <td>0.95</td>\n",
       "      <td>22</td>\n",
       "      <td>2</td>\n",
       "      <td>4</td>\n",
       "      <td>1.05</td>\n",
       "      <td>3</td>\n",
       "      <td>3</td>\n",
       "      <td>4</td>\n",
       "      <td>0.572806</td>\n",
       "    </tr>\n",
       "    <tr>\n",
       "      <th>1735</th>\n",
       "      <td>0.0035</td>\n",
       "      <td>1.0</td>\n",
       "      <td>1.500000e-07</td>\n",
       "      <td>0.001205</td>\n",
       "      <td>355.0</td>\n",
       "      <td>eps</td>\n",
       "      <td>[98, 89, 101]</td>\n",
       "      <td>1</td>\n",
       "      <td>16</td>\n",
       "      <td>0.0</td>\n",
       "      <td>0.95</td>\n",
       "      <td>22</td>\n",
       "      <td>2</td>\n",
       "      <td>4</td>\n",
       "      <td>1.05</td>\n",
       "      <td>3</td>\n",
       "      <td>3</td>\n",
       "      <td>4</td>\n",
       "      <td>0.571959</td>\n",
       "    </tr>\n",
       "    <tr>\n",
       "      <th>1737</th>\n",
       "      <td>0.0035</td>\n",
       "      <td>1.0</td>\n",
       "      <td>1.500000e-07</td>\n",
       "      <td>0.000000</td>\n",
       "      <td>355.0</td>\n",
       "      <td>eps</td>\n",
       "      <td>[98, 89, 101]</td>\n",
       "      <td>1</td>\n",
       "      <td>16</td>\n",
       "      <td>0.0</td>\n",
       "      <td>0.95</td>\n",
       "      <td>22</td>\n",
       "      <td>2</td>\n",
       "      <td>4</td>\n",
       "      <td>1.05</td>\n",
       "      <td>3</td>\n",
       "      <td>3</td>\n",
       "      <td>4</td>\n",
       "      <td>0.571399</td>\n",
       "    </tr>\n",
       "    <tr>\n",
       "      <th>1738</th>\n",
       "      <td>0.0035</td>\n",
       "      <td>1.0</td>\n",
       "      <td>1.500000e-07</td>\n",
       "      <td>0.000000</td>\n",
       "      <td>355.0</td>\n",
       "      <td>eps</td>\n",
       "      <td>[98, 89]</td>\n",
       "      <td>1</td>\n",
       "      <td>16</td>\n",
       "      <td>0.0</td>\n",
       "      <td>0.95</td>\n",
       "      <td>22</td>\n",
       "      <td>2</td>\n",
       "      <td>4</td>\n",
       "      <td>1.05</td>\n",
       "      <td>3</td>\n",
       "      <td>3</td>\n",
       "      <td>4</td>\n",
       "      <td>0.571212</td>\n",
       "    </tr>\n",
       "  </tbody>\n",
       "</table>\n",
       "</div>"
      ],
      "text/plain": [
       "         eps  dz0        stepdz   stepeps  loops step        weights  \\\n",
       "1739  0.0032  1.0  1.500000e-07  0.000500  355.0  eps  [98, 89, 101]   \n",
       "1740  0.0032  1.0  1.500000e-07  0.000500  355.0  eps       [98, 89]   \n",
       "1733  0.0035  1.0  1.500000e-07  0.000300  355.0  eps  [98, 89, 101]   \n",
       "1741  0.0032  1.0  1.500000e-07  0.000300  355.0  eps  [98, 89, 101]   \n",
       "1734  0.0035  1.0  1.500000e-07  0.000300  355.0  eps       [98, 89]   \n",
       "1736  0.0035  1.0  1.500000e-07  0.001205  355.0  eps       [98, 89]   \n",
       "1742  0.0032  1.0  1.500000e-07  0.000300  355.0  eps       [98, 89]   \n",
       "1735  0.0035  1.0  1.500000e-07  0.001205  355.0  eps  [98, 89, 101]   \n",
       "1737  0.0035  1.0  1.500000e-07  0.000000  355.0  eps  [98, 89, 101]   \n",
       "1738  0.0035  1.0  1.500000e-07  0.000000  355.0  eps       [98, 89]   \n",
       "\n",
       "      fl_clust  max_size  step_z  size_incr  cluster_max  fl_cl_size  \\\n",
       "1739         1        16     0.0       0.95           22           2   \n",
       "1740         1        16     0.0       0.95           22           2   \n",
       "1733         1        16     0.0       0.95           22           2   \n",
       "1741         1        16     0.0       0.95           22           2   \n",
       "1734         1        16     0.0       0.95           22           2   \n",
       "1736         1        16     0.0       0.95           22           2   \n",
       "1742         1        16     0.0       0.95           22           2   \n",
       "1735         1        16     0.0       0.95           22           2   \n",
       "1737         1        16     0.0       0.95           22           2   \n",
       "1738         1        16     0.0       0.95           22           2   \n",
       "\n",
       "      tr_ext_rnds  d_ext  z_rnds  loop_mod  st_lp_md       acc  \n",
       "1739            4   1.05       3         3         4  0.574820  \n",
       "1740            4   1.05       3         3         4  0.574148  \n",
       "1733            4   1.05       3         3         4  0.573847  \n",
       "1741            4   1.05       3         3         4  0.573812  \n",
       "1734            4   1.05       3         3         4  0.573673  \n",
       "1736            4   1.05       3         3         4  0.573511  \n",
       "1742            4   1.05       3         3         4  0.572806  \n",
       "1735            4   1.05       3         3         4  0.571959  \n",
       "1737            4   1.05       3         3         4  0.571399  \n",
       "1738            4   1.05       3         3         4  0.571212  "
      ]
     },
     "execution_count": 4,
     "metadata": {},
     "output_type": "execute_result"
    }
   ],
   "source": [
    "# 1683\n",
    "results_df.sort_index().loc[1733:].sort_values(\"acc\", ascending=False)"
   ]
  },
  {
   "cell_type": "code",
   "execution_count": 9,
   "metadata": {},
   "outputs": [],
   "source": [
    "#Counter: 283 Eps: 0.00385 dz0: -0.00074 stepdz: 1e-05 stepeps: 4e-06 loops: 75 mean score: 0.41541319627955176\n",
    "results_df.loc[1721] = [0.00285, 1, 1.5e-07, 0.001205, 355, 'eps', [98, 89, 100, 101], 1, 16, 0, 0.95, 22, 2, 8, 1.05, 4, 3, 4, 0.577049333137024]"
   ]
  },
  {
   "cell_type": "code",
   "execution_count": 25,
   "metadata": {},
   "outputs": [
    {
     "data": {
      "text/plain": [
       "weights\n",
       "100    0.580028\n",
       "101    0.579829\n",
       "98     0.577854\n",
       "89     0.571537\n",
       "83     0.566388\n",
       "88     0.535633\n",
       "87     0.535398\n",
       "86     0.534840\n",
       "85     0.534743\n",
       "81     0.533029\n",
       "84     0.530748\n",
       "75     0.529650\n",
       "72     0.529328\n",
       "65     0.529065\n",
       "63     0.528285\n",
       "62     0.528065\n",
       "61     0.527743\n",
       "77     0.527170\n",
       "58     0.527051\n",
       "73     0.526517\n",
       "66     0.526349\n",
       "64     0.525460\n",
       "76     0.525350\n",
       "68     0.524970\n",
       "57     0.524687\n",
       "69     0.524602\n",
       "67     0.523941\n",
       "50     0.523872\n",
       "51     0.523767\n",
       "59     0.523485\n",
       "52     0.523473\n",
       "47     0.523053\n",
       "74     0.523052\n",
       "60     0.523038\n",
       "46     0.522959\n",
       "70     0.522834\n",
       "53     0.522810\n",
       "35     0.522400\n",
       "54     0.521536\n",
       "71     0.521262\n",
       "55     0.520569\n",
       "32     0.520336\n",
       "40     0.520101\n",
       "39     0.519729\n",
       "42     0.519589\n",
       "44     0.519515\n",
       "41     0.518704\n",
       "45     0.518576\n",
       "43     0.518576\n",
       "33     0.518492\n",
       "37     0.518010\n",
       "30     0.517089\n",
       "38     0.516660\n",
       "31     0.512943\n",
       "34     0.511850\n",
       "Name: acc, dtype: float64"
      ]
     },
     "execution_count": 25,
     "metadata": {},
     "output_type": "execute_result"
    }
   ],
   "source": [
    "results_df.sort_index().loc[:1683].groupby(\"weights\").acc.mean().sort_values(ascending=False)"
   ]
  },
  {
   "cell_type": "code",
   "execution_count": 29,
   "metadata": {},
   "outputs": [
    {
     "data": {
      "image/png": "[encoded data removed]",
      "text/plain": [
       "<Figure size 432x288 with 1 Axes>"
      ]
     },
     "metadata": {},
     "output_type": "display_data"
    }
   ],
   "source": [
    "plt.plot(results_df.sort_values(\"eps\").eps, results_df.sort_values(\"eps\").acc)\n",
    "plt.ylabel(\"Accuracy\")\n",
    "plt.xlabel(\"Epsilon\")\n",
    "plt.show()"
   ]
  },
  {
   "cell_type": "code",
   "execution_count": 30,
   "metadata": {},
   "outputs": [
    {
     "data": {
      "image/png": "[encoded data removed]",
      "text/plain": [
       "<Figure size 432x288 with 1 Axes>"
      ]
     },
     "metadata": {},
     "output_type": "display_data"
    }
   ],
   "source": [
    "plt.plot(results_df.sort_values(\"dz0\").dz0, results_df.sort_values(\"dz0\").acc)\n",
    "plt.ylabel(\"Accuracy\")\n",
    "plt.xlabel(\"dz0\")\n",
    "plt.show()"
   ]
  },
  {
   "cell_type": "code",
   "execution_count": 31,
   "metadata": {},
   "outputs": [
    {
     "data": {
      "image/png": "[encoded data removed]",
      "text/plain": [
       "<Figure size 432x288 with 1 Axes>"
      ]
     },
     "metadata": {},
     "output_type": "display_data"
    }
   ],
   "source": [
    "plt.plot(results_df.sort_values(\"stepeps\").stepeps.values, results_df.sort_values(\"stepeps\").acc)\n",
    "plt.ylabel(\"Accuracy\")\n",
    "plt.xlabel(\"stepeps\")\n",
    "plt.show()"
   ]
  },
  {
   "cell_type": "code",
   "execution_count": 32,
   "metadata": {},
   "outputs": [
    {
     "data": {
      "image/png": "[encoded data removed]",
      "text/plain": [
       "<Figure size 432x288 with 1 Axes>"
      ]
     },
     "metadata": {},
     "output_type": "display_data"
    }
   ],
   "source": [
    "plt.plot(results_df.sort_values(\"loops\").loops.values, results_df.sort_values(\"loops\").acc)\n",
    "plt.ylabel(\"Accuracy\")\n",
    "plt.xlabel(\"loops\")\n",
    "plt.show()"
   ]
  },
  {
   "cell_type": "code",
   "execution_count": 33,
   "metadata": {},
   "outputs": [
    {
     "data": {
      "text/plain": [
       "[<matplotlib.lines.Line2D at 0x7fe585488400>]"
      ]
     },
     "execution_count": 33,
     "metadata": {},
     "output_type": "execute_result"
    },
    {
     "data": {
      "image/png": "[encoded data removed]",
      "text/plain": [
       "<Figure size 432x288 with 1 Axes>"
      ]
     },
     "metadata": {},
     "output_type": "display_data"
    }
   ],
   "source": [
    "plt.plot(results_df.groupby(\"dz0\").acc.mean())"
   ]
  },
  {
   "cell_type": "code",
   "execution_count": 34,
   "metadata": {},
   "outputs": [
    {
     "data": {
      "text/plain": [
       "[<matplotlib.lines.Line2D at 0x7fe5854db400>]"
      ]
     },
     "execution_count": 34,
     "metadata": {},
     "output_type": "execute_result"
    },
    {
     "data": {
      "image/png": "[encoded data removed]",
      "text/plain": [
       "<Figure size 432x288 with 1 Axes>"
      ]
     },
     "metadata": {},
     "output_type": "display_data"
    }
   ],
   "source": [
    "plt.plot(results_df.groupby(\"loops\").acc.mean())"
   ]
  },
  {
   "cell_type": "code",
   "execution_count": 35,
   "metadata": {},
   "outputs": [
    {
     "data": {
      "text/plain": [
       "[<matplotlib.lines.Line2D at 0x7fe5d97b50f0>]"
      ]
     },
     "execution_count": 35,
     "metadata": {},
     "output_type": "execute_result"
    },
    {
     "data": {
      "image/png": "[encoded data removed]",
      "text/plain": [
       "<Figure size 432x288 with 1 Axes>"
      ]
     },
     "metadata": {},
     "output_type": "display_data"
    }
   ],
   "source": [
    "plt.plot(results_df.groupby(\"eps\").acc.mean())"
   ]
  },
  {
   "cell_type": "code",
   "execution_count": 36,
   "metadata": {},
   "outputs": [
    {
     "data": {
      "text/plain": [
       "[<matplotlib.lines.Line2D at 0x7fe587954a20>]"
      ]
     },
     "execution_count": 36,
     "metadata": {},
     "output_type": "execute_result"
    },
    {
     "data": {
      "image/png": "[encoded data removed]",
      "text/plain": [
       "<Figure size 432x288 with 1 Axes>"
      ]
     },
     "metadata": {},
     "output_type": "display_data"
    }
   ],
   "source": [
    "plt.plot(results_df.groupby(\"stepeps\").acc.mean())"
   ]
  },
  {
   "cell_type": "code",
   "execution_count": 114,
   "metadata": {},
   "outputs": [],
   "source": [
    "from sklearn.linear_model import LinearRegression\n",
    "from sklearn.preprocessing import StandardScaler"
   ]
  },
  {
   "cell_type": "code",
   "execution_count": 117,
   "metadata": {},
   "outputs": [
    {
     "data": {
      "text/plain": [
       "LinearRegression(copy_X=True, fit_intercept=True, n_jobs=1, normalize=False)"
      ]
     },
     "execution_count": 117,
     "metadata": {},
     "output_type": "execute_result"
    }
   ],
   "source": [
    "model = LinearRegression()\n",
    "\n",
    "ss = StandardScaler()\n",
    "\n",
    "y = results_df.acc.values\n",
    "X = results_df.drop(\"acc\", axis=1).values\n",
    "X = ss.fit_transform(X)\n",
    "\n",
    "model.fit(X,y)"
   ]
  },
  {
   "cell_type": "code",
   "execution_count": 118,
   "metadata": {},
   "outputs": [
    {
     "data": {
      "text/plain": [
       "array([ 5.26063795e-04, -8.98573783e-04, -1.35525272e-19, -9.90303404e-06,\n",
       "        3.14212065e-04])"
      ]
     },
     "execution_count": 118,
     "metadata": {},
     "output_type": "execute_result"
    }
   ],
   "source": [
    "model.coef_"
   ]
  },
  {
   "cell_type": "code",
   "execution_count": null,
   "metadata": {},
   "outputs": [],
   "source": []
  }
 ],
 "metadata": {
  "kernelspec": {
   "display_name": "Python 3",
   "language": "python",
   "name": "python3"
  },
  "language_info": {
   "codemirror_mode": {
    "name": "ipython",
    "version": 3
   },
   "file_extension": ".py",
   "mimetype": "text/x-python",
   "name": "python",
   "nbconvert_exporter": "python",
   "pygments_lexer": "ipython3",
   "version": "3.5.2"
  }
 },
 "nbformat": 4,
 "nbformat_minor": 2
}
