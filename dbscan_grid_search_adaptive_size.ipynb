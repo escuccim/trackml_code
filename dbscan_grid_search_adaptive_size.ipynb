{
 "cells": [
  {
   "cell_type": "code",
   "execution_count": 1,
   "metadata": {
    "_cell_guid": "e081740e-8169-4481-b1df-f5dd5488314f",
    "_uuid": "0bee86255243664f24e4bcf48af2228a3100a8b7"
   },
   "outputs": [],
   "source": [
    "%matplotlib inline\n",
    "import matplotlib.pyplot as plt\n",
    "import numpy as np\n",
    "import pandas as pd\n",
    "import os\n",
    "import math\n",
    "\n",
    "from trackml.dataset import load_event, load_dataset\n",
    "from trackml.score import score_event\n",
    "\n",
    "from multiprocessing import Pool\n",
    "\n",
    "from itertools import product\n",
    "\n",
    "def create_one_event_submission(event_id, hits, labels):\n",
    "    sub_data = np.column_stack(([event_id]*len(hits), hits.hit_id.values, labels))\n",
    "    submission = pd.DataFrame(data=sub_data, columns=[\"event_id\", \"hit_id\", \"track_id\"]).astype(int)\n",
    "    return submission"
   ]
  },
  {
   "cell_type": "code",
   "execution_count": 2,
   "metadata": {
    "_cell_guid": "572fcbb6-8c7b-4a09-8916-8ec76689130f",
    "_uuid": "63414de98667e95f60407c9155899a25a321cffc"
   },
   "outputs": [],
   "source": [
    "# Change this according to your directory preferred setting\n",
    "path_to_train = \"./data/train_1\"\n",
    "\n",
    "# This event is in Train_1\n",
    "event_prefix = \"event000001000\""
   ]
  },
  {
   "cell_type": "code",
   "execution_count": 3,
   "metadata": {},
   "outputs": [],
   "source": [
    "weights_0 = np.array([1.1, 1.1, .375, .25, 0.05, 0.05, 0])\n",
    "weights_2 = np.array([1.05, 1.05, .37, .25, .01, .045, 0])\n",
    "weights_3 = np.array([1.08, 1.08, .38,.25, 0.009, 0.0001, 0])\n",
    "weights_4 = np.array([1.1, 1.1, .5, .25, 0.008, 0.001, 0])\n",
    "weights_5 = np.array([1.01, 1.01, .4048, .2, 2e-16, 2e-16, 0])\n",
    "weights_9 = np.array([1.02, 1.02, .38, .25, 0.009, 0.02, 0])\n",
    "\n",
    "weights_1 = np.array([1.08, 1.08, .38,.25, 0.0001, 0.0001, 0])\n",
    "weights_6 = np.array([1.08, 1.08, .38, .25, 2e-4, 0, 0])\n",
    "weights_8 = np.array([1.07, 1.07, .37, .25, 0.0002, 0.0001, 0])\n",
    "weights_12 = np.array([1.01, 1.01, .42, .25, 0.0023, 0.001, 0])\n",
    "weights_13 = np.array([1.0, 1.0, .40, .20, 0.0023, 0.0001, 0])\n",
    "weights_14 = np.array([1.02, 1.02, .40, .24, 0.0002, 0, 0])\n",
    "weights_7 = np.array([1.08, 1.08, .40, .20, 0.0023, 0, 0])\n",
    "\n",
    "weights_10 = np.array([1.02, 1.02, .42, .24, 0.0002, 0, 0])\n",
    "weights_11 = np.array([1.08, 1.08, .40, .20, 0.0023, 0.0001, 0])\n",
    "weights_15 = np.array([1.01, 1.01, .42, .25, 0.0002, 0, 0])\n",
    "weights_16 = np.array([1.005, 1.005, .40, .25, 0.0002, 0, 0])\n",
    "weights_17 = np.array([1.02, 1.02, .42, .24, 0.02, 0, 0])\n",
    "weights_18 = np.array([1.033, 1.033, .376, .2, 0.0002, 0, 0])\n",
    "weights_19 = np.array([0.9734, 0.9734, .4072, .2217, 0.0, 0.0, 0])\n",
    "weights_20 = np.array([1.0, 1.0, .42, .24, 0.0, 0, 0])\n",
    "weights_21 = np.array([1.02, 1.02, .42, .24, 0.0, 0, 0])\n",
    "weights_22 = np.array([1.05, 1.05, .4, .25, 0.0, 0, 0])\n",
    "weights_23 = np.array([1.05, 1.05, .5, .25, 0.0, 0, 0])\n",
    "weights_24 = np.array([1.05, 1.05, .4, .20, 0.0, 0, 0])\n",
    "weights_26 = np.array([1.2, 1.2, .45, .15, 0.0, 0, 0])\n",
    "weights_27 = np.array([1.2, 1.2, .45, .20, 0.0, 0, 0])\n",
    "weights_28 = np.array([1.2, 1.2, .45, .25, 0.0, 0, 0])\n",
    "weights_29 = np.array([1.09, 1.09, .5, .20, 0.0, 0, 0])\n",
    "weights_25 = np.array([1.09, 1.09, .45, .20, 0.0, 0, 0])\n",
    "weights_30 = np.array([0.9, .9, .35, .15, 0.0, 0.007, 0.007])\n",
    "weights_31 = np.array([1.09, 1.09, .45, .20, 0.0, 0.005, 0.005])\n",
    "weights_34 = np.array([1.09, 1.09, .45, .20, 0.0, 0.01, 0.01])\n",
    "weights_36 = np.array([1.0, 1.0, .35, .2, 0.0, 0.02, 0.02])\n",
    "weights_32 = np.array([0.9, .9, .35, .2, 0.0, 0.01, 0.01])\n",
    "weights_33 = np.array([1.0, 1.0, .35, .2, 0.0, 0.01, 0.01])\n",
    "weights_37 = np.array([0.9, .9, .4, .2, 0.0, 0.015, 0.015]) # raise w4\n",
    "weights_38 = np.array([0.9, .9, .4, .25, 0.0, 0.01, 0.01])  # raise w3\n",
    "weights_39 = np.array([0.9, .9, .45, .2, 0.0, 0.01, 0.01])\n",
    "weights_40 = np.array([0.95, .95, .4, .2, 0.0, 0.01, 0.01])\n",
    "weights_41 = np.array([0.95, .95, .45, .2, 0.0, 0.01, 0.01])  # 38 + 40\n",
    "weights_42 = np.array([0.95, .95, .4, .2, 0.0, 0.008, 0.008]) # w4 lowered\n",
    "weights_43 = np.array([1.0, 1.0, .4, .2, 0.0, 0.01, 0.01])    # w1 raised\n",
    "weights_44 = np.array([0.95, .95, .4, .2, 0.0, 0.012, 0.012]) # w4 raised\n",
    "weights_45 = np.array([1.0, 1.0, .4, .2, 0.0, 0.01, 0.01])  # raise w1 from 35\n",
    "weights_46 = np.array([0.9, .9, .4, .2, 0.0, 0.009, 0.009]) # lower w4\n",
    "weights_47 = np.array([0.85, .85, .4, .2, 0.0, 0.01, 0.01]) # lower w1\n",
    "weights_49 = np.array([0.9, .9, .4, .2, 0.0, 0.007, 0.007]) # still lower w4\n",
    "weights_48 = np.array([0.9, .9, .4, .2, 0.0, 0.008, 0.008]) # lower w4\n",
    "weights_51 = np.array([0.9, .9, .4, .2, 0.0, 0.009, 0.009]) # lower w4\n",
    "weights_50 = np.array([0.9, .9, .4, .2, 0.0, 0.011, 0.011]) # higher w4\n",
    "weights_52 = np.array([0.9, .9, .4, .2, 0.0, 0.012, 0.012]) # higher w4\n",
    "weights_53 = np.array([0.9, .9, .4, .2, 0.0, 0.013, 0.013]) # higher w4\n",
    "weights_54 = np.array([0.9, .9, .4, .2, 0.0, 0.014, 0.014]) # higher w4\n",
    "weights_55 = np.array([0.9, .9, .4, .2, 0.0, 0.015, 0.015]) # higher w4\n",
    "weights_56 = np.array([0.9, .9, .5, .2, 0.0, 0.01, 0.01])     # raise w2\n",
    "weights_60 = np.array([0.7, .7, .5, .13, 0.0, 0.01, 0.01])     # raise w2, lower w1, w3\n",
    "weights_59 = np.array([0.9, .9, .55, .1, 0.0, 0.01, 0.01])     # raise w2, lower w3\n",
    "weights_35 = np.array([0.9, .9, .4, .2, 0.0, 0.01, 0.01])     \n",
    "weights_57 = np.array([0.9, .9, .5, .15, 0.0, 0.01, 0.01]) # second best\n",
    "weights_61 = np.array([0.9, .9, .4, .1, 0.0, 0.01, 0.01])  # lower w3 some more\n",
    "weights_62 = np.array([0.9, .9, .45, .1, 0.0, 0.01, 0.01])  # lower w3 and raise w2\n",
    "weights_63 = np.array([0.9, .9, .5, .1, 0.0, 0.01, 0.01])  # raise w2 some more\n",
    "weights_64 = np.array([0.9, .9, .5, .07, 0.0, 0.01, 0.01])  # raise w2 and lower w3 some more\n",
    "weights_65 = np.array([0.9, .9, .35, .15, 0.0, 0.01, 0.01])   # lower w2 a bit\n",
    "weights_66 = np.array([0.9, .9, .35, .2, 0.0, 0.01, 0.01])   # lower w2 a bit and raise w3\n",
    "weights_67 = np.array([0.95, .95, .3, .2, 0.0, 0.012, 0.012])# weights from r optimization\n",
    "weights_68 = np.array([0.96, .96, .35, .2, 0.0, 0.0085, 0.0085])# weights from r optimization\n",
    "weights_69 = np.array([0.9, .9, .4, .15, 0.0, 0.0085, 0.0085])   # w4 down\n",
    "weights_70 = np.array([1.0, 1.0, .4, .1214, 0.0, 0.008, 0.008])   # w4 down\n",
    "weights_71 = np.array([0.9, 0.9, .5, .15, 0.0, 0.0085, 0.0085])   # w4 down\n",
    "weights_73 = np.array([0.9, .9, .45, .15, 0.0, 0.01, 0.01])   # w2 up a bit\n",
    "weights_74 = np.array([0.9, .9, .35, .2, 0.0, 0.011, 0.011])   # w2 down and w3 up\n",
    "weights_72 = np.array([0.9, .9, .4, .15, 0.0, 0.012, 0.012])   # w4 up a bit\n",
    "weights_75 = np.array([0.9, .9, .4, .15, 0.0, 0.014, 0.014]) \n",
    "weights_76 = np.array([0.9, .9, .4, .20, 0.0, 0.014, 0.014]) \n",
    "weights_77 = np.array([0.85, 0.85, .4, .20, 0.0, 0.012, 0.012]) \n",
    "weights_78 = np.array([0.9, .9, .4, .15, 0.005, 0.01, 0.01]) \n",
    "weights_79 = np.array([0.9, .9, .4, .15, 0.0005, 0.01, 0.01]) \n",
    "weights_80 = np.array([0.9, .9, .4, .15, 0.01, 0.01, 0.01]) \n",
    "\n",
    "weights_58 = np.array([0.9, .9, .4, .15, 0.0, 0.01, 0.01])   # best so far\n",
    "weights_81 = np.array([0.96, .96, .45, .126, 0.0, 0.0108, 0.0108])\n",
    "\n",
    "weights_arr = np.vstack([weights_0, weights_1, weights_2, weights_3, weights_4, weights_5, weights_6, weights_7, weights_8, weights_9, weights_10, weights_11, weights_12, weights_13, weights_14,  weights_15,  weights_16,  weights_17,  weights_18,  weights_19,  weights_20,  weights_21,  weights_22,  weights_23,  weights_24,  weights_25,  weights_26,  weights_27,  weights_28,  weights_29,  weights_30,  weights_31,  weights_32,  weights_33,  weights_34,  weights_35,  weights_36,  weights_37,  weights_38,  weights_39,  weights_40,  weights_41,  weights_42,  weights_43,  weights_44,  weights_45,  weights_46,  weights_47,  weights_48,  weights_49,  weights_50,  weights_51,  weights_52,  weights_53,  weights_54,  weights_55,  weights_56,  weights_57,  weights_58,  weights_59,  weights_60,  weights_61,  weights_62,  weights_63,  weights_64,  weights_65,  weights_66,  weights_67,  weights_68,  weights_69,  weights_70,  weights_71,  weights_72,  weights_73,  weights_74,  weights_75,  weights_76,  weights_77,  weights_78,  weights_79,  weights_80,  weights_81])"
   ]
  },
  {
   "cell_type": "code",
   "execution_count": 4,
   "metadata": {
    "_cell_guid": "e06d1ed7-5091-4d67-abb4-5984b137e2e6",
    "_uuid": "c2f70ae63abffcc09a534bb17fb89df8ffddb722",
    "scrolled": true
   },
   "outputs": [],
   "source": [
    "from sklearn.preprocessing import StandardScaler\n",
    "import hdbscan\n",
    "from scipy import stats\n",
    "from tqdm import tqdm_notebook as tqdm\n",
    "from sklearn.cluster import DBSCAN\n",
    "\n",
    "class Clusterer(object):\n",
    "    def __init__(self,rz_scales=[0.65, 0.965, 1.5, 1.5], eps=0.0034, dz0 = 0, stepdz = 1.5e-7, stepeps = 0.000655, num_loops=225, final_cluster=True, weight=81, weight_arr=weights_arr, max_size=16, step_z=0.000010, size_incr=0.8, min_points=1, max_cluster_size=21):\n",
    "        self.max_cluster_size = max_cluster_size\n",
    "        self.rz_scales=rz_scales\n",
    "        self.epsilon = eps\n",
    "        self.dz0 = dz0\n",
    "        self.stepdz = stepdz\n",
    "        self.stepeps = stepeps / num_loops\n",
    "        self.num_loops = num_loops\n",
    "        self.final_cluster = final_cluster\n",
    "        self.weight_arr = weight_arr\n",
    "        self.weights = weight\n",
    "        self.max_size = max_size\n",
    "        self.step_z = step_z\n",
    "        if size_incr != 0:\n",
    "            self.size_incr = (self.max_cluster_size - max_size) / (num_loops * size_incr)\n",
    "        else:\n",
    "            self.size_incr = 0\n",
    "            \n",
    "        self.min_points = min_points\n",
    "        \n",
    "    # remove outliers\n",
    "    def _eliminate_outliers(self,labels,M):\n",
    "        norms=np.zeros((len(labels)),np.float32)\n",
    "        indices=np.zeros((len(labels)),np.float32)\n",
    "        for i, cluster in tqdm(enumerate(labels),total=len(labels)):\n",
    "            if cluster == 0:\n",
    "                continue\n",
    "            index = np.argwhere(self.clusters==cluster)\n",
    "            index = np.reshape(index,(index.shape[0]))\n",
    "            indices[i] = len(index)\n",
    "            x = M[index]\n",
    "            norms[i] = self._test_quadric(x)\n",
    "        threshold1 = np.percentile(norms,90)*5\n",
    "        threshold2 = 25\n",
    "        threshold3 = 5\n",
    "        for i, cluster in enumerate(labels):\n",
    "            if norms[i] > threshold1 or indices[i] > threshold2 or indices[i] < threshold3:\n",
    "                self.clusters[self.clusters==cluster]=0   \n",
    "    \n",
    "    # not sure what this function does?\n",
    "    def _test_quadric(self,x):\n",
    "        if x.size == 0 or len(x.shape)<2:\n",
    "            return 0\n",
    "        Z = np.zeros((x.shape[0],10), np.float32)\n",
    "        Z[:,0] = x[:,0]**2\n",
    "        Z[:,1] = 2*x[:,0]*x[:,1]\n",
    "        Z[:,2] = 2*x[:,0]*x[:,2]\n",
    "        Z[:,3] = 2*x[:,0]\n",
    "        Z[:,4] = x[:,1]**2\n",
    "        Z[:,5] = 2*x[:,1]*x[:,2]\n",
    "        Z[:,6] = 2*x[:,1]\n",
    "        Z[:,7] = x[:,2]**2\n",
    "        Z[:,8] = 2*x[:,2]\n",
    "        Z[:,9] = 1\n",
    "        v, s, t = np.linalg.svd(Z,full_matrices=False)        \n",
    "        smallest_index = np.argmin(np.array(s))\n",
    "        T = np.array(t)\n",
    "        T = T[smallest_index,:]        \n",
    "        norm = np.linalg.norm(np.dot(Z,T), ord=2)**2\n",
    "        return norm\n",
    "\n",
    "    # standard scale our data\n",
    "    def _preprocess(self, hits):\n",
    "        x = hits.x.values\n",
    "        y = hits.y.values\n",
    "        z = hits.z.values\n",
    "\n",
    "        r = np.sqrt(x**2 + y**2 + z**2)\n",
    "        rt = np.sqrt(x**2 + y**2)\n",
    "        \n",
    "        hits['a0'] = np.arctan2(hits['y'].values,hits['x'].values)\n",
    "        hits['a1'] = hits['a0']+1*(hits['rt']+1*hits['rt']**2)/1000*(1/2)/180*math.pi\n",
    "        \n",
    "        hits['x2'] = x/r\n",
    "        hits['y2'] = y/r\n",
    "        hits['z1'] = z/rt\n",
    "        hits['z2'] = z/r\n",
    "\n",
    "        ss = StandardScaler()\n",
    "        X = ss.fit_transform(hits[['sina1','cosa1','z1','z2', 'z3', 'x2', 'y2']].values)\n",
    "        X = np.multiply(X, self.weight_arr[self.weights])\n",
    "       \n",
    "        return X\n",
    "    \n",
    "    def _init(self,dfh):\n",
    "        dfh['s1'] = dfh.hit_id\n",
    "        dfh['N1'] =1\n",
    "        dfh['stepped_z'] = dfh.z + self.dz0\n",
    "        dfh['e1'] = self.epsilon\n",
    "        dfh['group_locked'] = 0\n",
    "        \n",
    "        mm = 1\n",
    "        dz0 = self.dz0\n",
    "\n",
    "        for ii in range(self.num_loops):\n",
    "            max_size = np.max([self.max_size + (ii * self.size_incr), self.max_cluster_size])\n",
    "            \n",
    "            dfh['r'] = np.sqrt(dfh['x'].values**2+dfh['y'].values**2+dfh['stepped_z'].values**2)\n",
    "            dfh['rt'] = np.sqrt(dfh['x'].values**2+dfh['y'].values**2)\n",
    "            dfh['a0'] = np.arctan2(dfh['y'].values,dfh['x'].values)\n",
    "            dfh['z1'] = dfh['stepped_z'].values/dfh['rt'].values\n",
    "            \n",
    "            dfh['z2'] = dfh['stepped_z']/dfh['r']\n",
    "            dfh['x2'] = dfh['x'].values/dfh['r'].values\n",
    "            dfh['y2'] = dfh['y'].values/dfh['r'].values\n",
    "            \n",
    "            dfh['z3'] = 0\n",
    "            mm = mm*(-1)  \n",
    "            \n",
    "            z_step = mm * self.step_z * ii\n",
    "            dz = mm*((ii*self.stepdz))\n",
    "            \n",
    "            dfh['stepped_z'] = dfh['z'] + z_step    \n",
    "            \n",
    "            dfh['a1'] = dfh['a0']+mm*(dfh['rt']+(dz)*dfh['rt']**2)/1000*(ii/2)/180*math.pi\n",
    "            dfh['sina1'] = np.sin(dfh['a1'].values)\n",
    "            dfh['cosa1'] = np.cos(dfh['a1'].values)\n",
    "            ss = StandardScaler()\n",
    "            dfs = ss.fit_transform(dfh[['sina1','cosa1','z1','z2', 'rt', 'x2', 'y2']].values)\n",
    "            cx = self.weight_arr[self.weights]\n",
    "            dfs = np.multiply(dfs, cx)\n",
    "\n",
    "            clusters=DBSCAN(eps=self.epsilon+(ii*self.stepeps),min_samples=self.min_points,metric='euclidean',n_jobs=1).fit(dfs).labels_ \n",
    "\n",
    "            if ii==0:\n",
    "                dfh['s1'] = clusters\n",
    "                dfh['N1'] = dfh.groupby('s1')['s1'].transform('count')\n",
    "                \n",
    "            # else update our hits conditionally, if it's a better fit\n",
    "            else:\n",
    "                # put our new clusters to another feature\n",
    "                dfh['s2'] = clusters\n",
    "                dfh['e2'] = self.epsilon+(ii*self.stepeps)\n",
    "                \n",
    "                # get the count of those clusters\n",
    "                dfh['N2'] = dfh.groupby('s2')['s2'].transform('count')\n",
    "                maxs1 = dfh['s1'].max()\n",
    "\n",
    "                # if our new clusters are bigger, but less than our max size, use the new ones instead\n",
    "                cond = np.where((dfh['N2'].values > dfh['N1'].values) & (dfh['N2'].values < max_size))\n",
    "                    \n",
    "                s1 = dfh['s1'].values\n",
    "                s1[cond] = dfh['s2'].values[cond]+maxs1\n",
    "\n",
    "                # write the new clusters back to our dataframe\n",
    "                dfh['s1'] = s1\n",
    "                dfh['s1'] = dfh['s1'].astype('int64')\n",
    "                dfh['N1'] = dfh.groupby('s1')['s1'].transform('count')\n",
    "        \n",
    "        # for debugging\n",
    "        # return dfh\n",
    "        \n",
    "        # return our clusters\n",
    "        return dfh['s1'].values    \n",
    "    \n",
    "    def predict(self, hits):    \n",
    "        # init our clusters\n",
    "        self.clusters = self._init(hits) \n",
    "        \n",
    "        mask = self.clusters == 0\n",
    "        \n",
    "        if self.final_cluster:\n",
    "            # preprocess our data\n",
    "            X = self._preprocess(hits) \n",
    "\n",
    "            # create our last clusterer\n",
    "            cl = hdbscan.HDBSCAN(min_samples=1, min_cluster_size=5, metric='braycurtis', cluster_selection_method='leaf', algorithm='best', leaf_size=20)\n",
    "\n",
    "            # labels = unique clusters\n",
    "            labels = np.unique(self.clusters)\n",
    "\n",
    "            # remove outliers\n",
    "            self._eliminate_outliers(labels,X)\n",
    "\n",
    "            # init n_labels\n",
    "            n_labels = 0\n",
    "\n",
    "            # now we loop through the points that haven't been assigned to a cluster and assign them with\n",
    "            # HDBSCAN\n",
    "            while n_labels < len(labels):\n",
    "                n_labels = len(labels)\n",
    "                max_len = np.max(self.clusters)\n",
    "                mask = self.clusters == 0\n",
    "            self.clusters[mask] = cl.fit_predict(X[mask])+max_len\n",
    "            \n",
    "        return self.clusters"
   ]
  },
  {
   "cell_type": "code",
   "execution_count": 5,
   "metadata": {},
   "outputs": [],
   "source": [
    "results_df = pd.read_pickle(\"gs_results.pkl\")\n",
    "# results_df"
   ]
  },
  {
   "cell_type": "code",
   "execution_count": 8,
   "metadata": {},
   "outputs": [
    {
     "name": "stdout",
     "output_type": "stream",
     "text": [
      "Length: 32\n"
     ]
    }
   ],
   "source": [
    "# defaults: \n",
    "# eps=0.0035, dz0 = -0.00070, stepdz = 0.00001, stepeps = 0.000005\n",
    "# 0.0035, 0.0005, 5e-05, 1e-09, 150, True, 10, True\n",
    "# create our params to iterate over\n",
    "eps_vals = [ 0.0034 ] # try lowering with increased step eps\n",
    "stepdz_vals = [ 1.5e-7, 1e-6 ] \n",
    "stepeps_vals = [ 0.000655, 9e-5 ]\n",
    "loop_vals = [ 225, 221 ]\n",
    "weight_vals = [ 81, 58 ]\n",
    "step_z_vals = [ 4.5e-5, 1e-5 ]\n",
    "size_vals = [ 16, ]\n",
    "max_size_vals = [ 21 ]\n",
    "size_inc_vals = [ 0.8 ]\n",
    "dz0_vals = [ 0 ] # unused\n",
    "\n",
    "min_size_vals = [ 1 ] # unused\n",
    "min_size_change_vals = [ 0 ] # unused\n",
    "\n",
    "final_cluster = [ True ] # unused\n",
    "dz_incr = [ True ] # unused\n",
    "\n",
    "step = \"eps\"\n",
    "\n",
    "foo = product(eps_vals, dz0_vals, stepdz_vals, stepeps_vals, loop_vals, final_cluster, weight_vals, dz_incr, size_vals, step_z_vals, size_inc_vals, max_size_vals)\n",
    "\n",
    "offset = np.max(results_df.index.values) + 1\n",
    "\n",
    "iter_list = []\n",
    "for i, item in enumerate(foo):\n",
    "    iter_list.append([i + offset, item])\n",
    "    \n",
    "print(\"Length:\", len(iter_list))    "
   ]
  },
  {
   "cell_type": "code",
   "execution_count": 9,
   "metadata": {},
   "outputs": [],
   "source": [
    "def grid_search_loop(params):\n",
    "    counter = params[0]\n",
    "    eps, dz0, stepdz, stepeps, loops, final_cluster, weights, dz_incr, max_size, step_z, size_incr, max_cluster_size = params[1]\n",
    "    step = \"eps\"\n",
    "    dataset_scores = []\n",
    "    print(\" - \", counter, \"Eps:\", eps, \"stepeps:\", stepeps, \"loops:\", loops, \"weight:\", weights, \"max size:\", max_size, \"step z:\", step_z, \"max:\", max_cluster_size)\n",
    "    \n",
    "    for event_id, hits, cells, particles, truth in load_dataset(\"./data/train_1\", skip=50, nevents=15):\n",
    "        # Track pattern recognition\n",
    "        model = Clusterer(eps=eps, dz0=dz0, stepdz=stepdz, stepeps=stepeps, num_loops=loops, final_cluster=final_cluster, weight=weights, weight_arr=weights_arr, max_size=max_size, step_z=step_z, size_incr=size_incr, max_cluster_size=max_cluster_size)\n",
    "        labels = model.predict(hits)\n",
    "\n",
    "        # Prepare submission for an event\n",
    "        one_submission = create_one_event_submission(event_id, hits, labels)\n",
    "        \n",
    "#         hits['particle_id'] = truth.particle_id\n",
    "#         hits['predictions'] = labels\n",
    "#         hits['event_id'] = event_id\n",
    "#         hits.to_csv(str(event_id) + \"data.csv\")\n",
    "        \n",
    "        # Score for the event\n",
    "        score = score_event(truth, one_submission)\n",
    "        dataset_scores.append(score)\n",
    "        print(event_id, params[1], \"score:\", score)\n",
    "        \n",
    "    mean_score = np.mean(dataset_scores)\n",
    "    \n",
    "    # create and return our results\n",
    "    result = [counter, [eps, dz0, stepdz, stepeps, loops, step, weights, final_cluster, max_size, step_z, size_incr, max_cluster_size, mean_score]]\n",
    "    print(result)\n",
    "    \n",
    "    return result\n",
    "\n",
    "def grid_search(iter_list, results_df=None, start=0, end=5):\n",
    "    pool = Pool(processes=16)\n",
    "    results = pool.map(grid_search_loop, iter_list[start:end])\n",
    "    pool.close()\n",
    "    \n",
    "    return results"
   ]
  },
  {
   "cell_type": "code",
   "execution_count": null,
   "metadata": {
    "scrolled": true
   },
   "outputs": [
    {
     "name": "stdout",
     "output_type": "stream",
     "text": [
      " -  1406 Eps: 0.0034 stepeps: 0.000655 loops: 225 weight: 81 max size: 16 step z: 4.5e-05 max: 21\n",
      " -  1408 Eps: 0.0034 stepeps: 0.000655 loops: 225 weight: 58 max size: 16 step z: 4.5e-05 max: 21\n",
      " -  1407 Eps: 0.0034 stepeps: 0.000655 loops: 225 weight: 81 max size: 16 step z: 1e-05 max: 21\n",
      " -  1412 Eps: 0.0034 stepeps: 0.000655 loops: 221 weight: 58 max size: 16 step z: 4.5e-05 max: 21\n",
      " -  1409 Eps: 0.0034 stepeps: 0.000655 loops: 225 weight: 58 max size: 16 step z: 1e-05 max: 21\n",
      " -  1411 Eps: 0.0034 stepeps: 0.000655 loops: 221 weight: 81 max size: 16 step z: 1e-05 max: 21\n",
      " -  1410 Eps: 0.0034 stepeps: 0.000655 loops: 221 weight: 81 max size: 16 step z: 4.5e-05 max: 21\n",
      " -  1415 Eps: 0.0034 stepeps: 9e-05 loops: 225 weight: 81 max size: 16 step z: 1e-05 max: 21\n",
      " -  1414 Eps: 0.0034 stepeps: 9e-05 loops: 225 weight: 81 max size: 16 step z: 4.5e-05 max: 21\n",
      " -  1416 Eps: 0.0034 stepeps: 9e-05 loops: 225 weight: 58 max size: 16 step z: 4.5e-05 max: 21\n",
      " -  1413 Eps: 0.0034 stepeps: 0.000655 loops: 221 weight: 58 max size: 16 step z: 1e-05 max: 21\n",
      " -  1419 Eps: 0.0034 stepeps: 9e-05 loops: 221 weight: 81 max size: 16 step z: 1e-05 max: 21\n",
      " -  1421 Eps: 0.0034 stepeps: 9e-05 loops: 221 weight: 58 max size: 16 step z: 1e-05 max: 21\n",
      " -  1418 Eps: 0.0034 stepeps: 9e-05 loops: 221 weight: 81 max size: 16 step z: 4.5e-05 max: 21\n",
      " -  1420 Eps: 0.0034 stepeps: 9e-05 loops: 221 weight: 58 max size: 16 step z: 4.5e-05 max: 21\n",
      " -  1417 Eps: 0.0034 stepeps: 9e-05 loops: 225 weight: 58 max size: 16 step z: 1e-05 max: 21\n"
     ]
    },
    {
     "data": {
      "application/vnd.jupyter.widget-view+json": {
       "model_id": "c645376ad5b94fbfa10704c064deffb5",
       "version_major": 2,
       "version_minor": 0
      },
      "text/plain": [
       "HBox(children=(IntProgress(value=0, max=37261), HTML(value='')))"
      ]
     },
     "metadata": {},
     "output_type": "display_data"
    },
    {
     "data": {
      "application/vnd.jupyter.widget-view+json": {
       "model_id": "6b48e02ee3d74d9fb253c3d9961b2a1f",
       "version_major": 2,
       "version_minor": 0
      },
      "text/plain": [
       "HBox(children=(IntProgress(value=0, max=37896), HTML(value='')))"
      ]
     },
     "metadata": {},
     "output_type": "display_data"
    },
    {
     "data": {
      "application/vnd.jupyter.widget-view+json": {
       "model_id": "78fd0a6fad3a44b6829d69e7455479f6",
       "version_major": 2,
       "version_minor": 0
      },
      "text/plain": [
       "HBox(children=(IntProgress(value=0, max=37642), HTML(value='')))"
      ]
     },
     "metadata": {},
     "output_type": "display_data"
    },
    {
     "data": {
      "application/vnd.jupyter.widget-view+json": {
       "model_id": "54bd337d3e1e4c7bb8f1036ba7878039",
       "version_major": 2,
       "version_minor": 0
      },
      "text/plain": [
       "HBox(children=(IntProgress(value=0, max=37418), HTML(value='')))"
      ]
     },
     "metadata": {},
     "output_type": "display_data"
    },
    {
     "name": "stdout",
     "output_type": "stream",
     "text": [
      "\n"
     ]
    },
    {
     "data": {
      "application/vnd.jupyter.widget-view+json": {
       "model_id": "22819b8868bf42eca59e8c5f3b5dab6a",
       "version_major": 2,
       "version_minor": 0
      },
      "text/plain": [
       "HBox(children=(IntProgress(value=0, max=37254), HTML(value='')))"
      ]
     },
     "metadata": {},
     "output_type": "display_data"
    },
    {
     "data": {
      "application/vnd.jupyter.widget-view+json": {
       "model_id": "6a7025408c724808bd6f64ed9ec8eb14",
       "version_major": 2,
       "version_minor": 0
      },
      "text/plain": [
       "HBox(children=(IntProgress(value=0, max=37417), HTML(value='')))"
      ]
     },
     "metadata": {},
     "output_type": "display_data"
    },
    {
     "data": {
      "application/vnd.jupyter.widget-view+json": {
       "model_id": "208ba142c3a648258fb73bf43dcddffe",
       "version_major": 2,
       "version_minor": 0
      },
      "text/plain": [
       "HBox(children=(IntProgress(value=0, max=37643), HTML(value='')))"
      ]
     },
     "metadata": {},
     "output_type": "display_data"
    },
    {
     "data": {
      "application/vnd.jupyter.widget-view+json": {
       "model_id": "439e50cbca5f44a59d57e03438ee79ac",
       "version_major": 2,
       "version_minor": 0
      },
      "text/plain": [
       "HBox(children=(IntProgress(value=0, max=37898), HTML(value='')))"
      ]
     },
     "metadata": {},
     "output_type": "display_data"
    },
    {
     "data": {
      "application/vnd.jupyter.widget-view+json": {
       "model_id": "a589f5f12ede4a22bb2fe23ff92a33fd",
       "version_major": 2,
       "version_minor": 0
      },
      "text/plain": [
       "HBox(children=(IntProgress(value=0, max=37918), HTML(value='')))"
      ]
     },
     "metadata": {},
     "output_type": "display_data"
    },
    {
     "data": {
      "application/vnd.jupyter.widget-view+json": {
       "model_id": "469369d2b47e455f8174265c20285bcf",
       "version_major": 2,
       "version_minor": 0
      },
      "text/plain": [
       "HBox(children=(IntProgress(value=0, max=37922), HTML(value='')))"
      ]
     },
     "metadata": {},
     "output_type": "display_data"
    },
    {
     "name": "stdout",
     "output_type": "stream",
     "text": [
      "\n"
     ]
    },
    {
     "name": "stderr",
     "output_type": "stream",
     "text": [
      "/home/skooch/.local/lib/python3.5/site-packages/sklearn/externals/joblib/parallel.py:547: UserWarning: Multiprocessing-backed parallel loops cannot be nested, setting n_jobs=1\n",
      "  **self._backend_args)\n"
     ]
    },
    {
     "data": {
      "application/vnd.jupyter.widget-view+json": {
       "model_id": "8bf82450770046e680c2eb846356697e",
       "version_major": 2,
       "version_minor": 0
      },
      "text/plain": [
       "HBox(children=(IntProgress(value=0, max=37680), HTML(value='')))"
      ]
     },
     "metadata": {},
     "output_type": "display_data"
    },
    {
     "data": {
      "application/vnd.jupyter.widget-view+json": {
       "model_id": "7ce8c06228b748c99c72aff0cf3e131c",
       "version_major": 2,
       "version_minor": 0
      },
      "text/plain": [
       "HBox(children=(IntProgress(value=0, max=37245), HTML(value='')))"
      ]
     },
     "metadata": {},
     "output_type": "display_data"
    },
    {
     "data": {
      "application/vnd.jupyter.widget-view+json": {
       "model_id": "90c234100d454be9849df7f2c7253611",
       "version_major": 2,
       "version_minor": 0
      },
      "text/plain": [
       "HBox(children=(IntProgress(value=0, max=37428), HTML(value='')))"
      ]
     },
     "metadata": {},
     "output_type": "display_data"
    },
    {
     "data": {
      "application/vnd.jupyter.widget-view+json": {
       "model_id": "a5cc235b69d64945a4a1bd0e25f226a2",
       "version_major": 2,
       "version_minor": 0
      },
      "text/plain": [
       "HBox(children=(IntProgress(value=0, max=37242), HTML(value='')))"
      ]
     },
     "metadata": {},
     "output_type": "display_data"
    },
    {
     "data": {
      "application/vnd.jupyter.widget-view+json": {
       "model_id": "f607d8c68af34e9bb20b7068b8fd324a",
       "version_major": 2,
       "version_minor": 0
      },
      "text/plain": [
       "HBox(children=(IntProgress(value=0, max=37424), HTML(value='')))"
      ]
     },
     "metadata": {},
     "output_type": "display_data"
    },
    {
     "name": "stdout",
     "output_type": "stream",
     "text": [
      "\n"
     ]
    },
    {
     "data": {
      "application/vnd.jupyter.widget-view+json": {
       "model_id": "0129762c1bab44fc839cc4c250689470",
       "version_major": 2,
       "version_minor": 0
      },
      "text/plain": [
       "HBox(children=(IntProgress(value=0, max=37672), HTML(value='')))"
      ]
     },
     "metadata": {},
     "output_type": "display_data"
    },
    {
     "name": "stdout",
     "output_type": "stream",
     "text": [
      "\n",
      "1050 (0.0034, 0, 1.5e-07, 0.000655, 221, True, 58, True, 16, 1e-05, 0.8, 21) score: 0.5316904171892141\n",
      "\n",
      "\n",
      "\n",
      "\n",
      "\n",
      "\n"
     ]
    },
    {
     "name": "stderr",
     "output_type": "stream",
     "text": [
      "/home/skooch/.local/lib/python3.5/site-packages/sklearn/externals/joblib/parallel.py:547: UserWarning: Multiprocessing-backed parallel loops cannot be nested, setting n_jobs=1\n",
      "  **self._backend_args)\n",
      "/home/skooch/.local/lib/python3.5/site-packages/sklearn/externals/joblib/parallel.py:547: UserWarning: Multiprocessing-backed parallel loops cannot be nested, setting n_jobs=1\n",
      "  **self._backend_args)\n",
      "/home/skooch/.local/lib/python3.5/site-packages/sklearn/externals/joblib/parallel.py:547: UserWarning: Multiprocessing-backed parallel loops cannot be nested, setting n_jobs=1\n",
      "  **self._backend_args)\n",
      "/home/skooch/.local/lib/python3.5/site-packages/sklearn/externals/joblib/parallel.py:547: UserWarning: Multiprocessing-backed parallel loops cannot be nested, setting n_jobs=1\n",
      "  **self._backend_args)\n"
     ]
    },
    {
     "name": "stdout",
     "output_type": "stream",
     "text": [
      "\n"
     ]
    },
    {
     "name": "stderr",
     "output_type": "stream",
     "text": [
      "/home/skooch/.local/lib/python3.5/site-packages/sklearn/externals/joblib/parallel.py:547: UserWarning: Multiprocessing-backed parallel loops cannot be nested, setting n_jobs=1\n",
      "  **self._backend_args)\n"
     ]
    },
    {
     "name": "stdout",
     "output_type": "stream",
     "text": [
      "\n"
     ]
    },
    {
     "name": "stderr",
     "output_type": "stream",
     "text": [
      "/home/skooch/.local/lib/python3.5/site-packages/sklearn/externals/joblib/parallel.py:547: UserWarning: Multiprocessing-backed parallel loops cannot be nested, setting n_jobs=1\n",
      "  **self._backend_args)\n"
     ]
    },
    {
     "name": "stdout",
     "output_type": "stream",
     "text": [
      "\n",
      "\n",
      "\n",
      "1050 (0.0034, 0, 1.5e-07, 0.000655, 221, True, 81, True, 16, 1e-05, 0.8, 21) score: 0.5340600102482829\n",
      "\n",
      "1050 (0.0034, 0, 1.5e-07, 9e-05, 221, True, 58, True, 16, 1e-05, 0.8, 21) score: 0.5327294798246014\n"
     ]
    },
    {
     "name": "stderr",
     "output_type": "stream",
     "text": [
      "/home/skooch/.local/lib/python3.5/site-packages/sklearn/externals/joblib/parallel.py:547: UserWarning: Multiprocessing-backed parallel loops cannot be nested, setting n_jobs=1\n",
      "  **self._backend_args)\n"
     ]
    },
    {
     "name": "stdout",
     "output_type": "stream",
     "text": [
      "1050 (0.0034, 0, 1.5e-07, 9e-05, 221, True, 81, True, 16, 4.5e-05, 0.8, 21) score: 0.5334591203027474\n"
     ]
    },
    {
     "name": "stderr",
     "output_type": "stream",
     "text": [
      "/home/skooch/.local/lib/python3.5/site-packages/sklearn/externals/joblib/parallel.py:547: UserWarning: Multiprocessing-backed parallel loops cannot be nested, setting n_jobs=1\n",
      "  **self._backend_args)\n"
     ]
    },
    {
     "name": "stdout",
     "output_type": "stream",
     "text": [
      "1050 (0.0034, 0, 1.5e-07, 0.000655, 221, True, 58, True, 16, 4.5e-05, 0.8, 21) score: 0.5317584147028988\n"
     ]
    },
    {
     "name": "stderr",
     "output_type": "stream",
     "text": [
      "/home/skooch/.local/lib/python3.5/site-packages/sklearn/externals/joblib/parallel.py:547: UserWarning: Multiprocessing-backed parallel loops cannot be nested, setting n_jobs=1\n",
      "  **self._backend_args)\n"
     ]
    },
    {
     "name": "stdout",
     "output_type": "stream",
     "text": [
      "1050 (0.0034, 0, 1.5e-07, 9e-05, 221, True, 58, True, 16, 4.5e-05, 0.8, 21) score: 0.5327294798246014\n",
      "1050 (0.0034, 0, 1.5e-07, 0.000655, 221, True, 81, True, 16, 4.5e-05, 0.8, 21) score: 0.5340357786563517\n"
     ]
    },
    {
     "name": "stderr",
     "output_type": "stream",
     "text": [
      "/home/skooch/.local/lib/python3.5/site-packages/sklearn/externals/joblib/parallel.py:547: UserWarning: Multiprocessing-backed parallel loops cannot be nested, setting n_jobs=1\n",
      "  **self._backend_args)\n",
      "/home/skooch/.local/lib/python3.5/site-packages/sklearn/externals/joblib/parallel.py:547: UserWarning: Multiprocessing-backed parallel loops cannot be nested, setting n_jobs=1\n",
      "  **self._backend_args)\n",
      "/home/skooch/.local/lib/python3.5/site-packages/sklearn/externals/joblib/parallel.py:547: UserWarning: Multiprocessing-backed parallel loops cannot be nested, setting n_jobs=1\n",
      "  **self._backend_args)\n",
      "/home/skooch/.local/lib/python3.5/site-packages/sklearn/externals/joblib/parallel.py:547: UserWarning: Multiprocessing-backed parallel loops cannot be nested, setting n_jobs=1\n",
      "  **self._backend_args)\n",
      "/home/skooch/.local/lib/python3.5/site-packages/sklearn/externals/joblib/parallel.py:547: UserWarning: Multiprocessing-backed parallel loops cannot be nested, setting n_jobs=1\n",
      "  **self._backend_args)\n",
      "/home/skooch/.local/lib/python3.5/site-packages/sklearn/externals/joblib/parallel.py:547: UserWarning: Multiprocessing-backed parallel loops cannot be nested, setting n_jobs=1\n",
      "  **self._backend_args)\n"
     ]
    },
    {
     "name": "stdout",
     "output_type": "stream",
     "text": [
      "1050 (0.0034, 0, 1.5e-07, 0.000655, 225, True, 81, True, 16, 4.5e-05, 0.8, 21) score: 0.5338379516266323\n",
      "1050 (0.0034, 0, 1.5e-07, 0.000655, 225, True, 58, True, 16, 4.5e-05, 0.8, 21) score: 0.5318469259644827\n",
      "1050 (0.0034, 0, 1.5e-07, 9e-05, 225, True, 58, True, 16, 4.5e-05, 0.8, 21) score: 0.5331203546719058\n",
      "1050 (0.0034, 0, 1.5e-07, 9e-05, 225, True, 81, True, 16, 4.5e-05, 0.8, 21) score: 0.5336909955130732\n",
      "1050 (0.0034, 0, 1.5e-07, 9e-05, 221, True, 81, True, 16, 1e-05, 0.8, 21) score: 0.5334464996019048\n",
      "1050 (0.0034, 0, 1.5e-07, 9e-05, 225, True, 58, True, 16, 1e-05, 0.8, 21) score: 0.5331926415447588\n",
      "1050 (0.0034, 0, 1.5e-07, 0.000655, 225, True, 58, True, 16, 1e-05, 0.8, 21) score: 0.5319040403070295\n",
      "1050 (0.0034, 0, 1.5e-07, 0.000655, 225, True, 81, True, 16, 1e-05, 0.8, 21) score: 0.5342007784664767\n",
      "1050 (0.0034, 0, 1.5e-07, 9e-05, 225, True, 81, True, 16, 1e-05, 0.8, 21) score: 0.5336794628026085\n"
     ]
    },
    {
     "data": {
      "application/vnd.jupyter.widget-view+json": {
       "model_id": "07ca7caa07a143d999a8838928ea203a",
       "version_major": 2,
       "version_minor": 0
      },
      "text/plain": [
       "HBox(children=(IntProgress(value=0, max=38674), HTML(value='')))"
      ]
     },
     "metadata": {},
     "output_type": "display_data"
    },
    {
     "data": {
      "application/vnd.jupyter.widget-view+json": {
       "model_id": "ac61096bb70a46ec826f30a3732b40a4",
       "version_major": 2,
       "version_minor": 0
      },
      "text/plain": [
       "HBox(children=(IntProgress(value=0, max=39009), HTML(value='')))"
      ]
     },
     "metadata": {},
     "output_type": "display_data"
    },
    {
     "data": {
      "application/vnd.jupyter.widget-view+json": {
       "model_id": "242e1e2ba29547299b009561b0bcae5e",
       "version_major": 2,
       "version_minor": 0
      },
      "text/plain": [
       "HBox(children=(IntProgress(value=0, max=39009), HTML(value='')))"
      ]
     },
     "metadata": {},
     "output_type": "display_data"
    },
    {
     "data": {
      "application/vnd.jupyter.widget-view+json": {
       "model_id": "fea3bc37b52149e099b7bfc1bc9e320f",
       "version_major": 2,
       "version_minor": 0
      },
      "text/plain": [
       "HBox(children=(IntProgress(value=0, max=39474), HTML(value='')))"
      ]
     },
     "metadata": {},
     "output_type": "display_data"
    },
    {
     "name": "stdout",
     "output_type": "stream",
     "text": [
      "\n"
     ]
    },
    {
     "data": {
      "application/vnd.jupyter.widget-view+json": {
       "model_id": "bfce2982baed49feb7dc1da36c31127e",
       "version_major": 2,
       "version_minor": 0
      },
      "text/plain": [
       "HBox(children=(IntProgress(value=0, max=38676), HTML(value='')))"
      ]
     },
     "metadata": {},
     "output_type": "display_data"
    },
    {
     "name": "stdout",
     "output_type": "stream",
     "text": [
      "\n",
      "\n",
      "\n"
     ]
    },
    {
     "data": {
      "application/vnd.jupyter.widget-view+json": {
       "model_id": "3bc9b06622a34685b54d299b312701b1",
       "version_major": 2,
       "version_minor": 0
      },
      "text/plain": [
       "HBox(children=(IntProgress(value=0, max=39153), HTML(value='')))"
      ]
     },
     "metadata": {},
     "output_type": "display_data"
    },
    {
     "data": {
      "application/vnd.jupyter.widget-view+json": {
       "model_id": "c2f4d29eac0040f8843397c6a644bb0d",
       "version_major": 2,
       "version_minor": 0
      },
      "text/plain": [
       "HBox(children=(IntProgress(value=0, max=39154), HTML(value='')))"
      ]
     },
     "metadata": {},
     "output_type": "display_data"
    },
    {
     "data": {
      "application/vnd.jupyter.widget-view+json": {
       "model_id": "c91d9b293afd4a62ac79d1b05096a24b",
       "version_major": 2,
       "version_minor": 0
      },
      "text/plain": [
       "HBox(children=(IntProgress(value=0, max=39478), HTML(value='')))"
      ]
     },
     "metadata": {},
     "output_type": "display_data"
    },
    {
     "data": {
      "application/vnd.jupyter.widget-view+json": {
       "model_id": "54cc6541d076442c8769f190c4bb5a70",
       "version_major": 2,
       "version_minor": 0
      },
      "text/plain": [
       "HBox(children=(IntProgress(value=0, max=39437), HTML(value='')))"
      ]
     },
     "metadata": {},
     "output_type": "display_data"
    },
    {
     "data": {
      "application/vnd.jupyter.widget-view+json": {
       "model_id": "46c37c6713b64921a0fa52ffd549b8dd",
       "version_major": 2,
       "version_minor": 0
      },
      "text/plain": [
       "HBox(children=(IntProgress(value=0, max=39195), HTML(value='')))"
      ]
     },
     "metadata": {},
     "output_type": "display_data"
    },
    {
     "name": "stdout",
     "output_type": "stream",
     "text": [
      "\n"
     ]
    },
    {
     "data": {
      "application/vnd.jupyter.widget-view+json": {
       "model_id": "b77c43c02f6146d6bb7ee88f19637e1b",
       "version_major": 2,
       "version_minor": 0
      },
      "text/plain": [
       "HBox(children=(IntProgress(value=0, max=38990), HTML(value='')))"
      ]
     },
     "metadata": {},
     "output_type": "display_data"
    },
    {
     "data": {
      "application/vnd.jupyter.widget-view+json": {
       "model_id": "7467494247a247b399aa327d20897e2d",
       "version_major": 2,
       "version_minor": 0
      },
      "text/plain": [
       "HBox(children=(IntProgress(value=0, max=38712), HTML(value='')))"
      ]
     },
     "metadata": {},
     "output_type": "display_data"
    },
    {
     "name": "stdout",
     "output_type": "stream",
     "text": [
      "\n",
      "\n"
     ]
    },
    {
     "name": "stderr",
     "output_type": "stream",
     "text": [
      "/home/skooch/.local/lib/python3.5/site-packages/sklearn/externals/joblib/parallel.py:547: UserWarning: Multiprocessing-backed parallel loops cannot be nested, setting n_jobs=1\n",
      "  **self._backend_args)\n",
      "/home/skooch/.local/lib/python3.5/site-packages/sklearn/externals/joblib/parallel.py:547: UserWarning: Multiprocessing-backed parallel loops cannot be nested, setting n_jobs=1\n",
      "  **self._backend_args)\n"
     ]
    },
    {
     "name": "stdout",
     "output_type": "stream",
     "text": [
      "\n"
     ]
    },
    {
     "name": "stderr",
     "output_type": "stream",
     "text": [
      "/home/skooch/.local/lib/python3.5/site-packages/sklearn/externals/joblib/parallel.py:547: UserWarning: Multiprocessing-backed parallel loops cannot be nested, setting n_jobs=1\n",
      "  **self._backend_args)\n"
     ]
    },
    {
     "data": {
      "application/vnd.jupyter.widget-view+json": {
       "model_id": "c82ff0e94d88445e90764f86451ebaf2",
       "version_major": 2,
       "version_minor": 0
      },
      "text/plain": [
       "HBox(children=(IntProgress(value=0, max=38715), HTML(value='')))"
      ]
     },
     "metadata": {},
     "output_type": "display_data"
    },
    {
     "data": {
      "application/vnd.jupyter.widget-view+json": {
       "model_id": "7d72f43751a643bfb12325588b3f4baa",
       "version_major": 2,
       "version_minor": 0
      },
      "text/plain": [
       "HBox(children=(IntProgress(value=0, max=39442), HTML(value='')))"
      ]
     },
     "metadata": {},
     "output_type": "display_data"
    },
    {
     "name": "stderr",
     "output_type": "stream",
     "text": [
      "/home/skooch/.local/lib/python3.5/site-packages/sklearn/externals/joblib/parallel.py:547: UserWarning: Multiprocessing-backed parallel loops cannot be nested, setting n_jobs=1\n",
      "  **self._backend_args)\n"
     ]
    },
    {
     "name": "stdout",
     "output_type": "stream",
     "text": [
      "\n"
     ]
    },
    {
     "data": {
      "application/vnd.jupyter.widget-view+json": {
       "model_id": "34343024c54a47e399d935f8189e012d",
       "version_major": 2,
       "version_minor": 0
      },
      "text/plain": [
       "HBox(children=(IntProgress(value=0, max=38989), HTML(value='')))"
      ]
     },
     "metadata": {},
     "output_type": "display_data"
    },
    {
     "name": "stdout",
     "output_type": "stream",
     "text": [
      "1051 (0.0034, 0, 1.5e-07, 9e-05, 221, True, 58, True, 16, 4.5e-05, 0.8, 21) score: 0.523938725194333\n",
      "1051 (0.0034, 0, 1.5e-07, 0.000655, 221, True, 58, True, 16, 1e-05, 0.8, 21) score: 0.524294629222963\n"
     ]
    },
    {
     "data": {
      "application/vnd.jupyter.widget-view+json": {
       "model_id": "4003d03e84ac47b2bf8f1166050e760a",
       "version_major": 2,
       "version_minor": 0
      },
      "text/plain": [
       "HBox(children=(IntProgress(value=0, max=39198), HTML(value='')))"
      ]
     },
     "metadata": {},
     "output_type": "display_data"
    },
    {
     "name": "stdout",
     "output_type": "stream",
     "text": [
      "\n",
      "1051 (0.0034, 0, 1.5e-07, 9e-05, 221, True, 58, True, 16, 1e-05, 0.8, 21) score: 0.5239156001874421\n"
     ]
    },
    {
     "name": "stderr",
     "output_type": "stream",
     "text": [
      "/home/skooch/.local/lib/python3.5/site-packages/sklearn/externals/joblib/parallel.py:547: UserWarning: Multiprocessing-backed parallel loops cannot be nested, setting n_jobs=1\n",
      "  **self._backend_args)\n"
     ]
    },
    {
     "name": "stdout",
     "output_type": "stream",
     "text": [
      "\n",
      "1051 (0.0034, 0, 1.5e-07, 9e-05, 221, True, 81, True, 16, 4.5e-05, 0.8, 21) score: 0.5283356758989033\n",
      "\n"
     ]
    },
    {
     "name": "stderr",
     "output_type": "stream",
     "text": [
      "/home/skooch/.local/lib/python3.5/site-packages/sklearn/externals/joblib/parallel.py:547: UserWarning: Multiprocessing-backed parallel loops cannot be nested, setting n_jobs=1\n",
      "  **self._backend_args)\n",
      "/home/skooch/.local/lib/python3.5/site-packages/sklearn/externals/joblib/parallel.py:547: UserWarning: Multiprocessing-backed parallel loops cannot be nested, setting n_jobs=1\n",
      "  **self._backend_args)\n"
     ]
    },
    {
     "name": "stdout",
     "output_type": "stream",
     "text": [
      "\n"
     ]
    },
    {
     "name": "stderr",
     "output_type": "stream",
     "text": [
      "/home/skooch/.local/lib/python3.5/site-packages/sklearn/externals/joblib/parallel.py:547: UserWarning: Multiprocessing-backed parallel loops cannot be nested, setting n_jobs=1\n",
      "  **self._backend_args)\n"
     ]
    },
    {
     "name": "stdout",
     "output_type": "stream",
     "text": [
      "1051 (0.0034, 0, 1.5e-07, 0.000655, 221, True, 58, True, 16, 4.5e-05, 0.8, 21) score: 0.5243497750852169\n",
      "\n",
      "\n",
      "1051 (0.0034, 0, 1.5e-07, 0.000655, 221, True, 81, True, 16, 4.5e-05, 0.8, 21) score: 0.5321657644046527\n",
      "\n",
      "1051 (0.0034, 0, 1.5e-07, 0.000655, 221, True, 81, True, 16, 1e-05, 0.8, 21) score: 0.5321049070418628\n"
     ]
    },
    {
     "name": "stderr",
     "output_type": "stream",
     "text": [
      "/home/skooch/.local/lib/python3.5/site-packages/sklearn/externals/joblib/parallel.py:547: UserWarning: Multiprocessing-backed parallel loops cannot be nested, setting n_jobs=1\n",
      "  **self._backend_args)\n"
     ]
    },
    {
     "name": "stdout",
     "output_type": "stream",
     "text": [
      "1051 (0.0034, 0, 1.5e-07, 9e-05, 221, True, 81, True, 16, 1e-05, 0.8, 21) score: 0.528193575345869\n"
     ]
    },
    {
     "name": "stderr",
     "output_type": "stream",
     "text": [
      "/home/skooch/.local/lib/python3.5/site-packages/sklearn/externals/joblib/parallel.py:547: UserWarning: Multiprocessing-backed parallel loops cannot be nested, setting n_jobs=1\n",
      "  **self._backend_args)\n",
      "/home/skooch/.local/lib/python3.5/site-packages/sklearn/externals/joblib/parallel.py:547: UserWarning: Multiprocessing-backed parallel loops cannot be nested, setting n_jobs=1\n",
      "  **self._backend_args)\n",
      "/home/skooch/.local/lib/python3.5/site-packages/sklearn/externals/joblib/parallel.py:547: UserWarning: Multiprocessing-backed parallel loops cannot be nested, setting n_jobs=1\n",
      "  **self._backend_args)\n"
     ]
    },
    {
     "name": "stdout",
     "output_type": "stream",
     "text": [
      "1051 (0.0034, 0, 1.5e-07, 0.000655, 225, True, 81, True, 16, 4.5e-05, 0.8, 21) score: 0.5323116517195987\n",
      "1051 (0.0034, 0, 1.5e-07, 9e-05, 225, True, 81, True, 16, 4.5e-05, 0.8, 21) score: 0.5288798073708366\n"
     ]
    },
    {
     "name": "stderr",
     "output_type": "stream",
     "text": [
      "/home/skooch/.local/lib/python3.5/site-packages/sklearn/externals/joblib/parallel.py:547: UserWarning: Multiprocessing-backed parallel loops cannot be nested, setting n_jobs=1\n",
      "  **self._backend_args)\n"
     ]
    },
    {
     "name": "stdout",
     "output_type": "stream",
     "text": [
      "1051 (0.0034, 0, 1.5e-07, 9e-05, 225, True, 58, True, 16, 1e-05, 0.8, 21) score: 0.5244239641601345\n"
     ]
    },
    {
     "name": "stderr",
     "output_type": "stream",
     "text": [
      "/home/skooch/.local/lib/python3.5/site-packages/sklearn/externals/joblib/parallel.py:547: UserWarning: Multiprocessing-backed parallel loops cannot be nested, setting n_jobs=1\n",
      "  **self._backend_args)\n"
     ]
    },
    {
     "name": "stdout",
     "output_type": "stream",
     "text": [
      "1051 (0.0034, 0, 1.5e-07, 0.000655, 225, True, 58, True, 16, 4.5e-05, 0.8, 21) score: 0.5241680935273413\n"
     ]
    },
    {
     "name": "stderr",
     "output_type": "stream",
     "text": [
      "/home/skooch/.local/lib/python3.5/site-packages/sklearn/externals/joblib/parallel.py:547: UserWarning: Multiprocessing-backed parallel loops cannot be nested, setting n_jobs=1\n",
      "  **self._backend_args)\n",
      "/home/skooch/.local/lib/python3.5/site-packages/sklearn/externals/joblib/parallel.py:547: UserWarning: Multiprocessing-backed parallel loops cannot be nested, setting n_jobs=1\n",
      "  **self._backend_args)\n"
     ]
    },
    {
     "name": "stdout",
     "output_type": "stream",
     "text": [
      "1051 (0.0034, 0, 1.5e-07, 9e-05, 225, True, 81, True, 16, 1e-05, 0.8, 21) score: 0.5287334461680527\n",
      "1051 (0.0034, 0, 1.5e-07, 0.000655, 225, True, 58, True, 16, 1e-05, 0.8, 21) score: 0.5241804390251414\n",
      "1051 (0.0034, 0, 1.5e-07, 9e-05, 225, True, 58, True, 16, 4.5e-05, 0.8, 21) score: 0.5244184603799782\n",
      "1051 (0.0034, 0, 1.5e-07, 0.000655, 225, True, 81, True, 16, 1e-05, 0.8, 21) score: 0.5322215576799463\n"
     ]
    },
    {
     "data": {
      "application/vnd.jupyter.widget-view+json": {
       "model_id": "842eff0dfa8d4bddb0bab9158ed77430",
       "version_major": 2,
       "version_minor": 0
      },
      "text/plain": [
       "HBox(children=(IntProgress(value=0, max=34519), HTML(value='')))"
      ]
     },
     "metadata": {},
     "output_type": "display_data"
    },
    {
     "data": {
      "application/vnd.jupyter.widget-view+json": {
       "model_id": "3730f83aff5b458e97566d9fbd9dc932",
       "version_major": 2,
       "version_minor": 0
      },
      "text/plain": [
       "HBox(children=(IntProgress(value=0, max=34520), HTML(value='')))"
      ]
     },
     "metadata": {},
     "output_type": "display_data"
    },
    {
     "data": {
      "application/vnd.jupyter.widget-view+json": {
       "model_id": "7661cbbdf4264b7d926b0c6b4213c414",
       "version_major": 2,
       "version_minor": 0
      },
      "text/plain": [
       "HBox(children=(IntProgress(value=0, max=35045), HTML(value='')))"
      ]
     },
     "metadata": {},
     "output_type": "display_data"
    },
    {
     "data": {
      "application/vnd.jupyter.widget-view+json": {
       "model_id": "afabfa86fdb14deab19426cca0f0b474",
       "version_major": 2,
       "version_minor": 0
      },
      "text/plain": [
       "HBox(children=(IntProgress(value=0, max=34224), HTML(value='')))"
      ]
     },
     "metadata": {},
     "output_type": "display_data"
    },
    {
     "name": "stdout",
     "output_type": "stream",
     "text": [
      "\n",
      "\n"
     ]
    },
    {
     "name": "stderr",
     "output_type": "stream",
     "text": [
      "/home/skooch/.local/lib/python3.5/site-packages/sklearn/externals/joblib/parallel.py:547: UserWarning: Multiprocessing-backed parallel loops cannot be nested, setting n_jobs=1\n",
      "  **self._backend_args)\n"
     ]
    },
    {
     "name": "stdout",
     "output_type": "stream",
     "text": [
      "\n",
      "\n"
     ]
    },
    {
     "data": {
      "application/vnd.jupyter.widget-view+json": {
       "model_id": "b1706774eea945bfa2f89b499295aefc",
       "version_major": 2,
       "version_minor": 0
      },
      "text/plain": [
       "HBox(children=(IntProgress(value=0, max=34222), HTML(value='')))"
      ]
     },
     "metadata": {},
     "output_type": "display_data"
    },
    {
     "name": "stderr",
     "output_type": "stream",
     "text": [
      "/home/skooch/.local/lib/python3.5/site-packages/sklearn/externals/joblib/parallel.py:547: UserWarning: Multiprocessing-backed parallel loops cannot be nested, setting n_jobs=1\n",
      "  **self._backend_args)\n"
     ]
    },
    {
     "data": {
      "application/vnd.jupyter.widget-view+json": {
       "model_id": "8f9fad7514e14a45bf7ca8d446be42b6",
       "version_major": 2,
       "version_minor": 0
      },
      "text/plain": [
       "HBox(children=(IntProgress(value=0, max=34664), HTML(value='')))"
      ]
     },
     "metadata": {},
     "output_type": "display_data"
    },
    {
     "name": "stderr",
     "output_type": "stream",
     "text": [
      "/home/skooch/.local/lib/python3.5/site-packages/sklearn/externals/joblib/parallel.py:547: UserWarning: Multiprocessing-backed parallel loops cannot be nested, setting n_jobs=1\n",
      "  **self._backend_args)\n"
     ]
    },
    {
     "data": {
      "application/vnd.jupyter.widget-view+json": {
       "model_id": "4f29e49fe7714365949cfa73c60b1dba",
       "version_major": 2,
       "version_minor": 0
      },
      "text/plain": [
       "HBox(children=(IntProgress(value=0, max=34665), HTML(value='')))"
      ]
     },
     "metadata": {},
     "output_type": "display_data"
    },
    {
     "name": "stderr",
     "output_type": "stream",
     "text": [
      "/home/skooch/.local/lib/python3.5/site-packages/sklearn/externals/joblib/parallel.py:547: UserWarning: Multiprocessing-backed parallel loops cannot be nested, setting n_jobs=1\n",
      "  **self._backend_args)\n"
     ]
    },
    {
     "name": "stdout",
     "output_type": "stream",
     "text": [
      "1052 (0.0034, 0, 1.5e-07, 9e-05, 221, True, 58, True, 16, 4.5e-05, 0.8, 21) score: 0.5294001517418276\n"
     ]
    },
    {
     "data": {
      "application/vnd.jupyter.widget-view+json": {
       "model_id": "2b229b3b04c44d05aecf7749a5bf5164",
       "version_major": 2,
       "version_minor": 0
      },
      "text/plain": [
       "HBox(children=(IntProgress(value=0, max=35049), HTML(value='')))"
      ]
     },
     "metadata": {},
     "output_type": "display_data"
    },
    {
     "name": "stdout",
     "output_type": "stream",
     "text": [
      "1052 (0.0034, 0, 1.5e-07, 9e-05, 221, True, 58, True, 16, 1e-05, 0.8, 21) score: 0.5294776867654942\n",
      "\n",
      "1052 (0.0034, 0, 1.5e-07, 9e-05, 221, True, 81, True, 16, 4.5e-05, 0.8, 21) score: 0.5229778734388928\n",
      "1052 (0.0034, 0, 1.5e-07, 0.000655, 221, True, 58, True, 16, 1e-05, 0.8, 21) score: 0.5330190376375281\n",
      "\n",
      "\n"
     ]
    },
    {
     "name": "stderr",
     "output_type": "stream",
     "text": [
      "/home/skooch/.local/lib/python3.5/site-packages/sklearn/externals/joblib/parallel.py:547: UserWarning: Multiprocessing-backed parallel loops cannot be nested, setting n_jobs=1\n",
      "  **self._backend_args)\n"
     ]
    },
    {
     "data": {
      "application/vnd.jupyter.widget-view+json": {
       "model_id": "68dececf23e34735a8453a41542e9fcf",
       "version_major": 2,
       "version_minor": 0
      },
      "text/plain": [
       "HBox(children=(IntProgress(value=0, max=35028), HTML(value='')))"
      ]
     },
     "metadata": {},
     "output_type": "display_data"
    },
    {
     "name": "stdout",
     "output_type": "stream",
     "text": [
      "\n"
     ]
    },
    {
     "data": {
      "application/vnd.jupyter.widget-view+json": {
       "model_id": "6dab367668c14d35b647a4fb72679feb",
       "version_major": 2,
       "version_minor": 0
      },
      "text/plain": [
       "HBox(children=(IntProgress(value=0, max=34663), HTML(value='')))"
      ]
     },
     "metadata": {},
     "output_type": "display_data"
    },
    {
     "name": "stderr",
     "output_type": "stream",
     "text": [
      "/home/skooch/.local/lib/python3.5/site-packages/sklearn/externals/joblib/parallel.py:547: UserWarning: Multiprocessing-backed parallel loops cannot be nested, setting n_jobs=1\n",
      "  **self._backend_args)\n"
     ]
    },
    {
     "data": {
      "application/vnd.jupyter.widget-view+json": {
       "model_id": "d6210960f1214a5aaa2dd7b375aa3cbb",
       "version_major": 2,
       "version_minor": 0
      },
      "text/plain": [
       "HBox(children=(IntProgress(value=0, max=34487), HTML(value='')))"
      ]
     },
     "metadata": {},
     "output_type": "display_data"
    },
    {
     "name": "stderr",
     "output_type": "stream",
     "text": [
      "/home/skooch/.local/lib/python3.5/site-packages/sklearn/externals/joblib/parallel.py:547: UserWarning: Multiprocessing-backed parallel loops cannot be nested, setting n_jobs=1\n",
      "  **self._backend_args)\n"
     ]
    },
    {
     "data": {
      "application/vnd.jupyter.widget-view+json": {
       "model_id": "6b31e0dec95f4d57873b376e86ed8994",
       "version_major": 2,
       "version_minor": 0
      },
      "text/plain": [
       "HBox(children=(IntProgress(value=0, max=35033), HTML(value='')))"
      ]
     },
     "metadata": {},
     "output_type": "display_data"
    },
    {
     "name": "stdout",
     "output_type": "stream",
     "text": [
      "1052 (0.0034, 0, 1.5e-07, 0.000655, 221, True, 58, True, 16, 4.5e-05, 0.8, 21) score: 0.5330392981989129\n"
     ]
    },
    {
     "name": "stderr",
     "output_type": "stream",
     "text": [
      "/home/skooch/.local/lib/python3.5/site-packages/sklearn/externals/joblib/parallel.py:547: UserWarning: Multiprocessing-backed parallel loops cannot be nested, setting n_jobs=1\n",
      "  **self._backend_args)\n"
     ]
    },
    {
     "data": {
      "application/vnd.jupyter.widget-view+json": {
       "model_id": "b09715f1ab3b4bfb9ab432104a544fae",
       "version_major": 2,
       "version_minor": 0
      },
      "text/plain": [
       "HBox(children=(IntProgress(value=0, max=34189), HTML(value='')))"
      ]
     },
     "metadata": {},
     "output_type": "display_data"
    },
    {
     "data": {
      "application/vnd.jupyter.widget-view+json": {
       "model_id": "7845d69012d84bc6a153c44296396ee6",
       "version_major": 2,
       "version_minor": 0
      },
      "text/plain": [
       "HBox(children=(IntProgress(value=0, max=34482), HTML(value='')))"
      ]
     },
     "metadata": {},
     "output_type": "display_data"
    },
    {
     "data": {
      "application/vnd.jupyter.widget-view+json": {
       "model_id": "8ffedc620da84230aafa529738041a31",
       "version_major": 2,
       "version_minor": 0
      },
      "text/plain": [
       "HBox(children=(IntProgress(value=0, max=34190), HTML(value='')))"
      ]
     },
     "metadata": {},
     "output_type": "display_data"
    },
    {
     "name": "stdout",
     "output_type": "stream",
     "text": [
      "1052 (0.0034, 0, 1.5e-07, 0.000655, 221, True, 81, True, 16, 1e-05, 0.8, 21) score: 0.5299021838863333\n",
      "1052 (0.0034, 0, 1.5e-07, 0.000655, 221, True, 81, True, 16, 4.5e-05, 0.8, 21) score: 0.5299425100084248\n",
      "\n",
      "\n"
     ]
    },
    {
     "data": {
      "application/vnd.jupyter.widget-view+json": {
       "model_id": "2790099ee03941bb9bc2f40eab99b5bd",
       "version_major": 2,
       "version_minor": 0
      },
      "text/plain": [
       "HBox(children=(IntProgress(value=0, max=34661), HTML(value='')))"
      ]
     },
     "metadata": {},
     "output_type": "display_data"
    },
    {
     "name": "stdout",
     "output_type": "stream",
     "text": [
      "\n",
      "1052 (0.0034, 0, 1.5e-07, 9e-05, 221, True, 81, True, 16, 1e-05, 0.8, 21) score: 0.5231097465273435\n"
     ]
    },
    {
     "name": "stderr",
     "output_type": "stream",
     "text": [
      "/home/skooch/.local/lib/python3.5/site-packages/sklearn/externals/joblib/parallel.py:547: UserWarning: Multiprocessing-backed parallel loops cannot be nested, setting n_jobs=1\n",
      "  **self._backend_args)\n"
     ]
    },
    {
     "name": "stdout",
     "output_type": "stream",
     "text": [
      "\n"
     ]
    },
    {
     "name": "stderr",
     "output_type": "stream",
     "text": [
      "/home/skooch/.local/lib/python3.5/site-packages/sklearn/externals/joblib/parallel.py:547: UserWarning: Multiprocessing-backed parallel loops cannot be nested, setting n_jobs=1\n",
      "  **self._backend_args)\n"
     ]
    },
    {
     "name": "stdout",
     "output_type": "stream",
     "text": [
      "\n"
     ]
    },
    {
     "name": "stderr",
     "output_type": "stream",
     "text": [
      "/home/skooch/.local/lib/python3.5/site-packages/sklearn/externals/joblib/parallel.py:547: UserWarning: Multiprocessing-backed parallel loops cannot be nested, setting n_jobs=1\n",
      "  **self._backend_args)\n"
     ]
    },
    {
     "name": "stdout",
     "output_type": "stream",
     "text": [
      "\n",
      "\n"
     ]
    },
    {
     "name": "stderr",
     "output_type": "stream",
     "text": [
      "/home/skooch/.local/lib/python3.5/site-packages/sklearn/externals/joblib/parallel.py:547: UserWarning: Multiprocessing-backed parallel loops cannot be nested, setting n_jobs=1\n",
      "  **self._backend_args)\n"
     ]
    },
    {
     "name": "stdout",
     "output_type": "stream",
     "text": [
      "1052 (0.0034, 0, 1.5e-07, 9e-05, 225, True, 81, True, 16, 4.5e-05, 0.8, 21) score: 0.5226159173784315\n"
     ]
    },
    {
     "name": "stderr",
     "output_type": "stream",
     "text": [
      "/home/skooch/.local/lib/python3.5/site-packages/sklearn/externals/joblib/parallel.py:547: UserWarning: Multiprocessing-backed parallel loops cannot be nested, setting n_jobs=1\n",
      "  **self._backend_args)\n",
      "/home/skooch/.local/lib/python3.5/site-packages/sklearn/externals/joblib/parallel.py:547: UserWarning: Multiprocessing-backed parallel loops cannot be nested, setting n_jobs=1\n",
      "  **self._backend_args)\n"
     ]
    },
    {
     "name": "stdout",
     "output_type": "stream",
     "text": [
      "\n"
     ]
    },
    {
     "name": "stderr",
     "output_type": "stream",
     "text": [
      "/home/skooch/.local/lib/python3.5/site-packages/sklearn/externals/joblib/parallel.py:547: UserWarning: Multiprocessing-backed parallel loops cannot be nested, setting n_jobs=1\n",
      "  **self._backend_args)\n"
     ]
    },
    {
     "name": "stdout",
     "output_type": "stream",
     "text": [
      "1052 (0.0034, 0, 1.5e-07, 0.000655, 225, True, 81, True, 16, 4.5e-05, 0.8, 21) score: 0.5294356496422958\n",
      "1052 (0.0034, 0, 1.5e-07, 9e-05, 225, True, 58, True, 16, 1e-05, 0.8, 21) score: 0.5296439130188386\n",
      "1052 (0.0034, 0, 1.5e-07, 9e-05, 225, True, 81, True, 16, 1e-05, 0.8, 21) score: 0.5226678993106484\n"
     ]
    },
    {
     "name": "stderr",
     "output_type": "stream",
     "text": [
      "/home/skooch/.local/lib/python3.5/site-packages/sklearn/externals/joblib/parallel.py:547: UserWarning: Multiprocessing-backed parallel loops cannot be nested, setting n_jobs=1\n",
      "  **self._backend_args)\n"
     ]
    },
    {
     "name": "stdout",
     "output_type": "stream",
     "text": [
      "1052 (0.0034, 0, 1.5e-07, 0.000655, 225, True, 58, True, 16, 4.5e-05, 0.8, 21) score: 0.5334615211417569\n",
      "1052 (0.0034, 0, 1.5e-07, 9e-05, 225, True, 58, True, 16, 4.5e-05, 0.8, 21) score: 0.5296629688602864\n",
      "1052 (0.0034, 0, 1.5e-07, 0.000655, 225, True, 58, True, 16, 1e-05, 0.8, 21) score: 0.5334347768409148\n",
      "1052 (0.0034, 0, 1.5e-07, 0.000655, 225, True, 81, True, 16, 1e-05, 0.8, 21) score: 0.5294020629413749\n"
     ]
    },
    {
     "data": {
      "application/vnd.jupyter.widget-view+json": {
       "model_id": "4316e3672b7a4d2ca2901f91fac9394c",
       "version_major": 2,
       "version_minor": 0
      },
      "text/plain": [
       "HBox(children=(IntProgress(value=0, max=39703), HTML(value='')))"
      ]
     },
     "metadata": {},
     "output_type": "display_data"
    },
    {
     "data": {
      "application/vnd.jupyter.widget-view+json": {
       "model_id": "cd4aa3147de94afe9d293b6595a538c6",
       "version_major": 2,
       "version_minor": 0
      },
      "text/plain": [
       "HBox(children=(IntProgress(value=0, max=39102), HTML(value='')))"
      ]
     },
     "metadata": {},
     "output_type": "display_data"
    },
    {
     "data": {
      "application/vnd.jupyter.widget-view+json": {
       "model_id": "b1b7d7afc6554276bfffd902da9bed55",
       "version_major": 2,
       "version_minor": 0
      },
      "text/plain": [
       "HBox(children=(IntProgress(value=0, max=39116), HTML(value='')))"
      ]
     },
     "metadata": {},
     "output_type": "display_data"
    },
    {
     "data": {
      "application/vnd.jupyter.widget-view+json": {
       "model_id": "1f935d1dea9f470884e3a80eb25b91cd",
       "version_major": 2,
       "version_minor": 0
      },
      "text/plain": [
       "HBox(children=(IntProgress(value=0, max=38846), HTML(value='')))"
      ]
     },
     "metadata": {},
     "output_type": "display_data"
    },
    {
     "data": {
      "application/vnd.jupyter.widget-view+json": {
       "model_id": "6a976249cda647aebb24075480c151b2",
       "version_major": 2,
       "version_minor": 0
      },
      "text/plain": [
       "HBox(children=(IntProgress(value=0, max=39346), HTML(value='')))"
      ]
     },
     "metadata": {},
     "output_type": "display_data"
    },
    {
     "name": "stdout",
     "output_type": "stream",
     "text": [
      "\n"
     ]
    },
    {
     "data": {
      "application/vnd.jupyter.widget-view+json": {
       "model_id": "486d3aceb1f84383bfd8279b58ce60b6",
       "version_major": 2,
       "version_minor": 0
      },
      "text/plain": [
       "HBox(children=(IntProgress(value=0, max=38848), HTML(value='')))"
      ]
     },
     "metadata": {},
     "output_type": "display_data"
    },
    {
     "name": "stdout",
     "output_type": "stream",
     "text": [
      "\n"
     ]
    },
    {
     "data": {
      "application/vnd.jupyter.widget-view+json": {
       "model_id": "6235119251ea401f8a1e6872a4f71b0d",
       "version_major": 2,
       "version_minor": 0
      },
      "text/plain": [
       "HBox(children=(IntProgress(value=0, max=39351), HTML(value='')))"
      ]
     },
     "metadata": {},
     "output_type": "display_data"
    },
    {
     "name": "stdout",
     "output_type": "stream",
     "text": [
      "\n",
      "\n"
     ]
    },
    {
     "data": {
      "application/vnd.jupyter.widget-view+json": {
       "model_id": "0d6c2720edf548cd81de6b6066c7a181",
       "version_major": 2,
       "version_minor": 0
      },
      "text/plain": [
       "HBox(children=(IntProgress(value=0, max=39702), HTML(value='')))"
      ]
     },
     "metadata": {},
     "output_type": "display_data"
    },
    {
     "name": "stdout",
     "output_type": "stream",
     "text": [
      "\n",
      "\n",
      "\n"
     ]
    },
    {
     "name": "stderr",
     "output_type": "stream",
     "text": [
      "/home/skooch/.local/lib/python3.5/site-packages/sklearn/externals/joblib/parallel.py:547: UserWarning: Multiprocessing-backed parallel loops cannot be nested, setting n_jobs=1\n",
      "  **self._backend_args)\n",
      "/home/skooch/.local/lib/python3.5/site-packages/sklearn/externals/joblib/parallel.py:547: UserWarning: Multiprocessing-backed parallel loops cannot be nested, setting n_jobs=1\n",
      "  **self._backend_args)\n"
     ]
    },
    {
     "name": "stdout",
     "output_type": "stream",
     "text": [
      "\n"
     ]
    },
    {
     "name": "stderr",
     "output_type": "stream",
     "text": [
      "/home/skooch/.local/lib/python3.5/site-packages/sklearn/externals/joblib/parallel.py:547: UserWarning: Multiprocessing-backed parallel loops cannot be nested, setting n_jobs=1\n",
      "  **self._backend_args)\n",
      "/home/skooch/.local/lib/python3.5/site-packages/sklearn/externals/joblib/parallel.py:547: UserWarning: Multiprocessing-backed parallel loops cannot be nested, setting n_jobs=1\n",
      "  **self._backend_args)\n"
     ]
    },
    {
     "name": "stdout",
     "output_type": "stream",
     "text": [
      "1053 (0.0034, 0, 1.5e-07, 9e-05, 221, True, 81, True, 16, 4.5e-05, 0.8, 21) score: 0.5138948172914557\n",
      "1053 (0.0034, 0, 1.5e-07, 9e-05, 221, True, 58, True, 16, 4.5e-05, 0.8, 21) score: 0.5141607061265658\n"
     ]
    },
    {
     "name": "stderr",
     "output_type": "stream",
     "text": [
      "/home/skooch/.local/lib/python3.5/site-packages/sklearn/externals/joblib/parallel.py:547: UserWarning: Multiprocessing-backed parallel loops cannot be nested, setting n_jobs=1\n",
      "  **self._backend_args)\n"
     ]
    },
    {
     "data": {
      "application/vnd.jupyter.widget-view+json": {
       "model_id": "7859d3e993274d0c943aac5cb8102cfb",
       "version_major": 2,
       "version_minor": 0
      },
      "text/plain": [
       "HBox(children=(IntProgress(value=0, max=39682), HTML(value='')))"
      ]
     },
     "metadata": {},
     "output_type": "display_data"
    },
    {
     "data": {
      "application/vnd.jupyter.widget-view+json": {
       "model_id": "4ae7e44a3ef6439787550d7499b312f8",
       "version_major": 2,
       "version_minor": 0
      },
      "text/plain": [
       "HBox(children=(IntProgress(value=0, max=39300), HTML(value='')))"
      ]
     },
     "metadata": {},
     "output_type": "display_data"
    },
    {
     "name": "stdout",
     "output_type": "stream",
     "text": [
      "1053 (0.0034, 0, 1.5e-07, 9e-05, 221, True, 58, True, 16, 1e-05, 0.8, 21) score: 0.5141778099354597\n",
      "1053 (0.0034, 0, 1.5e-07, 0.000655, 221, True, 58, True, 16, 1e-05, 0.8, 21) score: 0.5130575394107583\n"
     ]
    },
    {
     "name": "stderr",
     "output_type": "stream",
     "text": [
      "/home/skooch/.local/lib/python3.5/site-packages/sklearn/externals/joblib/parallel.py:547: UserWarning: Multiprocessing-backed parallel loops cannot be nested, setting n_jobs=1\n",
      "  **self._backend_args)\n",
      "/home/skooch/.local/lib/python3.5/site-packages/sklearn/externals/joblib/parallel.py:547: UserWarning: Multiprocessing-backed parallel loops cannot be nested, setting n_jobs=1\n",
      "  **self._backend_args)\n"
     ]
    },
    {
     "name": "stdout",
     "output_type": "stream",
     "text": [
      "1053 (0.0034, 0, 1.5e-07, 0.000655, 221, True, 81, True, 16, 4.5e-05, 0.8, 21) score: 0.5167371889544694\n"
     ]
    },
    {
     "data": {
      "application/vnd.jupyter.widget-view+json": {
       "model_id": "699c7ca0af7945a98dc7fc7a5ed4d4c3",
       "version_major": 2,
       "version_minor": 0
      },
      "text/plain": [
       "HBox(children=(IntProgress(value=0, max=39070), HTML(value='')))"
      ]
     },
     "metadata": {},
     "output_type": "display_data"
    },
    {
     "name": "stdout",
     "output_type": "stream",
     "text": [
      "1053 (0.0034, 0, 1.5e-07, 0.000655, 221, True, 58, True, 16, 4.5e-05, 0.8, 21) score: 0.5131641838973283\n"
     ]
    },
    {
     "data": {
      "application/vnd.jupyter.widget-view+json": {
       "model_id": "14bf2299b7f3418fb313d7baddff1022",
       "version_major": 2,
       "version_minor": 0
      },
      "text/plain": [
       "HBox(children=(IntProgress(value=0, max=39678), HTML(value='')))"
      ]
     },
     "metadata": {},
     "output_type": "display_data"
    },
    {
     "name": "stdout",
     "output_type": "stream",
     "text": [
      "1053 (0.0034, 0, 1.5e-07, 0.000655, 221, True, 81, True, 16, 1e-05, 0.8, 21) score: 0.5168027985665717\n"
     ]
    },
    {
     "data": {
      "application/vnd.jupyter.widget-view+json": {
       "model_id": "df8b687badb44e5face98bc25ca2db96",
       "version_major": 2,
       "version_minor": 0
      },
      "text/plain": [
       "HBox(children=(IntProgress(value=0, max=39310), HTML(value='')))"
      ]
     },
     "metadata": {},
     "output_type": "display_data"
    },
    {
     "name": "stdout",
     "output_type": "stream",
     "text": [
      "\n"
     ]
    },
    {
     "data": {
      "application/vnd.jupyter.widget-view+json": {
       "model_id": "313c35eb03d047c1960dfcc852460f0a",
       "version_major": 2,
       "version_minor": 0
      },
      "text/plain": [
       "HBox(children=(IntProgress(value=0, max=39062), HTML(value='')))"
      ]
     },
     "metadata": {},
     "output_type": "display_data"
    },
    {
     "name": "stdout",
     "output_type": "stream",
     "text": [
      "\n"
     ]
    },
    {
     "name": "stderr",
     "output_type": "stream",
     "text": [
      "/home/skooch/.local/lib/python3.5/site-packages/sklearn/externals/joblib/parallel.py:547: UserWarning: Multiprocessing-backed parallel loops cannot be nested, setting n_jobs=1\n",
      "  **self._backend_args)\n"
     ]
    },
    {
     "data": {
      "application/vnd.jupyter.widget-view+json": {
       "model_id": "b0832dc9c11e405d9718dbaf67fddb07",
       "version_major": 2,
       "version_minor": 0
      },
      "text/plain": [
       "HBox(children=(IntProgress(value=0, max=38814), HTML(value='')))"
      ]
     },
     "metadata": {},
     "output_type": "display_data"
    },
    {
     "data": {
      "application/vnd.jupyter.widget-view+json": {
       "model_id": "50885fbc06b54312a326d738ebfdc84a",
       "version_major": 2,
       "version_minor": 0
      },
      "text/plain": [
       "HBox(children=(IntProgress(value=0, max=38827), HTML(value='')))"
      ]
     },
     "metadata": {},
     "output_type": "display_data"
    },
    {
     "name": "stdout",
     "output_type": "stream",
     "text": [
      "\n",
      "1053 (0.0034, 0, 1.5e-07, 9e-05, 221, True, 81, True, 16, 1e-05, 0.8, 21) score: 0.5139352304959006\n",
      "\n",
      "\n",
      "\n"
     ]
    },
    {
     "name": "stderr",
     "output_type": "stream",
     "text": [
      "/home/skooch/.local/lib/python3.5/site-packages/sklearn/externals/joblib/parallel.py:547: UserWarning: Multiprocessing-backed parallel loops cannot be nested, setting n_jobs=1\n",
      "  **self._backend_args)\n"
     ]
    },
    {
     "name": "stdout",
     "output_type": "stream",
     "text": [
      "\n"
     ]
    },
    {
     "name": "stderr",
     "output_type": "stream",
     "text": [
      "/home/skooch/.local/lib/python3.5/site-packages/sklearn/externals/joblib/parallel.py:547: UserWarning: Multiprocessing-backed parallel loops cannot be nested, setting n_jobs=1\n",
      "  **self._backend_args)\n"
     ]
    },
    {
     "name": "stdout",
     "output_type": "stream",
     "text": [
      "\n"
     ]
    },
    {
     "name": "stderr",
     "output_type": "stream",
     "text": [
      "/home/skooch/.local/lib/python3.5/site-packages/sklearn/externals/joblib/parallel.py:547: UserWarning: Multiprocessing-backed parallel loops cannot be nested, setting n_jobs=1\n",
      "  **self._backend_args)\n"
     ]
    },
    {
     "name": "stdout",
     "output_type": "stream",
     "text": [
      "1053 (0.0034, 0, 1.5e-07, 9e-05, 225, True, 81, True, 16, 4.5e-05, 0.8, 21) score: 0.5134112067695844\n",
      "1053 (0.0034, 0, 1.5e-07, 0.000655, 225, True, 81, True, 16, 4.5e-05, 0.8, 21) score: 0.5169281553020872\n"
     ]
    },
    {
     "name": "stderr",
     "output_type": "stream",
     "text": [
      "/home/skooch/.local/lib/python3.5/site-packages/sklearn/externals/joblib/parallel.py:547: UserWarning: Multiprocessing-backed parallel loops cannot be nested, setting n_jobs=1\n",
      "  **self._backend_args)\n",
      "/home/skooch/.local/lib/python3.5/site-packages/sklearn/externals/joblib/parallel.py:547: UserWarning: Multiprocessing-backed parallel loops cannot be nested, setting n_jobs=1\n",
      "  **self._backend_args)\n"
     ]
    },
    {
     "name": "stdout",
     "output_type": "stream",
     "text": [
      "1053 (0.0034, 0, 1.5e-07, 9e-05, 225, True, 58, True, 16, 1e-05, 0.8, 21) score: 0.5137576026429665\n"
     ]
    },
    {
     "name": "stderr",
     "output_type": "stream",
     "text": [
      "/home/skooch/.local/lib/python3.5/site-packages/sklearn/externals/joblib/parallel.py:547: UserWarning: Multiprocessing-backed parallel loops cannot be nested, setting n_jobs=1\n",
      "  **self._backend_args)\n"
     ]
    },
    {
     "name": "stdout",
     "output_type": "stream",
     "text": [
      "1053 (0.0034, 0, 1.5e-07, 9e-05, 225, True, 81, True, 16, 1e-05, 0.8, 21) score: 0.5134446083855331\n",
      "1053 (0.0034, 0, 1.5e-07, 0.000655, 225, True, 81, True, 16, 1e-05, 0.8, 21) score: 0.516813172474498\n"
     ]
    },
    {
     "name": "stderr",
     "output_type": "stream",
     "text": [
      "/home/skooch/.local/lib/python3.5/site-packages/sklearn/externals/joblib/parallel.py:547: UserWarning: Multiprocessing-backed parallel loops cannot be nested, setting n_jobs=1\n",
      "  **self._backend_args)\n",
      "/home/skooch/.local/lib/python3.5/site-packages/sklearn/externals/joblib/parallel.py:547: UserWarning: Multiprocessing-backed parallel loops cannot be nested, setting n_jobs=1\n",
      "  **self._backend_args)\n"
     ]
    },
    {
     "name": "stdout",
     "output_type": "stream",
     "text": [
      "1053 (0.0034, 0, 1.5e-07, 9e-05, 225, True, 58, True, 16, 4.5e-05, 0.8, 21) score: 0.5138196321546576\n",
      "1053 (0.0034, 0, 1.5e-07, 0.000655, 225, True, 58, True, 16, 4.5e-05, 0.8, 21) score: 0.5128400902354076\n",
      "1053 (0.0034, 0, 1.5e-07, 0.000655, 225, True, 58, True, 16, 1e-05, 0.8, 21) score: 0.5128808729397663\n"
     ]
    },
    {
     "data": {
      "application/vnd.jupyter.widget-view+json": {
       "model_id": "33c35055cd824fb3abefaf1247e98810",
       "version_major": 2,
       "version_minor": 0
      },
      "text/plain": [
       "HBox(children=(IntProgress(value=0, max=35196), HTML(value='')))"
      ]
     },
     "metadata": {},
     "output_type": "display_data"
    },
    {
     "data": {
      "application/vnd.jupyter.widget-view+json": {
       "model_id": "8a3e8fa1287740738661e0e4d10b4309",
       "version_major": 2,
       "version_minor": 0
      },
      "text/plain": [
       "HBox(children=(IntProgress(value=0, max=34797), HTML(value='')))"
      ]
     },
     "metadata": {},
     "output_type": "display_data"
    },
    {
     "data": {
      "application/vnd.jupyter.widget-view+json": {
       "model_id": "30877cc0a61046fa944af6d2c531d793",
       "version_major": 2,
       "version_minor": 0
      },
      "text/plain": [
       "HBox(children=(IntProgress(value=0, max=34788), HTML(value='')))"
      ]
     },
     "metadata": {},
     "output_type": "display_data"
    },
    {
     "data": {
      "application/vnd.jupyter.widget-view+json": {
       "model_id": "9ec2cbce20e34035b459ffc4fce3b804",
       "version_major": 2,
       "version_minor": 0
      },
      "text/plain": [
       "HBox(children=(IntProgress(value=0, max=34469), HTML(value='')))"
      ]
     },
     "metadata": {},
     "output_type": "display_data"
    },
    {
     "name": "stdout",
     "output_type": "stream",
     "text": [
      "\n",
      "\n"
     ]
    },
    {
     "data": {
      "application/vnd.jupyter.widget-view+json": {
       "model_id": "371d591cab5644f6bbc6f2c4a9d7fd28",
       "version_major": 2,
       "version_minor": 0
      },
      "text/plain": [
       "HBox(children=(IntProgress(value=0, max=34468), HTML(value='')))"
      ]
     },
     "metadata": {},
     "output_type": "display_data"
    },
    {
     "name": "stdout",
     "output_type": "stream",
     "text": [
      "\n"
     ]
    },
    {
     "data": {
      "application/vnd.jupyter.widget-view+json": {
       "model_id": "28e6177168444830adc0b345200c8179",
       "version_major": 2,
       "version_minor": 0
      },
      "text/plain": [
       "HBox(children=(IntProgress(value=0, max=34932), HTML(value='')))"
      ]
     },
     "metadata": {},
     "output_type": "display_data"
    },
    {
     "name": "stderr",
     "output_type": "stream",
     "text": [
      "/home/skooch/.local/lib/python3.5/site-packages/sklearn/externals/joblib/parallel.py:547: UserWarning: Multiprocessing-backed parallel loops cannot be nested, setting n_jobs=1\n",
      "  **self._backend_args)\n"
     ]
    },
    {
     "data": {
      "application/vnd.jupyter.widget-view+json": {
       "model_id": "1a55a4e70ac1485184a08dfcfb30f703",
       "version_major": 2,
       "version_minor": 0
      },
      "text/plain": [
       "HBox(children=(IntProgress(value=0, max=34929), HTML(value='')))"
      ]
     },
     "metadata": {},
     "output_type": "display_data"
    },
    {
     "name": "stderr",
     "output_type": "stream",
     "text": [
      "/home/skooch/.local/lib/python3.5/site-packages/sklearn/externals/joblib/parallel.py:547: UserWarning: Multiprocessing-backed parallel loops cannot be nested, setting n_jobs=1\n",
      "  **self._backend_args)\n",
      "/home/skooch/.local/lib/python3.5/site-packages/sklearn/externals/joblib/parallel.py:547: UserWarning: Multiprocessing-backed parallel loops cannot be nested, setting n_jobs=1\n",
      "  **self._backend_args)\n"
     ]
    },
    {
     "name": "stdout",
     "output_type": "stream",
     "text": [
      "\n",
      "1054 (0.0034, 0, 1.5e-07, 9e-05, 221, True, 81, True, 16, 4.5e-05, 0.8, 21) score: 0.5435456672548753\n",
      "1054 (0.0034, 0, 1.5e-07, 9e-05, 221, True, 58, True, 16, 1e-05, 0.8, 21) score: 0.5473607233971052\n",
      "\n"
     ]
    },
    {
     "data": {
      "application/vnd.jupyter.widget-view+json": {
       "model_id": "02ae89c632d2447aaadd86a86ca0cb12",
       "version_major": 2,
       "version_minor": 0
      },
      "text/plain": [
       "HBox(children=(IntProgress(value=0, max=35189), HTML(value='')))"
      ]
     },
     "metadata": {},
     "output_type": "display_data"
    },
    {
     "name": "stderr",
     "output_type": "stream",
     "text": [
      "/home/skooch/.local/lib/python3.5/site-packages/sklearn/externals/joblib/parallel.py:547: UserWarning: Multiprocessing-backed parallel loops cannot be nested, setting n_jobs=1\n",
      "  **self._backend_args)\n"
     ]
    },
    {
     "name": "stdout",
     "output_type": "stream",
     "text": [
      "\n",
      "1054 (0.0034, 0, 1.5e-07, 9e-05, 221, True, 58, True, 16, 4.5e-05, 0.8, 21) score: 0.5473309529684229\n",
      "\n"
     ]
    },
    {
     "name": "stderr",
     "output_type": "stream",
     "text": [
      "/home/skooch/.local/lib/python3.5/site-packages/sklearn/externals/joblib/parallel.py:547: UserWarning: Multiprocessing-backed parallel loops cannot be nested, setting n_jobs=1\n",
      "  **self._backend_args)\n",
      "/home/skooch/.local/lib/python3.5/site-packages/sklearn/externals/joblib/parallel.py:547: UserWarning: Multiprocessing-backed parallel loops cannot be nested, setting n_jobs=1\n",
      "  **self._backend_args)\n"
     ]
    },
    {
     "name": "stdout",
     "output_type": "stream",
     "text": [
      "1054 (0.0034, 0, 1.5e-07, 0.000655, 221, True, 58, True, 16, 1e-05, 0.8, 21) score: 0.5468374156841946\n"
     ]
    },
    {
     "name": "stderr",
     "output_type": "stream",
     "text": [
      "/home/skooch/.local/lib/python3.5/site-packages/sklearn/externals/joblib/parallel.py:547: UserWarning: Multiprocessing-backed parallel loops cannot be nested, setting n_jobs=1\n",
      "  **self._backend_args)\n"
     ]
    },
    {
     "name": "stdout",
     "output_type": "stream",
     "text": [
      "1054 (0.0034, 0, 1.5e-07, 0.000655, 221, True, 58, True, 16, 4.5e-05, 0.8, 21) score: 0.5468127975443622\n",
      "\n",
      "1054 (0.0034, 0, 1.5e-07, 0.000655, 221, True, 81, True, 16, 1e-05, 0.8, 21) score: 0.5481729862538032\n",
      "1054 (0.0034, 0, 1.5e-07, 0.000655, 221, True, 81, True, 16, 4.5e-05, 0.8, 21) score: 0.5484034700227767\n"
     ]
    },
    {
     "name": "stderr",
     "output_type": "stream",
     "text": [
      "/home/skooch/.local/lib/python3.5/site-packages/sklearn/externals/joblib/parallel.py:547: UserWarning: Multiprocessing-backed parallel loops cannot be nested, setting n_jobs=1\n",
      "  **self._backend_args)\n"
     ]
    },
    {
     "data": {
      "application/vnd.jupyter.widget-view+json": {
       "model_id": "f9df3a3f89c74552bae91d2c75a9bd57",
       "version_major": 2,
       "version_minor": 0
      },
      "text/plain": [
       "HBox(children=(IntProgress(value=0, max=34944), HTML(value='')))"
      ]
     },
     "metadata": {},
     "output_type": "display_data"
    },
    {
     "data": {
      "application/vnd.jupyter.widget-view+json": {
       "model_id": "5550f7f1774a49b2a01c8e1596b2a8c4",
       "version_major": 2,
       "version_minor": 0
      },
      "text/plain": [
       "HBox(children=(IntProgress(value=0, max=35177), HTML(value='')))"
      ]
     },
     "metadata": {},
     "output_type": "display_data"
    },
    {
     "name": "stdout",
     "output_type": "stream",
     "text": [
      "1054 (0.0034, 0, 1.5e-07, 9e-05, 221, True, 81, True, 16, 1e-05, 0.8, 21) score: 0.5434915048158473\n",
      "\n"
     ]
    },
    {
     "data": {
      "application/vnd.jupyter.widget-view+json": {
       "model_id": "6656b56bcb4c4497b2cee2689ed37d44",
       "version_major": 2,
       "version_minor": 0
      },
      "text/plain": [
       "HBox(children=(IntProgress(value=0, max=34774), HTML(value='')))"
      ]
     },
     "metadata": {},
     "output_type": "display_data"
    },
    {
     "name": "stdout",
     "output_type": "stream",
     "text": [
      "\n"
     ]
    },
    {
     "data": {
      "application/vnd.jupyter.widget-view+json": {
       "model_id": "159fcabdb8444da99d77216280590db7",
       "version_major": 2,
       "version_minor": 0
      },
      "text/plain": [
       "HBox(children=(IntProgress(value=0, max=35173), HTML(value='')))"
      ]
     },
     "metadata": {},
     "output_type": "display_data"
    },
    {
     "name": "stderr",
     "output_type": "stream",
     "text": [
      "/home/skooch/.local/lib/python3.5/site-packages/sklearn/externals/joblib/parallel.py:547: UserWarning: Multiprocessing-backed parallel loops cannot be nested, setting n_jobs=1\n",
      "  **self._backend_args)\n"
     ]
    },
    {
     "data": {
      "application/vnd.jupyter.widget-view+json": {
       "model_id": "8d70db8dde5641f580e6279e5b678751",
       "version_major": 2,
       "version_minor": 0
      },
      "text/plain": [
       "HBox(children=(IntProgress(value=0, max=34776), HTML(value='')))"
      ]
     },
     "metadata": {},
     "output_type": "display_data"
    },
    {
     "name": "stderr",
     "output_type": "stream",
     "text": [
      "/home/skooch/.local/lib/python3.5/site-packages/sklearn/externals/joblib/parallel.py:547: UserWarning: Multiprocessing-backed parallel loops cannot be nested, setting n_jobs=1\n",
      "  **self._backend_args)\n"
     ]
    },
    {
     "data": {
      "application/vnd.jupyter.widget-view+json": {
       "model_id": "7a2becd80c514329949e36e2c24740c7",
       "version_major": 2,
       "version_minor": 0
      },
      "text/plain": [
       "HBox(children=(IntProgress(value=0, max=34940), HTML(value='')))"
      ]
     },
     "metadata": {},
     "output_type": "display_data"
    },
    {
     "name": "stdout",
     "output_type": "stream",
     "text": [
      "1054 (0.0034, 0, 1.5e-07, 0.000655, 225, True, 81, True, 16, 4.5e-05, 0.8, 21) score: 0.5486617531278171\n",
      "\n",
      "\n"
     ]
    },
    {
     "data": {
      "application/vnd.jupyter.widget-view+json": {
       "model_id": "cbd34668003a42e287d3abcfe5b5b0ec",
       "version_major": 2,
       "version_minor": 0
      },
      "text/plain": [
       "HBox(children=(IntProgress(value=0, max=34445), HTML(value='')))"
      ]
     },
     "metadata": {},
     "output_type": "display_data"
    },
    {
     "name": "stdout",
     "output_type": "stream",
     "text": [
      "1054 (0.0034, 0, 1.5e-07, 9e-05, 225, True, 81, True, 16, 4.5e-05, 0.8, 21) score: 0.5434724487013227\n",
      "\n"
     ]
    },
    {
     "name": "stderr",
     "output_type": "stream",
     "text": [
      "/home/skooch/.local/lib/python3.5/site-packages/sklearn/externals/joblib/parallel.py:547: UserWarning: Multiprocessing-backed parallel loops cannot be nested, setting n_jobs=1\n",
      "  **self._backend_args)\n",
      "/home/skooch/.local/lib/python3.5/site-packages/sklearn/externals/joblib/parallel.py:547: UserWarning: Multiprocessing-backed parallel loops cannot be nested, setting n_jobs=1\n",
      "  **self._backend_args)\n"
     ]
    },
    {
     "name": "stdout",
     "output_type": "stream",
     "text": [
      "\n"
     ]
    },
    {
     "data": {
      "application/vnd.jupyter.widget-view+json": {
       "model_id": "df4753a4ad104debbb64404c6160cbb2",
       "version_major": 2,
       "version_minor": 0
      },
      "text/plain": [
       "HBox(children=(IntProgress(value=0, max=34446), HTML(value='')))"
      ]
     },
     "metadata": {},
     "output_type": "display_data"
    },
    {
     "name": "stderr",
     "output_type": "stream",
     "text": [
      "/home/skooch/.local/lib/python3.5/site-packages/sklearn/externals/joblib/parallel.py:547: UserWarning: Multiprocessing-backed parallel loops cannot be nested, setting n_jobs=1\n",
      "  **self._backend_args)\n",
      "/home/skooch/.local/lib/python3.5/site-packages/sklearn/externals/joblib/parallel.py:547: UserWarning: Multiprocessing-backed parallel loops cannot be nested, setting n_jobs=1\n",
      "  **self._backend_args)\n"
     ]
    },
    {
     "name": "stdout",
     "output_type": "stream",
     "text": [
      "\n",
      "1054 (0.0034, 0, 1.5e-07, 9e-05, 225, True, 58, True, 16, 1e-05, 0.8, 21) score: 0.5478035980338518\n",
      "1054 (0.0034, 0, 1.5e-07, 9e-05, 225, True, 81, True, 16, 1e-05, 0.8, 21) score: 0.5434182862622947\n",
      "1054 (0.0034, 0, 1.5e-07, 9e-05, 225, True, 58, True, 16, 4.5e-05, 0.8, 21) score: 0.5477826794665361\n"
     ]
    },
    {
     "name": "stderr",
     "output_type": "stream",
     "text": [
      "/home/skooch/.local/lib/python3.5/site-packages/sklearn/externals/joblib/parallel.py:547: UserWarning: Multiprocessing-backed parallel loops cannot be nested, setting n_jobs=1\n",
      "  **self._backend_args)\n"
     ]
    },
    {
     "name": "stdout",
     "output_type": "stream",
     "text": [
      "1054 (0.0034, 0, 1.5e-07, 0.000655, 225, True, 81, True, 16, 1e-05, 0.8, 21) score: 0.5487378686962074\n",
      "\n"
     ]
    },
    {
     "name": "stderr",
     "output_type": "stream",
     "text": [
      "/home/skooch/.local/lib/python3.5/site-packages/sklearn/externals/joblib/parallel.py:547: UserWarning: Multiprocessing-backed parallel loops cannot be nested, setting n_jobs=1\n",
      "  **self._backend_args)\n"
     ]
    },
    {
     "name": "stdout",
     "output_type": "stream",
     "text": [
      "1054 (0.0034, 0, 1.5e-07, 0.000655, 225, True, 58, True, 16, 1e-05, 0.8, 21) score: 0.5467219436538926\n",
      "1054 (0.0034, 0, 1.5e-07, 0.000655, 225, True, 58, True, 16, 4.5e-05, 0.8, 21) score: 0.54656361735465\n"
     ]
    },
    {
     "data": {
      "application/vnd.jupyter.widget-view+json": {
       "model_id": "dd9c832c13874cfeb957231e74afe6f1",
       "version_major": 2,
       "version_minor": 0
      },
      "text/plain": [
       "HBox(children=(IntProgress(value=0, max=36121), HTML(value='')))"
      ]
     },
     "metadata": {},
     "output_type": "display_data"
    },
    {
     "data": {
      "application/vnd.jupyter.widget-view+json": {
       "model_id": "d556c61459824376890a7e0e24d2facf",
       "version_major": 2,
       "version_minor": 0
      },
      "text/plain": [
       "HBox(children=(IntProgress(value=0, max=36517), HTML(value='')))"
      ]
     },
     "metadata": {},
     "output_type": "display_data"
    },
    {
     "data": {
      "application/vnd.jupyter.widget-view+json": {
       "model_id": "57db76dcec1c4e368bf664a396d23625",
       "version_major": 2,
       "version_minor": 0
      },
      "text/plain": [
       "HBox(children=(IntProgress(value=0, max=36119), HTML(value='')))"
      ]
     },
     "metadata": {},
     "output_type": "display_data"
    },
    {
     "name": "stdout",
     "output_type": "stream",
     "text": [
      "\n"
     ]
    },
    {
     "name": "stderr",
     "output_type": "stream",
     "text": [
      "/home/skooch/.local/lib/python3.5/site-packages/sklearn/externals/joblib/parallel.py:547: UserWarning: Multiprocessing-backed parallel loops cannot be nested, setting n_jobs=1\n",
      "  **self._backend_args)\n"
     ]
    },
    {
     "name": "stdout",
     "output_type": "stream",
     "text": [
      "\n"
     ]
    },
    {
     "data": {
      "application/vnd.jupyter.widget-view+json": {
       "model_id": "c0bfc914b62c482883c1f4309520186b",
       "version_major": 2,
       "version_minor": 0
      },
      "text/plain": [
       "HBox(children=(IntProgress(value=0, max=35754), HTML(value='')))"
      ]
     },
     "metadata": {},
     "output_type": "display_data"
    },
    {
     "name": "stdout",
     "output_type": "stream",
     "text": [
      "\n"
     ]
    },
    {
     "data": {
      "application/vnd.jupyter.widget-view+json": {
       "model_id": "9e34765666434aa6bae2bc0261fcee12",
       "version_major": 2,
       "version_minor": 0
      },
      "text/plain": [
       "HBox(children=(IntProgress(value=0, max=36282), HTML(value='')))"
      ]
     },
     "metadata": {},
     "output_type": "display_data"
    },
    {
     "data": {
      "application/vnd.jupyter.widget-view+json": {
       "model_id": "cd3c195e9aab4e7b8f5f037b85e5b697",
       "version_major": 2,
       "version_minor": 0
      },
      "text/plain": [
       "HBox(children=(IntProgress(value=0, max=35756), HTML(value='')))"
      ]
     },
     "metadata": {},
     "output_type": "display_data"
    },
    {
     "name": "stderr",
     "output_type": "stream",
     "text": [
      "/home/skooch/.local/lib/python3.5/site-packages/sklearn/externals/joblib/parallel.py:547: UserWarning: Multiprocessing-backed parallel loops cannot be nested, setting n_jobs=1\n",
      "  **self._backend_args)\n"
     ]
    },
    {
     "name": "stdout",
     "output_type": "stream",
     "text": [
      "1055 (0.0034, 0, 1.5e-07, 9e-05, 221, True, 58, True, 16, 1e-05, 0.8, 21) score: 0.5247319393458838\n"
     ]
    },
    {
     "name": "stderr",
     "output_type": "stream",
     "text": [
      "/home/skooch/.local/lib/python3.5/site-packages/sklearn/externals/joblib/parallel.py:547: UserWarning: Multiprocessing-backed parallel loops cannot be nested, setting n_jobs=1\n",
      "  **self._backend_args)\n"
     ]
    },
    {
     "data": {
      "application/vnd.jupyter.widget-view+json": {
       "model_id": "16540ba787c54dae985e4d9ac374ab74",
       "version_major": 2,
       "version_minor": 0
      },
      "text/plain": [
       "HBox(children=(IntProgress(value=0, max=36517), HTML(value='')))"
      ]
     },
     "metadata": {},
     "output_type": "display_data"
    },
    {
     "data": {
      "application/vnd.jupyter.widget-view+json": {
       "model_id": "068e1a0253414df990123be057b8189f",
       "version_major": 2,
       "version_minor": 0
      },
      "text/plain": [
       "HBox(children=(IntProgress(value=0, max=36291), HTML(value='')))"
      ]
     },
     "metadata": {},
     "output_type": "display_data"
    },
    {
     "name": "stdout",
     "output_type": "stream",
     "text": [
      "1055 (0.0034, 0, 1.5e-07, 9e-05, 221, True, 81, True, 16, 4.5e-05, 0.8, 21) score: 0.522282479824753\n",
      "\n",
      "1055 (0.0034, 0, 1.5e-07, 9e-05, 221, True, 58, True, 16, 4.5e-05, 0.8, 21) score: 0.5247688867827947\n",
      "\n",
      "\n"
     ]
    },
    {
     "name": "stderr",
     "output_type": "stream",
     "text": [
      "/home/skooch/.local/lib/python3.5/site-packages/sklearn/externals/joblib/parallel.py:547: UserWarning: Multiprocessing-backed parallel loops cannot be nested, setting n_jobs=1\n",
      "  **self._backend_args)\n"
     ]
    },
    {
     "name": "stdout",
     "output_type": "stream",
     "text": [
      "\n",
      "\n"
     ]
    },
    {
     "name": "stderr",
     "output_type": "stream",
     "text": [
      "/home/skooch/.local/lib/python3.5/site-packages/sklearn/externals/joblib/parallel.py:547: UserWarning: Multiprocessing-backed parallel loops cannot be nested, setting n_jobs=1\n",
      "  **self._backend_args)\n",
      "/home/skooch/.local/lib/python3.5/site-packages/sklearn/externals/joblib/parallel.py:547: UserWarning: Multiprocessing-backed parallel loops cannot be nested, setting n_jobs=1\n",
      "  **self._backend_args)\n",
      "/home/skooch/.local/lib/python3.5/site-packages/sklearn/externals/joblib/parallel.py:547: UserWarning: Multiprocessing-backed parallel loops cannot be nested, setting n_jobs=1\n",
      "  **self._backend_args)\n",
      "/home/skooch/.local/lib/python3.5/site-packages/sklearn/externals/joblib/parallel.py:547: UserWarning: Multiprocessing-backed parallel loops cannot be nested, setting n_jobs=1\n",
      "  **self._backend_args)\n"
     ]
    },
    {
     "name": "stdout",
     "output_type": "stream",
     "text": [
      "1055 (0.0034, 0, 1.5e-07, 0.000655, 221, True, 58, True, 16, 1e-05, 0.8, 21) score: 0.5265964043708209\n",
      "1055 (0.0034, 0, 1.5e-07, 0.000655, 221, True, 81, True, 16, 1e-05, 0.8, 21) score: 0.5296241212247423\n",
      "1055 (0.0034, 0, 1.5e-07, 0.000655, 221, True, 58, True, 16, 4.5e-05, 0.8, 21) score: 0.5266920574333653\n",
      "1055 (0.0034, 0, 1.5e-07, 0.000655, 221, True, 81, True, 16, 4.5e-05, 0.8, 21) score: 0.5294811184046466\n",
      "1055 (0.0034, 0, 1.5e-07, 9e-05, 221, True, 81, True, 16, 1e-05, 0.8, 21) score: 0.5222233749550469\n"
     ]
    },
    {
     "data": {
      "application/vnd.jupyter.widget-view+json": {
       "model_id": "bc1d084c931a4a55818520ed798bd617",
       "version_major": 2,
       "version_minor": 0
      },
      "text/plain": [
       "HBox(children=(IntProgress(value=0, max=36505), HTML(value='')))"
      ]
     },
     "metadata": {},
     "output_type": "display_data"
    },
    {
     "data": {
      "application/vnd.jupyter.widget-view+json": {
       "model_id": "fda104a4fa0b45fb89f74fdee9a5e8a0",
       "version_major": 2,
       "version_minor": 0
      },
      "text/plain": [
       "HBox(children=(IntProgress(value=0, max=36284), HTML(value='')))"
      ]
     },
     "metadata": {},
     "output_type": "display_data"
    },
    {
     "data": {
      "application/vnd.jupyter.widget-view+json": {
       "model_id": "ea0a4ae446c645b5862ecdb345b87edf",
       "version_major": 2,
       "version_minor": 0
      },
      "text/plain": [
       "HBox(children=(IntProgress(value=0, max=36142), HTML(value='')))"
      ]
     },
     "metadata": {},
     "output_type": "display_data"
    },
    {
     "name": "stdout",
     "output_type": "stream",
     "text": [
      "\n"
     ]
    },
    {
     "data": {
      "application/vnd.jupyter.widget-view+json": {
       "model_id": "3137c04b958f442890c571e9c6677981",
       "version_major": 2,
       "version_minor": 0
      },
      "text/plain": [
       "HBox(children=(IntProgress(value=0, max=36143), HTML(value='')))"
      ]
     },
     "metadata": {},
     "output_type": "display_data"
    },
    {
     "name": "stdout",
     "output_type": "stream",
     "text": [
      "\n"
     ]
    },
    {
     "data": {
      "application/vnd.jupyter.widget-view+json": {
       "model_id": "e62445c0cf2a40d796f324caaa38aa38",
       "version_major": 2,
       "version_minor": 0
      },
      "text/plain": [
       "HBox(children=(IntProgress(value=0, max=36505), HTML(value='')))"
      ]
     },
     "metadata": {},
     "output_type": "display_data"
    },
    {
     "name": "stdout",
     "output_type": "stream",
     "text": [
      "\n"
     ]
    },
    {
     "name": "stderr",
     "output_type": "stream",
     "text": [
      "/home/skooch/.local/lib/python3.5/site-packages/sklearn/externals/joblib/parallel.py:547: UserWarning: Multiprocessing-backed parallel loops cannot be nested, setting n_jobs=1\n",
      "  **self._backend_args)\n",
      "/home/skooch/.local/lib/python3.5/site-packages/sklearn/externals/joblib/parallel.py:547: UserWarning: Multiprocessing-backed parallel loops cannot be nested, setting n_jobs=1\n",
      "  **self._backend_args)\n",
      "/home/skooch/.local/lib/python3.5/site-packages/sklearn/externals/joblib/parallel.py:547: UserWarning: Multiprocessing-backed parallel loops cannot be nested, setting n_jobs=1\n",
      "  **self._backend_args)\n"
     ]
    },
    {
     "name": "stdout",
     "output_type": "stream",
     "text": [
      "\n",
      "1055 (0.0034, 0, 1.5e-07, 9e-05, 225, True, 81, True, 16, 4.5e-05, 0.8, 21) score: 0.5226141231273687\n"
     ]
    },
    {
     "data": {
      "application/vnd.jupyter.widget-view+json": {
       "model_id": "151d6bfaa87448a08739e6374b308455",
       "version_major": 2,
       "version_minor": 0
      },
      "text/plain": [
       "HBox(children=(IntProgress(value=0, max=36293), HTML(value='')))"
      ]
     },
     "metadata": {},
     "output_type": "display_data"
    },
    {
     "name": "stdout",
     "output_type": "stream",
     "text": [
      "\n",
      "1055 (0.0034, 0, 1.5e-07, 0.000655, 225, True, 81, True, 16, 4.5e-05, 0.8, 21) score: 0.5292202346390695\n",
      "1055 (0.0034, 0, 1.5e-07, 9e-05, 225, True, 58, True, 16, 1e-05, 0.8, 21) score: 0.5250768189175687\n"
     ]
    },
    {
     "data": {
      "application/vnd.jupyter.widget-view+json": {
       "model_id": "06d4370272c24284bc40e99c61909427",
       "version_major": 2,
       "version_minor": 0
      },
      "text/plain": [
       "HBox(children=(IntProgress(value=0, max=35808), HTML(value='')))"
      ]
     },
     "metadata": {},
     "output_type": "display_data"
    },
    {
     "name": "stderr",
     "output_type": "stream",
     "text": [
      "/home/skooch/.local/lib/python3.5/site-packages/sklearn/externals/joblib/parallel.py:547: UserWarning: Multiprocessing-backed parallel loops cannot be nested, setting n_jobs=1\n",
      "  **self._backend_args)\n"
     ]
    },
    {
     "data": {
      "application/vnd.jupyter.widget-view+json": {
       "model_id": "9cd5c8f0e0054b4684167b94b5b915c1",
       "version_major": 2,
       "version_minor": 0
      },
      "text/plain": [
       "HBox(children=(IntProgress(value=0, max=35807), HTML(value='')))"
      ]
     },
     "metadata": {},
     "output_type": "display_data"
    },
    {
     "name": "stderr",
     "output_type": "stream",
     "text": [
      "/home/skooch/.local/lib/python3.5/site-packages/sklearn/externals/joblib/parallel.py:547: UserWarning: Multiprocessing-backed parallel loops cannot be nested, setting n_jobs=1\n",
      "  **self._backend_args)\n"
     ]
    },
    {
     "name": "stdout",
     "output_type": "stream",
     "text": [
      "1055 (0.0034, 0, 1.5e-07, 9e-05, 225, True, 58, True, 16, 4.5e-05, 0.8, 21) score: 0.5251382889546221\n",
      "\n",
      "1055 (0.0034, 0, 1.5e-07, 9e-05, 225, True, 81, True, 16, 1e-05, 0.8, 21) score: 0.5225502707376108\n",
      "\n",
      "\n"
     ]
    },
    {
     "name": "stderr",
     "output_type": "stream",
     "text": [
      "/home/skooch/.local/lib/python3.5/site-packages/sklearn/externals/joblib/parallel.py:547: UserWarning: Multiprocessing-backed parallel loops cannot be nested, setting n_jobs=1\n",
      "  **self._backend_args)\n",
      "/home/skooch/.local/lib/python3.5/site-packages/sklearn/externals/joblib/parallel.py:547: UserWarning: Multiprocessing-backed parallel loops cannot be nested, setting n_jobs=1\n",
      "  **self._backend_args)\n",
      "/home/skooch/.local/lib/python3.5/site-packages/sklearn/externals/joblib/parallel.py:547: UserWarning: Multiprocessing-backed parallel loops cannot be nested, setting n_jobs=1\n",
      "  **self._backend_args)\n"
     ]
    },
    {
     "name": "stdout",
     "output_type": "stream",
     "text": [
      "1055 (0.0034, 0, 1.5e-07, 0.000655, 225, True, 81, True, 16, 1e-05, 0.8, 21) score: 0.5293149182084562\n",
      "1055 (0.0034, 0, 1.5e-07, 0.000655, 225, True, 58, True, 16, 1e-05, 0.8, 21) score: 0.5272878363682594\n",
      "1055 (0.0034, 0, 1.5e-07, 0.000655, 225, True, 58, True, 16, 4.5e-05, 0.8, 21) score: 0.5271013373287587\n"
     ]
    },
    {
     "data": {
      "application/vnd.jupyter.widget-view+json": {
       "model_id": "3f327b6047394fb1a566469c5831cd8d",
       "version_major": 2,
       "version_minor": 0
      },
      "text/plain": [
       "HBox(children=(IntProgress(value=0, max=32630), HTML(value='')))"
      ]
     },
     "metadata": {},
     "output_type": "display_data"
    },
    {
     "data": {
      "application/vnd.jupyter.widget-view+json": {
       "model_id": "f395e96f36214b93af504cc022edd08b",
       "version_major": 2,
       "version_minor": 0
      },
      "text/plain": [
       "HBox(children=(IntProgress(value=0, max=33054), HTML(value='')))"
      ]
     },
     "metadata": {},
     "output_type": "display_data"
    },
    {
     "data": {
      "application/vnd.jupyter.widget-view+json": {
       "model_id": "350f6c3db6b9428884785efc04ae1f6c",
       "version_major": 2,
       "version_minor": 0
      },
      "text/plain": [
       "HBox(children=(IntProgress(value=0, max=32637), HTML(value='')))"
      ]
     },
     "metadata": {},
     "output_type": "display_data"
    },
    {
     "name": "stdout",
     "output_type": "stream",
     "text": [
      "\n"
     ]
    },
    {
     "data": {
      "application/vnd.jupyter.widget-view+json": {
       "model_id": "fe12da4c51634efcae4139c345375490",
       "version_major": 2,
       "version_minor": 0
      },
      "text/plain": [
       "HBox(children=(IntProgress(value=0, max=32479), HTML(value='')))"
      ]
     },
     "metadata": {},
     "output_type": "display_data"
    },
    {
     "name": "stdout",
     "output_type": "stream",
     "text": [
      "\n",
      "\n"
     ]
    },
    {
     "name": "stderr",
     "output_type": "stream",
     "text": [
      "/home/skooch/.local/lib/python3.5/site-packages/sklearn/externals/joblib/parallel.py:547: UserWarning: Multiprocessing-backed parallel loops cannot be nested, setting n_jobs=1\n",
      "  **self._backend_args)\n",
      "/home/skooch/.local/lib/python3.5/site-packages/sklearn/externals/joblib/parallel.py:547: UserWarning: Multiprocessing-backed parallel loops cannot be nested, setting n_jobs=1\n",
      "  **self._backend_args)\n",
      "/home/skooch/.local/lib/python3.5/site-packages/sklearn/externals/joblib/parallel.py:547: UserWarning: Multiprocessing-backed parallel loops cannot be nested, setting n_jobs=1\n",
      "  **self._backend_args)\n"
     ]
    },
    {
     "data": {
      "application/vnd.jupyter.widget-view+json": {
       "model_id": "dfb71df4585d4df8a6b2f42b084d4eed",
       "version_major": 2,
       "version_minor": 0
      },
      "text/plain": [
       "HBox(children=(IntProgress(value=0, max=32768), HTML(value='')))"
      ]
     },
     "metadata": {},
     "output_type": "display_data"
    },
    {
     "name": "stdout",
     "output_type": "stream",
     "text": [
      "1056 (0.0034, 0, 1.5e-07, 9e-05, 221, True, 58, True, 16, 1e-05, 0.8, 21) score: 0.5500435900923426\n",
      "\n"
     ]
    },
    {
     "data": {
      "application/vnd.jupyter.widget-view+json": {
       "model_id": "730471b33e7342979cb9ebc4db139e26",
       "version_major": 2,
       "version_minor": 0
      },
      "text/plain": [
       "HBox(children=(IntProgress(value=0, max=32758), HTML(value='')))"
      ]
     },
     "metadata": {},
     "output_type": "display_data"
    },
    {
     "name": "stdout",
     "output_type": "stream",
     "text": [
      "1056 (0.0034, 0, 1.5e-07, 9e-05, 221, True, 81, True, 16, 4.5e-05, 0.8, 21) score: 0.5452679965848194\n",
      "1056 (0.0034, 0, 1.5e-07, 9e-05, 221, True, 58, True, 16, 4.5e-05, 0.8, 21) score: 0.5500369499232483\n"
     ]
    },
    {
     "data": {
      "application/vnd.jupyter.widget-view+json": {
       "model_id": "b3beab77ee9746828233508e5cdc05cf",
       "version_major": 2,
       "version_minor": 0
      },
      "text/plain": [
       "HBox(children=(IntProgress(value=0, max=32479), HTML(value='')))"
      ]
     },
     "metadata": {},
     "output_type": "display_data"
    },
    {
     "name": "stderr",
     "output_type": "stream",
     "text": [
      "/home/skooch/.local/lib/python3.5/site-packages/sklearn/externals/joblib/parallel.py:547: UserWarning: Multiprocessing-backed parallel loops cannot be nested, setting n_jobs=1\n",
      "  **self._backend_args)\n"
     ]
    },
    {
     "name": "stdout",
     "output_type": "stream",
     "text": [
      "\n"
     ]
    },
    {
     "data": {
      "application/vnd.jupyter.widget-view+json": {
       "model_id": "de38afc330ae4b6bac75c6b1b1290ad2",
       "version_major": 2,
       "version_minor": 0
      },
      "text/plain": [
       "HBox(children=(IntProgress(value=0, max=33062), HTML(value='')))"
      ]
     },
     "metadata": {},
     "output_type": "display_data"
    },
    {
     "name": "stdout",
     "output_type": "stream",
     "text": [
      "\n"
     ]
    },
    {
     "name": "stderr",
     "output_type": "stream",
     "text": [
      "/home/skooch/.local/lib/python3.5/site-packages/sklearn/externals/joblib/parallel.py:547: UserWarning: Multiprocessing-backed parallel loops cannot be nested, setting n_jobs=1\n",
      "  **self._backend_args)\n"
     ]
    },
    {
     "name": "stdout",
     "output_type": "stream",
     "text": [
      "1056 (0.0034, 0, 1.5e-07, 0.000655, 221, True, 58, True, 16, 1e-05, 0.8, 21) score: 0.5530025937290193\n",
      "\n"
     ]
    },
    {
     "name": "stderr",
     "output_type": "stream",
     "text": [
      "/home/skooch/.local/lib/python3.5/site-packages/sklearn/externals/joblib/parallel.py:547: UserWarning: Multiprocessing-backed parallel loops cannot be nested, setting n_jobs=1\n",
      "  **self._backend_args)\n"
     ]
    },
    {
     "name": "stdout",
     "output_type": "stream",
     "text": [
      "1056 (0.0034, 0, 1.5e-07, 0.000655, 221, True, 81, True, 16, 4.5e-05, 0.8, 21) score: 0.5514509156716718\n"
     ]
    },
    {
     "name": "stderr",
     "output_type": "stream",
     "text": [
      "/home/skooch/.local/lib/python3.5/site-packages/sklearn/externals/joblib/parallel.py:547: UserWarning: Multiprocessing-backed parallel loops cannot be nested, setting n_jobs=1\n",
      "  **self._backend_args)\n"
     ]
    },
    {
     "name": "stdout",
     "output_type": "stream",
     "text": [
      "\n",
      "1056 (0.0034, 0, 1.5e-07, 0.000655, 221, True, 81, True, 16, 1e-05, 0.8, 21) score: 0.5513865109498213\n"
     ]
    },
    {
     "name": "stderr",
     "output_type": "stream",
     "text": [
      "/home/skooch/.local/lib/python3.5/site-packages/sklearn/externals/joblib/parallel.py:547: UserWarning: Multiprocessing-backed parallel loops cannot be nested, setting n_jobs=1\n",
      "  **self._backend_args)\n"
     ]
    },
    {
     "name": "stdout",
     "output_type": "stream",
     "text": [
      "1056 (0.0034, 0, 1.5e-07, 0.000655, 221, True, 58, True, 16, 4.5e-05, 0.8, 21) score: 0.5529803334623118\n",
      "1056 (0.0034, 0, 1.5e-07, 9e-05, 221, True, 81, True, 16, 1e-05, 0.8, 21) score: 0.5451482817673645\n"
     ]
    },
    {
     "data": {
      "application/vnd.jupyter.widget-view+json": {
       "model_id": "a4d05825ba65484d992f8eaf87217313",
       "version_major": 2,
       "version_minor": 0
      },
      "text/plain": [
       "HBox(children=(IntProgress(value=0, max=33041), HTML(value='')))"
      ]
     },
     "metadata": {},
     "output_type": "display_data"
    },
    {
     "data": {
      "application/vnd.jupyter.widget-view+json": {
       "model_id": "f894bd29cfff486eb8db7cab49615693",
       "version_major": 2,
       "version_minor": 0
      },
      "text/plain": [
       "HBox(children=(IntProgress(value=0, max=32642), HTML(value='')))"
      ]
     },
     "metadata": {},
     "output_type": "display_data"
    },
    {
     "data": {
      "application/vnd.jupyter.widget-view+json": {
       "model_id": "c3c5bccfa7104d2cb213835248a2176a",
       "version_major": 2,
       "version_minor": 0
      },
      "text/plain": [
       "HBox(children=(IntProgress(value=0, max=32801), HTML(value='')))"
      ]
     },
     "metadata": {},
     "output_type": "display_data"
    },
    {
     "data": {
      "application/vnd.jupyter.widget-view+json": {
       "model_id": "a8228b01ad9343ad84c45f4ec99c621e",
       "version_major": 2,
       "version_minor": 0
      },
      "text/plain": [
       "HBox(children=(IntProgress(value=0, max=32644), HTML(value='')))"
      ]
     },
     "metadata": {},
     "output_type": "display_data"
    },
    {
     "data": {
      "application/vnd.jupyter.widget-view+json": {
       "model_id": "c781da2c5bf943558179f93a93b7cdf9",
       "version_major": 2,
       "version_minor": 0
      },
      "text/plain": [
       "HBox(children=(IntProgress(value=0, max=33040), HTML(value='')))"
      ]
     },
     "metadata": {},
     "output_type": "display_data"
    },
    {
     "name": "stdout",
     "output_type": "stream",
     "text": [
      "\n",
      "\n",
      "\n",
      "\n"
     ]
    },
    {
     "name": "stderr",
     "output_type": "stream",
     "text": [
      "/home/skooch/.local/lib/python3.5/site-packages/sklearn/externals/joblib/parallel.py:547: UserWarning: Multiprocessing-backed parallel loops cannot be nested, setting n_jobs=1\n",
      "  **self._backend_args)\n",
      "/home/skooch/.local/lib/python3.5/site-packages/sklearn/externals/joblib/parallel.py:547: UserWarning: Multiprocessing-backed parallel loops cannot be nested, setting n_jobs=1\n",
      "  **self._backend_args)\n",
      "/home/skooch/.local/lib/python3.5/site-packages/sklearn/externals/joblib/parallel.py:547: UserWarning: Multiprocessing-backed parallel loops cannot be nested, setting n_jobs=1\n",
      "  **self._backend_args)\n",
      "/home/skooch/.local/lib/python3.5/site-packages/sklearn/externals/joblib/parallel.py:547: UserWarning: Multiprocessing-backed parallel loops cannot be nested, setting n_jobs=1\n",
      "  **self._backend_args)\n"
     ]
    },
    {
     "name": "stdout",
     "output_type": "stream",
     "text": [
      "\n",
      "1056 (0.0034, 0, 1.5e-07, 9e-05, 225, True, 81, True, 16, 4.5e-05, 0.8, 21) score: 0.5456297144994297\n"
     ]
    },
    {
     "data": {
      "application/vnd.jupyter.widget-view+json": {
       "model_id": "243350601edb426bbc1732741b6b2219",
       "version_major": 2,
       "version_minor": 0
      },
      "text/plain": [
       "HBox(children=(IntProgress(value=0, max=32803), HTML(value='')))"
      ]
     },
     "metadata": {},
     "output_type": "display_data"
    },
    {
     "name": "stdout",
     "output_type": "stream",
     "text": [
      "1056 (0.0034, 0, 1.5e-07, 9e-05, 225, True, 58, True, 16, 1e-05, 0.8, 21) score: 0.55027722267056\n",
      "1056 (0.0034, 0, 1.5e-07, 0.000655, 225, True, 81, True, 16, 4.5e-05, 0.8, 21) score: 0.5520145651324555\n"
     ]
    },
    {
     "name": "stderr",
     "output_type": "stream",
     "text": [
      "/home/skooch/.local/lib/python3.5/site-packages/sklearn/externals/joblib/parallel.py:547: UserWarning: Multiprocessing-backed parallel loops cannot be nested, setting n_jobs=1\n",
      "  **self._backend_args)\n"
     ]
    },
    {
     "name": "stdout",
     "output_type": "stream",
     "text": [
      "1056 (0.0034, 0, 1.5e-07, 9e-05, 225, True, 58, True, 16, 4.5e-05, 0.8, 21) score: 0.5501553605863925\n"
     ]
    },
    {
     "data": {
      "application/vnd.jupyter.widget-view+json": {
       "model_id": "177cc33c9a91492f839e324987e90b72",
       "version_major": 2,
       "version_minor": 0
      },
      "text/plain": [
       "HBox(children=(IntProgress(value=0, max=32458), HTML(value='')))"
      ]
     },
     "metadata": {},
     "output_type": "display_data"
    },
    {
     "name": "stdout",
     "output_type": "stream",
     "text": [
      "1056 (0.0034, 0, 1.5e-07, 9e-05, 225, True, 81, True, 16, 1e-05, 0.8, 21) score: 0.5455565040277341\n"
     ]
    },
    {
     "data": {
      "application/vnd.jupyter.widget-view+json": {
       "model_id": "d4ae2fff62094f39a2674e29b91ea019",
       "version_major": 2,
       "version_minor": 0
      },
      "text/plain": [
       "HBox(children=(IntProgress(value=0, max=32461), HTML(value='')))"
      ]
     },
     "metadata": {},
     "output_type": "display_data"
    },
    {
     "name": "stdout",
     "output_type": "stream",
     "text": [
      "\n"
     ]
    },
    {
     "name": "stderr",
     "output_type": "stream",
     "text": [
      "/home/skooch/.local/lib/python3.5/site-packages/sklearn/externals/joblib/parallel.py:547: UserWarning: Multiprocessing-backed parallel loops cannot be nested, setting n_jobs=1\n",
      "  **self._backend_args)\n"
     ]
    },
    {
     "name": "stdout",
     "output_type": "stream",
     "text": [
      "\n",
      "\n",
      "1056 (0.0034, 0, 1.5e-07, 0.000655, 225, True, 81, True, 16, 1e-05, 0.8, 21) score: 0.5520145651324555\n"
     ]
    },
    {
     "name": "stderr",
     "output_type": "stream",
     "text": [
      "/home/skooch/.local/lib/python3.5/site-packages/sklearn/externals/joblib/parallel.py:547: UserWarning: Multiprocessing-backed parallel loops cannot be nested, setting n_jobs=1\n",
      "  **self._backend_args)\n",
      "/home/skooch/.local/lib/python3.5/site-packages/sklearn/externals/joblib/parallel.py:547: UserWarning: Multiprocessing-backed parallel loops cannot be nested, setting n_jobs=1\n",
      "  **self._backend_args)\n"
     ]
    },
    {
     "name": "stdout",
     "output_type": "stream",
     "text": [
      "1056 (0.0034, 0, 1.5e-07, 0.000655, 225, True, 58, True, 16, 1e-05, 0.8, 21) score: 0.5529154818111801\n",
      "1056 (0.0034, 0, 1.5e-07, 0.000655, 225, True, 58, True, 16, 4.5e-05, 0.8, 21) score: 0.5528664420664333\n"
     ]
    },
    {
     "data": {
      "application/vnd.jupyter.widget-view+json": {
       "model_id": "56a943882dd04362a32b81a1034e4e07",
       "version_major": 2,
       "version_minor": 0
      },
      "text/plain": [
       "HBox(children=(IntProgress(value=0, max=33196), HTML(value='')))"
      ]
     },
     "metadata": {},
     "output_type": "display_data"
    },
    {
     "data": {
      "application/vnd.jupyter.widget-view+json": {
       "model_id": "97cccee16a704ace95d5ff8855c5b770",
       "version_major": 2,
       "version_minor": 0
      },
      "text/plain": [
       "HBox(children=(IntProgress(value=0, max=33188), HTML(value='')))"
      ]
     },
     "metadata": {},
     "output_type": "display_data"
    },
    {
     "data": {
      "application/vnd.jupyter.widget-view+json": {
       "model_id": "755c830a80594ac8baa4e4110a2f12ab",
       "version_major": 2,
       "version_minor": 0
      },
      "text/plain": [
       "HBox(children=(IntProgress(value=0, max=33666), HTML(value='')))"
      ]
     },
     "metadata": {},
     "output_type": "display_data"
    },
    {
     "name": "stdout",
     "output_type": "stream",
     "text": [
      "\n",
      "\n",
      "\n"
     ]
    },
    {
     "name": "stderr",
     "output_type": "stream",
     "text": [
      "/home/skooch/.local/lib/python3.5/site-packages/sklearn/externals/joblib/parallel.py:547: UserWarning: Multiprocessing-backed parallel loops cannot be nested, setting n_jobs=1\n",
      "  **self._backend_args)\n",
      "/home/skooch/.local/lib/python3.5/site-packages/sklearn/externals/joblib/parallel.py:547: UserWarning: Multiprocessing-backed parallel loops cannot be nested, setting n_jobs=1\n",
      "  **self._backend_args)\n",
      "/home/skooch/.local/lib/python3.5/site-packages/sklearn/externals/joblib/parallel.py:547: UserWarning: Multiprocessing-backed parallel loops cannot be nested, setting n_jobs=1\n",
      "  **self._backend_args)\n"
     ]
    },
    {
     "data": {
      "application/vnd.jupyter.widget-view+json": {
       "model_id": "99f0f7a7c71e4ffe82991fae9e276216",
       "version_major": 2,
       "version_minor": 0
      },
      "text/plain": [
       "HBox(children=(IntProgress(value=0, max=32821), HTML(value='')))"
      ]
     },
     "metadata": {},
     "output_type": "display_data"
    },
    {
     "name": "stdout",
     "output_type": "stream",
     "text": [
      "1057 (0.0034, 0, 1.5e-07, 9e-05, 221, True, 58, True, 16, 4.5e-05, 0.8, 21) score: 0.5436692742104134\n"
     ]
    },
    {
     "data": {
      "application/vnd.jupyter.widget-view+json": {
       "model_id": "1c9b7cf695a34761b2fe0139dad553a5",
       "version_major": 2,
       "version_minor": 0
      },
      "text/plain": [
       "HBox(children=(IntProgress(value=0, max=33396), HTML(value='')))"
      ]
     },
     "metadata": {},
     "output_type": "display_data"
    },
    {
     "name": "stdout",
     "output_type": "stream",
     "text": [
      "1057 (0.0034, 0, 1.5e-07, 9e-05, 221, True, 58, True, 16, 1e-05, 0.8, 21) score: 0.5436898854971254\n",
      "1057 (0.0034, 0, 1.5e-07, 9e-05, 221, True, 81, True, 16, 4.5e-05, 0.8, 21) score: 0.5415414076961322\n"
     ]
    },
    {
     "data": {
      "application/vnd.jupyter.widget-view+json": {
       "model_id": "d4dedc1b59674a5ab356b5e401fed6f1",
       "version_major": 2,
       "version_minor": 0
      },
      "text/plain": [
       "HBox(children=(IntProgress(value=0, max=33394), HTML(value='')))"
      ]
     },
     "metadata": {},
     "output_type": "display_data"
    },
    {
     "name": "stdout",
     "output_type": "stream",
     "text": [
      "\n",
      "\n"
     ]
    },
    {
     "data": {
      "application/vnd.jupyter.widget-view+json": {
       "model_id": "097644f624704fab97816454fecb7738",
       "version_major": 2,
       "version_minor": 0
      },
      "text/plain": [
       "HBox(children=(IntProgress(value=0, max=32817), HTML(value='')))"
      ]
     },
     "metadata": {},
     "output_type": "display_data"
    },
    {
     "name": "stderr",
     "output_type": "stream",
     "text": [
      "/home/skooch/.local/lib/python3.5/site-packages/sklearn/externals/joblib/parallel.py:547: UserWarning: Multiprocessing-backed parallel loops cannot be nested, setting n_jobs=1\n",
      "  **self._backend_args)\n"
     ]
    },
    {
     "name": "stdout",
     "output_type": "stream",
     "text": [
      "\n"
     ]
    },
    {
     "name": "stderr",
     "output_type": "stream",
     "text": [
      "/home/skooch/.local/lib/python3.5/site-packages/sklearn/externals/joblib/parallel.py:547: UserWarning: Multiprocessing-backed parallel loops cannot be nested, setting n_jobs=1\n",
      "  **self._backend_args)\n"
     ]
    },
    {
     "data": {
      "application/vnd.jupyter.widget-view+json": {
       "model_id": "d7f0d0a6570b43cb88bf018b9e81bc10",
       "version_major": 2,
       "version_minor": 0
      },
      "text/plain": [
       "HBox(children=(IntProgress(value=0, max=33669), HTML(value='')))"
      ]
     },
     "metadata": {},
     "output_type": "display_data"
    },
    {
     "name": "stderr",
     "output_type": "stream",
     "text": [
      "/home/skooch/.local/lib/python3.5/site-packages/sklearn/externals/joblib/parallel.py:547: UserWarning: Multiprocessing-backed parallel loops cannot be nested, setting n_jobs=1\n",
      "  **self._backend_args)\n"
     ]
    },
    {
     "name": "stdout",
     "output_type": "stream",
     "text": [
      "1057 (0.0034, 0, 1.5e-07, 0.000655, 221, True, 58, True, 16, 1e-05, 0.8, 21) score: 0.548877705476568\n",
      "1057 (0.0034, 0, 1.5e-07, 0.000655, 221, True, 81, True, 16, 1e-05, 0.8, 21) score: 0.5486544128175068\n",
      "\n",
      "1057 (0.0034, 0, 1.5e-07, 0.000655, 221, True, 81, True, 16, 4.5e-05, 0.8, 21) score: 0.5485902521501366\n"
     ]
    },
    {
     "name": "stderr",
     "output_type": "stream",
     "text": [
      "/home/skooch/.local/lib/python3.5/site-packages/sklearn/externals/joblib/parallel.py:547: UserWarning: Multiprocessing-backed parallel loops cannot be nested, setting n_jobs=1\n",
      "  **self._backend_args)\n"
     ]
    },
    {
     "name": "stdout",
     "output_type": "stream",
     "text": [
      "\n"
     ]
    },
    {
     "name": "stderr",
     "output_type": "stream",
     "text": [
      "/home/skooch/.local/lib/python3.5/site-packages/sklearn/externals/joblib/parallel.py:547: UserWarning: Multiprocessing-backed parallel loops cannot be nested, setting n_jobs=1\n",
      "  **self._backend_args)\n"
     ]
    },
    {
     "name": "stdout",
     "output_type": "stream",
     "text": [
      "1057 (0.0034, 0, 1.5e-07, 0.000655, 221, True, 58, True, 16, 4.5e-05, 0.8, 21) score: 0.5488734983859052\n",
      "1057 (0.0034, 0, 1.5e-07, 9e-05, 221, True, 81, True, 16, 1e-05, 0.8, 21) score: 0.5415414076961322\n"
     ]
    },
    {
     "data": {
      "application/vnd.jupyter.widget-view+json": {
       "model_id": "41b85693019a406b83b5328ff5d153d3",
       "version_major": 2,
       "version_minor": 0
      },
      "text/plain": [
       "HBox(children=(IntProgress(value=0, max=33654), HTML(value='')))"
      ]
     },
     "metadata": {},
     "output_type": "display_data"
    },
    {
     "data": {
      "application/vnd.jupyter.widget-view+json": {
       "model_id": "360f10f894a54eab8eb0fbffccb8ab2f",
       "version_major": 2,
       "version_minor": 0
      },
      "text/plain": [
       "HBox(children=(IntProgress(value=0, max=33384), HTML(value='')))"
      ]
     },
     "metadata": {},
     "output_type": "display_data"
    },
    {
     "data": {
      "application/vnd.jupyter.widget-view+json": {
       "model_id": "b651150aa2c74460b4af338f8a164efb",
       "version_major": 2,
       "version_minor": 0
      },
      "text/plain": [
       "HBox(children=(IntProgress(value=0, max=33210), HTML(value='')))"
      ]
     },
     "metadata": {},
     "output_type": "display_data"
    },
    {
     "data": {
      "application/vnd.jupyter.widget-view+json": {
       "model_id": "77810a7c55fd457eae73f4245daceeb4",
       "version_major": 2,
       "version_minor": 0
      },
      "text/plain": [
       "HBox(children=(IntProgress(value=0, max=33203), HTML(value='')))"
      ]
     },
     "metadata": {},
     "output_type": "display_data"
    },
    {
     "name": "stdout",
     "output_type": "stream",
     "text": [
      "\n"
     ]
    },
    {
     "data": {
      "application/vnd.jupyter.widget-view+json": {
       "model_id": "cdc5320d34fe4256926edf6b401abb5e",
       "version_major": 2,
       "version_minor": 0
      },
      "text/plain": [
       "HBox(children=(IntProgress(value=0, max=33664), HTML(value='')))"
      ]
     },
     "metadata": {},
     "output_type": "display_data"
    },
    {
     "name": "stderr",
     "output_type": "stream",
     "text": [
      "/home/skooch/.local/lib/python3.5/site-packages/sklearn/externals/joblib/parallel.py:547: UserWarning: Multiprocessing-backed parallel loops cannot be nested, setting n_jobs=1\n",
      "  **self._backend_args)\n"
     ]
    },
    {
     "name": "stdout",
     "output_type": "stream",
     "text": [
      "\n",
      "\n",
      "\n",
      "\n"
     ]
    },
    {
     "name": "stderr",
     "output_type": "stream",
     "text": [
      "/home/skooch/.local/lib/python3.5/site-packages/sklearn/externals/joblib/parallel.py:547: UserWarning: Multiprocessing-backed parallel loops cannot be nested, setting n_jobs=1\n",
      "  **self._backend_args)\n"
     ]
    },
    {
     "name": "stdout",
     "output_type": "stream",
     "text": [
      "1057 (0.0034, 0, 1.5e-07, 9e-05, 225, True, 81, True, 16, 4.5e-05, 0.8, 21) score: 0.5414703511550704\n"
     ]
    },
    {
     "name": "stderr",
     "output_type": "stream",
     "text": [
      "/home/skooch/.local/lib/python3.5/site-packages/sklearn/externals/joblib/parallel.py:547: UserWarning: Multiprocessing-backed parallel loops cannot be nested, setting n_jobs=1\n",
      "  **self._backend_args)\n",
      "/home/skooch/.local/lib/python3.5/site-packages/sklearn/externals/joblib/parallel.py:547: UserWarning: Multiprocessing-backed parallel loops cannot be nested, setting n_jobs=1\n",
      "  **self._backend_args)\n",
      "/home/skooch/.local/lib/python3.5/site-packages/sklearn/externals/joblib/parallel.py:547: UserWarning: Multiprocessing-backed parallel loops cannot be nested, setting n_jobs=1\n",
      "  **self._backend_args)\n"
     ]
    },
    {
     "data": {
      "application/vnd.jupyter.widget-view+json": {
       "model_id": "49738e7abde24df0a4a424f81df7e302",
       "version_major": 2,
       "version_minor": 0
      },
      "text/plain": [
       "HBox(children=(IntProgress(value=0, max=33383), HTML(value='')))"
      ]
     },
     "metadata": {},
     "output_type": "display_data"
    },
    {
     "name": "stdout",
     "output_type": "stream",
     "text": [
      "1057 (0.0034, 0, 1.5e-07, 9e-05, 225, True, 58, True, 16, 4.5e-05, 0.8, 21) score: 0.5440990257953172\n",
      "1057 (0.0034, 0, 1.5e-07, 0.000655, 225, True, 81, True, 16, 4.5e-05, 0.8, 21) score: 0.5485272541601521\n",
      "1057 (0.0034, 0, 1.5e-07, 9e-05, 225, True, 58, True, 16, 1e-05, 0.8, 21) score: 0.5440887802741228\n",
      "1057 (0.0034, 0, 1.5e-07, 9e-05, 225, True, 81, True, 16, 1e-05, 0.8, 21) score: 0.5414369905785938\n"
     ]
    },
    {
     "data": {
      "application/vnd.jupyter.widget-view+json": {
       "model_id": "5595ed8e409d45249187415d625ad3d9",
       "version_major": 2,
       "version_minor": 0
      },
      "text/plain": [
       "HBox(children=(IntProgress(value=0, max=32809), HTML(value='')))"
      ]
     },
     "metadata": {},
     "output_type": "display_data"
    },
    {
     "name": "stdout",
     "output_type": "stream",
     "text": [
      "\n"
     ]
    },
    {
     "data": {
      "application/vnd.jupyter.widget-view+json": {
       "model_id": "7826d61076a6417bb6b9718c01046cfc",
       "version_major": 2,
       "version_minor": 0
      },
      "text/plain": [
       "HBox(children=(IntProgress(value=0, max=32810), HTML(value='')))"
      ]
     },
     "metadata": {},
     "output_type": "display_data"
    },
    {
     "name": "stderr",
     "output_type": "stream",
     "text": [
      "/home/skooch/.local/lib/python3.5/site-packages/sklearn/externals/joblib/parallel.py:547: UserWarning: Multiprocessing-backed parallel loops cannot be nested, setting n_jobs=1\n",
      "  **self._backend_args)\n"
     ]
    },
    {
     "name": "stdout",
     "output_type": "stream",
     "text": [
      "\n",
      "\n",
      "1057 (0.0034, 0, 1.5e-07, 0.000655, 225, True, 81, True, 16, 1e-05, 0.8, 21) score: 0.5485054336544712\n"
     ]
    },
    {
     "name": "stderr",
     "output_type": "stream",
     "text": [
      "/home/skooch/.local/lib/python3.5/site-packages/sklearn/externals/joblib/parallel.py:547: UserWarning: Multiprocessing-backed parallel loops cannot be nested, setting n_jobs=1\n",
      "  **self._backend_args)\n",
      "/home/skooch/.local/lib/python3.5/site-packages/sklearn/externals/joblib/parallel.py:547: UserWarning: Multiprocessing-backed parallel loops cannot be nested, setting n_jobs=1\n",
      "  **self._backend_args)\n"
     ]
    },
    {
     "name": "stdout",
     "output_type": "stream",
     "text": [
      "1057 (0.0034, 0, 1.5e-07, 0.000655, 225, True, 58, True, 16, 1e-05, 0.8, 21) score: 0.5489112147618302\n",
      "1057 (0.0034, 0, 1.5e-07, 0.000655, 225, True, 58, True, 16, 4.5e-05, 0.8, 21) score: 0.5489018628494067\n"
     ]
    },
    {
     "data": {
      "application/vnd.jupyter.widget-view+json": {
       "model_id": "8e17b9f5fc4e45ac92488fb3d4669801",
       "version_major": 2,
       "version_minor": 0
      },
      "text/plain": [
       "HBox(children=(IntProgress(value=0, max=39823), HTML(value='')))"
      ]
     },
     "metadata": {},
     "output_type": "display_data"
    },
    {
     "data": {
      "application/vnd.jupyter.widget-view+json": {
       "model_id": "76492e1f474147adb461d79a19e1cc80",
       "version_major": 2,
       "version_minor": 0
      },
      "text/plain": [
       "HBox(children=(IntProgress(value=0, max=39106), HTML(value='')))"
      ]
     },
     "metadata": {},
     "output_type": "display_data"
    },
    {
     "data": {
      "application/vnd.jupyter.widget-view+json": {
       "model_id": "72ac1daa36c84995ac337ecb0149e2c9",
       "version_major": 2,
       "version_minor": 0
      },
      "text/plain": [
       "HBox(children=(IntProgress(value=0, max=39108), HTML(value='')))"
      ]
     },
     "metadata": {},
     "output_type": "display_data"
    },
    {
     "name": "stdout",
     "output_type": "stream",
     "text": [
      "\n",
      "\n",
      "\n"
     ]
    },
    {
     "data": {
      "application/vnd.jupyter.widget-view+json": {
       "model_id": "ef245cb4635542ee93e0b44e6c18be84",
       "version_major": 2,
       "version_minor": 0
      },
      "text/plain": [
       "HBox(children=(IntProgress(value=0, max=38891), HTML(value='')))"
      ]
     },
     "metadata": {},
     "output_type": "display_data"
    },
    {
     "data": {
      "application/vnd.jupyter.widget-view+json": {
       "model_id": "e9f1ba6c226d45aa920fd4be0d9d0ec0",
       "version_major": 2,
       "version_minor": 0
      },
      "text/plain": [
       "HBox(children=(IntProgress(value=0, max=39422), HTML(value='')))"
      ]
     },
     "metadata": {},
     "output_type": "display_data"
    },
    {
     "name": "stderr",
     "output_type": "stream",
     "text": [
      "/home/skooch/.local/lib/python3.5/site-packages/sklearn/externals/joblib/parallel.py:547: UserWarning: Multiprocessing-backed parallel loops cannot be nested, setting n_jobs=1\n",
      "  **self._backend_args)\n",
      "/home/skooch/.local/lib/python3.5/site-packages/sklearn/externals/joblib/parallel.py:547: UserWarning: Multiprocessing-backed parallel loops cannot be nested, setting n_jobs=1\n",
      "  **self._backend_args)\n"
     ]
    },
    {
     "data": {
      "application/vnd.jupyter.widget-view+json": {
       "model_id": "1a7d1f9f0164434e80073beb6d3dcccf",
       "version_major": 2,
       "version_minor": 0
      },
      "text/plain": [
       "HBox(children=(IntProgress(value=0, max=39429), HTML(value='')))"
      ]
     },
     "metadata": {},
     "output_type": "display_data"
    },
    {
     "name": "stdout",
     "output_type": "stream",
     "text": [
      "1058 (0.0034, 0, 1.5e-07, 9e-05, 221, True, 58, True, 16, 1e-05, 0.8, 21) score: 0.5274672139930772\n",
      "1058 (0.0034, 0, 1.5e-07, 9e-05, 221, True, 81, True, 16, 4.5e-05, 0.8, 21) score: 0.5269682865994127\n"
     ]
    },
    {
     "name": "stderr",
     "output_type": "stream",
     "text": [
      "/home/skooch/.local/lib/python3.5/site-packages/sklearn/externals/joblib/parallel.py:547: UserWarning: Multiprocessing-backed parallel loops cannot be nested, setting n_jobs=1\n",
      "  **self._backend_args)\n"
     ]
    },
    {
     "name": "stdout",
     "output_type": "stream",
     "text": [
      "\n",
      "\n"
     ]
    },
    {
     "data": {
      "application/vnd.jupyter.widget-view+json": {
       "model_id": "6a08cc08cf4b42a3a3b7f39265d6b16d",
       "version_major": 2,
       "version_minor": 0
      },
      "text/plain": [
       "HBox(children=(IntProgress(value=0, max=39823), HTML(value='')))"
      ]
     },
     "metadata": {},
     "output_type": "display_data"
    },
    {
     "name": "stdout",
     "output_type": "stream",
     "text": [
      "1058 (0.0034, 0, 1.5e-07, 9e-05, 221, True, 58, True, 16, 4.5e-05, 0.8, 21) score: 0.5276423361506204\n",
      "\n"
     ]
    },
    {
     "data": {
      "application/vnd.jupyter.widget-view+json": {
       "model_id": "b2ccd23a3a6d4c20b05da3cda80e35b2",
       "version_major": 2,
       "version_minor": 0
      },
      "text/plain": [
       "HBox(children=(IntProgress(value=0, max=38900), HTML(value='')))"
      ]
     },
     "metadata": {},
     "output_type": "display_data"
    },
    {
     "name": "stdout",
     "output_type": "stream",
     "text": [
      "\n"
     ]
    },
    {
     "name": "stderr",
     "output_type": "stream",
     "text": [
      "/home/skooch/.local/lib/python3.5/site-packages/sklearn/externals/joblib/parallel.py:547: UserWarning: Multiprocessing-backed parallel loops cannot be nested, setting n_jobs=1\n",
      "  **self._backend_args)\n",
      "/home/skooch/.local/lib/python3.5/site-packages/sklearn/externals/joblib/parallel.py:547: UserWarning: Multiprocessing-backed parallel loops cannot be nested, setting n_jobs=1\n",
      "  **self._backend_args)\n"
     ]
    },
    {
     "name": "stdout",
     "output_type": "stream",
     "text": [
      "\n",
      "1058 (0.0034, 0, 1.5e-07, 0.000655, 221, True, 81, True, 16, 1e-05, 0.8, 21) score: 0.5296628514886379\n"
     ]
    },
    {
     "name": "stderr",
     "output_type": "stream",
     "text": [
      "/home/skooch/.local/lib/python3.5/site-packages/sklearn/externals/joblib/parallel.py:547: UserWarning: Multiprocessing-backed parallel loops cannot be nested, setting n_jobs=1\n",
      "  **self._backend_args)\n"
     ]
    },
    {
     "name": "stdout",
     "output_type": "stream",
     "text": [
      "1058 (0.0034, 0, 1.5e-07, 0.000655, 221, True, 58, True, 16, 1e-05, 0.8, 21) score: 0.5273944489729274\n",
      "1058 (0.0034, 0, 1.5e-07, 0.000655, 221, True, 81, True, 16, 4.5e-05, 0.8, 21) score: 0.5295846262486066\n"
     ]
    },
    {
     "name": "stderr",
     "output_type": "stream",
     "text": [
      "/home/skooch/.local/lib/python3.5/site-packages/sklearn/externals/joblib/parallel.py:547: UserWarning: Multiprocessing-backed parallel loops cannot be nested, setting n_jobs=1\n",
      "  **self._backend_args)\n",
      "/home/skooch/.local/lib/python3.5/site-packages/sklearn/externals/joblib/parallel.py:547: UserWarning: Multiprocessing-backed parallel loops cannot be nested, setting n_jobs=1\n",
      "  **self._backend_args)\n"
     ]
    },
    {
     "name": "stdout",
     "output_type": "stream",
     "text": [
      "1058 (0.0034, 0, 1.5e-07, 9e-05, 221, True, 81, True, 16, 1e-05, 0.8, 21) score: 0.5269160492564424\n",
      "1058 (0.0034, 0, 1.5e-07, 0.000655, 221, True, 58, True, 16, 4.5e-05, 0.8, 21) score: 0.527225633644548\n"
     ]
    },
    {
     "data": {
      "application/vnd.jupyter.widget-view+json": {
       "model_id": "a39d631a1120481a93c232e5065ce633",
       "version_major": 2,
       "version_minor": 0
      },
      "text/plain": [
       "HBox(children=(IntProgress(value=0, max=39820), HTML(value='')))"
      ]
     },
     "metadata": {},
     "output_type": "display_data"
    },
    {
     "data": {
      "application/vnd.jupyter.widget-view+json": {
       "model_id": "8966824d74c041b69f7b22b94b01637f",
       "version_major": 2,
       "version_minor": 0
      },
      "text/plain": [
       "HBox(children=(IntProgress(value=0, max=39812), HTML(value='')))"
      ]
     },
     "metadata": {},
     "output_type": "display_data"
    },
    {
     "data": {
      "application/vnd.jupyter.widget-view+json": {
       "model_id": "89080ce90d104107ac2fc417307092e4",
       "version_major": 2,
       "version_minor": 0
      },
      "text/plain": [
       "HBox(children=(IntProgress(value=0, max=39101), HTML(value='')))"
      ]
     },
     "metadata": {},
     "output_type": "display_data"
    },
    {
     "name": "stdout",
     "output_type": "stream",
     "text": [
      "\n"
     ]
    },
    {
     "data": {
      "application/vnd.jupyter.widget-view+json": {
       "model_id": "1d0f5002be344ef695b5f03a5e569a27",
       "version_major": 2,
       "version_minor": 0
      },
      "text/plain": [
       "HBox(children=(IntProgress(value=0, max=39429), HTML(value='')))"
      ]
     },
     "metadata": {},
     "output_type": "display_data"
    },
    {
     "name": "stdout",
     "output_type": "stream",
     "text": [
      "\n"
     ]
    },
    {
     "data": {
      "application/vnd.jupyter.widget-view+json": {
       "model_id": "1c8119de53dc428fbb94a6fdb6793671",
       "version_major": 2,
       "version_minor": 0
      },
      "text/plain": [
       "HBox(children=(IntProgress(value=0, max=39093), HTML(value='')))"
      ]
     },
     "metadata": {},
     "output_type": "display_data"
    },
    {
     "name": "stdout",
     "output_type": "stream",
     "text": [
      "\n",
      "\n"
     ]
    },
    {
     "name": "stderr",
     "output_type": "stream",
     "text": [
      "/home/skooch/.local/lib/python3.5/site-packages/sklearn/externals/joblib/parallel.py:547: UserWarning: Multiprocessing-backed parallel loops cannot be nested, setting n_jobs=1\n",
      "  **self._backend_args)\n"
     ]
    },
    {
     "name": "stdout",
     "output_type": "stream",
     "text": [
      "\n"
     ]
    },
    {
     "name": "stderr",
     "output_type": "stream",
     "text": [
      "/home/skooch/.local/lib/python3.5/site-packages/sklearn/externals/joblib/parallel.py:547: UserWarning: Multiprocessing-backed parallel loops cannot be nested, setting n_jobs=1\n",
      "  **self._backend_args)\n"
     ]
    },
    {
     "name": "stdout",
     "output_type": "stream",
     "text": [
      "1058 (0.0034, 0, 1.5e-07, 9e-05, 225, True, 81, True, 16, 4.5e-05, 0.8, 21) score: 0.5268065323341489\n"
     ]
    },
    {
     "data": {
      "application/vnd.jupyter.widget-view+json": {
       "model_id": "31ab6b9d45004ba3a2aa170e7367fcdf",
       "version_major": 2,
       "version_minor": 0
      },
      "text/plain": [
       "HBox(children=(IntProgress(value=0, max=39429), HTML(value='')))"
      ]
     },
     "metadata": {},
     "output_type": "display_data"
    },
    {
     "data": {
      "application/vnd.jupyter.widget-view+json": {
       "model_id": "3bee80470e184b1d9082d8dc86250e0a",
       "version_major": 2,
       "version_minor": 0
      },
      "text/plain": [
       "HBox(children=(IntProgress(value=0, max=38954), HTML(value='')))"
      ]
     },
     "metadata": {},
     "output_type": "display_data"
    },
    {
     "name": "stderr",
     "output_type": "stream",
     "text": [
      "/home/skooch/.local/lib/python3.5/site-packages/sklearn/externals/joblib/parallel.py:547: UserWarning: Multiprocessing-backed parallel loops cannot be nested, setting n_jobs=1\n",
      "  **self._backend_args)\n"
     ]
    },
    {
     "name": "stdout",
     "output_type": "stream",
     "text": [
      "1058 (0.0034, 0, 1.5e-07, 9e-05, 225, True, 81, True, 16, 1e-05, 0.8, 21) score: 0.5267944149711639\n"
     ]
    },
    {
     "name": "stderr",
     "output_type": "stream",
     "text": [
      "/home/skooch/.local/lib/python3.5/site-packages/sklearn/externals/joblib/parallel.py:547: UserWarning: Multiprocessing-backed parallel loops cannot be nested, setting n_jobs=1\n",
      "  **self._backend_args)\n"
     ]
    },
    {
     "name": "stdout",
     "output_type": "stream",
     "text": [
      "1058 (0.0034, 0, 1.5e-07, 9e-05, 225, True, 58, True, 16, 4.5e-05, 0.8, 21) score: 0.5277313600013258\n"
     ]
    },
    {
     "data": {
      "application/vnd.jupyter.widget-view+json": {
       "model_id": "d06fd26270994d75a062327973de9f2b",
       "version_major": 2,
       "version_minor": 0
      },
      "text/plain": [
       "HBox(children=(IntProgress(value=0, max=38957), HTML(value='')))"
      ]
     },
     "metadata": {},
     "output_type": "display_data"
    },
    {
     "name": "stderr",
     "output_type": "stream",
     "text": [
      "/home/skooch/.local/lib/python3.5/site-packages/sklearn/externals/joblib/parallel.py:547: UserWarning: Multiprocessing-backed parallel loops cannot be nested, setting n_jobs=1\n",
      "  **self._backend_args)\n"
     ]
    },
    {
     "name": "stdout",
     "output_type": "stream",
     "text": [
      "\n",
      "1058 (0.0034, 0, 1.5e-07, 0.000655, 225, True, 81, True, 16, 4.5e-05, 0.8, 21) score: 0.5295215737939998\n",
      "\n",
      "1058 (0.0034, 0, 1.5e-07, 9e-05, 225, True, 58, True, 16, 1e-05, 0.8, 21) score: 0.5277153044021361\n",
      "\n"
     ]
    },
    {
     "name": "stderr",
     "output_type": "stream",
     "text": [
      "/home/skooch/.local/lib/python3.5/site-packages/sklearn/externals/joblib/parallel.py:547: UserWarning: Multiprocessing-backed parallel loops cannot be nested, setting n_jobs=1\n",
      "  **self._backend_args)\n",
      "/home/skooch/.local/lib/python3.5/site-packages/sklearn/externals/joblib/parallel.py:547: UserWarning: Multiprocessing-backed parallel loops cannot be nested, setting n_jobs=1\n",
      "  **self._backend_args)\n"
     ]
    },
    {
     "name": "stdout",
     "output_type": "stream",
     "text": [
      "1058 (0.0034, 0, 1.5e-07, 0.000655, 225, True, 58, True, 16, 1e-05, 0.8, 21) score: 0.5275693427713577\n",
      "1058 (0.0034, 0, 1.5e-07, 0.000655, 225, True, 81, True, 16, 1e-05, 0.8, 21) score: 0.5295428877043378\n"
     ]
    },
    {
     "name": "stderr",
     "output_type": "stream",
     "text": [
      "/home/skooch/.local/lib/python3.5/site-packages/sklearn/externals/joblib/parallel.py:547: UserWarning: Multiprocessing-backed parallel loops cannot be nested, setting n_jobs=1\n",
      "  **self._backend_args)\n"
     ]
    },
    {
     "name": "stdout",
     "output_type": "stream",
     "text": [
      "1058 (0.0034, 0, 1.5e-07, 0.000655, 225, True, 58, True, 16, 4.5e-05, 0.8, 21) score: 0.5276286810010333\n"
     ]
    },
    {
     "data": {
      "application/vnd.jupyter.widget-view+json": {
       "model_id": "cb354e6d3d3d4decb24e872b3abd7e17",
       "version_major": 2,
       "version_minor": 0
      },
      "text/plain": [
       "HBox(children=(IntProgress(value=0, max=36792), HTML(value='')))"
      ]
     },
     "metadata": {},
     "output_type": "display_data"
    },
    {
     "data": {
      "application/vnd.jupyter.widget-view+json": {
       "model_id": "2d354d691ffb47638e21aff120560310",
       "version_major": 2,
       "version_minor": 0
      },
      "text/plain": [
       "HBox(children=(IntProgress(value=0, max=36216), HTML(value='')))"
      ]
     },
     "metadata": {},
     "output_type": "display_data"
    },
    {
     "data": {
      "application/vnd.jupyter.widget-view+json": {
       "model_id": "d88d3615a73a4bf699396d329397ab3b",
       "version_major": 2,
       "version_minor": 0
      },
      "text/plain": [
       "HBox(children=(IntProgress(value=0, max=36214), HTML(value='')))"
      ]
     },
     "metadata": {},
     "output_type": "display_data"
    },
    {
     "name": "stdout",
     "output_type": "stream",
     "text": [
      "\n"
     ]
    },
    {
     "name": "stderr",
     "output_type": "stream",
     "text": [
      "/home/skooch/.local/lib/python3.5/site-packages/sklearn/externals/joblib/parallel.py:547: UserWarning: Multiprocessing-backed parallel loops cannot be nested, setting n_jobs=1\n",
      "  **self._backend_args)\n"
     ]
    },
    {
     "name": "stdout",
     "output_type": "stream",
     "text": [
      "\n",
      "\n",
      "1059 (0.0034, 0, 1.5e-07, 9e-05, 221, True, 81, True, 16, 4.5e-05, 0.8, 21) score: 0.5315504168586358\n"
     ]
    },
    {
     "data": {
      "application/vnd.jupyter.widget-view+json": {
       "model_id": "8c93dd360fa545d6a366edcfe6db1c06",
       "version_major": 2,
       "version_minor": 0
      },
      "text/plain": [
       "HBox(children=(IntProgress(value=0, max=36322), HTML(value='')))"
      ]
     },
     "metadata": {},
     "output_type": "display_data"
    },
    {
     "name": "stderr",
     "output_type": "stream",
     "text": [
      "/home/skooch/.local/lib/python3.5/site-packages/sklearn/externals/joblib/parallel.py:547: UserWarning: Multiprocessing-backed parallel loops cannot be nested, setting n_jobs=1\n",
      "  **self._backend_args)\n",
      "/home/skooch/.local/lib/python3.5/site-packages/sklearn/externals/joblib/parallel.py:547: UserWarning: Multiprocessing-backed parallel loops cannot be nested, setting n_jobs=1\n",
      "  **self._backend_args)\n"
     ]
    },
    {
     "data": {
      "application/vnd.jupyter.widget-view+json": {
       "model_id": "40612e60ac3b4c90b3744ccea1608daa",
       "version_major": 2,
       "version_minor": 0
      },
      "text/plain": [
       "HBox(children=(IntProgress(value=0, max=35971), HTML(value='')))"
      ]
     },
     "metadata": {},
     "output_type": "display_data"
    },
    {
     "name": "stdout",
     "output_type": "stream",
     "text": [
      "1059 (0.0034, 0, 1.5e-07, 9e-05, 221, True, 58, True, 16, 4.5e-05, 0.8, 21) score: 0.5323918848951052\n",
      "1059 (0.0034, 0, 1.5e-07, 9e-05, 221, True, 58, True, 16, 1e-05, 0.8, 21) score: 0.5324090588944728\n",
      "\n"
     ]
    },
    {
     "name": "stderr",
     "output_type": "stream",
     "text": [
      "/home/skooch/.local/lib/python3.5/site-packages/sklearn/externals/joblib/parallel.py:547: UserWarning: Multiprocessing-backed parallel loops cannot be nested, setting n_jobs=1\n",
      "  **self._backend_args)\n"
     ]
    },
    {
     "data": {
      "application/vnd.jupyter.widget-view+json": {
       "model_id": "97efe3c53d7a4570a550438b90dc3541",
       "version_major": 2,
       "version_minor": 0
      },
      "text/plain": [
       "HBox(children=(IntProgress(value=0, max=36323), HTML(value='')))"
      ]
     },
     "metadata": {},
     "output_type": "display_data"
    },
    {
     "name": "stdout",
     "output_type": "stream",
     "text": [
      "\n"
     ]
    },
    {
     "data": {
      "application/vnd.jupyter.widget-view+json": {
       "model_id": "f8e346a441d846709be2f3ec76043efa",
       "version_major": 2,
       "version_minor": 0
      },
      "text/plain": [
       "HBox(children=(IntProgress(value=0, max=36795), HTML(value='')))"
      ]
     },
     "metadata": {},
     "output_type": "display_data"
    },
    {
     "name": "stderr",
     "output_type": "stream",
     "text": [
      "/home/skooch/.local/lib/python3.5/site-packages/sklearn/externals/joblib/parallel.py:547: UserWarning: Multiprocessing-backed parallel loops cannot be nested, setting n_jobs=1\n",
      "  **self._backend_args)\n"
     ]
    },
    {
     "name": "stdout",
     "output_type": "stream",
     "text": [
      "1059 (0.0034, 0, 1.5e-07, 0.000655, 221, True, 81, True, 16, 1e-05, 0.8, 21) score: 0.537862413980065\n"
     ]
    },
    {
     "data": {
      "application/vnd.jupyter.widget-view+json": {
       "model_id": "fdc7389c14924653b9eaa9c66d40e8d9",
       "version_major": 2,
       "version_minor": 0
      },
      "text/plain": [
       "HBox(children=(IntProgress(value=0, max=35965), HTML(value='')))"
      ]
     },
     "metadata": {},
     "output_type": "display_data"
    },
    {
     "name": "stdout",
     "output_type": "stream",
     "text": [
      "\n",
      "1059 (0.0034, 0, 1.5e-07, 0.000655, 221, True, 58, True, 16, 1e-05, 0.8, 21) score: 0.5344946317384256\n"
     ]
    },
    {
     "name": "stderr",
     "output_type": "stream",
     "text": [
      "/home/skooch/.local/lib/python3.5/site-packages/sklearn/externals/joblib/parallel.py:547: UserWarning: Multiprocessing-backed parallel loops cannot be nested, setting n_jobs=1\n",
      "  **self._backend_args)\n"
     ]
    },
    {
     "name": "stdout",
     "output_type": "stream",
     "text": [
      "\n",
      "\n"
     ]
    },
    {
     "name": "stderr",
     "output_type": "stream",
     "text": [
      "/home/skooch/.local/lib/python3.5/site-packages/sklearn/externals/joblib/parallel.py:547: UserWarning: Multiprocessing-backed parallel loops cannot be nested, setting n_jobs=1\n",
      "  **self._backend_args)\n"
     ]
    },
    {
     "name": "stdout",
     "output_type": "stream",
     "text": [
      "1059 (0.0034, 0, 1.5e-07, 0.000655, 221, True, 81, True, 16, 4.5e-05, 0.8, 21) score: 0.5378136147498935\n"
     ]
    },
    {
     "name": "stderr",
     "output_type": "stream",
     "text": [
      "/home/skooch/.local/lib/python3.5/site-packages/sklearn/externals/joblib/parallel.py:547: UserWarning: Multiprocessing-backed parallel loops cannot be nested, setting n_jobs=1\n",
      "  **self._backend_args)\n"
     ]
    },
    {
     "name": "stdout",
     "output_type": "stream",
     "text": [
      "1059 (0.0034, 0, 1.5e-07, 9e-05, 221, True, 81, True, 16, 1e-05, 0.8, 21) score: 0.5315404500981913\n",
      "1059 (0.0034, 0, 1.5e-07, 0.000655, 221, True, 58, True, 16, 4.5e-05, 0.8, 21) score: 0.5342886016585453\n"
     ]
    },
    {
     "data": {
      "application/vnd.jupyter.widget-view+json": {
       "model_id": "ee8405c8ff224d0e8f977131c0ee535e",
       "version_major": 2,
       "version_minor": 0
      },
      "text/plain": [
       "HBox(children=(IntProgress(value=0, max=36745), HTML(value='')))"
      ]
     },
     "metadata": {},
     "output_type": "display_data"
    },
    {
     "data": {
      "application/vnd.jupyter.widget-view+json": {
       "model_id": "b47750272d484799b0727d33f1a3697a",
       "version_major": 2,
       "version_minor": 0
      },
      "text/plain": [
       "HBox(children=(IntProgress(value=0, max=36745), HTML(value='')))"
      ]
     },
     "metadata": {},
     "output_type": "display_data"
    },
    {
     "data": {
      "application/vnd.jupyter.widget-view+json": {
       "model_id": "cc42ed9605bd48a9ac3e0ad999140911",
       "version_major": 2,
       "version_minor": 0
      },
      "text/plain": [
       "HBox(children=(IntProgress(value=0, max=36192), HTML(value='')))"
      ]
     },
     "metadata": {},
     "output_type": "display_data"
    },
    {
     "data": {
      "application/vnd.jupyter.widget-view+json": {
       "model_id": "0d43d6a65fb04aabacfa674e6b4b451a",
       "version_major": 2,
       "version_minor": 0
      },
      "text/plain": [
       "HBox(children=(IntProgress(value=0, max=36321), HTML(value='')))"
      ]
     },
     "metadata": {},
     "output_type": "display_data"
    },
    {
     "name": "stdout",
     "output_type": "stream",
     "text": [
      "\n",
      "\n"
     ]
    },
    {
     "name": "stderr",
     "output_type": "stream",
     "text": [
      "/home/skooch/.local/lib/python3.5/site-packages/sklearn/externals/joblib/parallel.py:547: UserWarning: Multiprocessing-backed parallel loops cannot be nested, setting n_jobs=1\n",
      "  **self._backend_args)\n"
     ]
    },
    {
     "name": "stdout",
     "output_type": "stream",
     "text": [
      "\n"
     ]
    },
    {
     "data": {
      "application/vnd.jupyter.widget-view+json": {
       "model_id": "8e0e364c51f64764a01436a49cc9fed8",
       "version_major": 2,
       "version_minor": 0
      },
      "text/plain": [
       "HBox(children=(IntProgress(value=0, max=36195), HTML(value='')))"
      ]
     },
     "metadata": {},
     "output_type": "display_data"
    },
    {
     "name": "stderr",
     "output_type": "stream",
     "text": [
      "/home/skooch/.local/lib/python3.5/site-packages/sklearn/externals/joblib/parallel.py:547: UserWarning: Multiprocessing-backed parallel loops cannot be nested, setting n_jobs=1\n",
      "  **self._backend_args)\n"
     ]
    },
    {
     "name": "stdout",
     "output_type": "stream",
     "text": [
      "\n"
     ]
    },
    {
     "name": "stderr",
     "output_type": "stream",
     "text": [
      "/home/skooch/.local/lib/python3.5/site-packages/sklearn/externals/joblib/parallel.py:547: UserWarning: Multiprocessing-backed parallel loops cannot be nested, setting n_jobs=1\n",
      "  **self._backend_args)\n"
     ]
    },
    {
     "name": "stdout",
     "output_type": "stream",
     "text": [
      "1059 (0.0034, 0, 1.5e-07, 9e-05, 225, True, 81, True, 16, 4.5e-05, 0.8, 21) score: 0.5318731662371192\n"
     ]
    },
    {
     "name": "stderr",
     "output_type": "stream",
     "text": [
      "/home/skooch/.local/lib/python3.5/site-packages/sklearn/externals/joblib/parallel.py:547: UserWarning: Multiprocessing-backed parallel loops cannot be nested, setting n_jobs=1\n",
      "  **self._backend_args)\n"
     ]
    },
    {
     "name": "stdout",
     "output_type": "stream",
     "text": [
      "1059 (0.0034, 0, 1.5e-07, 9e-05, 225, True, 81, True, 16, 1e-05, 0.8, 21) score: 0.5319026838740228\n",
      "\n",
      "1059 (0.0034, 0, 1.5e-07, 9e-05, 225, True, 58, True, 16, 4.5e-05, 0.8, 21) score: 0.5324408992612462\n",
      "1059 (0.0034, 0, 1.5e-07, 0.000655, 225, True, 81, True, 16, 4.5e-05, 0.8, 21) score: 0.5374816017072135\n"
     ]
    },
    {
     "name": "stderr",
     "output_type": "stream",
     "text": [
      "/home/skooch/.local/lib/python3.5/site-packages/sklearn/externals/joblib/parallel.py:547: UserWarning: Multiprocessing-backed parallel loops cannot be nested, setting n_jobs=1\n",
      "  **self._backend_args)\n"
     ]
    },
    {
     "data": {
      "application/vnd.jupyter.widget-view+json": {
       "model_id": "7f4438c523f949518c21f41950e675d0",
       "version_major": 2,
       "version_minor": 0
      },
      "text/plain": [
       "HBox(children=(IntProgress(value=0, max=36319), HTML(value='')))"
      ]
     },
     "metadata": {},
     "output_type": "display_data"
    },
    {
     "data": {
      "application/vnd.jupyter.widget-view+json": {
       "model_id": "f89b8f3fe300409aa5b74029af4b01e0",
       "version_major": 2,
       "version_minor": 0
      },
      "text/plain": [
       "HBox(children=(IntProgress(value=0, max=36021), HTML(value='')))"
      ]
     },
     "metadata": {},
     "output_type": "display_data"
    },
    {
     "name": "stdout",
     "output_type": "stream",
     "text": [
      "1059 (0.0034, 0, 1.5e-07, 9e-05, 225, True, 58, True, 16, 1e-05, 0.8, 21) score: 0.5324580732606137\n",
      "\n",
      "\n"
     ]
    },
    {
     "data": {
      "application/vnd.jupyter.widget-view+json": {
       "model_id": "ceeabe2b1e8841c1b98a45514b77822f",
       "version_major": 2,
       "version_minor": 0
      },
      "text/plain": [
       "HBox(children=(IntProgress(value=0, max=36023), HTML(value='')))"
      ]
     },
     "metadata": {},
     "output_type": "display_data"
    },
    {
     "name": "stderr",
     "output_type": "stream",
     "text": [
      "/home/skooch/.local/lib/python3.5/site-packages/sklearn/externals/joblib/parallel.py:547: UserWarning: Multiprocessing-backed parallel loops cannot be nested, setting n_jobs=1\n",
      "  **self._backend_args)\n",
      "/home/skooch/.local/lib/python3.5/site-packages/sklearn/externals/joblib/parallel.py:547: UserWarning: Multiprocessing-backed parallel loops cannot be nested, setting n_jobs=1\n",
      "  **self._backend_args)\n"
     ]
    },
    {
     "name": "stdout",
     "output_type": "stream",
     "text": [
      "1059 (0.0034, 0, 1.5e-07, 0.000655, 225, True, 81, True, 16, 1e-05, 0.8, 21) score: 0.5374813548771726\n",
      "1059 (0.0034, 0, 1.5e-07, 0.000655, 225, True, 58, True, 16, 1e-05, 0.8, 21) score: 0.5342622733492135\n",
      "\n"
     ]
    },
    {
     "name": "stderr",
     "output_type": "stream",
     "text": [
      "/home/skooch/.local/lib/python3.5/site-packages/sklearn/externals/joblib/parallel.py:547: UserWarning: Multiprocessing-backed parallel loops cannot be nested, setting n_jobs=1\n",
      "  **self._backend_args)\n"
     ]
    },
    {
     "name": "stdout",
     "output_type": "stream",
     "text": [
      "1059 (0.0034, 0, 1.5e-07, 0.000655, 225, True, 58, True, 16, 4.5e-05, 0.8, 21) score: 0.5342419968089871\n"
     ]
    },
    {
     "data": {
      "application/vnd.jupyter.widget-view+json": {
       "model_id": "4eebba412e724e6bb07dc75a53bd7303",
       "version_major": 2,
       "version_minor": 0
      },
      "text/plain": [
       "HBox(children=(IntProgress(value=0, max=39201), HTML(value='')))"
      ]
     },
     "metadata": {},
     "output_type": "display_data"
    },
    {
     "name": "stdout",
     "output_type": "stream",
     "text": [
      "\n"
     ]
    },
    {
     "data": {
      "application/vnd.jupyter.widget-view+json": {
       "model_id": "3b6dd3280f7240e3924b04ff02a628d6",
       "version_major": 2,
       "version_minor": 0
      },
      "text/plain": [
       "HBox(children=(IntProgress(value=0, max=38596), HTML(value='')))"
      ]
     },
     "metadata": {},
     "output_type": "display_data"
    },
    {
     "data": {
      "application/vnd.jupyter.widget-view+json": {
       "model_id": "5d9a79d3338a49f69a7a8ce531e5339d",
       "version_major": 2,
       "version_minor": 0
      },
      "text/plain": [
       "HBox(children=(IntProgress(value=0, max=38594), HTML(value='')))"
      ]
     },
     "metadata": {},
     "output_type": "display_data"
    },
    {
     "name": "stderr",
     "output_type": "stream",
     "text": [
      "/home/skooch/.local/lib/python3.5/site-packages/sklearn/externals/joblib/parallel.py:547: UserWarning: Multiprocessing-backed parallel loops cannot be nested, setting n_jobs=1\n",
      "  **self._backend_args)\n"
     ]
    },
    {
     "name": "stdout",
     "output_type": "stream",
     "text": [
      "\n"
     ]
    },
    {
     "data": {
      "application/vnd.jupyter.widget-view+json": {
       "model_id": "b737ee3bd4bc4adeb18933b89d32b3dc",
       "version_major": 2,
       "version_minor": 0
      },
      "text/plain": [
       "HBox(children=(IntProgress(value=0, max=38410), HTML(value='')))"
      ]
     },
     "metadata": {},
     "output_type": "display_data"
    },
    {
     "data": {
      "application/vnd.jupyter.widget-view+json": {
       "model_id": "d57a2641ec4848ba831f91f810da39e5",
       "version_major": 2,
       "version_minor": 0
      },
      "text/plain": [
       "HBox(children=(IntProgress(value=0, max=38883), HTML(value='')))"
      ]
     },
     "metadata": {},
     "output_type": "display_data"
    },
    {
     "name": "stdout",
     "output_type": "stream",
     "text": [
      "1060 (0.0034, 0, 1.5e-07, 9e-05, 221, True, 81, True, 16, 4.5e-05, 0.8, 21) score: 0.5220377404616277\n",
      "\n"
     ]
    },
    {
     "name": "stderr",
     "output_type": "stream",
     "text": [
      "/home/skooch/.local/lib/python3.5/site-packages/sklearn/externals/joblib/parallel.py:547: UserWarning: Multiprocessing-backed parallel loops cannot be nested, setting n_jobs=1\n",
      "  **self._backend_args)\n"
     ]
    },
    {
     "name": "stdout",
     "output_type": "stream",
     "text": [
      "\n",
      "\n"
     ]
    },
    {
     "name": "stderr",
     "output_type": "stream",
     "text": [
      "/home/skooch/.local/lib/python3.5/site-packages/sklearn/externals/joblib/parallel.py:547: UserWarning: Multiprocessing-backed parallel loops cannot be nested, setting n_jobs=1\n",
      "  **self._backend_args)\n",
      "/home/skooch/.local/lib/python3.5/site-packages/sklearn/externals/joblib/parallel.py:547: UserWarning: Multiprocessing-backed parallel loops cannot be nested, setting n_jobs=1\n",
      "  **self._backend_args)\n"
     ]
    },
    {
     "name": "stdout",
     "output_type": "stream",
     "text": [
      "1060 (0.0034, 0, 1.5e-07, 9e-05, 221, True, 58, True, 16, 4.5e-05, 0.8, 21) score: 0.5243919036242045\n"
     ]
    },
    {
     "data": {
      "application/vnd.jupyter.widget-view+json": {
       "model_id": "a82d79f8516647a3abd1ad49a95f0c0e",
       "version_major": 2,
       "version_minor": 0
      },
      "text/plain": [
       "HBox(children=(IntProgress(value=0, max=39196), HTML(value='')))"
      ]
     },
     "metadata": {},
     "output_type": "display_data"
    },
    {
     "data": {
      "application/vnd.jupyter.widget-view+json": {
       "model_id": "0b875b104f8a4b86a83ac5e377a76bad",
       "version_major": 2,
       "version_minor": 0
      },
      "text/plain": [
       "HBox(children=(IntProgress(value=0, max=38410), HTML(value='')))"
      ]
     },
     "metadata": {},
     "output_type": "display_data"
    },
    {
     "data": {
      "application/vnd.jupyter.widget-view+json": {
       "model_id": "6c33b723a3634501abd77fc8e6b58995",
       "version_major": 2,
       "version_minor": 0
      },
      "text/plain": [
       "HBox(children=(IntProgress(value=0, max=38875), HTML(value='')))"
      ]
     },
     "metadata": {},
     "output_type": "display_data"
    },
    {
     "name": "stdout",
     "output_type": "stream",
     "text": [
      "1060 (0.0034, 0, 1.5e-07, 9e-05, 221, True, 58, True, 16, 1e-05, 0.8, 21) score: 0.5243584046764183\n",
      "1060 (0.0034, 0, 1.5e-07, 0.000655, 221, True, 58, True, 16, 1e-05, 0.8, 21) score: 0.5249164072530736\n"
     ]
    },
    {
     "name": "stderr",
     "output_type": "stream",
     "text": [
      "/home/skooch/.local/lib/python3.5/site-packages/sklearn/externals/joblib/parallel.py:547: UserWarning: Multiprocessing-backed parallel loops cannot be nested, setting n_jobs=1\n",
      "  **self._backend_args)\n"
     ]
    },
    {
     "name": "stdout",
     "output_type": "stream",
     "text": [
      "\n",
      "1060 (0.0034, 0, 1.5e-07, 0.000655, 221, True, 81, True, 16, 1e-05, 0.8, 21) score: 0.528490011545052\n",
      "\n",
      "\n"
     ]
    },
    {
     "name": "stderr",
     "output_type": "stream",
     "text": [
      "/home/skooch/.local/lib/python3.5/site-packages/sklearn/externals/joblib/parallel.py:547: UserWarning: Multiprocessing-backed parallel loops cannot be nested, setting n_jobs=1\n",
      "  **self._backend_args)\n",
      "/home/skooch/.local/lib/python3.5/site-packages/sklearn/externals/joblib/parallel.py:547: UserWarning: Multiprocessing-backed parallel loops cannot be nested, setting n_jobs=1\n",
      "  **self._backend_args)\n",
      "/home/skooch/.local/lib/python3.5/site-packages/sklearn/externals/joblib/parallel.py:547: UserWarning: Multiprocessing-backed parallel loops cannot be nested, setting n_jobs=1\n",
      "  **self._backend_args)\n"
     ]
    },
    {
     "name": "stdout",
     "output_type": "stream",
     "text": [
      "1060 (0.0034, 0, 1.5e-07, 0.000655, 221, True, 58, True, 16, 4.5e-05, 0.8, 21) score: 0.5249840955357601\n",
      "1060 (0.0034, 0, 1.5e-07, 9e-05, 221, True, 81, True, 16, 1e-05, 0.8, 21) score: 0.5220756075482368\n",
      "1060 (0.0034, 0, 1.5e-07, 0.000655, 221, True, 81, True, 16, 4.5e-05, 0.8, 21) score: 0.5285531546287356\n"
     ]
    },
    {
     "data": {
      "application/vnd.jupyter.widget-view+json": {
       "model_id": "8ecbd49fdbde41eaa432477bf6289837",
       "version_major": 2,
       "version_minor": 0
      },
      "text/plain": [
       "HBox(children=(IntProgress(value=0, max=39189), HTML(value='')))"
      ]
     },
     "metadata": {},
     "output_type": "display_data"
    },
    {
     "data": {
      "application/vnd.jupyter.widget-view+json": {
       "model_id": "2488d8e80edb4b85a7f2266b878e68dd",
       "version_major": 2,
       "version_minor": 0
      },
      "text/plain": [
       "HBox(children=(IntProgress(value=0, max=38606), HTML(value='')))"
      ]
     },
     "metadata": {},
     "output_type": "display_data"
    },
    {
     "data": {
      "application/vnd.jupyter.widget-view+json": {
       "model_id": "28ea84d5e6684eafb5d353ce2ecaaa56",
       "version_major": 2,
       "version_minor": 0
      },
      "text/plain": [
       "HBox(children=(IntProgress(value=0, max=39186), HTML(value='')))"
      ]
     },
     "metadata": {},
     "output_type": "display_data"
    },
    {
     "name": "stdout",
     "output_type": "stream",
     "text": [
      "\n"
     ]
    },
    {
     "data": {
      "application/vnd.jupyter.widget-view+json": {
       "model_id": "893f938f52cf42d9872600a0c842b978",
       "version_major": 2,
       "version_minor": 0
      },
      "text/plain": [
       "HBox(children=(IntProgress(value=0, max=38906), HTML(value='')))"
      ]
     },
     "metadata": {},
     "output_type": "display_data"
    },
    {
     "name": "stdout",
     "output_type": "stream",
     "text": [
      "\n",
      "\n"
     ]
    },
    {
     "data": {
      "application/vnd.jupyter.widget-view+json": {
       "model_id": "32a06b92b8534c08bebfaa96753ed532",
       "version_major": 2,
       "version_minor": 0
      },
      "text/plain": [
       "HBox(children=(IntProgress(value=0, max=38598), HTML(value='')))"
      ]
     },
     "metadata": {},
     "output_type": "display_data"
    },
    {
     "name": "stdout",
     "output_type": "stream",
     "text": [
      "\n"
     ]
    },
    {
     "name": "stderr",
     "output_type": "stream",
     "text": [
      "/home/skooch/.local/lib/python3.5/site-packages/sklearn/externals/joblib/parallel.py:547: UserWarning: Multiprocessing-backed parallel loops cannot be nested, setting n_jobs=1\n",
      "  **self._backend_args)\n"
     ]
    },
    {
     "name": "stdout",
     "output_type": "stream",
     "text": [
      "\n",
      "1060 (0.0034, 0, 1.5e-07, 9e-05, 225, True, 81, True, 16, 4.5e-05, 0.8, 21) score: 0.5226605346336677\n"
     ]
    },
    {
     "name": "stderr",
     "output_type": "stream",
     "text": [
      "/home/skooch/.local/lib/python3.5/site-packages/sklearn/externals/joblib/parallel.py:547: UserWarning: Multiprocessing-backed parallel loops cannot be nested, setting n_jobs=1\n",
      "  **self._backend_args)\n",
      "/home/skooch/.local/lib/python3.5/site-packages/sklearn/externals/joblib/parallel.py:547: UserWarning: Multiprocessing-backed parallel loops cannot be nested, setting n_jobs=1\n",
      "  **self._backend_args)\n",
      "/home/skooch/.local/lib/python3.5/site-packages/sklearn/externals/joblib/parallel.py:547: UserWarning: Multiprocessing-backed parallel loops cannot be nested, setting n_jobs=1\n",
      "  **self._backend_args)\n"
     ]
    },
    {
     "name": "stdout",
     "output_type": "stream",
     "text": [
      "1060 (0.0034, 0, 1.5e-07, 9e-05, 225, True, 58, True, 16, 4.5e-05, 0.8, 21) score: 0.5247566592532578\n",
      "1060 (0.0034, 0, 1.5e-07, 9e-05, 225, True, 81, True, 16, 1e-05, 0.8, 21) score: 0.522754409803414\n"
     ]
    },
    {
     "data": {
      "application/vnd.jupyter.widget-view+json": {
       "model_id": "d274bdcb492a42e6b3774071e33f9f59",
       "version_major": 2,
       "version_minor": 0
      },
      "text/plain": [
       "HBox(children=(IntProgress(value=0, max=38457), HTML(value='')))"
      ]
     },
     "metadata": {},
     "output_type": "display_data"
    },
    {
     "name": "stderr",
     "output_type": "stream",
     "text": [
      "/home/skooch/.local/lib/python3.5/site-packages/sklearn/externals/joblib/parallel.py:547: UserWarning: Multiprocessing-backed parallel loops cannot be nested, setting n_jobs=1\n",
      "  **self._backend_args)\n"
     ]
    },
    {
     "data": {
      "application/vnd.jupyter.widget-view+json": {
       "model_id": "028bc259cd0c425798eac84a107fa597",
       "version_major": 2,
       "version_minor": 0
      },
      "text/plain": [
       "HBox(children=(IntProgress(value=0, max=38905), HTML(value='')))"
      ]
     },
     "metadata": {},
     "output_type": "display_data"
    },
    {
     "name": "stdout",
     "output_type": "stream",
     "text": [
      "1060 (0.0034, 0, 1.5e-07, 0.000655, 225, True, 81, True, 16, 4.5e-05, 0.8, 21) score: 0.5289263722091277\n"
     ]
    },
    {
     "data": {
      "application/vnd.jupyter.widget-view+json": {
       "model_id": "4c9e81bf675a44fc9d9c92879d1626c9",
       "version_major": 2,
       "version_minor": 0
      },
      "text/plain": [
       "HBox(children=(IntProgress(value=0, max=38458), HTML(value='')))"
      ]
     },
     "metadata": {},
     "output_type": "display_data"
    },
    {
     "name": "stdout",
     "output_type": "stream",
     "text": [
      "1060 (0.0034, 0, 1.5e-07, 9e-05, 225, True, 58, True, 16, 1e-05, 0.8, 21) score: 0.5247231788668918\n",
      "\n",
      "\n"
     ]
    },
    {
     "name": "stderr",
     "output_type": "stream",
     "text": [
      "/home/skooch/.local/lib/python3.5/site-packages/sklearn/externals/joblib/parallel.py:547: UserWarning: Multiprocessing-backed parallel loops cannot be nested, setting n_jobs=1\n",
      "  **self._backend_args)\n"
     ]
    },
    {
     "name": "stdout",
     "output_type": "stream",
     "text": [
      "\n",
      "1060 (0.0034, 0, 1.5e-07, 0.000655, 225, True, 58, True, 16, 1e-05, 0.8, 21) score: 0.5254376945093377\n"
     ]
    },
    {
     "name": "stderr",
     "output_type": "stream",
     "text": [
      "/home/skooch/.local/lib/python3.5/site-packages/sklearn/externals/joblib/parallel.py:547: UserWarning: Multiprocessing-backed parallel loops cannot be nested, setting n_jobs=1\n",
      "  **self._backend_args)\n",
      "/home/skooch/.local/lib/python3.5/site-packages/sklearn/externals/joblib/parallel.py:547: UserWarning: Multiprocessing-backed parallel loops cannot be nested, setting n_jobs=1\n",
      "  **self._backend_args)\n"
     ]
    },
    {
     "name": "stdout",
     "output_type": "stream",
     "text": [
      "1060 (0.0034, 0, 1.5e-07, 0.000655, 225, True, 58, True, 16, 4.5e-05, 0.8, 21) score: 0.5254952316206882\n",
      "1060 (0.0034, 0, 1.5e-07, 0.000655, 225, True, 81, True, 16, 1e-05, 0.8, 21) score: 0.52905013753124\n"
     ]
    },
    {
     "data": {
      "application/vnd.jupyter.widget-view+json": {
       "model_id": "0c348ae027ef44e0bc7ee7c816dba03d",
       "version_major": 2,
       "version_minor": 0
      },
      "text/plain": [
       "HBox(children=(IntProgress(value=0, max=33882), HTML(value='')))"
      ]
     },
     "metadata": {},
     "output_type": "display_data"
    },
    {
     "name": "stdout",
     "output_type": "stream",
     "text": [
      "\n"
     ]
    },
    {
     "name": "stderr",
     "output_type": "stream",
     "text": [
      "/home/skooch/.local/lib/python3.5/site-packages/sklearn/externals/joblib/parallel.py:547: UserWarning: Multiprocessing-backed parallel loops cannot be nested, setting n_jobs=1\n",
      "  **self._backend_args)\n"
     ]
    },
    {
     "data": {
      "application/vnd.jupyter.widget-view+json": {
       "model_id": "1296fa2ff260460d857e116de27b187c",
       "version_major": 2,
       "version_minor": 0
      },
      "text/plain": [
       "HBox(children=(IntProgress(value=0, max=33369), HTML(value='')))"
      ]
     },
     "metadata": {},
     "output_type": "display_data"
    },
    {
     "name": "stdout",
     "output_type": "stream",
     "text": [
      "1061 (0.0034, 0, 1.5e-07, 9e-05, 221, True, 81, True, 16, 4.5e-05, 0.8, 21) score: 0.5258062078937655\n"
     ]
    },
    {
     "data": {
      "application/vnd.jupyter.widget-view+json": {
       "model_id": "7c7dd059643b4c469fb682d55d6bcd8d",
       "version_major": 2,
       "version_minor": 0
      },
      "text/plain": [
       "HBox(children=(IntProgress(value=0, max=33373), HTML(value='')))"
      ]
     },
     "metadata": {},
     "output_type": "display_data"
    },
    {
     "data": {
      "application/vnd.jupyter.widget-view+json": {
       "model_id": "1d8bd2515a2d40e5aac15a1270451688",
       "version_major": 2,
       "version_minor": 0
      },
      "text/plain": [
       "HBox(children=(IntProgress(value=0, max=33080), HTML(value='')))"
      ]
     },
     "metadata": {},
     "output_type": "display_data"
    },
    {
     "name": "stdout",
     "output_type": "stream",
     "text": [
      "\n",
      "\n"
     ]
    },
    {
     "name": "stderr",
     "output_type": "stream",
     "text": [
      "/home/skooch/.local/lib/python3.5/site-packages/sklearn/externals/joblib/parallel.py:547: UserWarning: Multiprocessing-backed parallel loops cannot be nested, setting n_jobs=1\n",
      "  **self._backend_args)\n"
     ]
    },
    {
     "name": "stdout",
     "output_type": "stream",
     "text": [
      "\n"
     ]
    },
    {
     "data": {
      "application/vnd.jupyter.widget-view+json": {
       "model_id": "ff84cd27895a4910b07ba758ce924442",
       "version_major": 2,
       "version_minor": 0
      },
      "text/plain": [
       "HBox(children=(IntProgress(value=0, max=33577), HTML(value='')))"
      ]
     },
     "metadata": {},
     "output_type": "display_data"
    },
    {
     "name": "stderr",
     "output_type": "stream",
     "text": [
      "/home/skooch/.local/lib/python3.5/site-packages/sklearn/externals/joblib/parallel.py:547: UserWarning: Multiprocessing-backed parallel loops cannot be nested, setting n_jobs=1\n",
      "  **self._backend_args)\n",
      "/home/skooch/.local/lib/python3.5/site-packages/sklearn/externals/joblib/parallel.py:547: UserWarning: Multiprocessing-backed parallel loops cannot be nested, setting n_jobs=1\n",
      "  **self._backend_args)\n"
     ]
    },
    {
     "name": "stdout",
     "output_type": "stream",
     "text": [
      "1061 (0.0034, 0, 1.5e-07, 9e-05, 221, True, 58, True, 16, 4.5e-05, 0.8, 21) score: 0.5280102287206319\n",
      "1061 (0.0034, 0, 1.5e-07, 9e-05, 221, True, 58, True, 16, 1e-05, 0.8, 21) score: 0.5279774452201309\n",
      "\n",
      "1061 (0.0034, 0, 1.5e-07, 0.000655, 221, True, 58, True, 16, 1e-05, 0.8, 21) score: 0.5327835876912559\n"
     ]
    },
    {
     "name": "stderr",
     "output_type": "stream",
     "text": [
      "/home/skooch/.local/lib/python3.5/site-packages/sklearn/externals/joblib/parallel.py:547: UserWarning: Multiprocessing-backed parallel loops cannot be nested, setting n_jobs=1\n",
      "  **self._backend_args)\n"
     ]
    },
    {
     "data": {
      "application/vnd.jupyter.widget-view+json": {
       "model_id": "60f39c9c25b44861b7dbea29c2313374",
       "version_major": 2,
       "version_minor": 0
      },
      "text/plain": [
       "HBox(children=(IntProgress(value=0, max=33071), HTML(value='')))"
      ]
     },
     "metadata": {},
     "output_type": "display_data"
    },
    {
     "data": {
      "application/vnd.jupyter.widget-view+json": {
       "model_id": "b28697774d8a4317af9609e2f97049dd",
       "version_major": 2,
       "version_minor": 0
      },
      "text/plain": [
       "HBox(children=(IntProgress(value=0, max=33576), HTML(value='')))"
      ]
     },
     "metadata": {},
     "output_type": "display_data"
    },
    {
     "name": "stdout",
     "output_type": "stream",
     "text": [
      "1061 (0.0034, 0, 1.5e-07, 0.000655, 221, True, 81, True, 16, 1e-05, 0.8, 21) score: 0.5338351610910195\n"
     ]
    },
    {
     "data": {
      "application/vnd.jupyter.widget-view+json": {
       "model_id": "75aead60d9484a828c5390543c14474c",
       "version_major": 2,
       "version_minor": 0
      },
      "text/plain": [
       "HBox(children=(IntProgress(value=0, max=33881), HTML(value='')))"
      ]
     },
     "metadata": {},
     "output_type": "display_data"
    },
    {
     "name": "stdout",
     "output_type": "stream",
     "text": [
      "\n",
      "\n"
     ]
    },
    {
     "name": "stderr",
     "output_type": "stream",
     "text": [
      "/home/skooch/.local/lib/python3.5/site-packages/sklearn/externals/joblib/parallel.py:547: UserWarning: Multiprocessing-backed parallel loops cannot be nested, setting n_jobs=1\n",
      "  **self._backend_args)\n"
     ]
    },
    {
     "name": "stdout",
     "output_type": "stream",
     "text": [
      "\n"
     ]
    },
    {
     "name": "stderr",
     "output_type": "stream",
     "text": [
      "/home/skooch/.local/lib/python3.5/site-packages/sklearn/externals/joblib/parallel.py:547: UserWarning: Multiprocessing-backed parallel loops cannot be nested, setting n_jobs=1\n",
      "  **self._backend_args)\n"
     ]
    },
    {
     "name": "stdout",
     "output_type": "stream",
     "text": [
      "1061 (0.0034, 0, 1.5e-07, 0.000655, 221, True, 58, True, 16, 4.5e-05, 0.8, 21) score: 0.5328432415619773\n"
     ]
    },
    {
     "name": "stderr",
     "output_type": "stream",
     "text": [
      "/home/skooch/.local/lib/python3.5/site-packages/sklearn/externals/joblib/parallel.py:547: UserWarning: Multiprocessing-backed parallel loops cannot be nested, setting n_jobs=1\n",
      "  **self._backend_args)\n"
     ]
    },
    {
     "name": "stdout",
     "output_type": "stream",
     "text": [
      "1061 (0.0034, 0, 1.5e-07, 0.000655, 221, True, 81, True, 16, 4.5e-05, 0.8, 21) score: 0.5339606847498999\n",
      "1061 (0.0034, 0, 1.5e-07, 9e-05, 221, True, 81, True, 16, 1e-05, 0.8, 21) score: 0.5257549713742264\n"
     ]
    },
    {
     "data": {
      "application/vnd.jupyter.widget-view+json": {
       "model_id": "a05ca0d597a541a293bcb104aa733700",
       "version_major": 2,
       "version_minor": 0
      },
      "text/plain": [
       "HBox(children=(IntProgress(value=0, max=33895), HTML(value='')))"
      ]
     },
     "metadata": {},
     "output_type": "display_data"
    },
    {
     "data": {
      "application/vnd.jupyter.widget-view+json": {
       "model_id": "7fb411f2c68f4f99a073902cbc757ea2",
       "version_major": 2,
       "version_minor": 0
      },
      "text/plain": [
       "HBox(children=(IntProgress(value=0, max=33894), HTML(value='')))"
      ]
     },
     "metadata": {},
     "output_type": "display_data"
    },
    {
     "data": {
      "application/vnd.jupyter.widget-view+json": {
       "model_id": "df4715e4ee044be8b709d7fdd819908c",
       "version_major": 2,
       "version_minor": 0
      },
      "text/plain": [
       "HBox(children=(IntProgress(value=0, max=33547), HTML(value='')))"
      ]
     },
     "metadata": {},
     "output_type": "display_data"
    },
    {
     "name": "stdout",
     "output_type": "stream",
     "text": [
      "\n"
     ]
    },
    {
     "data": {
      "application/vnd.jupyter.widget-view+json": {
       "model_id": "3268f99ca67b48dc9b15b5d4de41542e",
       "version_major": 2,
       "version_minor": 0
      },
      "text/plain": [
       "HBox(children=(IntProgress(value=0, max=33365), HTML(value='')))"
      ]
     },
     "metadata": {},
     "output_type": "display_data"
    },
    {
     "name": "stderr",
     "output_type": "stream",
     "text": [
      "/home/skooch/.local/lib/python3.5/site-packages/sklearn/externals/joblib/parallel.py:547: UserWarning: Multiprocessing-backed parallel loops cannot be nested, setting n_jobs=1\n",
      "  **self._backend_args)\n"
     ]
    },
    {
     "name": "stdout",
     "output_type": "stream",
     "text": [
      "\n",
      "\n"
     ]
    },
    {
     "name": "stderr",
     "output_type": "stream",
     "text": [
      "/home/skooch/.local/lib/python3.5/site-packages/sklearn/externals/joblib/parallel.py:547: UserWarning: Multiprocessing-backed parallel loops cannot be nested, setting n_jobs=1\n",
      "  **self._backend_args)\n",
      "/home/skooch/.local/lib/python3.5/site-packages/sklearn/externals/joblib/parallel.py:547: UserWarning: Multiprocessing-backed parallel loops cannot be nested, setting n_jobs=1\n",
      "  **self._backend_args)\n"
     ]
    },
    {
     "name": "stdout",
     "output_type": "stream",
     "text": [
      "1061 (0.0034, 0, 1.5e-07, 9e-05, 225, True, 81, True, 16, 4.5e-05, 0.8, 21) score: 0.5268603312820233\n",
      "\n",
      "1061 (0.0034, 0, 1.5e-07, 9e-05, 225, True, 81, True, 16, 1e-05, 0.8, 21) score: 0.5268621967315994\n"
     ]
    },
    {
     "data": {
      "application/vnd.jupyter.widget-view+json": {
       "model_id": "6c44e8b7c6714dafbe8743efe1df4428",
       "version_major": 2,
       "version_minor": 0
      },
      "text/plain": [
       "HBox(children=(IntProgress(value=0, max=33368), HTML(value='')))"
      ]
     },
     "metadata": {},
     "output_type": "display_data"
    },
    {
     "name": "stdout",
     "output_type": "stream",
     "text": [
      "1061 (0.0034, 0, 1.5e-07, 0.000655, 225, True, 81, True, 16, 4.5e-05, 0.8, 21) score: 0.5343781885264889\n"
     ]
    },
    {
     "name": "stderr",
     "output_type": "stream",
     "text": [
      "/home/skooch/.local/lib/python3.5/site-packages/sklearn/externals/joblib/parallel.py:547: UserWarning: Multiprocessing-backed parallel loops cannot be nested, setting n_jobs=1\n",
      "  **self._backend_args)\n"
     ]
    },
    {
     "name": "stdout",
     "output_type": "stream",
     "text": [
      "1061 (0.0034, 0, 1.5e-07, 9e-05, 225, True, 58, True, 16, 4.5e-05, 0.8, 21) score: 0.528139356097654\n",
      "\n"
     ]
    },
    {
     "data": {
      "application/vnd.jupyter.widget-view+json": {
       "model_id": "1192ccd4dee143b1bce53715efcf4274",
       "version_major": 2,
       "version_minor": 0
      },
      "text/plain": [
       "HBox(children=(IntProgress(value=0, max=33083), HTML(value='')))"
      ]
     },
     "metadata": {},
     "output_type": "display_data"
    },
    {
     "name": "stderr",
     "output_type": "stream",
     "text": [
      "/home/skooch/.local/lib/python3.5/site-packages/sklearn/externals/joblib/parallel.py:547: UserWarning: Multiprocessing-backed parallel loops cannot be nested, setting n_jobs=1\n",
      "  **self._backend_args)\n"
     ]
    },
    {
     "data": {
      "application/vnd.jupyter.widget-view+json": {
       "model_id": "2868e62c42bf4c4393f16cf63ef605a5",
       "version_major": 2,
       "version_minor": 0
      },
      "text/plain": [
       "HBox(children=(IntProgress(value=0, max=33080), HTML(value='')))"
      ]
     },
     "metadata": {},
     "output_type": "display_data"
    },
    {
     "name": "stdout",
     "output_type": "stream",
     "text": [
      "1061 (0.0034, 0, 1.5e-07, 9e-05, 225, True, 58, True, 16, 1e-05, 0.8, 21) score: 0.528106572597153\n",
      "\n"
     ]
    },
    {
     "data": {
      "application/vnd.jupyter.widget-view+json": {
       "model_id": "fd255ff8a2354913a2e8214fe55a504e",
       "version_major": 2,
       "version_minor": 0
      },
      "text/plain": [
       "HBox(children=(IntProgress(value=0, max=33552), HTML(value='')))"
      ]
     },
     "metadata": {},
     "output_type": "display_data"
    },
    {
     "name": "stderr",
     "output_type": "stream",
     "text": [
      "/home/skooch/.local/lib/python3.5/site-packages/sklearn/externals/joblib/parallel.py:547: UserWarning: Multiprocessing-backed parallel loops cannot be nested, setting n_jobs=1\n",
      "  **self._backend_args)\n"
     ]
    },
    {
     "name": "stdout",
     "output_type": "stream",
     "text": [
      "\n"
     ]
    },
    {
     "name": "stderr",
     "output_type": "stream",
     "text": [
      "/home/skooch/.local/lib/python3.5/site-packages/sklearn/externals/joblib/parallel.py:547: UserWarning: Multiprocessing-backed parallel loops cannot be nested, setting n_jobs=1\n",
      "  **self._backend_args)\n"
     ]
    },
    {
     "name": "stdout",
     "output_type": "stream",
     "text": [
      "1061 (0.0034, 0, 1.5e-07, 0.000655, 225, True, 58, True, 16, 1e-05, 0.8, 21) score: 0.5330792469833341\n",
      "\n",
      "1061 (0.0034, 0, 1.5e-07, 0.000655, 225, True, 58, True, 16, 4.5e-05, 0.8, 21) score: 0.5330719264231902\n"
     ]
    },
    {
     "name": "stderr",
     "output_type": "stream",
     "text": [
      "/home/skooch/.local/lib/python3.5/site-packages/sklearn/externals/joblib/parallel.py:547: UserWarning: Multiprocessing-backed parallel loops cannot be nested, setting n_jobs=1\n",
      "  **self._backend_args)\n"
     ]
    },
    {
     "name": "stdout",
     "output_type": "stream",
     "text": [
      "1061 (0.0034, 0, 1.5e-07, 0.000655, 225, True, 81, True, 16, 1e-05, 0.8, 21) score: 0.5343828433062754\n"
     ]
    },
    {
     "data": {
      "application/vnd.jupyter.widget-view+json": {
       "model_id": "7fa6fbd8770a4290b871f5f660e8e59c",
       "version_major": 2,
       "version_minor": 0
      },
      "text/plain": [
       "HBox(children=(IntProgress(value=0, max=28114), HTML(value='')))"
      ]
     },
     "metadata": {},
     "output_type": "display_data"
    },
    {
     "name": "stdout",
     "output_type": "stream",
     "text": [
      "\n"
     ]
    },
    {
     "name": "stderr",
     "output_type": "stream",
     "text": [
      "/home/skooch/.local/lib/python3.5/site-packages/sklearn/externals/joblib/parallel.py:547: UserWarning: Multiprocessing-backed parallel loops cannot be nested, setting n_jobs=1\n",
      "  **self._backend_args)\n"
     ]
    },
    {
     "name": "stdout",
     "output_type": "stream",
     "text": [
      "1062 (0.0034, 0, 1.5e-07, 9e-05, 221, True, 81, True, 16, 4.5e-05, 0.8, 21) score: 0.5341177509909523\n"
     ]
    },
    {
     "data": {
      "application/vnd.jupyter.widget-view+json": {
       "model_id": "4fb957567847466a8e2cb31df19fda6f",
       "version_major": 2,
       "version_minor": 0
      },
      "text/plain": [
       "HBox(children=(IntProgress(value=0, max=27698), HTML(value='')))"
      ]
     },
     "metadata": {},
     "output_type": "display_data"
    },
    {
     "data": {
      "application/vnd.jupyter.widget-view+json": {
       "model_id": "a6afab2533704aa0b2d3fbe2d5a186a2",
       "version_major": 2,
       "version_minor": 0
      },
      "text/plain": [
       "HBox(children=(IntProgress(value=0, max=27701), HTML(value='')))"
      ]
     },
     "metadata": {},
     "output_type": "display_data"
    },
    {
     "data": {
      "application/vnd.jupyter.widget-view+json": {
       "model_id": "dc9122044b2745918b49931074ec87e7",
       "version_major": 2,
       "version_minor": 0
      },
      "text/plain": [
       "HBox(children=(IntProgress(value=0, max=27462), HTML(value='')))"
      ]
     },
     "metadata": {},
     "output_type": "display_data"
    },
    {
     "name": "stdout",
     "output_type": "stream",
     "text": [
      "\n",
      "\n"
     ]
    },
    {
     "name": "stderr",
     "output_type": "stream",
     "text": [
      "/home/skooch/.local/lib/python3.5/site-packages/sklearn/externals/joblib/parallel.py:547: UserWarning: Multiprocessing-backed parallel loops cannot be nested, setting n_jobs=1\n",
      "  **self._backend_args)\n"
     ]
    },
    {
     "data": {
      "application/vnd.jupyter.widget-view+json": {
       "model_id": "b12a62e1b4684b078fdce6ca92c8cb54",
       "version_major": 2,
       "version_minor": 0
      },
      "text/plain": [
       "HBox(children=(IntProgress(value=0, max=27840), HTML(value='')))"
      ]
     },
     "metadata": {},
     "output_type": "display_data"
    },
    {
     "name": "stdout",
     "output_type": "stream",
     "text": [
      "\n"
     ]
    },
    {
     "name": "stderr",
     "output_type": "stream",
     "text": [
      "/home/skooch/.local/lib/python3.5/site-packages/sklearn/externals/joblib/parallel.py:547: UserWarning: Multiprocessing-backed parallel loops cannot be nested, setting n_jobs=1\n",
      "  **self._backend_args)\n",
      "/home/skooch/.local/lib/python3.5/site-packages/sklearn/externals/joblib/parallel.py:547: UserWarning: Multiprocessing-backed parallel loops cannot be nested, setting n_jobs=1\n",
      "  **self._backend_args)\n"
     ]
    },
    {
     "name": "stdout",
     "output_type": "stream",
     "text": [
      "1062 (0.0034, 0, 1.5e-07, 9e-05, 221, True, 58, True, 16, 1e-05, 0.8, 21) score: 0.5427024438316996\n",
      "1062 (0.0034, 0, 1.5e-07, 9e-05, 221, True, 58, True, 16, 4.5e-05, 0.8, 21) score: 0.5425990869452585\n",
      "\n",
      "1062 (0.0034, 0, 1.5e-07, 0.000655, 221, True, 58, True, 16, 1e-05, 0.8, 21) score: 0.5502054208850269\n"
     ]
    },
    {
     "name": "stderr",
     "output_type": "stream",
     "text": [
      "/home/skooch/.local/lib/python3.5/site-packages/sklearn/externals/joblib/parallel.py:547: UserWarning: Multiprocessing-backed parallel loops cannot be nested, setting n_jobs=1\n",
      "  **self._backend_args)\n"
     ]
    },
    {
     "name": "stdout",
     "output_type": "stream",
     "text": [
      "1062 (0.0034, 0, 1.5e-07, 0.000655, 221, True, 81, True, 16, 1e-05, 0.8, 21) score: 0.545248332113452\n"
     ]
    },
    {
     "data": {
      "application/vnd.jupyter.widget-view+json": {
       "model_id": "afc4f972549648b88b84c3a555b4d491",
       "version_major": 2,
       "version_minor": 0
      },
      "text/plain": [
       "HBox(children=(IntProgress(value=0, max=27836), HTML(value='')))"
      ]
     },
     "metadata": {},
     "output_type": "display_data"
    },
    {
     "data": {
      "application/vnd.jupyter.widget-view+json": {
       "model_id": "2fb166c442344c2bbb80f497c3c43280",
       "version_major": 2,
       "version_minor": 0
      },
      "text/plain": [
       "HBox(children=(IntProgress(value=0, max=28116), HTML(value='')))"
      ]
     },
     "metadata": {},
     "output_type": "display_data"
    },
    {
     "data": {
      "application/vnd.jupyter.widget-view+json": {
       "model_id": "cb32ce3ee79f46168643632e4c45b34e",
       "version_major": 2,
       "version_minor": 0
      },
      "text/plain": [
       "HBox(children=(IntProgress(value=0, max=27466), HTML(value='')))"
      ]
     },
     "metadata": {},
     "output_type": "display_data"
    },
    {
     "name": "stdout",
     "output_type": "stream",
     "text": [
      "\n",
      "\n",
      "\n"
     ]
    },
    {
     "name": "stderr",
     "output_type": "stream",
     "text": [
      "/home/skooch/.local/lib/python3.5/site-packages/sklearn/externals/joblib/parallel.py:547: UserWarning: Multiprocessing-backed parallel loops cannot be nested, setting n_jobs=1\n",
      "  **self._backend_args)\n",
      "/home/skooch/.local/lib/python3.5/site-packages/sklearn/externals/joblib/parallel.py:547: UserWarning: Multiprocessing-backed parallel loops cannot be nested, setting n_jobs=1\n",
      "  **self._backend_args)\n",
      "/home/skooch/.local/lib/python3.5/site-packages/sklearn/externals/joblib/parallel.py:547: UserWarning: Multiprocessing-backed parallel loops cannot be nested, setting n_jobs=1\n",
      "  **self._backend_args)\n"
     ]
    },
    {
     "name": "stdout",
     "output_type": "stream",
     "text": [
      "1062 (0.0034, 0, 1.5e-07, 0.000655, 221, True, 81, True, 16, 4.5e-05, 0.8, 21) score: 0.545248332113452\n",
      "1062 (0.0034, 0, 1.5e-07, 0.000655, 221, True, 58, True, 16, 4.5e-05, 0.8, 21) score: 0.5501966364159911\n",
      "1062 (0.0034, 0, 1.5e-07, 9e-05, 221, True, 81, True, 16, 1e-05, 0.8, 21) score: 0.5341277349496609\n"
     ]
    },
    {
     "data": {
      "application/vnd.jupyter.widget-view+json": {
       "model_id": "3090ef4ff8b04b2ca85caa030901060e",
       "version_major": 2,
       "version_minor": 0
      },
      "text/plain": [
       "HBox(children=(IntProgress(value=0, max=28081), HTML(value='')))"
      ]
     },
     "metadata": {},
     "output_type": "display_data"
    },
    {
     "data": {
      "application/vnd.jupyter.widget-view+json": {
       "model_id": "aa4e7f126deb4082b417ef3c44223e3e",
       "version_major": 2,
       "version_minor": 0
      },
      "text/plain": [
       "HBox(children=(IntProgress(value=0, max=27837), HTML(value='')))"
      ]
     },
     "metadata": {},
     "output_type": "display_data"
    },
    {
     "data": {
      "application/vnd.jupyter.widget-view+json": {
       "model_id": "ea667c6f32664c759f7730215993135e",
       "version_major": 2,
       "version_minor": 0
      },
      "text/plain": [
       "HBox(children=(IntProgress(value=0, max=28077), HTML(value='')))"
      ]
     },
     "metadata": {},
     "output_type": "display_data"
    },
    {
     "name": "stdout",
     "output_type": "stream",
     "text": [
      "\n",
      "\n",
      "\n"
     ]
    },
    {
     "name": "stderr",
     "output_type": "stream",
     "text": [
      "/home/skooch/.local/lib/python3.5/site-packages/sklearn/externals/joblib/parallel.py:547: UserWarning: Multiprocessing-backed parallel loops cannot be nested, setting n_jobs=1\n",
      "  **self._backend_args)\n"
     ]
    },
    {
     "data": {
      "application/vnd.jupyter.widget-view+json": {
       "model_id": "006bd18cbad04c9090d5ee92025eb3b2",
       "version_major": 2,
       "version_minor": 0
      },
      "text/plain": [
       "HBox(children=(IntProgress(value=0, max=27676), HTML(value='')))"
      ]
     },
     "metadata": {},
     "output_type": "display_data"
    },
    {
     "name": "stderr",
     "output_type": "stream",
     "text": [
      "/home/skooch/.local/lib/python3.5/site-packages/sklearn/externals/joblib/parallel.py:547: UserWarning: Multiprocessing-backed parallel loops cannot be nested, setting n_jobs=1\n",
      "  **self._backend_args)\n",
      "/home/skooch/.local/lib/python3.5/site-packages/sklearn/externals/joblib/parallel.py:547: UserWarning: Multiprocessing-backed parallel loops cannot be nested, setting n_jobs=1\n",
      "  **self._backend_args)\n"
     ]
    },
    {
     "name": "stdout",
     "output_type": "stream",
     "text": [
      "1062 (0.0034, 0, 1.5e-07, 9e-05, 225, True, 81, True, 16, 1e-05, 0.8, 21) score: 0.5339920608504076\n",
      "1062 (0.0034, 0, 1.5e-07, 0.000655, 225, True, 81, True, 16, 4.5e-05, 0.8, 21) score: 0.545626088410879\n",
      "1062 (0.0034, 0, 1.5e-07, 9e-05, 225, True, 81, True, 16, 4.5e-05, 0.8, 21) score: 0.5339281792884919\n",
      "\n"
     ]
    },
    {
     "name": "stderr",
     "output_type": "stream",
     "text": [
      "/home/skooch/.local/lib/python3.5/site-packages/sklearn/externals/joblib/parallel.py:547: UserWarning: Multiprocessing-backed parallel loops cannot be nested, setting n_jobs=1\n",
      "  **self._backend_args)\n"
     ]
    },
    {
     "data": {
      "application/vnd.jupyter.widget-view+json": {
       "model_id": "66b5cd164b32462ba2c1a6c7af30d230",
       "version_major": 2,
       "version_minor": 0
      },
      "text/plain": [
       "HBox(children=(IntProgress(value=0, max=27674), HTML(value='')))"
      ]
     },
     "metadata": {},
     "output_type": "display_data"
    },
    {
     "name": "stdout",
     "output_type": "stream",
     "text": [
      "1062 (0.0034, 0, 1.5e-07, 9e-05, 225, True, 58, True, 16, 4.5e-05, 0.8, 21) score: 0.5430020468999244\n",
      "\n"
     ]
    },
    {
     "name": "stderr",
     "output_type": "stream",
     "text": [
      "/home/skooch/.local/lib/python3.5/site-packages/sklearn/externals/joblib/parallel.py:547: UserWarning: Multiprocessing-backed parallel loops cannot be nested, setting n_jobs=1\n",
      "  **self._backend_args)\n"
     ]
    },
    {
     "data": {
      "application/vnd.jupyter.widget-view+json": {
       "model_id": "ad3ccd9474494bb1aee29b8918b72598",
       "version_major": 2,
       "version_minor": 0
      },
      "text/plain": [
       "HBox(children=(IntProgress(value=0, max=27487), HTML(value='')))"
      ]
     },
     "metadata": {},
     "output_type": "display_data"
    },
    {
     "name": "stdout",
     "output_type": "stream",
     "text": [
      "1062 (0.0034, 0, 1.5e-07, 9e-05, 225, True, 58, True, 16, 1e-05, 0.8, 21) score: 0.5431503495830815\n"
     ]
    },
    {
     "data": {
      "application/vnd.jupyter.widget-view+json": {
       "model_id": "3832e52a4f724f299079bebd4e5f2641",
       "version_major": 2,
       "version_minor": 0
      },
      "text/plain": [
       "HBox(children=(IntProgress(value=0, max=27484), HTML(value='')))"
      ]
     },
     "metadata": {},
     "output_type": "display_data"
    },
    {
     "name": "stdout",
     "output_type": "stream",
     "text": [
      "\n"
     ]
    },
    {
     "name": "stderr",
     "output_type": "stream",
     "text": [
      "/home/skooch/.local/lib/python3.5/site-packages/sklearn/externals/joblib/parallel.py:547: UserWarning: Multiprocessing-backed parallel loops cannot be nested, setting n_jobs=1\n",
      "  **self._backend_args)\n"
     ]
    },
    {
     "name": "stdout",
     "output_type": "stream",
     "text": [
      "\n"
     ]
    },
    {
     "data": {
      "application/vnd.jupyter.widget-view+json": {
       "model_id": "9cf8a97f698440e89a190e3d8740db8f",
       "version_major": 2,
       "version_minor": 0
      },
      "text/plain": [
       "HBox(children=(IntProgress(value=0, max=27837), HTML(value='')))"
      ]
     },
     "metadata": {},
     "output_type": "display_data"
    },
    {
     "name": "stdout",
     "output_type": "stream",
     "text": [
      "1062 (0.0034, 0, 1.5e-07, 0.000655, 225, True, 58, True, 16, 1e-05, 0.8, 21) score: 0.5505053589287505\n"
     ]
    },
    {
     "name": "stderr",
     "output_type": "stream",
     "text": [
      "/home/skooch/.local/lib/python3.5/site-packages/sklearn/externals/joblib/parallel.py:547: UserWarning: Multiprocessing-backed parallel loops cannot be nested, setting n_jobs=1\n",
      "  **self._backend_args)\n"
     ]
    },
    {
     "name": "stdout",
     "output_type": "stream",
     "text": [
      "\n",
      "1062 (0.0034, 0, 1.5e-07, 0.000655, 225, True, 58, True, 16, 4.5e-05, 0.8, 21) score: 0.550392259342503\n"
     ]
    },
    {
     "name": "stderr",
     "output_type": "stream",
     "text": [
      "/home/skooch/.local/lib/python3.5/site-packages/sklearn/externals/joblib/parallel.py:547: UserWarning: Multiprocessing-backed parallel loops cannot be nested, setting n_jobs=1\n",
      "  **self._backend_args)\n"
     ]
    },
    {
     "name": "stdout",
     "output_type": "stream",
     "text": [
      "1062 (0.0034, 0, 1.5e-07, 0.000655, 225, True, 81, True, 16, 1e-05, 0.8, 21) score: 0.5455930367052402\n"
     ]
    },
    {
     "data": {
      "application/vnd.jupyter.widget-view+json": {
       "model_id": "d3ea28e5323e412aa13bc02645574e82",
       "version_major": 2,
       "version_minor": 0
      },
      "text/plain": [
       "HBox(children=(IntProgress(value=0, max=33753), HTML(value='')))"
      ]
     },
     "metadata": {},
     "output_type": "display_data"
    },
    {
     "name": "stdout",
     "output_type": "stream",
     "text": [
      "\n"
     ]
    },
    {
     "name": "stderr",
     "output_type": "stream",
     "text": [
      "/home/skooch/.local/lib/python3.5/site-packages/sklearn/externals/joblib/parallel.py:547: UserWarning: Multiprocessing-backed parallel loops cannot be nested, setting n_jobs=1\n",
      "  **self._backend_args)\n"
     ]
    },
    {
     "name": "stdout",
     "output_type": "stream",
     "text": [
      "1063 (0.0034, 0, 1.5e-07, 9e-05, 221, True, 81, True, 16, 4.5e-05, 0.8, 21) score: 0.5247482003910591\n"
     ]
    },
    {
     "data": {
      "application/vnd.jupyter.widget-view+json": {
       "model_id": "242ccceec7454118a9ac09a5b39238ad",
       "version_major": 2,
       "version_minor": 0
      },
      "text/plain": [
       "HBox(children=(IntProgress(value=0, max=33233), HTML(value='')))"
      ]
     },
     "metadata": {},
     "output_type": "display_data"
    },
    {
     "data": {
      "application/vnd.jupyter.widget-view+json": {
       "model_id": "f63b435914ce443eb5c0d1c7fc4d2987",
       "version_major": 2,
       "version_minor": 0
      },
      "text/plain": [
       "HBox(children=(IntProgress(value=0, max=33233), HTML(value='')))"
      ]
     },
     "metadata": {},
     "output_type": "display_data"
    },
    {
     "data": {
      "application/vnd.jupyter.widget-view+json": {
       "model_id": "335359ad86d84934bcdfb13da14271a2",
       "version_major": 2,
       "version_minor": 0
      },
      "text/plain": [
       "HBox(children=(IntProgress(value=0, max=33044), HTML(value='')))"
      ]
     },
     "metadata": {},
     "output_type": "display_data"
    },
    {
     "name": "stdout",
     "output_type": "stream",
     "text": [
      "\n",
      "\n"
     ]
    },
    {
     "name": "stderr",
     "output_type": "stream",
     "text": [
      "/home/skooch/.local/lib/python3.5/site-packages/sklearn/externals/joblib/parallel.py:547: UserWarning: Multiprocessing-backed parallel loops cannot be nested, setting n_jobs=1\n",
      "  **self._backend_args)\n"
     ]
    },
    {
     "data": {
      "application/vnd.jupyter.widget-view+json": {
       "model_id": "0bb606b7e64b41a98c3b60dedbdda667",
       "version_major": 2,
       "version_minor": 0
      },
      "text/plain": [
       "HBox(children=(IntProgress(value=0, max=33454), HTML(value='')))"
      ]
     },
     "metadata": {},
     "output_type": "display_data"
    },
    {
     "name": "stderr",
     "output_type": "stream",
     "text": [
      "/home/skooch/.local/lib/python3.5/site-packages/sklearn/externals/joblib/parallel.py:547: UserWarning: Multiprocessing-backed parallel loops cannot be nested, setting n_jobs=1\n",
      "  **self._backend_args)\n"
     ]
    },
    {
     "name": "stdout",
     "output_type": "stream",
     "text": [
      "\n",
      "1063 (0.0034, 0, 1.5e-07, 9e-05, 221, True, 58, True, 16, 1e-05, 0.8, 21) score: 0.5304870559180017\n"
     ]
    },
    {
     "name": "stderr",
     "output_type": "stream",
     "text": [
      "/home/skooch/.local/lib/python3.5/site-packages/sklearn/externals/joblib/parallel.py:547: UserWarning: Multiprocessing-backed parallel loops cannot be nested, setting n_jobs=1\n",
      "  **self._backend_args)\n"
     ]
    },
    {
     "name": "stdout",
     "output_type": "stream",
     "text": [
      "1063 (0.0034, 0, 1.5e-07, 9e-05, 221, True, 58, True, 16, 4.5e-05, 0.8, 21) score: 0.5305418873385861\n",
      "\n"
     ]
    },
    {
     "name": "stderr",
     "output_type": "stream",
     "text": [
      "/home/skooch/.local/lib/python3.5/site-packages/sklearn/externals/joblib/parallel.py:547: UserWarning: Multiprocessing-backed parallel loops cannot be nested, setting n_jobs=1\n",
      "  **self._backend_args)\n"
     ]
    },
    {
     "name": "stdout",
     "output_type": "stream",
     "text": [
      "1063 (0.0034, 0, 1.5e-07, 0.000655, 221, True, 58, True, 16, 1e-05, 0.8, 21) score: 0.5335184662594656\n"
     ]
    },
    {
     "data": {
      "application/vnd.jupyter.widget-view+json": {
       "model_id": "4e5ba717caa04391980a73603d098f0a",
       "version_major": 2,
       "version_minor": 0
      },
      "text/plain": [
       "HBox(children=(IntProgress(value=0, max=33460), HTML(value='')))"
      ]
     },
     "metadata": {},
     "output_type": "display_data"
    },
    {
     "data": {
      "application/vnd.jupyter.widget-view+json": {
       "model_id": "c08834f56b1442f281aba0a69db2e11b",
       "version_major": 2,
       "version_minor": 0
      },
      "text/plain": [
       "HBox(children=(IntProgress(value=0, max=33756), HTML(value='')))"
      ]
     },
     "metadata": {},
     "output_type": "display_data"
    },
    {
     "name": "stdout",
     "output_type": "stream",
     "text": [
      "1063 (0.0034, 0, 1.5e-07, 0.000655, 221, True, 81, True, 16, 1e-05, 0.8, 21) score: 0.529596016319374\n"
     ]
    },
    {
     "data": {
      "application/vnd.jupyter.widget-view+json": {
       "model_id": "cbfaec5bc20e40ca9a45c4b403fcff63",
       "version_major": 2,
       "version_minor": 0
      },
      "text/plain": [
       "HBox(children=(IntProgress(value=0, max=33053), HTML(value='')))"
      ]
     },
     "metadata": {},
     "output_type": "display_data"
    },
    {
     "name": "stdout",
     "output_type": "stream",
     "text": [
      "\n",
      "\n",
      "\n"
     ]
    },
    {
     "name": "stderr",
     "output_type": "stream",
     "text": [
      "/home/skooch/.local/lib/python3.5/site-packages/sklearn/externals/joblib/parallel.py:547: UserWarning: Multiprocessing-backed parallel loops cannot be nested, setting n_jobs=1\n",
      "  **self._backend_args)\n",
      "/home/skooch/.local/lib/python3.5/site-packages/sklearn/externals/joblib/parallel.py:547: UserWarning: Multiprocessing-backed parallel loops cannot be nested, setting n_jobs=1\n",
      "  **self._backend_args)\n",
      "/home/skooch/.local/lib/python3.5/site-packages/sklearn/externals/joblib/parallel.py:547: UserWarning: Multiprocessing-backed parallel loops cannot be nested, setting n_jobs=1\n",
      "  **self._backend_args)\n"
     ]
    },
    {
     "name": "stdout",
     "output_type": "stream",
     "text": [
      "1063 (0.0034, 0, 1.5e-07, 0.000655, 221, True, 81, True, 16, 4.5e-05, 0.8, 21) score: 0.5294782919190766\n",
      "1063 (0.0034, 0, 1.5e-07, 9e-05, 221, True, 81, True, 16, 1e-05, 0.8, 21) score: 0.5247482003910591\n",
      "1063 (0.0034, 0, 1.5e-07, 0.000655, 221, True, 58, True, 16, 4.5e-05, 0.8, 21) score: 0.5334479798475513\n"
     ]
    },
    {
     "data": {
      "application/vnd.jupyter.widget-view+json": {
       "model_id": "ae325906f6c045bfa920e1a0b47b55e0",
       "version_major": 2,
       "version_minor": 0
      },
      "text/plain": [
       "HBox(children=(IntProgress(value=0, max=33734), HTML(value='')))"
      ]
     },
     "metadata": {},
     "output_type": "display_data"
    },
    {
     "data": {
      "application/vnd.jupyter.widget-view+json": {
       "model_id": "c09f8b9d628d49fda6b59bb28824d414",
       "version_major": 2,
       "version_minor": 0
      },
      "text/plain": [
       "HBox(children=(IntProgress(value=0, max=33732), HTML(value='')))"
      ]
     },
     "metadata": {},
     "output_type": "display_data"
    },
    {
     "data": {
      "application/vnd.jupyter.widget-view+json": {
       "model_id": "177c36b3ab524208b378a71c209330ee",
       "version_major": 2,
       "version_minor": 0
      },
      "text/plain": [
       "HBox(children=(IntProgress(value=0, max=33465), HTML(value='')))"
      ]
     },
     "metadata": {},
     "output_type": "display_data"
    },
    {
     "name": "stdout",
     "output_type": "stream",
     "text": [
      "\n",
      "\n"
     ]
    },
    {
     "name": "stderr",
     "output_type": "stream",
     "text": [
      "/home/skooch/.local/lib/python3.5/site-packages/sklearn/externals/joblib/parallel.py:547: UserWarning: Multiprocessing-backed parallel loops cannot be nested, setting n_jobs=1\n",
      "  **self._backend_args)\n"
     ]
    },
    {
     "data": {
      "application/vnd.jupyter.widget-view+json": {
       "model_id": "4b811c8897d7476e84d2771d7e9ed957",
       "version_major": 2,
       "version_minor": 0
      },
      "text/plain": [
       "HBox(children=(IntProgress(value=0, max=33242), HTML(value='')))"
      ]
     },
     "metadata": {},
     "output_type": "display_data"
    },
    {
     "name": "stdout",
     "output_type": "stream",
     "text": [
      "\n"
     ]
    },
    {
     "name": "stderr",
     "output_type": "stream",
     "text": [
      "/home/skooch/.local/lib/python3.5/site-packages/sklearn/externals/joblib/parallel.py:547: UserWarning: Multiprocessing-backed parallel loops cannot be nested, setting n_jobs=1\n",
      "  **self._backend_args)\n",
      "/home/skooch/.local/lib/python3.5/site-packages/sklearn/externals/joblib/parallel.py:547: UserWarning: Multiprocessing-backed parallel loops cannot be nested, setting n_jobs=1\n",
      "  **self._backend_args)\n"
     ]
    },
    {
     "name": "stdout",
     "output_type": "stream",
     "text": [
      "1063 (0.0034, 0, 1.5e-07, 9e-05, 225, True, 81, True, 16, 1e-05, 0.8, 21) score: 0.5255187518578168\n",
      "1063 (0.0034, 0, 1.5e-07, 9e-05, 225, True, 81, True, 16, 4.5e-05, 0.8, 21) score: 0.5255187518578168\n",
      "\n",
      "1063 (0.0034, 0, 1.5e-07, 0.000655, 225, True, 81, True, 16, 4.5e-05, 0.8, 21) score: 0.5296635515924208\n"
     ]
    },
    {
     "name": "stderr",
     "output_type": "stream",
     "text": [
      "/home/skooch/.local/lib/python3.5/site-packages/sklearn/externals/joblib/parallel.py:547: UserWarning: Multiprocessing-backed parallel loops cannot be nested, setting n_jobs=1\n",
      "  **self._backend_args)\n"
     ]
    },
    {
     "data": {
      "application/vnd.jupyter.widget-view+json": {
       "model_id": "8fda652c1b7f42b1b9fc5156e2db38a9",
       "version_major": 2,
       "version_minor": 0
      },
      "text/plain": [
       "HBox(children=(IntProgress(value=0, max=33240), HTML(value='')))"
      ]
     },
     "metadata": {},
     "output_type": "display_data"
    },
    {
     "name": "stdout",
     "output_type": "stream",
     "text": [
      "1063 (0.0034, 0, 1.5e-07, 9e-05, 225, True, 58, True, 16, 4.5e-05, 0.8, 21) score: 0.5302931239884856\n"
     ]
    },
    {
     "data": {
      "application/vnd.jupyter.widget-view+json": {
       "model_id": "9553854a868d4e6196171550f4b30668",
       "version_major": 2,
       "version_minor": 0
      },
      "text/plain": [
       "HBox(children=(IntProgress(value=0, max=33043), HTML(value='')))"
      ]
     },
     "metadata": {},
     "output_type": "display_data"
    },
    {
     "name": "stdout",
     "output_type": "stream",
     "text": [
      "\n"
     ]
    },
    {
     "name": "stderr",
     "output_type": "stream",
     "text": [
      "/home/skooch/.local/lib/python3.5/site-packages/sklearn/externals/joblib/parallel.py:547: UserWarning: Multiprocessing-backed parallel loops cannot be nested, setting n_jobs=1\n",
      "  **self._backend_args)\n"
     ]
    },
    {
     "name": "stdout",
     "output_type": "stream",
     "text": [
      "\n"
     ]
    },
    {
     "data": {
      "application/vnd.jupyter.widget-view+json": {
       "model_id": "46856ac0c9b049708531032a9b9fa7e6",
       "version_major": 2,
       "version_minor": 0
      },
      "text/plain": [
       "HBox(children=(IntProgress(value=0, max=33468), HTML(value='')))"
      ]
     },
     "metadata": {},
     "output_type": "display_data"
    },
    {
     "name": "stdout",
     "output_type": "stream",
     "text": [
      "1063 (0.0034, 0, 1.5e-07, 9e-05, 225, True, 58, True, 16, 1e-05, 0.8, 21) score: 0.530283866028185\n"
     ]
    },
    {
     "data": {
      "application/vnd.jupyter.widget-view+json": {
       "model_id": "b9abaf124a16431a83bc8c4f4b354033",
       "version_major": 2,
       "version_minor": 0
      },
      "text/plain": [
       "HBox(children=(IntProgress(value=0, max=33043), HTML(value='')))"
      ]
     },
     "metadata": {},
     "output_type": "display_data"
    },
    {
     "name": "stderr",
     "output_type": "stream",
     "text": [
      "/home/skooch/.local/lib/python3.5/site-packages/sklearn/externals/joblib/parallel.py:547: UserWarning: Multiprocessing-backed parallel loops cannot be nested, setting n_jobs=1\n",
      "  **self._backend_args)\n"
     ]
    },
    {
     "name": "stdout",
     "output_type": "stream",
     "text": [
      "\n",
      "1063 (0.0034, 0, 1.5e-07, 0.000655, 225, True, 58, True, 16, 1e-05, 0.8, 21) score: 0.533123354768577\n",
      "\n"
     ]
    },
    {
     "name": "stderr",
     "output_type": "stream",
     "text": [
      "/home/skooch/.local/lib/python3.5/site-packages/sklearn/externals/joblib/parallel.py:547: UserWarning: Multiprocessing-backed parallel loops cannot be nested, setting n_jobs=1\n",
      "  **self._backend_args)\n",
      "/home/skooch/.local/lib/python3.5/site-packages/sklearn/externals/joblib/parallel.py:547: UserWarning: Multiprocessing-backed parallel loops cannot be nested, setting n_jobs=1\n",
      "  **self._backend_args)\n"
     ]
    },
    {
     "name": "stdout",
     "output_type": "stream",
     "text": [
      "1063 (0.0034, 0, 1.5e-07, 0.000655, 225, True, 81, True, 16, 1e-05, 0.8, 21) score: 0.5296322896124366\n",
      "1063 (0.0034, 0, 1.5e-07, 0.000655, 225, True, 58, True, 16, 4.5e-05, 0.8, 21) score: 0.5331297597581397\n"
     ]
    },
    {
     "data": {
      "application/vnd.jupyter.widget-view+json": {
       "model_id": "e6b41f7d33a749e4aae588fab0efb2b6",
       "version_major": 2,
       "version_minor": 0
      },
      "text/plain": [
       "HBox(children=(IntProgress(value=0, max=35925), HTML(value='')))"
      ]
     },
     "metadata": {},
     "output_type": "display_data"
    },
    {
     "name": "stdout",
     "output_type": "stream",
     "text": [
      "\n"
     ]
    },
    {
     "name": "stderr",
     "output_type": "stream",
     "text": [
      "/home/skooch/.local/lib/python3.5/site-packages/sklearn/externals/joblib/parallel.py:547: UserWarning: Multiprocessing-backed parallel loops cannot be nested, setting n_jobs=1\n",
      "  **self._backend_args)\n"
     ]
    },
    {
     "data": {
      "application/vnd.jupyter.widget-view+json": {
       "model_id": "30df4af7ad5f43bc9f499c16f5097d0e",
       "version_major": 2,
       "version_minor": 0
      },
      "text/plain": [
       "HBox(children=(IntProgress(value=0, max=35504), HTML(value='')))"
      ]
     },
     "metadata": {},
     "output_type": "display_data"
    },
    {
     "name": "stdout",
     "output_type": "stream",
     "text": [
      "1064 (0.0034, 0, 1.5e-07, 9e-05, 221, True, 81, True, 16, 4.5e-05, 0.8, 21) score: 0.5382579322970287\n",
      "[1418, [0.0034, 0, 1.5e-07, 9e-05, 221, 'eps', 81, True, 16, 4.5e-05, 0.8, 21, 0.5303194382523374]]\n",
      " -  1422 Eps: 0.0034 stepeps: 0.000655 loops: 225 weight: 81 max size: 16 step z: 4.5e-05 max: 21\n"
     ]
    },
    {
     "data": {
      "application/vnd.jupyter.widget-view+json": {
       "model_id": "ffba5950a8b5420db59f0d14aedf81fa",
       "version_major": 2,
       "version_minor": 0
      },
      "text/plain": [
       "HBox(children=(IntProgress(value=0, max=35497), HTML(value='')))"
      ]
     },
     "metadata": {},
     "output_type": "display_data"
    },
    {
     "data": {
      "application/vnd.jupyter.widget-view+json": {
       "model_id": "eef7f02ee9b54d749e4754d84d9c1570",
       "version_major": 2,
       "version_minor": 0
      },
      "text/plain": [
       "HBox(children=(IntProgress(value=0, max=35179), HTML(value='')))"
      ]
     },
     "metadata": {},
     "output_type": "display_data"
    },
    {
     "name": "stdout",
     "output_type": "stream",
     "text": [
      "\n"
     ]
    },
    {
     "name": "stderr",
     "output_type": "stream",
     "text": [
      "/home/skooch/.local/lib/python3.5/site-packages/sklearn/externals/joblib/parallel.py:547: UserWarning: Multiprocessing-backed parallel loops cannot be nested, setting n_jobs=1\n",
      "  **self._backend_args)\n"
     ]
    },
    {
     "name": "stdout",
     "output_type": "stream",
     "text": [
      "\n",
      "\n"
     ]
    },
    {
     "name": "stderr",
     "output_type": "stream",
     "text": [
      "/home/skooch/.local/lib/python3.5/site-packages/sklearn/externals/joblib/parallel.py:547: UserWarning: Multiprocessing-backed parallel loops cannot be nested, setting n_jobs=1\n",
      "  **self._backend_args)\n"
     ]
    },
    {
     "name": "stdout",
     "output_type": "stream",
     "text": [
      "1064 (0.0034, 0, 1.5e-07, 9e-05, 221, True, 58, True, 16, 4.5e-05, 0.8, 21) score: 0.5407416113857835\n",
      "[1420, [0.0034, 0, 1.5e-07, 9e-05, 221, 'eps', 58, True, 16, 4.5e-05, 0.8, 21, 0.5328236043888265]]\n",
      " -  1423 Eps: 0.0034 stepeps: 0.000655 loops: 225 weight: 81 max size: 16 step z: 1e-05 max: 21\n"
     ]
    },
    {
     "name": "stderr",
     "output_type": "stream",
     "text": [
      "/home/skooch/.local/lib/python3.5/site-packages/sklearn/externals/joblib/parallel.py:547: UserWarning: Multiprocessing-backed parallel loops cannot be nested, setting n_jobs=1\n",
      "  **self._backend_args)\n"
     ]
    },
    {
     "data": {
      "application/vnd.jupyter.widget-view+json": {
       "model_id": "2003e361377b435d8e620636f016f181",
       "version_major": 2,
       "version_minor": 0
      },
      "text/plain": [
       "HBox(children=(IntProgress(value=0, max=35606), HTML(value='')))"
      ]
     },
     "metadata": {},
     "output_type": "display_data"
    },
    {
     "name": "stdout",
     "output_type": "stream",
     "text": [
      "1064 (0.0034, 0, 1.5e-07, 9e-05, 221, True, 58, True, 16, 1e-05, 0.8, 21) score: 0.5408912119264642\n",
      "[1421, [0.0034, 0, 1.5e-07, 9e-05, 221, 'eps', 58, True, 16, 1e-05, 0.8, 21, 0.5328279699670478]]\n",
      " -  1424 Eps: 0.0034 stepeps: 0.000655 loops: 225 weight: 58 max size: 16 step z: 4.5e-05 max: 21\n",
      "1064 (0.0034, 0, 1.5e-07, 0.000655, 221, True, 58, True, 16, 1e-05, 0.8, 21) score: 0.5429878666009245\n",
      "[1413, [0.0034, 0, 1.5e-07, 0.000655, 221, 'eps', 58, True, 16, 1e-05, 0.8, 21, 0.534911771474811]]\n",
      " -  1425 Eps: 0.0034 stepeps: 0.000655 loops: 225 weight: 58 max size: 16 step z: 1e-05 max: 21\n",
      "\n"
     ]
    },
    {
     "data": {
      "application/vnd.jupyter.widget-view+json": {
       "model_id": "3abac55325444e24a49b137df30cd65d",
       "version_major": 2,
       "version_minor": 0
      },
      "text/plain": [
       "HBox(children=(IntProgress(value=0, max=35934), HTML(value='')))"
      ]
     },
     "metadata": {},
     "output_type": "display_data"
    },
    {
     "data": {
      "application/vnd.jupyter.widget-view+json": {
       "model_id": "7d0ee77dadf14982840ac51d865c9f21",
       "version_major": 2,
       "version_minor": 0
      },
      "text/plain": [
       "HBox(children=(IntProgress(value=0, max=35606), HTML(value='')))"
      ]
     },
     "metadata": {},
     "output_type": "display_data"
    },
    {
     "name": "stderr",
     "output_type": "stream",
     "text": [
      "/home/skooch/.local/lib/python3.5/site-packages/sklearn/externals/joblib/parallel.py:547: UserWarning: Multiprocessing-backed parallel loops cannot be nested, setting n_jobs=1\n",
      "  **self._backend_args)\n"
     ]
    },
    {
     "data": {
      "application/vnd.jupyter.widget-view+json": {
       "model_id": "bbe131fef2744efdbfdba51f14276358",
       "version_major": 2,
       "version_minor": 0
      },
      "text/plain": [
       "HBox(children=(IntProgress(value=0, max=35179), HTML(value='')))"
      ]
     },
     "metadata": {},
     "output_type": "display_data"
    },
    {
     "name": "stdout",
     "output_type": "stream",
     "text": [
      "1064 (0.0034, 0, 1.5e-07, 0.000655, 221, True, 81, True, 16, 1e-05, 0.8, 21) score: 0.5420130924703699\n",
      "[1411, [0.0034, 0, 1.5e-07, 0.000655, 221, 'eps', 81, True, 16, 1e-05, 0.8, 21, 0.5358277206664596]]\n",
      " -  1426 Eps: 0.0034 stepeps: 0.000655 loops: 221 weight: 81 max size: 16 step z: 4.5e-05 max: 21\n",
      "\n",
      "\n"
     ]
    },
    {
     "name": "stderr",
     "output_type": "stream",
     "text": [
      "/home/skooch/.local/lib/python3.5/site-packages/sklearn/externals/joblib/parallel.py:547: UserWarning: Multiprocessing-backed parallel loops cannot be nested, setting n_jobs=1\n",
      "  **self._backend_args)\n",
      "/home/skooch/.local/lib/python3.5/site-packages/sklearn/externals/joblib/parallel.py:547: UserWarning: Multiprocessing-backed parallel loops cannot be nested, setting n_jobs=1\n",
      "  **self._backend_args)\n"
     ]
    },
    {
     "name": "stdout",
     "output_type": "stream",
     "text": [
      "\n"
     ]
    },
    {
     "name": "stderr",
     "output_type": "stream",
     "text": [
      "/home/skooch/.local/lib/python3.5/site-packages/sklearn/externals/joblib/parallel.py:547: UserWarning: Multiprocessing-backed parallel loops cannot be nested, setting n_jobs=1\n",
      "  **self._backend_args)\n"
     ]
    },
    {
     "name": "stdout",
     "output_type": "stream",
     "text": [
      "1064 (0.0034, 0, 1.5e-07, 9e-05, 221, True, 81, True, 16, 1e-05, 0.8, 21) score: 0.5383102219673219\n",
      "[1419, [0.0034, 0, 1.5e-07, 9e-05, 221, 'eps', 81, True, 16, 1e-05, 0.8, 21, 0.5303041904527032]]\n",
      " -  1427 Eps: 0.0034 stepeps: 0.000655 loops: 221 weight: 81 max size: 16 step z: 1e-05 max: 21\n",
      "1064 (0.0034, 0, 1.5e-07, 0.000655, 221, True, 81, True, 16, 4.5e-05, 0.8, 21) score: 0.5420651211807126\n",
      "[1410, [0.0034, 0, 1.5e-07, 0.000655, 221, 'eps', 81, True, 16, 4.5e-05, 0.8, 21, 0.5358340549242337]]\n",
      " -  1428 Eps: 0.0034 stepeps: 0.000655 loops: 221 weight: 58 max size: 16 step z: 4.5e-05 max: 21\n",
      "1064 (0.0034, 0, 1.5e-07, 0.000655, 221, True, 58, True, 16, 4.5e-05, 0.8, 21) score: 0.5431621407215061\n",
      "[1412, [0.0034, 0, 1.5e-07, 0.000655, 221, 'eps', 58, True, 16, 4.5e-05, 0.8, 21, 0.5349212458730788]]\n",
      " -  1429 Eps: 0.0034 stepeps: 0.000655 loops: 221 weight: 58 max size: 16 step z: 1e-05 max: 21\n"
     ]
    },
    {
     "data": {
      "application/vnd.jupyter.widget-view+json": {
       "model_id": "6504433213084bfdbb4e8424de84fd38",
       "version_major": 2,
       "version_minor": 0
      },
      "text/plain": [
       "HBox(children=(IntProgress(value=0, max=35930), HTML(value='')))"
      ]
     },
     "metadata": {},
     "output_type": "display_data"
    },
    {
     "data": {
      "application/vnd.jupyter.widget-view+json": {
       "model_id": "98579ccfea42479aa5d11bd1837d4524",
       "version_major": 2,
       "version_minor": 0
      },
      "text/plain": [
       "HBox(children=(IntProgress(value=0, max=35925), HTML(value='')))"
      ]
     },
     "metadata": {},
     "output_type": "display_data"
    },
    {
     "data": {
      "application/vnd.jupyter.widget-view+json": {
       "model_id": "5c12f323cc0f451b8b197259dff53f81",
       "version_major": 2,
       "version_minor": 0
      },
      "text/plain": [
       "HBox(children=(IntProgress(value=0, max=35593), HTML(value='')))"
      ]
     },
     "metadata": {},
     "output_type": "display_data"
    },
    {
     "name": "stdout",
     "output_type": "stream",
     "text": [
      "\n"
     ]
    },
    {
     "data": {
      "application/vnd.jupyter.widget-view+json": {
       "model_id": "e4855d94d3d54f7293f456a4b6a0ef76",
       "version_major": 2,
       "version_minor": 0
      },
      "text/plain": [
       "HBox(children=(IntProgress(value=0, max=35476), HTML(value='')))"
      ]
     },
     "metadata": {},
     "output_type": "display_data"
    },
    {
     "name": "stderr",
     "output_type": "stream",
     "text": [
      "/home/skooch/.local/lib/python3.5/site-packages/sklearn/externals/joblib/parallel.py:547: UserWarning: Multiprocessing-backed parallel loops cannot be nested, setting n_jobs=1\n",
      "  **self._backend_args)\n"
     ]
    },
    {
     "name": "stdout",
     "output_type": "stream",
     "text": [
      "\n"
     ]
    },
    {
     "name": "stderr",
     "output_type": "stream",
     "text": [
      "/home/skooch/.local/lib/python3.5/site-packages/sklearn/externals/joblib/parallel.py:547: UserWarning: Multiprocessing-backed parallel loops cannot be nested, setting n_jobs=1\n",
      "  **self._backend_args)\n"
     ]
    },
    {
     "name": "stdout",
     "output_type": "stream",
     "text": [
      "\n",
      "1064 (0.0034, 0, 1.5e-07, 9e-05, 225, True, 81, True, 16, 1e-05, 0.8, 21) score: 0.5383858254228926\n",
      "[1415, [0.0034, 0, 1.5e-07, 9e-05, 225, 'eps', 81, True, 16, 1e-05, 0.8, 21, 0.5305131874522929]]\n",
      " -  1430 Eps: 0.0034 stepeps: 9e-05 loops: 225 weight: 81 max size: 16 step z: 4.5e-05 max: 21\n",
      "\n"
     ]
    },
    {
     "name": "stderr",
     "output_type": "stream",
     "text": [
      "/home/skooch/.local/lib/python3.5/site-packages/sklearn/externals/joblib/parallel.py:547: UserWarning: Multiprocessing-backed parallel loops cannot be nested, setting n_jobs=1\n",
      "  **self._backend_args)\n"
     ]
    },
    {
     "name": "stdout",
     "output_type": "stream",
     "text": [
      "1064 (0.0034, 0, 1.5e-07, 9e-05, 225, True, 81, True, 16, 4.5e-05, 0.8, 21) score: 0.5383814525528123\n",
      "[1414, [0.0034, 0, 1.5e-07, 9e-05, 225, 'eps', 81, True, 16, 4.5e-05, 0.8, 21, 0.5305209008467465]]\n",
      " -  1431 Eps: 0.0034 stepeps: 9e-05 loops: 225 weight: 81 max size: 16 step z: 1e-05 max: 21\n"
     ]
    },
    {
     "name": "stderr",
     "output_type": "stream",
     "text": [
      "/home/skooch/.local/lib/python3.5/site-packages/sklearn/externals/joblib/parallel.py:547: UserWarning: Multiprocessing-backed parallel loops cannot be nested, setting n_jobs=1\n",
      "  **self._backend_args)\n"
     ]
    },
    {
     "data": {
      "application/vnd.jupyter.widget-view+json": {
       "model_id": "bd5869d66ef640a19376478b3c4cd820",
       "version_major": 2,
       "version_minor": 0
      },
      "text/plain": [
       "HBox(children=(IntProgress(value=0, max=35468), HTML(value='')))"
      ]
     },
     "metadata": {},
     "output_type": "display_data"
    },
    {
     "name": "stdout",
     "output_type": "stream",
     "text": [
      "1064 (0.0034, 0, 1.5e-07, 0.000655, 225, True, 81, True, 16, 4.5e-05, 0.8, 21) score: 0.5419964016996346\n",
      "[1406, [0.0034, 0, 1.5e-07, 0.000655, 225, 'eps', 81, True, 16, 4.5e-05, 0.8, 21, 0.5359020662193249]]\n",
      " -  1432 Eps: 0.0034 stepeps: 9e-05 loops: 225 weight: 58 max size: 16 step z: 4.5e-05 max: 21\n",
      "1064 (0.0034, 0, 1.5e-07, 9e-05, 225, True, 58, True, 16, 4.5e-05, 0.8, 21) score: 0.5405480990514206\n",
      "[1416, [0.0034, 0, 1.5e-07, 9e-05, 225, 'eps', 58, True, 16, 4.5e-05, 0.8, 21, 0.5330072210282006]]\n",
      " -  1433 Eps: 0.0034 stepeps: 9e-05 loops: 225 weight: 58 max size: 16 step z: 1e-05 max: 21\n",
      "\n"
     ]
    },
    {
     "data": {
      "application/vnd.jupyter.widget-view+json": {
       "model_id": "cde79f6e01f74b4eb04a1aea21bc391a",
       "version_major": 2,
       "version_minor": 0
      },
      "text/plain": [
       "HBox(children=(IntProgress(value=0, max=35195), HTML(value='')))"
      ]
     },
     "metadata": {},
     "output_type": "display_data"
    },
    {
     "name": "stderr",
     "output_type": "stream",
     "text": [
      "/home/skooch/.local/lib/python3.5/site-packages/sklearn/externals/joblib/parallel.py:547: UserWarning: Multiprocessing-backed parallel loops cannot be nested, setting n_jobs=1\n",
      "  **self._backend_args)\n"
     ]
    },
    {
     "data": {
      "application/vnd.jupyter.widget-view+json": {
       "model_id": "9b1de1d9f1cc4118991767fc0f8c2662",
       "version_major": 2,
       "version_minor": 0
      },
      "text/plain": [
       "HBox(children=(IntProgress(value=0, max=35598), HTML(value='')))"
      ]
     },
     "metadata": {},
     "output_type": "display_data"
    },
    {
     "data": {
      "application/vnd.jupyter.widget-view+json": {
       "model_id": "20da4e96dbc340bbad0d78b46ad4f6c8",
       "version_major": 2,
       "version_minor": 0
      },
      "text/plain": [
       "HBox(children=(IntProgress(value=0, max=35193), HTML(value='')))"
      ]
     },
     "metadata": {},
     "output_type": "display_data"
    },
    {
     "name": "stdout",
     "output_type": "stream",
     "text": [
      "1064 (0.0034, 0, 1.5e-07, 9e-05, 225, True, 58, True, 16, 1e-05, 0.8, 21) score: 0.5406156846013346\n",
      "[1417, [0.0034, 0, 1.5e-07, 9e-05, 225, 'eps', 58, True, 16, 1e-05, 0.8, 21, 0.5330211713734798]]\n",
      "\n"
     ]
    },
    {
     "name": "stderr",
     "output_type": "stream",
     "text": [
      "/home/skooch/.local/lib/python3.5/site-packages/sklearn/externals/joblib/parallel.py:547: UserWarning: Multiprocessing-backed parallel loops cannot be nested, setting n_jobs=1\n",
      "  **self._backend_args)\n"
     ]
    },
    {
     "name": "stdout",
     "output_type": "stream",
     "text": [
      "\n",
      "\n"
     ]
    },
    {
     "name": "stderr",
     "output_type": "stream",
     "text": [
      "/home/skooch/.local/lib/python3.5/site-packages/sklearn/externals/joblib/parallel.py:547: UserWarning: Multiprocessing-backed parallel loops cannot be nested, setting n_jobs=1\n",
      "  **self._backend_args)\n"
     ]
    },
    {
     "name": "stdout",
     "output_type": "stream",
     "text": [
      "1064 (0.0034, 0, 1.5e-07, 0.000655, 225, True, 58, True, 16, 1e-05, 0.8, 21) score: 0.5435820838638392\n",
      "[1409, [0.0034, 0, 1.5e-07, 0.000655, 225, 'eps', 58, True, 16, 1e-05, 0.8, 21, 0.5350530640588284]]\n"
     ]
    },
    {
     "name": "stderr",
     "output_type": "stream",
     "text": [
      "/home/skooch/.local/lib/python3.5/site-packages/sklearn/externals/joblib/parallel.py:547: UserWarning: Multiprocessing-backed parallel loops cannot be nested, setting n_jobs=1\n",
      "  **self._backend_args)\n"
     ]
    },
    {
     "name": "stdout",
     "output_type": "stream",
     "text": [
      "1064 (0.0034, 0, 1.5e-07, 0.000655, 225, True, 81, True, 16, 1e-05, 0.8, 21) score: 0.5420762890898914\n",
      "[1407, [0.0034, 0, 1.5e-07, 0.000655, 225, 'eps', 81, True, 16, 1e-05, 0.8, 21, 0.5359312797386987]]\n",
      "1064 (0.0034, 0, 1.5e-07, 0.000655, 225, True, 58, True, 16, 4.5e-05, 0.8, 21) score: 0.5435820838638392\n",
      "[1408, [0.0034, 0, 1.5e-07, 0.000655, 225, 'eps', 58, True, 16, 4.5e-05, 0.8, 21, 0.5350194552857747]]\n"
     ]
    },
    {
     "data": {
      "application/vnd.jupyter.widget-view+json": {
       "model_id": "7681404a46ee42fca63e7b3b49af40a9",
       "version_major": 2,
       "version_minor": 0
      },
      "text/plain": [
       "HBox(children=(IntProgress(value=0, max=37812), HTML(value='')))"
      ]
     },
     "metadata": {},
     "output_type": "display_data"
    },
    {
     "data": {
      "application/vnd.jupyter.widget-view+json": {
       "model_id": "2ee816f6976141edb32e93a0c3145df7",
       "version_major": 2,
       "version_minor": 0
      },
      "text/plain": [
       "HBox(children=(IntProgress(value=0, max=37798), HTML(value='')))"
      ]
     },
     "metadata": {},
     "output_type": "display_data"
    },
    {
     "name": "stdout",
     "output_type": "stream",
     "text": [
      "\n"
     ]
    },
    {
     "name": "stderr",
     "output_type": "stream",
     "text": [
      "/home/skooch/.local/lib/python3.5/site-packages/sklearn/externals/joblib/parallel.py:547: UserWarning: Multiprocessing-backed parallel loops cannot be nested, setting n_jobs=1\n",
      "  **self._backend_args)\n"
     ]
    },
    {
     "name": "stdout",
     "output_type": "stream",
     "text": [
      "\n",
      "1050 (0.0034, 0, 1e-06, 0.000655, 225, True, 81, True, 16, 1e-05, 0.8, 21) score: 0.5296698350270547\n"
     ]
    },
    {
     "name": "stderr",
     "output_type": "stream",
     "text": [
      "/home/skooch/.local/lib/python3.5/site-packages/sklearn/externals/joblib/parallel.py:547: UserWarning: Multiprocessing-backed parallel loops cannot be nested, setting n_jobs=1\n",
      "  **self._backend_args)\n"
     ]
    }
   ],
   "source": [
    "results = grid_search(iter_list, results_df, start=0, end=28)\n",
    "\n",
    "for item in results:\n",
    "    results_df.loc[item[0]] = item[1]\n",
    "    \n",
    "results_df.sort_values(\"acc\", ascending=False).to_pickle(\"gs_results.pkl\")\n",
    "results_df"
   ]
  },
  {
   "cell_type": "code",
   "execution_count": 9,
   "metadata": {
    "scrolled": true
   },
   "outputs": [
    {
     "data": {
      "text/html": [
       "<div>\n",
       "<style scoped>\n",
       "    .dataframe tbody tr th:only-of-type {\n",
       "        vertical-align: middle;\n",
       "    }\n",
       "\n",
       "    .dataframe tbody tr th {\n",
       "        vertical-align: top;\n",
       "    }\n",
       "\n",
       "    .dataframe thead th {\n",
       "        text-align: right;\n",
       "    }\n",
       "</style>\n",
       "<table border=\"1\" class=\"dataframe\">\n",
       "  <thead>\n",
       "    <tr style=\"text-align: right;\">\n",
       "      <th></th>\n",
       "      <th>eps</th>\n",
       "      <th>dz0</th>\n",
       "      <th>stepdz</th>\n",
       "      <th>stepeps</th>\n",
       "      <th>loops</th>\n",
       "      <th>step</th>\n",
       "      <th>weights</th>\n",
       "      <th>final_cluster</th>\n",
       "      <th>max_size</th>\n",
       "      <th>step_z</th>\n",
       "      <th>size_incr</th>\n",
       "      <th>acc</th>\n",
       "    </tr>\n",
       "  </thead>\n",
       "  <tbody>\n",
       "    <tr>\n",
       "      <th>1250</th>\n",
       "      <td>0.00350</td>\n",
       "      <td>0.0000</td>\n",
       "      <td>1.500000e-07</td>\n",
       "      <td>5.000000e-04</td>\n",
       "      <td>175.0</td>\n",
       "      <td>eps</td>\n",
       "      <td>58</td>\n",
       "      <td>True</td>\n",
       "      <td>20</td>\n",
       "      <td>4.500000e-05</td>\n",
       "      <td>0.0</td>\n",
       "      <td>0.534498</td>\n",
       "    </tr>\n",
       "    <tr>\n",
       "      <th>1251</th>\n",
       "      <td>0.00350</td>\n",
       "      <td>0.0000</td>\n",
       "      <td>1.500000e-07</td>\n",
       "      <td>7.500000e-04</td>\n",
       "      <td>175.0</td>\n",
       "      <td>eps</td>\n",
       "      <td>58</td>\n",
       "      <td>True</td>\n",
       "      <td>20</td>\n",
       "      <td>4.500000e-05</td>\n",
       "      <td>0.0</td>\n",
       "      <td>0.534269</td>\n",
       "    </tr>\n",
       "    <tr>\n",
       "      <th>1248</th>\n",
       "      <td>0.00350</td>\n",
       "      <td>0.0000</td>\n",
       "      <td>1.500000e-07</td>\n",
       "      <td>2.000000e-05</td>\n",
       "      <td>175.0</td>\n",
       "      <td>eps</td>\n",
       "      <td>58</td>\n",
       "      <td>True</td>\n",
       "      <td>20</td>\n",
       "      <td>4.500000e-05</td>\n",
       "      <td>0.0</td>\n",
       "      <td>0.533295</td>\n",
       "    </tr>\n",
       "    <tr>\n",
       "      <th>1249</th>\n",
       "      <td>0.00350</td>\n",
       "      <td>0.0000</td>\n",
       "      <td>1.500000e-07</td>\n",
       "      <td>2.500000e-05</td>\n",
       "      <td>175.0</td>\n",
       "      <td>eps</td>\n",
       "      <td>58</td>\n",
       "      <td>True</td>\n",
       "      <td>20</td>\n",
       "      <td>4.500000e-05</td>\n",
       "      <td>0.0</td>\n",
       "      <td>0.533243</td>\n",
       "    </tr>\n",
       "    <tr>\n",
       "      <th>1219</th>\n",
       "      <td>0.00350</td>\n",
       "      <td>0.0000</td>\n",
       "      <td>1.500000e-07</td>\n",
       "      <td>7.000000e-08</td>\n",
       "      <td>250.0</td>\n",
       "      <td>eps</td>\n",
       "      <td>58</td>\n",
       "      <td>True</td>\n",
       "      <td>19</td>\n",
       "      <td>4.500000e-05</td>\n",
       "      <td>0.0</td>\n",
       "      <td>0.531658</td>\n",
       "    </tr>\n",
       "    <tr>\n",
       "      <th>1218</th>\n",
       "      <td>0.00350</td>\n",
       "      <td>0.0000</td>\n",
       "      <td>1.500000e-07</td>\n",
       "      <td>7.000000e-08</td>\n",
       "      <td>250.0</td>\n",
       "      <td>eps</td>\n",
       "      <td>58</td>\n",
       "      <td>True</td>\n",
       "      <td>20</td>\n",
       "      <td>4.500000e-05</td>\n",
       "      <td>0.0</td>\n",
       "      <td>0.531555</td>\n",
       "    </tr>\n",
       "    <tr>\n",
       "      <th>1213</th>\n",
       "      <td>0.00350</td>\n",
       "      <td>0.0000</td>\n",
       "      <td>1.500000e-07</td>\n",
       "      <td>7.000000e-08</td>\n",
       "      <td>250.0</td>\n",
       "      <td>eps</td>\n",
       "      <td>72</td>\n",
       "      <td>True</td>\n",
       "      <td>19</td>\n",
       "      <td>4.500000e-05</td>\n",
       "      <td>0.0</td>\n",
       "      <td>0.531324</td>\n",
       "    </tr>\n",
       "    <tr>\n",
       "      <th>1217</th>\n",
       "      <td>0.00350</td>\n",
       "      <td>0.0000</td>\n",
       "      <td>1.500000e-07</td>\n",
       "      <td>7.000000e-08</td>\n",
       "      <td>250.0</td>\n",
       "      <td>eps</td>\n",
       "      <td>58</td>\n",
       "      <td>True</td>\n",
       "      <td>21</td>\n",
       "      <td>4.500000e-05</td>\n",
       "      <td>0.0</td>\n",
       "      <td>0.531264</td>\n",
       "    </tr>\n",
       "    <tr>\n",
       "      <th>1212</th>\n",
       "      <td>0.00350</td>\n",
       "      <td>0.0000</td>\n",
       "      <td>1.500000e-07</td>\n",
       "      <td>7.000000e-08</td>\n",
       "      <td>250.0</td>\n",
       "      <td>eps</td>\n",
       "      <td>72</td>\n",
       "      <td>True</td>\n",
       "      <td>20</td>\n",
       "      <td>4.500000e-05</td>\n",
       "      <td>0.0</td>\n",
       "      <td>0.531248</td>\n",
       "    </tr>\n",
       "    <tr>\n",
       "      <th>1252</th>\n",
       "      <td>0.00350</td>\n",
       "      <td>0.0000</td>\n",
       "      <td>1.500000e-07</td>\n",
       "      <td>1.000000e-03</td>\n",
       "      <td>175.0</td>\n",
       "      <td>eps</td>\n",
       "      <td>58</td>\n",
       "      <td>True</td>\n",
       "      <td>20</td>\n",
       "      <td>4.500000e-05</td>\n",
       "      <td>0.0</td>\n",
       "      <td>0.531127</td>\n",
       "    </tr>\n",
       "    <tr>\n",
       "      <th>1211</th>\n",
       "      <td>0.00350</td>\n",
       "      <td>0.0000</td>\n",
       "      <td>1.500000e-07</td>\n",
       "      <td>7.000000e-08</td>\n",
       "      <td>250.0</td>\n",
       "      <td>eps</td>\n",
       "      <td>72</td>\n",
       "      <td>True</td>\n",
       "      <td>21</td>\n",
       "      <td>4.500000e-05</td>\n",
       "      <td>0.0</td>\n",
       "      <td>0.530849</td>\n",
       "    </tr>\n",
       "    <tr>\n",
       "      <th>1137</th>\n",
       "      <td>0.00350</td>\n",
       "      <td>-0.0007</td>\n",
       "      <td>1.500000e-07</td>\n",
       "      <td>7.000000e-08</td>\n",
       "      <td>250.0</td>\n",
       "      <td>eps</td>\n",
       "      <td>58</td>\n",
       "      <td>True</td>\n",
       "      <td>20</td>\n",
       "      <td>4.500000e-05</td>\n",
       "      <td>0.0</td>\n",
       "      <td>0.530545</td>\n",
       "    </tr>\n",
       "    <tr>\n",
       "      <th>1243</th>\n",
       "      <td>0.00350</td>\n",
       "      <td>0.0000</td>\n",
       "      <td>1.500000e-07</td>\n",
       "      <td>1.750000e-05</td>\n",
       "      <td>250.0</td>\n",
       "      <td>eps</td>\n",
       "      <td>58</td>\n",
       "      <td>True</td>\n",
       "      <td>20</td>\n",
       "      <td>4.500000e-05</td>\n",
       "      <td>0.0</td>\n",
       "      <td>0.530535</td>\n",
       "    </tr>\n",
       "    <tr>\n",
       "      <th>1241</th>\n",
       "      <td>0.00350</td>\n",
       "      <td>0.0000</td>\n",
       "      <td>1.500000e-07</td>\n",
       "      <td>7.000000e-08</td>\n",
       "      <td>250.0</td>\n",
       "      <td>eps</td>\n",
       "      <td>58</td>\n",
       "      <td>True</td>\n",
       "      <td>20</td>\n",
       "      <td>4.500000e-05</td>\n",
       "      <td>0.0</td>\n",
       "      <td>0.530535</td>\n",
       "    </tr>\n",
       "    <tr>\n",
       "      <th>1143</th>\n",
       "      <td>0.00350</td>\n",
       "      <td>-0.0007</td>\n",
       "      <td>1.500000e-07</td>\n",
       "      <td>1.500000e-09</td>\n",
       "      <td>250.0</td>\n",
       "      <td>eps</td>\n",
       "      <td>58</td>\n",
       "      <td>True</td>\n",
       "      <td>20</td>\n",
       "      <td>4.500000e-05</td>\n",
       "      <td>0.0</td>\n",
       "      <td>0.530490</td>\n",
       "    </tr>\n",
       "    <tr>\n",
       "      <th>1138</th>\n",
       "      <td>0.00350</td>\n",
       "      <td>-0.0007</td>\n",
       "      <td>1.500000e-07</td>\n",
       "      <td>7.000000e-08</td>\n",
       "      <td>250.0</td>\n",
       "      <td>eps</td>\n",
       "      <td>58</td>\n",
       "      <td>True</td>\n",
       "      <td>20</td>\n",
       "      <td>2.000000e-06</td>\n",
       "      <td>0.0</td>\n",
       "      <td>0.530473</td>\n",
       "    </tr>\n",
       "    <tr>\n",
       "      <th>1128</th>\n",
       "      <td>0.00350</td>\n",
       "      <td>-0.0007</td>\n",
       "      <td>1.500000e-07</td>\n",
       "      <td>1.500000e-09</td>\n",
       "      <td>250.0</td>\n",
       "      <td>eps</td>\n",
       "      <td>58</td>\n",
       "      <td>True</td>\n",
       "      <td>20</td>\n",
       "      <td>2.000000e-06</td>\n",
       "      <td>0.0</td>\n",
       "      <td>0.530456</td>\n",
       "    </tr>\n",
       "    <tr>\n",
       "      <th>1118</th>\n",
       "      <td>0.00350</td>\n",
       "      <td>-0.0007</td>\n",
       "      <td>1.500000e-07</td>\n",
       "      <td>1.500000e-09</td>\n",
       "      <td>200.0</td>\n",
       "      <td>eps</td>\n",
       "      <td>58</td>\n",
       "      <td>True</td>\n",
       "      <td>20</td>\n",
       "      <td>2.000000e-06</td>\n",
       "      <td>0.0</td>\n",
       "      <td>0.530382</td>\n",
       "    </tr>\n",
       "    <tr>\n",
       "      <th>1117</th>\n",
       "      <td>0.00350</td>\n",
       "      <td>-0.0007</td>\n",
       "      <td>1.500000e-07</td>\n",
       "      <td>1.500000e-09</td>\n",
       "      <td>200.0</td>\n",
       "      <td>eps</td>\n",
       "      <td>58</td>\n",
       "      <td>True</td>\n",
       "      <td>20</td>\n",
       "      <td>0.000000e+00</td>\n",
       "      <td>0.0</td>\n",
       "      <td>0.530377</td>\n",
       "    </tr>\n",
       "    <tr>\n",
       "      <th>1133</th>\n",
       "      <td>0.00350</td>\n",
       "      <td>-0.0007</td>\n",
       "      <td>1.500000e-07</td>\n",
       "      <td>1.500000e-09</td>\n",
       "      <td>275.0</td>\n",
       "      <td>eps</td>\n",
       "      <td>58</td>\n",
       "      <td>True</td>\n",
       "      <td>20</td>\n",
       "      <td>2.000000e-06</td>\n",
       "      <td>0.0</td>\n",
       "      <td>0.530093</td>\n",
       "    </tr>\n",
       "    <tr>\n",
       "      <th>1123</th>\n",
       "      <td>0.00350</td>\n",
       "      <td>-0.0007</td>\n",
       "      <td>1.500000e-07</td>\n",
       "      <td>1.500000e-09</td>\n",
       "      <td>200.0</td>\n",
       "      <td>eps</td>\n",
       "      <td>58</td>\n",
       "      <td>True</td>\n",
       "      <td>20</td>\n",
       "      <td>2.000000e-06</td>\n",
       "      <td>0.0</td>\n",
       "      <td>0.529915</td>\n",
       "    </tr>\n",
       "    <tr>\n",
       "      <th>1216</th>\n",
       "      <td>0.00350</td>\n",
       "      <td>0.0000</td>\n",
       "      <td>1.500000e-07</td>\n",
       "      <td>7.000000e-08</td>\n",
       "      <td>250.0</td>\n",
       "      <td>eps</td>\n",
       "      <td>75</td>\n",
       "      <td>True</td>\n",
       "      <td>19</td>\n",
       "      <td>4.500000e-05</td>\n",
       "      <td>0.0</td>\n",
       "      <td>0.529876</td>\n",
       "    </tr>\n",
       "    <tr>\n",
       "      <th>1215</th>\n",
       "      <td>0.00350</td>\n",
       "      <td>0.0000</td>\n",
       "      <td>1.500000e-07</td>\n",
       "      <td>7.000000e-08</td>\n",
       "      <td>250.0</td>\n",
       "      <td>eps</td>\n",
       "      <td>75</td>\n",
       "      <td>True</td>\n",
       "      <td>20</td>\n",
       "      <td>4.500000e-05</td>\n",
       "      <td>0.0</td>\n",
       "      <td>0.529737</td>\n",
       "    </tr>\n",
       "    <tr>\n",
       "      <th>1131</th>\n",
       "      <td>0.00350</td>\n",
       "      <td>-0.0007</td>\n",
       "      <td>1.500000e-07</td>\n",
       "      <td>1.500000e-09</td>\n",
       "      <td>250.0</td>\n",
       "      <td>eps</td>\n",
       "      <td>65</td>\n",
       "      <td>True</td>\n",
       "      <td>20</td>\n",
       "      <td>2.000000e-06</td>\n",
       "      <td>0.0</td>\n",
       "      <td>0.529439</td>\n",
       "    </tr>\n",
       "    <tr>\n",
       "      <th>1214</th>\n",
       "      <td>0.00350</td>\n",
       "      <td>0.0000</td>\n",
       "      <td>1.500000e-07</td>\n",
       "      <td>7.000000e-08</td>\n",
       "      <td>250.0</td>\n",
       "      <td>eps</td>\n",
       "      <td>75</td>\n",
       "      <td>True</td>\n",
       "      <td>21</td>\n",
       "      <td>4.500000e-05</td>\n",
       "      <td>0.0</td>\n",
       "      <td>0.529336</td>\n",
       "    </tr>\n",
       "    <tr>\n",
       "      <th>1121</th>\n",
       "      <td>0.00350</td>\n",
       "      <td>-0.0007</td>\n",
       "      <td>1.500000e-07</td>\n",
       "      <td>1.500000e-09</td>\n",
       "      <td>200.0</td>\n",
       "      <td>eps</td>\n",
       "      <td>62</td>\n",
       "      <td>True</td>\n",
       "      <td>20</td>\n",
       "      <td>0.000000e+00</td>\n",
       "      <td>0.0</td>\n",
       "      <td>0.529137</td>\n",
       "    </tr>\n",
       "    <tr>\n",
       "      <th>1122</th>\n",
       "      <td>0.00350</td>\n",
       "      <td>-0.0007</td>\n",
       "      <td>1.500000e-07</td>\n",
       "      <td>1.500000e-09</td>\n",
       "      <td>200.0</td>\n",
       "      <td>eps</td>\n",
       "      <td>62</td>\n",
       "      <td>True</td>\n",
       "      <td>20</td>\n",
       "      <td>2.000000e-06</td>\n",
       "      <td>0.0</td>\n",
       "      <td>0.529122</td>\n",
       "    </tr>\n",
       "    <tr>\n",
       "      <th>1136</th>\n",
       "      <td>0.00350</td>\n",
       "      <td>-0.0007</td>\n",
       "      <td>1.500000e-07</td>\n",
       "      <td>1.500000e-09</td>\n",
       "      <td>275.0</td>\n",
       "      <td>eps</td>\n",
       "      <td>65</td>\n",
       "      <td>True</td>\n",
       "      <td>20</td>\n",
       "      <td>2.000000e-06</td>\n",
       "      <td>0.0</td>\n",
       "      <td>0.529003</td>\n",
       "    </tr>\n",
       "    <tr>\n",
       "      <th>1120</th>\n",
       "      <td>0.00350</td>\n",
       "      <td>-0.0007</td>\n",
       "      <td>1.500000e-07</td>\n",
       "      <td>1.500000e-09</td>\n",
       "      <td>200.0</td>\n",
       "      <td>eps</td>\n",
       "      <td>61</td>\n",
       "      <td>True</td>\n",
       "      <td>20</td>\n",
       "      <td>2.000000e-06</td>\n",
       "      <td>0.0</td>\n",
       "      <td>0.528761</td>\n",
       "    </tr>\n",
       "    <tr>\n",
       "      <th>1119</th>\n",
       "      <td>0.00350</td>\n",
       "      <td>-0.0007</td>\n",
       "      <td>1.500000e-07</td>\n",
       "      <td>1.500000e-09</td>\n",
       "      <td>200.0</td>\n",
       "      <td>eps</td>\n",
       "      <td>61</td>\n",
       "      <td>True</td>\n",
       "      <td>20</td>\n",
       "      <td>0.000000e+00</td>\n",
       "      <td>0.0</td>\n",
       "      <td>0.528761</td>\n",
       "    </tr>\n",
       "    <tr>\n",
       "      <th>...</th>\n",
       "      <td>...</td>\n",
       "      <td>...</td>\n",
       "      <td>...</td>\n",
       "      <td>...</td>\n",
       "      <td>...</td>\n",
       "      <td>...</td>\n",
       "      <td>...</td>\n",
       "      <td>...</td>\n",
       "      <td>...</td>\n",
       "      <td>...</td>\n",
       "      <td>...</td>\n",
       "      <td>...</td>\n",
       "    </tr>\n",
       "    <tr>\n",
       "      <th>836</th>\n",
       "      <td>0.00350</td>\n",
       "      <td>-0.0007</td>\n",
       "      <td>1.000000e-07</td>\n",
       "      <td>1.000000e-09</td>\n",
       "      <td>153.0</td>\n",
       "      <td>eps</td>\n",
       "      <td>23</td>\n",
       "      <td>True</td>\n",
       "      <td>19</td>\n",
       "      <td>2.000000e-06</td>\n",
       "      <td>0.0</td>\n",
       "      <td>0.500433</td>\n",
       "    </tr>\n",
       "    <tr>\n",
       "      <th>872</th>\n",
       "      <td>0.00350</td>\n",
       "      <td>-0.0007</td>\n",
       "      <td>1.000000e-07</td>\n",
       "      <td>1.000000e-09</td>\n",
       "      <td>160.0</td>\n",
       "      <td>eps</td>\n",
       "      <td>22</td>\n",
       "      <td>True</td>\n",
       "      <td>22</td>\n",
       "      <td>0.000000e+00</td>\n",
       "      <td>0.0</td>\n",
       "      <td>0.500433</td>\n",
       "    </tr>\n",
       "    <tr>\n",
       "      <th>871</th>\n",
       "      <td>0.00350</td>\n",
       "      <td>-0.0007</td>\n",
       "      <td>1.000000e-07</td>\n",
       "      <td>1.000000e-09</td>\n",
       "      <td>160.0</td>\n",
       "      <td>eps</td>\n",
       "      <td>22</td>\n",
       "      <td>True</td>\n",
       "      <td>22</td>\n",
       "      <td>3.000000e-06</td>\n",
       "      <td>0.0</td>\n",
       "      <td>0.500432</td>\n",
       "    </tr>\n",
       "    <tr>\n",
       "      <th>837</th>\n",
       "      <td>0.00350</td>\n",
       "      <td>-0.0007</td>\n",
       "      <td>1.000000e-07</td>\n",
       "      <td>1.000000e-09</td>\n",
       "      <td>153.0</td>\n",
       "      <td>eps</td>\n",
       "      <td>23</td>\n",
       "      <td>True</td>\n",
       "      <td>19</td>\n",
       "      <td>0.000000e+00</td>\n",
       "      <td>0.0</td>\n",
       "      <td>0.500426</td>\n",
       "    </tr>\n",
       "    <tr>\n",
       "      <th>835</th>\n",
       "      <td>0.00350</td>\n",
       "      <td>-0.0007</td>\n",
       "      <td>1.000000e-07</td>\n",
       "      <td>1.000000e-09</td>\n",
       "      <td>153.0</td>\n",
       "      <td>eps</td>\n",
       "      <td>23</td>\n",
       "      <td>True</td>\n",
       "      <td>19</td>\n",
       "      <td>5.000000e-07</td>\n",
       "      <td>0.0</td>\n",
       "      <td>0.500426</td>\n",
       "    </tr>\n",
       "    <tr>\n",
       "      <th>982</th>\n",
       "      <td>0.00350</td>\n",
       "      <td>-0.0007</td>\n",
       "      <td>0.000000e+00</td>\n",
       "      <td>1.000000e-09</td>\n",
       "      <td>155.0</td>\n",
       "      <td>eps</td>\n",
       "      <td>25</td>\n",
       "      <td>True</td>\n",
       "      <td>20</td>\n",
       "      <td>1.500000e-06</td>\n",
       "      <td>0.0</td>\n",
       "      <td>0.500414</td>\n",
       "    </tr>\n",
       "    <tr>\n",
       "      <th>851</th>\n",
       "      <td>0.00350</td>\n",
       "      <td>-0.0007</td>\n",
       "      <td>1.000000e-07</td>\n",
       "      <td>1.000000e-09</td>\n",
       "      <td>160.0</td>\n",
       "      <td>eps</td>\n",
       "      <td>23</td>\n",
       "      <td>True</td>\n",
       "      <td>20</td>\n",
       "      <td>2.000000e-06</td>\n",
       "      <td>0.0</td>\n",
       "      <td>0.500413</td>\n",
       "    </tr>\n",
       "    <tr>\n",
       "      <th>852</th>\n",
       "      <td>0.00350</td>\n",
       "      <td>-0.0007</td>\n",
       "      <td>1.000000e-07</td>\n",
       "      <td>1.000000e-09</td>\n",
       "      <td>160.0</td>\n",
       "      <td>eps</td>\n",
       "      <td>23</td>\n",
       "      <td>True</td>\n",
       "      <td>20</td>\n",
       "      <td>0.000000e+00</td>\n",
       "      <td>0.0</td>\n",
       "      <td>0.500406</td>\n",
       "    </tr>\n",
       "    <tr>\n",
       "      <th>850</th>\n",
       "      <td>0.00350</td>\n",
       "      <td>-0.0007</td>\n",
       "      <td>1.000000e-07</td>\n",
       "      <td>1.000000e-09</td>\n",
       "      <td>160.0</td>\n",
       "      <td>eps</td>\n",
       "      <td>23</td>\n",
       "      <td>True</td>\n",
       "      <td>20</td>\n",
       "      <td>5.000000e-07</td>\n",
       "      <td>0.0</td>\n",
       "      <td>0.500406</td>\n",
       "    </tr>\n",
       "    <tr>\n",
       "      <th>839</th>\n",
       "      <td>0.00350</td>\n",
       "      <td>-0.0007</td>\n",
       "      <td>1.000000e-07</td>\n",
       "      <td>1.000000e-09</td>\n",
       "      <td>153.0</td>\n",
       "      <td>eps</td>\n",
       "      <td>23</td>\n",
       "      <td>True</td>\n",
       "      <td>20</td>\n",
       "      <td>2.000000e-06</td>\n",
       "      <td>0.0</td>\n",
       "      <td>0.500384</td>\n",
       "    </tr>\n",
       "    <tr>\n",
       "      <th>840</th>\n",
       "      <td>0.00350</td>\n",
       "      <td>-0.0007</td>\n",
       "      <td>1.000000e-07</td>\n",
       "      <td>1.000000e-09</td>\n",
       "      <td>153.0</td>\n",
       "      <td>eps</td>\n",
       "      <td>23</td>\n",
       "      <td>True</td>\n",
       "      <td>20</td>\n",
       "      <td>0.000000e+00</td>\n",
       "      <td>0.0</td>\n",
       "      <td>0.500376</td>\n",
       "    </tr>\n",
       "    <tr>\n",
       "      <th>838</th>\n",
       "      <td>0.00350</td>\n",
       "      <td>-0.0007</td>\n",
       "      <td>1.000000e-07</td>\n",
       "      <td>1.000000e-09</td>\n",
       "      <td>153.0</td>\n",
       "      <td>eps</td>\n",
       "      <td>23</td>\n",
       "      <td>True</td>\n",
       "      <td>20</td>\n",
       "      <td>5.000000e-07</td>\n",
       "      <td>0.0</td>\n",
       "      <td>0.500376</td>\n",
       "    </tr>\n",
       "    <tr>\n",
       "      <th>449</th>\n",
       "      <td>0.00355</td>\n",
       "      <td>-0.0007</td>\n",
       "      <td>1.000000e-05</td>\n",
       "      <td>4.000000e-06</td>\n",
       "      <td>160.0</td>\n",
       "      <td>eps</td>\n",
       "      <td>4</td>\n",
       "      <td>True</td>\n",
       "      <td>20</td>\n",
       "      <td>0.000000e+00</td>\n",
       "      <td>0.0</td>\n",
       "      <td>0.500359</td>\n",
       "    </tr>\n",
       "    <tr>\n",
       "      <th>515</th>\n",
       "      <td>0.00350</td>\n",
       "      <td>-0.0007</td>\n",
       "      <td>3.000000e-06</td>\n",
       "      <td>1.000000e-12</td>\n",
       "      <td>150.0</td>\n",
       "      <td>eps</td>\n",
       "      <td>8</td>\n",
       "      <td>True</td>\n",
       "      <td>20</td>\n",
       "      <td>0.000000e+00</td>\n",
       "      <td>0.0</td>\n",
       "      <td>0.500338</td>\n",
       "    </tr>\n",
       "    <tr>\n",
       "      <th>791</th>\n",
       "      <td>0.00350</td>\n",
       "      <td>-0.0007</td>\n",
       "      <td>1.000000e-08</td>\n",
       "      <td>1.000000e-09</td>\n",
       "      <td>153.0</td>\n",
       "      <td>eps</td>\n",
       "      <td>21</td>\n",
       "      <td>True</td>\n",
       "      <td>19</td>\n",
       "      <td>1.000000e-06</td>\n",
       "      <td>0.0</td>\n",
       "      <td>0.500327</td>\n",
       "    </tr>\n",
       "    <tr>\n",
       "      <th>792</th>\n",
       "      <td>0.00350</td>\n",
       "      <td>-0.0007</td>\n",
       "      <td>1.000000e-08</td>\n",
       "      <td>1.000000e-09</td>\n",
       "      <td>153.0</td>\n",
       "      <td>eps</td>\n",
       "      <td>21</td>\n",
       "      <td>True</td>\n",
       "      <td>19</td>\n",
       "      <td>5.000000e-06</td>\n",
       "      <td>0.0</td>\n",
       "      <td>0.500322</td>\n",
       "    </tr>\n",
       "    <tr>\n",
       "      <th>983</th>\n",
       "      <td>0.00350</td>\n",
       "      <td>-0.0007</td>\n",
       "      <td>0.000000e+00</td>\n",
       "      <td>1.000000e-09</td>\n",
       "      <td>155.0</td>\n",
       "      <td>eps</td>\n",
       "      <td>25</td>\n",
       "      <td>True</td>\n",
       "      <td>21</td>\n",
       "      <td>1.500000e-06</td>\n",
       "      <td>0.0</td>\n",
       "      <td>0.500267</td>\n",
       "    </tr>\n",
       "    <tr>\n",
       "      <th>795</th>\n",
       "      <td>0.00350</td>\n",
       "      <td>-0.0007</td>\n",
       "      <td>1.000000e-08</td>\n",
       "      <td>1.000000e-09</td>\n",
       "      <td>170.0</td>\n",
       "      <td>eps</td>\n",
       "      <td>21</td>\n",
       "      <td>True</td>\n",
       "      <td>19</td>\n",
       "      <td>1.000000e-06</td>\n",
       "      <td>0.0</td>\n",
       "      <td>0.500243</td>\n",
       "    </tr>\n",
       "    <tr>\n",
       "      <th>796</th>\n",
       "      <td>0.00350</td>\n",
       "      <td>-0.0007</td>\n",
       "      <td>1.000000e-08</td>\n",
       "      <td>1.000000e-09</td>\n",
       "      <td>170.0</td>\n",
       "      <td>eps</td>\n",
       "      <td>21</td>\n",
       "      <td>True</td>\n",
       "      <td>19</td>\n",
       "      <td>5.000000e-06</td>\n",
       "      <td>0.0</td>\n",
       "      <td>0.500231</td>\n",
       "    </tr>\n",
       "    <tr>\n",
       "      <th>793</th>\n",
       "      <td>0.00350</td>\n",
       "      <td>-0.0007</td>\n",
       "      <td>1.000000e-08</td>\n",
       "      <td>1.000000e-09</td>\n",
       "      <td>153.0</td>\n",
       "      <td>eps</td>\n",
       "      <td>21</td>\n",
       "      <td>True</td>\n",
       "      <td>20</td>\n",
       "      <td>1.000000e-06</td>\n",
       "      <td>0.0</td>\n",
       "      <td>0.500185</td>\n",
       "    </tr>\n",
       "    <tr>\n",
       "      <th>794</th>\n",
       "      <td>0.00350</td>\n",
       "      <td>-0.0007</td>\n",
       "      <td>1.000000e-08</td>\n",
       "      <td>1.000000e-09</td>\n",
       "      <td>153.0</td>\n",
       "      <td>eps</td>\n",
       "      <td>21</td>\n",
       "      <td>True</td>\n",
       "      <td>20</td>\n",
       "      <td>5.000000e-06</td>\n",
       "      <td>0.0</td>\n",
       "      <td>0.500172</td>\n",
       "    </tr>\n",
       "    <tr>\n",
       "      <th>450</th>\n",
       "      <td>0.00355</td>\n",
       "      <td>-0.0007</td>\n",
       "      <td>1.000000e-05</td>\n",
       "      <td>4.000000e-06</td>\n",
       "      <td>170.0</td>\n",
       "      <td>eps</td>\n",
       "      <td>4</td>\n",
       "      <td>True</td>\n",
       "      <td>20</td>\n",
       "      <td>0.000000e+00</td>\n",
       "      <td>0.0</td>\n",
       "      <td>0.500144</td>\n",
       "    </tr>\n",
       "    <tr>\n",
       "      <th>932</th>\n",
       "      <td>0.00345</td>\n",
       "      <td>-0.0007</td>\n",
       "      <td>1.000000e-07</td>\n",
       "      <td>1.500000e-09</td>\n",
       "      <td>155.0</td>\n",
       "      <td>eps</td>\n",
       "      <td>27</td>\n",
       "      <td>True</td>\n",
       "      <td>20</td>\n",
       "      <td>1.500000e-06</td>\n",
       "      <td>0.0</td>\n",
       "      <td>0.500117</td>\n",
       "    </tr>\n",
       "    <tr>\n",
       "      <th>933</th>\n",
       "      <td>0.00345</td>\n",
       "      <td>-0.0007</td>\n",
       "      <td>1.000000e-07</td>\n",
       "      <td>1.500000e-09</td>\n",
       "      <td>155.0</td>\n",
       "      <td>eps</td>\n",
       "      <td>27</td>\n",
       "      <td>True</td>\n",
       "      <td>20</td>\n",
       "      <td>1.000000e-06</td>\n",
       "      <td>0.0</td>\n",
       "      <td>0.500117</td>\n",
       "    </tr>\n",
       "    <tr>\n",
       "      <th>575</th>\n",
       "      <td>0.00350</td>\n",
       "      <td>-0.0007</td>\n",
       "      <td>5.000000e-05</td>\n",
       "      <td>0.000000e+00</td>\n",
       "      <td>150.0</td>\n",
       "      <td>eps</td>\n",
       "      <td>13</td>\n",
       "      <td>True</td>\n",
       "      <td>20</td>\n",
       "      <td>0.000000e+00</td>\n",
       "      <td>0.0</td>\n",
       "      <td>0.500091</td>\n",
       "    </tr>\n",
       "    <tr>\n",
       "      <th>571</th>\n",
       "      <td>0.00350</td>\n",
       "      <td>-0.0007</td>\n",
       "      <td>5.000000e-05</td>\n",
       "      <td>1.000000e-10</td>\n",
       "      <td>150.0</td>\n",
       "      <td>eps</td>\n",
       "      <td>13</td>\n",
       "      <td>True</td>\n",
       "      <td>20</td>\n",
       "      <td>0.000000e+00</td>\n",
       "      <td>0.0</td>\n",
       "      <td>0.500087</td>\n",
       "    </tr>\n",
       "    <tr>\n",
       "      <th>439</th>\n",
       "      <td>0.00350</td>\n",
       "      <td>-0.0007</td>\n",
       "      <td>1.000000e-05</td>\n",
       "      <td>4.000000e-06</td>\n",
       "      <td>150.0</td>\n",
       "      <td>eps</td>\n",
       "      <td>-1</td>\n",
       "      <td>True</td>\n",
       "      <td>20</td>\n",
       "      <td>0.000000e+00</td>\n",
       "      <td>0.0</td>\n",
       "      <td>0.500080</td>\n",
       "    </tr>\n",
       "    <tr>\n",
       "      <th>448</th>\n",
       "      <td>0.00355</td>\n",
       "      <td>-0.0007</td>\n",
       "      <td>1.000000e-05</td>\n",
       "      <td>4.000000e-06</td>\n",
       "      <td>150.0</td>\n",
       "      <td>eps</td>\n",
       "      <td>-1</td>\n",
       "      <td>True</td>\n",
       "      <td>20</td>\n",
       "      <td>0.000000e+00</td>\n",
       "      <td>0.0</td>\n",
       "      <td>0.500064</td>\n",
       "    </tr>\n",
       "    <tr>\n",
       "      <th>797</th>\n",
       "      <td>0.00350</td>\n",
       "      <td>-0.0007</td>\n",
       "      <td>1.000000e-08</td>\n",
       "      <td>1.000000e-09</td>\n",
       "      <td>170.0</td>\n",
       "      <td>eps</td>\n",
       "      <td>21</td>\n",
       "      <td>True</td>\n",
       "      <td>20</td>\n",
       "      <td>1.000000e-06</td>\n",
       "      <td>0.0</td>\n",
       "      <td>0.500029</td>\n",
       "    </tr>\n",
       "    <tr>\n",
       "      <th>798</th>\n",
       "      <td>0.00350</td>\n",
       "      <td>-0.0007</td>\n",
       "      <td>1.000000e-08</td>\n",
       "      <td>1.000000e-09</td>\n",
       "      <td>170.0</td>\n",
       "      <td>eps</td>\n",
       "      <td>21</td>\n",
       "      <td>True</td>\n",
       "      <td>20</td>\n",
       "      <td>5.000000e-06</td>\n",
       "      <td>0.0</td>\n",
       "      <td>0.500010</td>\n",
       "    </tr>\n",
       "  </tbody>\n",
       "</table>\n",
       "<p>551 rows × 12 columns</p>\n",
       "</div>"
      ],
      "text/plain": [
       "          eps     dz0        stepdz       stepeps  loops step  weights  \\\n",
       "1250  0.00350  0.0000  1.500000e-07  5.000000e-04  175.0  eps       58   \n",
       "1251  0.00350  0.0000  1.500000e-07  7.500000e-04  175.0  eps       58   \n",
       "1248  0.00350  0.0000  1.500000e-07  2.000000e-05  175.0  eps       58   \n",
       "1249  0.00350  0.0000  1.500000e-07  2.500000e-05  175.0  eps       58   \n",
       "1219  0.00350  0.0000  1.500000e-07  7.000000e-08  250.0  eps       58   \n",
       "1218  0.00350  0.0000  1.500000e-07  7.000000e-08  250.0  eps       58   \n",
       "1213  0.00350  0.0000  1.500000e-07  7.000000e-08  250.0  eps       72   \n",
       "1217  0.00350  0.0000  1.500000e-07  7.000000e-08  250.0  eps       58   \n",
       "1212  0.00350  0.0000  1.500000e-07  7.000000e-08  250.0  eps       72   \n",
       "1252  0.00350  0.0000  1.500000e-07  1.000000e-03  175.0  eps       58   \n",
       "1211  0.00350  0.0000  1.500000e-07  7.000000e-08  250.0  eps       72   \n",
       "1137  0.00350 -0.0007  1.500000e-07  7.000000e-08  250.0  eps       58   \n",
       "1243  0.00350  0.0000  1.500000e-07  1.750000e-05  250.0  eps       58   \n",
       "1241  0.00350  0.0000  1.500000e-07  7.000000e-08  250.0  eps       58   \n",
       "1143  0.00350 -0.0007  1.500000e-07  1.500000e-09  250.0  eps       58   \n",
       "1138  0.00350 -0.0007  1.500000e-07  7.000000e-08  250.0  eps       58   \n",
       "1128  0.00350 -0.0007  1.500000e-07  1.500000e-09  250.0  eps       58   \n",
       "1118  0.00350 -0.0007  1.500000e-07  1.500000e-09  200.0  eps       58   \n",
       "1117  0.00350 -0.0007  1.500000e-07  1.500000e-09  200.0  eps       58   \n",
       "1133  0.00350 -0.0007  1.500000e-07  1.500000e-09  275.0  eps       58   \n",
       "1123  0.00350 -0.0007  1.500000e-07  1.500000e-09  200.0  eps       58   \n",
       "1216  0.00350  0.0000  1.500000e-07  7.000000e-08  250.0  eps       75   \n",
       "1215  0.00350  0.0000  1.500000e-07  7.000000e-08  250.0  eps       75   \n",
       "1131  0.00350 -0.0007  1.500000e-07  1.500000e-09  250.0  eps       65   \n",
       "1214  0.00350  0.0000  1.500000e-07  7.000000e-08  250.0  eps       75   \n",
       "1121  0.00350 -0.0007  1.500000e-07  1.500000e-09  200.0  eps       62   \n",
       "1122  0.00350 -0.0007  1.500000e-07  1.500000e-09  200.0  eps       62   \n",
       "1136  0.00350 -0.0007  1.500000e-07  1.500000e-09  275.0  eps       65   \n",
       "1120  0.00350 -0.0007  1.500000e-07  1.500000e-09  200.0  eps       61   \n",
       "1119  0.00350 -0.0007  1.500000e-07  1.500000e-09  200.0  eps       61   \n",
       "...       ...     ...           ...           ...    ...  ...      ...   \n",
       "836   0.00350 -0.0007  1.000000e-07  1.000000e-09  153.0  eps       23   \n",
       "872   0.00350 -0.0007  1.000000e-07  1.000000e-09  160.0  eps       22   \n",
       "871   0.00350 -0.0007  1.000000e-07  1.000000e-09  160.0  eps       22   \n",
       "837   0.00350 -0.0007  1.000000e-07  1.000000e-09  153.0  eps       23   \n",
       "835   0.00350 -0.0007  1.000000e-07  1.000000e-09  153.0  eps       23   \n",
       "982   0.00350 -0.0007  0.000000e+00  1.000000e-09  155.0  eps       25   \n",
       "851   0.00350 -0.0007  1.000000e-07  1.000000e-09  160.0  eps       23   \n",
       "852   0.00350 -0.0007  1.000000e-07  1.000000e-09  160.0  eps       23   \n",
       "850   0.00350 -0.0007  1.000000e-07  1.000000e-09  160.0  eps       23   \n",
       "839   0.00350 -0.0007  1.000000e-07  1.000000e-09  153.0  eps       23   \n",
       "840   0.00350 -0.0007  1.000000e-07  1.000000e-09  153.0  eps       23   \n",
       "838   0.00350 -0.0007  1.000000e-07  1.000000e-09  153.0  eps       23   \n",
       "449   0.00355 -0.0007  1.000000e-05  4.000000e-06  160.0  eps        4   \n",
       "515   0.00350 -0.0007  3.000000e-06  1.000000e-12  150.0  eps        8   \n",
       "791   0.00350 -0.0007  1.000000e-08  1.000000e-09  153.0  eps       21   \n",
       "792   0.00350 -0.0007  1.000000e-08  1.000000e-09  153.0  eps       21   \n",
       "983   0.00350 -0.0007  0.000000e+00  1.000000e-09  155.0  eps       25   \n",
       "795   0.00350 -0.0007  1.000000e-08  1.000000e-09  170.0  eps       21   \n",
       "796   0.00350 -0.0007  1.000000e-08  1.000000e-09  170.0  eps       21   \n",
       "793   0.00350 -0.0007  1.000000e-08  1.000000e-09  153.0  eps       21   \n",
       "794   0.00350 -0.0007  1.000000e-08  1.000000e-09  153.0  eps       21   \n",
       "450   0.00355 -0.0007  1.000000e-05  4.000000e-06  170.0  eps        4   \n",
       "932   0.00345 -0.0007  1.000000e-07  1.500000e-09  155.0  eps       27   \n",
       "933   0.00345 -0.0007  1.000000e-07  1.500000e-09  155.0  eps       27   \n",
       "575   0.00350 -0.0007  5.000000e-05  0.000000e+00  150.0  eps       13   \n",
       "571   0.00350 -0.0007  5.000000e-05  1.000000e-10  150.0  eps       13   \n",
       "439   0.00350 -0.0007  1.000000e-05  4.000000e-06  150.0  eps       -1   \n",
       "448   0.00355 -0.0007  1.000000e-05  4.000000e-06  150.0  eps       -1   \n",
       "797   0.00350 -0.0007  1.000000e-08  1.000000e-09  170.0  eps       21   \n",
       "798   0.00350 -0.0007  1.000000e-08  1.000000e-09  170.0  eps       21   \n",
       "\n",
       "      final_cluster  max_size        step_z  size_incr       acc  \n",
       "1250           True        20  4.500000e-05        0.0  0.534498  \n",
       "1251           True        20  4.500000e-05        0.0  0.534269  \n",
       "1248           True        20  4.500000e-05        0.0  0.533295  \n",
       "1249           True        20  4.500000e-05        0.0  0.533243  \n",
       "1219           True        19  4.500000e-05        0.0  0.531658  \n",
       "1218           True        20  4.500000e-05        0.0  0.531555  \n",
       "1213           True        19  4.500000e-05        0.0  0.531324  \n",
       "1217           True        21  4.500000e-05        0.0  0.531264  \n",
       "1212           True        20  4.500000e-05        0.0  0.531248  \n",
       "1252           True        20  4.500000e-05        0.0  0.531127  \n",
       "1211           True        21  4.500000e-05        0.0  0.530849  \n",
       "1137           True        20  4.500000e-05        0.0  0.530545  \n",
       "1243           True        20  4.500000e-05        0.0  0.530535  \n",
       "1241           True        20  4.500000e-05        0.0  0.530535  \n",
       "1143           True        20  4.500000e-05        0.0  0.530490  \n",
       "1138           True        20  2.000000e-06        0.0  0.530473  \n",
       "1128           True        20  2.000000e-06        0.0  0.530456  \n",
       "1118           True        20  2.000000e-06        0.0  0.530382  \n",
       "1117           True        20  0.000000e+00        0.0  0.530377  \n",
       "1133           True        20  2.000000e-06        0.0  0.530093  \n",
       "1123           True        20  2.000000e-06        0.0  0.529915  \n",
       "1216           True        19  4.500000e-05        0.0  0.529876  \n",
       "1215           True        20  4.500000e-05        0.0  0.529737  \n",
       "1131           True        20  2.000000e-06        0.0  0.529439  \n",
       "1214           True        21  4.500000e-05        0.0  0.529336  \n",
       "1121           True        20  0.000000e+00        0.0  0.529137  \n",
       "1122           True        20  2.000000e-06        0.0  0.529122  \n",
       "1136           True        20  2.000000e-06        0.0  0.529003  \n",
       "1120           True        20  2.000000e-06        0.0  0.528761  \n",
       "1119           True        20  0.000000e+00        0.0  0.528761  \n",
       "...             ...       ...           ...        ...       ...  \n",
       "836            True        19  2.000000e-06        0.0  0.500433  \n",
       "872            True        22  0.000000e+00        0.0  0.500433  \n",
       "871            True        22  3.000000e-06        0.0  0.500432  \n",
       "837            True        19  0.000000e+00        0.0  0.500426  \n",
       "835            True        19  5.000000e-07        0.0  0.500426  \n",
       "982            True        20  1.500000e-06        0.0  0.500414  \n",
       "851            True        20  2.000000e-06        0.0  0.500413  \n",
       "852            True        20  0.000000e+00        0.0  0.500406  \n",
       "850            True        20  5.000000e-07        0.0  0.500406  \n",
       "839            True        20  2.000000e-06        0.0  0.500384  \n",
       "840            True        20  0.000000e+00        0.0  0.500376  \n",
       "838            True        20  5.000000e-07        0.0  0.500376  \n",
       "449            True        20  0.000000e+00        0.0  0.500359  \n",
       "515            True        20  0.000000e+00        0.0  0.500338  \n",
       "791            True        19  1.000000e-06        0.0  0.500327  \n",
       "792            True        19  5.000000e-06        0.0  0.500322  \n",
       "983            True        21  1.500000e-06        0.0  0.500267  \n",
       "795            True        19  1.000000e-06        0.0  0.500243  \n",
       "796            True        19  5.000000e-06        0.0  0.500231  \n",
       "793            True        20  1.000000e-06        0.0  0.500185  \n",
       "794            True        20  5.000000e-06        0.0  0.500172  \n",
       "450            True        20  0.000000e+00        0.0  0.500144  \n",
       "932            True        20  1.500000e-06        0.0  0.500117  \n",
       "933            True        20  1.000000e-06        0.0  0.500117  \n",
       "575            True        20  0.000000e+00        0.0  0.500091  \n",
       "571            True        20  0.000000e+00        0.0  0.500087  \n",
       "439            True        20  0.000000e+00        0.0  0.500080  \n",
       "448            True        20  0.000000e+00        0.0  0.500064  \n",
       "797            True        20  1.000000e-06        0.0  0.500029  \n",
       "798            True        20  5.000000e-06        0.0  0.500010  \n",
       "\n",
       "[551 rows x 12 columns]"
      ]
     },
     "execution_count": 9,
     "metadata": {},
     "output_type": "execute_result"
    }
   ],
   "source": [
    "results_df.sort_values(\"acc\", ascending=False)"
   ]
  },
  {
   "cell_type": "code",
   "execution_count": 12,
   "metadata": {},
   "outputs": [],
   "source": [
    "results_df.sort_values(\"acc\", ascending=False).to_pickle(\"gs_results.pkl\")"
   ]
  },
  {
   "cell_type": "markdown",
   "metadata": {},
   "source": [
    "### EDA"
   ]
  },
  {
   "cell_type": "code",
   "execution_count": 66,
   "metadata": {},
   "outputs": [],
   "source": [
    "for event_id, hits, cells, particles, truth in load_dataset(\"./data/train_1\", skip=40, nevents=1):\n",
    "    # Track pattern recognition\n",
    "    model = Clusterer(eps=0.0035, dz0=0, stepdz=1.5e-7, stepeps=7e-8, num_loops=100, final_cluster=True, weight=58, weight_arr=weights_arr, max_size=20, step_z=0.000045, size_incr=0)\n",
    "    labels = model._init(hits)"
   ]
  },
  {
   "cell_type": "code",
   "execution_count": 10,
   "metadata": {
    "scrolled": true
   },
   "outputs": [
    {
     "data": {
      "text/html": [
       "<div>\n",
       "<style scoped>\n",
       "    .dataframe tbody tr th:only-of-type {\n",
       "        vertical-align: middle;\n",
       "    }\n",
       "\n",
       "    .dataframe tbody tr th {\n",
       "        vertical-align: top;\n",
       "    }\n",
       "\n",
       "    .dataframe thead th {\n",
       "        text-align: right;\n",
       "    }\n",
       "</style>\n",
       "<table border=\"1\" class=\"dataframe\">\n",
       "  <thead>\n",
       "    <tr style=\"text-align: right;\">\n",
       "      <th></th>\n",
       "      <th>hit_id</th>\n",
       "      <th>x</th>\n",
       "      <th>y</th>\n",
       "      <th>z</th>\n",
       "      <th>volume_id</th>\n",
       "      <th>layer_id</th>\n",
       "      <th>module_id</th>\n",
       "      <th>s1</th>\n",
       "      <th>N1</th>\n",
       "      <th>stepped_z</th>\n",
       "      <th>...</th>\n",
       "      <th>z1</th>\n",
       "      <th>z2</th>\n",
       "      <th>z3</th>\n",
       "      <th>a1</th>\n",
       "      <th>x2</th>\n",
       "      <th>y2</th>\n",
       "      <th>sina1</th>\n",
       "      <th>cosa1</th>\n",
       "      <th>s2</th>\n",
       "      <th>N2</th>\n",
       "    </tr>\n",
       "  </thead>\n",
       "  <tbody>\n",
       "    <tr>\n",
       "      <th>0</th>\n",
       "      <td>1</td>\n",
       "      <td>-48.674801</td>\n",
       "      <td>-5.761740</td>\n",
       "      <td>-1502.5</td>\n",
       "      <td>7</td>\n",
       "      <td>2</td>\n",
       "      <td>1</td>\n",
       "      <td>0</td>\n",
       "      <td>2</td>\n",
       "      <td>-1502.495605</td>\n",
       "      <td>...</td>\n",
       "      <td>-30.654200</td>\n",
       "      <td>-0.999468</td>\n",
       "      <td>-0.032622</td>\n",
       "      <td>-2.981392</td>\n",
       "      <td>-0.032379</td>\n",
       "      <td>-0.003833</td>\n",
       "      <td>-0.159516</td>\n",
       "      <td>-0.987195</td>\n",
       "      <td>0</td>\n",
       "      <td>2</td>\n",
       "    </tr>\n",
       "    <tr>\n",
       "      <th>1</th>\n",
       "      <td>2</td>\n",
       "      <td>-75.548500</td>\n",
       "      <td>-9.682310</td>\n",
       "      <td>-1502.5</td>\n",
       "      <td>7</td>\n",
       "      <td>2</td>\n",
       "      <td>1</td>\n",
       "      <td>1822912</td>\n",
       "      <td>15</td>\n",
       "      <td>-1502.495605</td>\n",
       "      <td>...</td>\n",
       "      <td>-19.726601</td>\n",
       "      <td>-0.998718</td>\n",
       "      <td>-0.050693</td>\n",
       "      <td>-2.948250</td>\n",
       "      <td>-0.050217</td>\n",
       "      <td>-0.006436</td>\n",
       "      <td>-0.192141</td>\n",
       "      <td>-0.981367</td>\n",
       "      <td>1</td>\n",
       "      <td>2</td>\n",
       "    </tr>\n",
       "    <tr>\n",
       "      <th>2</th>\n",
       "      <td>3</td>\n",
       "      <td>-69.968399</td>\n",
       "      <td>-5.581860</td>\n",
       "      <td>-1502.5</td>\n",
       "      <td>7</td>\n",
       "      <td>2</td>\n",
       "      <td>1</td>\n",
       "      <td>2</td>\n",
       "      <td>1</td>\n",
       "      <td>-1502.495605</td>\n",
       "      <td>...</td>\n",
       "      <td>-21.406033</td>\n",
       "      <td>-0.998911</td>\n",
       "      <td>-0.046716</td>\n",
       "      <td>-3.001281</td>\n",
       "      <td>-0.046517</td>\n",
       "      <td>-0.003711</td>\n",
       "      <td>-0.139852</td>\n",
       "      <td>-0.990172</td>\n",
       "      <td>2</td>\n",
       "      <td>1</td>\n",
       "    </tr>\n",
       "    <tr>\n",
       "      <th>3</th>\n",
       "      <td>4</td>\n",
       "      <td>-35.324799</td>\n",
       "      <td>-2.704890</td>\n",
       "      <td>-1502.5</td>\n",
       "      <td>7</td>\n",
       "      <td>2</td>\n",
       "      <td>1</td>\n",
       "      <td>3</td>\n",
       "      <td>1</td>\n",
       "      <td>-1502.495605</td>\n",
       "      <td>...</td>\n",
       "      <td>-42.409836</td>\n",
       "      <td>-0.999722</td>\n",
       "      <td>-0.023579</td>\n",
       "      <td>-3.034546</td>\n",
       "      <td>-0.023504</td>\n",
       "      <td>-0.001800</td>\n",
       "      <td>-0.106842</td>\n",
       "      <td>-0.994276</td>\n",
       "      <td>3</td>\n",
       "      <td>1</td>\n",
       "    </tr>\n",
       "    <tr>\n",
       "      <th>4</th>\n",
       "      <td>5</td>\n",
       "      <td>-99.261803</td>\n",
       "      <td>-11.197500</td>\n",
       "      <td>-1502.5</td>\n",
       "      <td>7</td>\n",
       "      <td>2</td>\n",
       "      <td>1</td>\n",
       "      <td>5588395</td>\n",
       "      <td>4</td>\n",
       "      <td>-1502.495605</td>\n",
       "      <td>...</td>\n",
       "      <td>-15.041381</td>\n",
       "      <td>-0.997797</td>\n",
       "      <td>-0.066483</td>\n",
       "      <td>-2.942832</td>\n",
       "      <td>-0.065919</td>\n",
       "      <td>-0.007436</td>\n",
       "      <td>-0.197455</td>\n",
       "      <td>-0.980312</td>\n",
       "      <td>4</td>\n",
       "      <td>1</td>\n",
       "    </tr>\n",
       "    <tr>\n",
       "      <th>5</th>\n",
       "      <td>6</td>\n",
       "      <td>-67.558197</td>\n",
       "      <td>-6.094340</td>\n",
       "      <td>-1502.5</td>\n",
       "      <td>7</td>\n",
       "      <td>2</td>\n",
       "      <td>1</td>\n",
       "      <td>5</td>\n",
       "      <td>14</td>\n",
       "      <td>-1502.495605</td>\n",
       "      <td>...</td>\n",
       "      <td>-22.150208</td>\n",
       "      <td>-0.998982</td>\n",
       "      <td>-0.045146</td>\n",
       "      <td>-2.992965</td>\n",
       "      <td>-0.044918</td>\n",
       "      <td>-0.004052</td>\n",
       "      <td>-0.148081</td>\n",
       "      <td>-0.988975</td>\n",
       "      <td>5</td>\n",
       "      <td>1</td>\n",
       "    </tr>\n",
       "    <tr>\n",
       "      <th>6</th>\n",
       "      <td>7</td>\n",
       "      <td>-63.736301</td>\n",
       "      <td>3.384740</td>\n",
       "      <td>-1502.5</td>\n",
       "      <td>7</td>\n",
       "      <td>2</td>\n",
       "      <td>1</td>\n",
       "      <td>6</td>\n",
       "      <td>11</td>\n",
       "      <td>-1502.495605</td>\n",
       "      <td>...</td>\n",
       "      <td>-23.540590</td>\n",
       "      <td>-0.999099</td>\n",
       "      <td>-0.042480</td>\n",
       "      <td>3.143731</td>\n",
       "      <td>-0.042382</td>\n",
       "      <td>0.002251</td>\n",
       "      <td>-0.002139</td>\n",
       "      <td>-0.999998</td>\n",
       "      <td>6</td>\n",
       "      <td>2</td>\n",
       "    </tr>\n",
       "    <tr>\n",
       "      <th>7</th>\n",
       "      <td>8</td>\n",
       "      <td>-59.426899</td>\n",
       "      <td>-12.626500</td>\n",
       "      <td>-1502.5</td>\n",
       "      <td>7</td>\n",
       "      <td>2</td>\n",
       "      <td>1</td>\n",
       "      <td>4726944</td>\n",
       "      <td>12</td>\n",
       "      <td>-1502.495605</td>\n",
       "      <td>...</td>\n",
       "      <td>-24.731169</td>\n",
       "      <td>-0.999184</td>\n",
       "      <td>-0.040435</td>\n",
       "      <td>-2.879700</td>\n",
       "      <td>-0.039520</td>\n",
       "      <td>-0.008397</td>\n",
       "      <td>-0.258909</td>\n",
       "      <td>-0.965902</td>\n",
       "      <td>7</td>\n",
       "      <td>2</td>\n",
       "    </tr>\n",
       "    <tr>\n",
       "      <th>8</th>\n",
       "      <td>9</td>\n",
       "      <td>-78.164299</td>\n",
       "      <td>-1.813290</td>\n",
       "      <td>-1502.5</td>\n",
       "      <td>7</td>\n",
       "      <td>2</td>\n",
       "      <td>1</td>\n",
       "      <td>8</td>\n",
       "      <td>2</td>\n",
       "      <td>-1502.495605</td>\n",
       "      <td>...</td>\n",
       "      <td>-19.217215</td>\n",
       "      <td>-0.998649</td>\n",
       "      <td>-0.052037</td>\n",
       "      <td>-3.050773</td>\n",
       "      <td>-0.051952</td>\n",
       "      <td>-0.001205</td>\n",
       "      <td>-0.090695</td>\n",
       "      <td>-0.995879</td>\n",
       "      <td>8</td>\n",
       "      <td>2</td>\n",
       "    </tr>\n",
       "    <tr>\n",
       "      <th>9</th>\n",
       "      <td>10</td>\n",
       "      <td>-83.351303</td>\n",
       "      <td>0.286217</td>\n",
       "      <td>-1502.5</td>\n",
       "      <td>7</td>\n",
       "      <td>2</td>\n",
       "      <td>1</td>\n",
       "      <td>3127933</td>\n",
       "      <td>16</td>\n",
       "      <td>-1502.495605</td>\n",
       "      <td>...</td>\n",
       "      <td>-18.026058</td>\n",
       "      <td>-0.998465</td>\n",
       "      <td>-0.055475</td>\n",
       "      <td>3.210259</td>\n",
       "      <td>-0.055390</td>\n",
       "      <td>0.000190</td>\n",
       "      <td>-0.068612</td>\n",
       "      <td>-0.997643</td>\n",
       "      <td>9</td>\n",
       "      <td>2</td>\n",
       "    </tr>\n",
       "    <tr>\n",
       "      <th>10</th>\n",
       "      <td>11</td>\n",
       "      <td>-91.341797</td>\n",
       "      <td>-14.536400</td>\n",
       "      <td>-1502.5</td>\n",
       "      <td>7</td>\n",
       "      <td>2</td>\n",
       "      <td>1</td>\n",
       "      <td>5502020</td>\n",
       "      <td>2</td>\n",
       "      <td>-1502.495605</td>\n",
       "      <td>...</td>\n",
       "      <td>-16.244827</td>\n",
       "      <td>-0.998111</td>\n",
       "      <td>-0.061558</td>\n",
       "      <td>-2.903757</td>\n",
       "      <td>-0.060678</td>\n",
       "      <td>-0.009657</td>\n",
       "      <td>-0.235600</td>\n",
       "      <td>-0.971850</td>\n",
       "      <td>10</td>\n",
       "      <td>2</td>\n",
       "    </tr>\n",
       "    <tr>\n",
       "      <th>11</th>\n",
       "      <td>12</td>\n",
       "      <td>-66.740898</td>\n",
       "      <td>-10.744500</td>\n",
       "      <td>-1502.5</td>\n",
       "      <td>7</td>\n",
       "      <td>2</td>\n",
       "      <td>1</td>\n",
       "      <td>1422236</td>\n",
       "      <td>14</td>\n",
       "      <td>-1502.495605</td>\n",
       "      <td>...</td>\n",
       "      <td>-22.226318</td>\n",
       "      <td>-0.998989</td>\n",
       "      <td>-0.044992</td>\n",
       "      <td>-2.923513</td>\n",
       "      <td>-0.044375</td>\n",
       "      <td>-0.007144</td>\n",
       "      <td>-0.216355</td>\n",
       "      <td>-0.976315</td>\n",
       "      <td>11</td>\n",
       "      <td>2</td>\n",
       "    </tr>\n",
       "    <tr>\n",
       "      <th>12</th>\n",
       "      <td>13</td>\n",
       "      <td>-60.177299</td>\n",
       "      <td>-3.808200</td>\n",
       "      <td>-1502.5</td>\n",
       "      <td>7</td>\n",
       "      <td>2</td>\n",
       "      <td>1</td>\n",
       "      <td>12</td>\n",
       "      <td>12</td>\n",
       "      <td>-1502.495605</td>\n",
       "      <td>...</td>\n",
       "      <td>-24.918114</td>\n",
       "      <td>-0.999196</td>\n",
       "      <td>-0.040131</td>\n",
       "      <td>-3.026254</td>\n",
       "      <td>-0.040019</td>\n",
       "      <td>-0.002533</td>\n",
       "      <td>-0.115083</td>\n",
       "      <td>-0.993356</td>\n",
       "      <td>12</td>\n",
       "      <td>1</td>\n",
       "    </tr>\n",
       "    <tr>\n",
       "      <th>13</th>\n",
       "      <td>14</td>\n",
       "      <td>-96.132599</td>\n",
       "      <td>-7.941960</td>\n",
       "      <td>-1502.5</td>\n",
       "      <td>7</td>\n",
       "      <td>2</td>\n",
       "      <td>1</td>\n",
       "      <td>237016</td>\n",
       "      <td>12</td>\n",
       "      <td>-1502.495605</td>\n",
       "      <td>...</td>\n",
       "      <td>-15.576433</td>\n",
       "      <td>-0.997946</td>\n",
       "      <td>-0.064200</td>\n",
       "      <td>-2.975710</td>\n",
       "      <td>-0.063850</td>\n",
       "      <td>-0.005275</td>\n",
       "      <td>-0.165123</td>\n",
       "      <td>-0.986273</td>\n",
       "      <td>13</td>\n",
       "      <td>1</td>\n",
       "    </tr>\n",
       "    <tr>\n",
       "      <th>14</th>\n",
       "      <td>15</td>\n",
       "      <td>-93.830498</td>\n",
       "      <td>-15.685200</td>\n",
       "      <td>-1502.5</td>\n",
       "      <td>7</td>\n",
       "      <td>2</td>\n",
       "      <td>1</td>\n",
       "      <td>3210493</td>\n",
       "      <td>2</td>\n",
       "      <td>-1502.495605</td>\n",
       "      <td>...</td>\n",
       "      <td>-15.793812</td>\n",
       "      <td>-0.998002</td>\n",
       "      <td>-0.063316</td>\n",
       "      <td>-2.893654</td>\n",
       "      <td>-0.062325</td>\n",
       "      <td>-0.010419</td>\n",
       "      <td>-0.245406</td>\n",
       "      <td>-0.969420</td>\n",
       "      <td>14</td>\n",
       "      <td>1</td>\n",
       "    </tr>\n",
       "    <tr>\n",
       "      <th>15</th>\n",
       "      <td>16</td>\n",
       "      <td>-87.631104</td>\n",
       "      <td>-1.254320</td>\n",
       "      <td>-1502.5</td>\n",
       "      <td>7</td>\n",
       "      <td>2</td>\n",
       "      <td>1</td>\n",
       "      <td>15</td>\n",
       "      <td>15</td>\n",
       "      <td>-1502.495605</td>\n",
       "      <td>...</td>\n",
       "      <td>-17.144032</td>\n",
       "      <td>-0.998303</td>\n",
       "      <td>-0.058329</td>\n",
       "      <td>-3.051466</td>\n",
       "      <td>-0.058224</td>\n",
       "      <td>-0.000833</td>\n",
       "      <td>-0.090005</td>\n",
       "      <td>-0.995941</td>\n",
       "      <td>15</td>\n",
       "      <td>2</td>\n",
       "    </tr>\n",
       "    <tr>\n",
       "      <th>16</th>\n",
       "      <td>17</td>\n",
       "      <td>-82.778000</td>\n",
       "      <td>-13.260600</td>\n",
       "      <td>-1502.5</td>\n",
       "      <td>7</td>\n",
       "      <td>2</td>\n",
       "      <td>1</td>\n",
       "      <td>7803580</td>\n",
       "      <td>6</td>\n",
       "      <td>-1502.495605</td>\n",
       "      <td>...</td>\n",
       "      <td>-17.922501</td>\n",
       "      <td>-0.998447</td>\n",
       "      <td>-0.055796</td>\n",
       "      <td>-2.910231</td>\n",
       "      <td>-0.055008</td>\n",
       "      <td>-0.008812</td>\n",
       "      <td>-0.229303</td>\n",
       "      <td>-0.973355</td>\n",
       "      <td>16</td>\n",
       "      <td>6</td>\n",
       "    </tr>\n",
       "    <tr>\n",
       "      <th>17</th>\n",
       "      <td>18</td>\n",
       "      <td>-84.366203</td>\n",
       "      <td>-10.476600</td>\n",
       "      <td>-1502.5</td>\n",
       "      <td>7</td>\n",
       "      <td>2</td>\n",
       "      <td>1</td>\n",
       "      <td>2145544</td>\n",
       "      <td>14</td>\n",
       "      <td>-1502.495605</td>\n",
       "      <td>...</td>\n",
       "      <td>-17.673569</td>\n",
       "      <td>-0.998403</td>\n",
       "      <td>-0.056582</td>\n",
       "      <td>-2.944505</td>\n",
       "      <td>-0.056061</td>\n",
       "      <td>-0.006962</td>\n",
       "      <td>-0.195814</td>\n",
       "      <td>-0.980641</td>\n",
       "      <td>17</td>\n",
       "      <td>1</td>\n",
       "    </tr>\n",
       "    <tr>\n",
       "      <th>18</th>\n",
       "      <td>19</td>\n",
       "      <td>-36.901402</td>\n",
       "      <td>-9.198610</td>\n",
       "      <td>-1502.5</td>\n",
       "      <td>7</td>\n",
       "      <td>2</td>\n",
       "      <td>1</td>\n",
       "      <td>18</td>\n",
       "      <td>1</td>\n",
       "      <td>-1502.495605</td>\n",
       "      <td>...</td>\n",
       "      <td>-39.507759</td>\n",
       "      <td>-0.999680</td>\n",
       "      <td>-0.025311</td>\n",
       "      <td>-2.864422</td>\n",
       "      <td>-0.024552</td>\n",
       "      <td>-0.006120</td>\n",
       "      <td>-0.273636</td>\n",
       "      <td>-0.961833</td>\n",
       "      <td>18</td>\n",
       "      <td>1</td>\n",
       "    </tr>\n",
       "    <tr>\n",
       "      <th>19</th>\n",
       "      <td>20</td>\n",
       "      <td>-62.858200</td>\n",
       "      <td>-12.043900</td>\n",
       "      <td>-1502.5</td>\n",
       "      <td>7</td>\n",
       "      <td>2</td>\n",
       "      <td>1</td>\n",
       "      <td>2307828</td>\n",
       "      <td>12</td>\n",
       "      <td>-1502.495605</td>\n",
       "      <td>...</td>\n",
       "      <td>-23.476032</td>\n",
       "      <td>-0.999094</td>\n",
       "      <td>-0.042597</td>\n",
       "      <td>-2.896937</td>\n",
       "      <td>-0.041798</td>\n",
       "      <td>-0.008009</td>\n",
       "      <td>-0.242222</td>\n",
       "      <td>-0.970221</td>\n",
       "      <td>19</td>\n",
       "      <td>2</td>\n",
       "    </tr>\n",
       "    <tr>\n",
       "      <th>20</th>\n",
       "      <td>21</td>\n",
       "      <td>-51.928200</td>\n",
       "      <td>-0.367017</td>\n",
       "      <td>-1502.5</td>\n",
       "      <td>7</td>\n",
       "      <td>2</td>\n",
       "      <td>1</td>\n",
       "      <td>20</td>\n",
       "      <td>1</td>\n",
       "      <td>-1502.495605</td>\n",
       "      <td>...</td>\n",
       "      <td>-28.933544</td>\n",
       "      <td>-0.999403</td>\n",
       "      <td>-0.034562</td>\n",
       "      <td>-3.089627</td>\n",
       "      <td>-0.034540</td>\n",
       "      <td>-0.000244</td>\n",
       "      <td>-0.051943</td>\n",
       "      <td>-0.998650</td>\n",
       "      <td>20</td>\n",
       "      <td>1</td>\n",
       "    </tr>\n",
       "    <tr>\n",
       "      <th>21</th>\n",
       "      <td>22</td>\n",
       "      <td>-74.732399</td>\n",
       "      <td>-4.602630</td>\n",
       "      <td>-1502.5</td>\n",
       "      <td>7</td>\n",
       "      <td>2</td>\n",
       "      <td>1</td>\n",
       "      <td>21</td>\n",
       "      <td>1</td>\n",
       "      <td>-1502.495605</td>\n",
       "      <td>...</td>\n",
       "      <td>-20.067104</td>\n",
       "      <td>-0.998761</td>\n",
       "      <td>-0.049833</td>\n",
       "      <td>-3.015324</td>\n",
       "      <td>-0.049677</td>\n",
       "      <td>-0.003060</td>\n",
       "      <td>-0.125934</td>\n",
       "      <td>-0.992039</td>\n",
       "      <td>21</td>\n",
       "      <td>1</td>\n",
       "    </tr>\n",
       "    <tr>\n",
       "      <th>22</th>\n",
       "      <td>23</td>\n",
       "      <td>-103.884003</td>\n",
       "      <td>-12.836400</td>\n",
       "      <td>-1502.0</td>\n",
       "      <td>7</td>\n",
       "      <td>2</td>\n",
       "      <td>2</td>\n",
       "      <td>2307831</td>\n",
       "      <td>13</td>\n",
       "      <td>-1501.995605</td>\n",
       "      <td>...</td>\n",
       "      <td>-14.349346</td>\n",
       "      <td>-0.997580</td>\n",
       "      <td>-0.069690</td>\n",
       "      <td>-2.928079</td>\n",
       "      <td>-0.068996</td>\n",
       "      <td>-0.008526</td>\n",
       "      <td>-0.211895</td>\n",
       "      <td>-0.977292</td>\n",
       "      <td>22</td>\n",
       "      <td>2</td>\n",
       "    </tr>\n",
       "    <tr>\n",
       "      <th>23</th>\n",
       "      <td>24</td>\n",
       "      <td>-155.029999</td>\n",
       "      <td>-3.939040</td>\n",
       "      <td>-1502.0</td>\n",
       "      <td>7</td>\n",
       "      <td>2</td>\n",
       "      <td>2</td>\n",
       "      <td>2064563</td>\n",
       "      <td>15</td>\n",
       "      <td>-1501.995605</td>\n",
       "      <td>...</td>\n",
       "      <td>-9.685350</td>\n",
       "      <td>-0.994712</td>\n",
       "      <td>-0.103249</td>\n",
       "      <td>-2.981902</td>\n",
       "      <td>-0.102670</td>\n",
       "      <td>-0.002609</td>\n",
       "      <td>-0.159013</td>\n",
       "      <td>-0.987276</td>\n",
       "      <td>23</td>\n",
       "      <td>2</td>\n",
       "    </tr>\n",
       "    <tr>\n",
       "      <th>24</th>\n",
       "      <td>25</td>\n",
       "      <td>-122.973999</td>\n",
       "      <td>-8.463410</td>\n",
       "      <td>-1502.0</td>\n",
       "      <td>7</td>\n",
       "      <td>2</td>\n",
       "      <td>2</td>\n",
       "      <td>2798314</td>\n",
       "      <td>10</td>\n",
       "      <td>-1501.995605</td>\n",
       "      <td>...</td>\n",
       "      <td>-12.185176</td>\n",
       "      <td>-0.996649</td>\n",
       "      <td>-0.082067</td>\n",
       "      <td>-2.966190</td>\n",
       "      <td>-0.081599</td>\n",
       "      <td>-0.005616</td>\n",
       "      <td>-0.174505</td>\n",
       "      <td>-0.984656</td>\n",
       "      <td>24</td>\n",
       "      <td>1</td>\n",
       "    </tr>\n",
       "    <tr>\n",
       "      <th>25</th>\n",
       "      <td>26</td>\n",
       "      <td>-164.014999</td>\n",
       "      <td>-10.461000</td>\n",
       "      <td>-1502.0</td>\n",
       "      <td>7</td>\n",
       "      <td>2</td>\n",
       "      <td>2</td>\n",
       "      <td>4812712</td>\n",
       "      <td>1</td>\n",
       "      <td>-1501.995605</td>\n",
       "      <td>...</td>\n",
       "      <td>-9.139155</td>\n",
       "      <td>-0.994067</td>\n",
       "      <td>-0.109419</td>\n",
       "      <td>-2.935565</td>\n",
       "      <td>-0.108550</td>\n",
       "      <td>-0.006923</td>\n",
       "      <td>-0.204573</td>\n",
       "      <td>-0.978851</td>\n",
       "      <td>25</td>\n",
       "      <td>1</td>\n",
       "    </tr>\n",
       "    <tr>\n",
       "      <th>26</th>\n",
       "      <td>27</td>\n",
       "      <td>-141.460007</td>\n",
       "      <td>0.942888</td>\n",
       "      <td>-1502.0</td>\n",
       "      <td>7</td>\n",
       "      <td>2</td>\n",
       "      <td>2</td>\n",
       "      <td>1983944</td>\n",
       "      <td>4</td>\n",
       "      <td>-1501.995605</td>\n",
       "      <td>...</td>\n",
       "      <td>-10.617637</td>\n",
       "      <td>-0.995594</td>\n",
       "      <td>-0.094183</td>\n",
       "      <td>3.257399</td>\n",
       "      <td>-0.093766</td>\n",
       "      <td>0.000625</td>\n",
       "      <td>-0.115548</td>\n",
       "      <td>-0.993302</td>\n",
       "      <td>26</td>\n",
       "      <td>2</td>\n",
       "    </tr>\n",
       "    <tr>\n",
       "      <th>27</th>\n",
       "      <td>28</td>\n",
       "      <td>-156.419006</td>\n",
       "      <td>-4.854170</td>\n",
       "      <td>-1502.0</td>\n",
       "      <td>7</td>\n",
       "      <td>2</td>\n",
       "      <td>2</td>\n",
       "      <td>2064563</td>\n",
       "      <td>15</td>\n",
       "      <td>-1501.995605</td>\n",
       "      <td>...</td>\n",
       "      <td>-9.597821</td>\n",
       "      <td>-0.994616</td>\n",
       "      <td>-0.104190</td>\n",
       "      <td>-2.975054</td>\n",
       "      <td>-0.103579</td>\n",
       "      <td>-0.003214</td>\n",
       "      <td>-0.165770</td>\n",
       "      <td>-0.986164</td>\n",
       "      <td>27</td>\n",
       "      <td>9</td>\n",
       "    </tr>\n",
       "    <tr>\n",
       "      <th>28</th>\n",
       "      <td>29</td>\n",
       "      <td>-150.740997</td>\n",
       "      <td>-9.847230</td>\n",
       "      <td>-1502.0</td>\n",
       "      <td>7</td>\n",
       "      <td>2</td>\n",
       "      <td>2</td>\n",
       "      <td>4898332</td>\n",
       "      <td>11</td>\n",
       "      <td>-1501.995605</td>\n",
       "      <td>...</td>\n",
       "      <td>-9.942947</td>\n",
       "      <td>-0.994980</td>\n",
       "      <td>-0.100574</td>\n",
       "      <td>-2.945559</td>\n",
       "      <td>-0.099856</td>\n",
       "      <td>-0.006523</td>\n",
       "      <td>-0.194781</td>\n",
       "      <td>-0.980847</td>\n",
       "      <td>28</td>\n",
       "      <td>1</td>\n",
       "    </tr>\n",
       "    <tr>\n",
       "      <th>29</th>\n",
       "      <td>30</td>\n",
       "      <td>-120.870003</td>\n",
       "      <td>-13.952400</td>\n",
       "      <td>-1502.0</td>\n",
       "      <td>7</td>\n",
       "      <td>2</td>\n",
       "      <td>2</td>\n",
       "      <td>29</td>\n",
       "      <td>1</td>\n",
       "      <td>-1501.995605</td>\n",
       "      <td>...</td>\n",
       "      <td>-12.344637</td>\n",
       "      <td>-0.996735</td>\n",
       "      <td>-0.081007</td>\n",
       "      <td>-2.921360</td>\n",
       "      <td>-0.080210</td>\n",
       "      <td>-0.009259</td>\n",
       "      <td>-0.218456</td>\n",
       "      <td>-0.975847</td>\n",
       "      <td>29</td>\n",
       "      <td>1</td>\n",
       "    </tr>\n",
       "    <tr>\n",
       "      <th>...</th>\n",
       "      <td>...</td>\n",
       "      <td>...</td>\n",
       "      <td>...</td>\n",
       "      <td>...</td>\n",
       "      <td>...</td>\n",
       "      <td>...</td>\n",
       "      <td>...</td>\n",
       "      <td>...</td>\n",
       "      <td>...</td>\n",
       "      <td>...</td>\n",
       "      <td>...</td>\n",
       "      <td>...</td>\n",
       "      <td>...</td>\n",
       "      <td>...</td>\n",
       "      <td>...</td>\n",
       "      <td>...</td>\n",
       "      <td>...</td>\n",
       "      <td>...</td>\n",
       "      <td>...</td>\n",
       "      <td>...</td>\n",
       "      <td>...</td>\n",
       "    </tr>\n",
       "    <tr>\n",
       "      <th>124355</th>\n",
       "      <td>124356</td>\n",
       "      <td>-976.395996</td>\n",
       "      <td>245.266998</td>\n",
       "      <td>2952.5</td>\n",
       "      <td>18</td>\n",
       "      <td>12</td>\n",
       "      <td>94</td>\n",
       "      <td>2334520</td>\n",
       "      <td>6</td>\n",
       "      <td>2952.504395</td>\n",
       "      <td>...</td>\n",
       "      <td>2.932759</td>\n",
       "      <td>0.946491</td>\n",
       "      <td>0.340976</td>\n",
       "      <td>3.778244</td>\n",
       "      <td>-0.313006</td>\n",
       "      <td>0.078626</td>\n",
       "      <td>-0.594506</td>\n",
       "      <td>-0.804091</td>\n",
       "      <td>90959</td>\n",
       "      <td>2</td>\n",
       "    </tr>\n",
       "    <tr>\n",
       "      <th>124356</th>\n",
       "      <td>124357</td>\n",
       "      <td>-904.656982</td>\n",
       "      <td>230.473999</td>\n",
       "      <td>2952.5</td>\n",
       "      <td>18</td>\n",
       "      <td>12</td>\n",
       "      <td>94</td>\n",
       "      <td>2648289</td>\n",
       "      <td>8</td>\n",
       "      <td>2952.504395</td>\n",
       "      <td>...</td>\n",
       "      <td>3.162641</td>\n",
       "      <td>0.953473</td>\n",
       "      <td>0.316191</td>\n",
       "      <td>3.709849</td>\n",
       "      <td>-0.292148</td>\n",
       "      <td>0.074429</td>\n",
       "      <td>-0.538163</td>\n",
       "      <td>-0.842841</td>\n",
       "      <td>90960</td>\n",
       "      <td>2</td>\n",
       "    </tr>\n",
       "    <tr>\n",
       "      <th>124357</th>\n",
       "      <td>124358</td>\n",
       "      <td>-809.007019</td>\n",
       "      <td>322.921997</td>\n",
       "      <td>2952.5</td>\n",
       "      <td>18</td>\n",
       "      <td>12</td>\n",
       "      <td>94</td>\n",
       "      <td>6640453</td>\n",
       "      <td>4</td>\n",
       "      <td>2952.504395</td>\n",
       "      <td>...</td>\n",
       "      <td>3.389486</td>\n",
       "      <td>0.959128</td>\n",
       "      <td>0.295030</td>\n",
       "      <td>3.524101</td>\n",
       "      <td>-0.262809</td>\n",
       "      <td>0.104902</td>\n",
       "      <td>-0.373249</td>\n",
       "      <td>-0.927731</td>\n",
       "      <td>90942</td>\n",
       "      <td>3</td>\n",
       "    </tr>\n",
       "    <tr>\n",
       "      <th>124358</th>\n",
       "      <td>124359</td>\n",
       "      <td>-779.510986</td>\n",
       "      <td>165.393005</td>\n",
       "      <td>2947.5</td>\n",
       "      <td>18</td>\n",
       "      <td>12</td>\n",
       "      <td>95</td>\n",
       "      <td>7766413</td>\n",
       "      <td>1</td>\n",
       "      <td>2947.504395</td>\n",
       "      <td>...</td>\n",
       "      <td>3.698869</td>\n",
       "      <td>0.965343</td>\n",
       "      <td>0.270353</td>\n",
       "      <td>3.629106</td>\n",
       "      <td>-0.255300</td>\n",
       "      <td>0.054168</td>\n",
       "      <td>-0.468430</td>\n",
       "      <td>-0.883501</td>\n",
       "      <td>90961</td>\n",
       "      <td>1</td>\n",
       "    </tr>\n",
       "    <tr>\n",
       "      <th>124359</th>\n",
       "      <td>124360</td>\n",
       "      <td>-791.286987</td>\n",
       "      <td>106.193001</td>\n",
       "      <td>2947.5</td>\n",
       "      <td>18</td>\n",
       "      <td>12</td>\n",
       "      <td>95</td>\n",
       "      <td>7605044</td>\n",
       "      <td>1</td>\n",
       "      <td>2947.504395</td>\n",
       "      <td>...</td>\n",
       "      <td>3.691841</td>\n",
       "      <td>0.965218</td>\n",
       "      <td>0.270868</td>\n",
       "      <td>3.706116</td>\n",
       "      <td>-0.259123</td>\n",
       "      <td>0.034775</td>\n",
       "      <td>-0.535013</td>\n",
       "      <td>-0.844844</td>\n",
       "      <td>90962</td>\n",
       "      <td>1</td>\n",
       "    </tr>\n",
       "    <tr>\n",
       "      <th>124360</th>\n",
       "      <td>124361</td>\n",
       "      <td>-780.950989</td>\n",
       "      <td>158.154999</td>\n",
       "      <td>2947.5</td>\n",
       "      <td>18</td>\n",
       "      <td>12</td>\n",
       "      <td>95</td>\n",
       "      <td>7766293</td>\n",
       "      <td>1</td>\n",
       "      <td>2947.504395</td>\n",
       "      <td>...</td>\n",
       "      <td>3.699145</td>\n",
       "      <td>0.965348</td>\n",
       "      <td>0.270333</td>\n",
       "      <td>3.638314</td>\n",
       "      <td>-0.255773</td>\n",
       "      <td>0.051798</td>\n",
       "      <td>-0.476546</td>\n",
       "      <td>-0.879150</td>\n",
       "      <td>90963</td>\n",
       "      <td>1</td>\n",
       "    </tr>\n",
       "    <tr>\n",
       "      <th>124361</th>\n",
       "      <td>124362</td>\n",
       "      <td>-830.892029</td>\n",
       "      <td>226.938995</td>\n",
       "      <td>2947.5</td>\n",
       "      <td>18</td>\n",
       "      <td>12</td>\n",
       "      <td>95</td>\n",
       "      <td>6751146</td>\n",
       "      <td>5</td>\n",
       "      <td>2947.504395</td>\n",
       "      <td>...</td>\n",
       "      <td>3.422043</td>\n",
       "      <td>0.959856</td>\n",
       "      <td>0.292223</td>\n",
       "      <td>3.628619</td>\n",
       "      <td>-0.270581</td>\n",
       "      <td>0.073903</td>\n",
       "      <td>-0.468000</td>\n",
       "      <td>-0.883728</td>\n",
       "      <td>90946</td>\n",
       "      <td>2</td>\n",
       "    </tr>\n",
       "    <tr>\n",
       "      <th>124362</th>\n",
       "      <td>124363</td>\n",
       "      <td>-746.534973</td>\n",
       "      <td>171.251999</td>\n",
       "      <td>2947.5</td>\n",
       "      <td>18</td>\n",
       "      <td>12</td>\n",
       "      <td>95</td>\n",
       "      <td>8402232</td>\n",
       "      <td>1</td>\n",
       "      <td>2947.504395</td>\n",
       "      <td>...</td>\n",
       "      <td>3.848280</td>\n",
       "      <td>0.967856</td>\n",
       "      <td>0.259856</td>\n",
       "      <td>3.585336</td>\n",
       "      <td>-0.245136</td>\n",
       "      <td>0.056233</td>\n",
       "      <td>-0.429324</td>\n",
       "      <td>-0.903151</td>\n",
       "      <td>53912</td>\n",
       "      <td>2</td>\n",
       "    </tr>\n",
       "    <tr>\n",
       "      <th>124363</th>\n",
       "      <td>124364</td>\n",
       "      <td>-813.125000</td>\n",
       "      <td>209.641006</td>\n",
       "      <td>2947.5</td>\n",
       "      <td>18</td>\n",
       "      <td>12</td>\n",
       "      <td>95</td>\n",
       "      <td>7785159</td>\n",
       "      <td>1</td>\n",
       "      <td>2947.504395</td>\n",
       "      <td>...</td>\n",
       "      <td>3.510113</td>\n",
       "      <td>0.961733</td>\n",
       "      <td>0.284891</td>\n",
       "      <td>3.623775</td>\n",
       "      <td>-0.265313</td>\n",
       "      <td>0.068403</td>\n",
       "      <td>-0.463713</td>\n",
       "      <td>-0.885985</td>\n",
       "      <td>90964</td>\n",
       "      <td>1</td>\n",
       "    </tr>\n",
       "    <tr>\n",
       "      <th>124364</th>\n",
       "      <td>124365</td>\n",
       "      <td>-991.192017</td>\n",
       "      <td>219.682007</td>\n",
       "      <td>2955.5</td>\n",
       "      <td>18</td>\n",
       "      <td>12</td>\n",
       "      <td>96</td>\n",
       "      <td>8148851</td>\n",
       "      <td>1</td>\n",
       "      <td>2955.504395</td>\n",
       "      <td>...</td>\n",
       "      <td>2.911117</td>\n",
       "      <td>0.945756</td>\n",
       "      <td>0.343511</td>\n",
       "      <td>3.813816</td>\n",
       "      <td>-0.317181</td>\n",
       "      <td>0.070298</td>\n",
       "      <td>-0.622727</td>\n",
       "      <td>-0.782439</td>\n",
       "      <td>90965</td>\n",
       "      <td>1</td>\n",
       "    </tr>\n",
       "    <tr>\n",
       "      <th>124365</th>\n",
       "      <td>124366</td>\n",
       "      <td>-950.107971</td>\n",
       "      <td>157.542999</td>\n",
       "      <td>2955.5</td>\n",
       "      <td>18</td>\n",
       "      <td>12</td>\n",
       "      <td>96</td>\n",
       "      <td>7605020</td>\n",
       "      <td>1</td>\n",
       "      <td>2955.504395</td>\n",
       "      <td>...</td>\n",
       "      <td>3.068792</td>\n",
       "      <td>0.950793</td>\n",
       "      <td>0.325861</td>\n",
       "      <td>3.821214</td>\n",
       "      <td>-0.305653</td>\n",
       "      <td>0.050682</td>\n",
       "      <td>-0.628498</td>\n",
       "      <td>-0.777811</td>\n",
       "      <td>90966</td>\n",
       "      <td>1</td>\n",
       "    </tr>\n",
       "    <tr>\n",
       "      <th>124366</th>\n",
       "      <td>124367</td>\n",
       "      <td>-914.064026</td>\n",
       "      <td>179.987000</td>\n",
       "      <td>2955.5</td>\n",
       "      <td>18</td>\n",
       "      <td>12</td>\n",
       "      <td>96</td>\n",
       "      <td>7427479</td>\n",
       "      <td>2</td>\n",
       "      <td>2955.504395</td>\n",
       "      <td>...</td>\n",
       "      <td>3.172440</td>\n",
       "      <td>0.953740</td>\n",
       "      <td>0.315215</td>\n",
       "      <td>3.763165</td>\n",
       "      <td>-0.294969</td>\n",
       "      <td>0.058082</td>\n",
       "      <td>-0.582314</td>\n",
       "      <td>-0.812964</td>\n",
       "      <td>90967</td>\n",
       "      <td>1</td>\n",
       "    </tr>\n",
       "    <tr>\n",
       "      <th>124367</th>\n",
       "      <td>124368</td>\n",
       "      <td>-975.681030</td>\n",
       "      <td>245.492996</td>\n",
       "      <td>2955.5</td>\n",
       "      <td>18</td>\n",
       "      <td>12</td>\n",
       "      <td>96</td>\n",
       "      <td>2334520</td>\n",
       "      <td>6</td>\n",
       "      <td>2955.504395</td>\n",
       "      <td>...</td>\n",
       "      <td>2.937601</td>\n",
       "      <td>0.946653</td>\n",
       "      <td>0.340414</td>\n",
       "      <td>3.777285</td>\n",
       "      <td>-0.312513</td>\n",
       "      <td>0.078632</td>\n",
       "      <td>-0.593734</td>\n",
       "      <td>-0.804661</td>\n",
       "      <td>90959</td>\n",
       "      <td>2</td>\n",
       "    </tr>\n",
       "    <tr>\n",
       "      <th>124368</th>\n",
       "      <td>124369</td>\n",
       "      <td>-863.390015</td>\n",
       "      <td>168.121002</td>\n",
       "      <td>2955.5</td>\n",
       "      <td>18</td>\n",
       "      <td>12</td>\n",
       "      <td>96</td>\n",
       "      <td>8330865</td>\n",
       "      <td>1</td>\n",
       "      <td>2955.504395</td>\n",
       "      <td>...</td>\n",
       "      <td>3.360022</td>\n",
       "      <td>0.958453</td>\n",
       "      <td>0.297617</td>\n",
       "      <td>3.719129</td>\n",
       "      <td>-0.279993</td>\n",
       "      <td>0.054521</td>\n",
       "      <td>-0.545961</td>\n",
       "      <td>-0.837810</td>\n",
       "      <td>90968</td>\n",
       "      <td>1</td>\n",
       "    </tr>\n",
       "    <tr>\n",
       "      <th>124369</th>\n",
       "      <td>124370</td>\n",
       "      <td>-901.502991</td>\n",
       "      <td>134.832993</td>\n",
       "      <td>2955.5</td>\n",
       "      <td>18</td>\n",
       "      <td>12</td>\n",
       "      <td>96</td>\n",
       "      <td>7785186</td>\n",
       "      <td>2</td>\n",
       "      <td>2955.504395</td>\n",
       "      <td>...</td>\n",
       "      <td>3.242345</td>\n",
       "      <td>0.955584</td>\n",
       "      <td>0.308419</td>\n",
       "      <td>3.791294</td>\n",
       "      <td>-0.291478</td>\n",
       "      <td>0.043595</td>\n",
       "      <td>-0.604949</td>\n",
       "      <td>-0.796264</td>\n",
       "      <td>90969</td>\n",
       "      <td>1</td>\n",
       "    </tr>\n",
       "    <tr>\n",
       "      <th>124370</th>\n",
       "      <td>124371</td>\n",
       "      <td>-904.025024</td>\n",
       "      <td>232.617996</td>\n",
       "      <td>2955.5</td>\n",
       "      <td>18</td>\n",
       "      <td>12</td>\n",
       "      <td>96</td>\n",
       "      <td>2648289</td>\n",
       "      <td>8</td>\n",
       "      <td>2955.504395</td>\n",
       "      <td>...</td>\n",
       "      <td>3.166128</td>\n",
       "      <td>0.953568</td>\n",
       "      <td>0.315843</td>\n",
       "      <td>3.707385</td>\n",
       "      <td>-0.291677</td>\n",
       "      <td>0.075052</td>\n",
       "      <td>-0.536085</td>\n",
       "      <td>-0.844164</td>\n",
       "      <td>90960</td>\n",
       "      <td>2</td>\n",
       "    </tr>\n",
       "    <tr>\n",
       "      <th>124371</th>\n",
       "      <td>124372</td>\n",
       "      <td>-910.455017</td>\n",
       "      <td>198.906006</td>\n",
       "      <td>2955.5</td>\n",
       "      <td>18</td>\n",
       "      <td>12</td>\n",
       "      <td>96</td>\n",
       "      <td>7622978</td>\n",
       "      <td>2</td>\n",
       "      <td>2955.504395</td>\n",
       "      <td>...</td>\n",
       "      <td>3.171374</td>\n",
       "      <td>0.953711</td>\n",
       "      <td>0.315321</td>\n",
       "      <td>3.742775</td>\n",
       "      <td>-0.293795</td>\n",
       "      <td>0.064185</td>\n",
       "      <td>-0.565618</td>\n",
       "      <td>-0.824668</td>\n",
       "      <td>90970</td>\n",
       "      <td>1</td>\n",
       "    </tr>\n",
       "    <tr>\n",
       "      <th>124372</th>\n",
       "      <td>124373</td>\n",
       "      <td>-933.367981</td>\n",
       "      <td>245.300995</td>\n",
       "      <td>2955.5</td>\n",
       "      <td>18</td>\n",
       "      <td>12</td>\n",
       "      <td>96</td>\n",
       "      <td>1757465</td>\n",
       "      <td>10</td>\n",
       "      <td>2955.504395</td>\n",
       "      <td>...</td>\n",
       "      <td>3.062487</td>\n",
       "      <td>0.950605</td>\n",
       "      <td>0.326532</td>\n",
       "      <td>3.730296</td>\n",
       "      <td>-0.300208</td>\n",
       "      <td>0.078899</td>\n",
       "      <td>-0.555283</td>\n",
       "      <td>-0.831661</td>\n",
       "      <td>90954</td>\n",
       "      <td>2</td>\n",
       "    </tr>\n",
       "    <tr>\n",
       "      <th>124373</th>\n",
       "      <td>124374</td>\n",
       "      <td>-795.552979</td>\n",
       "      <td>45.108200</td>\n",
       "      <td>2944.5</td>\n",
       "      <td>18</td>\n",
       "      <td>12</td>\n",
       "      <td>97</td>\n",
       "      <td>7566778</td>\n",
       "      <td>1</td>\n",
       "      <td>2944.504395</td>\n",
       "      <td>...</td>\n",
       "      <td>3.695258</td>\n",
       "      <td>0.965279</td>\n",
       "      <td>0.270617</td>\n",
       "      <td>3.781511</td>\n",
       "      <td>-0.260802</td>\n",
       "      <td>0.014788</td>\n",
       "      <td>-0.597130</td>\n",
       "      <td>-0.802144</td>\n",
       "      <td>90971</td>\n",
       "      <td>1</td>\n",
       "    </tr>\n",
       "    <tr>\n",
       "      <th>124374</th>\n",
       "      <td>124375</td>\n",
       "      <td>-817.885986</td>\n",
       "      <td>22.400299</td>\n",
       "      <td>2944.5</td>\n",
       "      <td>18</td>\n",
       "      <td>12</td>\n",
       "      <td>97</td>\n",
       "      <td>5783904</td>\n",
       "      <td>7</td>\n",
       "      <td>2944.504395</td>\n",
       "      <td>...</td>\n",
       "      <td>3.598780</td>\n",
       "      <td>0.963495</td>\n",
       "      <td>0.277872</td>\n",
       "      <td>3.829668</td>\n",
       "      <td>-0.267628</td>\n",
       "      <td>0.007330</td>\n",
       "      <td>-0.635051</td>\n",
       "      <td>-0.772470</td>\n",
       "      <td>90972</td>\n",
       "      <td>1</td>\n",
       "    </tr>\n",
       "    <tr>\n",
       "      <th>124375</th>\n",
       "      <td>124376</td>\n",
       "      <td>-865.489990</td>\n",
       "      <td>91.181000</td>\n",
       "      <td>2944.5</td>\n",
       "      <td>18</td>\n",
       "      <td>12</td>\n",
       "      <td>97</td>\n",
       "      <td>7966217</td>\n",
       "      <td>6</td>\n",
       "      <td>2944.504395</td>\n",
       "      <td>...</td>\n",
       "      <td>3.383390</td>\n",
       "      <td>0.958990</td>\n",
       "      <td>0.295562</td>\n",
       "      <td>3.798213</td>\n",
       "      <td>-0.281881</td>\n",
       "      <td>0.029697</td>\n",
       "      <td>-0.610443</td>\n",
       "      <td>-0.792060</td>\n",
       "      <td>90973</td>\n",
       "      <td>2</td>\n",
       "    </tr>\n",
       "    <tr>\n",
       "      <th>124376</th>\n",
       "      <td>124377</td>\n",
       "      <td>-897.953003</td>\n",
       "      <td>72.925102</td>\n",
       "      <td>2944.5</td>\n",
       "      <td>18</td>\n",
       "      <td>12</td>\n",
       "      <td>97</td>\n",
       "      <td>8128579</td>\n",
       "      <td>3</td>\n",
       "      <td>2944.504395</td>\n",
       "      <td>...</td>\n",
       "      <td>3.268359</td>\n",
       "      <td>0.956242</td>\n",
       "      <td>0.305964</td>\n",
       "      <td>3.849301</td>\n",
       "      <td>-0.291616</td>\n",
       "      <td>0.023683</td>\n",
       "      <td>-0.650094</td>\n",
       "      <td>-0.759854</td>\n",
       "      <td>90974</td>\n",
       "      <td>1</td>\n",
       "    </tr>\n",
       "    <tr>\n",
       "      <th>124377</th>\n",
       "      <td>124378</td>\n",
       "      <td>-880.408020</td>\n",
       "      <td>22.589800</td>\n",
       "      <td>2944.5</td>\n",
       "      <td>18</td>\n",
       "      <td>12</td>\n",
       "      <td>97</td>\n",
       "      <td>1918612</td>\n",
       "      <td>10</td>\n",
       "      <td>2944.504395</td>\n",
       "      <td>...</td>\n",
       "      <td>3.343367</td>\n",
       "      <td>0.958063</td>\n",
       "      <td>0.299100</td>\n",
       "      <td>3.886759</td>\n",
       "      <td>-0.286462</td>\n",
       "      <td>0.007350</td>\n",
       "      <td>-0.678094</td>\n",
       "      <td>-0.734975</td>\n",
       "      <td>90975</td>\n",
       "      <td>1</td>\n",
       "    </tr>\n",
       "    <tr>\n",
       "      <th>124378</th>\n",
       "      <td>124379</td>\n",
       "      <td>-781.200012</td>\n",
       "      <td>105.078003</td>\n",
       "      <td>2944.5</td>\n",
       "      <td>18</td>\n",
       "      <td>12</td>\n",
       "      <td>97</td>\n",
       "      <td>6358094</td>\n",
       "      <td>1</td>\n",
       "      <td>2944.504395</td>\n",
       "      <td>...</td>\n",
       "      <td>3.735554</td>\n",
       "      <td>0.965986</td>\n",
       "      <td>0.267698</td>\n",
       "      <td>3.696844</td>\n",
       "      <td>-0.256285</td>\n",
       "      <td>0.034472</td>\n",
       "      <td>-0.527157</td>\n",
       "      <td>-0.849768</td>\n",
       "      <td>90976</td>\n",
       "      <td>1</td>\n",
       "    </tr>\n",
       "    <tr>\n",
       "      <th>124379</th>\n",
       "      <td>124380</td>\n",
       "      <td>-786.262024</td>\n",
       "      <td>27.843599</td>\n",
       "      <td>2944.5</td>\n",
       "      <td>18</td>\n",
       "      <td>12</td>\n",
       "      <td>97</td>\n",
       "      <td>1924892</td>\n",
       "      <td>4</td>\n",
       "      <td>2944.504395</td>\n",
       "      <td>...</td>\n",
       "      <td>3.742583</td>\n",
       "      <td>0.966108</td>\n",
       "      <td>0.267195</td>\n",
       "      <td>3.793843</td>\n",
       "      <td>-0.257978</td>\n",
       "      <td>0.009136</td>\n",
       "      <td>-0.606977</td>\n",
       "      <td>-0.794720</td>\n",
       "      <td>90977</td>\n",
       "      <td>1</td>\n",
       "    </tr>\n",
       "    <tr>\n",
       "      <th>124380</th>\n",
       "      <td>124381</td>\n",
       "      <td>-890.322998</td>\n",
       "      <td>22.828899</td>\n",
       "      <td>2952.5</td>\n",
       "      <td>18</td>\n",
       "      <td>12</td>\n",
       "      <td>98</td>\n",
       "      <td>1918612</td>\n",
       "      <td>10</td>\n",
       "      <td>2952.504395</td>\n",
       "      <td>...</td>\n",
       "      <td>3.315118</td>\n",
       "      <td>0.957391</td>\n",
       "      <td>0.301648</td>\n",
       "      <td>3.895570</td>\n",
       "      <td>-0.288701</td>\n",
       "      <td>0.007403</td>\n",
       "      <td>-0.684544</td>\n",
       "      <td>-0.728972</td>\n",
       "      <td>73690</td>\n",
       "      <td>2</td>\n",
       "    </tr>\n",
       "    <tr>\n",
       "      <th>124381</th>\n",
       "      <td>124382</td>\n",
       "      <td>-897.323975</td>\n",
       "      <td>77.195702</td>\n",
       "      <td>2952.5</td>\n",
       "      <td>18</td>\n",
       "      <td>12</td>\n",
       "      <td>98</td>\n",
       "      <td>7908973</td>\n",
       "      <td>9</td>\n",
       "      <td>2952.504395</td>\n",
       "      <td>...</td>\n",
       "      <td>3.278225</td>\n",
       "      <td>0.956488</td>\n",
       "      <td>0.305043</td>\n",
       "      <td>3.844278</td>\n",
       "      <td>-0.290696</td>\n",
       "      <td>0.025008</td>\n",
       "      <td>-0.646269</td>\n",
       "      <td>-0.763110</td>\n",
       "      <td>90978</td>\n",
       "      <td>1</td>\n",
       "    </tr>\n",
       "    <tr>\n",
       "      <th>124382</th>\n",
       "      <td>124383</td>\n",
       "      <td>-865.239014</td>\n",
       "      <td>90.266998</td>\n",
       "      <td>2952.5</td>\n",
       "      <td>18</td>\n",
       "      <td>12</td>\n",
       "      <td>98</td>\n",
       "      <td>7966217</td>\n",
       "      <td>6</td>\n",
       "      <td>2952.504395</td>\n",
       "      <td>...</td>\n",
       "      <td>3.393927</td>\n",
       "      <td>0.959229</td>\n",
       "      <td>0.294644</td>\n",
       "      <td>3.798922</td>\n",
       "      <td>-0.281105</td>\n",
       "      <td>0.029327</td>\n",
       "      <td>-0.611005</td>\n",
       "      <td>-0.791627</td>\n",
       "      <td>90973</td>\n",
       "      <td>2</td>\n",
       "    </tr>\n",
       "    <tr>\n",
       "      <th>124383</th>\n",
       "      <td>124384</td>\n",
       "      <td>-971.604004</td>\n",
       "      <td>55.957901</td>\n",
       "      <td>2952.5</td>\n",
       "      <td>18</td>\n",
       "      <td>12</td>\n",
       "      <td>98</td>\n",
       "      <td>4401397</td>\n",
       "      <td>2</td>\n",
       "      <td>2952.504395</td>\n",
       "      <td>...</td>\n",
       "      <td>3.033758</td>\n",
       "      <td>0.949735</td>\n",
       "      <td>0.329624</td>\n",
       "      <td>3.937011</td>\n",
       "      <td>-0.312538</td>\n",
       "      <td>0.018000</td>\n",
       "      <td>-0.714156</td>\n",
       "      <td>-0.699986</td>\n",
       "      <td>90979</td>\n",
       "      <td>1</td>\n",
       "    </tr>\n",
       "    <tr>\n",
       "      <th>124384</th>\n",
       "      <td>124385</td>\n",
       "      <td>-906.614014</td>\n",
       "      <td>95.154503</td>\n",
       "      <td>2952.5</td>\n",
       "      <td>18</td>\n",
       "      <td>12</td>\n",
       "      <td>98</td>\n",
       "      <td>6907385</td>\n",
       "      <td>1</td>\n",
       "      <td>2952.504395</td>\n",
       "      <td>...</td>\n",
       "      <td>3.238828</td>\n",
       "      <td>0.955494</td>\n",
       "      <td>0.308754</td>\n",
       "      <td>3.835241</td>\n",
       "      <td>-0.293401</td>\n",
       "      <td>0.030794</td>\n",
       "      <td>-0.639347</td>\n",
       "      <td>-0.768918</td>\n",
       "      <td>90980</td>\n",
       "      <td>1</td>\n",
       "    </tr>\n",
       "  </tbody>\n",
       "</table>\n",
       "<p>124385 rows × 23 columns</p>\n",
       "</div>"
      ],
      "text/plain": [
       "        hit_id           x           y       z  volume_id  layer_id  \\\n",
       "0            1  -48.674801   -5.761740 -1502.5          7         2   \n",
       "1            2  -75.548500   -9.682310 -1502.5          7         2   \n",
       "2            3  -69.968399   -5.581860 -1502.5          7         2   \n",
       "3            4  -35.324799   -2.704890 -1502.5          7         2   \n",
       "4            5  -99.261803  -11.197500 -1502.5          7         2   \n",
       "5            6  -67.558197   -6.094340 -1502.5          7         2   \n",
       "6            7  -63.736301    3.384740 -1502.5          7         2   \n",
       "7            8  -59.426899  -12.626500 -1502.5          7         2   \n",
       "8            9  -78.164299   -1.813290 -1502.5          7         2   \n",
       "9           10  -83.351303    0.286217 -1502.5          7         2   \n",
       "10          11  -91.341797  -14.536400 -1502.5          7         2   \n",
       "11          12  -66.740898  -10.744500 -1502.5          7         2   \n",
       "12          13  -60.177299   -3.808200 -1502.5          7         2   \n",
       "13          14  -96.132599   -7.941960 -1502.5          7         2   \n",
       "14          15  -93.830498  -15.685200 -1502.5          7         2   \n",
       "15          16  -87.631104   -1.254320 -1502.5          7         2   \n",
       "16          17  -82.778000  -13.260600 -1502.5          7         2   \n",
       "17          18  -84.366203  -10.476600 -1502.5          7         2   \n",
       "18          19  -36.901402   -9.198610 -1502.5          7         2   \n",
       "19          20  -62.858200  -12.043900 -1502.5          7         2   \n",
       "20          21  -51.928200   -0.367017 -1502.5          7         2   \n",
       "21          22  -74.732399   -4.602630 -1502.5          7         2   \n",
       "22          23 -103.884003  -12.836400 -1502.0          7         2   \n",
       "23          24 -155.029999   -3.939040 -1502.0          7         2   \n",
       "24          25 -122.973999   -8.463410 -1502.0          7         2   \n",
       "25          26 -164.014999  -10.461000 -1502.0          7         2   \n",
       "26          27 -141.460007    0.942888 -1502.0          7         2   \n",
       "27          28 -156.419006   -4.854170 -1502.0          7         2   \n",
       "28          29 -150.740997   -9.847230 -1502.0          7         2   \n",
       "29          30 -120.870003  -13.952400 -1502.0          7         2   \n",
       "...        ...         ...         ...     ...        ...       ...   \n",
       "124355  124356 -976.395996  245.266998  2952.5         18        12   \n",
       "124356  124357 -904.656982  230.473999  2952.5         18        12   \n",
       "124357  124358 -809.007019  322.921997  2952.5         18        12   \n",
       "124358  124359 -779.510986  165.393005  2947.5         18        12   \n",
       "124359  124360 -791.286987  106.193001  2947.5         18        12   \n",
       "124360  124361 -780.950989  158.154999  2947.5         18        12   \n",
       "124361  124362 -830.892029  226.938995  2947.5         18        12   \n",
       "124362  124363 -746.534973  171.251999  2947.5         18        12   \n",
       "124363  124364 -813.125000  209.641006  2947.5         18        12   \n",
       "124364  124365 -991.192017  219.682007  2955.5         18        12   \n",
       "124365  124366 -950.107971  157.542999  2955.5         18        12   \n",
       "124366  124367 -914.064026  179.987000  2955.5         18        12   \n",
       "124367  124368 -975.681030  245.492996  2955.5         18        12   \n",
       "124368  124369 -863.390015  168.121002  2955.5         18        12   \n",
       "124369  124370 -901.502991  134.832993  2955.5         18        12   \n",
       "124370  124371 -904.025024  232.617996  2955.5         18        12   \n",
       "124371  124372 -910.455017  198.906006  2955.5         18        12   \n",
       "124372  124373 -933.367981  245.300995  2955.5         18        12   \n",
       "124373  124374 -795.552979   45.108200  2944.5         18        12   \n",
       "124374  124375 -817.885986   22.400299  2944.5         18        12   \n",
       "124375  124376 -865.489990   91.181000  2944.5         18        12   \n",
       "124376  124377 -897.953003   72.925102  2944.5         18        12   \n",
       "124377  124378 -880.408020   22.589800  2944.5         18        12   \n",
       "124378  124379 -781.200012  105.078003  2944.5         18        12   \n",
       "124379  124380 -786.262024   27.843599  2944.5         18        12   \n",
       "124380  124381 -890.322998   22.828899  2952.5         18        12   \n",
       "124381  124382 -897.323975   77.195702  2952.5         18        12   \n",
       "124382  124383 -865.239014   90.266998  2952.5         18        12   \n",
       "124383  124384 -971.604004   55.957901  2952.5         18        12   \n",
       "124384  124385 -906.614014   95.154503  2952.5         18        12   \n",
       "\n",
       "        module_id       s1  N1    stepped_z ...         z1        z2  \\\n",
       "0               1        0   2 -1502.495605 ... -30.654200 -0.999468   \n",
       "1               1  1822912  15 -1502.495605 ... -19.726601 -0.998718   \n",
       "2               1        2   1 -1502.495605 ... -21.406033 -0.998911   \n",
       "3               1        3   1 -1502.495605 ... -42.409836 -0.999722   \n",
       "4               1  5588395   4 -1502.495605 ... -15.041381 -0.997797   \n",
       "5               1        5  14 -1502.495605 ... -22.150208 -0.998982   \n",
       "6               1        6  11 -1502.495605 ... -23.540590 -0.999099   \n",
       "7               1  4726944  12 -1502.495605 ... -24.731169 -0.999184   \n",
       "8               1        8   2 -1502.495605 ... -19.217215 -0.998649   \n",
       "9               1  3127933  16 -1502.495605 ... -18.026058 -0.998465   \n",
       "10              1  5502020   2 -1502.495605 ... -16.244827 -0.998111   \n",
       "11              1  1422236  14 -1502.495605 ... -22.226318 -0.998989   \n",
       "12              1       12  12 -1502.495605 ... -24.918114 -0.999196   \n",
       "13              1   237016  12 -1502.495605 ... -15.576433 -0.997946   \n",
       "14              1  3210493   2 -1502.495605 ... -15.793812 -0.998002   \n",
       "15              1       15  15 -1502.495605 ... -17.144032 -0.998303   \n",
       "16              1  7803580   6 -1502.495605 ... -17.922501 -0.998447   \n",
       "17              1  2145544  14 -1502.495605 ... -17.673569 -0.998403   \n",
       "18              1       18   1 -1502.495605 ... -39.507759 -0.999680   \n",
       "19              1  2307828  12 -1502.495605 ... -23.476032 -0.999094   \n",
       "20              1       20   1 -1502.495605 ... -28.933544 -0.999403   \n",
       "21              1       21   1 -1502.495605 ... -20.067104 -0.998761   \n",
       "22              2  2307831  13 -1501.995605 ... -14.349346 -0.997580   \n",
       "23              2  2064563  15 -1501.995605 ...  -9.685350 -0.994712   \n",
       "24              2  2798314  10 -1501.995605 ... -12.185176 -0.996649   \n",
       "25              2  4812712   1 -1501.995605 ...  -9.139155 -0.994067   \n",
       "26              2  1983944   4 -1501.995605 ... -10.617637 -0.995594   \n",
       "27              2  2064563  15 -1501.995605 ...  -9.597821 -0.994616   \n",
       "28              2  4898332  11 -1501.995605 ...  -9.942947 -0.994980   \n",
       "29              2       29   1 -1501.995605 ... -12.344637 -0.996735   \n",
       "...           ...      ...  ..          ... ...        ...       ...   \n",
       "124355         94  2334520   6  2952.504395 ...   2.932759  0.946491   \n",
       "124356         94  2648289   8  2952.504395 ...   3.162641  0.953473   \n",
       "124357         94  6640453   4  2952.504395 ...   3.389486  0.959128   \n",
       "124358         95  7766413   1  2947.504395 ...   3.698869  0.965343   \n",
       "124359         95  7605044   1  2947.504395 ...   3.691841  0.965218   \n",
       "124360         95  7766293   1  2947.504395 ...   3.699145  0.965348   \n",
       "124361         95  6751146   5  2947.504395 ...   3.422043  0.959856   \n",
       "124362         95  8402232   1  2947.504395 ...   3.848280  0.967856   \n",
       "124363         95  7785159   1  2947.504395 ...   3.510113  0.961733   \n",
       "124364         96  8148851   1  2955.504395 ...   2.911117  0.945756   \n",
       "124365         96  7605020   1  2955.504395 ...   3.068792  0.950793   \n",
       "124366         96  7427479   2  2955.504395 ...   3.172440  0.953740   \n",
       "124367         96  2334520   6  2955.504395 ...   2.937601  0.946653   \n",
       "124368         96  8330865   1  2955.504395 ...   3.360022  0.958453   \n",
       "124369         96  7785186   2  2955.504395 ...   3.242345  0.955584   \n",
       "124370         96  2648289   8  2955.504395 ...   3.166128  0.953568   \n",
       "124371         96  7622978   2  2955.504395 ...   3.171374  0.953711   \n",
       "124372         96  1757465  10  2955.504395 ...   3.062487  0.950605   \n",
       "124373         97  7566778   1  2944.504395 ...   3.695258  0.965279   \n",
       "124374         97  5783904   7  2944.504395 ...   3.598780  0.963495   \n",
       "124375         97  7966217   6  2944.504395 ...   3.383390  0.958990   \n",
       "124376         97  8128579   3  2944.504395 ...   3.268359  0.956242   \n",
       "124377         97  1918612  10  2944.504395 ...   3.343367  0.958063   \n",
       "124378         97  6358094   1  2944.504395 ...   3.735554  0.965986   \n",
       "124379         97  1924892   4  2944.504395 ...   3.742583  0.966108   \n",
       "124380         98  1918612  10  2952.504395 ...   3.315118  0.957391   \n",
       "124381         98  7908973   9  2952.504395 ...   3.278225  0.956488   \n",
       "124382         98  7966217   6  2952.504395 ...   3.393927  0.959229   \n",
       "124383         98  4401397   2  2952.504395 ...   3.033758  0.949735   \n",
       "124384         98  6907385   1  2952.504395 ...   3.238828  0.955494   \n",
       "\n",
       "              z3        a1        x2        y2     sina1     cosa1     s2  N2  \n",
       "0      -0.032622 -2.981392 -0.032379 -0.003833 -0.159516 -0.987195      0   2  \n",
       "1      -0.050693 -2.948250 -0.050217 -0.006436 -0.192141 -0.981367      1   2  \n",
       "2      -0.046716 -3.001281 -0.046517 -0.003711 -0.139852 -0.990172      2   1  \n",
       "3      -0.023579 -3.034546 -0.023504 -0.001800 -0.106842 -0.994276      3   1  \n",
       "4      -0.066483 -2.942832 -0.065919 -0.007436 -0.197455 -0.980312      4   1  \n",
       "5      -0.045146 -2.992965 -0.044918 -0.004052 -0.148081 -0.988975      5   1  \n",
       "6      -0.042480  3.143731 -0.042382  0.002251 -0.002139 -0.999998      6   2  \n",
       "7      -0.040435 -2.879700 -0.039520 -0.008397 -0.258909 -0.965902      7   2  \n",
       "8      -0.052037 -3.050773 -0.051952 -0.001205 -0.090695 -0.995879      8   2  \n",
       "9      -0.055475  3.210259 -0.055390  0.000190 -0.068612 -0.997643      9   2  \n",
       "10     -0.061558 -2.903757 -0.060678 -0.009657 -0.235600 -0.971850     10   2  \n",
       "11     -0.044992 -2.923513 -0.044375 -0.007144 -0.216355 -0.976315     11   2  \n",
       "12     -0.040131 -3.026254 -0.040019 -0.002533 -0.115083 -0.993356     12   1  \n",
       "13     -0.064200 -2.975710 -0.063850 -0.005275 -0.165123 -0.986273     13   1  \n",
       "14     -0.063316 -2.893654 -0.062325 -0.010419 -0.245406 -0.969420     14   1  \n",
       "15     -0.058329 -3.051466 -0.058224 -0.000833 -0.090005 -0.995941     15   2  \n",
       "16     -0.055796 -2.910231 -0.055008 -0.008812 -0.229303 -0.973355     16   6  \n",
       "17     -0.056582 -2.944505 -0.056061 -0.006962 -0.195814 -0.980641     17   1  \n",
       "18     -0.025311 -2.864422 -0.024552 -0.006120 -0.273636 -0.961833     18   1  \n",
       "19     -0.042597 -2.896937 -0.041798 -0.008009 -0.242222 -0.970221     19   2  \n",
       "20     -0.034562 -3.089627 -0.034540 -0.000244 -0.051943 -0.998650     20   1  \n",
       "21     -0.049833 -3.015324 -0.049677 -0.003060 -0.125934 -0.992039     21   1  \n",
       "22     -0.069690 -2.928079 -0.068996 -0.008526 -0.211895 -0.977292     22   2  \n",
       "23     -0.103249 -2.981902 -0.102670 -0.002609 -0.159013 -0.987276     23   2  \n",
       "24     -0.082067 -2.966190 -0.081599 -0.005616 -0.174505 -0.984656     24   1  \n",
       "25     -0.109419 -2.935565 -0.108550 -0.006923 -0.204573 -0.978851     25   1  \n",
       "26     -0.094183  3.257399 -0.093766  0.000625 -0.115548 -0.993302     26   2  \n",
       "27     -0.104190 -2.975054 -0.103579 -0.003214 -0.165770 -0.986164     27   9  \n",
       "28     -0.100574 -2.945559 -0.099856 -0.006523 -0.194781 -0.980847     28   1  \n",
       "29     -0.081007 -2.921360 -0.080210 -0.009259 -0.218456 -0.975847     29   1  \n",
       "...          ...       ...       ...       ...       ...       ...    ...  ..  \n",
       "124355  0.340976  3.778244 -0.313006  0.078626 -0.594506 -0.804091  90959   2  \n",
       "124356  0.316191  3.709849 -0.292148  0.074429 -0.538163 -0.842841  90960   2  \n",
       "124357  0.295030  3.524101 -0.262809  0.104902 -0.373249 -0.927731  90942   3  \n",
       "124358  0.270353  3.629106 -0.255300  0.054168 -0.468430 -0.883501  90961   1  \n",
       "124359  0.270868  3.706116 -0.259123  0.034775 -0.535013 -0.844844  90962   1  \n",
       "124360  0.270333  3.638314 -0.255773  0.051798 -0.476546 -0.879150  90963   1  \n",
       "124361  0.292223  3.628619 -0.270581  0.073903 -0.468000 -0.883728  90946   2  \n",
       "124362  0.259856  3.585336 -0.245136  0.056233 -0.429324 -0.903151  53912   2  \n",
       "124363  0.284891  3.623775 -0.265313  0.068403 -0.463713 -0.885985  90964   1  \n",
       "124364  0.343511  3.813816 -0.317181  0.070298 -0.622727 -0.782439  90965   1  \n",
       "124365  0.325861  3.821214 -0.305653  0.050682 -0.628498 -0.777811  90966   1  \n",
       "124366  0.315215  3.763165 -0.294969  0.058082 -0.582314 -0.812964  90967   1  \n",
       "124367  0.340414  3.777285 -0.312513  0.078632 -0.593734 -0.804661  90959   2  \n",
       "124368  0.297617  3.719129 -0.279993  0.054521 -0.545961 -0.837810  90968   1  \n",
       "124369  0.308419  3.791294 -0.291478  0.043595 -0.604949 -0.796264  90969   1  \n",
       "124370  0.315843  3.707385 -0.291677  0.075052 -0.536085 -0.844164  90960   2  \n",
       "124371  0.315321  3.742775 -0.293795  0.064185 -0.565618 -0.824668  90970   1  \n",
       "124372  0.326532  3.730296 -0.300208  0.078899 -0.555283 -0.831661  90954   2  \n",
       "124373  0.270617  3.781511 -0.260802  0.014788 -0.597130 -0.802144  90971   1  \n",
       "124374  0.277872  3.829668 -0.267628  0.007330 -0.635051 -0.772470  90972   1  \n",
       "124375  0.295562  3.798213 -0.281881  0.029697 -0.610443 -0.792060  90973   2  \n",
       "124376  0.305964  3.849301 -0.291616  0.023683 -0.650094 -0.759854  90974   1  \n",
       "124377  0.299100  3.886759 -0.286462  0.007350 -0.678094 -0.734975  90975   1  \n",
       "124378  0.267698  3.696844 -0.256285  0.034472 -0.527157 -0.849768  90976   1  \n",
       "124379  0.267195  3.793843 -0.257978  0.009136 -0.606977 -0.794720  90977   1  \n",
       "124380  0.301648  3.895570 -0.288701  0.007403 -0.684544 -0.728972  73690   2  \n",
       "124381  0.305043  3.844278 -0.290696  0.025008 -0.646269 -0.763110  90978   1  \n",
       "124382  0.294644  3.798922 -0.281105  0.029327 -0.611005 -0.791627  90973   2  \n",
       "124383  0.329624  3.937011 -0.312538  0.018000 -0.714156 -0.699986  90979   1  \n",
       "124384  0.308754  3.835241 -0.293401  0.030794 -0.639347 -0.768918  90980   1  \n",
       "\n",
       "[124385 rows x 23 columns]"
      ]
     },
     "execution_count": 10,
     "metadata": {},
     "output_type": "execute_result"
    }
   ],
   "source": [
    "labels"
   ]
  },
  {
   "cell_type": "code",
   "execution_count": 37,
   "metadata": {},
   "outputs": [],
   "source": [
    "cond = np.where((labels['N2'].values > labels['N1'].values) & (labels['N2'].values < 20))"
   ]
  },
  {
   "cell_type": "code",
   "execution_count": 58,
   "metadata": {},
   "outputs": [],
   "source": [
    "cond = np.where((labels['N2'].values > labels['N1'].values) & ( ((labels['N2'].values < 20) & ( (labels['x'] > 275) | (labels['y'] > 625))) | (labels['N2'] < 15)))"
   ]
  },
  {
   "cell_type": "code",
   "execution_count": 46,
   "metadata": {},
   "outputs": [
    {
     "ename": "TypeError",
     "evalue": "ufunc 'bitwise_or' not supported for the input types, and the inputs could not be safely coerced to any supported types according to the casting rule ''safe''",
     "output_type": "error",
     "traceback": [
      "\u001b[0;31m---------------------------------------------------------------------------\u001b[0m",
      "\u001b[0;31mTypeError\u001b[0m                                 Traceback (most recent call last)",
      "\u001b[0;32m<ipython-input-46-e3bad33eb4b7>\u001b[0m in \u001b[0;36m<module>\u001b[0;34m()\u001b[0m\n\u001b[0;32m----> 1\u001b[0;31m \u001b[0;34m(\u001b[0m \u001b[0;34m(\u001b[0m\u001b[0;34m(\u001b[0m\u001b[0mlabels\u001b[0m\u001b[0;34m[\u001b[0m\u001b[0;34m'N2'\u001b[0m\u001b[0;34m]\u001b[0m\u001b[0;34m.\u001b[0m\u001b[0mvalues\u001b[0m \u001b[0;34m<\u001b[0m \u001b[0;36m20\u001b[0m\u001b[0;34m)\u001b[0m \u001b[0;34m&\u001b[0m \u001b[0;34m(\u001b[0m\u001b[0mlabels\u001b[0m\u001b[0;34m[\u001b[0m\u001b[0;34m'x'\u001b[0m\u001b[0;34m]\u001b[0m\u001b[0;34m.\u001b[0m\u001b[0mvalues\u001b[0m \u001b[0;34m>\u001b[0m \u001b[0;36m275\u001b[0m \u001b[0;34m|\u001b[0m \u001b[0mlabels\u001b[0m\u001b[0;34m[\u001b[0m\u001b[0;34m'y'\u001b[0m\u001b[0;34m]\u001b[0m\u001b[0;34m.\u001b[0m\u001b[0mvalues\u001b[0m \u001b[0;34m>\u001b[0m \u001b[0;36m625\u001b[0m\u001b[0;34m)\u001b[0m\u001b[0;34m)\u001b[0m \u001b[0;34m|\u001b[0m \u001b[0;34m(\u001b[0m\u001b[0mlabels\u001b[0m\u001b[0;34m[\u001b[0m\u001b[0;34m'N2'\u001b[0m\u001b[0;34m]\u001b[0m\u001b[0;34m.\u001b[0m\u001b[0mvalues\u001b[0m \u001b[0;34m<\u001b[0m \u001b[0;36m15\u001b[0m\u001b[0;34m)\u001b[0m\u001b[0;34m)\u001b[0m\u001b[0;34m\u001b[0m\u001b[0m\n\u001b[0m",
      "\u001b[0;31mTypeError\u001b[0m: ufunc 'bitwise_or' not supported for the input types, and the inputs could not be safely coerced to any supported types according to the casting rule ''safe''"
     ]
    }
   ],
   "source": [
    "( ((labels['N2'].values < 20) & (labels['x'].values > 275 | labels['y'].values > 625)) | (labels['N2'].values < 15))"
   ]
  },
  {
   "cell_type": "code",
   "execution_count": 56,
   "metadata": {},
   "outputs": [
    {
     "data": {
      "text/plain": [
       "array([False, False, False, ..., False, False, False])"
      ]
     },
     "execution_count": 56,
     "metadata": {},
     "output_type": "execute_result"
    }
   ],
   "source": [
    "(labels['x'].values > 275) | (labels['y'].values > 625)"
   ]
  },
  {
   "cell_type": "code",
   "execution_count": 55,
   "metadata": {},
   "outputs": [
    {
     "data": {
      "text/plain": [
       "array([False, False, False, ..., False, False, False])"
      ]
     },
     "execution_count": 55,
     "metadata": {},
     "output_type": "execute_result"
    }
   ],
   "source": [
    "labels['y'].values > 625"
   ]
  },
  {
   "cell_type": "code",
   "execution_count": 26,
   "metadata": {
    "scrolled": true
   },
   "outputs": [
    {
     "data": {
      "text/html": [
       "<div>\n",
       "<style scoped>\n",
       "    .dataframe tbody tr th:only-of-type {\n",
       "        vertical-align: middle;\n",
       "    }\n",
       "\n",
       "    .dataframe tbody tr th {\n",
       "        vertical-align: top;\n",
       "    }\n",
       "\n",
       "    .dataframe thead th {\n",
       "        text-align: right;\n",
       "    }\n",
       "</style>\n",
       "<table border=\"1\" class=\"dataframe\">\n",
       "  <thead>\n",
       "    <tr style=\"text-align: right;\">\n",
       "      <th></th>\n",
       "      <th>hit_id</th>\n",
       "      <th>x</th>\n",
       "      <th>y</th>\n",
       "      <th>z</th>\n",
       "      <th>volume_id</th>\n",
       "      <th>layer_id</th>\n",
       "      <th>module_id</th>\n",
       "      <th>s1</th>\n",
       "      <th>N1</th>\n",
       "      <th>stepped_z</th>\n",
       "      <th>...</th>\n",
       "      <th>z1</th>\n",
       "      <th>z2</th>\n",
       "      <th>z3</th>\n",
       "      <th>a1</th>\n",
       "      <th>x2</th>\n",
       "      <th>y2</th>\n",
       "      <th>sina1</th>\n",
       "      <th>cosa1</th>\n",
       "      <th>s2</th>\n",
       "      <th>N2</th>\n",
       "    </tr>\n",
       "  </thead>\n",
       "  <tbody>\n",
       "    <tr>\n",
       "      <th>319</th>\n",
       "      <td>320</td>\n",
       "      <td>-60.398602</td>\n",
       "      <td>-127.692001</td>\n",
       "      <td>-1502.0</td>\n",
       "      <td>7</td>\n",
       "      <td>2</td>\n",
       "      <td>21</td>\n",
       "      <td>8348561</td>\n",
       "      <td>1</td>\n",
       "      <td>-1501.995605</td>\n",
       "      <td>...</td>\n",
       "      <td>-10.633213</td>\n",
       "      <td>-0.995607</td>\n",
       "      <td>-0.094045</td>\n",
       "      <td>-1.890321</td>\n",
       "      <td>-0.040035</td>\n",
       "      <td>-0.084641</td>\n",
       "      <td>-0.949385</td>\n",
       "      <td>-0.314115</td>\n",
       "      <td>241</td>\n",
       "      <td>2</td>\n",
       "    </tr>\n",
       "    <tr>\n",
       "      <th>343</th>\n",
       "      <td>344</td>\n",
       "      <td>-23.916300</td>\n",
       "      <td>-97.369598</td>\n",
       "      <td>-1502.5</td>\n",
       "      <td>7</td>\n",
       "      <td>2</td>\n",
       "      <td>23</td>\n",
       "      <td>8348576</td>\n",
       "      <td>2</td>\n",
       "      <td>-1502.495605</td>\n",
       "      <td>...</td>\n",
       "      <td>-14.985513</td>\n",
       "      <td>-0.997781</td>\n",
       "      <td>-0.066731</td>\n",
       "      <td>-1.724901</td>\n",
       "      <td>-0.015882</td>\n",
       "      <td>-0.064661</td>\n",
       "      <td>-0.988149</td>\n",
       "      <td>-0.153496</td>\n",
       "      <td>256</td>\n",
       "      <td>13</td>\n",
       "    </tr>\n",
       "    <tr>\n",
       "      <th>363</th>\n",
       "      <td>364</td>\n",
       "      <td>-32.573200</td>\n",
       "      <td>-138.384003</td>\n",
       "      <td>-1502.0</td>\n",
       "      <td>7</td>\n",
       "      <td>2</td>\n",
       "      <td>24</td>\n",
       "      <td>8348592</td>\n",
       "      <td>2</td>\n",
       "      <td>-1501.995605</td>\n",
       "      <td>...</td>\n",
       "      <td>-10.565152</td>\n",
       "      <td>-0.995550</td>\n",
       "      <td>-0.094651</td>\n",
       "      <td>-1.678889</td>\n",
       "      <td>-0.021590</td>\n",
       "      <td>-0.091723</td>\n",
       "      <td>-0.994164</td>\n",
       "      <td>-0.107882</td>\n",
       "      <td>272</td>\n",
       "      <td>13</td>\n",
       "    </tr>\n",
       "    <tr>\n",
       "      <th>370</th>\n",
       "      <td>371</td>\n",
       "      <td>-35.410400</td>\n",
       "      <td>-138.871994</td>\n",
       "      <td>-1502.0</td>\n",
       "      <td>7</td>\n",
       "      <td>2</td>\n",
       "      <td>24</td>\n",
       "      <td>8348597</td>\n",
       "      <td>2</td>\n",
       "      <td>-1501.995605</td>\n",
       "      <td>...</td>\n",
       "      <td>-10.480405</td>\n",
       "      <td>-0.995479</td>\n",
       "      <td>-0.095416</td>\n",
       "      <td>-1.696383</td>\n",
       "      <td>-0.023469</td>\n",
       "      <td>-0.092040</td>\n",
       "      <td>-0.992124</td>\n",
       "      <td>-0.125257</td>\n",
       "      <td>277</td>\n",
       "      <td>7</td>\n",
       "    </tr>\n",
       "    <tr>\n",
       "      <th>391</th>\n",
       "      <td>392</td>\n",
       "      <td>-11.331600</td>\n",
       "      <td>-113.625000</td>\n",
       "      <td>-1498.0</td>\n",
       "      <td>7</td>\n",
       "      <td>2</td>\n",
       "      <td>26</td>\n",
       "      <td>8348613</td>\n",
       "      <td>6</td>\n",
       "      <td>-1497.995605</td>\n",
       "      <td>...</td>\n",
       "      <td>-13.118681</td>\n",
       "      <td>-0.997107</td>\n",
       "      <td>-0.076227</td>\n",
       "      <td>-1.571377</td>\n",
       "      <td>-0.007543</td>\n",
       "      <td>-0.075631</td>\n",
       "      <td>-1.000000</td>\n",
       "      <td>-0.000580</td>\n",
       "      <td>293</td>\n",
       "      <td>16</td>\n",
       "    </tr>\n",
       "    <tr>\n",
       "      <th>393</th>\n",
       "      <td>394</td>\n",
       "      <td>-11.398400</td>\n",
       "      <td>-113.919998</td>\n",
       "      <td>-1502.0</td>\n",
       "      <td>7</td>\n",
       "      <td>2</td>\n",
       "      <td>27</td>\n",
       "      <td>8348613</td>\n",
       "      <td>6</td>\n",
       "      <td>-1501.995605</td>\n",
       "      <td>...</td>\n",
       "      <td>-13.119224</td>\n",
       "      <td>-0.997108</td>\n",
       "      <td>-0.076224</td>\n",
       "      <td>-1.571441</td>\n",
       "      <td>-0.007567</td>\n",
       "      <td>-0.075626</td>\n",
       "      <td>-1.000000</td>\n",
       "      <td>-0.000645</td>\n",
       "      <td>293</td>\n",
       "      <td>16</td>\n",
       "    </tr>\n",
       "    <tr>\n",
       "      <th>492</th>\n",
       "      <td>493</td>\n",
       "      <td>57.278702</td>\n",
       "      <td>-166.098007</td>\n",
       "      <td>-1502.0</td>\n",
       "      <td>7</td>\n",
       "      <td>2</td>\n",
       "      <td>34</td>\n",
       "      <td>8348688</td>\n",
       "      <td>1</td>\n",
       "      <td>-1501.995605</td>\n",
       "      <td>...</td>\n",
       "      <td>-8.548839</td>\n",
       "      <td>-0.993228</td>\n",
       "      <td>-0.116975</td>\n",
       "      <td>-1.086531</td>\n",
       "      <td>0.037877</td>\n",
       "      <td>-0.109835</td>\n",
       "      <td>-0.885017</td>\n",
       "      <td>0.465559</td>\n",
       "      <td>368</td>\n",
       "      <td>3</td>\n",
       "    </tr>\n",
       "    <tr>\n",
       "      <th>649</th>\n",
       "      <td>650</td>\n",
       "      <td>134.445007</td>\n",
       "      <td>-66.787003</td>\n",
       "      <td>-1502.0</td>\n",
       "      <td>7</td>\n",
       "      <td>2</td>\n",
       "      <td>46</td>\n",
       "      <td>8348804</td>\n",
       "      <td>7</td>\n",
       "      <td>-1501.995605</td>\n",
       "      <td>...</td>\n",
       "      <td>-10.005369</td>\n",
       "      <td>-0.995042</td>\n",
       "      <td>-0.099946</td>\n",
       "      <td>-0.331070</td>\n",
       "      <td>0.089067</td>\n",
       "      <td>-0.044245</td>\n",
       "      <td>-0.325055</td>\n",
       "      <td>0.945695</td>\n",
       "      <td>484</td>\n",
       "      <td>8</td>\n",
       "    </tr>\n",
       "    <tr>\n",
       "      <th>667</th>\n",
       "      <td>668</td>\n",
       "      <td>58.875198</td>\n",
       "      <td>-23.493900</td>\n",
       "      <td>-1498.0</td>\n",
       "      <td>7</td>\n",
       "      <td>2</td>\n",
       "      <td>47</td>\n",
       "      <td>8348816</td>\n",
       "      <td>1</td>\n",
       "      <td>-1497.995605</td>\n",
       "      <td>...</td>\n",
       "      <td>-23.631674</td>\n",
       "      <td>-0.999106</td>\n",
       "      <td>-0.042316</td>\n",
       "      <td>-0.324867</td>\n",
       "      <td>0.039267</td>\n",
       "      <td>-0.015669</td>\n",
       "      <td>-0.319183</td>\n",
       "      <td>0.947693</td>\n",
       "      <td>496</td>\n",
       "      <td>11</td>\n",
       "    </tr>\n",
       "    <tr>\n",
       "      <th>688</th>\n",
       "      <td>689</td>\n",
       "      <td>134.128006</td>\n",
       "      <td>-66.574799</td>\n",
       "      <td>-1498.0</td>\n",
       "      <td>7</td>\n",
       "      <td>2</td>\n",
       "      <td>48</td>\n",
       "      <td>8348804</td>\n",
       "      <td>7</td>\n",
       "      <td>-1497.995605</td>\n",
       "      <td>...</td>\n",
       "      <td>-10.003934</td>\n",
       "      <td>-0.995041</td>\n",
       "      <td>-0.099961</td>\n",
       "      <td>-0.331070</td>\n",
       "      <td>0.089094</td>\n",
       "      <td>-0.044222</td>\n",
       "      <td>-0.325056</td>\n",
       "      <td>0.945695</td>\n",
       "      <td>484</td>\n",
       "      <td>8</td>\n",
       "    </tr>\n",
       "    <tr>\n",
       "      <th>701</th>\n",
       "      <td>702</td>\n",
       "      <td>141.481995</td>\n",
       "      <td>-52.666901</td>\n",
       "      <td>-1502.0</td>\n",
       "      <td>7</td>\n",
       "      <td>2</td>\n",
       "      <td>49</td>\n",
       "      <td>8257314</td>\n",
       "      <td>1</td>\n",
       "      <td>-1501.995605</td>\n",
       "      <td>...</td>\n",
       "      <td>-9.949241</td>\n",
       "      <td>-0.994987</td>\n",
       "      <td>-0.100510</td>\n",
       "      <td>-0.225641</td>\n",
       "      <td>0.093723</td>\n",
       "      <td>-0.034889</td>\n",
       "      <td>-0.223731</td>\n",
       "      <td>0.974651</td>\n",
       "      <td>520</td>\n",
       "      <td>2</td>\n",
       "    </tr>\n",
       "    <tr>\n",
       "      <th>702</th>\n",
       "      <td>703</td>\n",
       "      <td>148.559006</td>\n",
       "      <td>-42.171799</td>\n",
       "      <td>-1502.0</td>\n",
       "      <td>7</td>\n",
       "      <td>2</td>\n",
       "      <td>49</td>\n",
       "      <td>8348841</td>\n",
       "      <td>2</td>\n",
       "      <td>-1501.995605</td>\n",
       "      <td>...</td>\n",
       "      <td>-9.726197</td>\n",
       "      <td>-0.994756</td>\n",
       "      <td>-0.102815</td>\n",
       "      <td>-0.142873</td>\n",
       "      <td>0.098389</td>\n",
       "      <td>-0.027930</td>\n",
       "      <td>-0.142388</td>\n",
       "      <td>0.989811</td>\n",
       "      <td>521</td>\n",
       "      <td>3</td>\n",
       "    </tr>\n",
       "    <tr>\n",
       "      <th>733</th>\n",
       "      <td>734</td>\n",
       "      <td>148.192993</td>\n",
       "      <td>-41.968700</td>\n",
       "      <td>-1498.0</td>\n",
       "      <td>7</td>\n",
       "      <td>2</td>\n",
       "      <td>51</td>\n",
       "      <td>8348841</td>\n",
       "      <td>2</td>\n",
       "      <td>-1497.995605</td>\n",
       "      <td>...</td>\n",
       "      <td>-9.725962</td>\n",
       "      <td>-0.994756</td>\n",
       "      <td>-0.102818</td>\n",
       "      <td>-0.142607</td>\n",
       "      <td>0.098408</td>\n",
       "      <td>-0.027869</td>\n",
       "      <td>-0.142124</td>\n",
       "      <td>0.989849</td>\n",
       "      <td>521</td>\n",
       "      <td>3</td>\n",
       "    </tr>\n",
       "    <tr>\n",
       "      <th>771</th>\n",
       "      <td>772</td>\n",
       "      <td>140.257004</td>\n",
       "      <td>-3.155920</td>\n",
       "      <td>-1498.0</td>\n",
       "      <td>7</td>\n",
       "      <td>2</td>\n",
       "      <td>54</td>\n",
       "      <td>8348896</td>\n",
       "      <td>6</td>\n",
       "      <td>-1497.995605</td>\n",
       "      <td>...</td>\n",
       "      <td>-10.677723</td>\n",
       "      <td>-0.995643</td>\n",
       "      <td>-0.093653</td>\n",
       "      <td>0.098959</td>\n",
       "      <td>0.093221</td>\n",
       "      <td>-0.002098</td>\n",
       "      <td>0.098798</td>\n",
       "      <td>0.995108</td>\n",
       "      <td>576</td>\n",
       "      <td>10</td>\n",
       "    </tr>\n",
       "    <tr>\n",
       "      <th>1202</th>\n",
       "      <td>1203</td>\n",
       "      <td>-10.810400</td>\n",
       "      <td>93.706299</td>\n",
       "      <td>-1502.0</td>\n",
       "      <td>7</td>\n",
       "      <td>2</td>\n",
       "      <td>82</td>\n",
       "      <td>8349210</td>\n",
       "      <td>1</td>\n",
       "      <td>-1501.995605</td>\n",
       "      <td>...</td>\n",
       "      <td>-15.923242</td>\n",
       "      <td>-0.998034</td>\n",
       "      <td>-0.062801</td>\n",
       "      <td>1.767261</td>\n",
       "      <td>-0.007183</td>\n",
       "      <td>0.062265</td>\n",
       "      <td>0.980763</td>\n",
       "      <td>-0.195203</td>\n",
       "      <td>890</td>\n",
       "      <td>16</td>\n",
       "    </tr>\n",
       "    <tr>\n",
       "      <th>1225</th>\n",
       "      <td>1226</td>\n",
       "      <td>-4.662660</td>\n",
       "      <td>172.847000</td>\n",
       "      <td>-1498.0</td>\n",
       "      <td>7</td>\n",
       "      <td>2</td>\n",
       "      <td>83</td>\n",
       "      <td>8349237</td>\n",
       "      <td>1</td>\n",
       "      <td>-1497.995605</td>\n",
       "      <td>...</td>\n",
       "      <td>-8.663498</td>\n",
       "      <td>-0.993404</td>\n",
       "      <td>-0.115427</td>\n",
       "      <td>1.747532</td>\n",
       "      <td>-0.003092</td>\n",
       "      <td>0.114624</td>\n",
       "      <td>0.984423</td>\n",
       "      <td>-0.175818</td>\n",
       "      <td>917</td>\n",
       "      <td>3</td>\n",
       "    </tr>\n",
       "    <tr>\n",
       "      <th>1234</th>\n",
       "      <td>1235</td>\n",
       "      <td>-15.301700</td>\n",
       "      <td>133.399994</td>\n",
       "      <td>-1502.0</td>\n",
       "      <td>7</td>\n",
       "      <td>2</td>\n",
       "      <td>84</td>\n",
       "      <td>8349243</td>\n",
       "      <td>1</td>\n",
       "      <td>-1501.995605</td>\n",
       "      <td>...</td>\n",
       "      <td>-11.186055</td>\n",
       "      <td>-0.996028</td>\n",
       "      <td>-0.089397</td>\n",
       "      <td>1.801239</td>\n",
       "      <td>-0.010147</td>\n",
       "      <td>0.088462</td>\n",
       "      <td>0.973565</td>\n",
       "      <td>-0.228408</td>\n",
       "      <td>923</td>\n",
       "      <td>3</td>\n",
       "    </tr>\n",
       "    <tr>\n",
       "      <th>1243</th>\n",
       "      <td>1244</td>\n",
       "      <td>-19.023701</td>\n",
       "      <td>63.438000</td>\n",
       "      <td>-1497.5</td>\n",
       "      <td>7</td>\n",
       "      <td>2</td>\n",
       "      <td>85</td>\n",
       "      <td>8349246</td>\n",
       "      <td>1</td>\n",
       "      <td>-1497.495605</td>\n",
       "      <td>...</td>\n",
       "      <td>-22.611006</td>\n",
       "      <td>-0.999023</td>\n",
       "      <td>-0.044226</td>\n",
       "      <td>1.919416</td>\n",
       "      <td>-0.012691</td>\n",
       "      <td>0.042321</td>\n",
       "      <td>0.939845</td>\n",
       "      <td>-0.341601</td>\n",
       "      <td>926</td>\n",
       "      <td>3</td>\n",
       "    </tr>\n",
       "    <tr>\n",
       "      <th>1299</th>\n",
       "      <td>1300</td>\n",
       "      <td>-44.287102</td>\n",
       "      <td>129.695999</td>\n",
       "      <td>-1502.0</td>\n",
       "      <td>7</td>\n",
       "      <td>2</td>\n",
       "      <td>88</td>\n",
       "      <td>8349287</td>\n",
       "      <td>1</td>\n",
       "      <td>-1501.995605</td>\n",
       "      <td>...</td>\n",
       "      <td>-10.959623</td>\n",
       "      <td>-0.995863</td>\n",
       "      <td>-0.091244</td>\n",
       "      <td>2.018493</td>\n",
       "      <td>-0.029363</td>\n",
       "      <td>0.085991</td>\n",
       "      <td>0.901447</td>\n",
       "      <td>-0.432891</td>\n",
       "      <td>967</td>\n",
       "      <td>2</td>\n",
       "    </tr>\n",
       "    <tr>\n",
       "      <th>1355</th>\n",
       "      <td>1356</td>\n",
       "      <td>-57.589699</td>\n",
       "      <td>74.781303</td>\n",
       "      <td>-1502.0</td>\n",
       "      <td>7</td>\n",
       "      <td>2</td>\n",
       "      <td>93</td>\n",
       "      <td>8349329</td>\n",
       "      <td>1</td>\n",
       "      <td>-1501.995605</td>\n",
       "      <td>...</td>\n",
       "      <td>-15.913335</td>\n",
       "      <td>-0.998031</td>\n",
       "      <td>-0.062840</td>\n",
       "      <td>2.308702</td>\n",
       "      <td>-0.038266</td>\n",
       "      <td>0.049690</td>\n",
       "      <td>0.739879</td>\n",
       "      <td>-0.672740</td>\n",
       "      <td>1009</td>\n",
       "      <td>3</td>\n",
       "    </tr>\n",
       "    <tr>\n",
       "      <th>1375</th>\n",
       "      <td>1376</td>\n",
       "      <td>-110.156998</td>\n",
       "      <td>127.799004</td>\n",
       "      <td>-1502.0</td>\n",
       "      <td>7</td>\n",
       "      <td>2</td>\n",
       "      <td>94</td>\n",
       "      <td>8349345</td>\n",
       "      <td>1</td>\n",
       "      <td>-1501.995605</td>\n",
       "      <td>...</td>\n",
       "      <td>-8.902238</td>\n",
       "      <td>-0.993750</td>\n",
       "      <td>-0.112331</td>\n",
       "      <td>2.428321</td>\n",
       "      <td>-0.072882</td>\n",
       "      <td>0.084554</td>\n",
       "      <td>0.654312</td>\n",
       "      <td>-0.756225</td>\n",
       "      <td>1025</td>\n",
       "      <td>3</td>\n",
       "    </tr>\n",
       "    <tr>\n",
       "      <th>1517</th>\n",
       "      <td>1518</td>\n",
       "      <td>-129.451004</td>\n",
       "      <td>31.396900</td>\n",
       "      <td>-1498.0</td>\n",
       "      <td>7</td>\n",
       "      <td>2</td>\n",
       "      <td>105</td>\n",
       "      <td>8349453</td>\n",
       "      <td>1</td>\n",
       "      <td>-1497.995605</td>\n",
       "      <td>...</td>\n",
       "      <td>-11.245934</td>\n",
       "      <td>-0.996070</td>\n",
       "      <td>-0.088921</td>\n",
       "      <td>3.018956</td>\n",
       "      <td>-0.086076</td>\n",
       "      <td>0.020877</td>\n",
       "      <td>0.122329</td>\n",
       "      <td>-0.992490</td>\n",
       "      <td>1133</td>\n",
       "      <td>2</td>\n",
       "    </tr>\n",
       "    <tr>\n",
       "      <th>1564</th>\n",
       "      <td>1565</td>\n",
       "      <td>-155.727997</td>\n",
       "      <td>9.427130</td>\n",
       "      <td>-1498.0</td>\n",
       "      <td>7</td>\n",
       "      <td>2</td>\n",
       "      <td>108</td>\n",
       "      <td>8349479</td>\n",
       "      <td>1</td>\n",
       "      <td>-1497.995605</td>\n",
       "      <td>...</td>\n",
       "      <td>-9.601788</td>\n",
       "      <td>-0.994620</td>\n",
       "      <td>-0.104147</td>\n",
       "      <td>3.216228</td>\n",
       "      <td>-0.103398</td>\n",
       "      <td>0.006259</td>\n",
       "      <td>-0.074567</td>\n",
       "      <td>-0.997216</td>\n",
       "      <td>1159</td>\n",
       "      <td>3</td>\n",
       "    </tr>\n",
       "    <tr>\n",
       "      <th>1571</th>\n",
       "      <td>1572</td>\n",
       "      <td>-79.428703</td>\n",
       "      <td>-10.840300</td>\n",
       "      <td>-1302.5</td>\n",
       "      <td>7</td>\n",
       "      <td>4</td>\n",
       "      <td>1</td>\n",
       "      <td>8349484</td>\n",
       "      <td>2</td>\n",
       "      <td>-1302.495605</td>\n",
       "      <td>...</td>\n",
       "      <td>-16.247789</td>\n",
       "      <td>-0.998111</td>\n",
       "      <td>-0.061547</td>\n",
       "      <td>-2.936612</td>\n",
       "      <td>-0.060866</td>\n",
       "      <td>-0.008307</td>\n",
       "      <td>-0.203548</td>\n",
       "      <td>-0.979065</td>\n",
       "      <td>1164</td>\n",
       "      <td>4</td>\n",
       "    </tr>\n",
       "    <tr>\n",
       "      <th>1603</th>\n",
       "      <td>1604</td>\n",
       "      <td>-134.376007</td>\n",
       "      <td>-6.137480</td>\n",
       "      <td>-1302.0</td>\n",
       "      <td>7</td>\n",
       "      <td>4</td>\n",
       "      <td>2</td>\n",
       "      <td>8348343</td>\n",
       "      <td>1</td>\n",
       "      <td>-1301.995605</td>\n",
       "      <td>...</td>\n",
       "      <td>-9.679172</td>\n",
       "      <td>-0.994705</td>\n",
       "      <td>-0.103315</td>\n",
       "      <td>-2.979505</td>\n",
       "      <td>-0.102661</td>\n",
       "      <td>-0.004689</td>\n",
       "      <td>-0.161379</td>\n",
       "      <td>-0.986892</td>\n",
       "      <td>23</td>\n",
       "      <td>2</td>\n",
       "    </tr>\n",
       "    <tr>\n",
       "      <th>1617</th>\n",
       "      <td>1618</td>\n",
       "      <td>-79.156403</td>\n",
       "      <td>-10.750700</td>\n",
       "      <td>-1298.0</td>\n",
       "      <td>7</td>\n",
       "      <td>4</td>\n",
       "      <td>4</td>\n",
       "      <td>8349484</td>\n",
       "      <td>2</td>\n",
       "      <td>-1297.995605</td>\n",
       "      <td>...</td>\n",
       "      <td>-16.248793</td>\n",
       "      <td>-0.998112</td>\n",
       "      <td>-0.061543</td>\n",
       "      <td>-2.937507</td>\n",
       "      <td>-0.060868</td>\n",
       "      <td>-0.008267</td>\n",
       "      <td>-0.202672</td>\n",
       "      <td>-0.979247</td>\n",
       "      <td>1164</td>\n",
       "      <td>4</td>\n",
       "    </tr>\n",
       "    <tr>\n",
       "      <th>1802</th>\n",
       "      <td>1803</td>\n",
       "      <td>-121.322998</td>\n",
       "      <td>-100.648003</td>\n",
       "      <td>-1298.0</td>\n",
       "      <td>7</td>\n",
       "      <td>4</td>\n",
       "      <td>13</td>\n",
       "      <td>8349635</td>\n",
       "      <td>4</td>\n",
       "      <td>-1297.995605</td>\n",
       "      <td>...</td>\n",
       "      <td>-8.234158</td>\n",
       "      <td>-0.992706</td>\n",
       "      <td>-0.121445</td>\n",
       "      <td>-2.312562</td>\n",
       "      <td>-0.092787</td>\n",
       "      <td>-0.076975</td>\n",
       "      <td>-0.737277</td>\n",
       "      <td>-0.675591</td>\n",
       "      <td>1315</td>\n",
       "      <td>6</td>\n",
       "    </tr>\n",
       "    <tr>\n",
       "      <th>1858</th>\n",
       "      <td>1859</td>\n",
       "      <td>-102.922997</td>\n",
       "      <td>-136.904999</td>\n",
       "      <td>-1298.0</td>\n",
       "      <td>7</td>\n",
       "      <td>4</td>\n",
       "      <td>16</td>\n",
       "      <td>8349670</td>\n",
       "      <td>2</td>\n",
       "      <td>-1297.995605</td>\n",
       "      <td>...</td>\n",
       "      <td>-7.578352</td>\n",
       "      <td>-0.991406</td>\n",
       "      <td>-0.131955</td>\n",
       "      <td>-2.067089</td>\n",
       "      <td>-0.078612</td>\n",
       "      <td>-0.104567</td>\n",
       "      <td>-0.879354</td>\n",
       "      <td>-0.476168</td>\n",
       "      <td>1350</td>\n",
       "      <td>3</td>\n",
       "    </tr>\n",
       "    <tr>\n",
       "      <th>1906</th>\n",
       "      <td>1907</td>\n",
       "      <td>-103.083000</td>\n",
       "      <td>-137.432999</td>\n",
       "      <td>-1302.0</td>\n",
       "      <td>7</td>\n",
       "      <td>4</td>\n",
       "      <td>18</td>\n",
       "      <td>8349670</td>\n",
       "      <td>2</td>\n",
       "      <td>-1301.995605</td>\n",
       "      <td>...</td>\n",
       "      <td>-7.578773</td>\n",
       "      <td>-0.991407</td>\n",
       "      <td>-0.131947</td>\n",
       "      <td>-2.065536</td>\n",
       "      <td>-0.078492</td>\n",
       "      <td>-0.104648</td>\n",
       "      <td>-0.880092</td>\n",
       "      <td>-0.474803</td>\n",
       "      <td>1350</td>\n",
       "      <td>3</td>\n",
       "    </tr>\n",
       "    <tr>\n",
       "      <th>2000</th>\n",
       "      <td>2001</td>\n",
       "      <td>-20.154900</td>\n",
       "      <td>-84.700798</td>\n",
       "      <td>-1302.5</td>\n",
       "      <td>7</td>\n",
       "      <td>4</td>\n",
       "      <td>23</td>\n",
       "      <td>8348576</td>\n",
       "      <td>2</td>\n",
       "      <td>-1302.495605</td>\n",
       "      <td>...</td>\n",
       "      <td>-14.960009</td>\n",
       "      <td>-0.997773</td>\n",
       "      <td>-0.066845</td>\n",
       "      <td>-1.729089</td>\n",
       "      <td>-0.015440</td>\n",
       "      <td>-0.064884</td>\n",
       "      <td>-0.987498</td>\n",
       "      <td>-0.157633</td>\n",
       "      <td>256</td>\n",
       "      <td>13</td>\n",
       "    </tr>\n",
       "    <tr>\n",
       "      <th>...</th>\n",
       "      <td>...</td>\n",
       "      <td>...</td>\n",
       "      <td>...</td>\n",
       "      <td>...</td>\n",
       "      <td>...</td>\n",
       "      <td>...</td>\n",
       "      <td>...</td>\n",
       "      <td>...</td>\n",
       "      <td>...</td>\n",
       "      <td>...</td>\n",
       "      <td>...</td>\n",
       "      <td>...</td>\n",
       "      <td>...</td>\n",
       "      <td>...</td>\n",
       "      <td>...</td>\n",
       "      <td>...</td>\n",
       "      <td>...</td>\n",
       "      <td>...</td>\n",
       "      <td>...</td>\n",
       "      <td>...</td>\n",
       "      <td>...</td>\n",
       "    </tr>\n",
       "    <tr>\n",
       "      <th>123820</th>\n",
       "      <td>123821</td>\n",
       "      <td>-821.000977</td>\n",
       "      <td>286.739014</td>\n",
       "      <td>2544.5</td>\n",
       "      <td>18</td>\n",
       "      <td>10</td>\n",
       "      <td>93</td>\n",
       "      <td>8438885</td>\n",
       "      <td>2</td>\n",
       "      <td>2544.504395</td>\n",
       "      <td>...</td>\n",
       "      <td>2.925941</td>\n",
       "      <td>0.946261</td>\n",
       "      <td>0.341770</td>\n",
       "      <td>3.566593</td>\n",
       "      <td>-0.305318</td>\n",
       "      <td>0.106634</td>\n",
       "      <td>-0.412321</td>\n",
       "      <td>-0.911039</td>\n",
       "      <td>90565</td>\n",
       "      <td>3</td>\n",
       "    </tr>\n",
       "    <tr>\n",
       "      <th>123827</th>\n",
       "      <td>123828</td>\n",
       "      <td>-828.724976</td>\n",
       "      <td>295.891998</td>\n",
       "      <td>2552.5</td>\n",
       "      <td>18</td>\n",
       "      <td>10</td>\n",
       "      <td>94</td>\n",
       "      <td>8438885</td>\n",
       "      <td>2</td>\n",
       "      <td>2552.504395</td>\n",
       "      <td>...</td>\n",
       "      <td>2.900681</td>\n",
       "      <td>0.945397</td>\n",
       "      <td>0.344747</td>\n",
       "      <td>3.568825</td>\n",
       "      <td>-0.306944</td>\n",
       "      <td>0.109593</td>\n",
       "      <td>-0.414353</td>\n",
       "      <td>-0.910116</td>\n",
       "      <td>90565</td>\n",
       "      <td>3</td>\n",
       "    </tr>\n",
       "    <tr>\n",
       "      <th>123867</th>\n",
       "      <td>123868</td>\n",
       "      <td>-880.921021</td>\n",
       "      <td>-187.223999</td>\n",
       "      <td>2952.5</td>\n",
       "      <td>18</td>\n",
       "      <td>12</td>\n",
       "      <td>3</td>\n",
       "      <td>8421026</td>\n",
       "      <td>2</td>\n",
       "      <td>2952.504395</td>\n",
       "      <td>...</td>\n",
       "      <td>3.278377</td>\n",
       "      <td>0.956492</td>\n",
       "      <td>0.305029</td>\n",
       "      <td>-2.143711</td>\n",
       "      <td>-0.285384</td>\n",
       "      <td>-0.060653</td>\n",
       "      <td>-0.840325</td>\n",
       "      <td>-0.542084</td>\n",
       "      <td>72706</td>\n",
       "      <td>5</td>\n",
       "    </tr>\n",
       "    <tr>\n",
       "      <th>123873</th>\n",
       "      <td>123874</td>\n",
       "      <td>-881.361023</td>\n",
       "      <td>-186.447998</td>\n",
       "      <td>2944.5</td>\n",
       "      <td>18</td>\n",
       "      <td>12</td>\n",
       "      <td>4</td>\n",
       "      <td>8421026</td>\n",
       "      <td>2</td>\n",
       "      <td>2944.504395</td>\n",
       "      <td>...</td>\n",
       "      <td>3.268516</td>\n",
       "      <td>0.956246</td>\n",
       "      <td>0.305949</td>\n",
       "      <td>-2.144416</td>\n",
       "      <td>-0.286228</td>\n",
       "      <td>-0.060550</td>\n",
       "      <td>-0.839942</td>\n",
       "      <td>-0.542676</td>\n",
       "      <td>72706</td>\n",
       "      <td>5</td>\n",
       "    </tr>\n",
       "    <tr>\n",
       "      <th>123890</th>\n",
       "      <td>123891</td>\n",
       "      <td>-729.818970</td>\n",
       "      <td>-435.549011</td>\n",
       "      <td>2947.5</td>\n",
       "      <td>18</td>\n",
       "      <td>12</td>\n",
       "      <td>10</td>\n",
       "      <td>8422100</td>\n",
       "      <td>1</td>\n",
       "      <td>2947.504395</td>\n",
       "      <td>...</td>\n",
       "      <td>3.468029</td>\n",
       "      <td>0.960853</td>\n",
       "      <td>0.288348</td>\n",
       "      <td>-1.860004</td>\n",
       "      <td>-0.237913</td>\n",
       "      <td>-0.141984</td>\n",
       "      <td>-0.958470</td>\n",
       "      <td>-0.285193</td>\n",
       "      <td>73780</td>\n",
       "      <td>2</td>\n",
       "    </tr>\n",
       "    <tr>\n",
       "      <th>123912</th>\n",
       "      <td>123913</td>\n",
       "      <td>-471.006989</td>\n",
       "      <td>-591.406982</td>\n",
       "      <td>2947.5</td>\n",
       "      <td>18</td>\n",
       "      <td>12</td>\n",
       "      <td>14</td>\n",
       "      <td>8423147</td>\n",
       "      <td>1</td>\n",
       "      <td>2947.504395</td>\n",
       "      <td>...</td>\n",
       "      <td>3.898552</td>\n",
       "      <td>0.968642</td>\n",
       "      <td>0.256505</td>\n",
       "      <td>-1.582836</td>\n",
       "      <td>-0.154788</td>\n",
       "      <td>-0.194355</td>\n",
       "      <td>-0.999928</td>\n",
       "      <td>-0.012040</td>\n",
       "      <td>74827</td>\n",
       "      <td>2</td>\n",
       "    </tr>\n",
       "    <tr>\n",
       "      <th>123929</th>\n",
       "      <td>123930</td>\n",
       "      <td>-421.453003</td>\n",
       "      <td>-639.172974</td>\n",
       "      <td>2944.5</td>\n",
       "      <td>18</td>\n",
       "      <td>12</td>\n",
       "      <td>16</td>\n",
       "      <td>8420050</td>\n",
       "      <td>1</td>\n",
       "      <td>2944.504395</td>\n",
       "      <td>...</td>\n",
       "      <td>3.845927</td>\n",
       "      <td>0.967819</td>\n",
       "      <td>0.260015</td>\n",
       "      <td>-1.484769</td>\n",
       "      <td>-0.138526</td>\n",
       "      <td>-0.210088</td>\n",
       "      <td>-0.996302</td>\n",
       "      <td>0.085921</td>\n",
       "      <td>71730</td>\n",
       "      <td>3</td>\n",
       "    </tr>\n",
       "    <tr>\n",
       "      <th>123936</th>\n",
       "      <td>123937</td>\n",
       "      <td>-412.959015</td>\n",
       "      <td>-847.940002</td>\n",
       "      <td>2955.5</td>\n",
       "      <td>18</td>\n",
       "      <td>12</td>\n",
       "      <td>17</td>\n",
       "      <td>8438567</td>\n",
       "      <td>1</td>\n",
       "      <td>2955.504395</td>\n",
       "      <td>...</td>\n",
       "      <td>3.133634</td>\n",
       "      <td>0.952668</td>\n",
       "      <td>0.319118</td>\n",
       "      <td>-1.197764</td>\n",
       "      <td>-0.133112</td>\n",
       "      <td>-0.273323</td>\n",
       "      <td>-0.931226</td>\n",
       "      <td>0.364441</td>\n",
       "      <td>90247</td>\n",
       "      <td>2</td>\n",
       "    </tr>\n",
       "    <tr>\n",
       "      <th>123979</th>\n",
       "      <td>123980</td>\n",
       "      <td>94.224503</td>\n",
       "      <td>-802.755981</td>\n",
       "      <td>2947.5</td>\n",
       "      <td>18</td>\n",
       "      <td>12</td>\n",
       "      <td>26</td>\n",
       "      <td>8419050</td>\n",
       "      <td>1</td>\n",
       "      <td>2947.504395</td>\n",
       "      <td>...</td>\n",
       "      <td>3.646686</td>\n",
       "      <td>0.964397</td>\n",
       "      <td>0.274222</td>\n",
       "      <td>-0.747281</td>\n",
       "      <td>0.030830</td>\n",
       "      <td>-0.262655</td>\n",
       "      <td>-0.679647</td>\n",
       "      <td>0.733540</td>\n",
       "      <td>70730</td>\n",
       "      <td>2</td>\n",
       "    </tr>\n",
       "    <tr>\n",
       "      <th>124014</th>\n",
       "      <td>124015</td>\n",
       "      <td>425.089996</td>\n",
       "      <td>-711.791016</td>\n",
       "      <td>2947.5</td>\n",
       "      <td>18</td>\n",
       "      <td>12</td>\n",
       "      <td>34</td>\n",
       "      <td>8420272</td>\n",
       "      <td>1</td>\n",
       "      <td>2947.504395</td>\n",
       "      <td>...</td>\n",
       "      <td>3.555207</td>\n",
       "      <td>0.962644</td>\n",
       "      <td>0.281278</td>\n",
       "      <td>-0.307351</td>\n",
       "      <td>0.138833</td>\n",
       "      <td>-0.232469</td>\n",
       "      <td>-0.302535</td>\n",
       "      <td>0.953138</td>\n",
       "      <td>71952</td>\n",
       "      <td>3</td>\n",
       "    </tr>\n",
       "    <tr>\n",
       "      <th>124037</th>\n",
       "      <td>124038</td>\n",
       "      <td>656.642029</td>\n",
       "      <td>-488.907013</td>\n",
       "      <td>2944.5</td>\n",
       "      <td>18</td>\n",
       "      <td>12</td>\n",
       "      <td>40</td>\n",
       "      <td>8402142</td>\n",
       "      <td>1</td>\n",
       "      <td>2944.504395</td>\n",
       "      <td>...</td>\n",
       "      <td>3.596713</td>\n",
       "      <td>0.963455</td>\n",
       "      <td>0.278032</td>\n",
       "      <td>0.075864</td>\n",
       "      <td>0.214857</td>\n",
       "      <td>-0.159973</td>\n",
       "      <td>0.075792</td>\n",
       "      <td>0.997124</td>\n",
       "      <td>53822</td>\n",
       "      <td>3</td>\n",
       "    </tr>\n",
       "    <tr>\n",
       "      <th>124045</th>\n",
       "      <td>124046</td>\n",
       "      <td>669.901001</td>\n",
       "      <td>-372.571991</td>\n",
       "      <td>2947.5</td>\n",
       "      <td>18</td>\n",
       "      <td>12</td>\n",
       "      <td>42</td>\n",
       "      <td>8422440</td>\n",
       "      <td>1</td>\n",
       "      <td>2947.504395</td>\n",
       "      <td>...</td>\n",
       "      <td>3.845215</td>\n",
       "      <td>0.967808</td>\n",
       "      <td>0.260063</td>\n",
       "      <td>0.162218</td>\n",
       "      <td>0.219961</td>\n",
       "      <td>-0.122334</td>\n",
       "      <td>0.161507</td>\n",
       "      <td>0.986872</td>\n",
       "      <td>74120</td>\n",
       "      <td>3</td>\n",
       "    </tr>\n",
       "    <tr>\n",
       "      <th>124086</th>\n",
       "      <td>124087</td>\n",
       "      <td>765.083008</td>\n",
       "      <td>-32.949402</td>\n",
       "      <td>2944.5</td>\n",
       "      <td>18</td>\n",
       "      <td>12</td>\n",
       "      <td>48</td>\n",
       "      <td>8419264</td>\n",
       "      <td>1</td>\n",
       "      <td>2944.504395</td>\n",
       "      <td>...</td>\n",
       "      <td>3.845032</td>\n",
       "      <td>0.967805</td>\n",
       "      <td>0.260076</td>\n",
       "      <td>0.626081</td>\n",
       "      <td>0.251470</td>\n",
       "      <td>-0.010830</td>\n",
       "      <td>0.585973</td>\n",
       "      <td>0.810330</td>\n",
       "      <td>70944</td>\n",
       "      <td>3</td>\n",
       "    </tr>\n",
       "    <tr>\n",
       "      <th>124092</th>\n",
       "      <td>124093</td>\n",
       "      <td>760.989990</td>\n",
       "      <td>95.395401</td>\n",
       "      <td>2947.5</td>\n",
       "      <td>18</td>\n",
       "      <td>12</td>\n",
       "      <td>50</td>\n",
       "      <td>8376287</td>\n",
       "      <td>2</td>\n",
       "      <td>2947.504395</td>\n",
       "      <td>...</td>\n",
       "      <td>3.843160</td>\n",
       "      <td>0.967775</td>\n",
       "      <td>0.260203</td>\n",
       "      <td>0.794847</td>\n",
       "      <td>0.249862</td>\n",
       "      <td>0.031322</td>\n",
       "      <td>0.713756</td>\n",
       "      <td>0.700394</td>\n",
       "      <td>27967</td>\n",
       "      <td>5</td>\n",
       "    </tr>\n",
       "    <tr>\n",
       "      <th>124101</th>\n",
       "      <td>124102</td>\n",
       "      <td>761.505981</td>\n",
       "      <td>95.986801</td>\n",
       "      <td>2944.5</td>\n",
       "      <td>18</td>\n",
       "      <td>12</td>\n",
       "      <td>52</td>\n",
       "      <td>8376287</td>\n",
       "      <td>2</td>\n",
       "      <td>2944.504395</td>\n",
       "      <td>...</td>\n",
       "      <td>3.836318</td>\n",
       "      <td>0.967665</td>\n",
       "      <td>0.260667</td>\n",
       "      <td>0.796045</td>\n",
       "      <td>0.250258</td>\n",
       "      <td>0.031545</td>\n",
       "      <td>0.714595</td>\n",
       "      <td>0.699538</td>\n",
       "      <td>27967</td>\n",
       "      <td>5</td>\n",
       "    </tr>\n",
       "    <tr>\n",
       "      <th>124140</th>\n",
       "      <td>124141</td>\n",
       "      <td>700.924011</td>\n",
       "      <td>597.921021</td>\n",
       "      <td>2955.5</td>\n",
       "      <td>18</td>\n",
       "      <td>12</td>\n",
       "      <td>60</td>\n",
       "      <td>8420560</td>\n",
       "      <td>2</td>\n",
       "      <td>2955.504395</td>\n",
       "      <td>...</td>\n",
       "      <td>3.207943</td>\n",
       "      <td>0.954690</td>\n",
       "      <td>0.311726</td>\n",
       "      <td>1.513101</td>\n",
       "      <td>0.226414</td>\n",
       "      <td>0.193142</td>\n",
       "      <td>0.998336</td>\n",
       "      <td>0.057663</td>\n",
       "      <td>72240</td>\n",
       "      <td>3</td>\n",
       "    </tr>\n",
       "    <tr>\n",
       "      <th>124211</th>\n",
       "      <td>124212</td>\n",
       "      <td>150.177002</td>\n",
       "      <td>814.348999</td>\n",
       "      <td>2947.5</td>\n",
       "      <td>18</td>\n",
       "      <td>12</td>\n",
       "      <td>71</td>\n",
       "      <td>8439182</td>\n",
       "      <td>1</td>\n",
       "      <td>2947.504395</td>\n",
       "      <td>...</td>\n",
       "      <td>3.559431</td>\n",
       "      <td>0.962728</td>\n",
       "      <td>0.280944</td>\n",
       "      <td>2.112639</td>\n",
       "      <td>0.049052</td>\n",
       "      <td>0.265987</td>\n",
       "      <td>0.856760</td>\n",
       "      <td>-0.515716</td>\n",
       "      <td>90862</td>\n",
       "      <td>2</td>\n",
       "    </tr>\n",
       "    <tr>\n",
       "      <th>124217</th>\n",
       "      <td>124218</td>\n",
       "      <td>82.925400</td>\n",
       "      <td>782.651978</td>\n",
       "      <td>2944.5</td>\n",
       "      <td>18</td>\n",
       "      <td>12</td>\n",
       "      <td>73</td>\n",
       "      <td>8423709</td>\n",
       "      <td>1</td>\n",
       "      <td>2944.504395</td>\n",
       "      <td>...</td>\n",
       "      <td>3.741261</td>\n",
       "      <td>0.966085</td>\n",
       "      <td>0.267290</td>\n",
       "      <td>2.153130</td>\n",
       "      <td>0.027208</td>\n",
       "      <td>0.256787</td>\n",
       "      <td>0.835181</td>\n",
       "      <td>-0.549975</td>\n",
       "      <td>75389</td>\n",
       "      <td>2</td>\n",
       "    </tr>\n",
       "    <tr>\n",
       "      <th>124230</th>\n",
       "      <td>124231</td>\n",
       "      <td>-76.138397</td>\n",
       "      <td>772.674988</td>\n",
       "      <td>2947.5</td>\n",
       "      <td>18</td>\n",
       "      <td>12</td>\n",
       "      <td>75</td>\n",
       "      <td>8382488</td>\n",
       "      <td>3</td>\n",
       "      <td>2947.504395</td>\n",
       "      <td>...</td>\n",
       "      <td>3.796278</td>\n",
       "      <td>0.967013</td>\n",
       "      <td>0.263416</td>\n",
       "      <td>2.347528</td>\n",
       "      <td>-0.024979</td>\n",
       "      <td>0.253499</td>\n",
       "      <td>0.713208</td>\n",
       "      <td>-0.700952</td>\n",
       "      <td>34168</td>\n",
       "      <td>5</td>\n",
       "    </tr>\n",
       "    <tr>\n",
       "      <th>124232</th>\n",
       "      <td>124233</td>\n",
       "      <td>-71.489998</td>\n",
       "      <td>783.401978</td>\n",
       "      <td>2947.5</td>\n",
       "      <td>18</td>\n",
       "      <td>12</td>\n",
       "      <td>75</td>\n",
       "      <td>8382488</td>\n",
       "      <td>3</td>\n",
       "      <td>2947.504395</td>\n",
       "      <td>...</td>\n",
       "      <td>3.746862</td>\n",
       "      <td>0.966181</td>\n",
       "      <td>0.266890</td>\n",
       "      <td>2.349362</td>\n",
       "      <td>-0.023434</td>\n",
       "      <td>0.256797</td>\n",
       "      <td>0.711921</td>\n",
       "      <td>-0.702259</td>\n",
       "      <td>34168</td>\n",
       "      <td>5</td>\n",
       "    </tr>\n",
       "    <tr>\n",
       "      <th>124290</th>\n",
       "      <td>124291</td>\n",
       "      <td>-415.937988</td>\n",
       "      <td>680.382019</td>\n",
       "      <td>2947.5</td>\n",
       "      <td>18</td>\n",
       "      <td>12</td>\n",
       "      <td>83</td>\n",
       "      <td>8402206</td>\n",
       "      <td>1</td>\n",
       "      <td>2947.504395</td>\n",
       "      <td>...</td>\n",
       "      <td>3.696158</td>\n",
       "      <td>0.965295</td>\n",
       "      <td>0.270551</td>\n",
       "      <td>2.816610</td>\n",
       "      <td>-0.136218</td>\n",
       "      <td>0.222823</td>\n",
       "      <td>0.319293</td>\n",
       "      <td>-0.947656</td>\n",
       "      <td>53886</td>\n",
       "      <td>3</td>\n",
       "    </tr>\n",
       "    <tr>\n",
       "      <th>124294</th>\n",
       "      <td>124295</td>\n",
       "      <td>-615.476990</td>\n",
       "      <td>755.770996</td>\n",
       "      <td>2955.5</td>\n",
       "      <td>18</td>\n",
       "      <td>12</td>\n",
       "      <td>84</td>\n",
       "      <td>8421896</td>\n",
       "      <td>2</td>\n",
       "      <td>2955.504395</td>\n",
       "      <td>...</td>\n",
       "      <td>3.032272</td>\n",
       "      <td>0.949689</td>\n",
       "      <td>0.329786</td>\n",
       "      <td>3.108490</td>\n",
       "      <td>-0.197771</td>\n",
       "      <td>0.242852</td>\n",
       "      <td>0.033097</td>\n",
       "      <td>-0.999452</td>\n",
       "      <td>73576</td>\n",
       "      <td>3</td>\n",
       "    </tr>\n",
       "    <tr>\n",
       "      <th>124301</th>\n",
       "      <td>124302</td>\n",
       "      <td>-506.084991</td>\n",
       "      <td>758.119019</td>\n",
       "      <td>2955.5</td>\n",
       "      <td>18</td>\n",
       "      <td>12</td>\n",
       "      <td>84</td>\n",
       "      <td>8439238</td>\n",
       "      <td>1</td>\n",
       "      <td>2955.504395</td>\n",
       "      <td>...</td>\n",
       "      <td>3.242386</td>\n",
       "      <td>0.955585</td>\n",
       "      <td>0.308415</td>\n",
       "      <td>2.957568</td>\n",
       "      <td>-0.163630</td>\n",
       "      <td>0.245119</td>\n",
       "      <td>0.182988</td>\n",
       "      <td>-0.983115</td>\n",
       "      <td>90918</td>\n",
       "      <td>3</td>\n",
       "    </tr>\n",
       "    <tr>\n",
       "      <th>124305</th>\n",
       "      <td>124306</td>\n",
       "      <td>-472.179993</td>\n",
       "      <td>604.210999</td>\n",
       "      <td>2944.5</td>\n",
       "      <td>18</td>\n",
       "      <td>12</td>\n",
       "      <td>85</td>\n",
       "      <td>8420846</td>\n",
       "      <td>4</td>\n",
       "      <td>2944.504395</td>\n",
       "      <td>...</td>\n",
       "      <td>3.839839</td>\n",
       "      <td>0.967722</td>\n",
       "      <td>0.260428</td>\n",
       "      <td>2.904179</td>\n",
       "      <td>-0.155184</td>\n",
       "      <td>0.198577</td>\n",
       "      <td>0.235190</td>\n",
       "      <td>-0.971950</td>\n",
       "      <td>72526</td>\n",
       "      <td>7</td>\n",
       "    </tr>\n",
       "    <tr>\n",
       "      <th>124306</th>\n",
       "      <td>124307</td>\n",
       "      <td>-517.020996</td>\n",
       "      <td>606.385010</td>\n",
       "      <td>2944.5</td>\n",
       "      <td>18</td>\n",
       "      <td>12</td>\n",
       "      <td>85</td>\n",
       "      <td>8363872</td>\n",
       "      <td>2</td>\n",
       "      <td>2944.504395</td>\n",
       "      <td>...</td>\n",
       "      <td>3.695043</td>\n",
       "      <td>0.965275</td>\n",
       "      <td>0.270633</td>\n",
       "      <td>2.973414</td>\n",
       "      <td>-0.169492</td>\n",
       "      <td>0.198787</td>\n",
       "      <td>0.167387</td>\n",
       "      <td>-0.985891</td>\n",
       "      <td>15552</td>\n",
       "      <td>4</td>\n",
       "    </tr>\n",
       "    <tr>\n",
       "      <th>124307</th>\n",
       "      <td>124308</td>\n",
       "      <td>-615.684021</td>\n",
       "      <td>756.870972</td>\n",
       "      <td>2952.5</td>\n",
       "      <td>18</td>\n",
       "      <td>12</td>\n",
       "      <td>86</td>\n",
       "      <td>8421896</td>\n",
       "      <td>2</td>\n",
       "      <td>2952.504395</td>\n",
       "      <td>...</td>\n",
       "      <td>3.026139</td>\n",
       "      <td>0.949500</td>\n",
       "      <td>0.330454</td>\n",
       "      <td>3.108817</td>\n",
       "      <td>-0.197999</td>\n",
       "      <td>0.243404</td>\n",
       "      <td>0.032770</td>\n",
       "      <td>-0.999463</td>\n",
       "      <td>73576</td>\n",
       "      <td>3</td>\n",
       "    </tr>\n",
       "    <tr>\n",
       "      <th>124316</th>\n",
       "      <td>124317</td>\n",
       "      <td>-639.760010</td>\n",
       "      <td>494.737000</td>\n",
       "      <td>2947.5</td>\n",
       "      <td>18</td>\n",
       "      <td>12</td>\n",
       "      <td>87</td>\n",
       "      <td>8439251</td>\n",
       "      <td>2</td>\n",
       "      <td>2947.504395</td>\n",
       "      <td>...</td>\n",
       "      <td>3.644561</td>\n",
       "      <td>0.964358</td>\n",
       "      <td>0.274381</td>\n",
       "      <td>3.190426</td>\n",
       "      <td>-0.209316</td>\n",
       "      <td>0.161867</td>\n",
       "      <td>-0.048814</td>\n",
       "      <td>-0.998808</td>\n",
       "      <td>90931</td>\n",
       "      <td>4</td>\n",
       "    </tr>\n",
       "    <tr>\n",
       "      <th>124325</th>\n",
       "      <td>124326</td>\n",
       "      <td>-640.460999</td>\n",
       "      <td>494.403015</td>\n",
       "      <td>2944.5</td>\n",
       "      <td>18</td>\n",
       "      <td>12</td>\n",
       "      <td>89</td>\n",
       "      <td>8439251</td>\n",
       "      <td>2</td>\n",
       "      <td>2944.504395</td>\n",
       "      <td>...</td>\n",
       "      <td>3.639274</td>\n",
       "      <td>0.964260</td>\n",
       "      <td>0.274780</td>\n",
       "      <td>3.191593</td>\n",
       "      <td>-0.209737</td>\n",
       "      <td>0.161906</td>\n",
       "      <td>-0.049979</td>\n",
       "      <td>-0.998750</td>\n",
       "      <td>90931</td>\n",
       "      <td>4</td>\n",
       "    </tr>\n",
       "    <tr>\n",
       "      <th>124345</th>\n",
       "      <td>124346</td>\n",
       "      <td>-776.440002</td>\n",
       "      <td>288.593994</td>\n",
       "      <td>2944.5</td>\n",
       "      <td>18</td>\n",
       "      <td>12</td>\n",
       "      <td>93</td>\n",
       "      <td>8422986</td>\n",
       "      <td>1</td>\n",
       "      <td>2944.504395</td>\n",
       "      <td>...</td>\n",
       "      <td>3.554698</td>\n",
       "      <td>0.962634</td>\n",
       "      <td>0.281318</td>\n",
       "      <td>3.510165</td>\n",
       "      <td>-0.253839</td>\n",
       "      <td>0.094349</td>\n",
       "      <td>-0.360284</td>\n",
       "      <td>-0.932843</td>\n",
       "      <td>74666</td>\n",
       "      <td>2</td>\n",
       "    </tr>\n",
       "    <tr>\n",
       "      <th>124362</th>\n",
       "      <td>124363</td>\n",
       "      <td>-746.534973</td>\n",
       "      <td>171.251999</td>\n",
       "      <td>2947.5</td>\n",
       "      <td>18</td>\n",
       "      <td>12</td>\n",
       "      <td>95</td>\n",
       "      <td>8402232</td>\n",
       "      <td>1</td>\n",
       "      <td>2947.504395</td>\n",
       "      <td>...</td>\n",
       "      <td>3.848280</td>\n",
       "      <td>0.967856</td>\n",
       "      <td>0.259856</td>\n",
       "      <td>3.585336</td>\n",
       "      <td>-0.245136</td>\n",
       "      <td>0.056233</td>\n",
       "      <td>-0.429324</td>\n",
       "      <td>-0.903151</td>\n",
       "      <td>53912</td>\n",
       "      <td>2</td>\n",
       "    </tr>\n",
       "  </tbody>\n",
       "</table>\n",
       "<p>4280 rows × 23 columns</p>\n",
       "</div>"
      ],
      "text/plain": [
       "        hit_id           x           y       z  volume_id  layer_id  \\\n",
       "319        320  -60.398602 -127.692001 -1502.0          7         2   \n",
       "343        344  -23.916300  -97.369598 -1502.5          7         2   \n",
       "363        364  -32.573200 -138.384003 -1502.0          7         2   \n",
       "370        371  -35.410400 -138.871994 -1502.0          7         2   \n",
       "391        392  -11.331600 -113.625000 -1498.0          7         2   \n",
       "393        394  -11.398400 -113.919998 -1502.0          7         2   \n",
       "492        493   57.278702 -166.098007 -1502.0          7         2   \n",
       "649        650  134.445007  -66.787003 -1502.0          7         2   \n",
       "667        668   58.875198  -23.493900 -1498.0          7         2   \n",
       "688        689  134.128006  -66.574799 -1498.0          7         2   \n",
       "701        702  141.481995  -52.666901 -1502.0          7         2   \n",
       "702        703  148.559006  -42.171799 -1502.0          7         2   \n",
       "733        734  148.192993  -41.968700 -1498.0          7         2   \n",
       "771        772  140.257004   -3.155920 -1498.0          7         2   \n",
       "1202      1203  -10.810400   93.706299 -1502.0          7         2   \n",
       "1225      1226   -4.662660  172.847000 -1498.0          7         2   \n",
       "1234      1235  -15.301700  133.399994 -1502.0          7         2   \n",
       "1243      1244  -19.023701   63.438000 -1497.5          7         2   \n",
       "1299      1300  -44.287102  129.695999 -1502.0          7         2   \n",
       "1355      1356  -57.589699   74.781303 -1502.0          7         2   \n",
       "1375      1376 -110.156998  127.799004 -1502.0          7         2   \n",
       "1517      1518 -129.451004   31.396900 -1498.0          7         2   \n",
       "1564      1565 -155.727997    9.427130 -1498.0          7         2   \n",
       "1571      1572  -79.428703  -10.840300 -1302.5          7         4   \n",
       "1603      1604 -134.376007   -6.137480 -1302.0          7         4   \n",
       "1617      1618  -79.156403  -10.750700 -1298.0          7         4   \n",
       "1802      1803 -121.322998 -100.648003 -1298.0          7         4   \n",
       "1858      1859 -102.922997 -136.904999 -1298.0          7         4   \n",
       "1906      1907 -103.083000 -137.432999 -1302.0          7         4   \n",
       "2000      2001  -20.154900  -84.700798 -1302.5          7         4   \n",
       "...        ...         ...         ...     ...        ...       ...   \n",
       "123820  123821 -821.000977  286.739014  2544.5         18        10   \n",
       "123827  123828 -828.724976  295.891998  2552.5         18        10   \n",
       "123867  123868 -880.921021 -187.223999  2952.5         18        12   \n",
       "123873  123874 -881.361023 -186.447998  2944.5         18        12   \n",
       "123890  123891 -729.818970 -435.549011  2947.5         18        12   \n",
       "123912  123913 -471.006989 -591.406982  2947.5         18        12   \n",
       "123929  123930 -421.453003 -639.172974  2944.5         18        12   \n",
       "123936  123937 -412.959015 -847.940002  2955.5         18        12   \n",
       "123979  123980   94.224503 -802.755981  2947.5         18        12   \n",
       "124014  124015  425.089996 -711.791016  2947.5         18        12   \n",
       "124037  124038  656.642029 -488.907013  2944.5         18        12   \n",
       "124045  124046  669.901001 -372.571991  2947.5         18        12   \n",
       "124086  124087  765.083008  -32.949402  2944.5         18        12   \n",
       "124092  124093  760.989990   95.395401  2947.5         18        12   \n",
       "124101  124102  761.505981   95.986801  2944.5         18        12   \n",
       "124140  124141  700.924011  597.921021  2955.5         18        12   \n",
       "124211  124212  150.177002  814.348999  2947.5         18        12   \n",
       "124217  124218   82.925400  782.651978  2944.5         18        12   \n",
       "124230  124231  -76.138397  772.674988  2947.5         18        12   \n",
       "124232  124233  -71.489998  783.401978  2947.5         18        12   \n",
       "124290  124291 -415.937988  680.382019  2947.5         18        12   \n",
       "124294  124295 -615.476990  755.770996  2955.5         18        12   \n",
       "124301  124302 -506.084991  758.119019  2955.5         18        12   \n",
       "124305  124306 -472.179993  604.210999  2944.5         18        12   \n",
       "124306  124307 -517.020996  606.385010  2944.5         18        12   \n",
       "124307  124308 -615.684021  756.870972  2952.5         18        12   \n",
       "124316  124317 -639.760010  494.737000  2947.5         18        12   \n",
       "124325  124326 -640.460999  494.403015  2944.5         18        12   \n",
       "124345  124346 -776.440002  288.593994  2944.5         18        12   \n",
       "124362  124363 -746.534973  171.251999  2947.5         18        12   \n",
       "\n",
       "        module_id       s1  N1    stepped_z ...         z1        z2  \\\n",
       "319            21  8348561   1 -1501.995605 ... -10.633213 -0.995607   \n",
       "343            23  8348576   2 -1502.495605 ... -14.985513 -0.997781   \n",
       "363            24  8348592   2 -1501.995605 ... -10.565152 -0.995550   \n",
       "370            24  8348597   2 -1501.995605 ... -10.480405 -0.995479   \n",
       "391            26  8348613   6 -1497.995605 ... -13.118681 -0.997107   \n",
       "393            27  8348613   6 -1501.995605 ... -13.119224 -0.997108   \n",
       "492            34  8348688   1 -1501.995605 ...  -8.548839 -0.993228   \n",
       "649            46  8348804   7 -1501.995605 ... -10.005369 -0.995042   \n",
       "667            47  8348816   1 -1497.995605 ... -23.631674 -0.999106   \n",
       "688            48  8348804   7 -1497.995605 ... -10.003934 -0.995041   \n",
       "701            49  8257314   1 -1501.995605 ...  -9.949241 -0.994987   \n",
       "702            49  8348841   2 -1501.995605 ...  -9.726197 -0.994756   \n",
       "733            51  8348841   2 -1497.995605 ...  -9.725962 -0.994756   \n",
       "771            54  8348896   6 -1497.995605 ... -10.677723 -0.995643   \n",
       "1202           82  8349210   1 -1501.995605 ... -15.923242 -0.998034   \n",
       "1225           83  8349237   1 -1497.995605 ...  -8.663498 -0.993404   \n",
       "1234           84  8349243   1 -1501.995605 ... -11.186055 -0.996028   \n",
       "1243           85  8349246   1 -1497.495605 ... -22.611006 -0.999023   \n",
       "1299           88  8349287   1 -1501.995605 ... -10.959623 -0.995863   \n",
       "1355           93  8349329   1 -1501.995605 ... -15.913335 -0.998031   \n",
       "1375           94  8349345   1 -1501.995605 ...  -8.902238 -0.993750   \n",
       "1517          105  8349453   1 -1497.995605 ... -11.245934 -0.996070   \n",
       "1564          108  8349479   1 -1497.995605 ...  -9.601788 -0.994620   \n",
       "1571            1  8349484   2 -1302.495605 ... -16.247789 -0.998111   \n",
       "1603            2  8348343   1 -1301.995605 ...  -9.679172 -0.994705   \n",
       "1617            4  8349484   2 -1297.995605 ... -16.248793 -0.998112   \n",
       "1802           13  8349635   4 -1297.995605 ...  -8.234158 -0.992706   \n",
       "1858           16  8349670   2 -1297.995605 ...  -7.578352 -0.991406   \n",
       "1906           18  8349670   2 -1301.995605 ...  -7.578773 -0.991407   \n",
       "2000           23  8348576   2 -1302.495605 ... -14.960009 -0.997773   \n",
       "...           ...      ...  ..          ... ...        ...       ...   \n",
       "123820         93  8438885   2  2544.504395 ...   2.925941  0.946261   \n",
       "123827         94  8438885   2  2552.504395 ...   2.900681  0.945397   \n",
       "123867          3  8421026   2  2952.504395 ...   3.278377  0.956492   \n",
       "123873          4  8421026   2  2944.504395 ...   3.268516  0.956246   \n",
       "123890         10  8422100   1  2947.504395 ...   3.468029  0.960853   \n",
       "123912         14  8423147   1  2947.504395 ...   3.898552  0.968642   \n",
       "123929         16  8420050   1  2944.504395 ...   3.845927  0.967819   \n",
       "123936         17  8438567   1  2955.504395 ...   3.133634  0.952668   \n",
       "123979         26  8419050   1  2947.504395 ...   3.646686  0.964397   \n",
       "124014         34  8420272   1  2947.504395 ...   3.555207  0.962644   \n",
       "124037         40  8402142   1  2944.504395 ...   3.596713  0.963455   \n",
       "124045         42  8422440   1  2947.504395 ...   3.845215  0.967808   \n",
       "124086         48  8419264   1  2944.504395 ...   3.845032  0.967805   \n",
       "124092         50  8376287   2  2947.504395 ...   3.843160  0.967775   \n",
       "124101         52  8376287   2  2944.504395 ...   3.836318  0.967665   \n",
       "124140         60  8420560   2  2955.504395 ...   3.207943  0.954690   \n",
       "124211         71  8439182   1  2947.504395 ...   3.559431  0.962728   \n",
       "124217         73  8423709   1  2944.504395 ...   3.741261  0.966085   \n",
       "124230         75  8382488   3  2947.504395 ...   3.796278  0.967013   \n",
       "124232         75  8382488   3  2947.504395 ...   3.746862  0.966181   \n",
       "124290         83  8402206   1  2947.504395 ...   3.696158  0.965295   \n",
       "124294         84  8421896   2  2955.504395 ...   3.032272  0.949689   \n",
       "124301         84  8439238   1  2955.504395 ...   3.242386  0.955585   \n",
       "124305         85  8420846   4  2944.504395 ...   3.839839  0.967722   \n",
       "124306         85  8363872   2  2944.504395 ...   3.695043  0.965275   \n",
       "124307         86  8421896   2  2952.504395 ...   3.026139  0.949500   \n",
       "124316         87  8439251   2  2947.504395 ...   3.644561  0.964358   \n",
       "124325         89  8439251   2  2944.504395 ...   3.639274  0.964260   \n",
       "124345         93  8422986   1  2944.504395 ...   3.554698  0.962634   \n",
       "124362         95  8402232   1  2947.504395 ...   3.848280  0.967856   \n",
       "\n",
       "              z3        a1        x2        y2     sina1     cosa1     s2  N2  \n",
       "319    -0.094045 -1.890321 -0.040035 -0.084641 -0.949385 -0.314115    241   2  \n",
       "343    -0.066731 -1.724901 -0.015882 -0.064661 -0.988149 -0.153496    256  13  \n",
       "363    -0.094651 -1.678889 -0.021590 -0.091723 -0.994164 -0.107882    272  13  \n",
       "370    -0.095416 -1.696383 -0.023469 -0.092040 -0.992124 -0.125257    277   7  \n",
       "391    -0.076227 -1.571377 -0.007543 -0.075631 -1.000000 -0.000580    293  16  \n",
       "393    -0.076224 -1.571441 -0.007567 -0.075626 -1.000000 -0.000645    293  16  \n",
       "492    -0.116975 -1.086531  0.037877 -0.109835 -0.885017  0.465559    368   3  \n",
       "649    -0.099946 -0.331070  0.089067 -0.044245 -0.325055  0.945695    484   8  \n",
       "667    -0.042316 -0.324867  0.039267 -0.015669 -0.319183  0.947693    496  11  \n",
       "688    -0.099961 -0.331070  0.089094 -0.044222 -0.325056  0.945695    484   8  \n",
       "701    -0.100510 -0.225641  0.093723 -0.034889 -0.223731  0.974651    520   2  \n",
       "702    -0.102815 -0.142873  0.098389 -0.027930 -0.142388  0.989811    521   3  \n",
       "733    -0.102818 -0.142607  0.098408 -0.027869 -0.142124  0.989849    521   3  \n",
       "771    -0.093653  0.098959  0.093221 -0.002098  0.098798  0.995108    576  10  \n",
       "1202   -0.062801  1.767261 -0.007183  0.062265  0.980763 -0.195203    890  16  \n",
       "1225   -0.115427  1.747532 -0.003092  0.114624  0.984423 -0.175818    917   3  \n",
       "1234   -0.089397  1.801239 -0.010147  0.088462  0.973565 -0.228408    923   3  \n",
       "1243   -0.044226  1.919416 -0.012691  0.042321  0.939845 -0.341601    926   3  \n",
       "1299   -0.091244  2.018493 -0.029363  0.085991  0.901447 -0.432891    967   2  \n",
       "1355   -0.062840  2.308702 -0.038266  0.049690  0.739879 -0.672740   1009   3  \n",
       "1375   -0.112331  2.428321 -0.072882  0.084554  0.654312 -0.756225   1025   3  \n",
       "1517   -0.088921  3.018956 -0.086076  0.020877  0.122329 -0.992490   1133   2  \n",
       "1564   -0.104147  3.216228 -0.103398  0.006259 -0.074567 -0.997216   1159   3  \n",
       "1571   -0.061547 -2.936612 -0.060866 -0.008307 -0.203548 -0.979065   1164   4  \n",
       "1603   -0.103315 -2.979505 -0.102661 -0.004689 -0.161379 -0.986892     23   2  \n",
       "1617   -0.061543 -2.937507 -0.060868 -0.008267 -0.202672 -0.979247   1164   4  \n",
       "1802   -0.121445 -2.312562 -0.092787 -0.076975 -0.737277 -0.675591   1315   6  \n",
       "1858   -0.131955 -2.067089 -0.078612 -0.104567 -0.879354 -0.476168   1350   3  \n",
       "1906   -0.131947 -2.065536 -0.078492 -0.104648 -0.880092 -0.474803   1350   3  \n",
       "2000   -0.066845 -1.729089 -0.015440 -0.064884 -0.987498 -0.157633    256  13  \n",
       "...          ...       ...       ...       ...       ...       ...    ...  ..  \n",
       "123820  0.341770  3.566593 -0.305318  0.106634 -0.412321 -0.911039  90565   3  \n",
       "123827  0.344747  3.568825 -0.306944  0.109593 -0.414353 -0.910116  90565   3  \n",
       "123867  0.305029 -2.143711 -0.285384 -0.060653 -0.840325 -0.542084  72706   5  \n",
       "123873  0.305949 -2.144416 -0.286228 -0.060550 -0.839942 -0.542676  72706   5  \n",
       "123890  0.288348 -1.860004 -0.237913 -0.141984 -0.958470 -0.285193  73780   2  \n",
       "123912  0.256505 -1.582836 -0.154788 -0.194355 -0.999928 -0.012040  74827   2  \n",
       "123929  0.260015 -1.484769 -0.138526 -0.210088 -0.996302  0.085921  71730   3  \n",
       "123936  0.319118 -1.197764 -0.133112 -0.273323 -0.931226  0.364441  90247   2  \n",
       "123979  0.274222 -0.747281  0.030830 -0.262655 -0.679647  0.733540  70730   2  \n",
       "124014  0.281278 -0.307351  0.138833 -0.232469 -0.302535  0.953138  71952   3  \n",
       "124037  0.278032  0.075864  0.214857 -0.159973  0.075792  0.997124  53822   3  \n",
       "124045  0.260063  0.162218  0.219961 -0.122334  0.161507  0.986872  74120   3  \n",
       "124086  0.260076  0.626081  0.251470 -0.010830  0.585973  0.810330  70944   3  \n",
       "124092  0.260203  0.794847  0.249862  0.031322  0.713756  0.700394  27967   5  \n",
       "124101  0.260667  0.796045  0.250258  0.031545  0.714595  0.699538  27967   5  \n",
       "124140  0.311726  1.513101  0.226414  0.193142  0.998336  0.057663  72240   3  \n",
       "124211  0.280944  2.112639  0.049052  0.265987  0.856760 -0.515716  90862   2  \n",
       "124217  0.267290  2.153130  0.027208  0.256787  0.835181 -0.549975  75389   2  \n",
       "124230  0.263416  2.347528 -0.024979  0.253499  0.713208 -0.700952  34168   5  \n",
       "124232  0.266890  2.349362 -0.023434  0.256797  0.711921 -0.702259  34168   5  \n",
       "124290  0.270551  2.816610 -0.136218  0.222823  0.319293 -0.947656  53886   3  \n",
       "124294  0.329786  3.108490 -0.197771  0.242852  0.033097 -0.999452  73576   3  \n",
       "124301  0.308415  2.957568 -0.163630  0.245119  0.182988 -0.983115  90918   3  \n",
       "124305  0.260428  2.904179 -0.155184  0.198577  0.235190 -0.971950  72526   7  \n",
       "124306  0.270633  2.973414 -0.169492  0.198787  0.167387 -0.985891  15552   4  \n",
       "124307  0.330454  3.108817 -0.197999  0.243404  0.032770 -0.999463  73576   3  \n",
       "124316  0.274381  3.190426 -0.209316  0.161867 -0.048814 -0.998808  90931   4  \n",
       "124325  0.274780  3.191593 -0.209737  0.161906 -0.049979 -0.998750  90931   4  \n",
       "124345  0.281318  3.510165 -0.253839  0.094349 -0.360284 -0.932843  74666   2  \n",
       "124362  0.259856  3.585336 -0.245136  0.056233 -0.429324 -0.903151  53912   2  \n",
       "\n",
       "[4280 rows x 23 columns]"
      ]
     },
     "execution_count": 26,
     "metadata": {},
     "output_type": "execute_result"
    }
   ],
   "source": [
    "labels.loc[cond]"
   ]
  }
 ],
 "metadata": {
  "anaconda-cloud": {},
  "kernelspec": {
   "display_name": "Python 3",
   "language": "python",
   "name": "python3"
  },
  "language_info": {
   "codemirror_mode": {
    "name": "ipython",
    "version": 3
   },
   "file_extension": ".py",
   "mimetype": "text/x-python",
   "name": "python",
   "nbconvert_exporter": "python",
   "pygments_lexer": "ipython3",
   "version": "3.5.2"
  }
 },
 "nbformat": 4,
 "nbformat_minor": 1
}
