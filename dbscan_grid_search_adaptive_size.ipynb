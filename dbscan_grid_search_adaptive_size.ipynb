{
 "cells": [
  {
   "cell_type": "code",
   "execution_count": 1,
   "metadata": {
    "_cell_guid": "e081740e-8169-4481-b1df-f5dd5488314f",
    "_uuid": "0bee86255243664f24e4bcf48af2228a3100a8b7"
   },
   "outputs": [],
   "source": [
    "%matplotlib inline\n",
    "import matplotlib.pyplot as plt\n",
    "import numpy as np\n",
    "import pandas as pd\n",
    "import os\n",
    "import math\n",
    "\n",
    "from trackml.dataset import load_event, load_dataset\n",
    "from trackml.score import score_event\n",
    "\n",
    "from multiprocessing import Pool\n",
    "\n",
    "from itertools import product\n",
    "\n",
    "def create_one_event_submission(event_id, hits, labels):\n",
    "    sub_data = np.column_stack(([event_id]*len(hits), hits.hit_id.values, labels))\n",
    "    submission = pd.DataFrame(data=sub_data, columns=[\"event_id\", \"hit_id\", \"track_id\"]).astype(int)\n",
    "    return submission"
   ]
  },
  {
   "cell_type": "code",
   "execution_count": 2,
   "metadata": {
    "_cell_guid": "572fcbb6-8c7b-4a09-8916-8ec76689130f",
    "_uuid": "63414de98667e95f60407c9155899a25a321cffc"
   },
   "outputs": [],
   "source": [
    "# Change this according to your directory preferred setting\n",
    "path_to_train = \"./data/train_1\"\n",
    "\n",
    "# This event is in Train_1\n",
    "event_prefix = \"event000001000\""
   ]
  },
  {
   "cell_type": "code",
   "execution_count": 12,
   "metadata": {},
   "outputs": [],
   "source": [
    "weights_0 = np.array([1.1, 1.1, .375, .25, 0.05, 0.05, 0])\n",
    "weights_2 = np.array([1.05, 1.05, .37, .25, .01, .045, 0])\n",
    "weights_3 = np.array([1.08, 1.08, .38,.25, 0.009, 0.0001, 0])\n",
    "weights_4 = np.array([1.1, 1.1, .5, .25, 0.008, 0.001, 0])\n",
    "weights_5 = np.array([1.01, 1.01, .4048, .2, 2e-16, 2e-16, 0])\n",
    "weights_9 = np.array([1.02, 1.02, .38, .25, 0.009, 0.02, 0])\n",
    "\n",
    "weights_1 = np.array([1.08, 1.08, .38,.25, 0.0001, 0.0001, 0])\n",
    "weights_6 = np.array([1.08, 1.08, .38, .25, 2e-4, 0, 0])\n",
    "weights_8 = np.array([1.07, 1.07, .37, .25, 0.0002, 0.0001, 0])\n",
    "weights_12 = np.array([1.01, 1.01, .42, .25, 0.0023, 0.001, 0])\n",
    "weights_13 = np.array([1.0, 1.0, .40, .20, 0.0023, 0.0001, 0])\n",
    "weights_14 = np.array([1.02, 1.02, .40, .24, 0.0002, 0, 0])\n",
    "weights_7 = np.array([1.08, 1.08, .40, .20, 0.0023, 0, 0])\n",
    "\n",
    "weights_10 = np.array([1.02, 1.02, .42, .24, 0.0002, 0, 0])\n",
    "weights_11 = np.array([1.08, 1.08, .40, .20, 0.0023, 0.0001, 0])\n",
    "weights_15 = np.array([1.01, 1.01, .42, .25, 0.0002, 0, 0])\n",
    "weights_16 = np.array([1.005, 1.005, .40, .25, 0.0002, 0, 0])\n",
    "weights_17 = np.array([1.02, 1.02, .42, .24, 0.02, 0, 0])\n",
    "weights_18 = np.array([1.033, 1.033, .376, .2, 0.0002, 0, 0])\n",
    "weights_19 = np.array([0.9734, 0.9734, .4072, .2217, 0.0, 0.0, 0])\n",
    "weights_20 = np.array([1.0, 1.0, .42, .24, 0.0, 0, 0])\n",
    "weights_21 = np.array([1.02, 1.02, .42, .24, 0.0, 0, 0])\n",
    "weights_22 = np.array([1.05, 1.05, .4, .25, 0.0, 0, 0])\n",
    "weights_23 = np.array([1.05, 1.05, .5, .25, 0.0, 0, 0])\n",
    "weights_24 = np.array([1.05, 1.05, .4, .20, 0.0, 0, 0])\n",
    "weights_26 = np.array([1.2, 1.2, .45, .15, 0.0, 0, 0])\n",
    "weights_27 = np.array([1.2, 1.2, .45, .20, 0.0, 0, 0])\n",
    "weights_28 = np.array([1.2, 1.2, .45, .25, 0.0, 0, 0])\n",
    "weights_29 = np.array([1.09, 1.09, .5, .20, 0.0, 0, 0])\n",
    "weights_25 = np.array([1.09, 1.09, .45, .20, 0.0, 0, 0])\n",
    "weights_30 = np.array([0.9, .9, .35, .15, 0.0, 0.007, 0.007])\n",
    "weights_31 = np.array([1.09, 1.09, .45, .20, 0.0, 0.005, 0.005])\n",
    "weights_34 = np.array([1.09, 1.09, .45, .20, 0.0, 0.01, 0.01])\n",
    "weights_36 = np.array([1.0, 1.0, .35, .2, 0.0, 0.02, 0.02])\n",
    "weights_32 = np.array([0.9, .9, .35, .2, 0.0, 0.01, 0.01])\n",
    "weights_33 = np.array([1.0, 1.0, .35, .2, 0.0, 0.01, 0.01])\n",
    "weights_37 = np.array([0.9, .9, .4, .2, 0.0, 0.015, 0.015]) # raise w4\n",
    "weights_38 = np.array([0.9, .9, .4, .25, 0.0, 0.01, 0.01])  # raise w3\n",
    "weights_39 = np.array([0.9, .9, .45, .2, 0.0, 0.01, 0.01])\n",
    "weights_40 = np.array([0.95, .95, .4, .2, 0.0, 0.01, 0.01])\n",
    "weights_41 = np.array([0.95, .95, .45, .2, 0.0, 0.01, 0.01])  # 38 + 40\n",
    "weights_42 = np.array([0.95, .95, .4, .2, 0.0, 0.008, 0.008]) # w4 lowered\n",
    "weights_43 = np.array([1.0, 1.0, .4, .2, 0.0, 0.01, 0.01])    # w1 raised\n",
    "weights_44 = np.array([0.95, .95, .4, .2, 0.0, 0.012, 0.012]) # w4 raised\n",
    "weights_45 = np.array([1.0, 1.0, .4, .2, 0.0, 0.01, 0.01])  # raise w1 from 35\n",
    "weights_46 = np.array([0.9, .9, .4, .2, 0.0, 0.009, 0.009]) # lower w4\n",
    "weights_47 = np.array([0.85, .85, .4, .2, 0.0, 0.01, 0.01]) # lower w1\n",
    "weights_49 = np.array([0.9, .9, .4, .2, 0.0, 0.007, 0.007]) # still lower w4\n",
    "weights_48 = np.array([0.9, .9, .4, .2, 0.0, 0.008, 0.008]) # lower w4\n",
    "weights_51 = np.array([0.9, .9, .4, .2, 0.0, 0.009, 0.009]) # lower w4\n",
    "weights_50 = np.array([0.9, .9, .4, .2, 0.0, 0.011, 0.011]) # higher w4\n",
    "weights_52 = np.array([0.9, .9, .4, .2, 0.0, 0.012, 0.012]) # higher w4\n",
    "weights_53 = np.array([0.9, .9, .4, .2, 0.0, 0.013, 0.013]) # higher w4\n",
    "weights_54 = np.array([0.9, .9, .4, .2, 0.0, 0.014, 0.014]) # higher w4\n",
    "weights_55 = np.array([0.9, .9, .4, .2, 0.0, 0.015, 0.015]) # higher w4\n",
    "weights_56 = np.array([0.9, .9, .5, .2, 0.0, 0.01, 0.01])     # raise w2\n",
    "weights_60 = np.array([0.7, .7, .5, .13, 0.0, 0.01, 0.01])     # raise w2, lower w1, w3\n",
    "weights_59 = np.array([0.9, .9, .55, .1, 0.0, 0.01, 0.01])     # raise w2, lower w3\n",
    "weights_35 = np.array([0.9, .9, .4, .2, 0.0, 0.01, 0.01])     \n",
    "weights_57 = np.array([0.9, .9, .5, .15, 0.0, 0.01, 0.01]) # second best\n",
    "weights_61 = np.array([0.9, .9, .4, .1, 0.0, 0.01, 0.01])  # lower w3 some more\n",
    "weights_62 = np.array([0.9, .9, .45, .1, 0.0, 0.01, 0.01])  # lower w3 and raise w2\n",
    "weights_63 = np.array([0.9, .9, .5, .1, 0.0, 0.01, 0.01])  # raise w2 some more\n",
    "weights_64 = np.array([0.9, .9, .5, .07, 0.0, 0.01, 0.01])  # raise w2 and lower w3 some more\n",
    "weights_65 = np.array([0.9, .9, .35, .15, 0.0, 0.01, 0.01])   # lower w2 a bit\n",
    "weights_66 = np.array([0.9, .9, .35, .2, 0.0, 0.01, 0.01])   # lower w2 a bit and raise w3\n",
    "weights_67 = np.array([0.95, .95, .3, .2, 0.0, 0.012, 0.012])# weights from r optimization\n",
    "weights_68 = np.array([0.96, .96, .35, .2, 0.0, 0.0085, 0.0085])# weights from r optimization\n",
    "weights_69 = np.array([0.9, .9, .4, .15, 0.0, 0.0085, 0.0085])   # w4 down\n",
    "weights_70 = np.array([1.0, 1.0, .4, .1214, 0.0, 0.008, 0.008])   # w4 down\n",
    "weights_71 = np.array([0.9, 0.9, .5, .15, 0.0, 0.0085, 0.0085])   # w4 down\n",
    "weights_73 = np.array([0.9, .9, .45, .15, 0.0, 0.01, 0.01])   # w2 up a bit\n",
    "weights_74 = np.array([0.9, .9, .35, .2, 0.0, 0.011, 0.011])   # w2 down and w3 up\n",
    "\n",
    "weights_58 = np.array([0.9, .9, .4, .15, 0.0, 0.01, 0.01])   # best so far\n",
    "weights_72 = np.array([0.9, .9, .4, .15, 0.0, 0.012, 0.012])   # w4 up a bit\n",
    "weights_75 = np.array([0.9, .9, .4, .15, 0.0, 0.014, 0.014]) \n",
    "weights_76 = np.array([0.9, .9, .4, .20, 0.0, 0.014, 0.014]) \n",
    "\n",
    "weights_arr = np.vstack([weights_0, weights_1, weights_2, weights_3, weights_4, weights_5, weights_6, weights_7, weights_8, weights_9, weights_10, weights_11, weights_12, weights_13, weights_14,  weights_15,  weights_16,  weights_17,  weights_18,  weights_19,  weights_20,  weights_21,  weights_22,  weights_23,  weights_24,  weights_25,  weights_26,  weights_27,  weights_28,  weights_29,  weights_30,  weights_31,  weights_32,  weights_33,  weights_34,  weights_35,  weights_36,  weights_37,  weights_38,  weights_39,  weights_40,  weights_41,  weights_42,  weights_43,  weights_44,  weights_45,  weights_46,  weights_47,  weights_48,  weights_49,  weights_50,  weights_51,  weights_52,  weights_53,  weights_54,  weights_55,  weights_56,  weights_57,  weights_58,  weights_59,  weights_60,  weights_61,  weights_62,  weights_63,  weights_64,  weights_65,  weights_66,  weights_67,  weights_68,  weights_69,  weights_70,  weights_71,  weights_72,  weights_73,  weights_74,  weights_75,  weights_76])"
   ]
  },
  {
   "cell_type": "code",
   "execution_count": 13,
   "metadata": {
    "_cell_guid": "e06d1ed7-5091-4d67-abb4-5984b137e2e6",
    "_uuid": "c2f70ae63abffcc09a534bb17fb89df8ffddb722",
    "scrolled": true
   },
   "outputs": [],
   "source": [
    "from sklearn.preprocessing import StandardScaler\n",
    "import hdbscan\n",
    "from scipy import stats\n",
    "from tqdm import tqdm_notebook as tqdm\n",
    "from sklearn.cluster import DBSCAN\n",
    "\n",
    "class Clusterer(object):\n",
    "    def __init__(self,rz_scales=[0.65, 0.965, 1.5, 1.5], eps=0.0035, dz0 = -0.0007, stepdz = 1.5e-7, stepeps = 1.5e-09, num_loops=175, final_cluster=True, weight=58, weight_arr=weights_arr, max_size=20, step_z=0.000045, size_incr=0):\n",
    "        self.rz_scales=rz_scales\n",
    "        self.epsilon = eps\n",
    "        self.dz0 = dz0\n",
    "        self.stepdz = stepdz\n",
    "        self.stepeps = stepeps\n",
    "        self.num_loops = num_loops\n",
    "        self.final_cluster = final_cluster\n",
    "        self.weight_arr = weight_arr\n",
    "        self.weights = weight\n",
    "        self.max_size = max_size\n",
    "        self.step_z = step_z\n",
    "        self.size_incr = size_incr\n",
    "        \n",
    "    # remove outliers\n",
    "    def _eliminate_outliers(self,labels,M):\n",
    "        norms=np.zeros((len(labels)),np.float32)\n",
    "        indices=np.zeros((len(labels)),np.float32)\n",
    "        for i, cluster in tqdm(enumerate(labels),total=len(labels)):\n",
    "            if cluster == 0:\n",
    "                continue\n",
    "            index = np.argwhere(self.clusters==cluster)\n",
    "            index = np.reshape(index,(index.shape[0]))\n",
    "            indices[i] = len(index)\n",
    "            x = M[index]\n",
    "            norms[i] = self._test_quadric(x)\n",
    "        threshold1 = np.percentile(norms,90)*5\n",
    "        threshold2 = 25\n",
    "        threshold3 = 5\n",
    "        for i, cluster in enumerate(labels):\n",
    "            if norms[i] > threshold1 or indices[i] > threshold2 or indices[i] < threshold3:\n",
    "                self.clusters[self.clusters==cluster]=0   \n",
    "    \n",
    "    # not sure what this function does?\n",
    "    def _test_quadric(self,x):\n",
    "        if x.size == 0 or len(x.shape)<2:\n",
    "            return 0\n",
    "        Z = np.zeros((x.shape[0],10), np.float32)\n",
    "        Z[:,0] = x[:,0]**2\n",
    "        Z[:,1] = 2*x[:,0]*x[:,1]\n",
    "        Z[:,2] = 2*x[:,0]*x[:,2]\n",
    "        Z[:,3] = 2*x[:,0]\n",
    "        Z[:,4] = x[:,1]**2\n",
    "        Z[:,5] = 2*x[:,1]*x[:,2]\n",
    "        Z[:,6] = 2*x[:,1]\n",
    "        Z[:,7] = x[:,2]**2\n",
    "        Z[:,8] = 2*x[:,2]\n",
    "        Z[:,9] = 1\n",
    "        v, s, t = np.linalg.svd(Z,full_matrices=False)        \n",
    "        smallest_index = np.argmin(np.array(s))\n",
    "        T = np.array(t)\n",
    "        T = T[smallest_index,:]        \n",
    "        norm = np.linalg.norm(np.dot(Z,T), ord=2)**2\n",
    "        return norm\n",
    "\n",
    "    # standard scale our data\n",
    "    def _preprocess(self, hits):\n",
    "        x = hits.x.values\n",
    "        y = hits.y.values\n",
    "        z = hits.z.values\n",
    "\n",
    "        r = np.sqrt(x**2 + y**2 + z**2)\n",
    "        rt = np.sqrt(x**2 + y**2)\n",
    "        \n",
    "        hits['a0'] = np.arctan2(hits['y'].values,hits['x'].values)\n",
    "        hits['a1'] = hits['a0']+1*(hits['rt']+1*hits['rt']**2)/1000*(1/2)/180*math.pi\n",
    "        \n",
    "        hits['x2'] = x/r\n",
    "        hits['y2'] = y/r\n",
    "        hits['z1'] = z/rt\n",
    "        hits['z2'] = z/r\n",
    "\n",
    "        ss = StandardScaler()\n",
    "        X = ss.fit_transform(hits[['sina1','cosa1','z1','z2', 'z3', 'x2', 'y2']].values)\n",
    "        X = np.multiply(X, self.weight_arr[self.weights])\n",
    "       \n",
    "        return X\n",
    "        \n",
    "        # original preprocess\n",
    "#         x = hits.x.values\n",
    "#         y = hits.y.values\n",
    "#         z = hits.z.values\n",
    "\n",
    "#         r = np.sqrt(x**2 + y**2 + z**2)\n",
    "#         hits['x2'] = x/r\n",
    "#         hits['y2'] = y/r\n",
    "\n",
    "#         rt = np.sqrt(x**2 + y**2)\n",
    "#         hits['z1'] = z/rt\n",
    "#         hits['z2'] = z/r\n",
    "\n",
    "#         ss = StandardScaler()\n",
    "#         X = ss.fit_transform(hits[['x2', 'y2', 'z1', 'z2']].values)\n",
    "#         for i, rz_scale in enumerate(self.rz_scales):\n",
    "#             X[:,i] = X[:,i] * rz_scale\n",
    "       \n",
    "#         return X\n",
    "    \n",
    "    def _init(self,dfh):\n",
    "        dfh['s1'] = dfh.hit_id\n",
    "        dfh['N1'] =1\n",
    "        dfh['stepped_z'] = dfh.z\n",
    "        mm = 1\n",
    "        dz0 = self.dz0\n",
    "\n",
    "        for ii in range(self.num_loops):\n",
    "            max_size = self.max_size + (ii * self.size_incr)\n",
    "            \n",
    "            dfh['r'] = np.sqrt(dfh['x'].values**2+dfh['y'].values**2+dfh['stepped_z'].values**2)\n",
    "            dfh['rt'] = np.sqrt(dfh['x'].values**2+dfh['y'].values**2)\n",
    "            dfh['a0'] = np.arctan2(dfh['y'].values,dfh['x'].values)\n",
    "            dfh['z1'] = dfh['stepped_z'].values/dfh['rt'].values\n",
    "            \n",
    "            dfh['z2'] = dfh['stepped_z']/dfh['r']\n",
    "            dfh['x2'] = dfh['x'].values/dfh['r'].values\n",
    "            dfh['y2'] = dfh['y'].values/dfh['r'].values\n",
    "            \n",
    "            dfh['z3'] = 0 # 1/dfh['z1'].values - this feature didn't work, let's 0 it out\n",
    "            mm = mm*(-1)  \n",
    "            \n",
    "            z_step = mm * self.step_z * ii\n",
    "            dz = mm*(self.dz0+(ii*self.stepdz))\n",
    "            \n",
    "            dfh['stepped_z'] = dfh['z'] + z_step    \n",
    "            \n",
    "#             dfh['a1'] = dfh['a0']+mm*(dfh['rt']+(mm*self.stepdz*ii)*dfh['rt']**2)/1000*(ii/2)/180*math.pi\n",
    "            dfh['a1'] = dfh['a0']+mm*(dfh['rt']+(dz)*dfh['rt']**2)/1000*(ii/2)/180*math.pi\n",
    "            dfh['sina1'] = np.sin(dfh['a1'].values)\n",
    "            dfh['cosa1'] = np.cos(dfh['a1'].values)\n",
    "            ss = StandardScaler()\n",
    "            dfs = ss.fit_transform(dfh[['sina1','cosa1','z1','z2', 'z3', 'x2', 'y2']].values)\n",
    "            cx = self.weight_arr[self.weights]\n",
    "            dfs = np.multiply(dfs, cx)\n",
    "\n",
    "            clusters=DBSCAN(eps=self.epsilon+(ii*self.stepeps),min_samples=1,metric='euclidean',n_jobs=1).fit(dfs).labels_ \n",
    "\n",
    "            if ii==0:\n",
    "                dfh['s1'] = clusters\n",
    "                dfh['N1'] = dfh.groupby('s1')['s1'].transform('count')\n",
    "\n",
    "            # else update our hits conditionally, if it's a better fit\n",
    "            else:\n",
    "                # put our new clusters to another feature\n",
    "                dfh['s2'] = clusters\n",
    "\n",
    "                # get the count of those clusters\n",
    "                dfh['N2'] = dfh.groupby('s2')['s2'].transform('count')\n",
    "                maxs1 = dfh['s1'].max()\n",
    "\n",
    "                # if our new clusters are bigger, but less than our max size, use the new ones instead\n",
    "                cond = np.where((dfh['N2'].values > dfh['N1'].values) & (dfh['N2'].values < max_size))\n",
    "                    \n",
    "                s1 = dfh['s1'].values\n",
    "                s1[cond] = dfh['s2'].values[cond]+maxs1\n",
    "\n",
    "                # write the new clusters back to our dataframe\n",
    "                dfh['s1'] = s1\n",
    "                dfh['s1'] = dfh['s1'].astype('int64')\n",
    "                dfh['N1'] = dfh.groupby('s1')['s1'].transform('count')\n",
    "        \n",
    "        # for debugging\n",
    "        # return dfh\n",
    "        \n",
    "        # return our clusters\n",
    "        return dfh['s1'].values    \n",
    "    \n",
    "    def predict(self, hits):    \n",
    "        # init our clusters\n",
    "        self.clusters = self._init(hits) \n",
    "        \n",
    "        mask = self.clusters == 0\n",
    "        \n",
    "        if self.final_cluster:\n",
    "            # preprocess our data\n",
    "            X = self._preprocess(hits) \n",
    "\n",
    "            # create our last clusterer\n",
    "            cl = hdbscan.HDBSCAN(min_samples=1, min_cluster_size=7, metric='braycurtis', cluster_selection_method='leaf', algorithm='best', leaf_size=50)\n",
    "\n",
    "            # labels = unique clusters\n",
    "            labels = np.unique(self.clusters)\n",
    "\n",
    "            # remove outliers\n",
    "            self._eliminate_outliers(labels,X)\n",
    "\n",
    "            # init n_labels\n",
    "            n_labels = 0\n",
    "\n",
    "            # now we loop through the points that haven't been assigned to a cluster and assign them with\n",
    "            # HDBSCAN\n",
    "            while n_labels < len(labels):\n",
    "                n_labels = len(labels)\n",
    "                max_len = np.max(self.clusters)\n",
    "                mask = self.clusters == 0\n",
    "            self.clusters[mask] = cl.fit_predict(X[mask])+max_len\n",
    "            \n",
    "        return self.clusters"
   ]
  },
  {
   "cell_type": "code",
   "execution_count": 5,
   "metadata": {},
   "outputs": [],
   "source": [
    "results_df = pd.read_pickle(\"gs_results.pkl\")\n",
    "# results_df"
   ]
  },
  {
   "cell_type": "code",
   "execution_count": 14,
   "metadata": {},
   "outputs": [
    {
     "name": "stdout",
     "output_type": "stream",
     "text": [
      "Length: 12\n"
     ]
    }
   ],
   "source": [
    "# defaults: \n",
    "# eps=0.0035, dz0 = -0.00070, stepdz = 0.00001, stepeps = 0.000005\n",
    "# 0.0035, 0.0005, 5e-05, 1e-09, 150, True, 10, True\n",
    "# create our params to iterate over\n",
    "eps_vals = [ 0.0035 ] # try lowering with increased step eps\n",
    "stepdz_vals = [ 1.5e-7] \n",
    "stepeps_vals = [ 7e-8 ] # 1.5e-9, \n",
    "loop_vals = [ 250 ]\n",
    "weight_vals = [ 72, 75, 58, 76 ]\n",
    "step_z_vals = [ 4.5e-5 ]\n",
    "size_vals = [ 21, 20, 19 ]\n",
    "\n",
    "dz0_vals = [ 0 ] # unused\n",
    "final_cluster = [ True ] # unused\n",
    "dz_incr = [ True ] # unused\n",
    "size_inc_vals = [ 0 ]\n",
    "step = \"eps\"\n",
    "\n",
    "foo = product(eps_vals, dz0_vals, stepdz_vals, stepeps_vals, loop_vals, final_cluster, weight_vals, dz_incr, size_vals, step_z_vals, size_inc_vals)\n",
    "\n",
    "offset = np.max(results_df.index.values) + 1\n",
    "\n",
    "iter_list = []\n",
    "for i, item in enumerate(foo):\n",
    "    iter_list.append([i + offset, item])\n",
    "    \n",
    "print(\"Length:\", len(iter_list))    "
   ]
  },
  {
   "cell_type": "code",
   "execution_count": 15,
   "metadata": {},
   "outputs": [],
   "source": [
    "def grid_search_loop(params):\n",
    "    counter = params[0]\n",
    "    eps, dz0, stepdz, stepeps, loops, final_cluster, weights, dz_incr, max_size, step_z, size_incr = params[1]\n",
    "    step = \"eps\"\n",
    "    dataset_scores = []\n",
    "    print(\" - \", counter, \"Eps:\", eps, \"dz0:\", dz0, \"stepeps:\", stepeps, \"loops:\", loops, \"weight:\", weights, \"max size:\", max_size, \"step z:\", step_z)\n",
    "    \n",
    "    for event_id, hits, cells, particles, truth in load_dataset(\"./data/train_1\", skip=50, nevents=10):\n",
    "        # Track pattern recognition\n",
    "        model = Clusterer(eps=eps, dz0=dz0, stepdz=stepdz, stepeps=stepeps, num_loops=loops, final_cluster=final_cluster, weight=weights, weight_arr=weights_arr, max_size=max_size, step_z=step_z, size_incr=size_incr)\n",
    "        labels = model.predict(hits)\n",
    "\n",
    "        # Prepare submission for an event\n",
    "        one_submission = create_one_event_submission(event_id, hits, labels)\n",
    "\n",
    "        # Score for the event\n",
    "        score = score_event(truth, one_submission)\n",
    "        dataset_scores.append(score)\n",
    "        print(event_id, params[1], \"score:\", score)\n",
    "        \n",
    "    mean_score = np.mean(dataset_scores)\n",
    "    \n",
    "    # create and return our results\n",
    "    result = [counter, [eps, dz0, stepdz, stepeps, loops, step, weights, final_cluster, max_size, step_z, size_incr, mean_score]]\n",
    "    print(result)\n",
    "    \n",
    "    return result\n",
    "\n",
    "def grid_search(iter_list, results_df=None, start=0, end=5):\n",
    "    pool = Pool(processes=14)\n",
    "    results = pool.map(grid_search_loop, iter_list[start:end])\n",
    "    pool.close()\n",
    "    \n",
    "    return results"
   ]
  },
  {
   "cell_type": "code",
   "execution_count": 16,
   "metadata": {
    "scrolled": true
   },
   "outputs": [
    {
     "name": "stdout",
     "output_type": "stream",
     "text": [
      " -  1211 Eps: 0.0035 dz0: 0 stepeps: 7e-08 loops: 250 weight: 72 max size: 21 step z: 4.5e-05\n",
      " -  1213 Eps: 0.0035 dz0: 0 stepeps: 7e-08 loops: 250 weight: 72 max size: 19 step z: 4.5e-05\n",
      " -  1212 Eps: 0.0035 dz0: 0 stepeps: 7e-08 loops: 250 weight: 72 max size: 20 step z: 4.5e-05\n",
      " -  1214 Eps: 0.0035 dz0: 0 stepeps: 7e-08 loops: 250 weight: 75 max size: 21 step z: 4.5e-05\n",
      " -  1216 Eps: 0.0035 dz0: 0 stepeps: 7e-08 loops: 250 weight: 75 max size: 19 step z: 4.5e-05\n",
      " -  1217 Eps: 0.0035 dz0: 0 stepeps: 7e-08 loops: 250 weight: 58 max size: 21 step z: 4.5e-05\n",
      " -  1215 Eps: 0.0035 dz0: 0 stepeps: 7e-08 loops: 250 weight: 75 max size: 20 step z: 4.5e-05\n",
      " -  1218 Eps: 0.0035 dz0: 0 stepeps: 7e-08 loops: 250 weight: 58 max size: 20 step z: 4.5e-05\n",
      " -  1219 Eps: 0.0035 dz0: 0 stepeps: 7e-08 loops: 250 weight: 58 max size: 19 step z: 4.5e-05\n",
      " -  1220 Eps: 0.0035 dz0: 0 stepeps: 7e-08 loops: 250 weight: 76 max size: 21 step z: 4.5e-05\n",
      " -  1221 Eps: 0.0035 dz0: 0 stepeps: 7e-08 loops: 250 weight: 76 max size: 20 step z: 4.5e-05\n",
      " -  1222 Eps: 0.0035 dz0: 0 stepeps: 7e-08 loops: 250 weight: 76 max size: 19 step z: 4.5e-05\n"
     ]
    },
    {
     "data": {
      "application/vnd.jupyter.widget-view+json": {
       "model_id": "468cd05baf5a4251ab899f3f65819bdf",
       "version_major": 2,
       "version_minor": 0
      },
      "text/plain": [
       "HBox(children=(IntProgress(value=0, max=37436), HTML(value='')))"
      ]
     },
     "metadata": {},
     "output_type": "display_data"
    },
    {
     "data": {
      "application/vnd.jupyter.widget-view+json": {
       "model_id": "f1e444f6d4a44effb61e2f7edb454235",
       "version_major": 2,
       "version_minor": 0
      },
      "text/plain": [
       "HBox(children=(IntProgress(value=0, max=38317), HTML(value='')))"
      ]
     },
     "metadata": {},
     "output_type": "display_data"
    },
    {
     "name": "stdout",
     "output_type": "stream",
     "text": [
      "\n"
     ]
    },
    {
     "name": "stderr",
     "output_type": "stream",
     "text": [
      "/home/skooch/.local/lib/python3.5/site-packages/sklearn/externals/joblib/parallel.py:547: UserWarning: Multiprocessing-backed parallel loops cannot be nested, setting n_jobs=1\n",
      "  **self._backend_args)\n"
     ]
    },
    {
     "name": "stdout",
     "output_type": "stream",
     "text": [
      "\n"
     ]
    },
    {
     "name": "stderr",
     "output_type": "stream",
     "text": [
      "/home/skooch/.local/lib/python3.5/site-packages/sklearn/externals/joblib/parallel.py:547: UserWarning: Multiprocessing-backed parallel loops cannot be nested, setting n_jobs=1\n",
      "  **self._backend_args)\n"
     ]
    },
    {
     "name": "stdout",
     "output_type": "stream",
     "text": [
      "1050 (0.0035, 0, 1.5e-07, 7e-08, 250, True, 72, True, 19, 4.5e-05, 0) score: 0.5313649131994962\n",
      "1050 (0.0035, 0, 1.5e-07, 7e-08, 250, True, 76, True, 21, 4.5e-05, 0) score: 0.5245881596103206\n"
     ]
    },
    {
     "data": {
      "application/vnd.jupyter.widget-view+json": {
       "model_id": "e6d6c85e7eae4923bdd26a1dbbd7d672",
       "version_major": 2,
       "version_minor": 0
      },
      "text/plain": [
       "HBox(children=(IntProgress(value=0, max=37159), HTML(value='')))"
      ]
     },
     "metadata": {},
     "output_type": "display_data"
    },
    {
     "name": "stdout",
     "output_type": "stream",
     "text": [
      "\n"
     ]
    },
    {
     "name": "stderr",
     "output_type": "stream",
     "text": [
      "/home/skooch/.local/lib/python3.5/site-packages/sklearn/externals/joblib/parallel.py:547: UserWarning: Multiprocessing-backed parallel loops cannot be nested, setting n_jobs=1\n",
      "  **self._backend_args)\n"
     ]
    },
    {
     "name": "stdout",
     "output_type": "stream",
     "text": [
      "1050 (0.0035, 0, 1.5e-07, 7e-08, 250, True, 58, True, 19, 4.5e-05, 0) score: 0.5297972488583969\n"
     ]
    },
    {
     "data": {
      "application/vnd.jupyter.widget-view+json": {
       "model_id": "47078ee6cc67485c8dad91201eef2601",
       "version_major": 2,
       "version_minor": 0
      },
      "text/plain": [
       "HBox(children=(IntProgress(value=0, max=37128), HTML(value='')))"
      ]
     },
     "metadata": {},
     "output_type": "display_data"
    },
    {
     "name": "stdout",
     "output_type": "stream",
     "text": [
      "\n"
     ]
    },
    {
     "name": "stderr",
     "output_type": "stream",
     "text": [
      "/home/skooch/.local/lib/python3.5/site-packages/sklearn/externals/joblib/parallel.py:547: UserWarning: Multiprocessing-backed parallel loops cannot be nested, setting n_jobs=1\n",
      "  **self._backend_args)\n"
     ]
    },
    {
     "data": {
      "application/vnd.jupyter.widget-view+json": {
       "model_id": "604b1dffa7ab4727ab22b30b0fa349c7",
       "version_major": 2,
       "version_minor": 0
      },
      "text/plain": [
       "HBox(children=(IntProgress(value=0, max=38342), HTML(value='')))"
      ]
     },
     "metadata": {},
     "output_type": "display_data"
    },
    {
     "data": {
      "application/vnd.jupyter.widget-view+json": {
       "model_id": "e703641a2dda4965a26019556f33ce0b",
       "version_major": 2,
       "version_minor": 0
      },
      "text/plain": [
       "HBox(children=(IntProgress(value=0, max=38360), HTML(value='')))"
      ]
     },
     "metadata": {},
     "output_type": "display_data"
    },
    {
     "name": "stdout",
     "output_type": "stream",
     "text": [
      "1050 (0.0035, 0, 1.5e-07, 7e-08, 250, True, 58, True, 21, 4.5e-05, 0) score: 0.5299235765695098\n"
     ]
    },
    {
     "data": {
      "application/vnd.jupyter.widget-view+json": {
       "model_id": "cc6c8f7218e7498b95dbdbe8973ad4cb",
       "version_major": 2,
       "version_minor": 0
      },
      "text/plain": [
       "HBox(children=(IntProgress(value=0, max=37403), HTML(value='')))"
      ]
     },
     "metadata": {},
     "output_type": "display_data"
    },
    {
     "name": "stdout",
     "output_type": "stream",
     "text": [
      "\n"
     ]
    },
    {
     "data": {
      "application/vnd.jupyter.widget-view+json": {
       "model_id": "ebdd1d6ed238401ab3f294aa3324ec1f",
       "version_major": 2,
       "version_minor": 0
      },
      "text/plain": [
       "HBox(children=(IntProgress(value=0, max=37663), HTML(value='')))"
      ]
     },
     "metadata": {},
     "output_type": "display_data"
    },
    {
     "name": "stderr",
     "output_type": "stream",
     "text": [
      "/home/skooch/.local/lib/python3.5/site-packages/sklearn/externals/joblib/parallel.py:547: UserWarning: Multiprocessing-backed parallel loops cannot be nested, setting n_jobs=1\n",
      "  **self._backend_args)\n"
     ]
    },
    {
     "name": "stdout",
     "output_type": "stream",
     "text": [
      "\n"
     ]
    },
    {
     "name": "stderr",
     "output_type": "stream",
     "text": [
      "/home/skooch/.local/lib/python3.5/site-packages/sklearn/externals/joblib/parallel.py:547: UserWarning: Multiprocessing-backed parallel loops cannot be nested, setting n_jobs=1\n",
      "  **self._backend_args)\n"
     ]
    },
    {
     "name": "stdout",
     "output_type": "stream",
     "text": [
      "\n",
      "\n"
     ]
    },
    {
     "name": "stderr",
     "output_type": "stream",
     "text": [
      "/home/skooch/.local/lib/python3.5/site-packages/sklearn/externals/joblib/parallel.py:547: UserWarning: Multiprocessing-backed parallel loops cannot be nested, setting n_jobs=1\n",
      "  **self._backend_args)\n",
      "/home/skooch/.local/lib/python3.5/site-packages/sklearn/externals/joblib/parallel.py:547: UserWarning: Multiprocessing-backed parallel loops cannot be nested, setting n_jobs=1\n",
      "  **self._backend_args)\n"
     ]
    },
    {
     "name": "stdout",
     "output_type": "stream",
     "text": [
      "1050 (0.0035, 0, 1.5e-07, 7e-08, 250, True, 76, True, 20, 4.5e-05, 0) score: 0.5250965777220056\n",
      "1050 (0.0035, 0, 1.5e-07, 7e-08, 250, True, 76, True, 19, 4.5e-05, 0) score: 0.5247592569002087\n",
      "1050 (0.0035, 0, 1.5e-07, 7e-08, 250, True, 72, True, 20, 4.5e-05, 0) score: 0.531876466404634\n",
      "1050 (0.0035, 0, 1.5e-07, 7e-08, 250, True, 75, True, 19, 4.5e-05, 0) score: 0.5290269681675558\n"
     ]
    },
    {
     "data": {
      "application/vnd.jupyter.widget-view+json": {
       "model_id": "a7ca4d8e9a1447fa8af587e5a72bbf9d",
       "version_major": 2,
       "version_minor": 0
      },
      "text/plain": [
       "HBox(children=(IntProgress(value=0, max=37631), HTML(value='')))"
      ]
     },
     "metadata": {},
     "output_type": "display_data"
    },
    {
     "data": {
      "application/vnd.jupyter.widget-view+json": {
       "model_id": "db0b8196285a480587056ec0e3adbcde",
       "version_major": 2,
       "version_minor": 0
      },
      "text/plain": [
       "HBox(children=(IntProgress(value=0, max=37395), HTML(value='')))"
      ]
     },
     "metadata": {},
     "output_type": "display_data"
    },
    {
     "data": {
      "application/vnd.jupyter.widget-view+json": {
       "model_id": "7168528eec494ae0b176cb12358628b5",
       "version_major": 2,
       "version_minor": 0
      },
      "text/plain": [
       "HBox(children=(IntProgress(value=0, max=37619), HTML(value='')))"
      ]
     },
     "metadata": {},
     "output_type": "display_data"
    },
    {
     "data": {
      "application/vnd.jupyter.widget-view+json": {
       "model_id": "6e221ba422024c5a8ebaba93384e28d7",
       "version_major": 2,
       "version_minor": 0
      },
      "text/plain": [
       "HBox(children=(IntProgress(value=0, max=37132), HTML(value='')))"
      ]
     },
     "metadata": {},
     "output_type": "display_data"
    },
    {
     "name": "stdout",
     "output_type": "stream",
     "text": [
      "\n"
     ]
    },
    {
     "name": "stderr",
     "output_type": "stream",
     "text": [
      "/home/skooch/.local/lib/python3.5/site-packages/sklearn/externals/joblib/parallel.py:547: UserWarning: Multiprocessing-backed parallel loops cannot be nested, setting n_jobs=1\n",
      "  **self._backend_args)\n"
     ]
    },
    {
     "name": "stdout",
     "output_type": "stream",
     "text": [
      "\n",
      "\n",
      "\n"
     ]
    },
    {
     "name": "stderr",
     "output_type": "stream",
     "text": [
      "/home/skooch/.local/lib/python3.5/site-packages/sklearn/externals/joblib/parallel.py:547: UserWarning: Multiprocessing-backed parallel loops cannot be nested, setting n_jobs=1\n",
      "  **self._backend_args)\n",
      "/home/skooch/.local/lib/python3.5/site-packages/sklearn/externals/joblib/parallel.py:547: UserWarning: Multiprocessing-backed parallel loops cannot be nested, setting n_jobs=1\n",
      "  **self._backend_args)\n",
      "/home/skooch/.local/lib/python3.5/site-packages/sklearn/externals/joblib/parallel.py:547: UserWarning: Multiprocessing-backed parallel loops cannot be nested, setting n_jobs=1\n",
      "  **self._backend_args)\n"
     ]
    },
    {
     "name": "stdout",
     "output_type": "stream",
     "text": [
      "1050 (0.0035, 0, 1.5e-07, 7e-08, 250, True, 75, True, 20, 4.5e-05, 0) score: 0.5295621203191632\n",
      "1050 (0.0035, 0, 1.5e-07, 7e-08, 250, True, 72, True, 21, 4.5e-05, 0) score: 0.5314874645733312\n",
      "1050 (0.0035, 0, 1.5e-07, 7e-08, 250, True, 58, True, 20, 4.5e-05, 0) score: 0.5305345086704707\n",
      "1050 (0.0035, 0, 1.5e-07, 7e-08, 250, True, 75, True, 21, 4.5e-05, 0) score: 0.5294624380052031\n"
     ]
    },
    {
     "data": {
      "application/vnd.jupyter.widget-view+json": {
       "model_id": "039131a551c0470fbf688498e65f8f8a",
       "version_major": 2,
       "version_minor": 0
      },
      "text/plain": [
       "HBox(children=(IntProgress(value=0, max=38948), HTML(value='')))"
      ]
     },
     "metadata": {},
     "output_type": "display_data"
    },
    {
     "name": "stdout",
     "output_type": "stream",
     "text": [
      "\n"
     ]
    },
    {
     "name": "stderr",
     "output_type": "stream",
     "text": [
      "/home/skooch/.local/lib/python3.5/site-packages/sklearn/externals/joblib/parallel.py:547: UserWarning: Multiprocessing-backed parallel loops cannot be nested, setting n_jobs=1\n",
      "  **self._backend_args)\n"
     ]
    },
    {
     "name": "stdout",
     "output_type": "stream",
     "text": [
      "1051 (0.0035, 0, 1.5e-07, 7e-08, 250, True, 72, True, 19, 4.5e-05, 0) score: 0.5241665427381057\n"
     ]
    },
    {
     "data": {
      "application/vnd.jupyter.widget-view+json": {
       "model_id": "4b6b64dd8d664649a36bcc2b6a48d8d4",
       "version_major": 2,
       "version_minor": 0
      },
      "text/plain": [
       "HBox(children=(IntProgress(value=0, max=38681), HTML(value='')))"
      ]
     },
     "metadata": {},
     "output_type": "display_data"
    },
    {
     "name": "stdout",
     "output_type": "stream",
     "text": [
      "\n"
     ]
    },
    {
     "name": "stderr",
     "output_type": "stream",
     "text": [
      "/home/skooch/.local/lib/python3.5/site-packages/sklearn/externals/joblib/parallel.py:547: UserWarning: Multiprocessing-backed parallel loops cannot be nested, setting n_jobs=1\n",
      "  **self._backend_args)\n"
     ]
    },
    {
     "name": "stdout",
     "output_type": "stream",
     "text": [
      "1051 (0.0035, 0, 1.5e-07, 7e-08, 250, True, 58, True, 19, 4.5e-05, 0) score: 0.5244581218239318\n"
     ]
    },
    {
     "data": {
      "application/vnd.jupyter.widget-view+json": {
       "model_id": "8593832fa35b45efb29f19d826f69af2",
       "version_major": 2,
       "version_minor": 0
      },
      "text/plain": [
       "HBox(children=(IntProgress(value=0, max=38610), HTML(value='')))"
      ]
     },
     "metadata": {},
     "output_type": "display_data"
    },
    {
     "name": "stdout",
     "output_type": "stream",
     "text": [
      "\n"
     ]
    },
    {
     "name": "stderr",
     "output_type": "stream",
     "text": [
      "/home/skooch/.local/lib/python3.5/site-packages/sklearn/externals/joblib/parallel.py:547: UserWarning: Multiprocessing-backed parallel loops cannot be nested, setting n_jobs=1\n",
      "  **self._backend_args)\n"
     ]
    },
    {
     "data": {
      "application/vnd.jupyter.widget-view+json": {
       "model_id": "cbe14db9f62f43cf83407cff2329605a",
       "version_major": 2,
       "version_minor": 0
      },
      "text/plain": [
       "HBox(children=(IntProgress(value=0, max=39878), HTML(value='')))"
      ]
     },
     "metadata": {},
     "output_type": "display_data"
    },
    {
     "name": "stdout",
     "output_type": "stream",
     "text": [
      "1051 (0.0035, 0, 1.5e-07, 7e-08, 250, True, 58, True, 21, 4.5e-05, 0) score: 0.5230365062419051\n",
      "\n"
     ]
    },
    {
     "name": "stderr",
     "output_type": "stream",
     "text": [
      "/home/skooch/.local/lib/python3.5/site-packages/sklearn/externals/joblib/parallel.py:547: UserWarning: Multiprocessing-backed parallel loops cannot be nested, setting n_jobs=1\n",
      "  **self._backend_args)\n"
     ]
    },
    {
     "name": "stdout",
     "output_type": "stream",
     "text": [
      "1051 (0.0035, 0, 1.5e-07, 7e-08, 250, True, 76, True, 21, 4.5e-05, 0) score: 0.5170038560352355\n"
     ]
    },
    {
     "data": {
      "application/vnd.jupyter.widget-view+json": {
       "model_id": "f3f36904780d49709f362436ea5c13be",
       "version_major": 2,
       "version_minor": 0
      },
      "text/plain": [
       "HBox(children=(IntProgress(value=0, max=38897), HTML(value='')))"
      ]
     },
     "metadata": {},
     "output_type": "display_data"
    },
    {
     "name": "stdout",
     "output_type": "stream",
     "text": [
      "\n"
     ]
    },
    {
     "name": "stderr",
     "output_type": "stream",
     "text": [
      "/home/skooch/.local/lib/python3.5/site-packages/sklearn/externals/joblib/parallel.py:547: UserWarning: Multiprocessing-backed parallel loops cannot be nested, setting n_jobs=1\n",
      "  **self._backend_args)\n"
     ]
    },
    {
     "name": "stdout",
     "output_type": "stream",
     "text": [
      "1051 (0.0035, 0, 1.5e-07, 7e-08, 250, True, 72, True, 20, 4.5e-05, 0) score: 0.5228795303802456\n"
     ]
    },
    {
     "data": {
      "application/vnd.jupyter.widget-view+json": {
       "model_id": "4dc934216bd24506b295041daa1272fb",
       "version_major": 2,
       "version_minor": 0
      },
      "text/plain": [
       "HBox(children=(IntProgress(value=0, max=38645), HTML(value='')))"
      ]
     },
     "metadata": {},
     "output_type": "display_data"
    },
    {
     "name": "stdout",
     "output_type": "stream",
     "text": [
      "\n"
     ]
    },
    {
     "name": "stderr",
     "output_type": "stream",
     "text": [
      "/home/skooch/.local/lib/python3.5/site-packages/sklearn/externals/joblib/parallel.py:547: UserWarning: Multiprocessing-backed parallel loops cannot be nested, setting n_jobs=1\n",
      "  **self._backend_args)\n"
     ]
    },
    {
     "data": {
      "application/vnd.jupyter.widget-view+json": {
       "model_id": "40d614c446ce43d487a0ca2eac97b310",
       "version_major": 2,
       "version_minor": 0
      },
      "text/plain": [
       "HBox(children=(IntProgress(value=0, max=39907), HTML(value='')))"
      ]
     },
     "metadata": {},
     "output_type": "display_data"
    },
    {
     "data": {
      "application/vnd.jupyter.widget-view+json": {
       "model_id": "9280f2ab2126407daeed21096fc1616c",
       "version_major": 2,
       "version_minor": 0
      },
      "text/plain": [
       "HBox(children=(IntProgress(value=0, max=39140), HTML(value='')))"
      ]
     },
     "metadata": {},
     "output_type": "display_data"
    },
    {
     "name": "stdout",
     "output_type": "stream",
     "text": [
      "1051 (0.0035, 0, 1.5e-07, 7e-08, 250, True, 58, True, 20, 4.5e-05, 0) score: 0.5230038255832301\n"
     ]
    },
    {
     "data": {
      "application/vnd.jupyter.widget-view+json": {
       "model_id": "a3bb772a39ef422c979a3e1219611dfd",
       "version_major": 2,
       "version_minor": 0
      },
      "text/plain": [
       "HBox(children=(IntProgress(value=0, max=39916), HTML(value='')))"
      ]
     },
     "metadata": {},
     "output_type": "display_data"
    },
    {
     "name": "stdout",
     "output_type": "stream",
     "text": [
      "\n",
      "\n"
     ]
    },
    {
     "data": {
      "application/vnd.jupyter.widget-view+json": {
       "model_id": "9d3aebffa13249d0beb7d35a06a7a862",
       "version_major": 2,
       "version_minor": 0
      },
      "text/plain": [
       "HBox(children=(IntProgress(value=0, max=39162), HTML(value='')))"
      ]
     },
     "metadata": {},
     "output_type": "display_data"
    },
    {
     "name": "stderr",
     "output_type": "stream",
     "text": [
      "/home/skooch/.local/lib/python3.5/site-packages/sklearn/externals/joblib/parallel.py:547: UserWarning: Multiprocessing-backed parallel loops cannot be nested, setting n_jobs=1\n",
      "  **self._backend_args)\n",
      "/home/skooch/.local/lib/python3.5/site-packages/sklearn/externals/joblib/parallel.py:547: UserWarning: Multiprocessing-backed parallel loops cannot be nested, setting n_jobs=1\n",
      "  **self._backend_args)\n"
     ]
    },
    {
     "name": "stdout",
     "output_type": "stream",
     "text": [
      "\n"
     ]
    },
    {
     "name": "stderr",
     "output_type": "stream",
     "text": [
      "/home/skooch/.local/lib/python3.5/site-packages/sklearn/externals/joblib/parallel.py:547: UserWarning: Multiprocessing-backed parallel loops cannot be nested, setting n_jobs=1\n",
      "  **self._backend_args)\n"
     ]
    },
    {
     "name": "stdout",
     "output_type": "stream",
     "text": [
      "\n"
     ]
    },
    {
     "name": "stderr",
     "output_type": "stream",
     "text": [
      "/home/skooch/.local/lib/python3.5/site-packages/sklearn/externals/joblib/parallel.py:547: UserWarning: Multiprocessing-backed parallel loops cannot be nested, setting n_jobs=1\n",
      "  **self._backend_args)\n"
     ]
    },
    {
     "name": "stdout",
     "output_type": "stream",
     "text": [
      "1051 (0.0035, 0, 1.5e-07, 7e-08, 250, True, 76, True, 20, 4.5e-05, 0) score: 0.5173139577708525\n",
      "1051 (0.0035, 0, 1.5e-07, 7e-08, 250, True, 75, True, 20, 4.5e-05, 0) score: 0.5208334294209824\n",
      "1051 (0.0035, 0, 1.5e-07, 7e-08, 250, True, 76, True, 19, 4.5e-05, 0) score: 0.5186245424793869\n",
      "1051 (0.0035, 0, 1.5e-07, 7e-08, 250, True, 75, True, 19, 4.5e-05, 0) score: 0.5223633076973753\n"
     ]
    },
    {
     "data": {
      "application/vnd.jupyter.widget-view+json": {
       "model_id": "2dbf4e0c36ad44688d4105b563021c10",
       "version_major": 2,
       "version_minor": 0
      },
      "text/plain": [
       "HBox(children=(IntProgress(value=0, max=39110), HTML(value='')))"
      ]
     },
     "metadata": {},
     "output_type": "display_data"
    },
    {
     "data": {
      "application/vnd.jupyter.widget-view+json": {
       "model_id": "6fe56f8c96744e7db3616431e5d317f6",
       "version_major": 2,
       "version_minor": 0
      },
      "text/plain": [
       "HBox(children=(IntProgress(value=0, max=38859), HTML(value='')))"
      ]
     },
     "metadata": {},
     "output_type": "display_data"
    },
    {
     "name": "stdout",
     "output_type": "stream",
     "text": [
      "\n",
      "\n"
     ]
    },
    {
     "name": "stderr",
     "output_type": "stream",
     "text": [
      "/home/skooch/.local/lib/python3.5/site-packages/sklearn/externals/joblib/parallel.py:547: UserWarning: Multiprocessing-backed parallel loops cannot be nested, setting n_jobs=1\n",
      "  **self._backend_args)\n",
      "/home/skooch/.local/lib/python3.5/site-packages/sklearn/externals/joblib/parallel.py:547: UserWarning: Multiprocessing-backed parallel loops cannot be nested, setting n_jobs=1\n",
      "  **self._backend_args)\n"
     ]
    },
    {
     "name": "stdout",
     "output_type": "stream",
     "text": [
      "1051 (0.0035, 0, 1.5e-07, 7e-08, 250, True, 72, True, 21, 4.5e-05, 0) score: 0.5227207696431772\n",
      "1051 (0.0035, 0, 1.5e-07, 7e-08, 250, True, 75, True, 21, 4.5e-05, 0) score: 0.5202405032219183\n"
     ]
    },
    {
     "data": {
      "application/vnd.jupyter.widget-view+json": {
       "model_id": "9c89798a59ce4fa38461ea7357c0d504",
       "version_major": 2,
       "version_minor": 0
      },
      "text/plain": [
       "HBox(children=(IntProgress(value=0, max=34531), HTML(value='')))"
      ]
     },
     "metadata": {},
     "output_type": "display_data"
    },
    {
     "name": "stdout",
     "output_type": "stream",
     "text": [
      "\n"
     ]
    },
    {
     "name": "stderr",
     "output_type": "stream",
     "text": [
      "/home/skooch/.local/lib/python3.5/site-packages/sklearn/externals/joblib/parallel.py:547: UserWarning: Multiprocessing-backed parallel loops cannot be nested, setting n_jobs=1\n",
      "  **self._backend_args)\n"
     ]
    },
    {
     "name": "stdout",
     "output_type": "stream",
     "text": [
      "1052 (0.0035, 0, 1.5e-07, 7e-08, 250, True, 72, True, 19, 4.5e-05, 0) score: 0.5271762975637793\n"
     ]
    },
    {
     "data": {
      "application/vnd.jupyter.widget-view+json": {
       "model_id": "eab9d53296a8412f93b77a1433df5274",
       "version_major": 2,
       "version_minor": 0
      },
      "text/plain": [
       "HBox(children=(IntProgress(value=0, max=35380), HTML(value='')))"
      ]
     },
     "metadata": {},
     "output_type": "display_data"
    },
    {
     "name": "stdout",
     "output_type": "stream",
     "text": [
      "\n"
     ]
    },
    {
     "name": "stderr",
     "output_type": "stream",
     "text": [
      "/home/skooch/.local/lib/python3.5/site-packages/sklearn/externals/joblib/parallel.py:547: UserWarning: Multiprocessing-backed parallel loops cannot be nested, setting n_jobs=1\n",
      "  **self._backend_args)\n"
     ]
    },
    {
     "name": "stdout",
     "output_type": "stream",
     "text": [
      "1052 (0.0035, 0, 1.5e-07, 7e-08, 250, True, 76, True, 21, 4.5e-05, 0) score: 0.5221712019245041\n"
     ]
    },
    {
     "data": {
      "application/vnd.jupyter.widget-view+json": {
       "model_id": "94fa9e23294f4cc3bcfdbefff7ee5714",
       "version_major": 2,
       "version_minor": 0
      },
      "text/plain": [
       "HBox(children=(IntProgress(value=0, max=34162), HTML(value='')))"
      ]
     },
     "metadata": {},
     "output_type": "display_data"
    },
    {
     "name": "stdout",
     "output_type": "stream",
     "text": [
      "\n"
     ]
    },
    {
     "name": "stderr",
     "output_type": "stream",
     "text": [
      "/home/skooch/.local/lib/python3.5/site-packages/sklearn/externals/joblib/parallel.py:547: UserWarning: Multiprocessing-backed parallel loops cannot be nested, setting n_jobs=1\n",
      "  **self._backend_args)\n"
     ]
    },
    {
     "data": {
      "application/vnd.jupyter.widget-view+json": {
       "model_id": "f8201c3ebe2b4c05af5fc6920d997072",
       "version_major": 2,
       "version_minor": 0
      },
      "text/plain": [
       "HBox(children=(IntProgress(value=0, max=34115), HTML(value='')))"
      ]
     },
     "metadata": {},
     "output_type": "display_data"
    },
    {
     "name": "stdout",
     "output_type": "stream",
     "text": [
      "1052 (0.0035, 0, 1.5e-07, 7e-08, 250, True, 58, True, 19, 4.5e-05, 0) score: 0.5278776361399093\n",
      "\n"
     ]
    },
    {
     "name": "stderr",
     "output_type": "stream",
     "text": [
      "/home/skooch/.local/lib/python3.5/site-packages/sklearn/externals/joblib/parallel.py:547: UserWarning: Multiprocessing-backed parallel loops cannot be nested, setting n_jobs=1\n",
      "  **self._backend_args)\n"
     ]
    },
    {
     "name": "stdout",
     "output_type": "stream",
     "text": [
      "1052 (0.0035, 0, 1.5e-07, 7e-08, 250, True, 58, True, 21, 4.5e-05, 0) score: 0.5276019436147825\n"
     ]
    },
    {
     "data": {
      "application/vnd.jupyter.widget-view+json": {
       "model_id": "3b430dddca074675b406cfe37e62016a",
       "version_major": 2,
       "version_minor": 0
      },
      "text/plain": [
       "HBox(children=(IntProgress(value=0, max=34138), HTML(value='')))"
      ]
     },
     "metadata": {},
     "output_type": "display_data"
    },
    {
     "data": {
      "application/vnd.jupyter.widget-view+json": {
       "model_id": "a302be99015b45e5a907ed879331eba6",
       "version_major": 2,
       "version_minor": 0
      },
      "text/plain": [
       "HBox(children=(IntProgress(value=0, max=34501), HTML(value='')))"
      ]
     },
     "metadata": {},
     "output_type": "display_data"
    },
    {
     "name": "stdout",
     "output_type": "stream",
     "text": [
      "\n"
     ]
    },
    {
     "name": "stderr",
     "output_type": "stream",
     "text": [
      "/home/skooch/.local/lib/python3.5/site-packages/sklearn/externals/joblib/parallel.py:547: UserWarning: Multiprocessing-backed parallel loops cannot be nested, setting n_jobs=1\n",
      "  **self._backend_args)\n"
     ]
    },
    {
     "name": "stdout",
     "output_type": "stream",
     "text": [
      "\n"
     ]
    },
    {
     "name": "stderr",
     "output_type": "stream",
     "text": [
      "/home/skooch/.local/lib/python3.5/site-packages/sklearn/externals/joblib/parallel.py:547: UserWarning: Multiprocessing-backed parallel loops cannot be nested, setting n_jobs=1\n",
      "  **self._backend_args)\n"
     ]
    },
    {
     "name": "stdout",
     "output_type": "stream",
     "text": [
      "1052 (0.0035, 0, 1.5e-07, 7e-08, 250, True, 58, True, 20, 4.5e-05, 0) score: 0.5275666902874587\n",
      "1052 (0.0035, 0, 1.5e-07, 7e-08, 250, True, 72, True, 20, 4.5e-05, 0) score: 0.5269674142324097\n"
     ]
    },
    {
     "data": {
      "application/vnd.jupyter.widget-view+json": {
       "model_id": "43169d9d9d2544f5a898af5289b51218",
       "version_major": 2,
       "version_minor": 0
      },
      "text/plain": [
       "HBox(children=(IntProgress(value=0, max=35390), HTML(value='')))"
      ]
     },
     "metadata": {},
     "output_type": "display_data"
    },
    {
     "data": {
      "application/vnd.jupyter.widget-view+json": {
       "model_id": "f809a53733e64d5ebdfd95c975c1ef27",
       "version_major": 2,
       "version_minor": 0
      },
      "text/plain": [
       "HBox(children=(IntProgress(value=0, max=35408), HTML(value='')))"
      ]
     },
     "metadata": {},
     "output_type": "display_data"
    },
    {
     "name": "stdout",
     "output_type": "stream",
     "text": [
      "\n",
      "\n"
     ]
    },
    {
     "name": "stderr",
     "output_type": "stream",
     "text": [
      "/home/skooch/.local/lib/python3.5/site-packages/sklearn/externals/joblib/parallel.py:547: UserWarning: Multiprocessing-backed parallel loops cannot be nested, setting n_jobs=1\n",
      "  **self._backend_args)\n"
     ]
    },
    {
     "data": {
      "application/vnd.jupyter.widget-view+json": {
       "model_id": "d796b80b684b463a9712617448801a85",
       "version_major": 2,
       "version_minor": 0
      },
      "text/plain": [
       "HBox(children=(IntProgress(value=0, max=34785), HTML(value='')))"
      ]
     },
     "metadata": {},
     "output_type": "display_data"
    },
    {
     "name": "stderr",
     "output_type": "stream",
     "text": [
      "/home/skooch/.local/lib/python3.5/site-packages/sklearn/externals/joblib/parallel.py:547: UserWarning: Multiprocessing-backed parallel loops cannot be nested, setting n_jobs=1\n",
      "  **self._backend_args)\n"
     ]
    },
    {
     "name": "stdout",
     "output_type": "stream",
     "text": [
      "\n",
      "1052 (0.0035, 0, 1.5e-07, 7e-08, 250, True, 76, True, 20, 4.5e-05, 0) score: 0.5219470036759675\n"
     ]
    },
    {
     "name": "stderr",
     "output_type": "stream",
     "text": [
      "/home/skooch/.local/lib/python3.5/site-packages/sklearn/externals/joblib/parallel.py:547: UserWarning: Multiprocessing-backed parallel loops cannot be nested, setting n_jobs=1\n",
      "  **self._backend_args)\n"
     ]
    },
    {
     "name": "stdout",
     "output_type": "stream",
     "text": [
      "1052 (0.0035, 0, 1.5e-07, 7e-08, 250, True, 76, True, 19, 4.5e-05, 0) score: 0.5223636950726152\n"
     ]
    },
    {
     "data": {
      "application/vnd.jupyter.widget-view+json": {
       "model_id": "a35645155059450f92a06be42644a367",
       "version_major": 2,
       "version_minor": 0
      },
      "text/plain": [
       "HBox(children=(IntProgress(value=0, max=34767), HTML(value='')))"
      ]
     },
     "metadata": {},
     "output_type": "display_data"
    },
    {
     "name": "stdout",
     "output_type": "stream",
     "text": [
      "1052 (0.0035, 0, 1.5e-07, 7e-08, 250, True, 75, True, 19, 4.5e-05, 0) score: 0.525806710247724\n",
      "\n"
     ]
    },
    {
     "name": "stderr",
     "output_type": "stream",
     "text": [
      "/home/skooch/.local/lib/python3.5/site-packages/sklearn/externals/joblib/parallel.py:547: UserWarning: Multiprocessing-backed parallel loops cannot be nested, setting n_jobs=1\n",
      "  **self._backend_args)\n"
     ]
    },
    {
     "name": "stdout",
     "output_type": "stream",
     "text": [
      "1052 (0.0035, 0, 1.5e-07, 7e-08, 250, True, 75, True, 20, 4.5e-05, 0) score: 0.5251300885221786\n"
     ]
    },
    {
     "data": {
      "application/vnd.jupyter.widget-view+json": {
       "model_id": "3a297447744d401e9c472db6e25ee16f",
       "version_major": 2,
       "version_minor": 0
      },
      "text/plain": [
       "HBox(children=(IntProgress(value=0, max=34481), HTML(value='')))"
      ]
     },
     "metadata": {},
     "output_type": "display_data"
    },
    {
     "data": {
      "application/vnd.jupyter.widget-view+json": {
       "model_id": "f8ecf7420c9749afa3056d60fd05f7fa",
       "version_major": 2,
       "version_minor": 0
      },
      "text/plain": [
       "HBox(children=(IntProgress(value=0, max=34754), HTML(value='')))"
      ]
     },
     "metadata": {},
     "output_type": "display_data"
    },
    {
     "name": "stdout",
     "output_type": "stream",
     "text": [
      "\n",
      "\n"
     ]
    },
    {
     "name": "stderr",
     "output_type": "stream",
     "text": [
      "/home/skooch/.local/lib/python3.5/site-packages/sklearn/externals/joblib/parallel.py:547: UserWarning: Multiprocessing-backed parallel loops cannot be nested, setting n_jobs=1\n",
      "  **self._backend_args)\n",
      "/home/skooch/.local/lib/python3.5/site-packages/sklearn/externals/joblib/parallel.py:547: UserWarning: Multiprocessing-backed parallel loops cannot be nested, setting n_jobs=1\n",
      "  **self._backend_args)\n"
     ]
    },
    {
     "name": "stdout",
     "output_type": "stream",
     "text": [
      "1052 (0.0035, 0, 1.5e-07, 7e-08, 250, True, 72, True, 21, 4.5e-05, 0) score: 0.5275334212325836\n",
      "1052 (0.0035, 0, 1.5e-07, 7e-08, 250, True, 75, True, 21, 4.5e-05, 0) score: 0.5257056158947246\n"
     ]
    },
    {
     "data": {
      "application/vnd.jupyter.widget-view+json": {
       "model_id": "1990f04b4eed4080a82593c869039ffb",
       "version_major": 2,
       "version_minor": 0
      },
      "text/plain": [
       "HBox(children=(IntProgress(value=0, max=39113), HTML(value='')))"
      ]
     },
     "metadata": {},
     "output_type": "display_data"
    },
    {
     "data": {
      "application/vnd.jupyter.widget-view+json": {
       "model_id": "b8d4fe212ace49f0928593b448803643",
       "version_major": 2,
       "version_minor": 0
      },
      "text/plain": [
       "HBox(children=(IntProgress(value=0, max=38900), HTML(value='')))"
      ]
     },
     "metadata": {},
     "output_type": "display_data"
    },
    {
     "name": "stdout",
     "output_type": "stream",
     "text": [
      "\n"
     ]
    },
    {
     "name": "stderr",
     "output_type": "stream",
     "text": [
      "/home/skooch/.local/lib/python3.5/site-packages/sklearn/externals/joblib/parallel.py:547: UserWarning: Multiprocessing-backed parallel loops cannot be nested, setting n_jobs=1\n",
      "  **self._backend_args)\n"
     ]
    },
    {
     "name": "stdout",
     "output_type": "stream",
     "text": [
      "\n"
     ]
    },
    {
     "name": "stderr",
     "output_type": "stream",
     "text": [
      "/home/skooch/.local/lib/python3.5/site-packages/sklearn/externals/joblib/parallel.py:547: UserWarning: Multiprocessing-backed parallel loops cannot be nested, setting n_jobs=1\n",
      "  **self._backend_args)\n"
     ]
    },
    {
     "name": "stdout",
     "output_type": "stream",
     "text": [
      "1053 (0.0035, 0, 1.5e-07, 7e-08, 250, True, 72, True, 19, 4.5e-05, 0) score: 0.5156547587269865\n",
      "1053 (0.0035, 0, 1.5e-07, 7e-08, 250, True, 58, True, 19, 4.5e-05, 0) score: 0.5140689601336845\n"
     ]
    },
    {
     "data": {
      "application/vnd.jupyter.widget-view+json": {
       "model_id": "8da232b7c8b34f6b92effc96c6089526",
       "version_major": 2,
       "version_minor": 0
      },
      "text/plain": [
       "HBox(children=(IntProgress(value=0, max=39992), HTML(value='')))"
      ]
     },
     "metadata": {},
     "output_type": "display_data"
    },
    {
     "name": "stdout",
     "output_type": "stream",
     "text": [
      "\n"
     ]
    },
    {
     "name": "stderr",
     "output_type": "stream",
     "text": [
      "/home/skooch/.local/lib/python3.5/site-packages/sklearn/externals/joblib/parallel.py:547: UserWarning: Multiprocessing-backed parallel loops cannot be nested, setting n_jobs=1\n",
      "  **self._backend_args)\n"
     ]
    },
    {
     "name": "stdout",
     "output_type": "stream",
     "text": [
      "1053 (0.0035, 0, 1.5e-07, 7e-08, 250, True, 76, True, 21, 4.5e-05, 0) score: 0.5091680242436075\n"
     ]
    },
    {
     "data": {
      "application/vnd.jupyter.widget-view+json": {
       "model_id": "3a98f24210b04190af5b2b622ce4cc02",
       "version_major": 2,
       "version_minor": 0
      },
      "text/plain": [
       "HBox(children=(IntProgress(value=0, max=38862), HTML(value='')))"
      ]
     },
     "metadata": {},
     "output_type": "display_data"
    },
    {
     "name": "stdout",
     "output_type": "stream",
     "text": [
      "\n"
     ]
    },
    {
     "data": {
      "application/vnd.jupyter.widget-view+json": {
       "model_id": "cc1f97db9c1e412bb3207ff0ba3fc136",
       "version_major": 2,
       "version_minor": 0
      },
      "text/plain": [
       "HBox(children=(IntProgress(value=0, max=38855), HTML(value='')))"
      ]
     },
     "metadata": {},
     "output_type": "display_data"
    },
    {
     "name": "stderr",
     "output_type": "stream",
     "text": [
      "/home/skooch/.local/lib/python3.5/site-packages/sklearn/externals/joblib/parallel.py:547: UserWarning: Multiprocessing-backed parallel loops cannot be nested, setting n_jobs=1\n",
      "  **self._backend_args)\n"
     ]
    },
    {
     "name": "stdout",
     "output_type": "stream",
     "text": [
      "\n"
     ]
    },
    {
     "name": "stderr",
     "output_type": "stream",
     "text": [
      "/home/skooch/.local/lib/python3.5/site-packages/sklearn/externals/joblib/parallel.py:547: UserWarning: Multiprocessing-backed parallel loops cannot be nested, setting n_jobs=1\n",
      "  **self._backend_args)\n"
     ]
    },
    {
     "name": "stdout",
     "output_type": "stream",
     "text": [
      "1053 (0.0035, 0, 1.5e-07, 7e-08, 250, True, 58, True, 20, 4.5e-05, 0) score: 0.5131625123147052\n"
     ]
    },
    {
     "data": {
      "application/vnd.jupyter.widget-view+json": {
       "model_id": "0ea7415db1964381a1bfc2840ea4365a",
       "version_major": 2,
       "version_minor": 0
      },
      "text/plain": [
       "HBox(children=(IntProgress(value=0, max=39294), HTML(value='')))"
      ]
     },
     "metadata": {},
     "output_type": "display_data"
    },
    {
     "name": "stdout",
     "output_type": "stream",
     "text": [
      "1053 (0.0035, 0, 1.5e-07, 7e-08, 250, True, 58, True, 21, 4.5e-05, 0) score: 0.5121074887811549\n",
      "\n"
     ]
    },
    {
     "name": "stderr",
     "output_type": "stream",
     "text": [
      "/home/skooch/.local/lib/python3.5/site-packages/sklearn/externals/joblib/parallel.py:547: UserWarning: Multiprocessing-backed parallel loops cannot be nested, setting n_jobs=1\n",
      "  **self._backend_args)\n"
     ]
    },
    {
     "name": "stdout",
     "output_type": "stream",
     "text": [
      "1053 (0.0035, 0, 1.5e-07, 7e-08, 250, True, 75, True, 20, 4.5e-05, 0) score: 0.5153042594379622\n"
     ]
    },
    {
     "data": {
      "application/vnd.jupyter.widget-view+json": {
       "model_id": "3ffe245674e04827a0b4f54498e70ce7",
       "version_major": 2,
       "version_minor": 0
      },
      "text/plain": [
       "HBox(children=(IntProgress(value=0, max=40033), HTML(value='')))"
      ]
     },
     "metadata": {},
     "output_type": "display_data"
    },
    {
     "data": {
      "application/vnd.jupyter.widget-view+json": {
       "model_id": "64de4cfd98f646109e7b29df7dc3c364",
       "version_major": 2,
       "version_minor": 0
      },
      "text/plain": [
       "HBox(children=(IntProgress(value=0, max=39323), HTML(value='')))"
      ]
     },
     "metadata": {},
     "output_type": "display_data"
    },
    {
     "name": "stdout",
     "output_type": "stream",
     "text": [
      "\n",
      "\n"
     ]
    },
    {
     "name": "stderr",
     "output_type": "stream",
     "text": [
      "/home/skooch/.local/lib/python3.5/site-packages/sklearn/externals/joblib/parallel.py:547: UserWarning: Multiprocessing-backed parallel loops cannot be nested, setting n_jobs=1\n",
      "  **self._backend_args)\n",
      "/home/skooch/.local/lib/python3.5/site-packages/sklearn/externals/joblib/parallel.py:547: UserWarning: Multiprocessing-backed parallel loops cannot be nested, setting n_jobs=1\n",
      "  **self._backend_args)\n"
     ]
    },
    {
     "data": {
      "application/vnd.jupyter.widget-view+json": {
       "model_id": "8cb3e759b6ac46a88aabccd8188e1110",
       "version_major": 2,
       "version_minor": 0
      },
      "text/plain": [
       "HBox(children=(IntProgress(value=0, max=39093), HTML(value='')))"
      ]
     },
     "metadata": {},
     "output_type": "display_data"
    },
    {
     "name": "stdout",
     "output_type": "stream",
     "text": [
      "1053 (0.0035, 0, 1.5e-07, 7e-08, 250, True, 76, True, 19, 4.5e-05, 0) score: 0.510787510254258\n",
      "1053 (0.0035, 0, 1.5e-07, 7e-08, 250, True, 75, True, 19, 4.5e-05, 0) score: 0.515452813238261\n",
      "\n"
     ]
    },
    {
     "name": "stderr",
     "output_type": "stream",
     "text": [
      "/home/skooch/.local/lib/python3.5/site-packages/sklearn/externals/joblib/parallel.py:547: UserWarning: Multiprocessing-backed parallel loops cannot be nested, setting n_jobs=1\n",
      "  **self._backend_args)\n"
     ]
    },
    {
     "name": "stdout",
     "output_type": "stream",
     "text": [
      "1053 (0.0035, 0, 1.5e-07, 7e-08, 250, True, 72, True, 20, 4.5e-05, 0) score: 0.514954976169812\n"
     ]
    },
    {
     "data": {
      "application/vnd.jupyter.widget-view+json": {
       "model_id": "1404c700a7fb45f2916dc1b5241bd707",
       "version_major": 2,
       "version_minor": 0
      },
      "text/plain": [
       "HBox(children=(IntProgress(value=0, max=40009), HTML(value='')))"
      ]
     },
     "metadata": {},
     "output_type": "display_data"
    },
    {
     "data": {
      "application/vnd.jupyter.widget-view+json": {
       "model_id": "38ba60a6afd74c7eb98c0e89d45c1704",
       "version_major": 2,
       "version_minor": 0
      },
      "text/plain": [
       "HBox(children=(IntProgress(value=0, max=39295), HTML(value='')))"
      ]
     },
     "metadata": {},
     "output_type": "display_data"
    },
    {
     "name": "stdout",
     "output_type": "stream",
     "text": [
      "\n",
      "\n"
     ]
    },
    {
     "name": "stderr",
     "output_type": "stream",
     "text": [
      "/home/skooch/.local/lib/python3.5/site-packages/sklearn/externals/joblib/parallel.py:547: UserWarning: Multiprocessing-backed parallel loops cannot be nested, setting n_jobs=1\n",
      "  **self._backend_args)\n",
      "/home/skooch/.local/lib/python3.5/site-packages/sklearn/externals/joblib/parallel.py:547: UserWarning: Multiprocessing-backed parallel loops cannot be nested, setting n_jobs=1\n",
      "  **self._backend_args)\n"
     ]
    },
    {
     "name": "stdout",
     "output_type": "stream",
     "text": [
      "1053 (0.0035, 0, 1.5e-07, 7e-08, 250, True, 76, True, 20, 4.5e-05, 0) score: 0.5104778433282247\n",
      "1053 (0.0035, 0, 1.5e-07, 7e-08, 250, True, 75, True, 21, 4.5e-05, 0) score: 0.5139336078102079\n"
     ]
    },
    {
     "data": {
      "application/vnd.jupyter.widget-view+json": {
       "model_id": "8c34e529895243c5869187bd1d91000e",
       "version_major": 2,
       "version_minor": 0
      },
      "text/plain": [
       "HBox(children=(IntProgress(value=0, max=39086), HTML(value='')))"
      ]
     },
     "metadata": {},
     "output_type": "display_data"
    },
    {
     "name": "stdout",
     "output_type": "stream",
     "text": [
      "\n"
     ]
    },
    {
     "name": "stderr",
     "output_type": "stream",
     "text": [
      "/home/skooch/.local/lib/python3.5/site-packages/sklearn/externals/joblib/parallel.py:547: UserWarning: Multiprocessing-backed parallel loops cannot be nested, setting n_jobs=1\n",
      "  **self._backend_args)\n"
     ]
    },
    {
     "name": "stdout",
     "output_type": "stream",
     "text": [
      "1053 (0.0035, 0, 1.5e-07, 7e-08, 250, True, 72, True, 21, 4.5e-05, 0) score: 0.5140003735099918\n"
     ]
    },
    {
     "data": {
      "application/vnd.jupyter.widget-view+json": {
       "model_id": "92383d6b86af4fcc99e36103af998663",
       "version_major": 2,
       "version_minor": 0
      },
      "text/plain": [
       "HBox(children=(IntProgress(value=0, max=34918), HTML(value='')))"
      ]
     },
     "metadata": {},
     "output_type": "display_data"
    },
    {
     "data": {
      "application/vnd.jupyter.widget-view+json": {
       "model_id": "0eb97c9c6fa34dd0a74a5dfdef1a7201",
       "version_major": 2,
       "version_minor": 0
      },
      "text/plain": [
       "HBox(children=(IntProgress(value=0, max=35605), HTML(value='')))"
      ]
     },
     "metadata": {},
     "output_type": "display_data"
    },
    {
     "data": {
      "application/vnd.jupyter.widget-view+json": {
       "model_id": "6278c6f187534eeba4beb40754b5c37c",
       "version_major": 2,
       "version_minor": 0
      },
      "text/plain": [
       "HBox(children=(IntProgress(value=0, max=34581), HTML(value='')))"
      ]
     },
     "metadata": {},
     "output_type": "display_data"
    },
    {
     "name": "stdout",
     "output_type": "stream",
     "text": [
      "\n"
     ]
    },
    {
     "name": "stderr",
     "output_type": "stream",
     "text": [
      "/home/skooch/.local/lib/python3.5/site-packages/sklearn/externals/joblib/parallel.py:547: UserWarning: Multiprocessing-backed parallel loops cannot be nested, setting n_jobs=1\n",
      "  **self._backend_args)\n"
     ]
    },
    {
     "name": "stdout",
     "output_type": "stream",
     "text": [
      "\n",
      "\n"
     ]
    },
    {
     "name": "stderr",
     "output_type": "stream",
     "text": [
      "/home/skooch/.local/lib/python3.5/site-packages/sklearn/externals/joblib/parallel.py:547: UserWarning: Multiprocessing-backed parallel loops cannot be nested, setting n_jobs=1\n",
      "  **self._backend_args)\n",
      "/home/skooch/.local/lib/python3.5/site-packages/sklearn/externals/joblib/parallel.py:547: UserWarning: Multiprocessing-backed parallel loops cannot be nested, setting n_jobs=1\n",
      "  **self._backend_args)\n"
     ]
    },
    {
     "name": "stdout",
     "output_type": "stream",
     "text": [
      "1054 (0.0035, 0, 1.5e-07, 7e-08, 250, True, 72, True, 19, 4.5e-05, 0) score: 0.5433542636258153\n",
      "1054 (0.0035, 0, 1.5e-07, 7e-08, 250, True, 76, True, 21, 4.5e-05, 0) score: 0.5362770388712761\n",
      "1054 (0.0035, 0, 1.5e-07, 7e-08, 250, True, 58, True, 19, 4.5e-05, 0) score: 0.5457035377291959\n"
     ]
    },
    {
     "data": {
      "application/vnd.jupyter.widget-view+json": {
       "model_id": "9c2359597c2d4677a5b567644dd8a4c1",
       "version_major": 2,
       "version_minor": 0
      },
      "text/plain": [
       "HBox(children=(IntProgress(value=0, max=35084), HTML(value='')))"
      ]
     },
     "metadata": {},
     "output_type": "display_data"
    },
    {
     "name": "stdout",
     "output_type": "stream",
     "text": [
      "\n"
     ]
    },
    {
     "name": "stderr",
     "output_type": "stream",
     "text": [
      "/home/skooch/.local/lib/python3.5/site-packages/sklearn/externals/joblib/parallel.py:547: UserWarning: Multiprocessing-backed parallel loops cannot be nested, setting n_jobs=1\n",
      "  **self._backend_args)\n"
     ]
    },
    {
     "name": "stdout",
     "output_type": "stream",
     "text": [
      "1054 (0.0035, 0, 1.5e-07, 7e-08, 250, True, 75, True, 20, 4.5e-05, 0) score: 0.5427894833123901\n"
     ]
    },
    {
     "data": {
      "application/vnd.jupyter.widget-view+json": {
       "model_id": "dd5f9a76502a45cdacacdf99e1348b8d",
       "version_major": 2,
       "version_minor": 0
      },
      "text/plain": [
       "HBox(children=(IntProgress(value=0, max=34586), HTML(value='')))"
      ]
     },
     "metadata": {},
     "output_type": "display_data"
    },
    {
     "data": {
      "application/vnd.jupyter.widget-view+json": {
       "model_id": "cbd079bcdfce4dd4836e834883fe963a",
       "version_major": 2,
       "version_minor": 0
      },
      "text/plain": [
       "HBox(children=(IntProgress(value=0, max=35628), HTML(value='')))"
      ]
     },
     "metadata": {},
     "output_type": "display_data"
    },
    {
     "data": {
      "application/vnd.jupyter.widget-view+json": {
       "model_id": "3254f285152f4fb39dafdddf799b0000",
       "version_major": 2,
       "version_minor": 0
      },
      "text/plain": [
       "HBox(children=(IntProgress(value=0, max=34569), HTML(value='')))"
      ]
     },
     "metadata": {},
     "output_type": "display_data"
    },
    {
     "name": "stdout",
     "output_type": "stream",
     "text": [
      "\n",
      "\n",
      "\n"
     ]
    },
    {
     "name": "stderr",
     "output_type": "stream",
     "text": [
      "/home/skooch/.local/lib/python3.5/site-packages/sklearn/externals/joblib/parallel.py:547: UserWarning: Multiprocessing-backed parallel loops cannot be nested, setting n_jobs=1\n",
      "  **self._backend_args)\n",
      "/home/skooch/.local/lib/python3.5/site-packages/sklearn/externals/joblib/parallel.py:547: UserWarning: Multiprocessing-backed parallel loops cannot be nested, setting n_jobs=1\n",
      "  **self._backend_args)\n",
      "/home/skooch/.local/lib/python3.5/site-packages/sklearn/externals/joblib/parallel.py:547: UserWarning: Multiprocessing-backed parallel loops cannot be nested, setting n_jobs=1\n",
      "  **self._backend_args)\n"
     ]
    },
    {
     "name": "stdout",
     "output_type": "stream",
     "text": [
      "1054 (0.0035, 0, 1.5e-07, 7e-08, 250, True, 58, True, 20, 4.5e-05, 0) score: 0.5457065957984923\n",
      "1054 (0.0035, 0, 1.5e-07, 7e-08, 250, True, 76, True, 19, 4.5e-05, 0) score: 0.5371990749185898\n",
      "1054 (0.0035, 0, 1.5e-07, 7e-08, 250, True, 58, True, 21, 4.5e-05, 0) score: 0.5460026779901455\n"
     ]
    },
    {
     "data": {
      "application/vnd.jupyter.widget-view+json": {
       "model_id": "6f6cda59f86442ec95e541fbf8b41014",
       "version_major": 2,
       "version_minor": 0
      },
      "text/plain": [
       "HBox(children=(IntProgress(value=0, max=35109), HTML(value='')))"
      ]
     },
     "metadata": {},
     "output_type": "display_data"
    },
    {
     "name": "stdout",
     "output_type": "stream",
     "text": [
      "\n"
     ]
    },
    {
     "name": "stderr",
     "output_type": "stream",
     "text": [
      "/home/skooch/.local/lib/python3.5/site-packages/sklearn/externals/joblib/parallel.py:547: UserWarning: Multiprocessing-backed parallel loops cannot be nested, setting n_jobs=1\n",
      "  **self._backend_args)\n"
     ]
    },
    {
     "data": {
      "application/vnd.jupyter.widget-view+json": {
       "model_id": "dde9fcff024b41ff88200fbed95d95e0",
       "version_major": 2,
       "version_minor": 0
      },
      "text/plain": [
       "HBox(children=(IntProgress(value=0, max=35070), HTML(value='')))"
      ]
     },
     "metadata": {},
     "output_type": "display_data"
    },
    {
     "name": "stdout",
     "output_type": "stream",
     "text": [
      "1054 (0.0035, 0, 1.5e-07, 7e-08, 250, True, 75, True, 19, 4.5e-05, 0) score: 0.542823645958606\n",
      "\n"
     ]
    },
    {
     "name": "stderr",
     "output_type": "stream",
     "text": [
      "/home/skooch/.local/lib/python3.5/site-packages/sklearn/externals/joblib/parallel.py:547: UserWarning: Multiprocessing-backed parallel loops cannot be nested, setting n_jobs=1\n",
      "  **self._backend_args)\n"
     ]
    },
    {
     "name": "stdout",
     "output_type": "stream",
     "text": [
      "1054 (0.0035, 0, 1.5e-07, 7e-08, 250, True, 75, True, 21, 4.5e-05, 0) score: 0.5424613475611295\n"
     ]
    },
    {
     "data": {
      "application/vnd.jupyter.widget-view+json": {
       "model_id": "7e5ed072b5184ea5ac8c5a4d07c8039d",
       "version_major": 2,
       "version_minor": 0
      },
      "text/plain": [
       "HBox(children=(IntProgress(value=0, max=34902), HTML(value='')))"
      ]
     },
     "metadata": {},
     "output_type": "display_data"
    },
    {
     "name": "stdout",
     "output_type": "stream",
     "text": [
      "\n"
     ]
    },
    {
     "name": "stderr",
     "output_type": "stream",
     "text": [
      "/home/skooch/.local/lib/python3.5/site-packages/sklearn/externals/joblib/parallel.py:547: UserWarning: Multiprocessing-backed parallel loops cannot be nested, setting n_jobs=1\n",
      "  **self._backend_args)\n"
     ]
    },
    {
     "name": "stdout",
     "output_type": "stream",
     "text": [
      "1054 (0.0035, 0, 1.5e-07, 7e-08, 250, True, 72, True, 20, 4.5e-05, 0) score: 0.5433113279241297\n"
     ]
    },
    {
     "data": {
      "application/vnd.jupyter.widget-view+json": {
       "model_id": "31d1da93b7284587a8b50b5eadb5c14f",
       "version_major": 2,
       "version_minor": 0
      },
      "text/plain": [
       "HBox(children=(IntProgress(value=0, max=35620), HTML(value='')))"
      ]
     },
     "metadata": {},
     "output_type": "display_data"
    },
    {
     "name": "stdout",
     "output_type": "stream",
     "text": [
      "\n"
     ]
    },
    {
     "name": "stderr",
     "output_type": "stream",
     "text": [
      "/home/skooch/.local/lib/python3.5/site-packages/sklearn/externals/joblib/parallel.py:547: UserWarning: Multiprocessing-backed parallel loops cannot be nested, setting n_jobs=1\n",
      "  **self._backend_args)\n"
     ]
    },
    {
     "data": {
      "application/vnd.jupyter.widget-view+json": {
       "model_id": "70efa70b3507400ab158371c4b249e69",
       "version_major": 2,
       "version_minor": 0
      },
      "text/plain": [
       "HBox(children=(IntProgress(value=0, max=34878), HTML(value='')))"
      ]
     },
     "metadata": {},
     "output_type": "display_data"
    },
    {
     "name": "stdout",
     "output_type": "stream",
     "text": [
      "1054 (0.0035, 0, 1.5e-07, 7e-08, 250, True, 76, True, 20, 4.5e-05, 0) score: 0.5364029709842271\n",
      "\n"
     ]
    },
    {
     "name": "stderr",
     "output_type": "stream",
     "text": [
      "/home/skooch/.local/lib/python3.5/site-packages/sklearn/externals/joblib/parallel.py:547: UserWarning: Multiprocessing-backed parallel loops cannot be nested, setting n_jobs=1\n",
      "  **self._backend_args)\n"
     ]
    },
    {
     "name": "stdout",
     "output_type": "stream",
     "text": [
      "1054 (0.0035, 0, 1.5e-07, 7e-08, 250, True, 72, True, 21, 4.5e-05, 0) score: 0.5434291973624568\n"
     ]
    },
    {
     "data": {
      "application/vnd.jupyter.widget-view+json": {
       "model_id": "0198f463ce03488bbf101dec94fea086",
       "version_major": 2,
       "version_minor": 0
      },
      "text/plain": [
       "HBox(children=(IntProgress(value=0, max=36079), HTML(value='')))"
      ]
     },
     "metadata": {},
     "output_type": "display_data"
    },
    {
     "name": "stdout",
     "output_type": "stream",
     "text": [
      "\n"
     ]
    },
    {
     "name": "stderr",
     "output_type": "stream",
     "text": [
      "/home/skooch/.local/lib/python3.5/site-packages/sklearn/externals/joblib/parallel.py:547: UserWarning: Multiprocessing-backed parallel loops cannot be nested, setting n_jobs=1\n",
      "  **self._backend_args)\n"
     ]
    },
    {
     "name": "stdout",
     "output_type": "stream",
     "text": [
      "1055 (0.0035, 0, 1.5e-07, 7e-08, 250, True, 72, True, 19, 4.5e-05, 0) score: 0.5249558202754088\n"
     ]
    },
    {
     "data": {
      "application/vnd.jupyter.widget-view+json": {
       "model_id": "6588758ba9a9493296c92e2a49c14098",
       "version_major": 2,
       "version_minor": 0
      },
      "text/plain": [
       "HBox(children=(IntProgress(value=0, max=36444), HTML(value='')))"
      ]
     },
     "metadata": {},
     "output_type": "display_data"
    },
    {
     "name": "stdout",
     "output_type": "stream",
     "text": [
      "\n"
     ]
    },
    {
     "name": "stderr",
     "output_type": "stream",
     "text": [
      "/home/skooch/.local/lib/python3.5/site-packages/sklearn/externals/joblib/parallel.py:547: UserWarning: Multiprocessing-backed parallel loops cannot be nested, setting n_jobs=1\n",
      "  **self._backend_args)\n"
     ]
    },
    {
     "name": "stdout",
     "output_type": "stream",
     "text": [
      "1055 (0.0035, 0, 1.5e-07, 7e-08, 250, True, 75, True, 20, 4.5e-05, 0) score: 0.521810082643924\n"
     ]
    },
    {
     "data": {
      "application/vnd.jupyter.widget-view+json": {
       "model_id": "9a092352bbde4baab697993c04ff6dae",
       "version_major": 2,
       "version_minor": 0
      },
      "text/plain": [
       "HBox(children=(IntProgress(value=0, max=35767), HTML(value='')))"
      ]
     },
     "metadata": {},
     "output_type": "display_data"
    },
    {
     "data": {
      "application/vnd.jupyter.widget-view+json": {
       "model_id": "196402f857b64c25aa2fc38ed3acd7ae",
       "version_major": 2,
       "version_minor": 0
      },
      "text/plain": [
       "HBox(children=(IntProgress(value=0, max=37128), HTML(value='')))"
      ]
     },
     "metadata": {},
     "output_type": "display_data"
    },
    {
     "name": "stdout",
     "output_type": "stream",
     "text": [
      "\n"
     ]
    },
    {
     "name": "stderr",
     "output_type": "stream",
     "text": [
      "/home/skooch/.local/lib/python3.5/site-packages/sklearn/externals/joblib/parallel.py:547: UserWarning: Multiprocessing-backed parallel loops cannot be nested, setting n_jobs=1\n",
      "  **self._backend_args)\n"
     ]
    },
    {
     "name": "stdout",
     "output_type": "stream",
     "text": [
      "\n"
     ]
    },
    {
     "name": "stderr",
     "output_type": "stream",
     "text": [
      "/home/skooch/.local/lib/python3.5/site-packages/sklearn/externals/joblib/parallel.py:547: UserWarning: Multiprocessing-backed parallel loops cannot be nested, setting n_jobs=1\n",
      "  **self._backend_args)\n"
     ]
    },
    {
     "name": "stdout",
     "output_type": "stream",
     "text": [
      "1055 (0.0035, 0, 1.5e-07, 7e-08, 250, True, 58, True, 19, 4.5e-05, 0) score: 0.5259796742502658\n",
      "1055 (0.0035, 0, 1.5e-07, 7e-08, 250, True, 76, True, 21, 4.5e-05, 0) score: 0.519272308278687\n"
     ]
    },
    {
     "data": {
      "application/vnd.jupyter.widget-view+json": {
       "model_id": "006f9d34b5cd4976b16f9eabeb86a39e",
       "version_major": 2,
       "version_minor": 0
      },
      "text/plain": [
       "HBox(children=(IntProgress(value=0, max=36426), HTML(value='')))"
      ]
     },
     "metadata": {},
     "output_type": "display_data"
    },
    {
     "name": "stdout",
     "output_type": "stream",
     "text": [
      "\n"
     ]
    },
    {
     "name": "stderr",
     "output_type": "stream",
     "text": [
      "/home/skooch/.local/lib/python3.5/site-packages/sklearn/externals/joblib/parallel.py:547: UserWarning: Multiprocessing-backed parallel loops cannot be nested, setting n_jobs=1\n",
      "  **self._backend_args)\n"
     ]
    },
    {
     "name": "stdout",
     "output_type": "stream",
     "text": [
      "1055 (0.0035, 0, 1.5e-07, 7e-08, 250, True, 75, True, 21, 4.5e-05, 0) score: 0.5208642108248114\n"
     ]
    },
    {
     "data": {
      "application/vnd.jupyter.widget-view+json": {
       "model_id": "16f7eeead18d4510be475f7d3b4adf05",
       "version_major": 2,
       "version_minor": 0
      },
      "text/plain": [
       "HBox(children=(IntProgress(value=0, max=37147), HTML(value='')))"
      ]
     },
     "metadata": {},
     "output_type": "display_data"
    },
    {
     "data": {
      "application/vnd.jupyter.widget-view+json": {
       "model_id": "14affab2f8084eb39ffe38dc03fd7487",
       "version_major": 2,
       "version_minor": 0
      },
      "text/plain": [
       "HBox(children=(IntProgress(value=0, max=36461), HTML(value='')))"
      ]
     },
     "metadata": {},
     "output_type": "display_data"
    },
    {
     "data": {
      "application/vnd.jupyter.widget-view+json": {
       "model_id": "cac640ee63054e33bd743816162dc1a1",
       "version_major": 2,
       "version_minor": 0
      },
      "text/plain": [
       "HBox(children=(IntProgress(value=0, max=35746), HTML(value='')))"
      ]
     },
     "metadata": {},
     "output_type": "display_data"
    },
    {
     "name": "stdout",
     "output_type": "stream",
     "text": [
      "\n"
     ]
    },
    {
     "data": {
      "application/vnd.jupyter.widget-view+json": {
       "model_id": "0152349358c142298177734f62802135",
       "version_major": 2,
       "version_minor": 0
      },
      "text/plain": [
       "HBox(children=(IntProgress(value=0, max=35764), HTML(value='')))"
      ]
     },
     "metadata": {},
     "output_type": "display_data"
    },
    {
     "name": "stdout",
     "output_type": "stream",
     "text": [
      "\n"
     ]
    },
    {
     "name": "stderr",
     "output_type": "stream",
     "text": [
      "/home/skooch/.local/lib/python3.5/site-packages/sklearn/externals/joblib/parallel.py:547: UserWarning: Multiprocessing-backed parallel loops cannot be nested, setting n_jobs=1\n",
      "  **self._backend_args)\n",
      "/home/skooch/.local/lib/python3.5/site-packages/sklearn/externals/joblib/parallel.py:547: UserWarning: Multiprocessing-backed parallel loops cannot be nested, setting n_jobs=1\n",
      "  **self._backend_args)\n"
     ]
    },
    {
     "name": "stdout",
     "output_type": "stream",
     "text": [
      "\n",
      "\n"
     ]
    },
    {
     "name": "stderr",
     "output_type": "stream",
     "text": [
      "/home/skooch/.local/lib/python3.5/site-packages/sklearn/externals/joblib/parallel.py:547: UserWarning: Multiprocessing-backed parallel loops cannot be nested, setting n_jobs=1\n",
      "  **self._backend_args)\n",
      "/home/skooch/.local/lib/python3.5/site-packages/sklearn/externals/joblib/parallel.py:547: UserWarning: Multiprocessing-backed parallel loops cannot be nested, setting n_jobs=1\n",
      "  **self._backend_args)\n"
     ]
    },
    {
     "name": "stdout",
     "output_type": "stream",
     "text": [
      "1055 (0.0035, 0, 1.5e-07, 7e-08, 250, True, 76, True, 19, 4.5e-05, 0) score: 0.520423776214102\n",
      "1055 (0.0035, 0, 1.5e-07, 7e-08, 250, True, 75, True, 19, 4.5e-05, 0) score: 0.5218124106502273\n",
      "1055 (0.0035, 0, 1.5e-07, 7e-08, 250, True, 58, True, 21, 4.5e-05, 0) score: 0.5250023958092243\n",
      "1055 (0.0035, 0, 1.5e-07, 7e-08, 250, True, 58, True, 20, 4.5e-05, 0) score: 0.5251490524992732\n"
     ]
    },
    {
     "data": {
      "application/vnd.jupyter.widget-view+json": {
       "model_id": "6b9de83743424e278154151fbb58c2d0",
       "version_major": 2,
       "version_minor": 0
      },
      "text/plain": [
       "HBox(children=(IntProgress(value=0, max=37144), HTML(value='')))"
      ]
     },
     "metadata": {},
     "output_type": "display_data"
    },
    {
     "name": "stdout",
     "output_type": "stream",
     "text": [
      "\n"
     ]
    },
    {
     "name": "stderr",
     "output_type": "stream",
     "text": [
      "/home/skooch/.local/lib/python3.5/site-packages/sklearn/externals/joblib/parallel.py:547: UserWarning: Multiprocessing-backed parallel loops cannot be nested, setting n_jobs=1\n",
      "  **self._backend_args)\n"
     ]
    },
    {
     "name": "stdout",
     "output_type": "stream",
     "text": [
      "1055 (0.0035, 0, 1.5e-07, 7e-08, 250, True, 76, True, 20, 4.5e-05, 0) score: 0.5203227963338577\n"
     ]
    },
    {
     "data": {
      "application/vnd.jupyter.widget-view+json": {
       "model_id": "fcb3c7b5fed0444a89884a05f8d985a3",
       "version_major": 2,
       "version_minor": 0
      },
      "text/plain": [
       "HBox(children=(IntProgress(value=0, max=36078), HTML(value='')))"
      ]
     },
     "metadata": {},
     "output_type": "display_data"
    },
    {
     "name": "stdout",
     "output_type": "stream",
     "text": [
      "\n"
     ]
    },
    {
     "name": "stderr",
     "output_type": "stream",
     "text": [
      "/home/skooch/.local/lib/python3.5/site-packages/sklearn/externals/joblib/parallel.py:547: UserWarning: Multiprocessing-backed parallel loops cannot be nested, setting n_jobs=1\n",
      "  **self._backend_args)\n"
     ]
    },
    {
     "data": {
      "application/vnd.jupyter.widget-view+json": {
       "model_id": "9782e182379d4527aaec4bfa902f534b",
       "version_major": 2,
       "version_minor": 0
      },
      "text/plain": [
       "HBox(children=(IntProgress(value=0, max=36069), HTML(value='')))"
      ]
     },
     "metadata": {},
     "output_type": "display_data"
    },
    {
     "name": "stdout",
     "output_type": "stream",
     "text": [
      "1055 (0.0035, 0, 1.5e-07, 7e-08, 250, True, 72, True, 20, 4.5e-05, 0) score: 0.5242670022753373\n",
      "\n"
     ]
    },
    {
     "name": "stderr",
     "output_type": "stream",
     "text": [
      "/home/skooch/.local/lib/python3.5/site-packages/sklearn/externals/joblib/parallel.py:547: UserWarning: Multiprocessing-backed parallel loops cannot be nested, setting n_jobs=1\n",
      "  **self._backend_args)\n"
     ]
    },
    {
     "name": "stdout",
     "output_type": "stream",
     "text": [
      "1055 (0.0035, 0, 1.5e-07, 7e-08, 250, True, 72, True, 21, 4.5e-05, 0) score: 0.523171156209628\n"
     ]
    },
    {
     "data": {
      "application/vnd.jupyter.widget-view+json": {
       "model_id": "0b46e210950640f58b2720b7492f3165",
       "version_major": 2,
       "version_minor": 0
      },
      "text/plain": [
       "HBox(children=(IntProgress(value=0, max=32914), HTML(value='')))"
      ]
     },
     "metadata": {},
     "output_type": "display_data"
    },
    {
     "data": {
      "application/vnd.jupyter.widget-view+json": {
       "model_id": "a6687e06aac14a38a0d3253c1ffe3896",
       "version_major": 2,
       "version_minor": 0
      },
      "text/plain": [
       "HBox(children=(IntProgress(value=0, max=32596), HTML(value='')))"
      ]
     },
     "metadata": {},
     "output_type": "display_data"
    },
    {
     "name": "stdout",
     "output_type": "stream",
     "text": [
      "\n"
     ]
    },
    {
     "name": "stderr",
     "output_type": "stream",
     "text": [
      "/home/skooch/.local/lib/python3.5/site-packages/sklearn/externals/joblib/parallel.py:547: UserWarning: Multiprocessing-backed parallel loops cannot be nested, setting n_jobs=1\n",
      "  **self._backend_args)\n"
     ]
    },
    {
     "name": "stdout",
     "output_type": "stream",
     "text": [
      "\n"
     ]
    },
    {
     "name": "stderr",
     "output_type": "stream",
     "text": [
      "/home/skooch/.local/lib/python3.5/site-packages/sklearn/externals/joblib/parallel.py:547: UserWarning: Multiprocessing-backed parallel loops cannot be nested, setting n_jobs=1\n",
      "  **self._backend_args)\n"
     ]
    },
    {
     "name": "stdout",
     "output_type": "stream",
     "text": [
      "1056 (0.0035, 0, 1.5e-07, 7e-08, 250, True, 75, True, 20, 4.5e-05, 0) score: 0.5455755546711961\n",
      "1056 (0.0035, 0, 1.5e-07, 7e-08, 250, True, 72, True, 19, 4.5e-05, 0) score: 0.548262182290436\n"
     ]
    },
    {
     "data": {
      "application/vnd.jupyter.widget-view+json": {
       "model_id": "b5b98fce1c514926bdef76c7fb1a2e56",
       "version_major": 2,
       "version_minor": 0
      },
      "text/plain": [
       "HBox(children=(IntProgress(value=0, max=33477), HTML(value='')))"
      ]
     },
     "metadata": {},
     "output_type": "display_data"
    },
    {
     "name": "stdout",
     "output_type": "stream",
     "text": [
      "\n"
     ]
    },
    {
     "name": "stderr",
     "output_type": "stream",
     "text": [
      "/home/skooch/.local/lib/python3.5/site-packages/sklearn/externals/joblib/parallel.py:547: UserWarning: Multiprocessing-backed parallel loops cannot be nested, setting n_jobs=1\n",
      "  **self._backend_args)\n"
     ]
    },
    {
     "name": "stdout",
     "output_type": "stream",
     "text": [
      "1056 (0.0035, 0, 1.5e-07, 7e-08, 250, True, 76, True, 21, 4.5e-05, 0) score: 0.5384201887715689\n"
     ]
    },
    {
     "data": {
      "application/vnd.jupyter.widget-view+json": {
       "model_id": "64796e16ea404190b5172361962727e0",
       "version_major": 2,
       "version_minor": 0
      },
      "text/plain": [
       "HBox(children=(IntProgress(value=0, max=32351), HTML(value='')))"
      ]
     },
     "metadata": {},
     "output_type": "display_data"
    },
    {
     "name": "stdout",
     "output_type": "stream",
     "text": [
      "\n"
     ]
    },
    {
     "name": "stderr",
     "output_type": "stream",
     "text": [
      "/home/skooch/.local/lib/python3.5/site-packages/sklearn/externals/joblib/parallel.py:547: UserWarning: Multiprocessing-backed parallel loops cannot be nested, setting n_jobs=1\n",
      "  **self._backend_args)\n"
     ]
    },
    {
     "name": "stdout",
     "output_type": "stream",
     "text": [
      "1056 (0.0035, 0, 1.5e-07, 7e-08, 250, True, 58, True, 19, 4.5e-05, 0) score: 0.5485310975386092\n"
     ]
    },
    {
     "data": {
      "application/vnd.jupyter.widget-view+json": {
       "model_id": "6f9a8ddc0e9b498782ec0c05bba5b359",
       "version_major": 2,
       "version_minor": 0
      },
      "text/plain": [
       "HBox(children=(IntProgress(value=0, max=32910), HTML(value='')))"
      ]
     },
     "metadata": {},
     "output_type": "display_data"
    },
    {
     "data": {
      "application/vnd.jupyter.widget-view+json": {
       "model_id": "6ed057d7ebef40e7807568ec35890284",
       "version_major": 2,
       "version_minor": 0
      },
      "text/plain": [
       "HBox(children=(IntProgress(value=0, max=33491), HTML(value='')))"
      ]
     },
     "metadata": {},
     "output_type": "display_data"
    },
    {
     "name": "stdout",
     "output_type": "stream",
     "text": [
      "\n"
     ]
    },
    {
     "name": "stderr",
     "output_type": "stream",
     "text": [
      "/home/skooch/.local/lib/python3.5/site-packages/sklearn/externals/joblib/parallel.py:547: UserWarning: Multiprocessing-backed parallel loops cannot be nested, setting n_jobs=1\n",
      "  **self._backend_args)\n"
     ]
    },
    {
     "name": "stdout",
     "output_type": "stream",
     "text": [
      "\n"
     ]
    },
    {
     "name": "stderr",
     "output_type": "stream",
     "text": [
      "/home/skooch/.local/lib/python3.5/site-packages/sklearn/externals/joblib/parallel.py:547: UserWarning: Multiprocessing-backed parallel loops cannot be nested, setting n_jobs=1\n",
      "  **self._backend_args)\n"
     ]
    },
    {
     "name": "stdout",
     "output_type": "stream",
     "text": [
      "1056 (0.0035, 0, 1.5e-07, 7e-08, 250, True, 75, True, 21, 4.5e-05, 0) score: 0.5453590766016487\n",
      "1056 (0.0035, 0, 1.5e-07, 7e-08, 250, True, 76, True, 19, 4.5e-05, 0) score: 0.5384479246936767\n"
     ]
    },
    {
     "data": {
      "application/vnd.jupyter.widget-view+json": {
       "model_id": "73a2c7929425429eb675e288598ad7d0",
       "version_major": 2,
       "version_minor": 0
      },
      "text/plain": [
       "HBox(children=(IntProgress(value=0, max=32327), HTML(value='')))"
      ]
     },
     "metadata": {},
     "output_type": "display_data"
    },
    {
     "name": "stdout",
     "output_type": "stream",
     "text": [
      "\n"
     ]
    },
    {
     "name": "stderr",
     "output_type": "stream",
     "text": [
      "/home/skooch/.local/lib/python3.5/site-packages/sklearn/externals/joblib/parallel.py:547: UserWarning: Multiprocessing-backed parallel loops cannot be nested, setting n_jobs=1\n",
      "  **self._backend_args)\n"
     ]
    },
    {
     "data": {
      "application/vnd.jupyter.widget-view+json": {
       "model_id": "7c43726c016c4cdf97b803dec98afbef",
       "version_major": 2,
       "version_minor": 0
      },
      "text/plain": [
       "HBox(children=(IntProgress(value=0, max=32933), HTML(value='')))"
      ]
     },
     "metadata": {},
     "output_type": "display_data"
    },
    {
     "name": "stdout",
     "output_type": "stream",
     "text": [
      "1056 (0.0035, 0, 1.5e-07, 7e-08, 250, True, 58, True, 20, 4.5e-05, 0) score: 0.5486944956901563\n",
      "\n"
     ]
    },
    {
     "name": "stderr",
     "output_type": "stream",
     "text": [
      "/home/skooch/.local/lib/python3.5/site-packages/sklearn/externals/joblib/parallel.py:547: UserWarning: Multiprocessing-backed parallel loops cannot be nested, setting n_jobs=1\n",
      "  **self._backend_args)\n"
     ]
    },
    {
     "data": {
      "application/vnd.jupyter.widget-view+json": {
       "model_id": "230278c7a7814418975712cce2b77e0b",
       "version_major": 2,
       "version_minor": 0
      },
      "text/plain": [
       "HBox(children=(IntProgress(value=0, max=32317), HTML(value='')))"
      ]
     },
     "metadata": {},
     "output_type": "display_data"
    },
    {
     "name": "stdout",
     "output_type": "stream",
     "text": [
      "1056 (0.0035, 0, 1.5e-07, 7e-08, 250, True, 75, True, 19, 4.5e-05, 0) score: 0.5453541116770302\n",
      "\n"
     ]
    },
    {
     "name": "stderr",
     "output_type": "stream",
     "text": [
      "/home/skooch/.local/lib/python3.5/site-packages/sklearn/externals/joblib/parallel.py:547: UserWarning: Multiprocessing-backed parallel loops cannot be nested, setting n_jobs=1\n",
      "  **self._backend_args)\n"
     ]
    },
    {
     "name": "stdout",
     "output_type": "stream",
     "text": [
      "1056 (0.0035, 0, 1.5e-07, 7e-08, 250, True, 58, True, 21, 4.5e-05, 0) score: 0.548081255291794\n"
     ]
    },
    {
     "data": {
      "application/vnd.jupyter.widget-view+json": {
       "model_id": "a58fc9d705ee43d9b6aa0cd0adc5ed03",
       "version_major": 2,
       "version_minor": 0
      },
      "text/plain": [
       "HBox(children=(IntProgress(value=0, max=33482), HTML(value='')))"
      ]
     },
     "metadata": {},
     "output_type": "display_data"
    },
    {
     "name": "stdout",
     "output_type": "stream",
     "text": [
      "\n"
     ]
    },
    {
     "name": "stderr",
     "output_type": "stream",
     "text": [
      "/home/skooch/.local/lib/python3.5/site-packages/sklearn/externals/joblib/parallel.py:547: UserWarning: Multiprocessing-backed parallel loops cannot be nested, setting n_jobs=1\n",
      "  **self._backend_args)\n"
     ]
    },
    {
     "name": "stdout",
     "output_type": "stream",
     "text": [
      "1056 (0.0035, 0, 1.5e-07, 7e-08, 250, True, 76, True, 20, 4.5e-05, 0) score: 0.5387666617509932\n"
     ]
    },
    {
     "data": {
      "application/vnd.jupyter.widget-view+json": {
       "model_id": "d809e9a76c2a4c308cd87088280f995b",
       "version_major": 2,
       "version_minor": 0
      },
      "text/plain": [
       "HBox(children=(IntProgress(value=0, max=32583), HTML(value='')))"
      ]
     },
     "metadata": {},
     "output_type": "display_data"
    },
    {
     "name": "stdout",
     "output_type": "stream",
     "text": [
      "\n"
     ]
    },
    {
     "name": "stderr",
     "output_type": "stream",
     "text": [
      "/home/skooch/.local/lib/python3.5/site-packages/sklearn/externals/joblib/parallel.py:547: UserWarning: Multiprocessing-backed parallel loops cannot be nested, setting n_jobs=1\n",
      "  **self._backend_args)\n"
     ]
    },
    {
     "name": "stdout",
     "output_type": "stream",
     "text": [
      "1056 (0.0035, 0, 1.5e-07, 7e-08, 250, True, 72, True, 20, 4.5e-05, 0) score: 0.5487875238766916\n"
     ]
    },
    {
     "data": {
      "application/vnd.jupyter.widget-view+json": {
       "model_id": "4b54237cc69a439fb2c5fdae498b9688",
       "version_major": 2,
       "version_minor": 0
      },
      "text/plain": [
       "HBox(children=(IntProgress(value=0, max=32580), HTML(value='')))"
      ]
     },
     "metadata": {},
     "output_type": "display_data"
    },
    {
     "name": "stdout",
     "output_type": "stream",
     "text": [
      "\n"
     ]
    },
    {
     "name": "stderr",
     "output_type": "stream",
     "text": [
      "/home/skooch/.local/lib/python3.5/site-packages/sklearn/externals/joblib/parallel.py:547: UserWarning: Multiprocessing-backed parallel loops cannot be nested, setting n_jobs=1\n",
      "  **self._backend_args)\n"
     ]
    },
    {
     "name": "stdout",
     "output_type": "stream",
     "text": [
      "1056 (0.0035, 0, 1.5e-07, 7e-08, 250, True, 72, True, 21, 4.5e-05, 0) score: 0.5486243340639806\n"
     ]
    },
    {
     "data": {
      "application/vnd.jupyter.widget-view+json": {
       "model_id": "cb40bdf6f4104293b019693528eea5de",
       "version_major": 2,
       "version_minor": 0
      },
      "text/plain": [
       "HBox(children=(IntProgress(value=0, max=33415), HTML(value='')))"
      ]
     },
     "metadata": {},
     "output_type": "display_data"
    },
    {
     "name": "stdout",
     "output_type": "stream",
     "text": [
      "\n"
     ]
    },
    {
     "name": "stderr",
     "output_type": "stream",
     "text": [
      "/home/skooch/.local/lib/python3.5/site-packages/sklearn/externals/joblib/parallel.py:547: UserWarning: Multiprocessing-backed parallel loops cannot be nested, setting n_jobs=1\n",
      "  **self._backend_args)\n"
     ]
    },
    {
     "name": "stdout",
     "output_type": "stream",
     "text": [
      "1057 (0.0035, 0, 1.5e-07, 7e-08, 250, True, 75, True, 20, 4.5e-05, 0) score: 0.5404602011052693\n"
     ]
    },
    {
     "data": {
      "application/vnd.jupyter.widget-view+json": {
       "model_id": "be512b1d043b4862a973e7b0d91798af",
       "version_major": 2,
       "version_minor": 0
      },
      "text/plain": [
       "HBox(children=(IntProgress(value=0, max=33215), HTML(value='')))"
      ]
     },
     "metadata": {},
     "output_type": "display_data"
    },
    {
     "data": {
      "application/vnd.jupyter.widget-view+json": {
       "model_id": "58c4277d2ad246ecba398dd81adc8726",
       "version_major": 2,
       "version_minor": 0
      },
      "text/plain": [
       "HBox(children=(IntProgress(value=0, max=34145), HTML(value='')))"
      ]
     },
     "metadata": {},
     "output_type": "display_data"
    },
    {
     "name": "stdout",
     "output_type": "stream",
     "text": [
      "\n"
     ]
    },
    {
     "name": "stderr",
     "output_type": "stream",
     "text": [
      "/home/skooch/.local/lib/python3.5/site-packages/sklearn/externals/joblib/parallel.py:547: UserWarning: Multiprocessing-backed parallel loops cannot be nested, setting n_jobs=1\n",
      "  **self._backend_args)\n"
     ]
    },
    {
     "name": "stdout",
     "output_type": "stream",
     "text": [
      "\n"
     ]
    },
    {
     "name": "stderr",
     "output_type": "stream",
     "text": [
      "/home/skooch/.local/lib/python3.5/site-packages/sklearn/externals/joblib/parallel.py:547: UserWarning: Multiprocessing-backed parallel loops cannot be nested, setting n_jobs=1\n",
      "  **self._backend_args)\n"
     ]
    },
    {
     "data": {
      "application/vnd.jupyter.widget-view+json": {
       "model_id": "c8c9a99404f6404abcf0c2b1816cbcd3",
       "version_major": 2,
       "version_minor": 0
      },
      "text/plain": [
       "HBox(children=(IntProgress(value=0, max=34169), HTML(value='')))"
      ]
     },
     "metadata": {},
     "output_type": "display_data"
    },
    {
     "name": "stdout",
     "output_type": "stream",
     "text": [
      "1057 (0.0035, 0, 1.5e-07, 7e-08, 250, True, 72, True, 19, 4.5e-05, 0) score: 0.5427412707768942\n",
      "\n",
      "1057 (0.0035, 0, 1.5e-07, 7e-08, 250, True, 76, True, 21, 4.5e-05, 0) score: 0.5344836364706029\n"
     ]
    },
    {
     "name": "stderr",
     "output_type": "stream",
     "text": [
      "/home/skooch/.local/lib/python3.5/site-packages/sklearn/externals/joblib/parallel.py:547: UserWarning: Multiprocessing-backed parallel loops cannot be nested, setting n_jobs=1\n",
      "  **self._backend_args)\n"
     ]
    },
    {
     "name": "stdout",
     "output_type": "stream",
     "text": [
      "1057 (0.0035, 0, 1.5e-07, 7e-08, 250, True, 76, True, 19, 4.5e-05, 0) score: 0.5341165873453144\n"
     ]
    },
    {
     "data": {
      "application/vnd.jupyter.widget-view+json": {
       "model_id": "e667bc1ac3bb43cb9920f5b88055e0ae",
       "version_major": 2,
       "version_minor": 0
      },
      "text/plain": [
       "HBox(children=(IntProgress(value=0, max=32937), HTML(value='')))"
      ]
     },
     "metadata": {},
     "output_type": "display_data"
    },
    {
     "name": "stdout",
     "output_type": "stream",
     "text": [
      "\n"
     ]
    },
    {
     "name": "stderr",
     "output_type": "stream",
     "text": [
      "/home/skooch/.local/lib/python3.5/site-packages/sklearn/externals/joblib/parallel.py:547: UserWarning: Multiprocessing-backed parallel loops cannot be nested, setting n_jobs=1\n",
      "  **self._backend_args)\n"
     ]
    },
    {
     "name": "stdout",
     "output_type": "stream",
     "text": [
      "1057 (0.0035, 0, 1.5e-07, 7e-08, 250, True, 58, True, 19, 4.5e-05, 0) score: 0.5446642649451123\n"
     ]
    },
    {
     "data": {
      "application/vnd.jupyter.widget-view+json": {
       "model_id": "364a9343eaad454a9567d89042e7502e",
       "version_major": 2,
       "version_minor": 0
      },
      "text/plain": [
       "HBox(children=(IntProgress(value=0, max=33411), HTML(value='')))"
      ]
     },
     "metadata": {},
     "output_type": "display_data"
    },
    {
     "name": "stdout",
     "output_type": "stream",
     "text": [
      "\n"
     ]
    },
    {
     "name": "stderr",
     "output_type": "stream",
     "text": [
      "/home/skooch/.local/lib/python3.5/site-packages/sklearn/externals/joblib/parallel.py:547: UserWarning: Multiprocessing-backed parallel loops cannot be nested, setting n_jobs=1\n",
      "  **self._backend_args)\n"
     ]
    },
    {
     "name": "stdout",
     "output_type": "stream",
     "text": [
      "1057 (0.0035, 0, 1.5e-07, 7e-08, 250, True, 75, True, 21, 4.5e-05, 0) score: 0.540639638017353\n"
     ]
    },
    {
     "data": {
      "application/vnd.jupyter.widget-view+json": {
       "model_id": "b0509ad30cb745e8ad08dfd10d13ec6a",
       "version_major": 2,
       "version_minor": 0
      },
      "text/plain": [
       "HBox(children=(IntProgress(value=0, max=32917), HTML(value='')))"
      ]
     },
     "metadata": {},
     "output_type": "display_data"
    },
    {
     "name": "stdout",
     "output_type": "stream",
     "text": [
      "\n"
     ]
    },
    {
     "data": {
      "application/vnd.jupyter.widget-view+json": {
       "model_id": "ad2f7bd09ecf4ed2a8d2d3f50d8421ff",
       "version_major": 2,
       "version_minor": 0
      },
      "text/plain": [
       "HBox(children=(IntProgress(value=0, max=33434), HTML(value='')))"
      ]
     },
     "metadata": {},
     "output_type": "display_data"
    },
    {
     "name": "stderr",
     "output_type": "stream",
     "text": [
      "/home/skooch/.local/lib/python3.5/site-packages/sklearn/externals/joblib/parallel.py:547: UserWarning: Multiprocessing-backed parallel loops cannot be nested, setting n_jobs=1\n",
      "  **self._backend_args)\n"
     ]
    },
    {
     "name": "stdout",
     "output_type": "stream",
     "text": [
      "\n"
     ]
    },
    {
     "name": "stderr",
     "output_type": "stream",
     "text": [
      "/home/skooch/.local/lib/python3.5/site-packages/sklearn/externals/joblib/parallel.py:547: UserWarning: Multiprocessing-backed parallel loops cannot be nested, setting n_jobs=1\n",
      "  **self._backend_args)\n"
     ]
    },
    {
     "name": "stdout",
     "output_type": "stream",
     "text": [
      "1057 (0.0035, 0, 1.5e-07, 7e-08, 250, True, 58, True, 20, 4.5e-05, 0) score: 0.5452769284602939\n",
      "1057 (0.0035, 0, 1.5e-07, 7e-08, 250, True, 75, True, 19, 4.5e-05, 0) score: 0.5401983509505104\n"
     ]
    },
    {
     "data": {
      "application/vnd.jupyter.widget-view+json": {
       "model_id": "25d78f52fddb4eb38da7157a74ad3484",
       "version_major": 2,
       "version_minor": 0
      },
      "text/plain": [
       "HBox(children=(IntProgress(value=0, max=32914), HTML(value='')))"
      ]
     },
     "metadata": {},
     "output_type": "display_data"
    },
    {
     "name": "stdout",
     "output_type": "stream",
     "text": [
      "\n"
     ]
    },
    {
     "name": "stderr",
     "output_type": "stream",
     "text": [
      "/home/skooch/.local/lib/python3.5/site-packages/sklearn/externals/joblib/parallel.py:547: UserWarning: Multiprocessing-backed parallel loops cannot be nested, setting n_jobs=1\n",
      "  **self._backend_args)\n"
     ]
    },
    {
     "data": {
      "application/vnd.jupyter.widget-view+json": {
       "model_id": "8c306e224b0c47a687cf3db15fbf840f",
       "version_major": 2,
       "version_minor": 0
      },
      "text/plain": [
       "HBox(children=(IntProgress(value=0, max=34151), HTML(value='')))"
      ]
     },
     "metadata": {},
     "output_type": "display_data"
    },
    {
     "name": "stdout",
     "output_type": "stream",
     "text": [
      "1057 (0.0035, 0, 1.5e-07, 7e-08, 250, True, 58, True, 21, 4.5e-05, 0) score: 0.5452164503044252\n",
      "\n"
     ]
    },
    {
     "name": "stderr",
     "output_type": "stream",
     "text": [
      "/home/skooch/.local/lib/python3.5/site-packages/sklearn/externals/joblib/parallel.py:547: UserWarning: Multiprocessing-backed parallel loops cannot be nested, setting n_jobs=1\n",
      "  **self._backend_args)\n"
     ]
    },
    {
     "name": "stdout",
     "output_type": "stream",
     "text": [
      "1057 (0.0035, 0, 1.5e-07, 7e-08, 250, True, 76, True, 20, 4.5e-05, 0) score: 0.5345299528110626\n"
     ]
    },
    {
     "data": {
      "application/vnd.jupyter.widget-view+json": {
       "model_id": "866e60be7b0342829a178d2ffb8ad3b7",
       "version_major": 2,
       "version_minor": 0
      },
      "text/plain": [
       "HBox(children=(IntProgress(value=0, max=33187), HTML(value='')))"
      ]
     },
     "metadata": {},
     "output_type": "display_data"
    },
    {
     "name": "stdout",
     "output_type": "stream",
     "text": [
      "\n"
     ]
    },
    {
     "data": {
      "application/vnd.jupyter.widget-view+json": {
       "model_id": "6f3aca3384bd456987f8cc0c0e20ba07",
       "version_major": 2,
       "version_minor": 0
      },
      "text/plain": [
       "HBox(children=(IntProgress(value=0, max=33193), HTML(value='')))"
      ]
     },
     "metadata": {},
     "output_type": "display_data"
    },
    {
     "name": "stderr",
     "output_type": "stream",
     "text": [
      "/home/skooch/.local/lib/python3.5/site-packages/sklearn/externals/joblib/parallel.py:547: UserWarning: Multiprocessing-backed parallel loops cannot be nested, setting n_jobs=1\n",
      "  **self._backend_args)\n"
     ]
    },
    {
     "name": "stdout",
     "output_type": "stream",
     "text": [
      "\n"
     ]
    },
    {
     "name": "stderr",
     "output_type": "stream",
     "text": [
      "/home/skooch/.local/lib/python3.5/site-packages/sklearn/externals/joblib/parallel.py:547: UserWarning: Multiprocessing-backed parallel loops cannot be nested, setting n_jobs=1\n",
      "  **self._backend_args)\n"
     ]
    },
    {
     "name": "stdout",
     "output_type": "stream",
     "text": [
      "1057 (0.0035, 0, 1.5e-07, 7e-08, 250, True, 72, True, 21, 4.5e-05, 0) score: 0.5431724590045188\n",
      "1057 (0.0035, 0, 1.5e-07, 7e-08, 250, True, 72, True, 20, 4.5e-05, 0) score: 0.5432923269944001\n"
     ]
    },
    {
     "data": {
      "application/vnd.jupyter.widget-view+json": {
       "model_id": "d39bb7a1890348a5b2e1bd158eaf482c",
       "version_major": 2,
       "version_minor": 0
      },
      "text/plain": [
       "HBox(children=(IntProgress(value=0, max=40119), HTML(value='')))"
      ]
     },
     "metadata": {},
     "output_type": "display_data"
    },
    {
     "name": "stdout",
     "output_type": "stream",
     "text": [
      "\n"
     ]
    },
    {
     "data": {
      "application/vnd.jupyter.widget-view+json": {
       "model_id": "8eb74f99897e43c1b96fb6b2213f2f9e",
       "version_major": 2,
       "version_minor": 0
      },
      "text/plain": [
       "HBox(children=(IntProgress(value=0, max=39275), HTML(value='')))"
      ]
     },
     "metadata": {},
     "output_type": "display_data"
    },
    {
     "name": "stderr",
     "output_type": "stream",
     "text": [
      "/home/skooch/.local/lib/python3.5/site-packages/sklearn/externals/joblib/parallel.py:547: UserWarning: Multiprocessing-backed parallel loops cannot be nested, setting n_jobs=1\n",
      "  **self._backend_args)\n"
     ]
    },
    {
     "name": "stdout",
     "output_type": "stream",
     "text": [
      "\n",
      "1058 (0.0035, 0, 1.5e-07, 7e-08, 250, True, 76, True, 19, 4.5e-05, 0) score: 0.5206320214695097\n"
     ]
    },
    {
     "name": "stderr",
     "output_type": "stream",
     "text": [
      "/home/skooch/.local/lib/python3.5/site-packages/sklearn/externals/joblib/parallel.py:547: UserWarning: Multiprocessing-backed parallel loops cannot be nested, setting n_jobs=1\n",
      "  **self._backend_args)\n"
     ]
    },
    {
     "data": {
      "application/vnd.jupyter.widget-view+json": {
       "model_id": "ef4a3e44647b4f4ea59ad2a4c986bd0f",
       "version_major": 2,
       "version_minor": 0
      },
      "text/plain": [
       "HBox(children=(IntProgress(value=0, max=39437), HTML(value='')))"
      ]
     },
     "metadata": {},
     "output_type": "display_data"
    },
    {
     "name": "stdout",
     "output_type": "stream",
     "text": [
      "1058 (0.0035, 0, 1.5e-07, 7e-08, 250, True, 72, True, 19, 4.5e-05, 0) score: 0.5223672643689952\n",
      "\n"
     ]
    },
    {
     "name": "stderr",
     "output_type": "stream",
     "text": [
      "/home/skooch/.local/lib/python3.5/site-packages/sklearn/externals/joblib/parallel.py:547: UserWarning: Multiprocessing-backed parallel loops cannot be nested, setting n_jobs=1\n",
      "  **self._backend_args)\n"
     ]
    },
    {
     "name": "stdout",
     "output_type": "stream",
     "text": [
      "1058 (0.0035, 0, 1.5e-07, 7e-08, 250, True, 75, True, 20, 4.5e-05, 0) score: 0.5235850467429373\n"
     ]
    },
    {
     "data": {
      "application/vnd.jupyter.widget-view+json": {
       "model_id": "d68b12d7ecb94de6b43e1b4a2c31b1ab",
       "version_major": 2,
       "version_minor": 0
      },
      "text/plain": [
       "HBox(children=(IntProgress(value=0, max=38993), HTML(value='')))"
      ]
     },
     "metadata": {},
     "output_type": "display_data"
    },
    {
     "name": "stdout",
     "output_type": "stream",
     "text": [
      "\n"
     ]
    },
    {
     "data": {
      "application/vnd.jupyter.widget-view+json": {
       "model_id": "07111c5a27214548982018a5280641eb",
       "version_major": 2,
       "version_minor": 0
      },
      "text/plain": [
       "HBox(children=(IntProgress(value=0, max=40067), HTML(value='')))"
      ]
     },
     "metadata": {},
     "output_type": "display_data"
    },
    {
     "name": "stderr",
     "output_type": "stream",
     "text": [
      "/home/skooch/.local/lib/python3.5/site-packages/sklearn/externals/joblib/parallel.py:547: UserWarning: Multiprocessing-backed parallel loops cannot be nested, setting n_jobs=1\n",
      "  **self._backend_args)\n"
     ]
    },
    {
     "name": "stdout",
     "output_type": "stream",
     "text": [
      "\n"
     ]
    },
    {
     "data": {
      "application/vnd.jupyter.widget-view+json": {
       "model_id": "800a64caa9e64d348f17f3c42b0a4abb",
       "version_major": 2,
       "version_minor": 0
      },
      "text/plain": [
       "HBox(children=(IntProgress(value=0, max=39429), HTML(value='')))"
      ]
     },
     "metadata": {},
     "output_type": "display_data"
    },
    {
     "name": "stdout",
     "output_type": "stream",
     "text": [
      "1058 (0.0035, 0, 1.5e-07, 7e-08, 250, True, 58, True, 19, 4.5e-05, 0) score: 0.5242909840817447\n"
     ]
    },
    {
     "name": "stderr",
     "output_type": "stream",
     "text": [
      "/home/skooch/.local/lib/python3.5/site-packages/sklearn/externals/joblib/parallel.py:547: UserWarning: Multiprocessing-backed parallel loops cannot be nested, setting n_jobs=1\n",
      "  **self._backend_args)\n"
     ]
    },
    {
     "name": "stdout",
     "output_type": "stream",
     "text": [
      "\n"
     ]
    },
    {
     "name": "stderr",
     "output_type": "stream",
     "text": [
      "/home/skooch/.local/lib/python3.5/site-packages/sklearn/externals/joblib/parallel.py:547: UserWarning: Multiprocessing-backed parallel loops cannot be nested, setting n_jobs=1\n",
      "  **self._backend_args)\n"
     ]
    },
    {
     "name": "stdout",
     "output_type": "stream",
     "text": [
      "1058 (0.0035, 0, 1.5e-07, 7e-08, 250, True, 76, True, 21, 4.5e-05, 0) score: 0.5206176978379062\n",
      "1058 (0.0035, 0, 1.5e-07, 7e-08, 250, True, 75, True, 21, 4.5e-05, 0) score: 0.5233810757079027\n"
     ]
    },
    {
     "data": {
      "application/vnd.jupyter.widget-view+json": {
       "model_id": "5b722b6e775748baa63eadcfac0fab8f",
       "version_major": 2,
       "version_minor": 0
      },
      "text/plain": [
       "HBox(children=(IntProgress(value=0, max=40068), HTML(value='')))"
      ]
     },
     "metadata": {},
     "output_type": "display_data"
    },
    {
     "data": {
      "application/vnd.jupyter.widget-view+json": {
       "model_id": "3d35bdcd9eea488cb49261007e7e1e65",
       "version_major": 2,
       "version_minor": 0
      },
      "text/plain": [
       "HBox(children=(IntProgress(value=0, max=38944), HTML(value='')))"
      ]
     },
     "metadata": {},
     "output_type": "display_data"
    },
    {
     "name": "stdout",
     "output_type": "stream",
     "text": [
      "\n",
      "\n"
     ]
    },
    {
     "name": "stderr",
     "output_type": "stream",
     "text": [
      "/home/skooch/.local/lib/python3.5/site-packages/sklearn/externals/joblib/parallel.py:547: UserWarning: Multiprocessing-backed parallel loops cannot be nested, setting n_jobs=1\n",
      "  **self._backend_args)\n",
      "/home/skooch/.local/lib/python3.5/site-packages/sklearn/externals/joblib/parallel.py:547: UserWarning: Multiprocessing-backed parallel loops cannot be nested, setting n_jobs=1\n",
      "  **self._backend_args)\n"
     ]
    },
    {
     "name": "stdout",
     "output_type": "stream",
     "text": [
      "1058 (0.0035, 0, 1.5e-07, 7e-08, 250, True, 58, True, 20, 4.5e-05, 0) score: 0.5252112038497216\n",
      "1058 (0.0035, 0, 1.5e-07, 7e-08, 250, True, 76, True, 20, 4.5e-05, 0) score: 0.5212183540729711\n"
     ]
    },
    {
     "data": {
      "application/vnd.jupyter.widget-view+json": {
       "model_id": "fc7cebd9534b4400b3e17735d1030578",
       "version_major": 2,
       "version_minor": 0
      },
      "text/plain": [
       "HBox(children=(IntProgress(value=0, max=39478), HTML(value='')))"
      ]
     },
     "metadata": {},
     "output_type": "display_data"
    },
    {
     "data": {
      "application/vnd.jupyter.widget-view+json": {
       "model_id": "e2307ed00e904120bc34552fda62349c",
       "version_major": 2,
       "version_minor": 0
      },
      "text/plain": [
       "HBox(children=(IntProgress(value=0, max=38944), HTML(value='')))"
      ]
     },
     "metadata": {},
     "output_type": "display_data"
    },
    {
     "name": "stdout",
     "output_type": "stream",
     "text": [
      "\n",
      "\n"
     ]
    },
    {
     "name": "stderr",
     "output_type": "stream",
     "text": [
      "/home/skooch/.local/lib/python3.5/site-packages/sklearn/externals/joblib/parallel.py:547: UserWarning: Multiprocessing-backed parallel loops cannot be nested, setting n_jobs=1\n",
      "  **self._backend_args)\n",
      "/home/skooch/.local/lib/python3.5/site-packages/sklearn/externals/joblib/parallel.py:547: UserWarning: Multiprocessing-backed parallel loops cannot be nested, setting n_jobs=1\n",
      "  **self._backend_args)\n"
     ]
    },
    {
     "name": "stdout",
     "output_type": "stream",
     "text": [
      "1058 (0.0035, 0, 1.5e-07, 7e-08, 250, True, 58, True, 21, 4.5e-05, 0) score: 0.524777234926205\n",
      "1058 (0.0035, 0, 1.5e-07, 7e-08, 250, True, 75, True, 19, 4.5e-05, 0) score: 0.5235915260871025\n"
     ]
    },
    {
     "data": {
      "application/vnd.jupyter.widget-view+json": {
       "model_id": "5e65d5e665cd4d49ab0891d64ec4b225",
       "version_major": 2,
       "version_minor": 0
      },
      "text/plain": [
       "HBox(children=(IntProgress(value=0, max=39226), HTML(value='')))"
      ]
     },
     "metadata": {},
     "output_type": "display_data"
    },
    {
     "name": "stdout",
     "output_type": "stream",
     "text": [
      "\n"
     ]
    },
    {
     "name": "stderr",
     "output_type": "stream",
     "text": [
      "/home/skooch/.local/lib/python3.5/site-packages/sklearn/externals/joblib/parallel.py:547: UserWarning: Multiprocessing-backed parallel loops cannot be nested, setting n_jobs=1\n",
      "  **self._backend_args)\n"
     ]
    },
    {
     "name": "stdout",
     "output_type": "stream",
     "text": [
      "1058 (0.0035, 0, 1.5e-07, 7e-08, 250, True, 72, True, 21, 4.5e-05, 0) score: 0.5223522500957642\n"
     ]
    },
    {
     "data": {
      "application/vnd.jupyter.widget-view+json": {
       "model_id": "775927a6f2c049c9ae03a647e87af113",
       "version_major": 2,
       "version_minor": 0
      },
      "text/plain": [
       "HBox(children=(IntProgress(value=0, max=39223), HTML(value='')))"
      ]
     },
     "metadata": {},
     "output_type": "display_data"
    },
    {
     "name": "stdout",
     "output_type": "stream",
     "text": [
      "\n"
     ]
    },
    {
     "name": "stderr",
     "output_type": "stream",
     "text": [
      "/home/skooch/.local/lib/python3.5/site-packages/sklearn/externals/joblib/parallel.py:547: UserWarning: Multiprocessing-backed parallel loops cannot be nested, setting n_jobs=1\n",
      "  **self._backend_args)\n"
     ]
    },
    {
     "name": "stdout",
     "output_type": "stream",
     "text": [
      "1058 (0.0035, 0, 1.5e-07, 7e-08, 250, True, 72, True, 20, 4.5e-05, 0) score: 0.5232549427382764\n"
     ]
    },
    {
     "data": {
      "application/vnd.jupyter.widget-view+json": {
       "model_id": "ab34608a84e44c71aea73e0b46e27c8e",
       "version_major": 2,
       "version_minor": 0
      },
      "text/plain": [
       "HBox(children=(IntProgress(value=0, max=36154), HTML(value='')))"
      ]
     },
     "metadata": {},
     "output_type": "display_data"
    },
    {
     "name": "stdout",
     "output_type": "stream",
     "text": [
      "\n"
     ]
    },
    {
     "name": "stderr",
     "output_type": "stream",
     "text": [
      "/home/skooch/.local/lib/python3.5/site-packages/sklearn/externals/joblib/parallel.py:547: UserWarning: Multiprocessing-backed parallel loops cannot be nested, setting n_jobs=1\n",
      "  **self._backend_args)\n"
     ]
    },
    {
     "name": "stdout",
     "output_type": "stream",
     "text": [
      "1059 (0.0035, 0, 1.5e-07, 7e-08, 250, True, 72, True, 19, 4.5e-05, 0) score: 0.5331973998947888\n",
      "[1213, [0.0035, 0, 1.5e-07, 7e-08, 250, 'eps', 72, True, 19, 4.5e-05, 0, 0.5313240713460706]]\n"
     ]
    },
    {
     "data": {
      "application/vnd.jupyter.widget-view+json": {
       "model_id": "c1a7bb967bb240339f315229c4f59ea9",
       "version_major": 2,
       "version_minor": 0
      },
      "text/plain": [
       "HBox(children=(IntProgress(value=0, max=37047), HTML(value='')))"
      ]
     },
     "metadata": {},
     "output_type": "display_data"
    },
    {
     "name": "stdout",
     "output_type": "stream",
     "text": [
      "\n"
     ]
    },
    {
     "name": "stderr",
     "output_type": "stream",
     "text": [
      "/home/skooch/.local/lib/python3.5/site-packages/sklearn/externals/joblib/parallel.py:547: UserWarning: Multiprocessing-backed parallel loops cannot be nested, setting n_jobs=1\n",
      "  **self._backend_args)\n"
     ]
    },
    {
     "data": {
      "application/vnd.jupyter.widget-view+json": {
       "model_id": "b35af4c1d14c42e7a71408196db16ba3",
       "version_major": 2,
       "version_minor": 0
      },
      "text/plain": [
       "HBox(children=(IntProgress(value=0, max=36338), HTML(value='')))"
      ]
     },
     "metadata": {},
     "output_type": "display_data"
    },
    {
     "name": "stdout",
     "output_type": "stream",
     "text": [
      "1059 (0.0035, 0, 1.5e-07, 7e-08, 250, True, 76, True, 19, 4.5e-05, 0) score: 0.5287384152334198\n",
      "[1222, [0.0035, 0, 1.5e-07, 7e-08, 250, 'eps', 76, True, 19, 4.5e-05, 0, 0.5256092804581082]]\n",
      "\n"
     ]
    },
    {
     "name": "stderr",
     "output_type": "stream",
     "text": [
      "/home/skooch/.local/lib/python3.5/site-packages/sklearn/externals/joblib/parallel.py:547: UserWarning: Multiprocessing-backed parallel loops cannot be nested, setting n_jobs=1\n",
      "  **self._backend_args)\n"
     ]
    },
    {
     "name": "stdout",
     "output_type": "stream",
     "text": [
      "1059 (0.0035, 0, 1.5e-07, 7e-08, 250, True, 75, True, 20, 4.5e-05, 0) score: 0.532319437836577\n",
      "[1215, [0.0035, 0, 1.5e-07, 7e-08, 250, 'eps', 75, True, 20, 4.5e-05, 0, 0.529736970401258]]\n"
     ]
    },
    {
     "data": {
      "application/vnd.jupyter.widget-view+json": {
       "model_id": "6a9943bb17644c2bab1defd604ecd26c",
       "version_major": 2,
       "version_minor": 0
      },
      "text/plain": [
       "HBox(children=(IntProgress(value=0, max=35912), HTML(value='')))"
      ]
     },
     "metadata": {},
     "output_type": "display_data"
    },
    {
     "data": {
      "application/vnd.jupyter.widget-view+json": {
       "model_id": "89086458342d4eefa1b53c879b9b73da",
       "version_major": 2,
       "version_minor": 0
      },
      "text/plain": [
       "HBox(children=(IntProgress(value=0, max=35931), HTML(value='')))"
      ]
     },
     "metadata": {},
     "output_type": "display_data"
    },
    {
     "name": "stdout",
     "output_type": "stream",
     "text": [
      "\n"
     ]
    },
    {
     "name": "stderr",
     "output_type": "stream",
     "text": [
      "/home/skooch/.local/lib/python3.5/site-packages/sklearn/externals/joblib/parallel.py:547: UserWarning: Multiprocessing-backed parallel loops cannot be nested, setting n_jobs=1\n",
      "  **self._backend_args)\n"
     ]
    },
    {
     "name": "stdout",
     "output_type": "stream",
     "text": [
      "\n"
     ]
    },
    {
     "name": "stderr",
     "output_type": "stream",
     "text": [
      "/home/skooch/.local/lib/python3.5/site-packages/sklearn/externals/joblib/parallel.py:547: UserWarning: Multiprocessing-backed parallel loops cannot be nested, setting n_jobs=1\n",
      "  **self._backend_args)\n"
     ]
    },
    {
     "name": "stdout",
     "output_type": "stream",
     "text": [
      "1059 (0.0035, 0, 1.5e-07, 7e-08, 250, True, 58, True, 20, 4.5e-05, 0) score: 0.5312418811804491\n",
      "[1218, [0.0035, 0, 1.5e-07, 7e-08, 250, 'eps', 58, True, 20, 4.5e-05, 0, 0.5315547694334251]]\n"
     ]
    },
    {
     "data": {
      "application/vnd.jupyter.widget-view+json": {
       "model_id": "f917bdbb7060432584120cdf311b05a9",
       "version_major": 2,
       "version_minor": 0
      },
      "text/plain": [
       "HBox(children=(IntProgress(value=0, max=36337), HTML(value='')))"
      ]
     },
     "metadata": {},
     "output_type": "display_data"
    },
    {
     "name": "stdout",
     "output_type": "stream",
     "text": [
      "1059 (0.0035, 0, 1.5e-07, 7e-08, 250, True, 58, True, 19, 4.5e-05, 0) score: 0.5312066339097328\n",
      "[1219, [0.0035, 0, 1.5e-07, 7e-08, 250, 'eps', 58, True, 19, 4.5e-05, 0, 0.5316578159410583]]\n"
     ]
    },
    {
     "data": {
      "application/vnd.jupyter.widget-view+json": {
       "model_id": "49976c33202648ecac900ca4f6cd4420",
       "version_major": 2,
       "version_minor": 0
      },
      "text/plain": [
       "HBox(children=(IntProgress(value=0, max=37023), HTML(value='')))"
      ]
     },
     "metadata": {},
     "output_type": "display_data"
    },
    {
     "name": "stdout",
     "output_type": "stream",
     "text": [
      "\n"
     ]
    },
    {
     "name": "stderr",
     "output_type": "stream",
     "text": [
      "/home/skooch/.local/lib/python3.5/site-packages/sklearn/externals/joblib/parallel.py:547: UserWarning: Multiprocessing-backed parallel loops cannot be nested, setting n_jobs=1\n",
      "  **self._backend_args)\n"
     ]
    },
    {
     "name": "stdout",
     "output_type": "stream",
     "text": [
      "\n"
     ]
    },
    {
     "name": "stderr",
     "output_type": "stream",
     "text": [
      "/home/skooch/.local/lib/python3.5/site-packages/sklearn/externals/joblib/parallel.py:547: UserWarning: Multiprocessing-backed parallel loops cannot be nested, setting n_jobs=1\n",
      "  **self._backend_args)\n"
     ]
    },
    {
     "name": "stdout",
     "output_type": "stream",
     "text": [
      "1059 (0.0035, 0, 1.5e-07, 7e-08, 250, True, 75, True, 21, 4.5e-05, 0) score: 0.5313104434080742\n",
      "[1214, [0.0035, 0, 1.5e-07, 7e-08, 250, 'eps', 75, True, 21, 4.5e-05, 0, 0.5293357957052974]]\n",
      "1059 (0.0035, 0, 1.5e-07, 7e-08, 250, True, 76, True, 21, 4.5e-05, 0) score: 0.5279727001216088\n",
      "[1220, [0.0035, 0, 1.5e-07, 7e-08, 250, 'eps', 76, True, 21, 4.5e-05, 0, 0.5249974812165317]]\n"
     ]
    },
    {
     "data": {
      "application/vnd.jupyter.widget-view+json": {
       "model_id": "202c24c09af64b9c897e05f0a5d6ea93",
       "version_major": 2,
       "version_minor": 0
      },
      "text/plain": [
       "HBox(children=(IntProgress(value=0, max=37032), HTML(value='')))"
      ]
     },
     "metadata": {},
     "output_type": "display_data"
    },
    {
     "name": "stdout",
     "output_type": "stream",
     "text": [
      "\n"
     ]
    },
    {
     "name": "stderr",
     "output_type": "stream",
     "text": [
      "/home/skooch/.local/lib/python3.5/site-packages/sklearn/externals/joblib/parallel.py:547: UserWarning: Multiprocessing-backed parallel loops cannot be nested, setting n_jobs=1\n",
      "  **self._backend_args)\n"
     ]
    },
    {
     "name": "stdout",
     "output_type": "stream",
     "text": [
      "1059 (0.0035, 0, 1.5e-07, 7e-08, 250, True, 76, True, 20, 4.5e-05, 0) score: 0.5283654177615063\n",
      "[1221, [0.0035, 0, 1.5e-07, 7e-08, 250, 'eps', 76, True, 20, 4.5e-05, 0, 0.5254441536211669]]\n"
     ]
    },
    {
     "data": {
      "application/vnd.jupyter.widget-view+json": {
       "model_id": "eee056602c4445f8a7e084991f94f4c8",
       "version_major": 2,
       "version_minor": 0
      },
      "text/plain": [
       "HBox(children=(IntProgress(value=0, max=36356), HTML(value='')))"
      ]
     },
     "metadata": {},
     "output_type": "display_data"
    },
    {
     "name": "stdout",
     "output_type": "stream",
     "text": [
      "\n"
     ]
    },
    {
     "name": "stderr",
     "output_type": "stream",
     "text": [
      "/home/skooch/.local/lib/python3.5/site-packages/sklearn/externals/joblib/parallel.py:547: UserWarning: Multiprocessing-backed parallel loops cannot be nested, setting n_jobs=1\n",
      "  **self._backend_args)\n"
     ]
    },
    {
     "name": "stdout",
     "output_type": "stream",
     "text": [
      "1059 (0.0035, 0, 1.5e-07, 7e-08, 250, True, 75, True, 19, 4.5e-05, 0) score: 0.5323317470563325\n",
      "[1216, [0.0035, 0, 1.5e-07, 7e-08, 250, 'eps', 75, True, 19, 4.5e-05, 0, 0.5298761591730725]]\n"
     ]
    },
    {
     "data": {
      "application/vnd.jupyter.widget-view+json": {
       "model_id": "d29158922b9b4133a77f50693b393219",
       "version_major": 2,
       "version_minor": 0
      },
      "text/plain": [
       "HBox(children=(IntProgress(value=0, max=36112), HTML(value='')))"
      ]
     },
     "metadata": {},
     "output_type": "display_data"
    },
    {
     "data": {
      "application/vnd.jupyter.widget-view+json": {
       "model_id": "aa57f3edb5ea45c5804229fd346b2854",
       "version_major": 2,
       "version_minor": 0
      },
      "text/plain": [
       "HBox(children=(IntProgress(value=0, max=35901), HTML(value='')))"
      ]
     },
     "metadata": {},
     "output_type": "display_data"
    },
    {
     "name": "stdout",
     "output_type": "stream",
     "text": [
      "\n"
     ]
    },
    {
     "name": "stderr",
     "output_type": "stream",
     "text": [
      "/home/skooch/.local/lib/python3.5/site-packages/sklearn/externals/joblib/parallel.py:547: UserWarning: Multiprocessing-backed parallel loops cannot be nested, setting n_jobs=1\n",
      "  **self._backend_args)\n"
     ]
    },
    {
     "name": "stdout",
     "output_type": "stream",
     "text": [
      "\n"
     ]
    },
    {
     "name": "stderr",
     "output_type": "stream",
     "text": [
      "/home/skooch/.local/lib/python3.5/site-packages/sklearn/externals/joblib/parallel.py:547: UserWarning: Multiprocessing-backed parallel loops cannot be nested, setting n_jobs=1\n",
      "  **self._backend_args)\n"
     ]
    },
    {
     "name": "stdout",
     "output_type": "stream",
     "text": [
      "1059 (0.0035, 0, 1.5e-07, 7e-08, 250, True, 72, True, 21, 4.5e-05, 0) score: 0.531998190066588\n",
      "[1211, [0.0035, 0, 1.5e-07, 7e-08, 250, 'eps', 72, True, 21, 4.5e-05, 0, 0.5308489615762021]]\n",
      "1059 (0.0035, 0, 1.5e-07, 7e-08, 250, True, 58, True, 21, 4.5e-05, 0) score: 0.5308953829221537\n",
      "[1217, [0.0035, 0, 1.5e-07, 7e-08, 250, 'eps', 58, True, 21, 4.5e-05, 0, 0.53126449124513]]\n"
     ]
    },
    {
     "data": {
      "application/vnd.jupyter.widget-view+json": {
       "model_id": "bf93400d56e6480183afca9edc997030",
       "version_major": 2,
       "version_minor": 0
      },
      "text/plain": [
       "HBox(children=(IntProgress(value=0, max=36111), HTML(value='')))"
      ]
     },
     "metadata": {},
     "output_type": "display_data"
    },
    {
     "name": "stdout",
     "output_type": "stream",
     "text": [
      "\n"
     ]
    },
    {
     "name": "stderr",
     "output_type": "stream",
     "text": [
      "/home/skooch/.local/lib/python3.5/site-packages/sklearn/externals/joblib/parallel.py:547: UserWarning: Multiprocessing-backed parallel loops cannot be nested, setting n_jobs=1\n",
      "  **self._backend_args)\n"
     ]
    },
    {
     "name": "stdout",
     "output_type": "stream",
     "text": [
      "1059 (0.0035, 0, 1.5e-07, 7e-08, 250, True, 72, True, 20, 4.5e-05, 0) score: 0.5328908664459959\n",
      "[1212, [0.0035, 0, 1.5e-07, 7e-08, 250, 'eps', 72, True, 20, 4.5e-05, 0, 0.5312482377441933]]\n"
     ]
    },
    {
     "data": {
      "text/html": [
       "<div>\n",
       "<style scoped>\n",
       "    .dataframe tbody tr th:only-of-type {\n",
       "        vertical-align: middle;\n",
       "    }\n",
       "\n",
       "    .dataframe tbody tr th {\n",
       "        vertical-align: top;\n",
       "    }\n",
       "\n",
       "    .dataframe thead th {\n",
       "        text-align: right;\n",
       "    }\n",
       "</style>\n",
       "<table border=\"1\" class=\"dataframe\">\n",
       "  <thead>\n",
       "    <tr style=\"text-align: right;\">\n",
       "      <th></th>\n",
       "      <th>eps</th>\n",
       "      <th>dz0</th>\n",
       "      <th>stepdz</th>\n",
       "      <th>stepeps</th>\n",
       "      <th>loops</th>\n",
       "      <th>step</th>\n",
       "      <th>weights</th>\n",
       "      <th>final_cluster</th>\n",
       "      <th>max_size</th>\n",
       "      <th>step_z</th>\n",
       "      <th>size_incr</th>\n",
       "      <th>acc</th>\n",
       "    </tr>\n",
       "  </thead>\n",
       "  <tbody>\n",
       "    <tr>\n",
       "      <th>1137</th>\n",
       "      <td>0.00350</td>\n",
       "      <td>-0.0007</td>\n",
       "      <td>1.500000e-07</td>\n",
       "      <td>7.000000e-08</td>\n",
       "      <td>250.0</td>\n",
       "      <td>eps</td>\n",
       "      <td>58</td>\n",
       "      <td>True</td>\n",
       "      <td>20</td>\n",
       "      <td>0.000045</td>\n",
       "      <td>0.0</td>\n",
       "      <td>0.530545</td>\n",
       "    </tr>\n",
       "    <tr>\n",
       "      <th>1143</th>\n",
       "      <td>0.00350</td>\n",
       "      <td>-0.0007</td>\n",
       "      <td>1.500000e-07</td>\n",
       "      <td>1.500000e-09</td>\n",
       "      <td>250.0</td>\n",
       "      <td>eps</td>\n",
       "      <td>58</td>\n",
       "      <td>True</td>\n",
       "      <td>20</td>\n",
       "      <td>0.000045</td>\n",
       "      <td>0.0</td>\n",
       "      <td>0.530490</td>\n",
       "    </tr>\n",
       "    <tr>\n",
       "      <th>1138</th>\n",
       "      <td>0.00350</td>\n",
       "      <td>-0.0007</td>\n",
       "      <td>1.500000e-07</td>\n",
       "      <td>7.000000e-08</td>\n",
       "      <td>250.0</td>\n",
       "      <td>eps</td>\n",
       "      <td>58</td>\n",
       "      <td>True</td>\n",
       "      <td>20</td>\n",
       "      <td>0.000002</td>\n",
       "      <td>0.0</td>\n",
       "      <td>0.530473</td>\n",
       "    </tr>\n",
       "    <tr>\n",
       "      <th>1128</th>\n",
       "      <td>0.00350</td>\n",
       "      <td>-0.0007</td>\n",
       "      <td>1.500000e-07</td>\n",
       "      <td>1.500000e-09</td>\n",
       "      <td>250.0</td>\n",
       "      <td>eps</td>\n",
       "      <td>58</td>\n",
       "      <td>True</td>\n",
       "      <td>20</td>\n",
       "      <td>0.000002</td>\n",
       "      <td>0.0</td>\n",
       "      <td>0.530456</td>\n",
       "    </tr>\n",
       "    <tr>\n",
       "      <th>1118</th>\n",
       "      <td>0.00350</td>\n",
       "      <td>-0.0007</td>\n",
       "      <td>1.500000e-07</td>\n",
       "      <td>1.500000e-09</td>\n",
       "      <td>200.0</td>\n",
       "      <td>eps</td>\n",
       "      <td>58</td>\n",
       "      <td>True</td>\n",
       "      <td>20</td>\n",
       "      <td>0.000002</td>\n",
       "      <td>0.0</td>\n",
       "      <td>0.530382</td>\n",
       "    </tr>\n",
       "    <tr>\n",
       "      <th>1117</th>\n",
       "      <td>0.00350</td>\n",
       "      <td>-0.0007</td>\n",
       "      <td>1.500000e-07</td>\n",
       "      <td>1.500000e-09</td>\n",
       "      <td>200.0</td>\n",
       "      <td>eps</td>\n",
       "      <td>58</td>\n",
       "      <td>True</td>\n",
       "      <td>20</td>\n",
       "      <td>0.000000</td>\n",
       "      <td>0.0</td>\n",
       "      <td>0.530377</td>\n",
       "    </tr>\n",
       "    <tr>\n",
       "      <th>1133</th>\n",
       "      <td>0.00350</td>\n",
       "      <td>-0.0007</td>\n",
       "      <td>1.500000e-07</td>\n",
       "      <td>1.500000e-09</td>\n",
       "      <td>275.0</td>\n",
       "      <td>eps</td>\n",
       "      <td>58</td>\n",
       "      <td>True</td>\n",
       "      <td>20</td>\n",
       "      <td>0.000002</td>\n",
       "      <td>0.0</td>\n",
       "      <td>0.530093</td>\n",
       "    </tr>\n",
       "    <tr>\n",
       "      <th>1123</th>\n",
       "      <td>0.00350</td>\n",
       "      <td>-0.0007</td>\n",
       "      <td>1.500000e-07</td>\n",
       "      <td>1.500000e-09</td>\n",
       "      <td>200.0</td>\n",
       "      <td>eps</td>\n",
       "      <td>58</td>\n",
       "      <td>True</td>\n",
       "      <td>20</td>\n",
       "      <td>0.000002</td>\n",
       "      <td>0.0</td>\n",
       "      <td>0.529915</td>\n",
       "    </tr>\n",
       "    <tr>\n",
       "      <th>1131</th>\n",
       "      <td>0.00350</td>\n",
       "      <td>-0.0007</td>\n",
       "      <td>1.500000e-07</td>\n",
       "      <td>1.500000e-09</td>\n",
       "      <td>250.0</td>\n",
       "      <td>eps</td>\n",
       "      <td>65</td>\n",
       "      <td>True</td>\n",
       "      <td>20</td>\n",
       "      <td>0.000002</td>\n",
       "      <td>0.0</td>\n",
       "      <td>0.529439</td>\n",
       "    </tr>\n",
       "    <tr>\n",
       "      <th>1121</th>\n",
       "      <td>0.00350</td>\n",
       "      <td>-0.0007</td>\n",
       "      <td>1.500000e-07</td>\n",
       "      <td>1.500000e-09</td>\n",
       "      <td>200.0</td>\n",
       "      <td>eps</td>\n",
       "      <td>62</td>\n",
       "      <td>True</td>\n",
       "      <td>20</td>\n",
       "      <td>0.000000</td>\n",
       "      <td>0.0</td>\n",
       "      <td>0.529137</td>\n",
       "    </tr>\n",
       "    <tr>\n",
       "      <th>1122</th>\n",
       "      <td>0.00350</td>\n",
       "      <td>-0.0007</td>\n",
       "      <td>1.500000e-07</td>\n",
       "      <td>1.500000e-09</td>\n",
       "      <td>200.0</td>\n",
       "      <td>eps</td>\n",
       "      <td>62</td>\n",
       "      <td>True</td>\n",
       "      <td>20</td>\n",
       "      <td>0.000002</td>\n",
       "      <td>0.0</td>\n",
       "      <td>0.529122</td>\n",
       "    </tr>\n",
       "    <tr>\n",
       "      <th>1136</th>\n",
       "      <td>0.00350</td>\n",
       "      <td>-0.0007</td>\n",
       "      <td>1.500000e-07</td>\n",
       "      <td>1.500000e-09</td>\n",
       "      <td>275.0</td>\n",
       "      <td>eps</td>\n",
       "      <td>65</td>\n",
       "      <td>True</td>\n",
       "      <td>20</td>\n",
       "      <td>0.000002</td>\n",
       "      <td>0.0</td>\n",
       "      <td>0.529003</td>\n",
       "    </tr>\n",
       "    <tr>\n",
       "      <th>1120</th>\n",
       "      <td>0.00350</td>\n",
       "      <td>-0.0007</td>\n",
       "      <td>1.500000e-07</td>\n",
       "      <td>1.500000e-09</td>\n",
       "      <td>200.0</td>\n",
       "      <td>eps</td>\n",
       "      <td>61</td>\n",
       "      <td>True</td>\n",
       "      <td>20</td>\n",
       "      <td>0.000002</td>\n",
       "      <td>0.0</td>\n",
       "      <td>0.528761</td>\n",
       "    </tr>\n",
       "    <tr>\n",
       "      <th>1119</th>\n",
       "      <td>0.00350</td>\n",
       "      <td>-0.0007</td>\n",
       "      <td>1.500000e-07</td>\n",
       "      <td>1.500000e-09</td>\n",
       "      <td>200.0</td>\n",
       "      <td>eps</td>\n",
       "      <td>61</td>\n",
       "      <td>True</td>\n",
       "      <td>20</td>\n",
       "      <td>0.000000</td>\n",
       "      <td>0.0</td>\n",
       "      <td>0.528761</td>\n",
       "    </tr>\n",
       "    <tr>\n",
       "      <th>1126</th>\n",
       "      <td>0.00350</td>\n",
       "      <td>-0.0007</td>\n",
       "      <td>1.500000e-07</td>\n",
       "      <td>1.500000e-09</td>\n",
       "      <td>200.0</td>\n",
       "      <td>eps</td>\n",
       "      <td>65</td>\n",
       "      <td>True</td>\n",
       "      <td>20</td>\n",
       "      <td>0.000002</td>\n",
       "      <td>0.0</td>\n",
       "      <td>0.528752</td>\n",
       "    </tr>\n",
       "    <tr>\n",
       "      <th>1129</th>\n",
       "      <td>0.00350</td>\n",
       "      <td>-0.0007</td>\n",
       "      <td>1.500000e-07</td>\n",
       "      <td>1.500000e-09</td>\n",
       "      <td>250.0</td>\n",
       "      <td>eps</td>\n",
       "      <td>63</td>\n",
       "      <td>True</td>\n",
       "      <td>20</td>\n",
       "      <td>0.000002</td>\n",
       "      <td>0.0</td>\n",
       "      <td>0.528513</td>\n",
       "    </tr>\n",
       "    <tr>\n",
       "      <th>1106</th>\n",
       "      <td>0.00350</td>\n",
       "      <td>-0.0007</td>\n",
       "      <td>1.500000e-07</td>\n",
       "      <td>1.500000e-09</td>\n",
       "      <td>175.0</td>\n",
       "      <td>eps</td>\n",
       "      <td>58</td>\n",
       "      <td>True</td>\n",
       "      <td>20</td>\n",
       "      <td>0.000002</td>\n",
       "      <td>0.0</td>\n",
       "      <td>0.528321</td>\n",
       "    </tr>\n",
       "    <tr>\n",
       "      <th>1105</th>\n",
       "      <td>0.00350</td>\n",
       "      <td>-0.0007</td>\n",
       "      <td>1.500000e-07</td>\n",
       "      <td>1.500000e-09</td>\n",
       "      <td>175.0</td>\n",
       "      <td>eps</td>\n",
       "      <td>58</td>\n",
       "      <td>True</td>\n",
       "      <td>20</td>\n",
       "      <td>0.000000</td>\n",
       "      <td>0.0</td>\n",
       "      <td>0.528316</td>\n",
       "    </tr>\n",
       "    <tr>\n",
       "      <th>1134</th>\n",
       "      <td>0.00350</td>\n",
       "      <td>-0.0007</td>\n",
       "      <td>1.500000e-07</td>\n",
       "      <td>1.500000e-09</td>\n",
       "      <td>275.0</td>\n",
       "      <td>eps</td>\n",
       "      <td>63</td>\n",
       "      <td>True</td>\n",
       "      <td>20</td>\n",
       "      <td>0.000002</td>\n",
       "      <td>0.0</td>\n",
       "      <td>0.528288</td>\n",
       "    </tr>\n",
       "    <tr>\n",
       "      <th>1124</th>\n",
       "      <td>0.00350</td>\n",
       "      <td>-0.0007</td>\n",
       "      <td>1.500000e-07</td>\n",
       "      <td>1.500000e-09</td>\n",
       "      <td>200.0</td>\n",
       "      <td>eps</td>\n",
       "      <td>63</td>\n",
       "      <td>True</td>\n",
       "      <td>20</td>\n",
       "      <td>0.000002</td>\n",
       "      <td>0.0</td>\n",
       "      <td>0.528052</td>\n",
       "    </tr>\n",
       "    <tr>\n",
       "      <th>1115</th>\n",
       "      <td>0.00350</td>\n",
       "      <td>-0.0007</td>\n",
       "      <td>1.500000e-07</td>\n",
       "      <td>1.500000e-09</td>\n",
       "      <td>175.0</td>\n",
       "      <td>eps</td>\n",
       "      <td>62</td>\n",
       "      <td>True</td>\n",
       "      <td>20</td>\n",
       "      <td>0.000000</td>\n",
       "      <td>0.0</td>\n",
       "      <td>0.527008</td>\n",
       "    </tr>\n",
       "    <tr>\n",
       "      <th>1116</th>\n",
       "      <td>0.00350</td>\n",
       "      <td>-0.0007</td>\n",
       "      <td>1.500000e-07</td>\n",
       "      <td>1.500000e-09</td>\n",
       "      <td>175.0</td>\n",
       "      <td>eps</td>\n",
       "      <td>62</td>\n",
       "      <td>True</td>\n",
       "      <td>20</td>\n",
       "      <td>0.000002</td>\n",
       "      <td>0.0</td>\n",
       "      <td>0.526993</td>\n",
       "    </tr>\n",
       "    <tr>\n",
       "      <th>1114</th>\n",
       "      <td>0.00350</td>\n",
       "      <td>-0.0007</td>\n",
       "      <td>1.500000e-07</td>\n",
       "      <td>1.500000e-09</td>\n",
       "      <td>175.0</td>\n",
       "      <td>eps</td>\n",
       "      <td>61</td>\n",
       "      <td>True</td>\n",
       "      <td>20</td>\n",
       "      <td>0.000002</td>\n",
       "      <td>0.0</td>\n",
       "      <td>0.526725</td>\n",
       "    </tr>\n",
       "    <tr>\n",
       "      <th>1113</th>\n",
       "      <td>0.00350</td>\n",
       "      <td>-0.0007</td>\n",
       "      <td>1.500000e-07</td>\n",
       "      <td>1.500000e-09</td>\n",
       "      <td>175.0</td>\n",
       "      <td>eps</td>\n",
       "      <td>61</td>\n",
       "      <td>True</td>\n",
       "      <td>20</td>\n",
       "      <td>0.000000</td>\n",
       "      <td>0.0</td>\n",
       "      <td>0.526724</td>\n",
       "    </tr>\n",
       "    <tr>\n",
       "      <th>1132</th>\n",
       "      <td>0.00350</td>\n",
       "      <td>-0.0007</td>\n",
       "      <td>1.500000e-07</td>\n",
       "      <td>1.500000e-09</td>\n",
       "      <td>250.0</td>\n",
       "      <td>eps</td>\n",
       "      <td>66</td>\n",
       "      <td>True</td>\n",
       "      <td>20</td>\n",
       "      <td>0.000002</td>\n",
       "      <td>0.0</td>\n",
       "      <td>0.526666</td>\n",
       "    </tr>\n",
       "    <tr>\n",
       "      <th>1127</th>\n",
       "      <td>0.00350</td>\n",
       "      <td>-0.0007</td>\n",
       "      <td>1.500000e-07</td>\n",
       "      <td>1.500000e-09</td>\n",
       "      <td>200.0</td>\n",
       "      <td>eps</td>\n",
       "      <td>66</td>\n",
       "      <td>True</td>\n",
       "      <td>20</td>\n",
       "      <td>0.000002</td>\n",
       "      <td>0.0</td>\n",
       "      <td>0.526032</td>\n",
       "    </tr>\n",
       "    <tr>\n",
       "      <th>1165</th>\n",
       "      <td>0.00350</td>\n",
       "      <td>-0.0007</td>\n",
       "      <td>7.000000e-07</td>\n",
       "      <td>2.000000e-09</td>\n",
       "      <td>250.0</td>\n",
       "      <td>eps</td>\n",
       "      <td>70</td>\n",
       "      <td>True</td>\n",
       "      <td>20</td>\n",
       "      <td>0.000045</td>\n",
       "      <td>0.0</td>\n",
       "      <td>0.525947</td>\n",
       "    </tr>\n",
       "    <tr>\n",
       "      <th>1161</th>\n",
       "      <td>0.00350</td>\n",
       "      <td>-0.0007</td>\n",
       "      <td>7.000000e-07</td>\n",
       "      <td>1.500000e-09</td>\n",
       "      <td>250.0</td>\n",
       "      <td>eps</td>\n",
       "      <td>70</td>\n",
       "      <td>True</td>\n",
       "      <td>20</td>\n",
       "      <td>0.000045</td>\n",
       "      <td>0.0</td>\n",
       "      <td>0.525947</td>\n",
       "    </tr>\n",
       "    <tr>\n",
       "      <th>1162</th>\n",
       "      <td>0.00350</td>\n",
       "      <td>-0.0007</td>\n",
       "      <td>7.000000e-07</td>\n",
       "      <td>1.500000e-09</td>\n",
       "      <td>250.0</td>\n",
       "      <td>eps</td>\n",
       "      <td>70</td>\n",
       "      <td>True</td>\n",
       "      <td>20</td>\n",
       "      <td>0.000040</td>\n",
       "      <td>0.0</td>\n",
       "      <td>0.525946</td>\n",
       "    </tr>\n",
       "    <tr>\n",
       "      <th>1166</th>\n",
       "      <td>0.00350</td>\n",
       "      <td>-0.0007</td>\n",
       "      <td>7.000000e-07</td>\n",
       "      <td>2.000000e-09</td>\n",
       "      <td>250.0</td>\n",
       "      <td>eps</td>\n",
       "      <td>70</td>\n",
       "      <td>True</td>\n",
       "      <td>20</td>\n",
       "      <td>0.000040</td>\n",
       "      <td>0.0</td>\n",
       "      <td>0.525946</td>\n",
       "    </tr>\n",
       "    <tr>\n",
       "      <th>...</th>\n",
       "      <td>...</td>\n",
       "      <td>...</td>\n",
       "      <td>...</td>\n",
       "      <td>...</td>\n",
       "      <td>...</td>\n",
       "      <td>...</td>\n",
       "      <td>...</td>\n",
       "      <td>...</td>\n",
       "      <td>...</td>\n",
       "      <td>...</td>\n",
       "      <td>...</td>\n",
       "      <td>...</td>\n",
       "    </tr>\n",
       "    <tr>\n",
       "      <th>438</th>\n",
       "      <td>0.00370</td>\n",
       "      <td>-0.0007</td>\n",
       "      <td>1.000000e-05</td>\n",
       "      <td>3.000000e-06</td>\n",
       "      <td>160.0</td>\n",
       "      <td>eps</td>\n",
       "      <td>-1</td>\n",
       "      <td>True</td>\n",
       "      <td>20</td>\n",
       "      <td>0.000000</td>\n",
       "      <td>0.0</td>\n",
       "      <td>0.491072</td>\n",
       "    </tr>\n",
       "    <tr>\n",
       "      <th>437</th>\n",
       "      <td>0.00370</td>\n",
       "      <td>-0.0007</td>\n",
       "      <td>1.000000e-05</td>\n",
       "      <td>3.000000e-06</td>\n",
       "      <td>150.0</td>\n",
       "      <td>eps</td>\n",
       "      <td>-1</td>\n",
       "      <td>True</td>\n",
       "      <td>20</td>\n",
       "      <td>0.000000</td>\n",
       "      <td>0.0</td>\n",
       "      <td>0.491066</td>\n",
       "    </tr>\n",
       "    <tr>\n",
       "      <th>466</th>\n",
       "      <td>0.00350</td>\n",
       "      <td>-0.0007</td>\n",
       "      <td>2.000000e-06</td>\n",
       "      <td>2.000000e-06</td>\n",
       "      <td>170.0</td>\n",
       "      <td>eps</td>\n",
       "      <td>7</td>\n",
       "      <td>True</td>\n",
       "      <td>20</td>\n",
       "      <td>0.000000</td>\n",
       "      <td>0.0</td>\n",
       "      <td>0.490752</td>\n",
       "    </tr>\n",
       "    <tr>\n",
       "      <th>435</th>\n",
       "      <td>0.00370</td>\n",
       "      <td>-0.0007</td>\n",
       "      <td>1.000000e-05</td>\n",
       "      <td>2.500000e-06</td>\n",
       "      <td>160.0</td>\n",
       "      <td>eps</td>\n",
       "      <td>-1</td>\n",
       "      <td>True</td>\n",
       "      <td>20</td>\n",
       "      <td>0.000000</td>\n",
       "      <td>0.0</td>\n",
       "      <td>0.490736</td>\n",
       "    </tr>\n",
       "    <tr>\n",
       "      <th>434</th>\n",
       "      <td>0.00370</td>\n",
       "      <td>-0.0007</td>\n",
       "      <td>1.000000e-05</td>\n",
       "      <td>2.500000e-06</td>\n",
       "      <td>150.0</td>\n",
       "      <td>eps</td>\n",
       "      <td>-1</td>\n",
       "      <td>True</td>\n",
       "      <td>20</td>\n",
       "      <td>0.000000</td>\n",
       "      <td>0.0</td>\n",
       "      <td>0.490604</td>\n",
       "    </tr>\n",
       "    <tr>\n",
       "      <th>428</th>\n",
       "      <td>0.00375</td>\n",
       "      <td>-0.0007</td>\n",
       "      <td>1.000000e-05</td>\n",
       "      <td>3.000000e-06</td>\n",
       "      <td>150.0</td>\n",
       "      <td>eps</td>\n",
       "      <td>-1</td>\n",
       "      <td>True</td>\n",
       "      <td>20</td>\n",
       "      <td>0.000000</td>\n",
       "      <td>0.0</td>\n",
       "      <td>0.490047</td>\n",
       "    </tr>\n",
       "    <tr>\n",
       "      <th>1199</th>\n",
       "      <td>0.00350</td>\n",
       "      <td>0.0000</td>\n",
       "      <td>1.500000e-07</td>\n",
       "      <td>7.000000e-08</td>\n",
       "      <td>200.0</td>\n",
       "      <td>eps</td>\n",
       "      <td>72</td>\n",
       "      <td>True</td>\n",
       "      <td>21</td>\n",
       "      <td>0.000045</td>\n",
       "      <td>0.0</td>\n",
       "      <td>0.527286</td>\n",
       "    </tr>\n",
       "    <tr>\n",
       "      <th>1200</th>\n",
       "      <td>0.00350</td>\n",
       "      <td>0.0000</td>\n",
       "      <td>1.500000e-07</td>\n",
       "      <td>7.000000e-08</td>\n",
       "      <td>200.0</td>\n",
       "      <td>eps</td>\n",
       "      <td>72</td>\n",
       "      <td>True</td>\n",
       "      <td>20</td>\n",
       "      <td>0.000045</td>\n",
       "      <td>0.0</td>\n",
       "      <td>0.527474</td>\n",
       "    </tr>\n",
       "    <tr>\n",
       "      <th>1201</th>\n",
       "      <td>0.00350</td>\n",
       "      <td>0.0000</td>\n",
       "      <td>1.500000e-07</td>\n",
       "      <td>7.000000e-08</td>\n",
       "      <td>200.0</td>\n",
       "      <td>eps</td>\n",
       "      <td>72</td>\n",
       "      <td>True</td>\n",
       "      <td>19</td>\n",
       "      <td>0.000045</td>\n",
       "      <td>0.0</td>\n",
       "      <td>0.527786</td>\n",
       "    </tr>\n",
       "    <tr>\n",
       "      <th>1202</th>\n",
       "      <td>0.00350</td>\n",
       "      <td>0.0000</td>\n",
       "      <td>1.500000e-07</td>\n",
       "      <td>7.000000e-08</td>\n",
       "      <td>200.0</td>\n",
       "      <td>eps</td>\n",
       "      <td>73</td>\n",
       "      <td>True</td>\n",
       "      <td>21</td>\n",
       "      <td>0.000045</td>\n",
       "      <td>0.0</td>\n",
       "      <td>0.526427</td>\n",
       "    </tr>\n",
       "    <tr>\n",
       "      <th>1203</th>\n",
       "      <td>0.00350</td>\n",
       "      <td>0.0000</td>\n",
       "      <td>1.500000e-07</td>\n",
       "      <td>7.000000e-08</td>\n",
       "      <td>200.0</td>\n",
       "      <td>eps</td>\n",
       "      <td>73</td>\n",
       "      <td>True</td>\n",
       "      <td>20</td>\n",
       "      <td>0.000045</td>\n",
       "      <td>0.0</td>\n",
       "      <td>0.526564</td>\n",
       "    </tr>\n",
       "    <tr>\n",
       "      <th>1204</th>\n",
       "      <td>0.00350</td>\n",
       "      <td>0.0000</td>\n",
       "      <td>1.500000e-07</td>\n",
       "      <td>7.000000e-08</td>\n",
       "      <td>200.0</td>\n",
       "      <td>eps</td>\n",
       "      <td>73</td>\n",
       "      <td>True</td>\n",
       "      <td>19</td>\n",
       "      <td>0.000045</td>\n",
       "      <td>0.0</td>\n",
       "      <td>0.526561</td>\n",
       "    </tr>\n",
       "    <tr>\n",
       "      <th>1205</th>\n",
       "      <td>0.00350</td>\n",
       "      <td>0.0000</td>\n",
       "      <td>1.500000e-07</td>\n",
       "      <td>7.000000e-08</td>\n",
       "      <td>200.0</td>\n",
       "      <td>eps</td>\n",
       "      <td>74</td>\n",
       "      <td>True</td>\n",
       "      <td>21</td>\n",
       "      <td>0.000045</td>\n",
       "      <td>0.0</td>\n",
       "      <td>0.522790</td>\n",
       "    </tr>\n",
       "    <tr>\n",
       "      <th>1206</th>\n",
       "      <td>0.00350</td>\n",
       "      <td>0.0000</td>\n",
       "      <td>1.500000e-07</td>\n",
       "      <td>7.000000e-08</td>\n",
       "      <td>200.0</td>\n",
       "      <td>eps</td>\n",
       "      <td>74</td>\n",
       "      <td>True</td>\n",
       "      <td>20</td>\n",
       "      <td>0.000045</td>\n",
       "      <td>0.0</td>\n",
       "      <td>0.523143</td>\n",
       "    </tr>\n",
       "    <tr>\n",
       "      <th>1207</th>\n",
       "      <td>0.00350</td>\n",
       "      <td>0.0000</td>\n",
       "      <td>1.500000e-07</td>\n",
       "      <td>7.000000e-08</td>\n",
       "      <td>200.0</td>\n",
       "      <td>eps</td>\n",
       "      <td>74</td>\n",
       "      <td>True</td>\n",
       "      <td>19</td>\n",
       "      <td>0.000045</td>\n",
       "      <td>0.0</td>\n",
       "      <td>0.523222</td>\n",
       "    </tr>\n",
       "    <tr>\n",
       "      <th>1208</th>\n",
       "      <td>0.00350</td>\n",
       "      <td>0.0000</td>\n",
       "      <td>1.500000e-07</td>\n",
       "      <td>7.000000e-08</td>\n",
       "      <td>200.0</td>\n",
       "      <td>eps</td>\n",
       "      <td>58</td>\n",
       "      <td>True</td>\n",
       "      <td>21</td>\n",
       "      <td>0.000045</td>\n",
       "      <td>0.0</td>\n",
       "      <td>0.526922</td>\n",
       "    </tr>\n",
       "    <tr>\n",
       "      <th>1209</th>\n",
       "      <td>0.00350</td>\n",
       "      <td>0.0000</td>\n",
       "      <td>1.500000e-07</td>\n",
       "      <td>7.000000e-08</td>\n",
       "      <td>200.0</td>\n",
       "      <td>eps</td>\n",
       "      <td>58</td>\n",
       "      <td>True</td>\n",
       "      <td>20</td>\n",
       "      <td>0.000045</td>\n",
       "      <td>0.0</td>\n",
       "      <td>0.527191</td>\n",
       "    </tr>\n",
       "    <tr>\n",
       "      <th>1210</th>\n",
       "      <td>0.00350</td>\n",
       "      <td>0.0000</td>\n",
       "      <td>1.500000e-07</td>\n",
       "      <td>7.000000e-08</td>\n",
       "      <td>200.0</td>\n",
       "      <td>eps</td>\n",
       "      <td>58</td>\n",
       "      <td>True</td>\n",
       "      <td>19</td>\n",
       "      <td>0.000045</td>\n",
       "      <td>0.0</td>\n",
       "      <td>0.527581</td>\n",
       "    </tr>\n",
       "    <tr>\n",
       "      <th>1211</th>\n",
       "      <td>0.00350</td>\n",
       "      <td>0.0000</td>\n",
       "      <td>1.500000e-07</td>\n",
       "      <td>7.000000e-08</td>\n",
       "      <td>250.0</td>\n",
       "      <td>eps</td>\n",
       "      <td>72</td>\n",
       "      <td>True</td>\n",
       "      <td>21</td>\n",
       "      <td>0.000045</td>\n",
       "      <td>0.0</td>\n",
       "      <td>0.530849</td>\n",
       "    </tr>\n",
       "    <tr>\n",
       "      <th>1212</th>\n",
       "      <td>0.00350</td>\n",
       "      <td>0.0000</td>\n",
       "      <td>1.500000e-07</td>\n",
       "      <td>7.000000e-08</td>\n",
       "      <td>250.0</td>\n",
       "      <td>eps</td>\n",
       "      <td>72</td>\n",
       "      <td>True</td>\n",
       "      <td>20</td>\n",
       "      <td>0.000045</td>\n",
       "      <td>0.0</td>\n",
       "      <td>0.531248</td>\n",
       "    </tr>\n",
       "    <tr>\n",
       "      <th>1213</th>\n",
       "      <td>0.00350</td>\n",
       "      <td>0.0000</td>\n",
       "      <td>1.500000e-07</td>\n",
       "      <td>7.000000e-08</td>\n",
       "      <td>250.0</td>\n",
       "      <td>eps</td>\n",
       "      <td>72</td>\n",
       "      <td>True</td>\n",
       "      <td>19</td>\n",
       "      <td>0.000045</td>\n",
       "      <td>0.0</td>\n",
       "      <td>0.531324</td>\n",
       "    </tr>\n",
       "    <tr>\n",
       "      <th>1214</th>\n",
       "      <td>0.00350</td>\n",
       "      <td>0.0000</td>\n",
       "      <td>1.500000e-07</td>\n",
       "      <td>7.000000e-08</td>\n",
       "      <td>250.0</td>\n",
       "      <td>eps</td>\n",
       "      <td>75</td>\n",
       "      <td>True</td>\n",
       "      <td>21</td>\n",
       "      <td>0.000045</td>\n",
       "      <td>0.0</td>\n",
       "      <td>0.529336</td>\n",
       "    </tr>\n",
       "    <tr>\n",
       "      <th>1215</th>\n",
       "      <td>0.00350</td>\n",
       "      <td>0.0000</td>\n",
       "      <td>1.500000e-07</td>\n",
       "      <td>7.000000e-08</td>\n",
       "      <td>250.0</td>\n",
       "      <td>eps</td>\n",
       "      <td>75</td>\n",
       "      <td>True</td>\n",
       "      <td>20</td>\n",
       "      <td>0.000045</td>\n",
       "      <td>0.0</td>\n",
       "      <td>0.529737</td>\n",
       "    </tr>\n",
       "    <tr>\n",
       "      <th>1216</th>\n",
       "      <td>0.00350</td>\n",
       "      <td>0.0000</td>\n",
       "      <td>1.500000e-07</td>\n",
       "      <td>7.000000e-08</td>\n",
       "      <td>250.0</td>\n",
       "      <td>eps</td>\n",
       "      <td>75</td>\n",
       "      <td>True</td>\n",
       "      <td>19</td>\n",
       "      <td>0.000045</td>\n",
       "      <td>0.0</td>\n",
       "      <td>0.529876</td>\n",
       "    </tr>\n",
       "    <tr>\n",
       "      <th>1217</th>\n",
       "      <td>0.00350</td>\n",
       "      <td>0.0000</td>\n",
       "      <td>1.500000e-07</td>\n",
       "      <td>7.000000e-08</td>\n",
       "      <td>250.0</td>\n",
       "      <td>eps</td>\n",
       "      <td>58</td>\n",
       "      <td>True</td>\n",
       "      <td>21</td>\n",
       "      <td>0.000045</td>\n",
       "      <td>0.0</td>\n",
       "      <td>0.531264</td>\n",
       "    </tr>\n",
       "    <tr>\n",
       "      <th>1218</th>\n",
       "      <td>0.00350</td>\n",
       "      <td>0.0000</td>\n",
       "      <td>1.500000e-07</td>\n",
       "      <td>7.000000e-08</td>\n",
       "      <td>250.0</td>\n",
       "      <td>eps</td>\n",
       "      <td>58</td>\n",
       "      <td>True</td>\n",
       "      <td>20</td>\n",
       "      <td>0.000045</td>\n",
       "      <td>0.0</td>\n",
       "      <td>0.531555</td>\n",
       "    </tr>\n",
       "    <tr>\n",
       "      <th>1219</th>\n",
       "      <td>0.00350</td>\n",
       "      <td>0.0000</td>\n",
       "      <td>1.500000e-07</td>\n",
       "      <td>7.000000e-08</td>\n",
       "      <td>250.0</td>\n",
       "      <td>eps</td>\n",
       "      <td>58</td>\n",
       "      <td>True</td>\n",
       "      <td>19</td>\n",
       "      <td>0.000045</td>\n",
       "      <td>0.0</td>\n",
       "      <td>0.531658</td>\n",
       "    </tr>\n",
       "    <tr>\n",
       "      <th>1220</th>\n",
       "      <td>0.00350</td>\n",
       "      <td>0.0000</td>\n",
       "      <td>1.500000e-07</td>\n",
       "      <td>7.000000e-08</td>\n",
       "      <td>250.0</td>\n",
       "      <td>eps</td>\n",
       "      <td>76</td>\n",
       "      <td>True</td>\n",
       "      <td>21</td>\n",
       "      <td>0.000045</td>\n",
       "      <td>0.0</td>\n",
       "      <td>0.524997</td>\n",
       "    </tr>\n",
       "    <tr>\n",
       "      <th>1221</th>\n",
       "      <td>0.00350</td>\n",
       "      <td>0.0000</td>\n",
       "      <td>1.500000e-07</td>\n",
       "      <td>7.000000e-08</td>\n",
       "      <td>250.0</td>\n",
       "      <td>eps</td>\n",
       "      <td>76</td>\n",
       "      <td>True</td>\n",
       "      <td>20</td>\n",
       "      <td>0.000045</td>\n",
       "      <td>0.0</td>\n",
       "      <td>0.525444</td>\n",
       "    </tr>\n",
       "    <tr>\n",
       "      <th>1222</th>\n",
       "      <td>0.00350</td>\n",
       "      <td>0.0000</td>\n",
       "      <td>1.500000e-07</td>\n",
       "      <td>7.000000e-08</td>\n",
       "      <td>250.0</td>\n",
       "      <td>eps</td>\n",
       "      <td>76</td>\n",
       "      <td>True</td>\n",
       "      <td>19</td>\n",
       "      <td>0.000045</td>\n",
       "      <td>0.0</td>\n",
       "      <td>0.525609</td>\n",
       "    </tr>\n",
       "  </tbody>\n",
       "</table>\n",
       "<p>653 rows × 12 columns</p>\n",
       "</div>"
      ],
      "text/plain": [
       "          eps     dz0        stepdz       stepeps  loops step  weights  \\\n",
       "1137  0.00350 -0.0007  1.500000e-07  7.000000e-08  250.0  eps       58   \n",
       "1143  0.00350 -0.0007  1.500000e-07  1.500000e-09  250.0  eps       58   \n",
       "1138  0.00350 -0.0007  1.500000e-07  7.000000e-08  250.0  eps       58   \n",
       "1128  0.00350 -0.0007  1.500000e-07  1.500000e-09  250.0  eps       58   \n",
       "1118  0.00350 -0.0007  1.500000e-07  1.500000e-09  200.0  eps       58   \n",
       "1117  0.00350 -0.0007  1.500000e-07  1.500000e-09  200.0  eps       58   \n",
       "1133  0.00350 -0.0007  1.500000e-07  1.500000e-09  275.0  eps       58   \n",
       "1123  0.00350 -0.0007  1.500000e-07  1.500000e-09  200.0  eps       58   \n",
       "1131  0.00350 -0.0007  1.500000e-07  1.500000e-09  250.0  eps       65   \n",
       "1121  0.00350 -0.0007  1.500000e-07  1.500000e-09  200.0  eps       62   \n",
       "1122  0.00350 -0.0007  1.500000e-07  1.500000e-09  200.0  eps       62   \n",
       "1136  0.00350 -0.0007  1.500000e-07  1.500000e-09  275.0  eps       65   \n",
       "1120  0.00350 -0.0007  1.500000e-07  1.500000e-09  200.0  eps       61   \n",
       "1119  0.00350 -0.0007  1.500000e-07  1.500000e-09  200.0  eps       61   \n",
       "1126  0.00350 -0.0007  1.500000e-07  1.500000e-09  200.0  eps       65   \n",
       "1129  0.00350 -0.0007  1.500000e-07  1.500000e-09  250.0  eps       63   \n",
       "1106  0.00350 -0.0007  1.500000e-07  1.500000e-09  175.0  eps       58   \n",
       "1105  0.00350 -0.0007  1.500000e-07  1.500000e-09  175.0  eps       58   \n",
       "1134  0.00350 -0.0007  1.500000e-07  1.500000e-09  275.0  eps       63   \n",
       "1124  0.00350 -0.0007  1.500000e-07  1.500000e-09  200.0  eps       63   \n",
       "1115  0.00350 -0.0007  1.500000e-07  1.500000e-09  175.0  eps       62   \n",
       "1116  0.00350 -0.0007  1.500000e-07  1.500000e-09  175.0  eps       62   \n",
       "1114  0.00350 -0.0007  1.500000e-07  1.500000e-09  175.0  eps       61   \n",
       "1113  0.00350 -0.0007  1.500000e-07  1.500000e-09  175.0  eps       61   \n",
       "1132  0.00350 -0.0007  1.500000e-07  1.500000e-09  250.0  eps       66   \n",
       "1127  0.00350 -0.0007  1.500000e-07  1.500000e-09  200.0  eps       66   \n",
       "1165  0.00350 -0.0007  7.000000e-07  2.000000e-09  250.0  eps       70   \n",
       "1161  0.00350 -0.0007  7.000000e-07  1.500000e-09  250.0  eps       70   \n",
       "1162  0.00350 -0.0007  7.000000e-07  1.500000e-09  250.0  eps       70   \n",
       "1166  0.00350 -0.0007  7.000000e-07  2.000000e-09  250.0  eps       70   \n",
       "...       ...     ...           ...           ...    ...  ...      ...   \n",
       "438   0.00370 -0.0007  1.000000e-05  3.000000e-06  160.0  eps       -1   \n",
       "437   0.00370 -0.0007  1.000000e-05  3.000000e-06  150.0  eps       -1   \n",
       "466   0.00350 -0.0007  2.000000e-06  2.000000e-06  170.0  eps        7   \n",
       "435   0.00370 -0.0007  1.000000e-05  2.500000e-06  160.0  eps       -1   \n",
       "434   0.00370 -0.0007  1.000000e-05  2.500000e-06  150.0  eps       -1   \n",
       "428   0.00375 -0.0007  1.000000e-05  3.000000e-06  150.0  eps       -1   \n",
       "1199  0.00350  0.0000  1.500000e-07  7.000000e-08  200.0  eps       72   \n",
       "1200  0.00350  0.0000  1.500000e-07  7.000000e-08  200.0  eps       72   \n",
       "1201  0.00350  0.0000  1.500000e-07  7.000000e-08  200.0  eps       72   \n",
       "1202  0.00350  0.0000  1.500000e-07  7.000000e-08  200.0  eps       73   \n",
       "1203  0.00350  0.0000  1.500000e-07  7.000000e-08  200.0  eps       73   \n",
       "1204  0.00350  0.0000  1.500000e-07  7.000000e-08  200.0  eps       73   \n",
       "1205  0.00350  0.0000  1.500000e-07  7.000000e-08  200.0  eps       74   \n",
       "1206  0.00350  0.0000  1.500000e-07  7.000000e-08  200.0  eps       74   \n",
       "1207  0.00350  0.0000  1.500000e-07  7.000000e-08  200.0  eps       74   \n",
       "1208  0.00350  0.0000  1.500000e-07  7.000000e-08  200.0  eps       58   \n",
       "1209  0.00350  0.0000  1.500000e-07  7.000000e-08  200.0  eps       58   \n",
       "1210  0.00350  0.0000  1.500000e-07  7.000000e-08  200.0  eps       58   \n",
       "1211  0.00350  0.0000  1.500000e-07  7.000000e-08  250.0  eps       72   \n",
       "1212  0.00350  0.0000  1.500000e-07  7.000000e-08  250.0  eps       72   \n",
       "1213  0.00350  0.0000  1.500000e-07  7.000000e-08  250.0  eps       72   \n",
       "1214  0.00350  0.0000  1.500000e-07  7.000000e-08  250.0  eps       75   \n",
       "1215  0.00350  0.0000  1.500000e-07  7.000000e-08  250.0  eps       75   \n",
       "1216  0.00350  0.0000  1.500000e-07  7.000000e-08  250.0  eps       75   \n",
       "1217  0.00350  0.0000  1.500000e-07  7.000000e-08  250.0  eps       58   \n",
       "1218  0.00350  0.0000  1.500000e-07  7.000000e-08  250.0  eps       58   \n",
       "1219  0.00350  0.0000  1.500000e-07  7.000000e-08  250.0  eps       58   \n",
       "1220  0.00350  0.0000  1.500000e-07  7.000000e-08  250.0  eps       76   \n",
       "1221  0.00350  0.0000  1.500000e-07  7.000000e-08  250.0  eps       76   \n",
       "1222  0.00350  0.0000  1.500000e-07  7.000000e-08  250.0  eps       76   \n",
       "\n",
       "      final_cluster  max_size    step_z  size_incr       acc  \n",
       "1137           True        20  0.000045        0.0  0.530545  \n",
       "1143           True        20  0.000045        0.0  0.530490  \n",
       "1138           True        20  0.000002        0.0  0.530473  \n",
       "1128           True        20  0.000002        0.0  0.530456  \n",
       "1118           True        20  0.000002        0.0  0.530382  \n",
       "1117           True        20  0.000000        0.0  0.530377  \n",
       "1133           True        20  0.000002        0.0  0.530093  \n",
       "1123           True        20  0.000002        0.0  0.529915  \n",
       "1131           True        20  0.000002        0.0  0.529439  \n",
       "1121           True        20  0.000000        0.0  0.529137  \n",
       "1122           True        20  0.000002        0.0  0.529122  \n",
       "1136           True        20  0.000002        0.0  0.529003  \n",
       "1120           True        20  0.000002        0.0  0.528761  \n",
       "1119           True        20  0.000000        0.0  0.528761  \n",
       "1126           True        20  0.000002        0.0  0.528752  \n",
       "1129           True        20  0.000002        0.0  0.528513  \n",
       "1106           True        20  0.000002        0.0  0.528321  \n",
       "1105           True        20  0.000000        0.0  0.528316  \n",
       "1134           True        20  0.000002        0.0  0.528288  \n",
       "1124           True        20  0.000002        0.0  0.528052  \n",
       "1115           True        20  0.000000        0.0  0.527008  \n",
       "1116           True        20  0.000002        0.0  0.526993  \n",
       "1114           True        20  0.000002        0.0  0.526725  \n",
       "1113           True        20  0.000000        0.0  0.526724  \n",
       "1132           True        20  0.000002        0.0  0.526666  \n",
       "1127           True        20  0.000002        0.0  0.526032  \n",
       "1165           True        20  0.000045        0.0  0.525947  \n",
       "1161           True        20  0.000045        0.0  0.525947  \n",
       "1162           True        20  0.000040        0.0  0.525946  \n",
       "1166           True        20  0.000040        0.0  0.525946  \n",
       "...             ...       ...       ...        ...       ...  \n",
       "438            True        20  0.000000        0.0  0.491072  \n",
       "437            True        20  0.000000        0.0  0.491066  \n",
       "466            True        20  0.000000        0.0  0.490752  \n",
       "435            True        20  0.000000        0.0  0.490736  \n",
       "434            True        20  0.000000        0.0  0.490604  \n",
       "428            True        20  0.000000        0.0  0.490047  \n",
       "1199           True        21  0.000045        0.0  0.527286  \n",
       "1200           True        20  0.000045        0.0  0.527474  \n",
       "1201           True        19  0.000045        0.0  0.527786  \n",
       "1202           True        21  0.000045        0.0  0.526427  \n",
       "1203           True        20  0.000045        0.0  0.526564  \n",
       "1204           True        19  0.000045        0.0  0.526561  \n",
       "1205           True        21  0.000045        0.0  0.522790  \n",
       "1206           True        20  0.000045        0.0  0.523143  \n",
       "1207           True        19  0.000045        0.0  0.523222  \n",
       "1208           True        21  0.000045        0.0  0.526922  \n",
       "1209           True        20  0.000045        0.0  0.527191  \n",
       "1210           True        19  0.000045        0.0  0.527581  \n",
       "1211           True        21  0.000045        0.0  0.530849  \n",
       "1212           True        20  0.000045        0.0  0.531248  \n",
       "1213           True        19  0.000045        0.0  0.531324  \n",
       "1214           True        21  0.000045        0.0  0.529336  \n",
       "1215           True        20  0.000045        0.0  0.529737  \n",
       "1216           True        19  0.000045        0.0  0.529876  \n",
       "1217           True        21  0.000045        0.0  0.531264  \n",
       "1218           True        20  0.000045        0.0  0.531555  \n",
       "1219           True        19  0.000045        0.0  0.531658  \n",
       "1220           True        21  0.000045        0.0  0.524997  \n",
       "1221           True        20  0.000045        0.0  0.525444  \n",
       "1222           True        19  0.000045        0.0  0.525609  \n",
       "\n",
       "[653 rows x 12 columns]"
      ]
     },
     "execution_count": 16,
     "metadata": {},
     "output_type": "execute_result"
    }
   ],
   "source": [
    "results = grid_search(iter_list, results_df, start=0, end=28)\n",
    "\n",
    "for item in results:\n",
    "    results_df.loc[item[0]] = item[1]\n",
    "    \n",
    "results_df.sort_values(\"acc\", ascending=False).to_pickle(\"gs_results.pkl\")\n",
    "results_df"
   ]
  },
  {
   "cell_type": "code",
   "execution_count": 9,
   "metadata": {
    "scrolled": true
   },
   "outputs": [
    {
     "data": {
      "text/html": [
       "<div>\n",
       "<style scoped>\n",
       "    .dataframe tbody tr th:only-of-type {\n",
       "        vertical-align: middle;\n",
       "    }\n",
       "\n",
       "    .dataframe tbody tr th {\n",
       "        vertical-align: top;\n",
       "    }\n",
       "\n",
       "    .dataframe thead th {\n",
       "        text-align: right;\n",
       "    }\n",
       "</style>\n",
       "<table border=\"1\" class=\"dataframe\">\n",
       "  <thead>\n",
       "    <tr style=\"text-align: right;\">\n",
       "      <th></th>\n",
       "      <th>eps</th>\n",
       "      <th>dz0</th>\n",
       "      <th>stepdz</th>\n",
       "      <th>stepeps</th>\n",
       "      <th>loops</th>\n",
       "      <th>step</th>\n",
       "      <th>weights</th>\n",
       "      <th>final_cluster</th>\n",
       "      <th>max_size</th>\n",
       "      <th>step_z</th>\n",
       "      <th>size_incr</th>\n",
       "      <th>acc</th>\n",
       "    </tr>\n",
       "  </thead>\n",
       "  <tbody>\n",
       "    <tr>\n",
       "      <th>1099</th>\n",
       "      <td>0.00350</td>\n",
       "      <td>-0.0007</td>\n",
       "      <td>1.500000e-07</td>\n",
       "      <td>1.500000e-09</td>\n",
       "      <td>175.0</td>\n",
       "      <td>eps</td>\n",
       "      <td>35</td>\n",
       "      <td>True</td>\n",
       "      <td>20</td>\n",
       "      <td>0.000000</td>\n",
       "      <td>0.00</td>\n",
       "      <td>0.524089</td>\n",
       "    </tr>\n",
       "    <tr>\n",
       "      <th>1100</th>\n",
       "      <td>0.00350</td>\n",
       "      <td>-0.0007</td>\n",
       "      <td>1.500000e-07</td>\n",
       "      <td>1.500000e-09</td>\n",
       "      <td>175.0</td>\n",
       "      <td>eps</td>\n",
       "      <td>35</td>\n",
       "      <td>True</td>\n",
       "      <td>20</td>\n",
       "      <td>0.000002</td>\n",
       "      <td>0.00</td>\n",
       "      <td>0.524082</td>\n",
       "    </tr>\n",
       "    <tr>\n",
       "      <th>1088</th>\n",
       "      <td>0.00350</td>\n",
       "      <td>-0.0007</td>\n",
       "      <td>1.500000e-07</td>\n",
       "      <td>1.500000e-09</td>\n",
       "      <td>175.0</td>\n",
       "      <td>eps</td>\n",
       "      <td>50</td>\n",
       "      <td>True</td>\n",
       "      <td>20</td>\n",
       "      <td>0.000002</td>\n",
       "      <td>0.00</td>\n",
       "      <td>0.523875</td>\n",
       "    </tr>\n",
       "    <tr>\n",
       "      <th>1087</th>\n",
       "      <td>0.00350</td>\n",
       "      <td>-0.0007</td>\n",
       "      <td>1.500000e-07</td>\n",
       "      <td>1.500000e-09</td>\n",
       "      <td>175.0</td>\n",
       "      <td>eps</td>\n",
       "      <td>50</td>\n",
       "      <td>True</td>\n",
       "      <td>20</td>\n",
       "      <td>0.000000</td>\n",
       "      <td>0.00</td>\n",
       "      <td>0.523870</td>\n",
       "    </tr>\n",
       "    <tr>\n",
       "      <th>1089</th>\n",
       "      <td>0.00350</td>\n",
       "      <td>-0.0007</td>\n",
       "      <td>1.500000e-07</td>\n",
       "      <td>1.500000e-09</td>\n",
       "      <td>175.0</td>\n",
       "      <td>eps</td>\n",
       "      <td>51</td>\n",
       "      <td>True</td>\n",
       "      <td>20</td>\n",
       "      <td>0.000000</td>\n",
       "      <td>0.00</td>\n",
       "      <td>0.523767</td>\n",
       "    </tr>\n",
       "    <tr>\n",
       "      <th>1090</th>\n",
       "      <td>0.00350</td>\n",
       "      <td>-0.0007</td>\n",
       "      <td>1.500000e-07</td>\n",
       "      <td>1.500000e-09</td>\n",
       "      <td>175.0</td>\n",
       "      <td>eps</td>\n",
       "      <td>51</td>\n",
       "      <td>True</td>\n",
       "      <td>20</td>\n",
       "      <td>0.000002</td>\n",
       "      <td>0.00</td>\n",
       "      <td>0.523767</td>\n",
       "    </tr>\n",
       "    <tr>\n",
       "      <th>1092</th>\n",
       "      <td>0.00350</td>\n",
       "      <td>-0.0007</td>\n",
       "      <td>1.500000e-07</td>\n",
       "      <td>1.500000e-09</td>\n",
       "      <td>175.0</td>\n",
       "      <td>eps</td>\n",
       "      <td>52</td>\n",
       "      <td>True</td>\n",
       "      <td>20</td>\n",
       "      <td>0.000002</td>\n",
       "      <td>0.00</td>\n",
       "      <td>0.523473</td>\n",
       "    </tr>\n",
       "    <tr>\n",
       "      <th>1091</th>\n",
       "      <td>0.00350</td>\n",
       "      <td>-0.0007</td>\n",
       "      <td>1.500000e-07</td>\n",
       "      <td>1.500000e-09</td>\n",
       "      <td>175.0</td>\n",
       "      <td>eps</td>\n",
       "      <td>52</td>\n",
       "      <td>True</td>\n",
       "      <td>20</td>\n",
       "      <td>0.000000</td>\n",
       "      <td>0.00</td>\n",
       "      <td>0.523473</td>\n",
       "    </tr>\n",
       "    <tr>\n",
       "      <th>1085</th>\n",
       "      <td>0.00350</td>\n",
       "      <td>-0.0007</td>\n",
       "      <td>1.500000e-07</td>\n",
       "      <td>1.500000e-09</td>\n",
       "      <td>175.0</td>\n",
       "      <td>eps</td>\n",
       "      <td>35</td>\n",
       "      <td>True</td>\n",
       "      <td>20</td>\n",
       "      <td>0.000000</td>\n",
       "      <td>0.00</td>\n",
       "      <td>0.523135</td>\n",
       "    </tr>\n",
       "    <tr>\n",
       "      <th>1086</th>\n",
       "      <td>0.00350</td>\n",
       "      <td>-0.0007</td>\n",
       "      <td>1.500000e-07</td>\n",
       "      <td>1.500000e-09</td>\n",
       "      <td>175.0</td>\n",
       "      <td>eps</td>\n",
       "      <td>35</td>\n",
       "      <td>True</td>\n",
       "      <td>20</td>\n",
       "      <td>0.000002</td>\n",
       "      <td>0.00</td>\n",
       "      <td>0.523126</td>\n",
       "    </tr>\n",
       "    <tr>\n",
       "      <th>1083</th>\n",
       "      <td>0.00350</td>\n",
       "      <td>-0.0007</td>\n",
       "      <td>1.500000e-07</td>\n",
       "      <td>1.500000e-09</td>\n",
       "      <td>175.0</td>\n",
       "      <td>eps</td>\n",
       "      <td>47</td>\n",
       "      <td>True</td>\n",
       "      <td>20</td>\n",
       "      <td>0.000000</td>\n",
       "      <td>0.00</td>\n",
       "      <td>0.523054</td>\n",
       "    </tr>\n",
       "    <tr>\n",
       "      <th>1084</th>\n",
       "      <td>0.00350</td>\n",
       "      <td>-0.0007</td>\n",
       "      <td>1.500000e-07</td>\n",
       "      <td>1.500000e-09</td>\n",
       "      <td>175.0</td>\n",
       "      <td>eps</td>\n",
       "      <td>47</td>\n",
       "      <td>True</td>\n",
       "      <td>20</td>\n",
       "      <td>0.000002</td>\n",
       "      <td>0.00</td>\n",
       "      <td>0.523052</td>\n",
       "    </tr>\n",
       "    <tr>\n",
       "      <th>1081</th>\n",
       "      <td>0.00350</td>\n",
       "      <td>-0.0007</td>\n",
       "      <td>1.500000e-07</td>\n",
       "      <td>1.500000e-09</td>\n",
       "      <td>175.0</td>\n",
       "      <td>eps</td>\n",
       "      <td>46</td>\n",
       "      <td>True</td>\n",
       "      <td>20</td>\n",
       "      <td>0.000000</td>\n",
       "      <td>0.00</td>\n",
       "      <td>0.522960</td>\n",
       "    </tr>\n",
       "    <tr>\n",
       "      <th>1082</th>\n",
       "      <td>0.00350</td>\n",
       "      <td>-0.0007</td>\n",
       "      <td>1.500000e-07</td>\n",
       "      <td>1.500000e-09</td>\n",
       "      <td>175.0</td>\n",
       "      <td>eps</td>\n",
       "      <td>46</td>\n",
       "      <td>True</td>\n",
       "      <td>20</td>\n",
       "      <td>0.000002</td>\n",
       "      <td>0.00</td>\n",
       "      <td>0.522957</td>\n",
       "    </tr>\n",
       "    <tr>\n",
       "      <th>1093</th>\n",
       "      <td>0.00350</td>\n",
       "      <td>-0.0007</td>\n",
       "      <td>1.500000e-07</td>\n",
       "      <td>1.500000e-09</td>\n",
       "      <td>175.0</td>\n",
       "      <td>eps</td>\n",
       "      <td>53</td>\n",
       "      <td>True</td>\n",
       "      <td>20</td>\n",
       "      <td>0.000000</td>\n",
       "      <td>0.00</td>\n",
       "      <td>0.522810</td>\n",
       "    </tr>\n",
       "    <tr>\n",
       "      <th>1094</th>\n",
       "      <td>0.00350</td>\n",
       "      <td>-0.0007</td>\n",
       "      <td>1.500000e-07</td>\n",
       "      <td>1.500000e-09</td>\n",
       "      <td>175.0</td>\n",
       "      <td>eps</td>\n",
       "      <td>53</td>\n",
       "      <td>True</td>\n",
       "      <td>20</td>\n",
       "      <td>0.000002</td>\n",
       "      <td>0.00</td>\n",
       "      <td>0.522810</td>\n",
       "    </tr>\n",
       "    <tr>\n",
       "      <th>1096</th>\n",
       "      <td>0.00350</td>\n",
       "      <td>-0.0007</td>\n",
       "      <td>1.500000e-07</td>\n",
       "      <td>1.500000e-09</td>\n",
       "      <td>175.0</td>\n",
       "      <td>eps</td>\n",
       "      <td>54</td>\n",
       "      <td>True</td>\n",
       "      <td>20</td>\n",
       "      <td>0.000002</td>\n",
       "      <td>0.00</td>\n",
       "      <td>0.521541</td>\n",
       "    </tr>\n",
       "    <tr>\n",
       "      <th>1095</th>\n",
       "      <td>0.00350</td>\n",
       "      <td>-0.0007</td>\n",
       "      <td>1.500000e-07</td>\n",
       "      <td>1.500000e-09</td>\n",
       "      <td>175.0</td>\n",
       "      <td>eps</td>\n",
       "      <td>54</td>\n",
       "      <td>True</td>\n",
       "      <td>20</td>\n",
       "      <td>0.000000</td>\n",
       "      <td>0.00</td>\n",
       "      <td>0.521530</td>\n",
       "    </tr>\n",
       "    <tr>\n",
       "      <th>1054</th>\n",
       "      <td>0.00350</td>\n",
       "      <td>-0.0007</td>\n",
       "      <td>1.500000e-07</td>\n",
       "      <td>1.500000e-09</td>\n",
       "      <td>175.0</td>\n",
       "      <td>eps</td>\n",
       "      <td>35</td>\n",
       "      <td>True</td>\n",
       "      <td>20</td>\n",
       "      <td>0.000002</td>\n",
       "      <td>0.00</td>\n",
       "      <td>0.520792</td>\n",
       "    </tr>\n",
       "    <tr>\n",
       "      <th>1055</th>\n",
       "      <td>0.00350</td>\n",
       "      <td>-0.0007</td>\n",
       "      <td>1.500000e-07</td>\n",
       "      <td>1.500000e-09</td>\n",
       "      <td>175.0</td>\n",
       "      <td>eps</td>\n",
       "      <td>35</td>\n",
       "      <td>True</td>\n",
       "      <td>20</td>\n",
       "      <td>0.000001</td>\n",
       "      <td>0.00</td>\n",
       "      <td>0.520790</td>\n",
       "    </tr>\n",
       "    <tr>\n",
       "      <th>1053</th>\n",
       "      <td>0.00350</td>\n",
       "      <td>-0.0007</td>\n",
       "      <td>1.500000e-07</td>\n",
       "      <td>1.500000e-09</td>\n",
       "      <td>175.0</td>\n",
       "      <td>eps</td>\n",
       "      <td>35</td>\n",
       "      <td>True</td>\n",
       "      <td>20</td>\n",
       "      <td>0.000000</td>\n",
       "      <td>0.00</td>\n",
       "      <td>0.520790</td>\n",
       "    </tr>\n",
       "    <tr>\n",
       "      <th>1097</th>\n",
       "      <td>0.00350</td>\n",
       "      <td>-0.0007</td>\n",
       "      <td>1.500000e-07</td>\n",
       "      <td>1.500000e-09</td>\n",
       "      <td>175.0</td>\n",
       "      <td>eps</td>\n",
       "      <td>55</td>\n",
       "      <td>True</td>\n",
       "      <td>20</td>\n",
       "      <td>0.000000</td>\n",
       "      <td>0.00</td>\n",
       "      <td>0.520569</td>\n",
       "    </tr>\n",
       "    <tr>\n",
       "      <th>1098</th>\n",
       "      <td>0.00350</td>\n",
       "      <td>-0.0007</td>\n",
       "      <td>1.500000e-07</td>\n",
       "      <td>1.500000e-09</td>\n",
       "      <td>175.0</td>\n",
       "      <td>eps</td>\n",
       "      <td>55</td>\n",
       "      <td>True</td>\n",
       "      <td>20</td>\n",
       "      <td>0.000002</td>\n",
       "      <td>0.00</td>\n",
       "      <td>0.520569</td>\n",
       "    </tr>\n",
       "    <tr>\n",
       "      <th>1047</th>\n",
       "      <td>0.00350</td>\n",
       "      <td>-0.0007</td>\n",
       "      <td>1.500000e-07</td>\n",
       "      <td>1.500000e-09</td>\n",
       "      <td>175.0</td>\n",
       "      <td>eps</td>\n",
       "      <td>32</td>\n",
       "      <td>True</td>\n",
       "      <td>20</td>\n",
       "      <td>0.000000</td>\n",
       "      <td>0.00</td>\n",
       "      <td>0.520345</td>\n",
       "    </tr>\n",
       "    <tr>\n",
       "      <th>1049</th>\n",
       "      <td>0.00350</td>\n",
       "      <td>-0.0007</td>\n",
       "      <td>1.500000e-07</td>\n",
       "      <td>1.500000e-09</td>\n",
       "      <td>175.0</td>\n",
       "      <td>eps</td>\n",
       "      <td>32</td>\n",
       "      <td>True</td>\n",
       "      <td>20</td>\n",
       "      <td>0.000001</td>\n",
       "      <td>0.00</td>\n",
       "      <td>0.520333</td>\n",
       "    </tr>\n",
       "    <tr>\n",
       "      <th>1048</th>\n",
       "      <td>0.00350</td>\n",
       "      <td>-0.0007</td>\n",
       "      <td>1.500000e-07</td>\n",
       "      <td>1.500000e-09</td>\n",
       "      <td>175.0</td>\n",
       "      <td>eps</td>\n",
       "      <td>32</td>\n",
       "      <td>True</td>\n",
       "      <td>20</td>\n",
       "      <td>0.000002</td>\n",
       "      <td>0.00</td>\n",
       "      <td>0.520330</td>\n",
       "    </tr>\n",
       "    <tr>\n",
       "      <th>1068</th>\n",
       "      <td>0.00350</td>\n",
       "      <td>-0.0007</td>\n",
       "      <td>1.500000e-07</td>\n",
       "      <td>1.500000e-09</td>\n",
       "      <td>175.0</td>\n",
       "      <td>eps</td>\n",
       "      <td>40</td>\n",
       "      <td>True</td>\n",
       "      <td>20</td>\n",
       "      <td>0.000000</td>\n",
       "      <td>0.00</td>\n",
       "      <td>0.520101</td>\n",
       "    </tr>\n",
       "    <tr>\n",
       "      <th>1069</th>\n",
       "      <td>0.00350</td>\n",
       "      <td>-0.0007</td>\n",
       "      <td>1.500000e-07</td>\n",
       "      <td>1.500000e-09</td>\n",
       "      <td>175.0</td>\n",
       "      <td>eps</td>\n",
       "      <td>40</td>\n",
       "      <td>True</td>\n",
       "      <td>20</td>\n",
       "      <td>0.000002</td>\n",
       "      <td>0.00</td>\n",
       "      <td>0.520101</td>\n",
       "    </tr>\n",
       "    <tr>\n",
       "      <th>1070</th>\n",
       "      <td>0.00350</td>\n",
       "      <td>-0.0007</td>\n",
       "      <td>1.500000e-07</td>\n",
       "      <td>1.500000e-09</td>\n",
       "      <td>175.0</td>\n",
       "      <td>eps</td>\n",
       "      <td>40</td>\n",
       "      <td>True</td>\n",
       "      <td>20</td>\n",
       "      <td>0.000002</td>\n",
       "      <td>0.00</td>\n",
       "      <td>0.520101</td>\n",
       "    </tr>\n",
       "    <tr>\n",
       "      <th>1066</th>\n",
       "      <td>0.00350</td>\n",
       "      <td>-0.0007</td>\n",
       "      <td>1.500000e-07</td>\n",
       "      <td>1.500000e-09</td>\n",
       "      <td>175.0</td>\n",
       "      <td>eps</td>\n",
       "      <td>39</td>\n",
       "      <td>True</td>\n",
       "      <td>20</td>\n",
       "      <td>0.000002</td>\n",
       "      <td>0.00</td>\n",
       "      <td>0.519730</td>\n",
       "    </tr>\n",
       "    <tr>\n",
       "      <th>...</th>\n",
       "      <td>...</td>\n",
       "      <td>...</td>\n",
       "      <td>...</td>\n",
       "      <td>...</td>\n",
       "      <td>...</td>\n",
       "      <td>...</td>\n",
       "      <td>...</td>\n",
       "      <td>...</td>\n",
       "      <td>...</td>\n",
       "      <td>...</td>\n",
       "      <td>...</td>\n",
       "      <td>...</td>\n",
       "    </tr>\n",
       "    <tr>\n",
       "      <th>498</th>\n",
       "      <td>0.00350</td>\n",
       "      <td>-0.0007</td>\n",
       "      <td>1.000000e-06</td>\n",
       "      <td>1.000000e-06</td>\n",
       "      <td>155.0</td>\n",
       "      <td>eps</td>\n",
       "      <td>4</td>\n",
       "      <td>True</td>\n",
       "      <td>20</td>\n",
       "      <td>0.000000</td>\n",
       "      <td>0.00</td>\n",
       "      <td>0.495461</td>\n",
       "    </tr>\n",
       "    <tr>\n",
       "      <th>497</th>\n",
       "      <td>0.00350</td>\n",
       "      <td>-0.0007</td>\n",
       "      <td>1.000000e-06</td>\n",
       "      <td>1.000000e-06</td>\n",
       "      <td>160.0</td>\n",
       "      <td>eps</td>\n",
       "      <td>4</td>\n",
       "      <td>True</td>\n",
       "      <td>20</td>\n",
       "      <td>0.000000</td>\n",
       "      <td>0.00</td>\n",
       "      <td>0.495342</td>\n",
       "    </tr>\n",
       "    <tr>\n",
       "      <th>494</th>\n",
       "      <td>0.00350</td>\n",
       "      <td>-0.0007</td>\n",
       "      <td>2.000000e-06</td>\n",
       "      <td>1.000000e-06</td>\n",
       "      <td>155.0</td>\n",
       "      <td>eps</td>\n",
       "      <td>4</td>\n",
       "      <td>True</td>\n",
       "      <td>20</td>\n",
       "      <td>0.000000</td>\n",
       "      <td>0.00</td>\n",
       "      <td>0.495321</td>\n",
       "    </tr>\n",
       "    <tr>\n",
       "      <th>484</th>\n",
       "      <td>0.00370</td>\n",
       "      <td>-0.0007</td>\n",
       "      <td>2.000000e-06</td>\n",
       "      <td>0.000000e+00</td>\n",
       "      <td>160.0</td>\n",
       "      <td>eps</td>\n",
       "      <td>7</td>\n",
       "      <td>True</td>\n",
       "      <td>20</td>\n",
       "      <td>0.000000</td>\n",
       "      <td>0.00</td>\n",
       "      <td>0.495295</td>\n",
       "    </tr>\n",
       "    <tr>\n",
       "      <th>504</th>\n",
       "      <td>0.00370</td>\n",
       "      <td>-0.0007</td>\n",
       "      <td>1.000000e-06</td>\n",
       "      <td>0.000000e+00</td>\n",
       "      <td>155.0</td>\n",
       "      <td>eps</td>\n",
       "      <td>4</td>\n",
       "      <td>True</td>\n",
       "      <td>20</td>\n",
       "      <td>0.000000</td>\n",
       "      <td>0.00</td>\n",
       "      <td>0.495081</td>\n",
       "    </tr>\n",
       "    <tr>\n",
       "      <th>503</th>\n",
       "      <td>0.00370</td>\n",
       "      <td>-0.0007</td>\n",
       "      <td>1.000000e-06</td>\n",
       "      <td>0.000000e+00</td>\n",
       "      <td>160.0</td>\n",
       "      <td>eps</td>\n",
       "      <td>4</td>\n",
       "      <td>True</td>\n",
       "      <td>20</td>\n",
       "      <td>0.000000</td>\n",
       "      <td>0.00</td>\n",
       "      <td>0.495069</td>\n",
       "    </tr>\n",
       "    <tr>\n",
       "      <th>493</th>\n",
       "      <td>0.00350</td>\n",
       "      <td>-0.0007</td>\n",
       "      <td>2.000000e-06</td>\n",
       "      <td>1.000000e-06</td>\n",
       "      <td>160.0</td>\n",
       "      <td>eps</td>\n",
       "      <td>4</td>\n",
       "      <td>True</td>\n",
       "      <td>20</td>\n",
       "      <td>0.000000</td>\n",
       "      <td>0.00</td>\n",
       "      <td>0.495062</td>\n",
       "    </tr>\n",
       "    <tr>\n",
       "      <th>499</th>\n",
       "      <td>0.00370</td>\n",
       "      <td>-0.0007</td>\n",
       "      <td>2.000000e-06</td>\n",
       "      <td>0.000000e+00</td>\n",
       "      <td>160.0</td>\n",
       "      <td>eps</td>\n",
       "      <td>4</td>\n",
       "      <td>True</td>\n",
       "      <td>20</td>\n",
       "      <td>0.000000</td>\n",
       "      <td>0.00</td>\n",
       "      <td>0.494558</td>\n",
       "    </tr>\n",
       "    <tr>\n",
       "      <th>486</th>\n",
       "      <td>0.00370</td>\n",
       "      <td>-0.0007</td>\n",
       "      <td>2.000000e-06</td>\n",
       "      <td>0.000000e+00</td>\n",
       "      <td>170.0</td>\n",
       "      <td>eps</td>\n",
       "      <td>7</td>\n",
       "      <td>True</td>\n",
       "      <td>20</td>\n",
       "      <td>0.000000</td>\n",
       "      <td>0.00</td>\n",
       "      <td>0.494419</td>\n",
       "    </tr>\n",
       "    <tr>\n",
       "      <th>500</th>\n",
       "      <td>0.00370</td>\n",
       "      <td>-0.0007</td>\n",
       "      <td>2.000000e-06</td>\n",
       "      <td>0.000000e+00</td>\n",
       "      <td>155.0</td>\n",
       "      <td>eps</td>\n",
       "      <td>4</td>\n",
       "      <td>True</td>\n",
       "      <td>20</td>\n",
       "      <td>0.000000</td>\n",
       "      <td>0.00</td>\n",
       "      <td>0.494307</td>\n",
       "    </tr>\n",
       "    <tr>\n",
       "      <th>472</th>\n",
       "      <td>0.00350</td>\n",
       "      <td>-0.0007</td>\n",
       "      <td>3.000000e-06</td>\n",
       "      <td>2.000000e-06</td>\n",
       "      <td>160.0</td>\n",
       "      <td>eps</td>\n",
       "      <td>7</td>\n",
       "      <td>True</td>\n",
       "      <td>20</td>\n",
       "      <td>0.000000</td>\n",
       "      <td>0.00</td>\n",
       "      <td>0.493401</td>\n",
       "    </tr>\n",
       "    <tr>\n",
       "      <th>477</th>\n",
       "      <td>0.00350</td>\n",
       "      <td>-0.0007</td>\n",
       "      <td>3.000000e-06</td>\n",
       "      <td>0.000000e+00</td>\n",
       "      <td>170.0</td>\n",
       "      <td>eps</td>\n",
       "      <td>7</td>\n",
       "      <td>False</td>\n",
       "      <td>20</td>\n",
       "      <td>0.000000</td>\n",
       "      <td>0.00</td>\n",
       "      <td>0.493394</td>\n",
       "    </tr>\n",
       "    <tr>\n",
       "      <th>469</th>\n",
       "      <td>0.00350</td>\n",
       "      <td>-0.0007</td>\n",
       "      <td>2.000000e-06</td>\n",
       "      <td>0.000000e+00</td>\n",
       "      <td>170.0</td>\n",
       "      <td>eps</td>\n",
       "      <td>7</td>\n",
       "      <td>False</td>\n",
       "      <td>20</td>\n",
       "      <td>0.000000</td>\n",
       "      <td>0.00</td>\n",
       "      <td>0.493325</td>\n",
       "    </tr>\n",
       "    <tr>\n",
       "      <th>462</th>\n",
       "      <td>0.00360</td>\n",
       "      <td>-0.0007</td>\n",
       "      <td>3.000000e-06</td>\n",
       "      <td>2.000000e-16</td>\n",
       "      <td>170.0</td>\n",
       "      <td>eps</td>\n",
       "      <td>6</td>\n",
       "      <td>True</td>\n",
       "      <td>20</td>\n",
       "      <td>0.000000</td>\n",
       "      <td>0.00</td>\n",
       "      <td>0.492377</td>\n",
       "    </tr>\n",
       "    <tr>\n",
       "      <th>502</th>\n",
       "      <td>0.00370</td>\n",
       "      <td>-0.0007</td>\n",
       "      <td>2.000000e-06</td>\n",
       "      <td>1.000000e-06</td>\n",
       "      <td>155.0</td>\n",
       "      <td>eps</td>\n",
       "      <td>4</td>\n",
       "      <td>True</td>\n",
       "      <td>20</td>\n",
       "      <td>0.000000</td>\n",
       "      <td>0.00</td>\n",
       "      <td>0.492239</td>\n",
       "    </tr>\n",
       "    <tr>\n",
       "      <th>464</th>\n",
       "      <td>0.00350</td>\n",
       "      <td>-0.0007</td>\n",
       "      <td>2.000000e-06</td>\n",
       "      <td>2.000000e-06</td>\n",
       "      <td>160.0</td>\n",
       "      <td>eps</td>\n",
       "      <td>7</td>\n",
       "      <td>True</td>\n",
       "      <td>20</td>\n",
       "      <td>0.000000</td>\n",
       "      <td>0.00</td>\n",
       "      <td>0.492153</td>\n",
       "    </tr>\n",
       "    <tr>\n",
       "      <th>474</th>\n",
       "      <td>0.00350</td>\n",
       "      <td>-0.0007</td>\n",
       "      <td>3.000000e-06</td>\n",
       "      <td>2.000000e-06</td>\n",
       "      <td>170.0</td>\n",
       "      <td>eps</td>\n",
       "      <td>7</td>\n",
       "      <td>True</td>\n",
       "      <td>20</td>\n",
       "      <td>0.000000</td>\n",
       "      <td>0.00</td>\n",
       "      <td>0.491889</td>\n",
       "    </tr>\n",
       "    <tr>\n",
       "      <th>475</th>\n",
       "      <td>0.00350</td>\n",
       "      <td>-0.0007</td>\n",
       "      <td>3.000000e-06</td>\n",
       "      <td>0.000000e+00</td>\n",
       "      <td>160.0</td>\n",
       "      <td>eps</td>\n",
       "      <td>7</td>\n",
       "      <td>False</td>\n",
       "      <td>20</td>\n",
       "      <td>0.000000</td>\n",
       "      <td>0.00</td>\n",
       "      <td>0.491885</td>\n",
       "    </tr>\n",
       "    <tr>\n",
       "      <th>467</th>\n",
       "      <td>0.00350</td>\n",
       "      <td>-0.0007</td>\n",
       "      <td>2.000000e-06</td>\n",
       "      <td>0.000000e+00</td>\n",
       "      <td>160.0</td>\n",
       "      <td>eps</td>\n",
       "      <td>7</td>\n",
       "      <td>False</td>\n",
       "      <td>20</td>\n",
       "      <td>0.000000</td>\n",
       "      <td>0.00</td>\n",
       "      <td>0.491866</td>\n",
       "    </tr>\n",
       "    <tr>\n",
       "      <th>506</th>\n",
       "      <td>0.00370</td>\n",
       "      <td>-0.0007</td>\n",
       "      <td>1.000000e-06</td>\n",
       "      <td>1.000000e-06</td>\n",
       "      <td>155.0</td>\n",
       "      <td>eps</td>\n",
       "      <td>4</td>\n",
       "      <td>True</td>\n",
       "      <td>20</td>\n",
       "      <td>0.000000</td>\n",
       "      <td>0.00</td>\n",
       "      <td>0.491750</td>\n",
       "    </tr>\n",
       "    <tr>\n",
       "      <th>501</th>\n",
       "      <td>0.00370</td>\n",
       "      <td>-0.0007</td>\n",
       "      <td>2.000000e-06</td>\n",
       "      <td>1.000000e-06</td>\n",
       "      <td>160.0</td>\n",
       "      <td>eps</td>\n",
       "      <td>4</td>\n",
       "      <td>True</td>\n",
       "      <td>20</td>\n",
       "      <td>0.000000</td>\n",
       "      <td>0.00</td>\n",
       "      <td>0.491691</td>\n",
       "    </tr>\n",
       "    <tr>\n",
       "      <th>1019</th>\n",
       "      <td>0.00350</td>\n",
       "      <td>-0.0007</td>\n",
       "      <td>1.500000e-07</td>\n",
       "      <td>0.000000e+00</td>\n",
       "      <td>155.0</td>\n",
       "      <td>eps</td>\n",
       "      <td>25</td>\n",
       "      <td>True</td>\n",
       "      <td>17</td>\n",
       "      <td>0.000002</td>\n",
       "      <td>-0.05</td>\n",
       "      <td>0.491469</td>\n",
       "    </tr>\n",
       "    <tr>\n",
       "      <th>1010</th>\n",
       "      <td>0.00350</td>\n",
       "      <td>-0.0007</td>\n",
       "      <td>1.500000e-07</td>\n",
       "      <td>1.500000e-09</td>\n",
       "      <td>155.0</td>\n",
       "      <td>eps</td>\n",
       "      <td>25</td>\n",
       "      <td>True</td>\n",
       "      <td>17</td>\n",
       "      <td>0.000002</td>\n",
       "      <td>-0.05</td>\n",
       "      <td>0.491463</td>\n",
       "    </tr>\n",
       "    <tr>\n",
       "      <th>505</th>\n",
       "      <td>0.00370</td>\n",
       "      <td>-0.0007</td>\n",
       "      <td>1.000000e-06</td>\n",
       "      <td>1.000000e-06</td>\n",
       "      <td>160.0</td>\n",
       "      <td>eps</td>\n",
       "      <td>4</td>\n",
       "      <td>True</td>\n",
       "      <td>20</td>\n",
       "      <td>0.000000</td>\n",
       "      <td>0.00</td>\n",
       "      <td>0.491284</td>\n",
       "    </tr>\n",
       "    <tr>\n",
       "      <th>438</th>\n",
       "      <td>0.00370</td>\n",
       "      <td>-0.0007</td>\n",
       "      <td>1.000000e-05</td>\n",
       "      <td>3.000000e-06</td>\n",
       "      <td>160.0</td>\n",
       "      <td>eps</td>\n",
       "      <td>-1</td>\n",
       "      <td>True</td>\n",
       "      <td>20</td>\n",
       "      <td>0.000000</td>\n",
       "      <td>0.00</td>\n",
       "      <td>0.491072</td>\n",
       "    </tr>\n",
       "    <tr>\n",
       "      <th>437</th>\n",
       "      <td>0.00370</td>\n",
       "      <td>-0.0007</td>\n",
       "      <td>1.000000e-05</td>\n",
       "      <td>3.000000e-06</td>\n",
       "      <td>150.0</td>\n",
       "      <td>eps</td>\n",
       "      <td>-1</td>\n",
       "      <td>True</td>\n",
       "      <td>20</td>\n",
       "      <td>0.000000</td>\n",
       "      <td>0.00</td>\n",
       "      <td>0.491066</td>\n",
       "    </tr>\n",
       "    <tr>\n",
       "      <th>466</th>\n",
       "      <td>0.00350</td>\n",
       "      <td>-0.0007</td>\n",
       "      <td>2.000000e-06</td>\n",
       "      <td>2.000000e-06</td>\n",
       "      <td>170.0</td>\n",
       "      <td>eps</td>\n",
       "      <td>7</td>\n",
       "      <td>True</td>\n",
       "      <td>20</td>\n",
       "      <td>0.000000</td>\n",
       "      <td>0.00</td>\n",
       "      <td>0.490752</td>\n",
       "    </tr>\n",
       "    <tr>\n",
       "      <th>435</th>\n",
       "      <td>0.00370</td>\n",
       "      <td>-0.0007</td>\n",
       "      <td>1.000000e-05</td>\n",
       "      <td>2.500000e-06</td>\n",
       "      <td>160.0</td>\n",
       "      <td>eps</td>\n",
       "      <td>-1</td>\n",
       "      <td>True</td>\n",
       "      <td>20</td>\n",
       "      <td>0.000000</td>\n",
       "      <td>0.00</td>\n",
       "      <td>0.490736</td>\n",
       "    </tr>\n",
       "    <tr>\n",
       "      <th>434</th>\n",
       "      <td>0.00370</td>\n",
       "      <td>-0.0007</td>\n",
       "      <td>1.000000e-05</td>\n",
       "      <td>2.500000e-06</td>\n",
       "      <td>150.0</td>\n",
       "      <td>eps</td>\n",
       "      <td>-1</td>\n",
       "      <td>True</td>\n",
       "      <td>20</td>\n",
       "      <td>0.000000</td>\n",
       "      <td>0.00</td>\n",
       "      <td>0.490604</td>\n",
       "    </tr>\n",
       "    <tr>\n",
       "      <th>428</th>\n",
       "      <td>0.00375</td>\n",
       "      <td>-0.0007</td>\n",
       "      <td>1.000000e-05</td>\n",
       "      <td>3.000000e-06</td>\n",
       "      <td>150.0</td>\n",
       "      <td>eps</td>\n",
       "      <td>-1</td>\n",
       "      <td>True</td>\n",
       "      <td>20</td>\n",
       "      <td>0.000000</td>\n",
       "      <td>0.00</td>\n",
       "      <td>0.490047</td>\n",
       "    </tr>\n",
       "  </tbody>\n",
       "</table>\n",
       "<p>537 rows × 12 columns</p>\n",
       "</div>"
      ],
      "text/plain": [
       "          eps     dz0        stepdz       stepeps  loops step  weights  \\\n",
       "1099  0.00350 -0.0007  1.500000e-07  1.500000e-09  175.0  eps       35   \n",
       "1100  0.00350 -0.0007  1.500000e-07  1.500000e-09  175.0  eps       35   \n",
       "1088  0.00350 -0.0007  1.500000e-07  1.500000e-09  175.0  eps       50   \n",
       "1087  0.00350 -0.0007  1.500000e-07  1.500000e-09  175.0  eps       50   \n",
       "1089  0.00350 -0.0007  1.500000e-07  1.500000e-09  175.0  eps       51   \n",
       "1090  0.00350 -0.0007  1.500000e-07  1.500000e-09  175.0  eps       51   \n",
       "1092  0.00350 -0.0007  1.500000e-07  1.500000e-09  175.0  eps       52   \n",
       "1091  0.00350 -0.0007  1.500000e-07  1.500000e-09  175.0  eps       52   \n",
       "1085  0.00350 -0.0007  1.500000e-07  1.500000e-09  175.0  eps       35   \n",
       "1086  0.00350 -0.0007  1.500000e-07  1.500000e-09  175.0  eps       35   \n",
       "1083  0.00350 -0.0007  1.500000e-07  1.500000e-09  175.0  eps       47   \n",
       "1084  0.00350 -0.0007  1.500000e-07  1.500000e-09  175.0  eps       47   \n",
       "1081  0.00350 -0.0007  1.500000e-07  1.500000e-09  175.0  eps       46   \n",
       "1082  0.00350 -0.0007  1.500000e-07  1.500000e-09  175.0  eps       46   \n",
       "1093  0.00350 -0.0007  1.500000e-07  1.500000e-09  175.0  eps       53   \n",
       "1094  0.00350 -0.0007  1.500000e-07  1.500000e-09  175.0  eps       53   \n",
       "1096  0.00350 -0.0007  1.500000e-07  1.500000e-09  175.0  eps       54   \n",
       "1095  0.00350 -0.0007  1.500000e-07  1.500000e-09  175.0  eps       54   \n",
       "1054  0.00350 -0.0007  1.500000e-07  1.500000e-09  175.0  eps       35   \n",
       "1055  0.00350 -0.0007  1.500000e-07  1.500000e-09  175.0  eps       35   \n",
       "1053  0.00350 -0.0007  1.500000e-07  1.500000e-09  175.0  eps       35   \n",
       "1097  0.00350 -0.0007  1.500000e-07  1.500000e-09  175.0  eps       55   \n",
       "1098  0.00350 -0.0007  1.500000e-07  1.500000e-09  175.0  eps       55   \n",
       "1047  0.00350 -0.0007  1.500000e-07  1.500000e-09  175.0  eps       32   \n",
       "1049  0.00350 -0.0007  1.500000e-07  1.500000e-09  175.0  eps       32   \n",
       "1048  0.00350 -0.0007  1.500000e-07  1.500000e-09  175.0  eps       32   \n",
       "1068  0.00350 -0.0007  1.500000e-07  1.500000e-09  175.0  eps       40   \n",
       "1069  0.00350 -0.0007  1.500000e-07  1.500000e-09  175.0  eps       40   \n",
       "1070  0.00350 -0.0007  1.500000e-07  1.500000e-09  175.0  eps       40   \n",
       "1066  0.00350 -0.0007  1.500000e-07  1.500000e-09  175.0  eps       39   \n",
       "...       ...     ...           ...           ...    ...  ...      ...   \n",
       "498   0.00350 -0.0007  1.000000e-06  1.000000e-06  155.0  eps        4   \n",
       "497   0.00350 -0.0007  1.000000e-06  1.000000e-06  160.0  eps        4   \n",
       "494   0.00350 -0.0007  2.000000e-06  1.000000e-06  155.0  eps        4   \n",
       "484   0.00370 -0.0007  2.000000e-06  0.000000e+00  160.0  eps        7   \n",
       "504   0.00370 -0.0007  1.000000e-06  0.000000e+00  155.0  eps        4   \n",
       "503   0.00370 -0.0007  1.000000e-06  0.000000e+00  160.0  eps        4   \n",
       "493   0.00350 -0.0007  2.000000e-06  1.000000e-06  160.0  eps        4   \n",
       "499   0.00370 -0.0007  2.000000e-06  0.000000e+00  160.0  eps        4   \n",
       "486   0.00370 -0.0007  2.000000e-06  0.000000e+00  170.0  eps        7   \n",
       "500   0.00370 -0.0007  2.000000e-06  0.000000e+00  155.0  eps        4   \n",
       "472   0.00350 -0.0007  3.000000e-06  2.000000e-06  160.0  eps        7   \n",
       "477   0.00350 -0.0007  3.000000e-06  0.000000e+00  170.0  eps        7   \n",
       "469   0.00350 -0.0007  2.000000e-06  0.000000e+00  170.0  eps        7   \n",
       "462   0.00360 -0.0007  3.000000e-06  2.000000e-16  170.0  eps        6   \n",
       "502   0.00370 -0.0007  2.000000e-06  1.000000e-06  155.0  eps        4   \n",
       "464   0.00350 -0.0007  2.000000e-06  2.000000e-06  160.0  eps        7   \n",
       "474   0.00350 -0.0007  3.000000e-06  2.000000e-06  170.0  eps        7   \n",
       "475   0.00350 -0.0007  3.000000e-06  0.000000e+00  160.0  eps        7   \n",
       "467   0.00350 -0.0007  2.000000e-06  0.000000e+00  160.0  eps        7   \n",
       "506   0.00370 -0.0007  1.000000e-06  1.000000e-06  155.0  eps        4   \n",
       "501   0.00370 -0.0007  2.000000e-06  1.000000e-06  160.0  eps        4   \n",
       "1019  0.00350 -0.0007  1.500000e-07  0.000000e+00  155.0  eps       25   \n",
       "1010  0.00350 -0.0007  1.500000e-07  1.500000e-09  155.0  eps       25   \n",
       "505   0.00370 -0.0007  1.000000e-06  1.000000e-06  160.0  eps        4   \n",
       "438   0.00370 -0.0007  1.000000e-05  3.000000e-06  160.0  eps       -1   \n",
       "437   0.00370 -0.0007  1.000000e-05  3.000000e-06  150.0  eps       -1   \n",
       "466   0.00350 -0.0007  2.000000e-06  2.000000e-06  170.0  eps        7   \n",
       "435   0.00370 -0.0007  1.000000e-05  2.500000e-06  160.0  eps       -1   \n",
       "434   0.00370 -0.0007  1.000000e-05  2.500000e-06  150.0  eps       -1   \n",
       "428   0.00375 -0.0007  1.000000e-05  3.000000e-06  150.0  eps       -1   \n",
       "\n",
       "      final_cluster  max_size    step_z  size_incr       acc  \n",
       "1099           True        20  0.000000       0.00  0.524089  \n",
       "1100           True        20  0.000002       0.00  0.524082  \n",
       "1088           True        20  0.000002       0.00  0.523875  \n",
       "1087           True        20  0.000000       0.00  0.523870  \n",
       "1089           True        20  0.000000       0.00  0.523767  \n",
       "1090           True        20  0.000002       0.00  0.523767  \n",
       "1092           True        20  0.000002       0.00  0.523473  \n",
       "1091           True        20  0.000000       0.00  0.523473  \n",
       "1085           True        20  0.000000       0.00  0.523135  \n",
       "1086           True        20  0.000002       0.00  0.523126  \n",
       "1083           True        20  0.000000       0.00  0.523054  \n",
       "1084           True        20  0.000002       0.00  0.523052  \n",
       "1081           True        20  0.000000       0.00  0.522960  \n",
       "1082           True        20  0.000002       0.00  0.522957  \n",
       "1093           True        20  0.000000       0.00  0.522810  \n",
       "1094           True        20  0.000002       0.00  0.522810  \n",
       "1096           True        20  0.000002       0.00  0.521541  \n",
       "1095           True        20  0.000000       0.00  0.521530  \n",
       "1054           True        20  0.000002       0.00  0.520792  \n",
       "1055           True        20  0.000001       0.00  0.520790  \n",
       "1053           True        20  0.000000       0.00  0.520790  \n",
       "1097           True        20  0.000000       0.00  0.520569  \n",
       "1098           True        20  0.000002       0.00  0.520569  \n",
       "1047           True        20  0.000000       0.00  0.520345  \n",
       "1049           True        20  0.000001       0.00  0.520333  \n",
       "1048           True        20  0.000002       0.00  0.520330  \n",
       "1068           True        20  0.000000       0.00  0.520101  \n",
       "1069           True        20  0.000002       0.00  0.520101  \n",
       "1070           True        20  0.000002       0.00  0.520101  \n",
       "1066           True        20  0.000002       0.00  0.519730  \n",
       "...             ...       ...       ...        ...       ...  \n",
       "498            True        20  0.000000       0.00  0.495461  \n",
       "497            True        20  0.000000       0.00  0.495342  \n",
       "494            True        20  0.000000       0.00  0.495321  \n",
       "484            True        20  0.000000       0.00  0.495295  \n",
       "504            True        20  0.000000       0.00  0.495081  \n",
       "503            True        20  0.000000       0.00  0.495069  \n",
       "493            True        20  0.000000       0.00  0.495062  \n",
       "499            True        20  0.000000       0.00  0.494558  \n",
       "486            True        20  0.000000       0.00  0.494419  \n",
       "500            True        20  0.000000       0.00  0.494307  \n",
       "472            True        20  0.000000       0.00  0.493401  \n",
       "477           False        20  0.000000       0.00  0.493394  \n",
       "469           False        20  0.000000       0.00  0.493325  \n",
       "462            True        20  0.000000       0.00  0.492377  \n",
       "502            True        20  0.000000       0.00  0.492239  \n",
       "464            True        20  0.000000       0.00  0.492153  \n",
       "474            True        20  0.000000       0.00  0.491889  \n",
       "475           False        20  0.000000       0.00  0.491885  \n",
       "467           False        20  0.000000       0.00  0.491866  \n",
       "506            True        20  0.000000       0.00  0.491750  \n",
       "501            True        20  0.000000       0.00  0.491691  \n",
       "1019           True        17  0.000002      -0.05  0.491469  \n",
       "1010           True        17  0.000002      -0.05  0.491463  \n",
       "505            True        20  0.000000       0.00  0.491284  \n",
       "438            True        20  0.000000       0.00  0.491072  \n",
       "437            True        20  0.000000       0.00  0.491066  \n",
       "466            True        20  0.000000       0.00  0.490752  \n",
       "435            True        20  0.000000       0.00  0.490736  \n",
       "434            True        20  0.000000       0.00  0.490604  \n",
       "428            True        20  0.000000       0.00  0.490047  \n",
       "\n",
       "[537 rows x 12 columns]"
      ]
     },
     "execution_count": 9,
     "metadata": {},
     "output_type": "execute_result"
    }
   ],
   "source": [
    "results_df.sort_values(\"acc\", ascending=False)"
   ]
  },
  {
   "cell_type": "code",
   "execution_count": 12,
   "metadata": {},
   "outputs": [],
   "source": [
    "results_df.sort_values(\"acc\", ascending=False).to_pickle(\"gs_results.pkl\")"
   ]
  },
  {
   "cell_type": "code",
   "execution_count": null,
   "metadata": {},
   "outputs": [],
   "source": []
  },
  {
   "cell_type": "code",
   "execution_count": 80,
   "metadata": {},
   "outputs": [
    {
     "name": "stdout",
     "output_type": "stream",
     "text": [
      " -  1199 Eps: 0.0035 stepdz: 1.5e-07 stepeps: 7e-08 loops: 25 weight: 70 max size: 20 step z: 4.5e-05\n"
     ]
    },
    {
     "data": {
      "application/vnd.jupyter.widget-view+json": {
       "model_id": "8285b060bc5d4239a916e8e26600ed57",
       "version_major": 2,
       "version_minor": 0
      },
      "text/plain": [
       "HBox(children=(IntProgress(value=0, max=54396), HTML(value='')))"
      ]
     },
     "metadata": {},
     "output_type": "display_data"
    },
    {
     "name": "stdout",
     "output_type": "stream",
     "text": [
      "\n",
      "1040 (0.0035, -0.0007, 1.5e-07, 7e-08, 25, True, 70, True, 20, 4.5e-05, 0) score: 0.30484890847014867\n"
     ]
    },
    {
     "ename": "KeyboardInterrupt",
     "evalue": "",
     "output_type": "error",
     "traceback": [
      "\u001b[0;31m---------------------------------------------------------------------------\u001b[0m",
      "\u001b[0;31mKeyboardInterrupt\u001b[0m                         Traceback (most recent call last)",
      "\u001b[0;32m<ipython-input-80-5766be0f9274>\u001b[0m in \u001b[0;36m<module>\u001b[0;34m()\u001b[0m\n\u001b[0;32m----> 1\u001b[0;31m \u001b[0mresults\u001b[0m \u001b[0;34m=\u001b[0m \u001b[0mgrid_search_loop\u001b[0m\u001b[0;34m(\u001b[0m\u001b[0miter_list\u001b[0m\u001b[0;34m[\u001b[0m\u001b[0;36m0\u001b[0m\u001b[0;34m]\u001b[0m\u001b[0;34m)\u001b[0m\u001b[0;34m\u001b[0m\u001b[0m\n\u001b[0m",
      "\u001b[0;32m<ipython-input-72-f12519741559>\u001b[0m in \u001b[0;36mgrid_search_loop\u001b[0;34m(params)\u001b[0m\n\u001b[1;32m      9\u001b[0m         \u001b[0;31m# Track pattern recognition\u001b[0m\u001b[0;34m\u001b[0m\u001b[0;34m\u001b[0m\u001b[0m\n\u001b[1;32m     10\u001b[0m         \u001b[0mmodel\u001b[0m \u001b[0;34m=\u001b[0m \u001b[0mClusterer\u001b[0m\u001b[0;34m(\u001b[0m\u001b[0meps\u001b[0m\u001b[0;34m=\u001b[0m\u001b[0meps\u001b[0m\u001b[0;34m,\u001b[0m \u001b[0mdz0\u001b[0m\u001b[0;34m=\u001b[0m\u001b[0mdz0\u001b[0m\u001b[0;34m,\u001b[0m \u001b[0mstepdz\u001b[0m\u001b[0;34m=\u001b[0m\u001b[0mstepdz\u001b[0m\u001b[0;34m,\u001b[0m \u001b[0mstepeps\u001b[0m\u001b[0;34m=\u001b[0m\u001b[0mstepeps\u001b[0m\u001b[0;34m,\u001b[0m \u001b[0mnum_loops\u001b[0m\u001b[0;34m=\u001b[0m\u001b[0mloops\u001b[0m\u001b[0;34m,\u001b[0m \u001b[0mfinal_cluster\u001b[0m\u001b[0;34m=\u001b[0m\u001b[0mfinal_cluster\u001b[0m\u001b[0;34m,\u001b[0m \u001b[0mweight\u001b[0m\u001b[0;34m=\u001b[0m\u001b[0mweights\u001b[0m\u001b[0;34m,\u001b[0m \u001b[0mweight_arr\u001b[0m\u001b[0;34m=\u001b[0m\u001b[0mweights_arr\u001b[0m\u001b[0;34m,\u001b[0m \u001b[0mmax_size\u001b[0m\u001b[0;34m=\u001b[0m\u001b[0mmax_size\u001b[0m\u001b[0;34m,\u001b[0m \u001b[0mstep_z\u001b[0m\u001b[0;34m=\u001b[0m\u001b[0mstep_z\u001b[0m\u001b[0;34m,\u001b[0m \u001b[0msize_incr\u001b[0m\u001b[0;34m=\u001b[0m\u001b[0msize_incr\u001b[0m\u001b[0;34m)\u001b[0m\u001b[0;34m\u001b[0m\u001b[0m\n\u001b[0;32m---> 11\u001b[0;31m         \u001b[0mlabels\u001b[0m \u001b[0;34m=\u001b[0m \u001b[0mmodel\u001b[0m\u001b[0;34m.\u001b[0m\u001b[0mpredict\u001b[0m\u001b[0;34m(\u001b[0m\u001b[0mhits\u001b[0m\u001b[0;34m)\u001b[0m\u001b[0;34m\u001b[0m\u001b[0m\n\u001b[0m\u001b[1;32m     12\u001b[0m \u001b[0;34m\u001b[0m\u001b[0m\n\u001b[1;32m     13\u001b[0m         \u001b[0;31m# Prepare submission for an event\u001b[0m\u001b[0;34m\u001b[0m\u001b[0;34m\u001b[0m\u001b[0m\n",
      "\u001b[0;32m<ipython-input-79-5c960786c27a>\u001b[0m in \u001b[0;36mpredict\u001b[0;34m(self, hits)\u001b[0m\n\u001b[1;32m    169\u001b[0m     \u001b[0;32mdef\u001b[0m \u001b[0mpredict\u001b[0m\u001b[0;34m(\u001b[0m\u001b[0mself\u001b[0m\u001b[0;34m,\u001b[0m \u001b[0mhits\u001b[0m\u001b[0;34m)\u001b[0m\u001b[0;34m:\u001b[0m\u001b[0;34m\u001b[0m\u001b[0m\n\u001b[1;32m    170\u001b[0m         \u001b[0;31m# init our clusters\u001b[0m\u001b[0;34m\u001b[0m\u001b[0;34m\u001b[0m\u001b[0m\n\u001b[0;32m--> 171\u001b[0;31m         \u001b[0mself\u001b[0m\u001b[0;34m.\u001b[0m\u001b[0mclusters\u001b[0m \u001b[0;34m=\u001b[0m \u001b[0mself\u001b[0m\u001b[0;34m.\u001b[0m\u001b[0m_init\u001b[0m\u001b[0;34m(\u001b[0m\u001b[0mhits\u001b[0m\u001b[0;34m)\u001b[0m\u001b[0;34m\u001b[0m\u001b[0m\n\u001b[0m\u001b[1;32m    172\u001b[0m \u001b[0;34m\u001b[0m\u001b[0m\n\u001b[1;32m    173\u001b[0m         \u001b[0mmask\u001b[0m \u001b[0;34m=\u001b[0m \u001b[0mself\u001b[0m\u001b[0;34m.\u001b[0m\u001b[0mclusters\u001b[0m \u001b[0;34m==\u001b[0m \u001b[0;36m0\u001b[0m\u001b[0;34m\u001b[0m\u001b[0m\n",
      "\u001b[0;32m<ipython-input-79-5c960786c27a>\u001b[0m in \u001b[0;36m_init\u001b[0;34m(self, dfh)\u001b[0m\n\u001b[1;32m    137\u001b[0m             \u001b[0mdfs\u001b[0m \u001b[0;34m=\u001b[0m \u001b[0mnp\u001b[0m\u001b[0;34m.\u001b[0m\u001b[0mmultiply\u001b[0m\u001b[0;34m(\u001b[0m\u001b[0mdfs\u001b[0m\u001b[0;34m,\u001b[0m \u001b[0mcx\u001b[0m\u001b[0;34m)\u001b[0m\u001b[0;34m\u001b[0m\u001b[0m\n\u001b[1;32m    138\u001b[0m \u001b[0;34m\u001b[0m\u001b[0m\n\u001b[0;32m--> 139\u001b[0;31m             \u001b[0mclusters\u001b[0m\u001b[0;34m=\u001b[0m\u001b[0mDBSCAN\u001b[0m\u001b[0;34m(\u001b[0m\u001b[0meps\u001b[0m\u001b[0;34m=\u001b[0m\u001b[0mself\u001b[0m\u001b[0;34m.\u001b[0m\u001b[0mepsilon\u001b[0m\u001b[0;34m+\u001b[0m\u001b[0;34m(\u001b[0m\u001b[0mii\u001b[0m\u001b[0;34m*\u001b[0m\u001b[0mself\u001b[0m\u001b[0;34m.\u001b[0m\u001b[0mstepeps\u001b[0m\u001b[0;34m)\u001b[0m\u001b[0;34m,\u001b[0m\u001b[0mmin_samples\u001b[0m\u001b[0;34m=\u001b[0m\u001b[0;36m1\u001b[0m\u001b[0;34m,\u001b[0m\u001b[0mmetric\u001b[0m\u001b[0;34m=\u001b[0m\u001b[0;34m'euclidean'\u001b[0m\u001b[0;34m,\u001b[0m\u001b[0mn_jobs\u001b[0m\u001b[0;34m=\u001b[0m\u001b[0;36m1\u001b[0m\u001b[0;34m)\u001b[0m\u001b[0;34m.\u001b[0m\u001b[0mfit\u001b[0m\u001b[0;34m(\u001b[0m\u001b[0mdfs\u001b[0m\u001b[0;34m)\u001b[0m\u001b[0;34m.\u001b[0m\u001b[0mlabels_\u001b[0m\u001b[0;34m\u001b[0m\u001b[0m\n\u001b[0m\u001b[1;32m    140\u001b[0m \u001b[0;34m\u001b[0m\u001b[0m\n\u001b[1;32m    141\u001b[0m             \u001b[0;32mif\u001b[0m \u001b[0mii\u001b[0m\u001b[0;34m==\u001b[0m\u001b[0;36m0\u001b[0m\u001b[0;34m:\u001b[0m\u001b[0;34m\u001b[0m\u001b[0m\n",
      "\u001b[0;32m~/.local/lib/python3.5/site-packages/sklearn/cluster/dbscan_.py\u001b[0m in \u001b[0;36mfit\u001b[0;34m(self, X, y, sample_weight)\u001b[0m\n\u001b[1;32m    282\u001b[0m         \u001b[0mX\u001b[0m \u001b[0;34m=\u001b[0m \u001b[0mcheck_array\u001b[0m\u001b[0;34m(\u001b[0m\u001b[0mX\u001b[0m\u001b[0;34m,\u001b[0m \u001b[0maccept_sparse\u001b[0m\u001b[0;34m=\u001b[0m\u001b[0;34m'csr'\u001b[0m\u001b[0;34m)\u001b[0m\u001b[0;34m\u001b[0m\u001b[0m\n\u001b[1;32m    283\u001b[0m         clust = dbscan(X, sample_weight=sample_weight,\n\u001b[0;32m--> 284\u001b[0;31m                        **self.get_params())\n\u001b[0m\u001b[1;32m    285\u001b[0m         \u001b[0mself\u001b[0m\u001b[0;34m.\u001b[0m\u001b[0mcore_sample_indices_\u001b[0m\u001b[0;34m,\u001b[0m \u001b[0mself\u001b[0m\u001b[0;34m.\u001b[0m\u001b[0mlabels_\u001b[0m \u001b[0;34m=\u001b[0m \u001b[0mclust\u001b[0m\u001b[0;34m\u001b[0m\u001b[0m\n\u001b[1;32m    286\u001b[0m         \u001b[0;32mif\u001b[0m \u001b[0mlen\u001b[0m\u001b[0;34m(\u001b[0m\u001b[0mself\u001b[0m\u001b[0;34m.\u001b[0m\u001b[0mcore_sample_indices_\u001b[0m\u001b[0;34m)\u001b[0m\u001b[0;34m:\u001b[0m\u001b[0;34m\u001b[0m\u001b[0m\n",
      "\u001b[0;31mKeyboardInterrupt\u001b[0m: "
     ]
    }
   ],
   "source": [
    "# single loop to find errors\n",
    "results = grid_search_loop(iter_list[0])"
   ]
  },
  {
   "cell_type": "markdown",
   "metadata": {},
   "source": [
    "### EDA"
   ]
  },
  {
   "cell_type": "code",
   "execution_count": 66,
   "metadata": {},
   "outputs": [],
   "source": [
    "for event_id, hits, cells, particles, truth in load_dataset(\"./data/train_1\", skip=40, nevents=1):\n",
    "    # Track pattern recognition\n",
    "    model = Clusterer(eps=0.0035, dz0=0, stepdz=1.5e-7, stepeps=7e-8, num_loops=100, final_cluster=True, weight=58, weight_arr=weights_arr, max_size=20, step_z=0.000045, size_incr=0)\n",
    "    labels = model._init(hits)"
   ]
  },
  {
   "cell_type": "code",
   "execution_count": 10,
   "metadata": {
    "scrolled": true
   },
   "outputs": [
    {
     "data": {
      "text/html": [
       "<div>\n",
       "<style scoped>\n",
       "    .dataframe tbody tr th:only-of-type {\n",
       "        vertical-align: middle;\n",
       "    }\n",
       "\n",
       "    .dataframe tbody tr th {\n",
       "        vertical-align: top;\n",
       "    }\n",
       "\n",
       "    .dataframe thead th {\n",
       "        text-align: right;\n",
       "    }\n",
       "</style>\n",
       "<table border=\"1\" class=\"dataframe\">\n",
       "  <thead>\n",
       "    <tr style=\"text-align: right;\">\n",
       "      <th></th>\n",
       "      <th>hit_id</th>\n",
       "      <th>x</th>\n",
       "      <th>y</th>\n",
       "      <th>z</th>\n",
       "      <th>volume_id</th>\n",
       "      <th>layer_id</th>\n",
       "      <th>module_id</th>\n",
       "      <th>s1</th>\n",
       "      <th>N1</th>\n",
       "      <th>stepped_z</th>\n",
       "      <th>...</th>\n",
       "      <th>z1</th>\n",
       "      <th>z2</th>\n",
       "      <th>z3</th>\n",
       "      <th>a1</th>\n",
       "      <th>x2</th>\n",
       "      <th>y2</th>\n",
       "      <th>sina1</th>\n",
       "      <th>cosa1</th>\n",
       "      <th>s2</th>\n",
       "      <th>N2</th>\n",
       "    </tr>\n",
       "  </thead>\n",
       "  <tbody>\n",
       "    <tr>\n",
       "      <th>0</th>\n",
       "      <td>1</td>\n",
       "      <td>-48.674801</td>\n",
       "      <td>-5.761740</td>\n",
       "      <td>-1502.5</td>\n",
       "      <td>7</td>\n",
       "      <td>2</td>\n",
       "      <td>1</td>\n",
       "      <td>0</td>\n",
       "      <td>2</td>\n",
       "      <td>-1502.495605</td>\n",
       "      <td>...</td>\n",
       "      <td>-30.654200</td>\n",
       "      <td>-0.999468</td>\n",
       "      <td>-0.032622</td>\n",
       "      <td>-2.981392</td>\n",
       "      <td>-0.032379</td>\n",
       "      <td>-0.003833</td>\n",
       "      <td>-0.159516</td>\n",
       "      <td>-0.987195</td>\n",
       "      <td>0</td>\n",
       "      <td>2</td>\n",
       "    </tr>\n",
       "    <tr>\n",
       "      <th>1</th>\n",
       "      <td>2</td>\n",
       "      <td>-75.548500</td>\n",
       "      <td>-9.682310</td>\n",
       "      <td>-1502.5</td>\n",
       "      <td>7</td>\n",
       "      <td>2</td>\n",
       "      <td>1</td>\n",
       "      <td>1822912</td>\n",
       "      <td>15</td>\n",
       "      <td>-1502.495605</td>\n",
       "      <td>...</td>\n",
       "      <td>-19.726601</td>\n",
       "      <td>-0.998718</td>\n",
       "      <td>-0.050693</td>\n",
       "      <td>-2.948250</td>\n",
       "      <td>-0.050217</td>\n",
       "      <td>-0.006436</td>\n",
       "      <td>-0.192141</td>\n",
       "      <td>-0.981367</td>\n",
       "      <td>1</td>\n",
       "      <td>2</td>\n",
       "    </tr>\n",
       "    <tr>\n",
       "      <th>2</th>\n",
       "      <td>3</td>\n",
       "      <td>-69.968399</td>\n",
       "      <td>-5.581860</td>\n",
       "      <td>-1502.5</td>\n",
       "      <td>7</td>\n",
       "      <td>2</td>\n",
       "      <td>1</td>\n",
       "      <td>2</td>\n",
       "      <td>1</td>\n",
       "      <td>-1502.495605</td>\n",
       "      <td>...</td>\n",
       "      <td>-21.406033</td>\n",
       "      <td>-0.998911</td>\n",
       "      <td>-0.046716</td>\n",
       "      <td>-3.001281</td>\n",
       "      <td>-0.046517</td>\n",
       "      <td>-0.003711</td>\n",
       "      <td>-0.139852</td>\n",
       "      <td>-0.990172</td>\n",
       "      <td>2</td>\n",
       "      <td>1</td>\n",
       "    </tr>\n",
       "    <tr>\n",
       "      <th>3</th>\n",
       "      <td>4</td>\n",
       "      <td>-35.324799</td>\n",
       "      <td>-2.704890</td>\n",
       "      <td>-1502.5</td>\n",
       "      <td>7</td>\n",
       "      <td>2</td>\n",
       "      <td>1</td>\n",
       "      <td>3</td>\n",
       "      <td>1</td>\n",
       "      <td>-1502.495605</td>\n",
       "      <td>...</td>\n",
       "      <td>-42.409836</td>\n",
       "      <td>-0.999722</td>\n",
       "      <td>-0.023579</td>\n",
       "      <td>-3.034546</td>\n",
       "      <td>-0.023504</td>\n",
       "      <td>-0.001800</td>\n",
       "      <td>-0.106842</td>\n",
       "      <td>-0.994276</td>\n",
       "      <td>3</td>\n",
       "      <td>1</td>\n",
       "    </tr>\n",
       "    <tr>\n",
       "      <th>4</th>\n",
       "      <td>5</td>\n",
       "      <td>-99.261803</td>\n",
       "      <td>-11.197500</td>\n",
       "      <td>-1502.5</td>\n",
       "      <td>7</td>\n",
       "      <td>2</td>\n",
       "      <td>1</td>\n",
       "      <td>5588395</td>\n",
       "      <td>4</td>\n",
       "      <td>-1502.495605</td>\n",
       "      <td>...</td>\n",
       "      <td>-15.041381</td>\n",
       "      <td>-0.997797</td>\n",
       "      <td>-0.066483</td>\n",
       "      <td>-2.942832</td>\n",
       "      <td>-0.065919</td>\n",
       "      <td>-0.007436</td>\n",
       "      <td>-0.197455</td>\n",
       "      <td>-0.980312</td>\n",
       "      <td>4</td>\n",
       "      <td>1</td>\n",
       "    </tr>\n",
       "    <tr>\n",
       "      <th>5</th>\n",
       "      <td>6</td>\n",
       "      <td>-67.558197</td>\n",
       "      <td>-6.094340</td>\n",
       "      <td>-1502.5</td>\n",
       "      <td>7</td>\n",
       "      <td>2</td>\n",
       "      <td>1</td>\n",
       "      <td>5</td>\n",
       "      <td>14</td>\n",
       "      <td>-1502.495605</td>\n",
       "      <td>...</td>\n",
       "      <td>-22.150208</td>\n",
       "      <td>-0.998982</td>\n",
       "      <td>-0.045146</td>\n",
       "      <td>-2.992965</td>\n",
       "      <td>-0.044918</td>\n",
       "      <td>-0.004052</td>\n",
       "      <td>-0.148081</td>\n",
       "      <td>-0.988975</td>\n",
       "      <td>5</td>\n",
       "      <td>1</td>\n",
       "    </tr>\n",
       "    <tr>\n",
       "      <th>6</th>\n",
       "      <td>7</td>\n",
       "      <td>-63.736301</td>\n",
       "      <td>3.384740</td>\n",
       "      <td>-1502.5</td>\n",
       "      <td>7</td>\n",
       "      <td>2</td>\n",
       "      <td>1</td>\n",
       "      <td>6</td>\n",
       "      <td>11</td>\n",
       "      <td>-1502.495605</td>\n",
       "      <td>...</td>\n",
       "      <td>-23.540590</td>\n",
       "      <td>-0.999099</td>\n",
       "      <td>-0.042480</td>\n",
       "      <td>3.143731</td>\n",
       "      <td>-0.042382</td>\n",
       "      <td>0.002251</td>\n",
       "      <td>-0.002139</td>\n",
       "      <td>-0.999998</td>\n",
       "      <td>6</td>\n",
       "      <td>2</td>\n",
       "    </tr>\n",
       "    <tr>\n",
       "      <th>7</th>\n",
       "      <td>8</td>\n",
       "      <td>-59.426899</td>\n",
       "      <td>-12.626500</td>\n",
       "      <td>-1502.5</td>\n",
       "      <td>7</td>\n",
       "      <td>2</td>\n",
       "      <td>1</td>\n",
       "      <td>4726944</td>\n",
       "      <td>12</td>\n",
       "      <td>-1502.495605</td>\n",
       "      <td>...</td>\n",
       "      <td>-24.731169</td>\n",
       "      <td>-0.999184</td>\n",
       "      <td>-0.040435</td>\n",
       "      <td>-2.879700</td>\n",
       "      <td>-0.039520</td>\n",
       "      <td>-0.008397</td>\n",
       "      <td>-0.258909</td>\n",
       "      <td>-0.965902</td>\n",
       "      <td>7</td>\n",
       "      <td>2</td>\n",
       "    </tr>\n",
       "    <tr>\n",
       "      <th>8</th>\n",
       "      <td>9</td>\n",
       "      <td>-78.164299</td>\n",
       "      <td>-1.813290</td>\n",
       "      <td>-1502.5</td>\n",
       "      <td>7</td>\n",
       "      <td>2</td>\n",
       "      <td>1</td>\n",
       "      <td>8</td>\n",
       "      <td>2</td>\n",
       "      <td>-1502.495605</td>\n",
       "      <td>...</td>\n",
       "      <td>-19.217215</td>\n",
       "      <td>-0.998649</td>\n",
       "      <td>-0.052037</td>\n",
       "      <td>-3.050773</td>\n",
       "      <td>-0.051952</td>\n",
       "      <td>-0.001205</td>\n",
       "      <td>-0.090695</td>\n",
       "      <td>-0.995879</td>\n",
       "      <td>8</td>\n",
       "      <td>2</td>\n",
       "    </tr>\n",
       "    <tr>\n",
       "      <th>9</th>\n",
       "      <td>10</td>\n",
       "      <td>-83.351303</td>\n",
       "      <td>0.286217</td>\n",
       "      <td>-1502.5</td>\n",
       "      <td>7</td>\n",
       "      <td>2</td>\n",
       "      <td>1</td>\n",
       "      <td>3127933</td>\n",
       "      <td>16</td>\n",
       "      <td>-1502.495605</td>\n",
       "      <td>...</td>\n",
       "      <td>-18.026058</td>\n",
       "      <td>-0.998465</td>\n",
       "      <td>-0.055475</td>\n",
       "      <td>3.210259</td>\n",
       "      <td>-0.055390</td>\n",
       "      <td>0.000190</td>\n",
       "      <td>-0.068612</td>\n",
       "      <td>-0.997643</td>\n",
       "      <td>9</td>\n",
       "      <td>2</td>\n",
       "    </tr>\n",
       "    <tr>\n",
       "      <th>10</th>\n",
       "      <td>11</td>\n",
       "      <td>-91.341797</td>\n",
       "      <td>-14.536400</td>\n",
       "      <td>-1502.5</td>\n",
       "      <td>7</td>\n",
       "      <td>2</td>\n",
       "      <td>1</td>\n",
       "      <td>5502020</td>\n",
       "      <td>2</td>\n",
       "      <td>-1502.495605</td>\n",
       "      <td>...</td>\n",
       "      <td>-16.244827</td>\n",
       "      <td>-0.998111</td>\n",
       "      <td>-0.061558</td>\n",
       "      <td>-2.903757</td>\n",
       "      <td>-0.060678</td>\n",
       "      <td>-0.009657</td>\n",
       "      <td>-0.235600</td>\n",
       "      <td>-0.971850</td>\n",
       "      <td>10</td>\n",
       "      <td>2</td>\n",
       "    </tr>\n",
       "    <tr>\n",
       "      <th>11</th>\n",
       "      <td>12</td>\n",
       "      <td>-66.740898</td>\n",
       "      <td>-10.744500</td>\n",
       "      <td>-1502.5</td>\n",
       "      <td>7</td>\n",
       "      <td>2</td>\n",
       "      <td>1</td>\n",
       "      <td>1422236</td>\n",
       "      <td>14</td>\n",
       "      <td>-1502.495605</td>\n",
       "      <td>...</td>\n",
       "      <td>-22.226318</td>\n",
       "      <td>-0.998989</td>\n",
       "      <td>-0.044992</td>\n",
       "      <td>-2.923513</td>\n",
       "      <td>-0.044375</td>\n",
       "      <td>-0.007144</td>\n",
       "      <td>-0.216355</td>\n",
       "      <td>-0.976315</td>\n",
       "      <td>11</td>\n",
       "      <td>2</td>\n",
       "    </tr>\n",
       "    <tr>\n",
       "      <th>12</th>\n",
       "      <td>13</td>\n",
       "      <td>-60.177299</td>\n",
       "      <td>-3.808200</td>\n",
       "      <td>-1502.5</td>\n",
       "      <td>7</td>\n",
       "      <td>2</td>\n",
       "      <td>1</td>\n",
       "      <td>12</td>\n",
       "      <td>12</td>\n",
       "      <td>-1502.495605</td>\n",
       "      <td>...</td>\n",
       "      <td>-24.918114</td>\n",
       "      <td>-0.999196</td>\n",
       "      <td>-0.040131</td>\n",
       "      <td>-3.026254</td>\n",
       "      <td>-0.040019</td>\n",
       "      <td>-0.002533</td>\n",
       "      <td>-0.115083</td>\n",
       "      <td>-0.993356</td>\n",
       "      <td>12</td>\n",
       "      <td>1</td>\n",
       "    </tr>\n",
       "    <tr>\n",
       "      <th>13</th>\n",
       "      <td>14</td>\n",
       "      <td>-96.132599</td>\n",
       "      <td>-7.941960</td>\n",
       "      <td>-1502.5</td>\n",
       "      <td>7</td>\n",
       "      <td>2</td>\n",
       "      <td>1</td>\n",
       "      <td>237016</td>\n",
       "      <td>12</td>\n",
       "      <td>-1502.495605</td>\n",
       "      <td>...</td>\n",
       "      <td>-15.576433</td>\n",
       "      <td>-0.997946</td>\n",
       "      <td>-0.064200</td>\n",
       "      <td>-2.975710</td>\n",
       "      <td>-0.063850</td>\n",
       "      <td>-0.005275</td>\n",
       "      <td>-0.165123</td>\n",
       "      <td>-0.986273</td>\n",
       "      <td>13</td>\n",
       "      <td>1</td>\n",
       "    </tr>\n",
       "    <tr>\n",
       "      <th>14</th>\n",
       "      <td>15</td>\n",
       "      <td>-93.830498</td>\n",
       "      <td>-15.685200</td>\n",
       "      <td>-1502.5</td>\n",
       "      <td>7</td>\n",
       "      <td>2</td>\n",
       "      <td>1</td>\n",
       "      <td>3210493</td>\n",
       "      <td>2</td>\n",
       "      <td>-1502.495605</td>\n",
       "      <td>...</td>\n",
       "      <td>-15.793812</td>\n",
       "      <td>-0.998002</td>\n",
       "      <td>-0.063316</td>\n",
       "      <td>-2.893654</td>\n",
       "      <td>-0.062325</td>\n",
       "      <td>-0.010419</td>\n",
       "      <td>-0.245406</td>\n",
       "      <td>-0.969420</td>\n",
       "      <td>14</td>\n",
       "      <td>1</td>\n",
       "    </tr>\n",
       "    <tr>\n",
       "      <th>15</th>\n",
       "      <td>16</td>\n",
       "      <td>-87.631104</td>\n",
       "      <td>-1.254320</td>\n",
       "      <td>-1502.5</td>\n",
       "      <td>7</td>\n",
       "      <td>2</td>\n",
       "      <td>1</td>\n",
       "      <td>15</td>\n",
       "      <td>15</td>\n",
       "      <td>-1502.495605</td>\n",
       "      <td>...</td>\n",
       "      <td>-17.144032</td>\n",
       "      <td>-0.998303</td>\n",
       "      <td>-0.058329</td>\n",
       "      <td>-3.051466</td>\n",
       "      <td>-0.058224</td>\n",
       "      <td>-0.000833</td>\n",
       "      <td>-0.090005</td>\n",
       "      <td>-0.995941</td>\n",
       "      <td>15</td>\n",
       "      <td>2</td>\n",
       "    </tr>\n",
       "    <tr>\n",
       "      <th>16</th>\n",
       "      <td>17</td>\n",
       "      <td>-82.778000</td>\n",
       "      <td>-13.260600</td>\n",
       "      <td>-1502.5</td>\n",
       "      <td>7</td>\n",
       "      <td>2</td>\n",
       "      <td>1</td>\n",
       "      <td>7803580</td>\n",
       "      <td>6</td>\n",
       "      <td>-1502.495605</td>\n",
       "      <td>...</td>\n",
       "      <td>-17.922501</td>\n",
       "      <td>-0.998447</td>\n",
       "      <td>-0.055796</td>\n",
       "      <td>-2.910231</td>\n",
       "      <td>-0.055008</td>\n",
       "      <td>-0.008812</td>\n",
       "      <td>-0.229303</td>\n",
       "      <td>-0.973355</td>\n",
       "      <td>16</td>\n",
       "      <td>6</td>\n",
       "    </tr>\n",
       "    <tr>\n",
       "      <th>17</th>\n",
       "      <td>18</td>\n",
       "      <td>-84.366203</td>\n",
       "      <td>-10.476600</td>\n",
       "      <td>-1502.5</td>\n",
       "      <td>7</td>\n",
       "      <td>2</td>\n",
       "      <td>1</td>\n",
       "      <td>2145544</td>\n",
       "      <td>14</td>\n",
       "      <td>-1502.495605</td>\n",
       "      <td>...</td>\n",
       "      <td>-17.673569</td>\n",
       "      <td>-0.998403</td>\n",
       "      <td>-0.056582</td>\n",
       "      <td>-2.944505</td>\n",
       "      <td>-0.056061</td>\n",
       "      <td>-0.006962</td>\n",
       "      <td>-0.195814</td>\n",
       "      <td>-0.980641</td>\n",
       "      <td>17</td>\n",
       "      <td>1</td>\n",
       "    </tr>\n",
       "    <tr>\n",
       "      <th>18</th>\n",
       "      <td>19</td>\n",
       "      <td>-36.901402</td>\n",
       "      <td>-9.198610</td>\n",
       "      <td>-1502.5</td>\n",
       "      <td>7</td>\n",
       "      <td>2</td>\n",
       "      <td>1</td>\n",
       "      <td>18</td>\n",
       "      <td>1</td>\n",
       "      <td>-1502.495605</td>\n",
       "      <td>...</td>\n",
       "      <td>-39.507759</td>\n",
       "      <td>-0.999680</td>\n",
       "      <td>-0.025311</td>\n",
       "      <td>-2.864422</td>\n",
       "      <td>-0.024552</td>\n",
       "      <td>-0.006120</td>\n",
       "      <td>-0.273636</td>\n",
       "      <td>-0.961833</td>\n",
       "      <td>18</td>\n",
       "      <td>1</td>\n",
       "    </tr>\n",
       "    <tr>\n",
       "      <th>19</th>\n",
       "      <td>20</td>\n",
       "      <td>-62.858200</td>\n",
       "      <td>-12.043900</td>\n",
       "      <td>-1502.5</td>\n",
       "      <td>7</td>\n",
       "      <td>2</td>\n",
       "      <td>1</td>\n",
       "      <td>2307828</td>\n",
       "      <td>12</td>\n",
       "      <td>-1502.495605</td>\n",
       "      <td>...</td>\n",
       "      <td>-23.476032</td>\n",
       "      <td>-0.999094</td>\n",
       "      <td>-0.042597</td>\n",
       "      <td>-2.896937</td>\n",
       "      <td>-0.041798</td>\n",
       "      <td>-0.008009</td>\n",
       "      <td>-0.242222</td>\n",
       "      <td>-0.970221</td>\n",
       "      <td>19</td>\n",
       "      <td>2</td>\n",
       "    </tr>\n",
       "    <tr>\n",
       "      <th>20</th>\n",
       "      <td>21</td>\n",
       "      <td>-51.928200</td>\n",
       "      <td>-0.367017</td>\n",
       "      <td>-1502.5</td>\n",
       "      <td>7</td>\n",
       "      <td>2</td>\n",
       "      <td>1</td>\n",
       "      <td>20</td>\n",
       "      <td>1</td>\n",
       "      <td>-1502.495605</td>\n",
       "      <td>...</td>\n",
       "      <td>-28.933544</td>\n",
       "      <td>-0.999403</td>\n",
       "      <td>-0.034562</td>\n",
       "      <td>-3.089627</td>\n",
       "      <td>-0.034540</td>\n",
       "      <td>-0.000244</td>\n",
       "      <td>-0.051943</td>\n",
       "      <td>-0.998650</td>\n",
       "      <td>20</td>\n",
       "      <td>1</td>\n",
       "    </tr>\n",
       "    <tr>\n",
       "      <th>21</th>\n",
       "      <td>22</td>\n",
       "      <td>-74.732399</td>\n",
       "      <td>-4.602630</td>\n",
       "      <td>-1502.5</td>\n",
       "      <td>7</td>\n",
       "      <td>2</td>\n",
       "      <td>1</td>\n",
       "      <td>21</td>\n",
       "      <td>1</td>\n",
       "      <td>-1502.495605</td>\n",
       "      <td>...</td>\n",
       "      <td>-20.067104</td>\n",
       "      <td>-0.998761</td>\n",
       "      <td>-0.049833</td>\n",
       "      <td>-3.015324</td>\n",
       "      <td>-0.049677</td>\n",
       "      <td>-0.003060</td>\n",
       "      <td>-0.125934</td>\n",
       "      <td>-0.992039</td>\n",
       "      <td>21</td>\n",
       "      <td>1</td>\n",
       "    </tr>\n",
       "    <tr>\n",
       "      <th>22</th>\n",
       "      <td>23</td>\n",
       "      <td>-103.884003</td>\n",
       "      <td>-12.836400</td>\n",
       "      <td>-1502.0</td>\n",
       "      <td>7</td>\n",
       "      <td>2</td>\n",
       "      <td>2</td>\n",
       "      <td>2307831</td>\n",
       "      <td>13</td>\n",
       "      <td>-1501.995605</td>\n",
       "      <td>...</td>\n",
       "      <td>-14.349346</td>\n",
       "      <td>-0.997580</td>\n",
       "      <td>-0.069690</td>\n",
       "      <td>-2.928079</td>\n",
       "      <td>-0.068996</td>\n",
       "      <td>-0.008526</td>\n",
       "      <td>-0.211895</td>\n",
       "      <td>-0.977292</td>\n",
       "      <td>22</td>\n",
       "      <td>2</td>\n",
       "    </tr>\n",
       "    <tr>\n",
       "      <th>23</th>\n",
       "      <td>24</td>\n",
       "      <td>-155.029999</td>\n",
       "      <td>-3.939040</td>\n",
       "      <td>-1502.0</td>\n",
       "      <td>7</td>\n",
       "      <td>2</td>\n",
       "      <td>2</td>\n",
       "      <td>2064563</td>\n",
       "      <td>15</td>\n",
       "      <td>-1501.995605</td>\n",
       "      <td>...</td>\n",
       "      <td>-9.685350</td>\n",
       "      <td>-0.994712</td>\n",
       "      <td>-0.103249</td>\n",
       "      <td>-2.981902</td>\n",
       "      <td>-0.102670</td>\n",
       "      <td>-0.002609</td>\n",
       "      <td>-0.159013</td>\n",
       "      <td>-0.987276</td>\n",
       "      <td>23</td>\n",
       "      <td>2</td>\n",
       "    </tr>\n",
       "    <tr>\n",
       "      <th>24</th>\n",
       "      <td>25</td>\n",
       "      <td>-122.973999</td>\n",
       "      <td>-8.463410</td>\n",
       "      <td>-1502.0</td>\n",
       "      <td>7</td>\n",
       "      <td>2</td>\n",
       "      <td>2</td>\n",
       "      <td>2798314</td>\n",
       "      <td>10</td>\n",
       "      <td>-1501.995605</td>\n",
       "      <td>...</td>\n",
       "      <td>-12.185176</td>\n",
       "      <td>-0.996649</td>\n",
       "      <td>-0.082067</td>\n",
       "      <td>-2.966190</td>\n",
       "      <td>-0.081599</td>\n",
       "      <td>-0.005616</td>\n",
       "      <td>-0.174505</td>\n",
       "      <td>-0.984656</td>\n",
       "      <td>24</td>\n",
       "      <td>1</td>\n",
       "    </tr>\n",
       "    <tr>\n",
       "      <th>25</th>\n",
       "      <td>26</td>\n",
       "      <td>-164.014999</td>\n",
       "      <td>-10.461000</td>\n",
       "      <td>-1502.0</td>\n",
       "      <td>7</td>\n",
       "      <td>2</td>\n",
       "      <td>2</td>\n",
       "      <td>4812712</td>\n",
       "      <td>1</td>\n",
       "      <td>-1501.995605</td>\n",
       "      <td>...</td>\n",
       "      <td>-9.139155</td>\n",
       "      <td>-0.994067</td>\n",
       "      <td>-0.109419</td>\n",
       "      <td>-2.935565</td>\n",
       "      <td>-0.108550</td>\n",
       "      <td>-0.006923</td>\n",
       "      <td>-0.204573</td>\n",
       "      <td>-0.978851</td>\n",
       "      <td>25</td>\n",
       "      <td>1</td>\n",
       "    </tr>\n",
       "    <tr>\n",
       "      <th>26</th>\n",
       "      <td>27</td>\n",
       "      <td>-141.460007</td>\n",
       "      <td>0.942888</td>\n",
       "      <td>-1502.0</td>\n",
       "      <td>7</td>\n",
       "      <td>2</td>\n",
       "      <td>2</td>\n",
       "      <td>1983944</td>\n",
       "      <td>4</td>\n",
       "      <td>-1501.995605</td>\n",
       "      <td>...</td>\n",
       "      <td>-10.617637</td>\n",
       "      <td>-0.995594</td>\n",
       "      <td>-0.094183</td>\n",
       "      <td>3.257399</td>\n",
       "      <td>-0.093766</td>\n",
       "      <td>0.000625</td>\n",
       "      <td>-0.115548</td>\n",
       "      <td>-0.993302</td>\n",
       "      <td>26</td>\n",
       "      <td>2</td>\n",
       "    </tr>\n",
       "    <tr>\n",
       "      <th>27</th>\n",
       "      <td>28</td>\n",
       "      <td>-156.419006</td>\n",
       "      <td>-4.854170</td>\n",
       "      <td>-1502.0</td>\n",
       "      <td>7</td>\n",
       "      <td>2</td>\n",
       "      <td>2</td>\n",
       "      <td>2064563</td>\n",
       "      <td>15</td>\n",
       "      <td>-1501.995605</td>\n",
       "      <td>...</td>\n",
       "      <td>-9.597821</td>\n",
       "      <td>-0.994616</td>\n",
       "      <td>-0.104190</td>\n",
       "      <td>-2.975054</td>\n",
       "      <td>-0.103579</td>\n",
       "      <td>-0.003214</td>\n",
       "      <td>-0.165770</td>\n",
       "      <td>-0.986164</td>\n",
       "      <td>27</td>\n",
       "      <td>9</td>\n",
       "    </tr>\n",
       "    <tr>\n",
       "      <th>28</th>\n",
       "      <td>29</td>\n",
       "      <td>-150.740997</td>\n",
       "      <td>-9.847230</td>\n",
       "      <td>-1502.0</td>\n",
       "      <td>7</td>\n",
       "      <td>2</td>\n",
       "      <td>2</td>\n",
       "      <td>4898332</td>\n",
       "      <td>11</td>\n",
       "      <td>-1501.995605</td>\n",
       "      <td>...</td>\n",
       "      <td>-9.942947</td>\n",
       "      <td>-0.994980</td>\n",
       "      <td>-0.100574</td>\n",
       "      <td>-2.945559</td>\n",
       "      <td>-0.099856</td>\n",
       "      <td>-0.006523</td>\n",
       "      <td>-0.194781</td>\n",
       "      <td>-0.980847</td>\n",
       "      <td>28</td>\n",
       "      <td>1</td>\n",
       "    </tr>\n",
       "    <tr>\n",
       "      <th>29</th>\n",
       "      <td>30</td>\n",
       "      <td>-120.870003</td>\n",
       "      <td>-13.952400</td>\n",
       "      <td>-1502.0</td>\n",
       "      <td>7</td>\n",
       "      <td>2</td>\n",
       "      <td>2</td>\n",
       "      <td>29</td>\n",
       "      <td>1</td>\n",
       "      <td>-1501.995605</td>\n",
       "      <td>...</td>\n",
       "      <td>-12.344637</td>\n",
       "      <td>-0.996735</td>\n",
       "      <td>-0.081007</td>\n",
       "      <td>-2.921360</td>\n",
       "      <td>-0.080210</td>\n",
       "      <td>-0.009259</td>\n",
       "      <td>-0.218456</td>\n",
       "      <td>-0.975847</td>\n",
       "      <td>29</td>\n",
       "      <td>1</td>\n",
       "    </tr>\n",
       "    <tr>\n",
       "      <th>...</th>\n",
       "      <td>...</td>\n",
       "      <td>...</td>\n",
       "      <td>...</td>\n",
       "      <td>...</td>\n",
       "      <td>...</td>\n",
       "      <td>...</td>\n",
       "      <td>...</td>\n",
       "      <td>...</td>\n",
       "      <td>...</td>\n",
       "      <td>...</td>\n",
       "      <td>...</td>\n",
       "      <td>...</td>\n",
       "      <td>...</td>\n",
       "      <td>...</td>\n",
       "      <td>...</td>\n",
       "      <td>...</td>\n",
       "      <td>...</td>\n",
       "      <td>...</td>\n",
       "      <td>...</td>\n",
       "      <td>...</td>\n",
       "      <td>...</td>\n",
       "    </tr>\n",
       "    <tr>\n",
       "      <th>124355</th>\n",
       "      <td>124356</td>\n",
       "      <td>-976.395996</td>\n",
       "      <td>245.266998</td>\n",
       "      <td>2952.5</td>\n",
       "      <td>18</td>\n",
       "      <td>12</td>\n",
       "      <td>94</td>\n",
       "      <td>2334520</td>\n",
       "      <td>6</td>\n",
       "      <td>2952.504395</td>\n",
       "      <td>...</td>\n",
       "      <td>2.932759</td>\n",
       "      <td>0.946491</td>\n",
       "      <td>0.340976</td>\n",
       "      <td>3.778244</td>\n",
       "      <td>-0.313006</td>\n",
       "      <td>0.078626</td>\n",
       "      <td>-0.594506</td>\n",
       "      <td>-0.804091</td>\n",
       "      <td>90959</td>\n",
       "      <td>2</td>\n",
       "    </tr>\n",
       "    <tr>\n",
       "      <th>124356</th>\n",
       "      <td>124357</td>\n",
       "      <td>-904.656982</td>\n",
       "      <td>230.473999</td>\n",
       "      <td>2952.5</td>\n",
       "      <td>18</td>\n",
       "      <td>12</td>\n",
       "      <td>94</td>\n",
       "      <td>2648289</td>\n",
       "      <td>8</td>\n",
       "      <td>2952.504395</td>\n",
       "      <td>...</td>\n",
       "      <td>3.162641</td>\n",
       "      <td>0.953473</td>\n",
       "      <td>0.316191</td>\n",
       "      <td>3.709849</td>\n",
       "      <td>-0.292148</td>\n",
       "      <td>0.074429</td>\n",
       "      <td>-0.538163</td>\n",
       "      <td>-0.842841</td>\n",
       "      <td>90960</td>\n",
       "      <td>2</td>\n",
       "    </tr>\n",
       "    <tr>\n",
       "      <th>124357</th>\n",
       "      <td>124358</td>\n",
       "      <td>-809.007019</td>\n",
       "      <td>322.921997</td>\n",
       "      <td>2952.5</td>\n",
       "      <td>18</td>\n",
       "      <td>12</td>\n",
       "      <td>94</td>\n",
       "      <td>6640453</td>\n",
       "      <td>4</td>\n",
       "      <td>2952.504395</td>\n",
       "      <td>...</td>\n",
       "      <td>3.389486</td>\n",
       "      <td>0.959128</td>\n",
       "      <td>0.295030</td>\n",
       "      <td>3.524101</td>\n",
       "      <td>-0.262809</td>\n",
       "      <td>0.104902</td>\n",
       "      <td>-0.373249</td>\n",
       "      <td>-0.927731</td>\n",
       "      <td>90942</td>\n",
       "      <td>3</td>\n",
       "    </tr>\n",
       "    <tr>\n",
       "      <th>124358</th>\n",
       "      <td>124359</td>\n",
       "      <td>-779.510986</td>\n",
       "      <td>165.393005</td>\n",
       "      <td>2947.5</td>\n",
       "      <td>18</td>\n",
       "      <td>12</td>\n",
       "      <td>95</td>\n",
       "      <td>7766413</td>\n",
       "      <td>1</td>\n",
       "      <td>2947.504395</td>\n",
       "      <td>...</td>\n",
       "      <td>3.698869</td>\n",
       "      <td>0.965343</td>\n",
       "      <td>0.270353</td>\n",
       "      <td>3.629106</td>\n",
       "      <td>-0.255300</td>\n",
       "      <td>0.054168</td>\n",
       "      <td>-0.468430</td>\n",
       "      <td>-0.883501</td>\n",
       "      <td>90961</td>\n",
       "      <td>1</td>\n",
       "    </tr>\n",
       "    <tr>\n",
       "      <th>124359</th>\n",
       "      <td>124360</td>\n",
       "      <td>-791.286987</td>\n",
       "      <td>106.193001</td>\n",
       "      <td>2947.5</td>\n",
       "      <td>18</td>\n",
       "      <td>12</td>\n",
       "      <td>95</td>\n",
       "      <td>7605044</td>\n",
       "      <td>1</td>\n",
       "      <td>2947.504395</td>\n",
       "      <td>...</td>\n",
       "      <td>3.691841</td>\n",
       "      <td>0.965218</td>\n",
       "      <td>0.270868</td>\n",
       "      <td>3.706116</td>\n",
       "      <td>-0.259123</td>\n",
       "      <td>0.034775</td>\n",
       "      <td>-0.535013</td>\n",
       "      <td>-0.844844</td>\n",
       "      <td>90962</td>\n",
       "      <td>1</td>\n",
       "    </tr>\n",
       "    <tr>\n",
       "      <th>124360</th>\n",
       "      <td>124361</td>\n",
       "      <td>-780.950989</td>\n",
       "      <td>158.154999</td>\n",
       "      <td>2947.5</td>\n",
       "      <td>18</td>\n",
       "      <td>12</td>\n",
       "      <td>95</td>\n",
       "      <td>7766293</td>\n",
       "      <td>1</td>\n",
       "      <td>2947.504395</td>\n",
       "      <td>...</td>\n",
       "      <td>3.699145</td>\n",
       "      <td>0.965348</td>\n",
       "      <td>0.270333</td>\n",
       "      <td>3.638314</td>\n",
       "      <td>-0.255773</td>\n",
       "      <td>0.051798</td>\n",
       "      <td>-0.476546</td>\n",
       "      <td>-0.879150</td>\n",
       "      <td>90963</td>\n",
       "      <td>1</td>\n",
       "    </tr>\n",
       "    <tr>\n",
       "      <th>124361</th>\n",
       "      <td>124362</td>\n",
       "      <td>-830.892029</td>\n",
       "      <td>226.938995</td>\n",
       "      <td>2947.5</td>\n",
       "      <td>18</td>\n",
       "      <td>12</td>\n",
       "      <td>95</td>\n",
       "      <td>6751146</td>\n",
       "      <td>5</td>\n",
       "      <td>2947.504395</td>\n",
       "      <td>...</td>\n",
       "      <td>3.422043</td>\n",
       "      <td>0.959856</td>\n",
       "      <td>0.292223</td>\n",
       "      <td>3.628619</td>\n",
       "      <td>-0.270581</td>\n",
       "      <td>0.073903</td>\n",
       "      <td>-0.468000</td>\n",
       "      <td>-0.883728</td>\n",
       "      <td>90946</td>\n",
       "      <td>2</td>\n",
       "    </tr>\n",
       "    <tr>\n",
       "      <th>124362</th>\n",
       "      <td>124363</td>\n",
       "      <td>-746.534973</td>\n",
       "      <td>171.251999</td>\n",
       "      <td>2947.5</td>\n",
       "      <td>18</td>\n",
       "      <td>12</td>\n",
       "      <td>95</td>\n",
       "      <td>8402232</td>\n",
       "      <td>1</td>\n",
       "      <td>2947.504395</td>\n",
       "      <td>...</td>\n",
       "      <td>3.848280</td>\n",
       "      <td>0.967856</td>\n",
       "      <td>0.259856</td>\n",
       "      <td>3.585336</td>\n",
       "      <td>-0.245136</td>\n",
       "      <td>0.056233</td>\n",
       "      <td>-0.429324</td>\n",
       "      <td>-0.903151</td>\n",
       "      <td>53912</td>\n",
       "      <td>2</td>\n",
       "    </tr>\n",
       "    <tr>\n",
       "      <th>124363</th>\n",
       "      <td>124364</td>\n",
       "      <td>-813.125000</td>\n",
       "      <td>209.641006</td>\n",
       "      <td>2947.5</td>\n",
       "      <td>18</td>\n",
       "      <td>12</td>\n",
       "      <td>95</td>\n",
       "      <td>7785159</td>\n",
       "      <td>1</td>\n",
       "      <td>2947.504395</td>\n",
       "      <td>...</td>\n",
       "      <td>3.510113</td>\n",
       "      <td>0.961733</td>\n",
       "      <td>0.284891</td>\n",
       "      <td>3.623775</td>\n",
       "      <td>-0.265313</td>\n",
       "      <td>0.068403</td>\n",
       "      <td>-0.463713</td>\n",
       "      <td>-0.885985</td>\n",
       "      <td>90964</td>\n",
       "      <td>1</td>\n",
       "    </tr>\n",
       "    <tr>\n",
       "      <th>124364</th>\n",
       "      <td>124365</td>\n",
       "      <td>-991.192017</td>\n",
       "      <td>219.682007</td>\n",
       "      <td>2955.5</td>\n",
       "      <td>18</td>\n",
       "      <td>12</td>\n",
       "      <td>96</td>\n",
       "      <td>8148851</td>\n",
       "      <td>1</td>\n",
       "      <td>2955.504395</td>\n",
       "      <td>...</td>\n",
       "      <td>2.911117</td>\n",
       "      <td>0.945756</td>\n",
       "      <td>0.343511</td>\n",
       "      <td>3.813816</td>\n",
       "      <td>-0.317181</td>\n",
       "      <td>0.070298</td>\n",
       "      <td>-0.622727</td>\n",
       "      <td>-0.782439</td>\n",
       "      <td>90965</td>\n",
       "      <td>1</td>\n",
       "    </tr>\n",
       "    <tr>\n",
       "      <th>124365</th>\n",
       "      <td>124366</td>\n",
       "      <td>-950.107971</td>\n",
       "      <td>157.542999</td>\n",
       "      <td>2955.5</td>\n",
       "      <td>18</td>\n",
       "      <td>12</td>\n",
       "      <td>96</td>\n",
       "      <td>7605020</td>\n",
       "      <td>1</td>\n",
       "      <td>2955.504395</td>\n",
       "      <td>...</td>\n",
       "      <td>3.068792</td>\n",
       "      <td>0.950793</td>\n",
       "      <td>0.325861</td>\n",
       "      <td>3.821214</td>\n",
       "      <td>-0.305653</td>\n",
       "      <td>0.050682</td>\n",
       "      <td>-0.628498</td>\n",
       "      <td>-0.777811</td>\n",
       "      <td>90966</td>\n",
       "      <td>1</td>\n",
       "    </tr>\n",
       "    <tr>\n",
       "      <th>124366</th>\n",
       "      <td>124367</td>\n",
       "      <td>-914.064026</td>\n",
       "      <td>179.987000</td>\n",
       "      <td>2955.5</td>\n",
       "      <td>18</td>\n",
       "      <td>12</td>\n",
       "      <td>96</td>\n",
       "      <td>7427479</td>\n",
       "      <td>2</td>\n",
       "      <td>2955.504395</td>\n",
       "      <td>...</td>\n",
       "      <td>3.172440</td>\n",
       "      <td>0.953740</td>\n",
       "      <td>0.315215</td>\n",
       "      <td>3.763165</td>\n",
       "      <td>-0.294969</td>\n",
       "      <td>0.058082</td>\n",
       "      <td>-0.582314</td>\n",
       "      <td>-0.812964</td>\n",
       "      <td>90967</td>\n",
       "      <td>1</td>\n",
       "    </tr>\n",
       "    <tr>\n",
       "      <th>124367</th>\n",
       "      <td>124368</td>\n",
       "      <td>-975.681030</td>\n",
       "      <td>245.492996</td>\n",
       "      <td>2955.5</td>\n",
       "      <td>18</td>\n",
       "      <td>12</td>\n",
       "      <td>96</td>\n",
       "      <td>2334520</td>\n",
       "      <td>6</td>\n",
       "      <td>2955.504395</td>\n",
       "      <td>...</td>\n",
       "      <td>2.937601</td>\n",
       "      <td>0.946653</td>\n",
       "      <td>0.340414</td>\n",
       "      <td>3.777285</td>\n",
       "      <td>-0.312513</td>\n",
       "      <td>0.078632</td>\n",
       "      <td>-0.593734</td>\n",
       "      <td>-0.804661</td>\n",
       "      <td>90959</td>\n",
       "      <td>2</td>\n",
       "    </tr>\n",
       "    <tr>\n",
       "      <th>124368</th>\n",
       "      <td>124369</td>\n",
       "      <td>-863.390015</td>\n",
       "      <td>168.121002</td>\n",
       "      <td>2955.5</td>\n",
       "      <td>18</td>\n",
       "      <td>12</td>\n",
       "      <td>96</td>\n",
       "      <td>8330865</td>\n",
       "      <td>1</td>\n",
       "      <td>2955.504395</td>\n",
       "      <td>...</td>\n",
       "      <td>3.360022</td>\n",
       "      <td>0.958453</td>\n",
       "      <td>0.297617</td>\n",
       "      <td>3.719129</td>\n",
       "      <td>-0.279993</td>\n",
       "      <td>0.054521</td>\n",
       "      <td>-0.545961</td>\n",
       "      <td>-0.837810</td>\n",
       "      <td>90968</td>\n",
       "      <td>1</td>\n",
       "    </tr>\n",
       "    <tr>\n",
       "      <th>124369</th>\n",
       "      <td>124370</td>\n",
       "      <td>-901.502991</td>\n",
       "      <td>134.832993</td>\n",
       "      <td>2955.5</td>\n",
       "      <td>18</td>\n",
       "      <td>12</td>\n",
       "      <td>96</td>\n",
       "      <td>7785186</td>\n",
       "      <td>2</td>\n",
       "      <td>2955.504395</td>\n",
       "      <td>...</td>\n",
       "      <td>3.242345</td>\n",
       "      <td>0.955584</td>\n",
       "      <td>0.308419</td>\n",
       "      <td>3.791294</td>\n",
       "      <td>-0.291478</td>\n",
       "      <td>0.043595</td>\n",
       "      <td>-0.604949</td>\n",
       "      <td>-0.796264</td>\n",
       "      <td>90969</td>\n",
       "      <td>1</td>\n",
       "    </tr>\n",
       "    <tr>\n",
       "      <th>124370</th>\n",
       "      <td>124371</td>\n",
       "      <td>-904.025024</td>\n",
       "      <td>232.617996</td>\n",
       "      <td>2955.5</td>\n",
       "      <td>18</td>\n",
       "      <td>12</td>\n",
       "      <td>96</td>\n",
       "      <td>2648289</td>\n",
       "      <td>8</td>\n",
       "      <td>2955.504395</td>\n",
       "      <td>...</td>\n",
       "      <td>3.166128</td>\n",
       "      <td>0.953568</td>\n",
       "      <td>0.315843</td>\n",
       "      <td>3.707385</td>\n",
       "      <td>-0.291677</td>\n",
       "      <td>0.075052</td>\n",
       "      <td>-0.536085</td>\n",
       "      <td>-0.844164</td>\n",
       "      <td>90960</td>\n",
       "      <td>2</td>\n",
       "    </tr>\n",
       "    <tr>\n",
       "      <th>124371</th>\n",
       "      <td>124372</td>\n",
       "      <td>-910.455017</td>\n",
       "      <td>198.906006</td>\n",
       "      <td>2955.5</td>\n",
       "      <td>18</td>\n",
       "      <td>12</td>\n",
       "      <td>96</td>\n",
       "      <td>7622978</td>\n",
       "      <td>2</td>\n",
       "      <td>2955.504395</td>\n",
       "      <td>...</td>\n",
       "      <td>3.171374</td>\n",
       "      <td>0.953711</td>\n",
       "      <td>0.315321</td>\n",
       "      <td>3.742775</td>\n",
       "      <td>-0.293795</td>\n",
       "      <td>0.064185</td>\n",
       "      <td>-0.565618</td>\n",
       "      <td>-0.824668</td>\n",
       "      <td>90970</td>\n",
       "      <td>1</td>\n",
       "    </tr>\n",
       "    <tr>\n",
       "      <th>124372</th>\n",
       "      <td>124373</td>\n",
       "      <td>-933.367981</td>\n",
       "      <td>245.300995</td>\n",
       "      <td>2955.5</td>\n",
       "      <td>18</td>\n",
       "      <td>12</td>\n",
       "      <td>96</td>\n",
       "      <td>1757465</td>\n",
       "      <td>10</td>\n",
       "      <td>2955.504395</td>\n",
       "      <td>...</td>\n",
       "      <td>3.062487</td>\n",
       "      <td>0.950605</td>\n",
       "      <td>0.326532</td>\n",
       "      <td>3.730296</td>\n",
       "      <td>-0.300208</td>\n",
       "      <td>0.078899</td>\n",
       "      <td>-0.555283</td>\n",
       "      <td>-0.831661</td>\n",
       "      <td>90954</td>\n",
       "      <td>2</td>\n",
       "    </tr>\n",
       "    <tr>\n",
       "      <th>124373</th>\n",
       "      <td>124374</td>\n",
       "      <td>-795.552979</td>\n",
       "      <td>45.108200</td>\n",
       "      <td>2944.5</td>\n",
       "      <td>18</td>\n",
       "      <td>12</td>\n",
       "      <td>97</td>\n",
       "      <td>7566778</td>\n",
       "      <td>1</td>\n",
       "      <td>2944.504395</td>\n",
       "      <td>...</td>\n",
       "      <td>3.695258</td>\n",
       "      <td>0.965279</td>\n",
       "      <td>0.270617</td>\n",
       "      <td>3.781511</td>\n",
       "      <td>-0.260802</td>\n",
       "      <td>0.014788</td>\n",
       "      <td>-0.597130</td>\n",
       "      <td>-0.802144</td>\n",
       "      <td>90971</td>\n",
       "      <td>1</td>\n",
       "    </tr>\n",
       "    <tr>\n",
       "      <th>124374</th>\n",
       "      <td>124375</td>\n",
       "      <td>-817.885986</td>\n",
       "      <td>22.400299</td>\n",
       "      <td>2944.5</td>\n",
       "      <td>18</td>\n",
       "      <td>12</td>\n",
       "      <td>97</td>\n",
       "      <td>5783904</td>\n",
       "      <td>7</td>\n",
       "      <td>2944.504395</td>\n",
       "      <td>...</td>\n",
       "      <td>3.598780</td>\n",
       "      <td>0.963495</td>\n",
       "      <td>0.277872</td>\n",
       "      <td>3.829668</td>\n",
       "      <td>-0.267628</td>\n",
       "      <td>0.007330</td>\n",
       "      <td>-0.635051</td>\n",
       "      <td>-0.772470</td>\n",
       "      <td>90972</td>\n",
       "      <td>1</td>\n",
       "    </tr>\n",
       "    <tr>\n",
       "      <th>124375</th>\n",
       "      <td>124376</td>\n",
       "      <td>-865.489990</td>\n",
       "      <td>91.181000</td>\n",
       "      <td>2944.5</td>\n",
       "      <td>18</td>\n",
       "      <td>12</td>\n",
       "      <td>97</td>\n",
       "      <td>7966217</td>\n",
       "      <td>6</td>\n",
       "      <td>2944.504395</td>\n",
       "      <td>...</td>\n",
       "      <td>3.383390</td>\n",
       "      <td>0.958990</td>\n",
       "      <td>0.295562</td>\n",
       "      <td>3.798213</td>\n",
       "      <td>-0.281881</td>\n",
       "      <td>0.029697</td>\n",
       "      <td>-0.610443</td>\n",
       "      <td>-0.792060</td>\n",
       "      <td>90973</td>\n",
       "      <td>2</td>\n",
       "    </tr>\n",
       "    <tr>\n",
       "      <th>124376</th>\n",
       "      <td>124377</td>\n",
       "      <td>-897.953003</td>\n",
       "      <td>72.925102</td>\n",
       "      <td>2944.5</td>\n",
       "      <td>18</td>\n",
       "      <td>12</td>\n",
       "      <td>97</td>\n",
       "      <td>8128579</td>\n",
       "      <td>3</td>\n",
       "      <td>2944.504395</td>\n",
       "      <td>...</td>\n",
       "      <td>3.268359</td>\n",
       "      <td>0.956242</td>\n",
       "      <td>0.305964</td>\n",
       "      <td>3.849301</td>\n",
       "      <td>-0.291616</td>\n",
       "      <td>0.023683</td>\n",
       "      <td>-0.650094</td>\n",
       "      <td>-0.759854</td>\n",
       "      <td>90974</td>\n",
       "      <td>1</td>\n",
       "    </tr>\n",
       "    <tr>\n",
       "      <th>124377</th>\n",
       "      <td>124378</td>\n",
       "      <td>-880.408020</td>\n",
       "      <td>22.589800</td>\n",
       "      <td>2944.5</td>\n",
       "      <td>18</td>\n",
       "      <td>12</td>\n",
       "      <td>97</td>\n",
       "      <td>1918612</td>\n",
       "      <td>10</td>\n",
       "      <td>2944.504395</td>\n",
       "      <td>...</td>\n",
       "      <td>3.343367</td>\n",
       "      <td>0.958063</td>\n",
       "      <td>0.299100</td>\n",
       "      <td>3.886759</td>\n",
       "      <td>-0.286462</td>\n",
       "      <td>0.007350</td>\n",
       "      <td>-0.678094</td>\n",
       "      <td>-0.734975</td>\n",
       "      <td>90975</td>\n",
       "      <td>1</td>\n",
       "    </tr>\n",
       "    <tr>\n",
       "      <th>124378</th>\n",
       "      <td>124379</td>\n",
       "      <td>-781.200012</td>\n",
       "      <td>105.078003</td>\n",
       "      <td>2944.5</td>\n",
       "      <td>18</td>\n",
       "      <td>12</td>\n",
       "      <td>97</td>\n",
       "      <td>6358094</td>\n",
       "      <td>1</td>\n",
       "      <td>2944.504395</td>\n",
       "      <td>...</td>\n",
       "      <td>3.735554</td>\n",
       "      <td>0.965986</td>\n",
       "      <td>0.267698</td>\n",
       "      <td>3.696844</td>\n",
       "      <td>-0.256285</td>\n",
       "      <td>0.034472</td>\n",
       "      <td>-0.527157</td>\n",
       "      <td>-0.849768</td>\n",
       "      <td>90976</td>\n",
       "      <td>1</td>\n",
       "    </tr>\n",
       "    <tr>\n",
       "      <th>124379</th>\n",
       "      <td>124380</td>\n",
       "      <td>-786.262024</td>\n",
       "      <td>27.843599</td>\n",
       "      <td>2944.5</td>\n",
       "      <td>18</td>\n",
       "      <td>12</td>\n",
       "      <td>97</td>\n",
       "      <td>1924892</td>\n",
       "      <td>4</td>\n",
       "      <td>2944.504395</td>\n",
       "      <td>...</td>\n",
       "      <td>3.742583</td>\n",
       "      <td>0.966108</td>\n",
       "      <td>0.267195</td>\n",
       "      <td>3.793843</td>\n",
       "      <td>-0.257978</td>\n",
       "      <td>0.009136</td>\n",
       "      <td>-0.606977</td>\n",
       "      <td>-0.794720</td>\n",
       "      <td>90977</td>\n",
       "      <td>1</td>\n",
       "    </tr>\n",
       "    <tr>\n",
       "      <th>124380</th>\n",
       "      <td>124381</td>\n",
       "      <td>-890.322998</td>\n",
       "      <td>22.828899</td>\n",
       "      <td>2952.5</td>\n",
       "      <td>18</td>\n",
       "      <td>12</td>\n",
       "      <td>98</td>\n",
       "      <td>1918612</td>\n",
       "      <td>10</td>\n",
       "      <td>2952.504395</td>\n",
       "      <td>...</td>\n",
       "      <td>3.315118</td>\n",
       "      <td>0.957391</td>\n",
       "      <td>0.301648</td>\n",
       "      <td>3.895570</td>\n",
       "      <td>-0.288701</td>\n",
       "      <td>0.007403</td>\n",
       "      <td>-0.684544</td>\n",
       "      <td>-0.728972</td>\n",
       "      <td>73690</td>\n",
       "      <td>2</td>\n",
       "    </tr>\n",
       "    <tr>\n",
       "      <th>124381</th>\n",
       "      <td>124382</td>\n",
       "      <td>-897.323975</td>\n",
       "      <td>77.195702</td>\n",
       "      <td>2952.5</td>\n",
       "      <td>18</td>\n",
       "      <td>12</td>\n",
       "      <td>98</td>\n",
       "      <td>7908973</td>\n",
       "      <td>9</td>\n",
       "      <td>2952.504395</td>\n",
       "      <td>...</td>\n",
       "      <td>3.278225</td>\n",
       "      <td>0.956488</td>\n",
       "      <td>0.305043</td>\n",
       "      <td>3.844278</td>\n",
       "      <td>-0.290696</td>\n",
       "      <td>0.025008</td>\n",
       "      <td>-0.646269</td>\n",
       "      <td>-0.763110</td>\n",
       "      <td>90978</td>\n",
       "      <td>1</td>\n",
       "    </tr>\n",
       "    <tr>\n",
       "      <th>124382</th>\n",
       "      <td>124383</td>\n",
       "      <td>-865.239014</td>\n",
       "      <td>90.266998</td>\n",
       "      <td>2952.5</td>\n",
       "      <td>18</td>\n",
       "      <td>12</td>\n",
       "      <td>98</td>\n",
       "      <td>7966217</td>\n",
       "      <td>6</td>\n",
       "      <td>2952.504395</td>\n",
       "      <td>...</td>\n",
       "      <td>3.393927</td>\n",
       "      <td>0.959229</td>\n",
       "      <td>0.294644</td>\n",
       "      <td>3.798922</td>\n",
       "      <td>-0.281105</td>\n",
       "      <td>0.029327</td>\n",
       "      <td>-0.611005</td>\n",
       "      <td>-0.791627</td>\n",
       "      <td>90973</td>\n",
       "      <td>2</td>\n",
       "    </tr>\n",
       "    <tr>\n",
       "      <th>124383</th>\n",
       "      <td>124384</td>\n",
       "      <td>-971.604004</td>\n",
       "      <td>55.957901</td>\n",
       "      <td>2952.5</td>\n",
       "      <td>18</td>\n",
       "      <td>12</td>\n",
       "      <td>98</td>\n",
       "      <td>4401397</td>\n",
       "      <td>2</td>\n",
       "      <td>2952.504395</td>\n",
       "      <td>...</td>\n",
       "      <td>3.033758</td>\n",
       "      <td>0.949735</td>\n",
       "      <td>0.329624</td>\n",
       "      <td>3.937011</td>\n",
       "      <td>-0.312538</td>\n",
       "      <td>0.018000</td>\n",
       "      <td>-0.714156</td>\n",
       "      <td>-0.699986</td>\n",
       "      <td>90979</td>\n",
       "      <td>1</td>\n",
       "    </tr>\n",
       "    <tr>\n",
       "      <th>124384</th>\n",
       "      <td>124385</td>\n",
       "      <td>-906.614014</td>\n",
       "      <td>95.154503</td>\n",
       "      <td>2952.5</td>\n",
       "      <td>18</td>\n",
       "      <td>12</td>\n",
       "      <td>98</td>\n",
       "      <td>6907385</td>\n",
       "      <td>1</td>\n",
       "      <td>2952.504395</td>\n",
       "      <td>...</td>\n",
       "      <td>3.238828</td>\n",
       "      <td>0.955494</td>\n",
       "      <td>0.308754</td>\n",
       "      <td>3.835241</td>\n",
       "      <td>-0.293401</td>\n",
       "      <td>0.030794</td>\n",
       "      <td>-0.639347</td>\n",
       "      <td>-0.768918</td>\n",
       "      <td>90980</td>\n",
       "      <td>1</td>\n",
       "    </tr>\n",
       "  </tbody>\n",
       "</table>\n",
       "<p>124385 rows × 23 columns</p>\n",
       "</div>"
      ],
      "text/plain": [
       "        hit_id           x           y       z  volume_id  layer_id  \\\n",
       "0            1  -48.674801   -5.761740 -1502.5          7         2   \n",
       "1            2  -75.548500   -9.682310 -1502.5          7         2   \n",
       "2            3  -69.968399   -5.581860 -1502.5          7         2   \n",
       "3            4  -35.324799   -2.704890 -1502.5          7         2   \n",
       "4            5  -99.261803  -11.197500 -1502.5          7         2   \n",
       "5            6  -67.558197   -6.094340 -1502.5          7         2   \n",
       "6            7  -63.736301    3.384740 -1502.5          7         2   \n",
       "7            8  -59.426899  -12.626500 -1502.5          7         2   \n",
       "8            9  -78.164299   -1.813290 -1502.5          7         2   \n",
       "9           10  -83.351303    0.286217 -1502.5          7         2   \n",
       "10          11  -91.341797  -14.536400 -1502.5          7         2   \n",
       "11          12  -66.740898  -10.744500 -1502.5          7         2   \n",
       "12          13  -60.177299   -3.808200 -1502.5          7         2   \n",
       "13          14  -96.132599   -7.941960 -1502.5          7         2   \n",
       "14          15  -93.830498  -15.685200 -1502.5          7         2   \n",
       "15          16  -87.631104   -1.254320 -1502.5          7         2   \n",
       "16          17  -82.778000  -13.260600 -1502.5          7         2   \n",
       "17          18  -84.366203  -10.476600 -1502.5          7         2   \n",
       "18          19  -36.901402   -9.198610 -1502.5          7         2   \n",
       "19          20  -62.858200  -12.043900 -1502.5          7         2   \n",
       "20          21  -51.928200   -0.367017 -1502.5          7         2   \n",
       "21          22  -74.732399   -4.602630 -1502.5          7         2   \n",
       "22          23 -103.884003  -12.836400 -1502.0          7         2   \n",
       "23          24 -155.029999   -3.939040 -1502.0          7         2   \n",
       "24          25 -122.973999   -8.463410 -1502.0          7         2   \n",
       "25          26 -164.014999  -10.461000 -1502.0          7         2   \n",
       "26          27 -141.460007    0.942888 -1502.0          7         2   \n",
       "27          28 -156.419006   -4.854170 -1502.0          7         2   \n",
       "28          29 -150.740997   -9.847230 -1502.0          7         2   \n",
       "29          30 -120.870003  -13.952400 -1502.0          7         2   \n",
       "...        ...         ...         ...     ...        ...       ...   \n",
       "124355  124356 -976.395996  245.266998  2952.5         18        12   \n",
       "124356  124357 -904.656982  230.473999  2952.5         18        12   \n",
       "124357  124358 -809.007019  322.921997  2952.5         18        12   \n",
       "124358  124359 -779.510986  165.393005  2947.5         18        12   \n",
       "124359  124360 -791.286987  106.193001  2947.5         18        12   \n",
       "124360  124361 -780.950989  158.154999  2947.5         18        12   \n",
       "124361  124362 -830.892029  226.938995  2947.5         18        12   \n",
       "124362  124363 -746.534973  171.251999  2947.5         18        12   \n",
       "124363  124364 -813.125000  209.641006  2947.5         18        12   \n",
       "124364  124365 -991.192017  219.682007  2955.5         18        12   \n",
       "124365  124366 -950.107971  157.542999  2955.5         18        12   \n",
       "124366  124367 -914.064026  179.987000  2955.5         18        12   \n",
       "124367  124368 -975.681030  245.492996  2955.5         18        12   \n",
       "124368  124369 -863.390015  168.121002  2955.5         18        12   \n",
       "124369  124370 -901.502991  134.832993  2955.5         18        12   \n",
       "124370  124371 -904.025024  232.617996  2955.5         18        12   \n",
       "124371  124372 -910.455017  198.906006  2955.5         18        12   \n",
       "124372  124373 -933.367981  245.300995  2955.5         18        12   \n",
       "124373  124374 -795.552979   45.108200  2944.5         18        12   \n",
       "124374  124375 -817.885986   22.400299  2944.5         18        12   \n",
       "124375  124376 -865.489990   91.181000  2944.5         18        12   \n",
       "124376  124377 -897.953003   72.925102  2944.5         18        12   \n",
       "124377  124378 -880.408020   22.589800  2944.5         18        12   \n",
       "124378  124379 -781.200012  105.078003  2944.5         18        12   \n",
       "124379  124380 -786.262024   27.843599  2944.5         18        12   \n",
       "124380  124381 -890.322998   22.828899  2952.5         18        12   \n",
       "124381  124382 -897.323975   77.195702  2952.5         18        12   \n",
       "124382  124383 -865.239014   90.266998  2952.5         18        12   \n",
       "124383  124384 -971.604004   55.957901  2952.5         18        12   \n",
       "124384  124385 -906.614014   95.154503  2952.5         18        12   \n",
       "\n",
       "        module_id       s1  N1    stepped_z ...         z1        z2  \\\n",
       "0               1        0   2 -1502.495605 ... -30.654200 -0.999468   \n",
       "1               1  1822912  15 -1502.495605 ... -19.726601 -0.998718   \n",
       "2               1        2   1 -1502.495605 ... -21.406033 -0.998911   \n",
       "3               1        3   1 -1502.495605 ... -42.409836 -0.999722   \n",
       "4               1  5588395   4 -1502.495605 ... -15.041381 -0.997797   \n",
       "5               1        5  14 -1502.495605 ... -22.150208 -0.998982   \n",
       "6               1        6  11 -1502.495605 ... -23.540590 -0.999099   \n",
       "7               1  4726944  12 -1502.495605 ... -24.731169 -0.999184   \n",
       "8               1        8   2 -1502.495605 ... -19.217215 -0.998649   \n",
       "9               1  3127933  16 -1502.495605 ... -18.026058 -0.998465   \n",
       "10              1  5502020   2 -1502.495605 ... -16.244827 -0.998111   \n",
       "11              1  1422236  14 -1502.495605 ... -22.226318 -0.998989   \n",
       "12              1       12  12 -1502.495605 ... -24.918114 -0.999196   \n",
       "13              1   237016  12 -1502.495605 ... -15.576433 -0.997946   \n",
       "14              1  3210493   2 -1502.495605 ... -15.793812 -0.998002   \n",
       "15              1       15  15 -1502.495605 ... -17.144032 -0.998303   \n",
       "16              1  7803580   6 -1502.495605 ... -17.922501 -0.998447   \n",
       "17              1  2145544  14 -1502.495605 ... -17.673569 -0.998403   \n",
       "18              1       18   1 -1502.495605 ... -39.507759 -0.999680   \n",
       "19              1  2307828  12 -1502.495605 ... -23.476032 -0.999094   \n",
       "20              1       20   1 -1502.495605 ... -28.933544 -0.999403   \n",
       "21              1       21   1 -1502.495605 ... -20.067104 -0.998761   \n",
       "22              2  2307831  13 -1501.995605 ... -14.349346 -0.997580   \n",
       "23              2  2064563  15 -1501.995605 ...  -9.685350 -0.994712   \n",
       "24              2  2798314  10 -1501.995605 ... -12.185176 -0.996649   \n",
       "25              2  4812712   1 -1501.995605 ...  -9.139155 -0.994067   \n",
       "26              2  1983944   4 -1501.995605 ... -10.617637 -0.995594   \n",
       "27              2  2064563  15 -1501.995605 ...  -9.597821 -0.994616   \n",
       "28              2  4898332  11 -1501.995605 ...  -9.942947 -0.994980   \n",
       "29              2       29   1 -1501.995605 ... -12.344637 -0.996735   \n",
       "...           ...      ...  ..          ... ...        ...       ...   \n",
       "124355         94  2334520   6  2952.504395 ...   2.932759  0.946491   \n",
       "124356         94  2648289   8  2952.504395 ...   3.162641  0.953473   \n",
       "124357         94  6640453   4  2952.504395 ...   3.389486  0.959128   \n",
       "124358         95  7766413   1  2947.504395 ...   3.698869  0.965343   \n",
       "124359         95  7605044   1  2947.504395 ...   3.691841  0.965218   \n",
       "124360         95  7766293   1  2947.504395 ...   3.699145  0.965348   \n",
       "124361         95  6751146   5  2947.504395 ...   3.422043  0.959856   \n",
       "124362         95  8402232   1  2947.504395 ...   3.848280  0.967856   \n",
       "124363         95  7785159   1  2947.504395 ...   3.510113  0.961733   \n",
       "124364         96  8148851   1  2955.504395 ...   2.911117  0.945756   \n",
       "124365         96  7605020   1  2955.504395 ...   3.068792  0.950793   \n",
       "124366         96  7427479   2  2955.504395 ...   3.172440  0.953740   \n",
       "124367         96  2334520   6  2955.504395 ...   2.937601  0.946653   \n",
       "124368         96  8330865   1  2955.504395 ...   3.360022  0.958453   \n",
       "124369         96  7785186   2  2955.504395 ...   3.242345  0.955584   \n",
       "124370         96  2648289   8  2955.504395 ...   3.166128  0.953568   \n",
       "124371         96  7622978   2  2955.504395 ...   3.171374  0.953711   \n",
       "124372         96  1757465  10  2955.504395 ...   3.062487  0.950605   \n",
       "124373         97  7566778   1  2944.504395 ...   3.695258  0.965279   \n",
       "124374         97  5783904   7  2944.504395 ...   3.598780  0.963495   \n",
       "124375         97  7966217   6  2944.504395 ...   3.383390  0.958990   \n",
       "124376         97  8128579   3  2944.504395 ...   3.268359  0.956242   \n",
       "124377         97  1918612  10  2944.504395 ...   3.343367  0.958063   \n",
       "124378         97  6358094   1  2944.504395 ...   3.735554  0.965986   \n",
       "124379         97  1924892   4  2944.504395 ...   3.742583  0.966108   \n",
       "124380         98  1918612  10  2952.504395 ...   3.315118  0.957391   \n",
       "124381         98  7908973   9  2952.504395 ...   3.278225  0.956488   \n",
       "124382         98  7966217   6  2952.504395 ...   3.393927  0.959229   \n",
       "124383         98  4401397   2  2952.504395 ...   3.033758  0.949735   \n",
       "124384         98  6907385   1  2952.504395 ...   3.238828  0.955494   \n",
       "\n",
       "              z3        a1        x2        y2     sina1     cosa1     s2  N2  \n",
       "0      -0.032622 -2.981392 -0.032379 -0.003833 -0.159516 -0.987195      0   2  \n",
       "1      -0.050693 -2.948250 -0.050217 -0.006436 -0.192141 -0.981367      1   2  \n",
       "2      -0.046716 -3.001281 -0.046517 -0.003711 -0.139852 -0.990172      2   1  \n",
       "3      -0.023579 -3.034546 -0.023504 -0.001800 -0.106842 -0.994276      3   1  \n",
       "4      -0.066483 -2.942832 -0.065919 -0.007436 -0.197455 -0.980312      4   1  \n",
       "5      -0.045146 -2.992965 -0.044918 -0.004052 -0.148081 -0.988975      5   1  \n",
       "6      -0.042480  3.143731 -0.042382  0.002251 -0.002139 -0.999998      6   2  \n",
       "7      -0.040435 -2.879700 -0.039520 -0.008397 -0.258909 -0.965902      7   2  \n",
       "8      -0.052037 -3.050773 -0.051952 -0.001205 -0.090695 -0.995879      8   2  \n",
       "9      -0.055475  3.210259 -0.055390  0.000190 -0.068612 -0.997643      9   2  \n",
       "10     -0.061558 -2.903757 -0.060678 -0.009657 -0.235600 -0.971850     10   2  \n",
       "11     -0.044992 -2.923513 -0.044375 -0.007144 -0.216355 -0.976315     11   2  \n",
       "12     -0.040131 -3.026254 -0.040019 -0.002533 -0.115083 -0.993356     12   1  \n",
       "13     -0.064200 -2.975710 -0.063850 -0.005275 -0.165123 -0.986273     13   1  \n",
       "14     -0.063316 -2.893654 -0.062325 -0.010419 -0.245406 -0.969420     14   1  \n",
       "15     -0.058329 -3.051466 -0.058224 -0.000833 -0.090005 -0.995941     15   2  \n",
       "16     -0.055796 -2.910231 -0.055008 -0.008812 -0.229303 -0.973355     16   6  \n",
       "17     -0.056582 -2.944505 -0.056061 -0.006962 -0.195814 -0.980641     17   1  \n",
       "18     -0.025311 -2.864422 -0.024552 -0.006120 -0.273636 -0.961833     18   1  \n",
       "19     -0.042597 -2.896937 -0.041798 -0.008009 -0.242222 -0.970221     19   2  \n",
       "20     -0.034562 -3.089627 -0.034540 -0.000244 -0.051943 -0.998650     20   1  \n",
       "21     -0.049833 -3.015324 -0.049677 -0.003060 -0.125934 -0.992039     21   1  \n",
       "22     -0.069690 -2.928079 -0.068996 -0.008526 -0.211895 -0.977292     22   2  \n",
       "23     -0.103249 -2.981902 -0.102670 -0.002609 -0.159013 -0.987276     23   2  \n",
       "24     -0.082067 -2.966190 -0.081599 -0.005616 -0.174505 -0.984656     24   1  \n",
       "25     -0.109419 -2.935565 -0.108550 -0.006923 -0.204573 -0.978851     25   1  \n",
       "26     -0.094183  3.257399 -0.093766  0.000625 -0.115548 -0.993302     26   2  \n",
       "27     -0.104190 -2.975054 -0.103579 -0.003214 -0.165770 -0.986164     27   9  \n",
       "28     -0.100574 -2.945559 -0.099856 -0.006523 -0.194781 -0.980847     28   1  \n",
       "29     -0.081007 -2.921360 -0.080210 -0.009259 -0.218456 -0.975847     29   1  \n",
       "...          ...       ...       ...       ...       ...       ...    ...  ..  \n",
       "124355  0.340976  3.778244 -0.313006  0.078626 -0.594506 -0.804091  90959   2  \n",
       "124356  0.316191  3.709849 -0.292148  0.074429 -0.538163 -0.842841  90960   2  \n",
       "124357  0.295030  3.524101 -0.262809  0.104902 -0.373249 -0.927731  90942   3  \n",
       "124358  0.270353  3.629106 -0.255300  0.054168 -0.468430 -0.883501  90961   1  \n",
       "124359  0.270868  3.706116 -0.259123  0.034775 -0.535013 -0.844844  90962   1  \n",
       "124360  0.270333  3.638314 -0.255773  0.051798 -0.476546 -0.879150  90963   1  \n",
       "124361  0.292223  3.628619 -0.270581  0.073903 -0.468000 -0.883728  90946   2  \n",
       "124362  0.259856  3.585336 -0.245136  0.056233 -0.429324 -0.903151  53912   2  \n",
       "124363  0.284891  3.623775 -0.265313  0.068403 -0.463713 -0.885985  90964   1  \n",
       "124364  0.343511  3.813816 -0.317181  0.070298 -0.622727 -0.782439  90965   1  \n",
       "124365  0.325861  3.821214 -0.305653  0.050682 -0.628498 -0.777811  90966   1  \n",
       "124366  0.315215  3.763165 -0.294969  0.058082 -0.582314 -0.812964  90967   1  \n",
       "124367  0.340414  3.777285 -0.312513  0.078632 -0.593734 -0.804661  90959   2  \n",
       "124368  0.297617  3.719129 -0.279993  0.054521 -0.545961 -0.837810  90968   1  \n",
       "124369  0.308419  3.791294 -0.291478  0.043595 -0.604949 -0.796264  90969   1  \n",
       "124370  0.315843  3.707385 -0.291677  0.075052 -0.536085 -0.844164  90960   2  \n",
       "124371  0.315321  3.742775 -0.293795  0.064185 -0.565618 -0.824668  90970   1  \n",
       "124372  0.326532  3.730296 -0.300208  0.078899 -0.555283 -0.831661  90954   2  \n",
       "124373  0.270617  3.781511 -0.260802  0.014788 -0.597130 -0.802144  90971   1  \n",
       "124374  0.277872  3.829668 -0.267628  0.007330 -0.635051 -0.772470  90972   1  \n",
       "124375  0.295562  3.798213 -0.281881  0.029697 -0.610443 -0.792060  90973   2  \n",
       "124376  0.305964  3.849301 -0.291616  0.023683 -0.650094 -0.759854  90974   1  \n",
       "124377  0.299100  3.886759 -0.286462  0.007350 -0.678094 -0.734975  90975   1  \n",
       "124378  0.267698  3.696844 -0.256285  0.034472 -0.527157 -0.849768  90976   1  \n",
       "124379  0.267195  3.793843 -0.257978  0.009136 -0.606977 -0.794720  90977   1  \n",
       "124380  0.301648  3.895570 -0.288701  0.007403 -0.684544 -0.728972  73690   2  \n",
       "124381  0.305043  3.844278 -0.290696  0.025008 -0.646269 -0.763110  90978   1  \n",
       "124382  0.294644  3.798922 -0.281105  0.029327 -0.611005 -0.791627  90973   2  \n",
       "124383  0.329624  3.937011 -0.312538  0.018000 -0.714156 -0.699986  90979   1  \n",
       "124384  0.308754  3.835241 -0.293401  0.030794 -0.639347 -0.768918  90980   1  \n",
       "\n",
       "[124385 rows x 23 columns]"
      ]
     },
     "execution_count": 10,
     "metadata": {},
     "output_type": "execute_result"
    }
   ],
   "source": [
    "labels"
   ]
  },
  {
   "cell_type": "code",
   "execution_count": 37,
   "metadata": {},
   "outputs": [],
   "source": [
    "cond = np.where((labels['N2'].values > labels['N1'].values) & (labels['N2'].values < 20))"
   ]
  },
  {
   "cell_type": "code",
   "execution_count": 58,
   "metadata": {},
   "outputs": [],
   "source": [
    "cond = np.where((labels['N2'].values > labels['N1'].values) & ( ((labels['N2'].values < 20) & ( (labels['x'] > 275) | (labels['y'] > 625))) | (labels['N2'] < 15)))"
   ]
  },
  {
   "cell_type": "code",
   "execution_count": 46,
   "metadata": {},
   "outputs": [
    {
     "ename": "TypeError",
     "evalue": "ufunc 'bitwise_or' not supported for the input types, and the inputs could not be safely coerced to any supported types according to the casting rule ''safe''",
     "output_type": "error",
     "traceback": [
      "\u001b[0;31m---------------------------------------------------------------------------\u001b[0m",
      "\u001b[0;31mTypeError\u001b[0m                                 Traceback (most recent call last)",
      "\u001b[0;32m<ipython-input-46-e3bad33eb4b7>\u001b[0m in \u001b[0;36m<module>\u001b[0;34m()\u001b[0m\n\u001b[0;32m----> 1\u001b[0;31m \u001b[0;34m(\u001b[0m \u001b[0;34m(\u001b[0m\u001b[0;34m(\u001b[0m\u001b[0mlabels\u001b[0m\u001b[0;34m[\u001b[0m\u001b[0;34m'N2'\u001b[0m\u001b[0;34m]\u001b[0m\u001b[0;34m.\u001b[0m\u001b[0mvalues\u001b[0m \u001b[0;34m<\u001b[0m \u001b[0;36m20\u001b[0m\u001b[0;34m)\u001b[0m \u001b[0;34m&\u001b[0m \u001b[0;34m(\u001b[0m\u001b[0mlabels\u001b[0m\u001b[0;34m[\u001b[0m\u001b[0;34m'x'\u001b[0m\u001b[0;34m]\u001b[0m\u001b[0;34m.\u001b[0m\u001b[0mvalues\u001b[0m \u001b[0;34m>\u001b[0m \u001b[0;36m275\u001b[0m \u001b[0;34m|\u001b[0m \u001b[0mlabels\u001b[0m\u001b[0;34m[\u001b[0m\u001b[0;34m'y'\u001b[0m\u001b[0;34m]\u001b[0m\u001b[0;34m.\u001b[0m\u001b[0mvalues\u001b[0m \u001b[0;34m>\u001b[0m \u001b[0;36m625\u001b[0m\u001b[0;34m)\u001b[0m\u001b[0;34m)\u001b[0m \u001b[0;34m|\u001b[0m \u001b[0;34m(\u001b[0m\u001b[0mlabels\u001b[0m\u001b[0;34m[\u001b[0m\u001b[0;34m'N2'\u001b[0m\u001b[0;34m]\u001b[0m\u001b[0;34m.\u001b[0m\u001b[0mvalues\u001b[0m \u001b[0;34m<\u001b[0m \u001b[0;36m15\u001b[0m\u001b[0;34m)\u001b[0m\u001b[0;34m)\u001b[0m\u001b[0;34m\u001b[0m\u001b[0m\n\u001b[0m",
      "\u001b[0;31mTypeError\u001b[0m: ufunc 'bitwise_or' not supported for the input types, and the inputs could not be safely coerced to any supported types according to the casting rule ''safe''"
     ]
    }
   ],
   "source": [
    "( ((labels['N2'].values < 20) & (labels['x'].values > 275 | labels['y'].values > 625)) | (labels['N2'].values < 15))"
   ]
  },
  {
   "cell_type": "code",
   "execution_count": 56,
   "metadata": {},
   "outputs": [
    {
     "data": {
      "text/plain": [
       "array([False, False, False, ..., False, False, False])"
      ]
     },
     "execution_count": 56,
     "metadata": {},
     "output_type": "execute_result"
    }
   ],
   "source": [
    "(labels['x'].values > 275) | (labels['y'].values > 625)"
   ]
  },
  {
   "cell_type": "code",
   "execution_count": 55,
   "metadata": {},
   "outputs": [
    {
     "data": {
      "text/plain": [
       "array([False, False, False, ..., False, False, False])"
      ]
     },
     "execution_count": 55,
     "metadata": {},
     "output_type": "execute_result"
    }
   ],
   "source": [
    "labels['y'].values > 625"
   ]
  },
  {
   "cell_type": "code",
   "execution_count": 26,
   "metadata": {
    "scrolled": true
   },
   "outputs": [
    {
     "data": {
      "text/html": [
       "<div>\n",
       "<style scoped>\n",
       "    .dataframe tbody tr th:only-of-type {\n",
       "        vertical-align: middle;\n",
       "    }\n",
       "\n",
       "    .dataframe tbody tr th {\n",
       "        vertical-align: top;\n",
       "    }\n",
       "\n",
       "    .dataframe thead th {\n",
       "        text-align: right;\n",
       "    }\n",
       "</style>\n",
       "<table border=\"1\" class=\"dataframe\">\n",
       "  <thead>\n",
       "    <tr style=\"text-align: right;\">\n",
       "      <th></th>\n",
       "      <th>hit_id</th>\n",
       "      <th>x</th>\n",
       "      <th>y</th>\n",
       "      <th>z</th>\n",
       "      <th>volume_id</th>\n",
       "      <th>layer_id</th>\n",
       "      <th>module_id</th>\n",
       "      <th>s1</th>\n",
       "      <th>N1</th>\n",
       "      <th>stepped_z</th>\n",
       "      <th>...</th>\n",
       "      <th>z1</th>\n",
       "      <th>z2</th>\n",
       "      <th>z3</th>\n",
       "      <th>a1</th>\n",
       "      <th>x2</th>\n",
       "      <th>y2</th>\n",
       "      <th>sina1</th>\n",
       "      <th>cosa1</th>\n",
       "      <th>s2</th>\n",
       "      <th>N2</th>\n",
       "    </tr>\n",
       "  </thead>\n",
       "  <tbody>\n",
       "    <tr>\n",
       "      <th>319</th>\n",
       "      <td>320</td>\n",
       "      <td>-60.398602</td>\n",
       "      <td>-127.692001</td>\n",
       "      <td>-1502.0</td>\n",
       "      <td>7</td>\n",
       "      <td>2</td>\n",
       "      <td>21</td>\n",
       "      <td>8348561</td>\n",
       "      <td>1</td>\n",
       "      <td>-1501.995605</td>\n",
       "      <td>...</td>\n",
       "      <td>-10.633213</td>\n",
       "      <td>-0.995607</td>\n",
       "      <td>-0.094045</td>\n",
       "      <td>-1.890321</td>\n",
       "      <td>-0.040035</td>\n",
       "      <td>-0.084641</td>\n",
       "      <td>-0.949385</td>\n",
       "      <td>-0.314115</td>\n",
       "      <td>241</td>\n",
       "      <td>2</td>\n",
       "    </tr>\n",
       "    <tr>\n",
       "      <th>343</th>\n",
       "      <td>344</td>\n",
       "      <td>-23.916300</td>\n",
       "      <td>-97.369598</td>\n",
       "      <td>-1502.5</td>\n",
       "      <td>7</td>\n",
       "      <td>2</td>\n",
       "      <td>23</td>\n",
       "      <td>8348576</td>\n",
       "      <td>2</td>\n",
       "      <td>-1502.495605</td>\n",
       "      <td>...</td>\n",
       "      <td>-14.985513</td>\n",
       "      <td>-0.997781</td>\n",
       "      <td>-0.066731</td>\n",
       "      <td>-1.724901</td>\n",
       "      <td>-0.015882</td>\n",
       "      <td>-0.064661</td>\n",
       "      <td>-0.988149</td>\n",
       "      <td>-0.153496</td>\n",
       "      <td>256</td>\n",
       "      <td>13</td>\n",
       "    </tr>\n",
       "    <tr>\n",
       "      <th>363</th>\n",
       "      <td>364</td>\n",
       "      <td>-32.573200</td>\n",
       "      <td>-138.384003</td>\n",
       "      <td>-1502.0</td>\n",
       "      <td>7</td>\n",
       "      <td>2</td>\n",
       "      <td>24</td>\n",
       "      <td>8348592</td>\n",
       "      <td>2</td>\n",
       "      <td>-1501.995605</td>\n",
       "      <td>...</td>\n",
       "      <td>-10.565152</td>\n",
       "      <td>-0.995550</td>\n",
       "      <td>-0.094651</td>\n",
       "      <td>-1.678889</td>\n",
       "      <td>-0.021590</td>\n",
       "      <td>-0.091723</td>\n",
       "      <td>-0.994164</td>\n",
       "      <td>-0.107882</td>\n",
       "      <td>272</td>\n",
       "      <td>13</td>\n",
       "    </tr>\n",
       "    <tr>\n",
       "      <th>370</th>\n",
       "      <td>371</td>\n",
       "      <td>-35.410400</td>\n",
       "      <td>-138.871994</td>\n",
       "      <td>-1502.0</td>\n",
       "      <td>7</td>\n",
       "      <td>2</td>\n",
       "      <td>24</td>\n",
       "      <td>8348597</td>\n",
       "      <td>2</td>\n",
       "      <td>-1501.995605</td>\n",
       "      <td>...</td>\n",
       "      <td>-10.480405</td>\n",
       "      <td>-0.995479</td>\n",
       "      <td>-0.095416</td>\n",
       "      <td>-1.696383</td>\n",
       "      <td>-0.023469</td>\n",
       "      <td>-0.092040</td>\n",
       "      <td>-0.992124</td>\n",
       "      <td>-0.125257</td>\n",
       "      <td>277</td>\n",
       "      <td>7</td>\n",
       "    </tr>\n",
       "    <tr>\n",
       "      <th>391</th>\n",
       "      <td>392</td>\n",
       "      <td>-11.331600</td>\n",
       "      <td>-113.625000</td>\n",
       "      <td>-1498.0</td>\n",
       "      <td>7</td>\n",
       "      <td>2</td>\n",
       "      <td>26</td>\n",
       "      <td>8348613</td>\n",
       "      <td>6</td>\n",
       "      <td>-1497.995605</td>\n",
       "      <td>...</td>\n",
       "      <td>-13.118681</td>\n",
       "      <td>-0.997107</td>\n",
       "      <td>-0.076227</td>\n",
       "      <td>-1.571377</td>\n",
       "      <td>-0.007543</td>\n",
       "      <td>-0.075631</td>\n",
       "      <td>-1.000000</td>\n",
       "      <td>-0.000580</td>\n",
       "      <td>293</td>\n",
       "      <td>16</td>\n",
       "    </tr>\n",
       "    <tr>\n",
       "      <th>393</th>\n",
       "      <td>394</td>\n",
       "      <td>-11.398400</td>\n",
       "      <td>-113.919998</td>\n",
       "      <td>-1502.0</td>\n",
       "      <td>7</td>\n",
       "      <td>2</td>\n",
       "      <td>27</td>\n",
       "      <td>8348613</td>\n",
       "      <td>6</td>\n",
       "      <td>-1501.995605</td>\n",
       "      <td>...</td>\n",
       "      <td>-13.119224</td>\n",
       "      <td>-0.997108</td>\n",
       "      <td>-0.076224</td>\n",
       "      <td>-1.571441</td>\n",
       "      <td>-0.007567</td>\n",
       "      <td>-0.075626</td>\n",
       "      <td>-1.000000</td>\n",
       "      <td>-0.000645</td>\n",
       "      <td>293</td>\n",
       "      <td>16</td>\n",
       "    </tr>\n",
       "    <tr>\n",
       "      <th>492</th>\n",
       "      <td>493</td>\n",
       "      <td>57.278702</td>\n",
       "      <td>-166.098007</td>\n",
       "      <td>-1502.0</td>\n",
       "      <td>7</td>\n",
       "      <td>2</td>\n",
       "      <td>34</td>\n",
       "      <td>8348688</td>\n",
       "      <td>1</td>\n",
       "      <td>-1501.995605</td>\n",
       "      <td>...</td>\n",
       "      <td>-8.548839</td>\n",
       "      <td>-0.993228</td>\n",
       "      <td>-0.116975</td>\n",
       "      <td>-1.086531</td>\n",
       "      <td>0.037877</td>\n",
       "      <td>-0.109835</td>\n",
       "      <td>-0.885017</td>\n",
       "      <td>0.465559</td>\n",
       "      <td>368</td>\n",
       "      <td>3</td>\n",
       "    </tr>\n",
       "    <tr>\n",
       "      <th>649</th>\n",
       "      <td>650</td>\n",
       "      <td>134.445007</td>\n",
       "      <td>-66.787003</td>\n",
       "      <td>-1502.0</td>\n",
       "      <td>7</td>\n",
       "      <td>2</td>\n",
       "      <td>46</td>\n",
       "      <td>8348804</td>\n",
       "      <td>7</td>\n",
       "      <td>-1501.995605</td>\n",
       "      <td>...</td>\n",
       "      <td>-10.005369</td>\n",
       "      <td>-0.995042</td>\n",
       "      <td>-0.099946</td>\n",
       "      <td>-0.331070</td>\n",
       "      <td>0.089067</td>\n",
       "      <td>-0.044245</td>\n",
       "      <td>-0.325055</td>\n",
       "      <td>0.945695</td>\n",
       "      <td>484</td>\n",
       "      <td>8</td>\n",
       "    </tr>\n",
       "    <tr>\n",
       "      <th>667</th>\n",
       "      <td>668</td>\n",
       "      <td>58.875198</td>\n",
       "      <td>-23.493900</td>\n",
       "      <td>-1498.0</td>\n",
       "      <td>7</td>\n",
       "      <td>2</td>\n",
       "      <td>47</td>\n",
       "      <td>8348816</td>\n",
       "      <td>1</td>\n",
       "      <td>-1497.995605</td>\n",
       "      <td>...</td>\n",
       "      <td>-23.631674</td>\n",
       "      <td>-0.999106</td>\n",
       "      <td>-0.042316</td>\n",
       "      <td>-0.324867</td>\n",
       "      <td>0.039267</td>\n",
       "      <td>-0.015669</td>\n",
       "      <td>-0.319183</td>\n",
       "      <td>0.947693</td>\n",
       "      <td>496</td>\n",
       "      <td>11</td>\n",
       "    </tr>\n",
       "    <tr>\n",
       "      <th>688</th>\n",
       "      <td>689</td>\n",
       "      <td>134.128006</td>\n",
       "      <td>-66.574799</td>\n",
       "      <td>-1498.0</td>\n",
       "      <td>7</td>\n",
       "      <td>2</td>\n",
       "      <td>48</td>\n",
       "      <td>8348804</td>\n",
       "      <td>7</td>\n",
       "      <td>-1497.995605</td>\n",
       "      <td>...</td>\n",
       "      <td>-10.003934</td>\n",
       "      <td>-0.995041</td>\n",
       "      <td>-0.099961</td>\n",
       "      <td>-0.331070</td>\n",
       "      <td>0.089094</td>\n",
       "      <td>-0.044222</td>\n",
       "      <td>-0.325056</td>\n",
       "      <td>0.945695</td>\n",
       "      <td>484</td>\n",
       "      <td>8</td>\n",
       "    </tr>\n",
       "    <tr>\n",
       "      <th>701</th>\n",
       "      <td>702</td>\n",
       "      <td>141.481995</td>\n",
       "      <td>-52.666901</td>\n",
       "      <td>-1502.0</td>\n",
       "      <td>7</td>\n",
       "      <td>2</td>\n",
       "      <td>49</td>\n",
       "      <td>8257314</td>\n",
       "      <td>1</td>\n",
       "      <td>-1501.995605</td>\n",
       "      <td>...</td>\n",
       "      <td>-9.949241</td>\n",
       "      <td>-0.994987</td>\n",
       "      <td>-0.100510</td>\n",
       "      <td>-0.225641</td>\n",
       "      <td>0.093723</td>\n",
       "      <td>-0.034889</td>\n",
       "      <td>-0.223731</td>\n",
       "      <td>0.974651</td>\n",
       "      <td>520</td>\n",
       "      <td>2</td>\n",
       "    </tr>\n",
       "    <tr>\n",
       "      <th>702</th>\n",
       "      <td>703</td>\n",
       "      <td>148.559006</td>\n",
       "      <td>-42.171799</td>\n",
       "      <td>-1502.0</td>\n",
       "      <td>7</td>\n",
       "      <td>2</td>\n",
       "      <td>49</td>\n",
       "      <td>8348841</td>\n",
       "      <td>2</td>\n",
       "      <td>-1501.995605</td>\n",
       "      <td>...</td>\n",
       "      <td>-9.726197</td>\n",
       "      <td>-0.994756</td>\n",
       "      <td>-0.102815</td>\n",
       "      <td>-0.142873</td>\n",
       "      <td>0.098389</td>\n",
       "      <td>-0.027930</td>\n",
       "      <td>-0.142388</td>\n",
       "      <td>0.989811</td>\n",
       "      <td>521</td>\n",
       "      <td>3</td>\n",
       "    </tr>\n",
       "    <tr>\n",
       "      <th>733</th>\n",
       "      <td>734</td>\n",
       "      <td>148.192993</td>\n",
       "      <td>-41.968700</td>\n",
       "      <td>-1498.0</td>\n",
       "      <td>7</td>\n",
       "      <td>2</td>\n",
       "      <td>51</td>\n",
       "      <td>8348841</td>\n",
       "      <td>2</td>\n",
       "      <td>-1497.995605</td>\n",
       "      <td>...</td>\n",
       "      <td>-9.725962</td>\n",
       "      <td>-0.994756</td>\n",
       "      <td>-0.102818</td>\n",
       "      <td>-0.142607</td>\n",
       "      <td>0.098408</td>\n",
       "      <td>-0.027869</td>\n",
       "      <td>-0.142124</td>\n",
       "      <td>0.989849</td>\n",
       "      <td>521</td>\n",
       "      <td>3</td>\n",
       "    </tr>\n",
       "    <tr>\n",
       "      <th>771</th>\n",
       "      <td>772</td>\n",
       "      <td>140.257004</td>\n",
       "      <td>-3.155920</td>\n",
       "      <td>-1498.0</td>\n",
       "      <td>7</td>\n",
       "      <td>2</td>\n",
       "      <td>54</td>\n",
       "      <td>8348896</td>\n",
       "      <td>6</td>\n",
       "      <td>-1497.995605</td>\n",
       "      <td>...</td>\n",
       "      <td>-10.677723</td>\n",
       "      <td>-0.995643</td>\n",
       "      <td>-0.093653</td>\n",
       "      <td>0.098959</td>\n",
       "      <td>0.093221</td>\n",
       "      <td>-0.002098</td>\n",
       "      <td>0.098798</td>\n",
       "      <td>0.995108</td>\n",
       "      <td>576</td>\n",
       "      <td>10</td>\n",
       "    </tr>\n",
       "    <tr>\n",
       "      <th>1202</th>\n",
       "      <td>1203</td>\n",
       "      <td>-10.810400</td>\n",
       "      <td>93.706299</td>\n",
       "      <td>-1502.0</td>\n",
       "      <td>7</td>\n",
       "      <td>2</td>\n",
       "      <td>82</td>\n",
       "      <td>8349210</td>\n",
       "      <td>1</td>\n",
       "      <td>-1501.995605</td>\n",
       "      <td>...</td>\n",
       "      <td>-15.923242</td>\n",
       "      <td>-0.998034</td>\n",
       "      <td>-0.062801</td>\n",
       "      <td>1.767261</td>\n",
       "      <td>-0.007183</td>\n",
       "      <td>0.062265</td>\n",
       "      <td>0.980763</td>\n",
       "      <td>-0.195203</td>\n",
       "      <td>890</td>\n",
       "      <td>16</td>\n",
       "    </tr>\n",
       "    <tr>\n",
       "      <th>1225</th>\n",
       "      <td>1226</td>\n",
       "      <td>-4.662660</td>\n",
       "      <td>172.847000</td>\n",
       "      <td>-1498.0</td>\n",
       "      <td>7</td>\n",
       "      <td>2</td>\n",
       "      <td>83</td>\n",
       "      <td>8349237</td>\n",
       "      <td>1</td>\n",
       "      <td>-1497.995605</td>\n",
       "      <td>...</td>\n",
       "      <td>-8.663498</td>\n",
       "      <td>-0.993404</td>\n",
       "      <td>-0.115427</td>\n",
       "      <td>1.747532</td>\n",
       "      <td>-0.003092</td>\n",
       "      <td>0.114624</td>\n",
       "      <td>0.984423</td>\n",
       "      <td>-0.175818</td>\n",
       "      <td>917</td>\n",
       "      <td>3</td>\n",
       "    </tr>\n",
       "    <tr>\n",
       "      <th>1234</th>\n",
       "      <td>1235</td>\n",
       "      <td>-15.301700</td>\n",
       "      <td>133.399994</td>\n",
       "      <td>-1502.0</td>\n",
       "      <td>7</td>\n",
       "      <td>2</td>\n",
       "      <td>84</td>\n",
       "      <td>8349243</td>\n",
       "      <td>1</td>\n",
       "      <td>-1501.995605</td>\n",
       "      <td>...</td>\n",
       "      <td>-11.186055</td>\n",
       "      <td>-0.996028</td>\n",
       "      <td>-0.089397</td>\n",
       "      <td>1.801239</td>\n",
       "      <td>-0.010147</td>\n",
       "      <td>0.088462</td>\n",
       "      <td>0.973565</td>\n",
       "      <td>-0.228408</td>\n",
       "      <td>923</td>\n",
       "      <td>3</td>\n",
       "    </tr>\n",
       "    <tr>\n",
       "      <th>1243</th>\n",
       "      <td>1244</td>\n",
       "      <td>-19.023701</td>\n",
       "      <td>63.438000</td>\n",
       "      <td>-1497.5</td>\n",
       "      <td>7</td>\n",
       "      <td>2</td>\n",
       "      <td>85</td>\n",
       "      <td>8349246</td>\n",
       "      <td>1</td>\n",
       "      <td>-1497.495605</td>\n",
       "      <td>...</td>\n",
       "      <td>-22.611006</td>\n",
       "      <td>-0.999023</td>\n",
       "      <td>-0.044226</td>\n",
       "      <td>1.919416</td>\n",
       "      <td>-0.012691</td>\n",
       "      <td>0.042321</td>\n",
       "      <td>0.939845</td>\n",
       "      <td>-0.341601</td>\n",
       "      <td>926</td>\n",
       "      <td>3</td>\n",
       "    </tr>\n",
       "    <tr>\n",
       "      <th>1299</th>\n",
       "      <td>1300</td>\n",
       "      <td>-44.287102</td>\n",
       "      <td>129.695999</td>\n",
       "      <td>-1502.0</td>\n",
       "      <td>7</td>\n",
       "      <td>2</td>\n",
       "      <td>88</td>\n",
       "      <td>8349287</td>\n",
       "      <td>1</td>\n",
       "      <td>-1501.995605</td>\n",
       "      <td>...</td>\n",
       "      <td>-10.959623</td>\n",
       "      <td>-0.995863</td>\n",
       "      <td>-0.091244</td>\n",
       "      <td>2.018493</td>\n",
       "      <td>-0.029363</td>\n",
       "      <td>0.085991</td>\n",
       "      <td>0.901447</td>\n",
       "      <td>-0.432891</td>\n",
       "      <td>967</td>\n",
       "      <td>2</td>\n",
       "    </tr>\n",
       "    <tr>\n",
       "      <th>1355</th>\n",
       "      <td>1356</td>\n",
       "      <td>-57.589699</td>\n",
       "      <td>74.781303</td>\n",
       "      <td>-1502.0</td>\n",
       "      <td>7</td>\n",
       "      <td>2</td>\n",
       "      <td>93</td>\n",
       "      <td>8349329</td>\n",
       "      <td>1</td>\n",
       "      <td>-1501.995605</td>\n",
       "      <td>...</td>\n",
       "      <td>-15.913335</td>\n",
       "      <td>-0.998031</td>\n",
       "      <td>-0.062840</td>\n",
       "      <td>2.308702</td>\n",
       "      <td>-0.038266</td>\n",
       "      <td>0.049690</td>\n",
       "      <td>0.739879</td>\n",
       "      <td>-0.672740</td>\n",
       "      <td>1009</td>\n",
       "      <td>3</td>\n",
       "    </tr>\n",
       "    <tr>\n",
       "      <th>1375</th>\n",
       "      <td>1376</td>\n",
       "      <td>-110.156998</td>\n",
       "      <td>127.799004</td>\n",
       "      <td>-1502.0</td>\n",
       "      <td>7</td>\n",
       "      <td>2</td>\n",
       "      <td>94</td>\n",
       "      <td>8349345</td>\n",
       "      <td>1</td>\n",
       "      <td>-1501.995605</td>\n",
       "      <td>...</td>\n",
       "      <td>-8.902238</td>\n",
       "      <td>-0.993750</td>\n",
       "      <td>-0.112331</td>\n",
       "      <td>2.428321</td>\n",
       "      <td>-0.072882</td>\n",
       "      <td>0.084554</td>\n",
       "      <td>0.654312</td>\n",
       "      <td>-0.756225</td>\n",
       "      <td>1025</td>\n",
       "      <td>3</td>\n",
       "    </tr>\n",
       "    <tr>\n",
       "      <th>1517</th>\n",
       "      <td>1518</td>\n",
       "      <td>-129.451004</td>\n",
       "      <td>31.396900</td>\n",
       "      <td>-1498.0</td>\n",
       "      <td>7</td>\n",
       "      <td>2</td>\n",
       "      <td>105</td>\n",
       "      <td>8349453</td>\n",
       "      <td>1</td>\n",
       "      <td>-1497.995605</td>\n",
       "      <td>...</td>\n",
       "      <td>-11.245934</td>\n",
       "      <td>-0.996070</td>\n",
       "      <td>-0.088921</td>\n",
       "      <td>3.018956</td>\n",
       "      <td>-0.086076</td>\n",
       "      <td>0.020877</td>\n",
       "      <td>0.122329</td>\n",
       "      <td>-0.992490</td>\n",
       "      <td>1133</td>\n",
       "      <td>2</td>\n",
       "    </tr>\n",
       "    <tr>\n",
       "      <th>1564</th>\n",
       "      <td>1565</td>\n",
       "      <td>-155.727997</td>\n",
       "      <td>9.427130</td>\n",
       "      <td>-1498.0</td>\n",
       "      <td>7</td>\n",
       "      <td>2</td>\n",
       "      <td>108</td>\n",
       "      <td>8349479</td>\n",
       "      <td>1</td>\n",
       "      <td>-1497.995605</td>\n",
       "      <td>...</td>\n",
       "      <td>-9.601788</td>\n",
       "      <td>-0.994620</td>\n",
       "      <td>-0.104147</td>\n",
       "      <td>3.216228</td>\n",
       "      <td>-0.103398</td>\n",
       "      <td>0.006259</td>\n",
       "      <td>-0.074567</td>\n",
       "      <td>-0.997216</td>\n",
       "      <td>1159</td>\n",
       "      <td>3</td>\n",
       "    </tr>\n",
       "    <tr>\n",
       "      <th>1571</th>\n",
       "      <td>1572</td>\n",
       "      <td>-79.428703</td>\n",
       "      <td>-10.840300</td>\n",
       "      <td>-1302.5</td>\n",
       "      <td>7</td>\n",
       "      <td>4</td>\n",
       "      <td>1</td>\n",
       "      <td>8349484</td>\n",
       "      <td>2</td>\n",
       "      <td>-1302.495605</td>\n",
       "      <td>...</td>\n",
       "      <td>-16.247789</td>\n",
       "      <td>-0.998111</td>\n",
       "      <td>-0.061547</td>\n",
       "      <td>-2.936612</td>\n",
       "      <td>-0.060866</td>\n",
       "      <td>-0.008307</td>\n",
       "      <td>-0.203548</td>\n",
       "      <td>-0.979065</td>\n",
       "      <td>1164</td>\n",
       "      <td>4</td>\n",
       "    </tr>\n",
       "    <tr>\n",
       "      <th>1603</th>\n",
       "      <td>1604</td>\n",
       "      <td>-134.376007</td>\n",
       "      <td>-6.137480</td>\n",
       "      <td>-1302.0</td>\n",
       "      <td>7</td>\n",
       "      <td>4</td>\n",
       "      <td>2</td>\n",
       "      <td>8348343</td>\n",
       "      <td>1</td>\n",
       "      <td>-1301.995605</td>\n",
       "      <td>...</td>\n",
       "      <td>-9.679172</td>\n",
       "      <td>-0.994705</td>\n",
       "      <td>-0.103315</td>\n",
       "      <td>-2.979505</td>\n",
       "      <td>-0.102661</td>\n",
       "      <td>-0.004689</td>\n",
       "      <td>-0.161379</td>\n",
       "      <td>-0.986892</td>\n",
       "      <td>23</td>\n",
       "      <td>2</td>\n",
       "    </tr>\n",
       "    <tr>\n",
       "      <th>1617</th>\n",
       "      <td>1618</td>\n",
       "      <td>-79.156403</td>\n",
       "      <td>-10.750700</td>\n",
       "      <td>-1298.0</td>\n",
       "      <td>7</td>\n",
       "      <td>4</td>\n",
       "      <td>4</td>\n",
       "      <td>8349484</td>\n",
       "      <td>2</td>\n",
       "      <td>-1297.995605</td>\n",
       "      <td>...</td>\n",
       "      <td>-16.248793</td>\n",
       "      <td>-0.998112</td>\n",
       "      <td>-0.061543</td>\n",
       "      <td>-2.937507</td>\n",
       "      <td>-0.060868</td>\n",
       "      <td>-0.008267</td>\n",
       "      <td>-0.202672</td>\n",
       "      <td>-0.979247</td>\n",
       "      <td>1164</td>\n",
       "      <td>4</td>\n",
       "    </tr>\n",
       "    <tr>\n",
       "      <th>1802</th>\n",
       "      <td>1803</td>\n",
       "      <td>-121.322998</td>\n",
       "      <td>-100.648003</td>\n",
       "      <td>-1298.0</td>\n",
       "      <td>7</td>\n",
       "      <td>4</td>\n",
       "      <td>13</td>\n",
       "      <td>8349635</td>\n",
       "      <td>4</td>\n",
       "      <td>-1297.995605</td>\n",
       "      <td>...</td>\n",
       "      <td>-8.234158</td>\n",
       "      <td>-0.992706</td>\n",
       "      <td>-0.121445</td>\n",
       "      <td>-2.312562</td>\n",
       "      <td>-0.092787</td>\n",
       "      <td>-0.076975</td>\n",
       "      <td>-0.737277</td>\n",
       "      <td>-0.675591</td>\n",
       "      <td>1315</td>\n",
       "      <td>6</td>\n",
       "    </tr>\n",
       "    <tr>\n",
       "      <th>1858</th>\n",
       "      <td>1859</td>\n",
       "      <td>-102.922997</td>\n",
       "      <td>-136.904999</td>\n",
       "      <td>-1298.0</td>\n",
       "      <td>7</td>\n",
       "      <td>4</td>\n",
       "      <td>16</td>\n",
       "      <td>8349670</td>\n",
       "      <td>2</td>\n",
       "      <td>-1297.995605</td>\n",
       "      <td>...</td>\n",
       "      <td>-7.578352</td>\n",
       "      <td>-0.991406</td>\n",
       "      <td>-0.131955</td>\n",
       "      <td>-2.067089</td>\n",
       "      <td>-0.078612</td>\n",
       "      <td>-0.104567</td>\n",
       "      <td>-0.879354</td>\n",
       "      <td>-0.476168</td>\n",
       "      <td>1350</td>\n",
       "      <td>3</td>\n",
       "    </tr>\n",
       "    <tr>\n",
       "      <th>1906</th>\n",
       "      <td>1907</td>\n",
       "      <td>-103.083000</td>\n",
       "      <td>-137.432999</td>\n",
       "      <td>-1302.0</td>\n",
       "      <td>7</td>\n",
       "      <td>4</td>\n",
       "      <td>18</td>\n",
       "      <td>8349670</td>\n",
       "      <td>2</td>\n",
       "      <td>-1301.995605</td>\n",
       "      <td>...</td>\n",
       "      <td>-7.578773</td>\n",
       "      <td>-0.991407</td>\n",
       "      <td>-0.131947</td>\n",
       "      <td>-2.065536</td>\n",
       "      <td>-0.078492</td>\n",
       "      <td>-0.104648</td>\n",
       "      <td>-0.880092</td>\n",
       "      <td>-0.474803</td>\n",
       "      <td>1350</td>\n",
       "      <td>3</td>\n",
       "    </tr>\n",
       "    <tr>\n",
       "      <th>2000</th>\n",
       "      <td>2001</td>\n",
       "      <td>-20.154900</td>\n",
       "      <td>-84.700798</td>\n",
       "      <td>-1302.5</td>\n",
       "      <td>7</td>\n",
       "      <td>4</td>\n",
       "      <td>23</td>\n",
       "      <td>8348576</td>\n",
       "      <td>2</td>\n",
       "      <td>-1302.495605</td>\n",
       "      <td>...</td>\n",
       "      <td>-14.960009</td>\n",
       "      <td>-0.997773</td>\n",
       "      <td>-0.066845</td>\n",
       "      <td>-1.729089</td>\n",
       "      <td>-0.015440</td>\n",
       "      <td>-0.064884</td>\n",
       "      <td>-0.987498</td>\n",
       "      <td>-0.157633</td>\n",
       "      <td>256</td>\n",
       "      <td>13</td>\n",
       "    </tr>\n",
       "    <tr>\n",
       "      <th>...</th>\n",
       "      <td>...</td>\n",
       "      <td>...</td>\n",
       "      <td>...</td>\n",
       "      <td>...</td>\n",
       "      <td>...</td>\n",
       "      <td>...</td>\n",
       "      <td>...</td>\n",
       "      <td>...</td>\n",
       "      <td>...</td>\n",
       "      <td>...</td>\n",
       "      <td>...</td>\n",
       "      <td>...</td>\n",
       "      <td>...</td>\n",
       "      <td>...</td>\n",
       "      <td>...</td>\n",
       "      <td>...</td>\n",
       "      <td>...</td>\n",
       "      <td>...</td>\n",
       "      <td>...</td>\n",
       "      <td>...</td>\n",
       "      <td>...</td>\n",
       "    </tr>\n",
       "    <tr>\n",
       "      <th>123820</th>\n",
       "      <td>123821</td>\n",
       "      <td>-821.000977</td>\n",
       "      <td>286.739014</td>\n",
       "      <td>2544.5</td>\n",
       "      <td>18</td>\n",
       "      <td>10</td>\n",
       "      <td>93</td>\n",
       "      <td>8438885</td>\n",
       "      <td>2</td>\n",
       "      <td>2544.504395</td>\n",
       "      <td>...</td>\n",
       "      <td>2.925941</td>\n",
       "      <td>0.946261</td>\n",
       "      <td>0.341770</td>\n",
       "      <td>3.566593</td>\n",
       "      <td>-0.305318</td>\n",
       "      <td>0.106634</td>\n",
       "      <td>-0.412321</td>\n",
       "      <td>-0.911039</td>\n",
       "      <td>90565</td>\n",
       "      <td>3</td>\n",
       "    </tr>\n",
       "    <tr>\n",
       "      <th>123827</th>\n",
       "      <td>123828</td>\n",
       "      <td>-828.724976</td>\n",
       "      <td>295.891998</td>\n",
       "      <td>2552.5</td>\n",
       "      <td>18</td>\n",
       "      <td>10</td>\n",
       "      <td>94</td>\n",
       "      <td>8438885</td>\n",
       "      <td>2</td>\n",
       "      <td>2552.504395</td>\n",
       "      <td>...</td>\n",
       "      <td>2.900681</td>\n",
       "      <td>0.945397</td>\n",
       "      <td>0.344747</td>\n",
       "      <td>3.568825</td>\n",
       "      <td>-0.306944</td>\n",
       "      <td>0.109593</td>\n",
       "      <td>-0.414353</td>\n",
       "      <td>-0.910116</td>\n",
       "      <td>90565</td>\n",
       "      <td>3</td>\n",
       "    </tr>\n",
       "    <tr>\n",
       "      <th>123867</th>\n",
       "      <td>123868</td>\n",
       "      <td>-880.921021</td>\n",
       "      <td>-187.223999</td>\n",
       "      <td>2952.5</td>\n",
       "      <td>18</td>\n",
       "      <td>12</td>\n",
       "      <td>3</td>\n",
       "      <td>8421026</td>\n",
       "      <td>2</td>\n",
       "      <td>2952.504395</td>\n",
       "      <td>...</td>\n",
       "      <td>3.278377</td>\n",
       "      <td>0.956492</td>\n",
       "      <td>0.305029</td>\n",
       "      <td>-2.143711</td>\n",
       "      <td>-0.285384</td>\n",
       "      <td>-0.060653</td>\n",
       "      <td>-0.840325</td>\n",
       "      <td>-0.542084</td>\n",
       "      <td>72706</td>\n",
       "      <td>5</td>\n",
       "    </tr>\n",
       "    <tr>\n",
       "      <th>123873</th>\n",
       "      <td>123874</td>\n",
       "      <td>-881.361023</td>\n",
       "      <td>-186.447998</td>\n",
       "      <td>2944.5</td>\n",
       "      <td>18</td>\n",
       "      <td>12</td>\n",
       "      <td>4</td>\n",
       "      <td>8421026</td>\n",
       "      <td>2</td>\n",
       "      <td>2944.504395</td>\n",
       "      <td>...</td>\n",
       "      <td>3.268516</td>\n",
       "      <td>0.956246</td>\n",
       "      <td>0.305949</td>\n",
       "      <td>-2.144416</td>\n",
       "      <td>-0.286228</td>\n",
       "      <td>-0.060550</td>\n",
       "      <td>-0.839942</td>\n",
       "      <td>-0.542676</td>\n",
       "      <td>72706</td>\n",
       "      <td>5</td>\n",
       "    </tr>\n",
       "    <tr>\n",
       "      <th>123890</th>\n",
       "      <td>123891</td>\n",
       "      <td>-729.818970</td>\n",
       "      <td>-435.549011</td>\n",
       "      <td>2947.5</td>\n",
       "      <td>18</td>\n",
       "      <td>12</td>\n",
       "      <td>10</td>\n",
       "      <td>8422100</td>\n",
       "      <td>1</td>\n",
       "      <td>2947.504395</td>\n",
       "      <td>...</td>\n",
       "      <td>3.468029</td>\n",
       "      <td>0.960853</td>\n",
       "      <td>0.288348</td>\n",
       "      <td>-1.860004</td>\n",
       "      <td>-0.237913</td>\n",
       "      <td>-0.141984</td>\n",
       "      <td>-0.958470</td>\n",
       "      <td>-0.285193</td>\n",
       "      <td>73780</td>\n",
       "      <td>2</td>\n",
       "    </tr>\n",
       "    <tr>\n",
       "      <th>123912</th>\n",
       "      <td>123913</td>\n",
       "      <td>-471.006989</td>\n",
       "      <td>-591.406982</td>\n",
       "      <td>2947.5</td>\n",
       "      <td>18</td>\n",
       "      <td>12</td>\n",
       "      <td>14</td>\n",
       "      <td>8423147</td>\n",
       "      <td>1</td>\n",
       "      <td>2947.504395</td>\n",
       "      <td>...</td>\n",
       "      <td>3.898552</td>\n",
       "      <td>0.968642</td>\n",
       "      <td>0.256505</td>\n",
       "      <td>-1.582836</td>\n",
       "      <td>-0.154788</td>\n",
       "      <td>-0.194355</td>\n",
       "      <td>-0.999928</td>\n",
       "      <td>-0.012040</td>\n",
       "      <td>74827</td>\n",
       "      <td>2</td>\n",
       "    </tr>\n",
       "    <tr>\n",
       "      <th>123929</th>\n",
       "      <td>123930</td>\n",
       "      <td>-421.453003</td>\n",
       "      <td>-639.172974</td>\n",
       "      <td>2944.5</td>\n",
       "      <td>18</td>\n",
       "      <td>12</td>\n",
       "      <td>16</td>\n",
       "      <td>8420050</td>\n",
       "      <td>1</td>\n",
       "      <td>2944.504395</td>\n",
       "      <td>...</td>\n",
       "      <td>3.845927</td>\n",
       "      <td>0.967819</td>\n",
       "      <td>0.260015</td>\n",
       "      <td>-1.484769</td>\n",
       "      <td>-0.138526</td>\n",
       "      <td>-0.210088</td>\n",
       "      <td>-0.996302</td>\n",
       "      <td>0.085921</td>\n",
       "      <td>71730</td>\n",
       "      <td>3</td>\n",
       "    </tr>\n",
       "    <tr>\n",
       "      <th>123936</th>\n",
       "      <td>123937</td>\n",
       "      <td>-412.959015</td>\n",
       "      <td>-847.940002</td>\n",
       "      <td>2955.5</td>\n",
       "      <td>18</td>\n",
       "      <td>12</td>\n",
       "      <td>17</td>\n",
       "      <td>8438567</td>\n",
       "      <td>1</td>\n",
       "      <td>2955.504395</td>\n",
       "      <td>...</td>\n",
       "      <td>3.133634</td>\n",
       "      <td>0.952668</td>\n",
       "      <td>0.319118</td>\n",
       "      <td>-1.197764</td>\n",
       "      <td>-0.133112</td>\n",
       "      <td>-0.273323</td>\n",
       "      <td>-0.931226</td>\n",
       "      <td>0.364441</td>\n",
       "      <td>90247</td>\n",
       "      <td>2</td>\n",
       "    </tr>\n",
       "    <tr>\n",
       "      <th>123979</th>\n",
       "      <td>123980</td>\n",
       "      <td>94.224503</td>\n",
       "      <td>-802.755981</td>\n",
       "      <td>2947.5</td>\n",
       "      <td>18</td>\n",
       "      <td>12</td>\n",
       "      <td>26</td>\n",
       "      <td>8419050</td>\n",
       "      <td>1</td>\n",
       "      <td>2947.504395</td>\n",
       "      <td>...</td>\n",
       "      <td>3.646686</td>\n",
       "      <td>0.964397</td>\n",
       "      <td>0.274222</td>\n",
       "      <td>-0.747281</td>\n",
       "      <td>0.030830</td>\n",
       "      <td>-0.262655</td>\n",
       "      <td>-0.679647</td>\n",
       "      <td>0.733540</td>\n",
       "      <td>70730</td>\n",
       "      <td>2</td>\n",
       "    </tr>\n",
       "    <tr>\n",
       "      <th>124014</th>\n",
       "      <td>124015</td>\n",
       "      <td>425.089996</td>\n",
       "      <td>-711.791016</td>\n",
       "      <td>2947.5</td>\n",
       "      <td>18</td>\n",
       "      <td>12</td>\n",
       "      <td>34</td>\n",
       "      <td>8420272</td>\n",
       "      <td>1</td>\n",
       "      <td>2947.504395</td>\n",
       "      <td>...</td>\n",
       "      <td>3.555207</td>\n",
       "      <td>0.962644</td>\n",
       "      <td>0.281278</td>\n",
       "      <td>-0.307351</td>\n",
       "      <td>0.138833</td>\n",
       "      <td>-0.232469</td>\n",
       "      <td>-0.302535</td>\n",
       "      <td>0.953138</td>\n",
       "      <td>71952</td>\n",
       "      <td>3</td>\n",
       "    </tr>\n",
       "    <tr>\n",
       "      <th>124037</th>\n",
       "      <td>124038</td>\n",
       "      <td>656.642029</td>\n",
       "      <td>-488.907013</td>\n",
       "      <td>2944.5</td>\n",
       "      <td>18</td>\n",
       "      <td>12</td>\n",
       "      <td>40</td>\n",
       "      <td>8402142</td>\n",
       "      <td>1</td>\n",
       "      <td>2944.504395</td>\n",
       "      <td>...</td>\n",
       "      <td>3.596713</td>\n",
       "      <td>0.963455</td>\n",
       "      <td>0.278032</td>\n",
       "      <td>0.075864</td>\n",
       "      <td>0.214857</td>\n",
       "      <td>-0.159973</td>\n",
       "      <td>0.075792</td>\n",
       "      <td>0.997124</td>\n",
       "      <td>53822</td>\n",
       "      <td>3</td>\n",
       "    </tr>\n",
       "    <tr>\n",
       "      <th>124045</th>\n",
       "      <td>124046</td>\n",
       "      <td>669.901001</td>\n",
       "      <td>-372.571991</td>\n",
       "      <td>2947.5</td>\n",
       "      <td>18</td>\n",
       "      <td>12</td>\n",
       "      <td>42</td>\n",
       "      <td>8422440</td>\n",
       "      <td>1</td>\n",
       "      <td>2947.504395</td>\n",
       "      <td>...</td>\n",
       "      <td>3.845215</td>\n",
       "      <td>0.967808</td>\n",
       "      <td>0.260063</td>\n",
       "      <td>0.162218</td>\n",
       "      <td>0.219961</td>\n",
       "      <td>-0.122334</td>\n",
       "      <td>0.161507</td>\n",
       "      <td>0.986872</td>\n",
       "      <td>74120</td>\n",
       "      <td>3</td>\n",
       "    </tr>\n",
       "    <tr>\n",
       "      <th>124086</th>\n",
       "      <td>124087</td>\n",
       "      <td>765.083008</td>\n",
       "      <td>-32.949402</td>\n",
       "      <td>2944.5</td>\n",
       "      <td>18</td>\n",
       "      <td>12</td>\n",
       "      <td>48</td>\n",
       "      <td>8419264</td>\n",
       "      <td>1</td>\n",
       "      <td>2944.504395</td>\n",
       "      <td>...</td>\n",
       "      <td>3.845032</td>\n",
       "      <td>0.967805</td>\n",
       "      <td>0.260076</td>\n",
       "      <td>0.626081</td>\n",
       "      <td>0.251470</td>\n",
       "      <td>-0.010830</td>\n",
       "      <td>0.585973</td>\n",
       "      <td>0.810330</td>\n",
       "      <td>70944</td>\n",
       "      <td>3</td>\n",
       "    </tr>\n",
       "    <tr>\n",
       "      <th>124092</th>\n",
       "      <td>124093</td>\n",
       "      <td>760.989990</td>\n",
       "      <td>95.395401</td>\n",
       "      <td>2947.5</td>\n",
       "      <td>18</td>\n",
       "      <td>12</td>\n",
       "      <td>50</td>\n",
       "      <td>8376287</td>\n",
       "      <td>2</td>\n",
       "      <td>2947.504395</td>\n",
       "      <td>...</td>\n",
       "      <td>3.843160</td>\n",
       "      <td>0.967775</td>\n",
       "      <td>0.260203</td>\n",
       "      <td>0.794847</td>\n",
       "      <td>0.249862</td>\n",
       "      <td>0.031322</td>\n",
       "      <td>0.713756</td>\n",
       "      <td>0.700394</td>\n",
       "      <td>27967</td>\n",
       "      <td>5</td>\n",
       "    </tr>\n",
       "    <tr>\n",
       "      <th>124101</th>\n",
       "      <td>124102</td>\n",
       "      <td>761.505981</td>\n",
       "      <td>95.986801</td>\n",
       "      <td>2944.5</td>\n",
       "      <td>18</td>\n",
       "      <td>12</td>\n",
       "      <td>52</td>\n",
       "      <td>8376287</td>\n",
       "      <td>2</td>\n",
       "      <td>2944.504395</td>\n",
       "      <td>...</td>\n",
       "      <td>3.836318</td>\n",
       "      <td>0.967665</td>\n",
       "      <td>0.260667</td>\n",
       "      <td>0.796045</td>\n",
       "      <td>0.250258</td>\n",
       "      <td>0.031545</td>\n",
       "      <td>0.714595</td>\n",
       "      <td>0.699538</td>\n",
       "      <td>27967</td>\n",
       "      <td>5</td>\n",
       "    </tr>\n",
       "    <tr>\n",
       "      <th>124140</th>\n",
       "      <td>124141</td>\n",
       "      <td>700.924011</td>\n",
       "      <td>597.921021</td>\n",
       "      <td>2955.5</td>\n",
       "      <td>18</td>\n",
       "      <td>12</td>\n",
       "      <td>60</td>\n",
       "      <td>8420560</td>\n",
       "      <td>2</td>\n",
       "      <td>2955.504395</td>\n",
       "      <td>...</td>\n",
       "      <td>3.207943</td>\n",
       "      <td>0.954690</td>\n",
       "      <td>0.311726</td>\n",
       "      <td>1.513101</td>\n",
       "      <td>0.226414</td>\n",
       "      <td>0.193142</td>\n",
       "      <td>0.998336</td>\n",
       "      <td>0.057663</td>\n",
       "      <td>72240</td>\n",
       "      <td>3</td>\n",
       "    </tr>\n",
       "    <tr>\n",
       "      <th>124211</th>\n",
       "      <td>124212</td>\n",
       "      <td>150.177002</td>\n",
       "      <td>814.348999</td>\n",
       "      <td>2947.5</td>\n",
       "      <td>18</td>\n",
       "      <td>12</td>\n",
       "      <td>71</td>\n",
       "      <td>8439182</td>\n",
       "      <td>1</td>\n",
       "      <td>2947.504395</td>\n",
       "      <td>...</td>\n",
       "      <td>3.559431</td>\n",
       "      <td>0.962728</td>\n",
       "      <td>0.280944</td>\n",
       "      <td>2.112639</td>\n",
       "      <td>0.049052</td>\n",
       "      <td>0.265987</td>\n",
       "      <td>0.856760</td>\n",
       "      <td>-0.515716</td>\n",
       "      <td>90862</td>\n",
       "      <td>2</td>\n",
       "    </tr>\n",
       "    <tr>\n",
       "      <th>124217</th>\n",
       "      <td>124218</td>\n",
       "      <td>82.925400</td>\n",
       "      <td>782.651978</td>\n",
       "      <td>2944.5</td>\n",
       "      <td>18</td>\n",
       "      <td>12</td>\n",
       "      <td>73</td>\n",
       "      <td>8423709</td>\n",
       "      <td>1</td>\n",
       "      <td>2944.504395</td>\n",
       "      <td>...</td>\n",
       "      <td>3.741261</td>\n",
       "      <td>0.966085</td>\n",
       "      <td>0.267290</td>\n",
       "      <td>2.153130</td>\n",
       "      <td>0.027208</td>\n",
       "      <td>0.256787</td>\n",
       "      <td>0.835181</td>\n",
       "      <td>-0.549975</td>\n",
       "      <td>75389</td>\n",
       "      <td>2</td>\n",
       "    </tr>\n",
       "    <tr>\n",
       "      <th>124230</th>\n",
       "      <td>124231</td>\n",
       "      <td>-76.138397</td>\n",
       "      <td>772.674988</td>\n",
       "      <td>2947.5</td>\n",
       "      <td>18</td>\n",
       "      <td>12</td>\n",
       "      <td>75</td>\n",
       "      <td>8382488</td>\n",
       "      <td>3</td>\n",
       "      <td>2947.504395</td>\n",
       "      <td>...</td>\n",
       "      <td>3.796278</td>\n",
       "      <td>0.967013</td>\n",
       "      <td>0.263416</td>\n",
       "      <td>2.347528</td>\n",
       "      <td>-0.024979</td>\n",
       "      <td>0.253499</td>\n",
       "      <td>0.713208</td>\n",
       "      <td>-0.700952</td>\n",
       "      <td>34168</td>\n",
       "      <td>5</td>\n",
       "    </tr>\n",
       "    <tr>\n",
       "      <th>124232</th>\n",
       "      <td>124233</td>\n",
       "      <td>-71.489998</td>\n",
       "      <td>783.401978</td>\n",
       "      <td>2947.5</td>\n",
       "      <td>18</td>\n",
       "      <td>12</td>\n",
       "      <td>75</td>\n",
       "      <td>8382488</td>\n",
       "      <td>3</td>\n",
       "      <td>2947.504395</td>\n",
       "      <td>...</td>\n",
       "      <td>3.746862</td>\n",
       "      <td>0.966181</td>\n",
       "      <td>0.266890</td>\n",
       "      <td>2.349362</td>\n",
       "      <td>-0.023434</td>\n",
       "      <td>0.256797</td>\n",
       "      <td>0.711921</td>\n",
       "      <td>-0.702259</td>\n",
       "      <td>34168</td>\n",
       "      <td>5</td>\n",
       "    </tr>\n",
       "    <tr>\n",
       "      <th>124290</th>\n",
       "      <td>124291</td>\n",
       "      <td>-415.937988</td>\n",
       "      <td>680.382019</td>\n",
       "      <td>2947.5</td>\n",
       "      <td>18</td>\n",
       "      <td>12</td>\n",
       "      <td>83</td>\n",
       "      <td>8402206</td>\n",
       "      <td>1</td>\n",
       "      <td>2947.504395</td>\n",
       "      <td>...</td>\n",
       "      <td>3.696158</td>\n",
       "      <td>0.965295</td>\n",
       "      <td>0.270551</td>\n",
       "      <td>2.816610</td>\n",
       "      <td>-0.136218</td>\n",
       "      <td>0.222823</td>\n",
       "      <td>0.319293</td>\n",
       "      <td>-0.947656</td>\n",
       "      <td>53886</td>\n",
       "      <td>3</td>\n",
       "    </tr>\n",
       "    <tr>\n",
       "      <th>124294</th>\n",
       "      <td>124295</td>\n",
       "      <td>-615.476990</td>\n",
       "      <td>755.770996</td>\n",
       "      <td>2955.5</td>\n",
       "      <td>18</td>\n",
       "      <td>12</td>\n",
       "      <td>84</td>\n",
       "      <td>8421896</td>\n",
       "      <td>2</td>\n",
       "      <td>2955.504395</td>\n",
       "      <td>...</td>\n",
       "      <td>3.032272</td>\n",
       "      <td>0.949689</td>\n",
       "      <td>0.329786</td>\n",
       "      <td>3.108490</td>\n",
       "      <td>-0.197771</td>\n",
       "      <td>0.242852</td>\n",
       "      <td>0.033097</td>\n",
       "      <td>-0.999452</td>\n",
       "      <td>73576</td>\n",
       "      <td>3</td>\n",
       "    </tr>\n",
       "    <tr>\n",
       "      <th>124301</th>\n",
       "      <td>124302</td>\n",
       "      <td>-506.084991</td>\n",
       "      <td>758.119019</td>\n",
       "      <td>2955.5</td>\n",
       "      <td>18</td>\n",
       "      <td>12</td>\n",
       "      <td>84</td>\n",
       "      <td>8439238</td>\n",
       "      <td>1</td>\n",
       "      <td>2955.504395</td>\n",
       "      <td>...</td>\n",
       "      <td>3.242386</td>\n",
       "      <td>0.955585</td>\n",
       "      <td>0.308415</td>\n",
       "      <td>2.957568</td>\n",
       "      <td>-0.163630</td>\n",
       "      <td>0.245119</td>\n",
       "      <td>0.182988</td>\n",
       "      <td>-0.983115</td>\n",
       "      <td>90918</td>\n",
       "      <td>3</td>\n",
       "    </tr>\n",
       "    <tr>\n",
       "      <th>124305</th>\n",
       "      <td>124306</td>\n",
       "      <td>-472.179993</td>\n",
       "      <td>604.210999</td>\n",
       "      <td>2944.5</td>\n",
       "      <td>18</td>\n",
       "      <td>12</td>\n",
       "      <td>85</td>\n",
       "      <td>8420846</td>\n",
       "      <td>4</td>\n",
       "      <td>2944.504395</td>\n",
       "      <td>...</td>\n",
       "      <td>3.839839</td>\n",
       "      <td>0.967722</td>\n",
       "      <td>0.260428</td>\n",
       "      <td>2.904179</td>\n",
       "      <td>-0.155184</td>\n",
       "      <td>0.198577</td>\n",
       "      <td>0.235190</td>\n",
       "      <td>-0.971950</td>\n",
       "      <td>72526</td>\n",
       "      <td>7</td>\n",
       "    </tr>\n",
       "    <tr>\n",
       "      <th>124306</th>\n",
       "      <td>124307</td>\n",
       "      <td>-517.020996</td>\n",
       "      <td>606.385010</td>\n",
       "      <td>2944.5</td>\n",
       "      <td>18</td>\n",
       "      <td>12</td>\n",
       "      <td>85</td>\n",
       "      <td>8363872</td>\n",
       "      <td>2</td>\n",
       "      <td>2944.504395</td>\n",
       "      <td>...</td>\n",
       "      <td>3.695043</td>\n",
       "      <td>0.965275</td>\n",
       "      <td>0.270633</td>\n",
       "      <td>2.973414</td>\n",
       "      <td>-0.169492</td>\n",
       "      <td>0.198787</td>\n",
       "      <td>0.167387</td>\n",
       "      <td>-0.985891</td>\n",
       "      <td>15552</td>\n",
       "      <td>4</td>\n",
       "    </tr>\n",
       "    <tr>\n",
       "      <th>124307</th>\n",
       "      <td>124308</td>\n",
       "      <td>-615.684021</td>\n",
       "      <td>756.870972</td>\n",
       "      <td>2952.5</td>\n",
       "      <td>18</td>\n",
       "      <td>12</td>\n",
       "      <td>86</td>\n",
       "      <td>8421896</td>\n",
       "      <td>2</td>\n",
       "      <td>2952.504395</td>\n",
       "      <td>...</td>\n",
       "      <td>3.026139</td>\n",
       "      <td>0.949500</td>\n",
       "      <td>0.330454</td>\n",
       "      <td>3.108817</td>\n",
       "      <td>-0.197999</td>\n",
       "      <td>0.243404</td>\n",
       "      <td>0.032770</td>\n",
       "      <td>-0.999463</td>\n",
       "      <td>73576</td>\n",
       "      <td>3</td>\n",
       "    </tr>\n",
       "    <tr>\n",
       "      <th>124316</th>\n",
       "      <td>124317</td>\n",
       "      <td>-639.760010</td>\n",
       "      <td>494.737000</td>\n",
       "      <td>2947.5</td>\n",
       "      <td>18</td>\n",
       "      <td>12</td>\n",
       "      <td>87</td>\n",
       "      <td>8439251</td>\n",
       "      <td>2</td>\n",
       "      <td>2947.504395</td>\n",
       "      <td>...</td>\n",
       "      <td>3.644561</td>\n",
       "      <td>0.964358</td>\n",
       "      <td>0.274381</td>\n",
       "      <td>3.190426</td>\n",
       "      <td>-0.209316</td>\n",
       "      <td>0.161867</td>\n",
       "      <td>-0.048814</td>\n",
       "      <td>-0.998808</td>\n",
       "      <td>90931</td>\n",
       "      <td>4</td>\n",
       "    </tr>\n",
       "    <tr>\n",
       "      <th>124325</th>\n",
       "      <td>124326</td>\n",
       "      <td>-640.460999</td>\n",
       "      <td>494.403015</td>\n",
       "      <td>2944.5</td>\n",
       "      <td>18</td>\n",
       "      <td>12</td>\n",
       "      <td>89</td>\n",
       "      <td>8439251</td>\n",
       "      <td>2</td>\n",
       "      <td>2944.504395</td>\n",
       "      <td>...</td>\n",
       "      <td>3.639274</td>\n",
       "      <td>0.964260</td>\n",
       "      <td>0.274780</td>\n",
       "      <td>3.191593</td>\n",
       "      <td>-0.209737</td>\n",
       "      <td>0.161906</td>\n",
       "      <td>-0.049979</td>\n",
       "      <td>-0.998750</td>\n",
       "      <td>90931</td>\n",
       "      <td>4</td>\n",
       "    </tr>\n",
       "    <tr>\n",
       "      <th>124345</th>\n",
       "      <td>124346</td>\n",
       "      <td>-776.440002</td>\n",
       "      <td>288.593994</td>\n",
       "      <td>2944.5</td>\n",
       "      <td>18</td>\n",
       "      <td>12</td>\n",
       "      <td>93</td>\n",
       "      <td>8422986</td>\n",
       "      <td>1</td>\n",
       "      <td>2944.504395</td>\n",
       "      <td>...</td>\n",
       "      <td>3.554698</td>\n",
       "      <td>0.962634</td>\n",
       "      <td>0.281318</td>\n",
       "      <td>3.510165</td>\n",
       "      <td>-0.253839</td>\n",
       "      <td>0.094349</td>\n",
       "      <td>-0.360284</td>\n",
       "      <td>-0.932843</td>\n",
       "      <td>74666</td>\n",
       "      <td>2</td>\n",
       "    </tr>\n",
       "    <tr>\n",
       "      <th>124362</th>\n",
       "      <td>124363</td>\n",
       "      <td>-746.534973</td>\n",
       "      <td>171.251999</td>\n",
       "      <td>2947.5</td>\n",
       "      <td>18</td>\n",
       "      <td>12</td>\n",
       "      <td>95</td>\n",
       "      <td>8402232</td>\n",
       "      <td>1</td>\n",
       "      <td>2947.504395</td>\n",
       "      <td>...</td>\n",
       "      <td>3.848280</td>\n",
       "      <td>0.967856</td>\n",
       "      <td>0.259856</td>\n",
       "      <td>3.585336</td>\n",
       "      <td>-0.245136</td>\n",
       "      <td>0.056233</td>\n",
       "      <td>-0.429324</td>\n",
       "      <td>-0.903151</td>\n",
       "      <td>53912</td>\n",
       "      <td>2</td>\n",
       "    </tr>\n",
       "  </tbody>\n",
       "</table>\n",
       "<p>4280 rows × 23 columns</p>\n",
       "</div>"
      ],
      "text/plain": [
       "        hit_id           x           y       z  volume_id  layer_id  \\\n",
       "319        320  -60.398602 -127.692001 -1502.0          7         2   \n",
       "343        344  -23.916300  -97.369598 -1502.5          7         2   \n",
       "363        364  -32.573200 -138.384003 -1502.0          7         2   \n",
       "370        371  -35.410400 -138.871994 -1502.0          7         2   \n",
       "391        392  -11.331600 -113.625000 -1498.0          7         2   \n",
       "393        394  -11.398400 -113.919998 -1502.0          7         2   \n",
       "492        493   57.278702 -166.098007 -1502.0          7         2   \n",
       "649        650  134.445007  -66.787003 -1502.0          7         2   \n",
       "667        668   58.875198  -23.493900 -1498.0          7         2   \n",
       "688        689  134.128006  -66.574799 -1498.0          7         2   \n",
       "701        702  141.481995  -52.666901 -1502.0          7         2   \n",
       "702        703  148.559006  -42.171799 -1502.0          7         2   \n",
       "733        734  148.192993  -41.968700 -1498.0          7         2   \n",
       "771        772  140.257004   -3.155920 -1498.0          7         2   \n",
       "1202      1203  -10.810400   93.706299 -1502.0          7         2   \n",
       "1225      1226   -4.662660  172.847000 -1498.0          7         2   \n",
       "1234      1235  -15.301700  133.399994 -1502.0          7         2   \n",
       "1243      1244  -19.023701   63.438000 -1497.5          7         2   \n",
       "1299      1300  -44.287102  129.695999 -1502.0          7         2   \n",
       "1355      1356  -57.589699   74.781303 -1502.0          7         2   \n",
       "1375      1376 -110.156998  127.799004 -1502.0          7         2   \n",
       "1517      1518 -129.451004   31.396900 -1498.0          7         2   \n",
       "1564      1565 -155.727997    9.427130 -1498.0          7         2   \n",
       "1571      1572  -79.428703  -10.840300 -1302.5          7         4   \n",
       "1603      1604 -134.376007   -6.137480 -1302.0          7         4   \n",
       "1617      1618  -79.156403  -10.750700 -1298.0          7         4   \n",
       "1802      1803 -121.322998 -100.648003 -1298.0          7         4   \n",
       "1858      1859 -102.922997 -136.904999 -1298.0          7         4   \n",
       "1906      1907 -103.083000 -137.432999 -1302.0          7         4   \n",
       "2000      2001  -20.154900  -84.700798 -1302.5          7         4   \n",
       "...        ...         ...         ...     ...        ...       ...   \n",
       "123820  123821 -821.000977  286.739014  2544.5         18        10   \n",
       "123827  123828 -828.724976  295.891998  2552.5         18        10   \n",
       "123867  123868 -880.921021 -187.223999  2952.5         18        12   \n",
       "123873  123874 -881.361023 -186.447998  2944.5         18        12   \n",
       "123890  123891 -729.818970 -435.549011  2947.5         18        12   \n",
       "123912  123913 -471.006989 -591.406982  2947.5         18        12   \n",
       "123929  123930 -421.453003 -639.172974  2944.5         18        12   \n",
       "123936  123937 -412.959015 -847.940002  2955.5         18        12   \n",
       "123979  123980   94.224503 -802.755981  2947.5         18        12   \n",
       "124014  124015  425.089996 -711.791016  2947.5         18        12   \n",
       "124037  124038  656.642029 -488.907013  2944.5         18        12   \n",
       "124045  124046  669.901001 -372.571991  2947.5         18        12   \n",
       "124086  124087  765.083008  -32.949402  2944.5         18        12   \n",
       "124092  124093  760.989990   95.395401  2947.5         18        12   \n",
       "124101  124102  761.505981   95.986801  2944.5         18        12   \n",
       "124140  124141  700.924011  597.921021  2955.5         18        12   \n",
       "124211  124212  150.177002  814.348999  2947.5         18        12   \n",
       "124217  124218   82.925400  782.651978  2944.5         18        12   \n",
       "124230  124231  -76.138397  772.674988  2947.5         18        12   \n",
       "124232  124233  -71.489998  783.401978  2947.5         18        12   \n",
       "124290  124291 -415.937988  680.382019  2947.5         18        12   \n",
       "124294  124295 -615.476990  755.770996  2955.5         18        12   \n",
       "124301  124302 -506.084991  758.119019  2955.5         18        12   \n",
       "124305  124306 -472.179993  604.210999  2944.5         18        12   \n",
       "124306  124307 -517.020996  606.385010  2944.5         18        12   \n",
       "124307  124308 -615.684021  756.870972  2952.5         18        12   \n",
       "124316  124317 -639.760010  494.737000  2947.5         18        12   \n",
       "124325  124326 -640.460999  494.403015  2944.5         18        12   \n",
       "124345  124346 -776.440002  288.593994  2944.5         18        12   \n",
       "124362  124363 -746.534973  171.251999  2947.5         18        12   \n",
       "\n",
       "        module_id       s1  N1    stepped_z ...         z1        z2  \\\n",
       "319            21  8348561   1 -1501.995605 ... -10.633213 -0.995607   \n",
       "343            23  8348576   2 -1502.495605 ... -14.985513 -0.997781   \n",
       "363            24  8348592   2 -1501.995605 ... -10.565152 -0.995550   \n",
       "370            24  8348597   2 -1501.995605 ... -10.480405 -0.995479   \n",
       "391            26  8348613   6 -1497.995605 ... -13.118681 -0.997107   \n",
       "393            27  8348613   6 -1501.995605 ... -13.119224 -0.997108   \n",
       "492            34  8348688   1 -1501.995605 ...  -8.548839 -0.993228   \n",
       "649            46  8348804   7 -1501.995605 ... -10.005369 -0.995042   \n",
       "667            47  8348816   1 -1497.995605 ... -23.631674 -0.999106   \n",
       "688            48  8348804   7 -1497.995605 ... -10.003934 -0.995041   \n",
       "701            49  8257314   1 -1501.995605 ...  -9.949241 -0.994987   \n",
       "702            49  8348841   2 -1501.995605 ...  -9.726197 -0.994756   \n",
       "733            51  8348841   2 -1497.995605 ...  -9.725962 -0.994756   \n",
       "771            54  8348896   6 -1497.995605 ... -10.677723 -0.995643   \n",
       "1202           82  8349210   1 -1501.995605 ... -15.923242 -0.998034   \n",
       "1225           83  8349237   1 -1497.995605 ...  -8.663498 -0.993404   \n",
       "1234           84  8349243   1 -1501.995605 ... -11.186055 -0.996028   \n",
       "1243           85  8349246   1 -1497.495605 ... -22.611006 -0.999023   \n",
       "1299           88  8349287   1 -1501.995605 ... -10.959623 -0.995863   \n",
       "1355           93  8349329   1 -1501.995605 ... -15.913335 -0.998031   \n",
       "1375           94  8349345   1 -1501.995605 ...  -8.902238 -0.993750   \n",
       "1517          105  8349453   1 -1497.995605 ... -11.245934 -0.996070   \n",
       "1564          108  8349479   1 -1497.995605 ...  -9.601788 -0.994620   \n",
       "1571            1  8349484   2 -1302.495605 ... -16.247789 -0.998111   \n",
       "1603            2  8348343   1 -1301.995605 ...  -9.679172 -0.994705   \n",
       "1617            4  8349484   2 -1297.995605 ... -16.248793 -0.998112   \n",
       "1802           13  8349635   4 -1297.995605 ...  -8.234158 -0.992706   \n",
       "1858           16  8349670   2 -1297.995605 ...  -7.578352 -0.991406   \n",
       "1906           18  8349670   2 -1301.995605 ...  -7.578773 -0.991407   \n",
       "2000           23  8348576   2 -1302.495605 ... -14.960009 -0.997773   \n",
       "...           ...      ...  ..          ... ...        ...       ...   \n",
       "123820         93  8438885   2  2544.504395 ...   2.925941  0.946261   \n",
       "123827         94  8438885   2  2552.504395 ...   2.900681  0.945397   \n",
       "123867          3  8421026   2  2952.504395 ...   3.278377  0.956492   \n",
       "123873          4  8421026   2  2944.504395 ...   3.268516  0.956246   \n",
       "123890         10  8422100   1  2947.504395 ...   3.468029  0.960853   \n",
       "123912         14  8423147   1  2947.504395 ...   3.898552  0.968642   \n",
       "123929         16  8420050   1  2944.504395 ...   3.845927  0.967819   \n",
       "123936         17  8438567   1  2955.504395 ...   3.133634  0.952668   \n",
       "123979         26  8419050   1  2947.504395 ...   3.646686  0.964397   \n",
       "124014         34  8420272   1  2947.504395 ...   3.555207  0.962644   \n",
       "124037         40  8402142   1  2944.504395 ...   3.596713  0.963455   \n",
       "124045         42  8422440   1  2947.504395 ...   3.845215  0.967808   \n",
       "124086         48  8419264   1  2944.504395 ...   3.845032  0.967805   \n",
       "124092         50  8376287   2  2947.504395 ...   3.843160  0.967775   \n",
       "124101         52  8376287   2  2944.504395 ...   3.836318  0.967665   \n",
       "124140         60  8420560   2  2955.504395 ...   3.207943  0.954690   \n",
       "124211         71  8439182   1  2947.504395 ...   3.559431  0.962728   \n",
       "124217         73  8423709   1  2944.504395 ...   3.741261  0.966085   \n",
       "124230         75  8382488   3  2947.504395 ...   3.796278  0.967013   \n",
       "124232         75  8382488   3  2947.504395 ...   3.746862  0.966181   \n",
       "124290         83  8402206   1  2947.504395 ...   3.696158  0.965295   \n",
       "124294         84  8421896   2  2955.504395 ...   3.032272  0.949689   \n",
       "124301         84  8439238   1  2955.504395 ...   3.242386  0.955585   \n",
       "124305         85  8420846   4  2944.504395 ...   3.839839  0.967722   \n",
       "124306         85  8363872   2  2944.504395 ...   3.695043  0.965275   \n",
       "124307         86  8421896   2  2952.504395 ...   3.026139  0.949500   \n",
       "124316         87  8439251   2  2947.504395 ...   3.644561  0.964358   \n",
       "124325         89  8439251   2  2944.504395 ...   3.639274  0.964260   \n",
       "124345         93  8422986   1  2944.504395 ...   3.554698  0.962634   \n",
       "124362         95  8402232   1  2947.504395 ...   3.848280  0.967856   \n",
       "\n",
       "              z3        a1        x2        y2     sina1     cosa1     s2  N2  \n",
       "319    -0.094045 -1.890321 -0.040035 -0.084641 -0.949385 -0.314115    241   2  \n",
       "343    -0.066731 -1.724901 -0.015882 -0.064661 -0.988149 -0.153496    256  13  \n",
       "363    -0.094651 -1.678889 -0.021590 -0.091723 -0.994164 -0.107882    272  13  \n",
       "370    -0.095416 -1.696383 -0.023469 -0.092040 -0.992124 -0.125257    277   7  \n",
       "391    -0.076227 -1.571377 -0.007543 -0.075631 -1.000000 -0.000580    293  16  \n",
       "393    -0.076224 -1.571441 -0.007567 -0.075626 -1.000000 -0.000645    293  16  \n",
       "492    -0.116975 -1.086531  0.037877 -0.109835 -0.885017  0.465559    368   3  \n",
       "649    -0.099946 -0.331070  0.089067 -0.044245 -0.325055  0.945695    484   8  \n",
       "667    -0.042316 -0.324867  0.039267 -0.015669 -0.319183  0.947693    496  11  \n",
       "688    -0.099961 -0.331070  0.089094 -0.044222 -0.325056  0.945695    484   8  \n",
       "701    -0.100510 -0.225641  0.093723 -0.034889 -0.223731  0.974651    520   2  \n",
       "702    -0.102815 -0.142873  0.098389 -0.027930 -0.142388  0.989811    521   3  \n",
       "733    -0.102818 -0.142607  0.098408 -0.027869 -0.142124  0.989849    521   3  \n",
       "771    -0.093653  0.098959  0.093221 -0.002098  0.098798  0.995108    576  10  \n",
       "1202   -0.062801  1.767261 -0.007183  0.062265  0.980763 -0.195203    890  16  \n",
       "1225   -0.115427  1.747532 -0.003092  0.114624  0.984423 -0.175818    917   3  \n",
       "1234   -0.089397  1.801239 -0.010147  0.088462  0.973565 -0.228408    923   3  \n",
       "1243   -0.044226  1.919416 -0.012691  0.042321  0.939845 -0.341601    926   3  \n",
       "1299   -0.091244  2.018493 -0.029363  0.085991  0.901447 -0.432891    967   2  \n",
       "1355   -0.062840  2.308702 -0.038266  0.049690  0.739879 -0.672740   1009   3  \n",
       "1375   -0.112331  2.428321 -0.072882  0.084554  0.654312 -0.756225   1025   3  \n",
       "1517   -0.088921  3.018956 -0.086076  0.020877  0.122329 -0.992490   1133   2  \n",
       "1564   -0.104147  3.216228 -0.103398  0.006259 -0.074567 -0.997216   1159   3  \n",
       "1571   -0.061547 -2.936612 -0.060866 -0.008307 -0.203548 -0.979065   1164   4  \n",
       "1603   -0.103315 -2.979505 -0.102661 -0.004689 -0.161379 -0.986892     23   2  \n",
       "1617   -0.061543 -2.937507 -0.060868 -0.008267 -0.202672 -0.979247   1164   4  \n",
       "1802   -0.121445 -2.312562 -0.092787 -0.076975 -0.737277 -0.675591   1315   6  \n",
       "1858   -0.131955 -2.067089 -0.078612 -0.104567 -0.879354 -0.476168   1350   3  \n",
       "1906   -0.131947 -2.065536 -0.078492 -0.104648 -0.880092 -0.474803   1350   3  \n",
       "2000   -0.066845 -1.729089 -0.015440 -0.064884 -0.987498 -0.157633    256  13  \n",
       "...          ...       ...       ...       ...       ...       ...    ...  ..  \n",
       "123820  0.341770  3.566593 -0.305318  0.106634 -0.412321 -0.911039  90565   3  \n",
       "123827  0.344747  3.568825 -0.306944  0.109593 -0.414353 -0.910116  90565   3  \n",
       "123867  0.305029 -2.143711 -0.285384 -0.060653 -0.840325 -0.542084  72706   5  \n",
       "123873  0.305949 -2.144416 -0.286228 -0.060550 -0.839942 -0.542676  72706   5  \n",
       "123890  0.288348 -1.860004 -0.237913 -0.141984 -0.958470 -0.285193  73780   2  \n",
       "123912  0.256505 -1.582836 -0.154788 -0.194355 -0.999928 -0.012040  74827   2  \n",
       "123929  0.260015 -1.484769 -0.138526 -0.210088 -0.996302  0.085921  71730   3  \n",
       "123936  0.319118 -1.197764 -0.133112 -0.273323 -0.931226  0.364441  90247   2  \n",
       "123979  0.274222 -0.747281  0.030830 -0.262655 -0.679647  0.733540  70730   2  \n",
       "124014  0.281278 -0.307351  0.138833 -0.232469 -0.302535  0.953138  71952   3  \n",
       "124037  0.278032  0.075864  0.214857 -0.159973  0.075792  0.997124  53822   3  \n",
       "124045  0.260063  0.162218  0.219961 -0.122334  0.161507  0.986872  74120   3  \n",
       "124086  0.260076  0.626081  0.251470 -0.010830  0.585973  0.810330  70944   3  \n",
       "124092  0.260203  0.794847  0.249862  0.031322  0.713756  0.700394  27967   5  \n",
       "124101  0.260667  0.796045  0.250258  0.031545  0.714595  0.699538  27967   5  \n",
       "124140  0.311726  1.513101  0.226414  0.193142  0.998336  0.057663  72240   3  \n",
       "124211  0.280944  2.112639  0.049052  0.265987  0.856760 -0.515716  90862   2  \n",
       "124217  0.267290  2.153130  0.027208  0.256787  0.835181 -0.549975  75389   2  \n",
       "124230  0.263416  2.347528 -0.024979  0.253499  0.713208 -0.700952  34168   5  \n",
       "124232  0.266890  2.349362 -0.023434  0.256797  0.711921 -0.702259  34168   5  \n",
       "124290  0.270551  2.816610 -0.136218  0.222823  0.319293 -0.947656  53886   3  \n",
       "124294  0.329786  3.108490 -0.197771  0.242852  0.033097 -0.999452  73576   3  \n",
       "124301  0.308415  2.957568 -0.163630  0.245119  0.182988 -0.983115  90918   3  \n",
       "124305  0.260428  2.904179 -0.155184  0.198577  0.235190 -0.971950  72526   7  \n",
       "124306  0.270633  2.973414 -0.169492  0.198787  0.167387 -0.985891  15552   4  \n",
       "124307  0.330454  3.108817 -0.197999  0.243404  0.032770 -0.999463  73576   3  \n",
       "124316  0.274381  3.190426 -0.209316  0.161867 -0.048814 -0.998808  90931   4  \n",
       "124325  0.274780  3.191593 -0.209737  0.161906 -0.049979 -0.998750  90931   4  \n",
       "124345  0.281318  3.510165 -0.253839  0.094349 -0.360284 -0.932843  74666   2  \n",
       "124362  0.259856  3.585336 -0.245136  0.056233 -0.429324 -0.903151  53912   2  \n",
       "\n",
       "[4280 rows x 23 columns]"
      ]
     },
     "execution_count": 26,
     "metadata": {},
     "output_type": "execute_result"
    }
   ],
   "source": [
    "labels.loc[cond]"
   ]
  }
 ],
 "metadata": {
  "anaconda-cloud": {},
  "kernelspec": {
   "display_name": "Python 3",
   "language": "python",
   "name": "python3"
  },
  "language_info": {
   "codemirror_mode": {
    "name": "ipython",
    "version": 3
   },
   "file_extension": ".py",
   "mimetype": "text/x-python",
   "name": "python",
   "nbconvert_exporter": "python",
   "pygments_lexer": "ipython3",
   "version": "3.5.2"
  }
 },
 "nbformat": 4,
 "nbformat_minor": 1
}
