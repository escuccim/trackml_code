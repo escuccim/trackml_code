{
 "cells": [
  {
   "cell_type": "code",
   "execution_count": 1,
   "metadata": {
    "_cell_guid": "e081740e-8169-4481-b1df-f5dd5488314f",
    "_uuid": "0bee86255243664f24e4bcf48af2228a3100a8b7"
   },
   "outputs": [],
   "source": [
    "%matplotlib inline\n",
    "import matplotlib.pyplot as plt\n",
    "import numpy as np\n",
    "import pandas as pd\n",
    "import os\n",
    "import math\n",
    "\n",
    "from trackml.dataset import load_event, load_dataset\n",
    "from trackml.score import score_event\n",
    "\n",
    "from multiprocessing import Pool\n",
    "\n",
    "def create_one_event_submission(event_id, hits, labels):\n",
    "    sub_data = np.column_stack(([event_id]*len(hits), hits.hit_id.values, labels))\n",
    "    submission = pd.DataFrame(data=sub_data, columns=[\"event_id\", \"hit_id\", \"track_id\"]).astype(int)\n",
    "    return submission"
   ]
  },
  {
   "cell_type": "code",
   "execution_count": 2,
   "metadata": {
    "_cell_guid": "572fcbb6-8c7b-4a09-8916-8ec76689130f",
    "_uuid": "63414de98667e95f60407c9155899a25a321cffc"
   },
   "outputs": [],
   "source": [
    "# Change this according to your directory preferred setting\n",
    "path_to_train = \"./data/train_1\"\n",
    "\n",
    "# This event is in Train_1\n",
    "event_prefix = \"event000001000\""
   ]
  },
  {
   "cell_type": "code",
   "execution_count": 3,
   "metadata": {},
   "outputs": [],
   "source": [
    "weights_0 = np.array([1.1, 1.1, .375, .25, 0.05, 0.05, 0])\n",
    "weights_2 = np.array([1.05, 1.05, .37, .25, .01, .045, 0])\n",
    "weights_3 = np.array([1.08, 1.08, .38,.25, 0.009, 0.0001, 0])\n",
    "weights_4 = np.array([1.1, 1.1, .5, .25, 0.008, 0.001, 0])\n",
    "weights_5 = np.array([1.01, 1.01, .4048, .2, 2e-16, 2e-16, 0])\n",
    "weights_9 = np.array([1.02, 1.02, .38, .25, 0.009, 0.02, 0])\n",
    "\n",
    "weights_1 = np.array([1.08, 1.08, .38,.25, 0.0001, 0.0001, 0])\n",
    "weights_6 = np.array([1.08, 1.08, .38, .25, 2e-4, 0, 0])\n",
    "weights_8 = np.array([1.07, 1.07, .37, .25, 0.0002, 0.0001, 0])\n",
    "weights_12 = np.array([1.01, 1.01, .42, .25, 0.0023, 0.001, 0])\n",
    "weights_13 = np.array([1.0, 1.0, .40, .20, 0.0023, 0.0001, 0])\n",
    "weights_14 = np.array([1.02, 1.02, .40, .24, 0.0002, 0, 0])\n",
    "weights_7 = np.array([1.08, 1.08, .40, .20, 0.0023, 0, 0])\n",
    "\n",
    "weights_10 = np.array([1.02, 1.02, .42, .24, 0.0002, 0, 0])\n",
    "weights_11 = np.array([1.08, 1.08, .40, .20, 0.0023, 0.0001, 0])\n",
    "weights_15 = np.array([1.01, 1.01, .42, .25, 0.0002, 0, 0])\n",
    "weights_16 = np.array([1.005, 1.005, .40, .25, 0.0002, 0, 0])\n",
    "weights_17 = np.array([1.02, 1.02, .42, .24, 0.02, 0, 0])\n",
    "weights_18 = np.array([1.033, 1.033, .376, .2, 0.0002, 0, 0])\n",
    "weights_19 = np.array([0.9734, 0.9734, .4072, .2217, 0.0, 0.0, 0])\n",
    "weights_20 = np.array([1.0, 1.0, .42, .24, 0.0, 0, 0])\n",
    "weights_21 = np.array([1.02, 1.02, .42, .24, 0.0, 0, 0])\n",
    "weights_22 = np.array([1.05, 1.05, .4, .25, 0.0, 0, 0])\n",
    "weights_23 = np.array([1.05, 1.05, .5, .25, 0.0, 0, 0])\n",
    "weights_24 = np.array([1.05, 1.05, .4, .20, 0.0, 0, 0])\n",
    "weights_26 = np.array([1.2, 1.2, .45, .15, 0.0, 0, 0])\n",
    "weights_27 = np.array([1.2, 1.2, .45, .20, 0.0, 0, 0])\n",
    "weights_28 = np.array([1.2, 1.2, .45, .25, 0.0, 0, 0])\n",
    "weights_29 = np.array([1.09, 1.09, .5, .20, 0.0, 0, 0])\n",
    "weights_25 = np.array([1.09, 1.09, .45, .20, 0.0, 0, 0])\n",
    "weights_30 = np.array([0.9, .9, .35, .15, 0.0, 0.007, 0.007])\n",
    "weights_31 = np.array([1.09, 1.09, .45, .20, 0.0, 0.005, 0.005])\n",
    "weights_34 = np.array([1.09, 1.09, .45, .20, 0.0, 0.01, 0.01])\n",
    "weights_36 = np.array([1.0, 1.0, .35, .2, 0.0, 0.02, 0.02])\n",
    "weights_32 = np.array([0.9, .9, .35, .2, 0.0, 0.01, 0.01])\n",
    "weights_33 = np.array([1.0, 1.0, .35, .2, 0.0, 0.01, 0.01])\n",
    "weights_37 = np.array([0.9, .9, .4, .2, 0.0, 0.015, 0.015]) # raise w4\n",
    "weights_38 = np.array([0.9, .9, .4, .25, 0.0, 0.01, 0.01])  # raise w3\n",
    "weights_39 = np.array([0.9, .9, .45, .2, 0.0, 0.01, 0.01])\n",
    "weights_40 = np.array([0.95, .95, .4, .2, 0.0, 0.01, 0.01])\n",
    "weights_41 = np.array([0.95, .95, .45, .2, 0.0, 0.01, 0.01])  # 38 + 40\n",
    "weights_42 = np.array([0.95, .95, .4, .2, 0.0, 0.008, 0.008]) # w4 lowered\n",
    "weights_43 = np.array([1.0, 1.0, .4, .2, 0.0, 0.01, 0.01])    # w1 raised\n",
    "weights_44 = np.array([0.95, .95, .4, .2, 0.0, 0.012, 0.012]) # w4 raised\n",
    "weights_45 = np.array([1.0, 1.0, .4, .2, 0.0, 0.01, 0.01])  # raise w1 from 35\n",
    "weights_46 = np.array([0.9, .9, .4, .2, 0.0, 0.009, 0.009]) # lower w4\n",
    "weights_47 = np.array([0.85, .85, .4, .2, 0.0, 0.01, 0.01]) # lower w1\n",
    "weights_49 = np.array([0.9, .9, .4, .2, 0.0, 0.007, 0.007]) # still lower w4\n",
    "weights_48 = np.array([0.9, .9, .4, .2, 0.0, 0.008, 0.008]) # lower w4\n",
    "weights_51 = np.array([0.9, .9, .4, .2, 0.0, 0.009, 0.009]) # lower w4\n",
    "weights_50 = np.array([0.9, .9, .4, .2, 0.0, 0.011, 0.011]) # higher w4\n",
    "weights_52 = np.array([0.9, .9, .4, .2, 0.0, 0.012, 0.012]) # higher w4\n",
    "weights_53 = np.array([0.9, .9, .4, .2, 0.0, 0.013, 0.013]) # higher w4\n",
    "weights_54 = np.array([0.9, .9, .4, .2, 0.0, 0.014, 0.014]) # higher w4\n",
    "weights_55 = np.array([0.9, .9, .4, .2, 0.0, 0.015, 0.015]) # higher w4\n",
    "weights_56 = np.array([0.9, .9, .5, .2, 0.0, 0.01, 0.01])     # raise w2\n",
    "weights_60 = np.array([0.7, .7, .5, .13, 0.0, 0.01, 0.01])     # raise w2, lower w1, w3\n",
    "weights_59 = np.array([0.9, .9, .55, .1, 0.0, 0.01, 0.01])     # raise w2, lower w3\n",
    "weights_35 = np.array([0.9, .9, .4, .2, 0.0, 0.01, 0.01])     \n",
    "weights_57 = np.array([0.9, .9, .5, .15, 0.0, 0.01, 0.01]) # second best\n",
    "weights_61 = np.array([0.9, .9, .4, .1, 0.0, 0.01, 0.01])  # lower w3 some more\n",
    "weights_62 = np.array([0.9, .9, .45, .1, 0.0, 0.01, 0.01])  # lower w3 and raise w2\n",
    "weights_63 = np.array([0.9, .9, .5, .1, 0.0, 0.01, 0.01])  # raise w2 some more\n",
    "weights_64 = np.array([0.9, .9, .5, .07, 0.0, 0.01, 0.01])  # raise w2 and lower w3 some more\n",
    "weights_65 = np.array([0.9, .9, .35, .15, 0.0, 0.01, 0.01])   # lower w2 a bit\n",
    "weights_66 = np.array([0.9, .9, .35, .2, 0.0, 0.01, 0.01])   # lower w2 a bit and raise w3\n",
    "weights_67 = np.array([0.95, .95, .3, .2, 0.0, 0.012, 0.012])# weights from r optimization\n",
    "weights_68 = np.array([0.96, .96, .35, .2, 0.0, 0.0085, 0.0085])# weights from r optimization\n",
    "weights_69 = np.array([0.9, .9, .4, .15, 0.0, 0.0085, 0.0085])   # w4 down\n",
    "weights_70 = np.array([1.0, 1.0, .4, .1214, 0.0, 0.008, 0.008])   # w4 down\n",
    "weights_71 = np.array([0.9, 0.9, .5, .15, 0.0, 0.0085, 0.0085])   # w4 down\n",
    "weights_73 = np.array([0.9, .9, .45, .15, 0.0, 0.01, 0.01])   # w2 up a bit\n",
    "weights_74 = np.array([0.9, .9, .35, .2, 0.0, 0.011, 0.011])   # w2 down and w3 up\n",
    "\n",
    "weights_58 = np.array([0.9, .9, .4, .15, 0.0, 0.01, 0.01])   # best so far\n",
    "weights_72 = np.array([0.9, .9, .4, .15, 0.0, 0.012, 0.012])   # w4 up a bit\n",
    "weights_75 = np.array([0.9, .9, .4, .15, 0.0, 0.014, 0.014]) \n",
    "weights_76 = np.array([0.9, .9, .4, .20, 0.0, 0.014, 0.014]) \n",
    "\n",
    "weights_arr = np.vstack([weights_0, weights_1, weights_2, weights_3, weights_4, weights_5, weights_6, weights_7, weights_8, weights_9, weights_10, weights_11, weights_12, weights_13, weights_14,  weights_15,  weights_16,  weights_17,  weights_18,  weights_19,  weights_20,  weights_21,  weights_22,  weights_23,  weights_24,  weights_25,  weights_26,  weights_27,  weights_28,  weights_29,  weights_30,  weights_31,  weights_32,  weights_33,  weights_34,  weights_35,  weights_36,  weights_37,  weights_38,  weights_39,  weights_40,  weights_41,  weights_42,  weights_43,  weights_44,  weights_45,  weights_46,  weights_47,  weights_48,  weights_49,  weights_50,  weights_51,  weights_52,  weights_53,  weights_54,  weights_55,  weights_56,  weights_57,  weights_58,  weights_59,  weights_60,  weights_61,  weights_62,  weights_63,  weights_64,  weights_65,  weights_66,  weights_67,  weights_68,  weights_69,  weights_70,  weights_71,  weights_72,  weights_73,  weights_74,  weights_75,  weights_76])"
   ]
  },
  {
   "cell_type": "code",
   "execution_count": 4,
   "metadata": {
    "_cell_guid": "e06d1ed7-5091-4d67-abb4-5984b137e2e6",
    "_uuid": "c2f70ae63abffcc09a534bb17fb89df8ffddb722",
    "scrolled": true
   },
   "outputs": [],
   "source": [
    "from sklearn.preprocessing import StandardScaler\n",
    "import hdbscan\n",
    "from scipy import stats\n",
    "from tqdm import tqdm_notebook as tqdm\n",
    "from sklearn.cluster import DBSCAN\n",
    "\n",
    "class Clusterer(object):\n",
    "    def __init__(self,rz_scales=[0.65, 0.965, 1.5, 1.5], eps=0.0035, dz0 = 0, stepdz = 1.5e-7, stepeps = 7e-8, num_loops=350, final_cluster=True, weight=58, weight_arr=weights_arr, max_size=19, step_z=0.000045, size_incr=0):\n",
    "        self.rz_scales=rz_scales\n",
    "        self.epsilon = eps\n",
    "        self.dz0 = dz0\n",
    "        self.stepdz = stepdz\n",
    "        self.stepeps = stepeps\n",
    "        self.num_loops = num_loops\n",
    "        self.final_cluster = final_cluster\n",
    "        self.weight_arr = weight_arr\n",
    "        self.weights = weight\n",
    "        self.max_size = max_size\n",
    "        self.step_z = step_z\n",
    "        self.size_incr = size_incr\n",
    "        \n",
    "    # remove outliers\n",
    "    def _eliminate_outliers(self,labels,M):\n",
    "        norms=np.zeros((len(labels)),np.float32)\n",
    "        indices=np.zeros((len(labels)),np.float32)\n",
    "        for i, cluster in tqdm(enumerate(labels),total=len(labels)):\n",
    "            if cluster == 0:\n",
    "                continue\n",
    "            index = np.argwhere(self.clusters==cluster)\n",
    "            index = np.reshape(index,(index.shape[0]))\n",
    "            indices[i] = len(index)\n",
    "            x = M[index]\n",
    "            norms[i] = self._test_quadric(x)\n",
    "        threshold1 = np.percentile(norms,90)*5\n",
    "        threshold2 = 25\n",
    "        threshold3 = 5\n",
    "        for i, cluster in enumerate(labels):\n",
    "            if norms[i] > threshold1 or indices[i] > threshold2 or indices[i] < threshold3:\n",
    "                self.clusters[self.clusters==cluster]=0   \n",
    "    \n",
    "    # not sure what this function does?\n",
    "    def _test_quadric(self,x):\n",
    "        if x.size == 0 or len(x.shape)<2:\n",
    "            return 0\n",
    "        Z = np.zeros((x.shape[0],10), np.float32)\n",
    "        Z[:,0] = x[:,0]**2\n",
    "        Z[:,1] = 2*x[:,0]*x[:,1]\n",
    "        Z[:,2] = 2*x[:,0]*x[:,2]\n",
    "        Z[:,3] = 2*x[:,0]\n",
    "        Z[:,4] = x[:,1]**2\n",
    "        Z[:,5] = 2*x[:,1]*x[:,2]\n",
    "        Z[:,6] = 2*x[:,1]\n",
    "        Z[:,7] = x[:,2]**2\n",
    "        Z[:,8] = 2*x[:,2]\n",
    "        Z[:,9] = 1\n",
    "        v, s, t = np.linalg.svd(Z,full_matrices=False)        \n",
    "        smallest_index = np.argmin(np.array(s))\n",
    "        T = np.array(t)\n",
    "        T = T[smallest_index,:]        \n",
    "        norm = np.linalg.norm(np.dot(Z,T), ord=2)**2\n",
    "        return norm\n",
    "\n",
    "    # standard scale our data\n",
    "    def _preprocess(self, hits):\n",
    "        x = hits.x.values\n",
    "        y = hits.y.values\n",
    "        z = hits.z.values\n",
    "\n",
    "        r = np.sqrt(x**2 + y**2 + z**2)\n",
    "        rt = np.sqrt(x**2 + y**2)\n",
    "        \n",
    "        hits['a0'] = np.arctan2(hits['y'].values,hits['x'].values)\n",
    "        hits['a1'] = hits['a0']+1*(hits['rt']+1*hits['rt']**2)/1000*(1/2)/180*math.pi\n",
    "        \n",
    "        hits['x2'] = x/r\n",
    "        hits['y2'] = y/r\n",
    "        hits['z1'] = z/rt\n",
    "        hits['z2'] = z/r\n",
    "\n",
    "        ss = StandardScaler()\n",
    "        X = ss.fit_transform(hits[['sina1','cosa1','z1','z2', 'z3', 'x2', 'y2']].values)\n",
    "        X = np.multiply(X, self.weight_arr[self.weights])\n",
    "       \n",
    "        return X\n",
    "        \n",
    "        # original preprocess\n",
    "#         x = hits.x.values\n",
    "#         y = hits.y.values\n",
    "#         z = hits.z.values\n",
    "\n",
    "#         r = np.sqrt(x**2 + y**2 + z**2)\n",
    "#         hits['x2'] = x/r\n",
    "#         hits['y2'] = y/r\n",
    "\n",
    "#         rt = np.sqrt(x**2 + y**2)\n",
    "#         hits['z1'] = z/rt\n",
    "#         hits['z2'] = z/r\n",
    "\n",
    "#         ss = StandardScaler()\n",
    "#         X = ss.fit_transform(hits[['x2', 'y2', 'z1', 'z2']].values)\n",
    "#         for i, rz_scale in enumerate(self.rz_scales):\n",
    "#             X[:,i] = X[:,i] * rz_scale\n",
    "       \n",
    "#         return X\n",
    "    \n",
    "    def _init(self,dfh):\n",
    "        dfh['s1'] = dfh.hit_id\n",
    "        dfh['N1'] =1\n",
    "        dfh['stepped_z'] = dfh.z\n",
    "        mm = 1\n",
    "        dz0 = self.dz0\n",
    "\n",
    "        for ii in range(self.num_loops):\n",
    "            max_size = self.max_size + (ii * self.size_incr)\n",
    "            \n",
    "            dfh['r'] = np.sqrt(dfh['x'].values**2+dfh['y'].values**2+dfh['stepped_z'].values**2)\n",
    "            dfh['rt'] = np.sqrt(dfh['x'].values**2+dfh['y'].values**2)\n",
    "            dfh['a0'] = np.arctan2(dfh['y'].values,dfh['x'].values)\n",
    "            dfh['z1'] = dfh['stepped_z'].values/dfh['rt'].values\n",
    "            \n",
    "            dfh['z2'] = dfh['stepped_z']/dfh['r']\n",
    "            dfh['x2'] = dfh['x'].values/dfh['r'].values\n",
    "            dfh['y2'] = dfh['y'].values/dfh['r'].values\n",
    "            \n",
    "            dfh['z3'] = 0 # 1/dfh['z1'].values - this feature didn't work, let's 0 it out\n",
    "            mm = mm*(-1)  \n",
    "            \n",
    "            z_step = mm * self.step_z * ii\n",
    "            dz = mm*(self.dz0+(ii*self.stepdz))\n",
    "            \n",
    "            dfh['stepped_z'] = dfh['z'] + z_step    \n",
    "            \n",
    "#             dfh['a1'] = dfh['a0']+mm*(dfh['rt']+(mm*self.stepdz*ii)*dfh['rt']**2)/1000*(ii/2)/180*math.pi\n",
    "            dfh['a1'] = dfh['a0']+mm*(dfh['rt']+(dz)*dfh['rt']**2)/1000*(ii/2)/180*math.pi\n",
    "            dfh['sina1'] = np.sin(dfh['a1'].values)\n",
    "            dfh['cosa1'] = np.cos(dfh['a1'].values)\n",
    "            ss = StandardScaler()\n",
    "            dfs = ss.fit_transform(dfh[['sina1','cosa1','z1','z2', 'z3', 'x2', 'y2']].values)\n",
    "            cx = self.weight_arr[self.weights]\n",
    "            dfs = np.multiply(dfs, cx)\n",
    "\n",
    "            clusters=DBSCAN(eps=self.epsilon+(ii*self.stepeps),min_samples=1,metric='euclidean',n_jobs=1).fit(dfs).labels_ \n",
    "\n",
    "            if ii==0:\n",
    "                dfh['s1'] = clusters\n",
    "                dfh['N1'] = dfh.groupby('s1')['s1'].transform('count')\n",
    "\n",
    "            # else update our hits conditionally, if it's a better fit\n",
    "            else:\n",
    "                # put our new clusters to another feature\n",
    "                dfh['s2'] = clusters\n",
    "\n",
    "                # get the count of those clusters\n",
    "                dfh['N2'] = dfh.groupby('s2')['s2'].transform('count')\n",
    "                maxs1 = dfh['s1'].max()\n",
    "\n",
    "                # if our new clusters are bigger, but less than our max size, use the new ones instead\n",
    "                cond = np.where((dfh['N2'].values > dfh['N1'].values) & (dfh['N2'].values < max_size))\n",
    "                    \n",
    "                s1 = dfh['s1'].values\n",
    "                s1[cond] = dfh['s2'].values[cond]+maxs1\n",
    "\n",
    "                # write the new clusters back to our dataframe\n",
    "                dfh['s1'] = s1\n",
    "                dfh['s1'] = dfh['s1'].astype('int64')\n",
    "                dfh['N1'] = dfh.groupby('s1')['s1'].transform('count')\n",
    "        \n",
    "        # for debugging\n",
    "        # return dfh\n",
    "        \n",
    "        # return our clusters\n",
    "        return dfh['s1'].values    \n",
    "    \n",
    "    def predict(self, hits):    \n",
    "        # init our clusters\n",
    "        self.clusters = self._init(hits) \n",
    "        \n",
    "        mask = self.clusters == 0\n",
    "        \n",
    "        if self.final_cluster:\n",
    "            # preprocess our data\n",
    "            X = self._preprocess(hits) \n",
    "\n",
    "            # create our last clusterer\n",
    "            cl = hdbscan.HDBSCAN(min_samples=1, min_cluster_size=7, metric='braycurtis', cluster_selection_method='leaf', algorithm='best', leaf_size=50)\n",
    "\n",
    "            # labels = unique clusters\n",
    "            labels = np.unique(self.clusters)\n",
    "\n",
    "            # remove outliers\n",
    "            self._eliminate_outliers(labels,X)\n",
    "\n",
    "            # init n_labels\n",
    "            n_labels = 0\n",
    "\n",
    "            # now we loop through the points that haven't been assigned to a cluster and assign them with\n",
    "            # HDBSCAN\n",
    "            while n_labels < len(labels):\n",
    "                n_labels = len(labels)\n",
    "                max_len = np.max(self.clusters)\n",
    "                mask = self.clusters == 0\n",
    "            self.clusters[mask] = cl.fit_predict(X[mask])+max_len\n",
    "            \n",
    "        return self.clusters"
   ]
  },
  {
   "cell_type": "code",
   "execution_count": 5,
   "metadata": {
    "_uuid": "70612062632493a78bec5bd5c69c5d4d523b8b83"
   },
   "outputs": [],
   "source": [
    "path_to_test = \"./data/test\"\n",
    "filename = \"dbscan_outliers\"\n",
    "eps = 0.0035\n",
    "dz0 = -0.00070\n",
    "stepdz = 0.00001\n",
    "stepeps = 0.000002\n",
    "\n",
    "def one_loop(event_id):\n",
    "    hits  = pd.read_csv(path_to_test + '/event%s-hits.csv'%event_id)\n",
    "    cells = pd.read_csv(path_to_test + '/event%s-cells.csv'%event_id)\n",
    "    print('Event ID: ', event_id)\n",
    "                \n",
    "    # Track pattern recognition \n",
    "    model = Clusterer()\n",
    "    labels = model.predict(hits)\n",
    "\n",
    "    # Prepare submission for an event\n",
    "    one_submission = create_one_event_submission(event_id, hits, labels)\n",
    "    one_submission.to_csv('./%09d.dbscan_outliers_tuned.csv.gz'%int(event_id), index=False, compression='gzip')\n",
    "            \n",
    "    return one_submission\n",
    "\n",
    "def create_test_submissions(path_to_test = \"./data/test\", start=0, end=125):\n",
    "    event_ids = [ '%09d'%i for i in range(start,end) ]\n",
    "\n",
    "    pool = Pool(processes=14)\n",
    "    results = pool.map(one_loop, event_ids)\n",
    "    pool.close()\n",
    "    \n",
    "    return results"
   ]
  },
  {
   "cell_type": "code",
   "execution_count": null,
   "metadata": {},
   "outputs": [
    {
     "name": "stdout",
     "output_type": "stream",
     "text": [
      "Event ID:  000000033\n",
      "Event ID:  000000015\n",
      "Event ID:  000000012\n",
      "Event ID:  000000006\n",
      "Event ID:  000000003\n",
      "Event ID:  000000018\n",
      "Event ID:  000000030\n",
      "Event ID:  000000036\n",
      "Event ID:  000000021\n",
      "Event ID:  000000009\n",
      "Event ID:  000000027\n",
      "Event ID:  000000039\n",
      "Event ID:  000000024\n",
      "Event ID:  000000000\n"
     ]
    },
    {
     "data": {
      "application/vnd.jupyter.widget-view+json": {
       "model_id": "512d77c1166043b9ad8d1e5fc4f86f44",
       "version_major": 2,
       "version_minor": 0
      },
      "text/plain": [
       "HBox(children=(IntProgress(value=0, max=29828), HTML(value='')))"
      ]
     },
     "metadata": {},
     "output_type": "display_data"
    },
    {
     "name": "stdout",
     "output_type": "stream",
     "text": [
      "\n"
     ]
    },
    {
     "name": "stderr",
     "output_type": "stream",
     "text": [
      "/home/skooch/.local/lib/python3.5/site-packages/sklearn/externals/joblib/parallel.py:547: UserWarning: Multiprocessing-backed parallel loops cannot be nested, setting n_jobs=1\n",
      "  **self._backend_args)\n"
     ]
    },
    {
     "data": {
      "application/vnd.jupyter.widget-view+json": {
       "model_id": "4cc29e9f195a4280946e1a78a005febd",
       "version_major": 2,
       "version_minor": 0
      },
      "text/plain": [
       "HBox(children=(IntProgress(value=0, max=33245), HTML(value='')))"
      ]
     },
     "metadata": {},
     "output_type": "display_data"
    },
    {
     "name": "stdout",
     "output_type": "stream",
     "text": [
      "Event ID:  000000034\n",
      "\n"
     ]
    },
    {
     "name": "stderr",
     "output_type": "stream",
     "text": [
      "/home/skooch/.local/lib/python3.5/site-packages/sklearn/externals/joblib/parallel.py:547: UserWarning: Multiprocessing-backed parallel loops cannot be nested, setting n_jobs=1\n",
      "  **self._backend_args)\n"
     ]
    },
    {
     "data": {
      "application/vnd.jupyter.widget-view+json": {
       "model_id": "3bb3e1a0e7664bb5bddfaa09d4e2c679",
       "version_major": 2,
       "version_minor": 0
      },
      "text/plain": [
       "HBox(children=(IntProgress(value=0, max=31150), HTML(value='')))"
      ]
     },
     "metadata": {},
     "output_type": "display_data"
    },
    {
     "data": {
      "application/vnd.jupyter.widget-view+json": {
       "model_id": "b8f9ba8452c545bab1aca2ad6d7295d9",
       "version_major": 2,
       "version_minor": 0
      },
      "text/plain": [
       "HBox(children=(IntProgress(value=0, max=35406), HTML(value='')))"
      ]
     },
     "metadata": {},
     "output_type": "display_data"
    },
    {
     "name": "stdout",
     "output_type": "stream",
     "text": [
      "\n",
      "Event ID:  000000019\n"
     ]
    },
    {
     "name": "stderr",
     "output_type": "stream",
     "text": [
      "/home/skooch/.local/lib/python3.5/site-packages/sklearn/externals/joblib/parallel.py:547: UserWarning: Multiprocessing-backed parallel loops cannot be nested, setting n_jobs=1\n",
      "  **self._backend_args)\n"
     ]
    },
    {
     "name": "stdout",
     "output_type": "stream",
     "text": [
      "\n",
      "Event ID:  000000016\n"
     ]
    },
    {
     "name": "stderr",
     "output_type": "stream",
     "text": [
      "/home/skooch/.local/lib/python3.5/site-packages/sklearn/externals/joblib/parallel.py:547: UserWarning: Multiprocessing-backed parallel loops cannot be nested, setting n_jobs=1\n",
      "  **self._backend_args)\n"
     ]
    },
    {
     "name": "stdout",
     "output_type": "stream",
     "text": [
      "Event ID:  000000022\n"
     ]
    },
    {
     "data": {
      "application/vnd.jupyter.widget-view+json": {
       "model_id": "a6cef6e503b34fd48566c0e41c0b6fb9",
       "version_major": 2,
       "version_minor": 0
      },
      "text/plain": [
       "HBox(children=(IntProgress(value=0, max=33662), HTML(value='')))"
      ]
     },
     "metadata": {},
     "output_type": "display_data"
    },
    {
     "data": {
      "application/vnd.jupyter.widget-view+json": {
       "model_id": "692d26e4304c4864801e09e8c510bbc7",
       "version_major": 2,
       "version_minor": 0
      },
      "text/plain": [
       "HBox(children=(IntProgress(value=0, max=37058), HTML(value='')))"
      ]
     },
     "metadata": {},
     "output_type": "display_data"
    },
    {
     "name": "stdout",
     "output_type": "stream",
     "text": [
      "\n"
     ]
    },
    {
     "name": "stderr",
     "output_type": "stream",
     "text": [
      "/home/skooch/.local/lib/python3.5/site-packages/sklearn/externals/joblib/parallel.py:547: UserWarning: Multiprocessing-backed parallel loops cannot be nested, setting n_jobs=1\n",
      "  **self._backend_args)\n"
     ]
    },
    {
     "name": "stdout",
     "output_type": "stream",
     "text": [
      "\n"
     ]
    },
    {
     "name": "stderr",
     "output_type": "stream",
     "text": [
      "/home/skooch/.local/lib/python3.5/site-packages/sklearn/externals/joblib/parallel.py:547: UserWarning: Multiprocessing-backed parallel loops cannot be nested, setting n_jobs=1\n",
      "  **self._backend_args)\n"
     ]
    },
    {
     "data": {
      "application/vnd.jupyter.widget-view+json": {
       "model_id": "3570f393a45d4f939e771f7f55cb01b5",
       "version_major": 2,
       "version_minor": 0
      },
      "text/plain": [
       "HBox(children=(IntProgress(value=0, max=37735), HTML(value='')))"
      ]
     },
     "metadata": {},
     "output_type": "display_data"
    },
    {
     "name": "stdout",
     "output_type": "stream",
     "text": [
      "Event ID:  000000028\n"
     ]
    },
    {
     "data": {
      "application/vnd.jupyter.widget-view+json": {
       "model_id": "bd8be220189b4e9a99d1378f448e7c7a",
       "version_major": 2,
       "version_minor": 0
      },
      "text/plain": [
       "HBox(children=(IntProgress(value=0, max=34966), HTML(value='')))"
      ]
     },
     "metadata": {},
     "output_type": "display_data"
    },
    {
     "name": "stdout",
     "output_type": "stream",
     "text": [
      "\n",
      "Event ID:  000000031\n"
     ]
    },
    {
     "name": "stderr",
     "output_type": "stream",
     "text": [
      "/home/skooch/.local/lib/python3.5/site-packages/sklearn/externals/joblib/parallel.py:547: UserWarning: Multiprocessing-backed parallel loops cannot be nested, setting n_jobs=1\n",
      "  **self._backend_args)\n"
     ]
    },
    {
     "name": "stdout",
     "output_type": "stream",
     "text": [
      "\n"
     ]
    },
    {
     "name": "stderr",
     "output_type": "stream",
     "text": [
      "/home/skooch/.local/lib/python3.5/site-packages/sklearn/externals/joblib/parallel.py:547: UserWarning: Multiprocessing-backed parallel loops cannot be nested, setting n_jobs=1\n",
      "  **self._backend_args)\n"
     ]
    },
    {
     "name": "stdout",
     "output_type": "stream",
     "text": [
      "Event ID:  000000010\n",
      "Event ID:  000000013\n"
     ]
    },
    {
     "data": {
      "application/vnd.jupyter.widget-view+json": {
       "model_id": "ba0899b8b10b45c59604272f9017559f",
       "version_major": 2,
       "version_minor": 0
      },
      "text/plain": [
       "HBox(children=(IntProgress(value=0, max=36011), HTML(value='')))"
      ]
     },
     "metadata": {},
     "output_type": "display_data"
    },
    {
     "data": {
      "application/vnd.jupyter.widget-view+json": {
       "model_id": "00fbbc8a8333427b934eb086791ae630",
       "version_major": 2,
       "version_minor": 0
      },
      "text/plain": [
       "HBox(children=(IntProgress(value=0, max=36418), HTML(value='')))"
      ]
     },
     "metadata": {},
     "output_type": "display_data"
    },
    {
     "name": "stdout",
     "output_type": "stream",
     "text": [
      "\n",
      "\n"
     ]
    },
    {
     "name": "stderr",
     "output_type": "stream",
     "text": [
      "/home/skooch/.local/lib/python3.5/site-packages/sklearn/externals/joblib/parallel.py:547: UserWarning: Multiprocessing-backed parallel loops cannot be nested, setting n_jobs=1\n",
      "  **self._backend_args)\n",
      "/home/skooch/.local/lib/python3.5/site-packages/sklearn/externals/joblib/parallel.py:547: UserWarning: Multiprocessing-backed parallel loops cannot be nested, setting n_jobs=1\n",
      "  **self._backend_args)\n"
     ]
    },
    {
     "data": {
      "application/vnd.jupyter.widget-view+json": {
       "model_id": "843bc92fc009491baeeec510c77b79bb",
       "version_major": 2,
       "version_minor": 0
      },
      "text/plain": [
       "HBox(children=(IntProgress(value=0, max=36917), HTML(value='')))"
      ]
     },
     "metadata": {},
     "output_type": "display_data"
    },
    {
     "name": "stdout",
     "output_type": "stream",
     "text": [
      "Event ID:  000000007\n",
      "\n",
      "Event ID:  000000004\n"
     ]
    },
    {
     "name": "stderr",
     "output_type": "stream",
     "text": [
      "/home/skooch/.local/lib/python3.5/site-packages/sklearn/externals/joblib/parallel.py:547: UserWarning: Multiprocessing-backed parallel loops cannot be nested, setting n_jobs=1\n",
      "  **self._backend_args)\n"
     ]
    },
    {
     "data": {
      "application/vnd.jupyter.widget-view+json": {
       "model_id": "848a70b4651c4be1b1dffb5531ed2923",
       "version_major": 2,
       "version_minor": 0
      },
      "text/plain": [
       "HBox(children=(IntProgress(value=0, max=38609), HTML(value='')))"
      ]
     },
     "metadata": {},
     "output_type": "display_data"
    },
    {
     "name": "stdout",
     "output_type": "stream",
     "text": [
      "Event ID:  000000037\n",
      "\n"
     ]
    },
    {
     "name": "stderr",
     "output_type": "stream",
     "text": [
      "/home/skooch/.local/lib/python3.5/site-packages/sklearn/externals/joblib/parallel.py:547: UserWarning: Multiprocessing-backed parallel loops cannot be nested, setting n_jobs=1\n",
      "  **self._backend_args)\n"
     ]
    },
    {
     "data": {
      "application/vnd.jupyter.widget-view+json": {
       "model_id": "a1ffb0a47f4a4875b81715ce04f29387",
       "version_major": 2,
       "version_minor": 0
      },
      "text/plain": [
       "HBox(children=(IntProgress(value=0, max=39047), HTML(value='')))"
      ]
     },
     "metadata": {},
     "output_type": "display_data"
    },
    {
     "name": "stdout",
     "output_type": "stream",
     "text": [
      "Event ID:  000000025\n",
      "\n"
     ]
    },
    {
     "name": "stderr",
     "output_type": "stream",
     "text": [
      "/home/skooch/.local/lib/python3.5/site-packages/sklearn/externals/joblib/parallel.py:547: UserWarning: Multiprocessing-backed parallel loops cannot be nested, setting n_jobs=1\n",
      "  **self._backend_args)\n"
     ]
    },
    {
     "data": {
      "application/vnd.jupyter.widget-view+json": {
       "model_id": "d8ac71a615984fa59666c577eb7f698e",
       "version_major": 2,
       "version_minor": 0
      },
      "text/plain": [
       "HBox(children=(IntProgress(value=0, max=39805), HTML(value='')))"
      ]
     },
     "metadata": {},
     "output_type": "display_data"
    },
    {
     "name": "stdout",
     "output_type": "stream",
     "text": [
      "Event ID:  000000001\n",
      "\n"
     ]
    },
    {
     "name": "stderr",
     "output_type": "stream",
     "text": [
      "/home/skooch/.local/lib/python3.5/site-packages/sklearn/externals/joblib/parallel.py:547: UserWarning: Multiprocessing-backed parallel loops cannot be nested, setting n_jobs=1\n",
      "  **self._backend_args)\n"
     ]
    },
    {
     "name": "stdout",
     "output_type": "stream",
     "text": [
      "Event ID:  000000040\n"
     ]
    }
   ],
   "source": [
    "_ = create_test_submissions(start=0)"
   ]
  },
  {
   "cell_type": "code",
   "execution_count": null,
   "metadata": {
    "_uuid": "c0bcf488d3b05ba63ad0b15b13db62b445ddbe3b"
   },
   "outputs": [],
   "source": []
  },
  {
   "cell_type": "code",
   "execution_count": 10,
   "metadata": {},
   "outputs": [
    {
     "name": "stdout",
     "output_type": "stream",
     "text": [
      "13741466\n"
     ]
    }
   ],
   "source": [
    "event_ids = [ i for i in range(0,125) ]\n",
    "submissions = []\n",
    "for i,event_id in enumerate(event_ids):\n",
    "    submission  = pd.read_csv('./%09d.dbscan_outliers_tuned.csv.gz'%event_id, compression='gzip')\n",
    "    submissions.append(submission)\n",
    "\n",
    "# Create submission file\n",
    "submission = pd.concat(submissions, axis=0)\n",
    "submission.to_csv('20180719_dbscan_optimized_3.csv.gz', index=False, compression='gzip')\n",
    "print(len(submission))"
   ]
  },
  {
   "cell_type": "code",
   "execution_count": null,
   "metadata": {},
   "outputs": [],
   "source": []
  },
  {
   "cell_type": "code",
   "execution_count": null,
   "metadata": {
    "_cell_guid": "2b20cf0c-2754-48dd-ab1e-4f489c2aa05c",
    "_uuid": "7f8de52b9022581bf10aa813d2db005b842f0be7",
    "scrolled": true
   },
   "outputs": [
    {
     "data": {
      "application/vnd.jupyter.widget-view+json": {
       "model_id": "4118ac14f20c4bd4bb5df8588978f884",
       "version_major": 2,
       "version_minor": 0
      },
      "text/plain": [
       "HBox(children=(IntProgress(value=0, max=93), HTML(value='')))"
      ]
     },
     "metadata": {},
     "output_type": "display_data"
    },
    {
     "name": "stdout",
     "output_type": "stream",
     "text": [
      "\n",
      "Score for event 1050: 0.25598962\n"
     ]
    },
    {
     "data": {
      "application/vnd.jupyter.widget-view+json": {
       "model_id": "bc1492c57e344b1eb586f528823b32fa",
       "version_major": 2,
       "version_minor": 0
      },
      "text/plain": [
       "HBox(children=(IntProgress(value=0, max=75), HTML(value='')))"
      ]
     },
     "metadata": {},
     "output_type": "display_data"
    },
    {
     "name": "stdout",
     "output_type": "stream",
     "text": [
      "\n",
      "Score for event 1051: 0.25233863\n"
     ]
    }
   ],
   "source": [
    "dataset_submissions = []\n",
    "dataset_scores = []\n",
    "for event_id, hits, cells, particles, truth in load_dataset(path_to_train, skip=50, nevents=5):\n",
    "    # Track pattern recognition\n",
    "    model = Clusterer(eps=0.0035)\n",
    "    labels = model.predict(hits)\n",
    "\n",
    "    # Prepare submission for an event\n",
    "    one_submission = create_one_event_submission(event_id, hits, labels)\n",
    "    dataset_submissions.append(one_submission)\n",
    "\n",
    "    # Score for the event\n",
    "    score = score_event(truth, one_submission)\n",
    "    dataset_scores.append(score)\n",
    "\n",
    "    print(\"Score for event %d: %.8f\" % (event_id, score))\n",
    "print('Mean score: %.8f' % (np.mean(dataset_scores)))"
   ]
  },
  {
   "cell_type": "code",
   "execution_count": null,
   "metadata": {},
   "outputs": [],
   "source": []
  }
 ],
 "metadata": {
  "anaconda-cloud": {},
  "kernelspec": {
   "display_name": "Python 3",
   "language": "python",
   "name": "python3"
  },
  "language_info": {
   "codemirror_mode": {
    "name": "ipython",
    "version": 3
   },
   "file_extension": ".py",
   "mimetype": "text/x-python",
   "name": "python",
   "nbconvert_exporter": "python",
   "pygments_lexer": "ipython3",
   "version": "3.5.2"
  }
 },
 "nbformat": 4,
 "nbformat_minor": 1
}
